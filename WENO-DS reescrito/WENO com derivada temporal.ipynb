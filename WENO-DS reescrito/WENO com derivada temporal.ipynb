{
 "cells": [
  {
   "cell_type": "code",
   "execution_count": null,
   "id": "a7411a27",
   "metadata": {},
   "outputs": [],
   "source": [
    "# Importando os módulos que serão utilizados\n",
    "\n",
    "import tensorflow as tf\n",
    "import numpy as np\n",
    "import tensorflow.keras as keras\n",
    "import matplotlib.pyplot as plt\n",
    "import time\n",
    "import dill\n",
    "\n",
    "# Configurando o acesso do tensorflow aos processadores do computador\n",
    "# no caso, está sendo selecionada a primeira placa de vídeo listada\n",
    "\n",
    "gpus = tf.config.experimental.list_physical_devices('GPU') # Listando as placas de vídeo\n",
    "tf.config.experimental.set_memory_growth(gpus[0], True)    # Selecionando a primeira GPU e configurando\n",
    "\n",
    "# Importando os módulos contendo as funções criadas no projeto\n",
    "\n",
    "from aux_func_V3 import *\n",
    "import API_Numpy\n",
    "import API_TensorFlow"
   ]
  },
  {
   "cell_type": "code",
   "execution_count": null,
   "id": "1253c68f",
   "metadata": {},
   "outputs": [],
   "source": [
    "Δx=0.05\n",
    "CFL=0.5"
   ]
  },
  {
   "cell_type": "code",
   "execution_count": null,
   "id": "824b9272",
   "metadata": {},
   "outputs": [],
   "source": [
    "Sim, Sim_step, DerivadaEspacial, Get_weights=create_simulation(API_Numpy,burgers_equation,WENO_Z)\n",
    "WENO_Z_ref=lambda u0, Δx:Sim(u0,Δx*CFL, Δx, CFL, FronteiraFixa)"
   ]
  },
  {
   "cell_type": "code",
   "execution_count": null,
   "id": "c20885af",
   "metadata": {},
   "outputs": [],
   "source": [
    "with open('datasets\\\\Dados temporais.bkp','rb') as file:\n",
    "    y,dy=dill.load(file)"
   ]
  },
  {
   "cell_type": "code",
   "execution_count": null,
   "id": "e067dab2",
   "metadata": {},
   "outputs": [],
   "source": [
    "indice = np.arange(y.shape[0])\n",
    "np.random.shuffle(indice)\n",
    "data_x = y.astype('float64')[indice]\n",
    "data_y = dy.astype('float64')[indice]"
   ]
  },
  {
   "cell_type": "code",
   "execution_count": null,
   "id": "9f438047",
   "metadata": {},
   "outputs": [],
   "source": [
    "# Conjunto de dados de treino\n",
    "train_x = data_x[:-20000]\n",
    "train_y = data_y[:-20000]\n",
    "\n",
    "# Conjunto de dados de validação\n",
    "test_x = data_x[-20000:]\n",
    "test_y = data_y[-20000:]"
   ]
  },
  {
   "cell_type": "code",
   "execution_count": null,
   "id": "3a8a5252",
   "metadata": {},
   "outputs": [],
   "source": [
    "# Criando uma camada de Burgers que integra o WENO à rede neural\n",
    "Sim_layer = WENO_temporal(Δx, CFL, Δx*CFL, FronteiraFixa,burgers_equation,WENO_JS)\n",
    "WENO_network=tf.function(lambda u0, Δx:Sim_layer.Sim(u0,Δx*CFL, Δx, CFL, FronteiraFixa))"
   ]
  },
  {
   "cell_type": "code",
   "execution_count": null,
   "id": "c30123b5",
   "metadata": {},
   "outputs": [],
   "source": [
    "# Definindo o input da rede e o otimizador de treino\n",
    "input_x   = keras.layers.Input([train_x.shape[1]], dtype='float64')\n",
    "optimizer = keras.optimizers.Adam(learning_rate=10**-3, beta_1=0.9, beta_2=0.999, clipnorm=1.0)\n",
    "\n",
    "# Criando a rede neural\n",
    "Network = keras.Model(input_x, Sim_layer(input_x))\n",
    "# Configurando a função de perda e o otimizador\n",
    "Network.compile(loss=MES_OF(), optimizer=optimizer, metrics=['mean_absolute_error'])\n",
    "# Carregando os pesos da rede neural treinados\n",
    "#Network.load_weights('Modelo artigo')"
   ]
  },
  {
   "cell_type": "code",
   "execution_count": null,
   "id": "3ce807ef",
   "metadata": {},
   "outputs": [],
   "source": [
    "# Treinando a rede neural\n",
    "Network.fit(\n",
    "    train_x                           , # Dados de treino\n",
    "    train_y                           , # Dados de treino\n",
    "    validation_data = (test_x, test_y), # Dados de validação\n",
    "    batch_size      = 1024            , # Tamanho do batch\n",
    "    epochs          = 100             , # Número de epochs\n",
    "    steps_per_epoch = 300             , # Número de batchs por epoch\n",
    "    shuffle         = True              # Aleatorização dos batchs\n",
    ")\n",
    "\n",
    "# Batch: pacote de dados utilizados antes de uma atualização dos pesos da rede\n",
    "# Epoch: rodada de treino da rede neural, em geral percorre todo o conjunto de dados"
   ]
  },
  {
   "cell_type": "code",
   "execution_count": null,
   "id": "f20e95ca",
   "metadata": {},
   "outputs": [],
   "source": [
    "# Salvando os pesos treinados\n",
    "Network.save_weights('Modelos treinados\\\\Modelo Rede temporal - 1')"
   ]
  },
  {
   "cell_type": "code",
   "execution_count": null,
   "id": "3cfebda1",
   "metadata": {},
   "outputs": [],
   "source": [
    "# Carregando os pesos treinados\n",
    "Network.load_weights('Modelos treinados\\\\Modelo Rede temporal - 1')"
   ]
  },
  {
   "cell_type": "code",
   "execution_count": null,
   "id": "82b4a473",
   "metadata": {},
   "outputs": [],
   "source": [
    "# Calculando os erros de previsão utilizando o WENO-Z em uma malha mais fina \n",
    "# como solução de referência e depois calculando o WENO-Z e o WENO-Z com a \n",
    "# modificação da rede neural numa malha mais grossa\n",
    "Δx_ref = 0.01\n",
    "Δx = Δx_ref                                # Distância espacial dos pontos na malha mais grossa utilizada\n",
    "x  = tf.range(-1, 1, Δx, dtype=float_pres) # Gerando a malha de pontos no espaço unidimensional\n",
    "                             # Distância espacial dos pontos na malha utilizada\n",
    "\n",
    "# Condição inicial do artigo do WENO-Z\n",
    "#-------------------------------------------------------------------------------------------\n",
    "# Função definida no artigo\n",
    "f_test = lambda x: -(-tf.math.sin(np.pi*x) - 0.5 * x**3 + \\\n",
    "    tf.where(x < 0, tf.constant(0.0, dtype=float_pres), tf.constant(1.0, dtype=float_pres)))\n",
    "\n",
    "full_U=tf.expand_dims(f_test(x),axis=0)\n",
    "\n",
    "net_u   = WENO_network(full_U)"
   ]
  },
  {
   "cell_type": "code",
   "execution_count": null,
   "id": "4883dd79",
   "metadata": {},
   "outputs": [],
   "source": [
    "# Calculando os erros de previsão utilizando o WENO-Z em uma malha mais fina \n",
    "# como solução de referência e depois calculando o WENO-Z e o WENO-Z com a \n",
    "# modificação da rede neural numa malha mais grossa\n",
    "\n",
    "k=1\n",
    "\n",
    "Δx = Δx_ref/k                              # Distância espacial dos pontos na malha mais grossa utilizada\n",
    "x  = tf.range(-1, 1, Δx, dtype=float_pres) # Gerando a malha de pontos no espaço unidimensional\n",
    "                             # Distância espacial dos pontos na malha utilizada\n",
    "# Condição inicial do artigo do WENO-Z\n",
    "\n",
    "full_U=tf.expand_dims(f_test(x),axis=0)\n",
    "\n",
    "debug_u   = WENO_Z_ref(full_U,Δx)         # Previsão com o WENO-Z modificado pela rede neural"
   ]
  },
  {
   "cell_type": "code",
   "execution_count": null,
   "id": "f1cece48",
   "metadata": {},
   "outputs": [],
   "source": [
    "# Calculando os erros de previsão utilizando o WENO-Z em uma malha mais fina \n",
    "# como solução de referência e depois calculando o WENO-Z e o WENO-Z com a \n",
    "# modificação da rede neural numa malha mais grossa\n",
    "\n",
    "k=2\n",
    "\n",
    "Δx = Δx_ref/k                               # Distância espacial dos pontos na malha mais grossa utilizada\n",
    "x  = tf.range(-1, 1, Δx, dtype=float_pres) # Gerando a malha de pontos no espaço unidimensional\n",
    "                             # Distância espacial dos pontos na malha utilizada\n",
    "\n",
    "full_U=tf.expand_dims(f_test(x),axis=0)\n",
    "\n",
    "ref_full   = tf.gather(WENO_Z_ref(full_U,Δx),np.arange(net_u.shape[-1])*k,axis=-1)             # Previsão com o WENO-Z modificado pela rede neural\n",
    "\n",
    "# Armazenando ambos os erros de previsão\n",
    "error = tf.stack([net_u-ref_full,debug_u-ref_full],axis=0)\n",
    "error = tf.squeeze(error)"
   ]
  },
  {
   "cell_type": "code",
   "execution_count": null,
   "id": "827c8c2d",
   "metadata": {},
   "outputs": [],
   "source": [
    "# Calculando média dos erros de acordo com a norma L2, L1 ou L-inf\n",
    "\n",
    "# Norma L2:\n",
    "#--------------------------------------------------------------------------------------\n",
    "desv_error = tf.math.reduce_sum(error**2, axis=-1)**0.5\n",
    "#--------------------------------------------------------------------------------------\n",
    "print('L2:')\n",
    "# Erro médio para a rede neural e o WENO-Z (respectivamente)\n",
    "print(desv_error.numpy())\n",
    "# Diferença entre os erros (WENO-Z - rede neural)\n",
    "# print((desv_error[1]-desv_error[0]).numpy())\n",
    "# Razão entre os erros (rede neural/WENO-Z)\n",
    "print((desv_error[0]/desv_error[1]).numpy())\n",
    "print('\\n')\n",
    "\n",
    "# Norma L1:\n",
    "#--------------------------------------------------------------------------------------\n",
    "desv_error = tf.math.reduce_sum(tf.abs(error), axis=-1)\n",
    "#--------------------------------------------------------------------------------------\n",
    "print('L1:')\n",
    "# Erro médio para a rede neural e o WENO-Z (respectivamente)\n",
    "print(desv_error.numpy())\n",
    "# Diferença entre os erros (WENO-Z - rede neural)\n",
    "# print((desv_error[1]-desv_error[0]).numpy())\n",
    "# Razão entre os erros (rede neural/WENO-Z)\n",
    "print((desv_error[0]/desv_error[1]).numpy())\n",
    "print('\\n')\n",
    "\n",
    "# Noma L-inf:\n",
    "#-------------------------------------------------------------------------------------\n",
    "desv_error = tf.math.reduce_max(tf.abs(error), axis=-1)\n",
    "#--------------------------------------------------------------------------------------\n",
    "print('L-inf:')\n",
    "# Erro médio para a rede neural e o WENO-Z (respectivamente)\n",
    "print(desv_error.numpy())\n",
    "# Diferença entre os erros (WENO-Z - rede neural)\n",
    "# print((desv_error[1]-desv_error[0]).numpy())\n",
    "# Razão entre os erros (rede neural/WENO-Z)\n",
    "print((desv_error[0]/desv_error[1]).numpy())"
   ]
  },
  {
   "cell_type": "code",
   "execution_count": null,
   "id": "6bc578b4",
   "metadata": {},
   "outputs": [],
   "source": [
    "Sim, Sim_step, DerivadaEspacial, Get_weights=create_simulation(API_Numpy,transp_equation,WENO_Z)\n",
    "WENO_Z_ref=lambda u0, Δx:DerivadaEspacial(u0,Δx, FronteiraFixa)"
   ]
  },
  {
   "cell_type": "code",
   "execution_count": null,
   "id": "135caa4d",
   "metadata": {},
   "outputs": [],
   "source": [
    "Δx_ref = 0.01\n",
    "\n",
    "def f(x):\n",
    "    return np.sin(np.pi*x)\n",
    "\n",
    "def df(x):\n",
    "    return np.pi*np.cos(np.pi*x)\n"
   ]
  },
  {
   "cell_type": "code",
   "execution_count": null,
   "id": "09fb5eb2",
   "metadata": {},
   "outputs": [],
   "source": [
    "Δx1 = Δx_ref\n",
    "x1  = np.arange(-1, 1, Δx1)\n",
    "x1  = np.expand_dims(x1,0)\n",
    "u1  = f(x1)\n",
    "du1 = df(x1)\n",
    "y1=WENO_network(u1, Δx1)\n",
    "\n",
    "print(u1.shape)"
   ]
  },
  {
   "cell_type": "code",
   "execution_count": null,
   "id": "64759e25",
   "metadata": {},
   "outputs": [],
   "source": [
    "Δx2 = Δx_ref/2\n",
    "x2  = np.arange(-1, 1, Δx2)\n",
    "x2  = np.expand_dims(x2,0)\n",
    "u2  = f(x2)\n",
    "du2 = df(x2)\n",
    "y2=WENO_network(u2, Δx2)\n",
    "\n",
    "print(u2.shape)"
   ]
  },
  {
   "cell_type": "code",
   "execution_count": null,
   "id": "e28840fe",
   "metadata": {},
   "outputs": [],
   "source": [
    "# Gerando os gráficos a partir de funções do matplotlib\n",
    "\n",
    "print(np.sum(abs(y1 - du1))/np.sum(abs(y2 - du2)))"
   ]
  },
  {
   "cell_type": "code",
   "execution_count": null,
   "id": "25d9ddea",
   "metadata": {},
   "outputs": [],
   "source": []
  }
 ],
 "metadata": {
  "kernelspec": {
   "display_name": "Python 3",
   "language": "python",
   "name": "python3"
  },
  "language_info": {
   "codemirror_mode": {
    "name": "ipython",
    "version": 3
   },
   "file_extension": ".py",
   "mimetype": "text/x-python",
   "name": "python",
   "nbconvert_exporter": "python",
   "pygments_lexer": "ipython3",
   "version": "3.8.10"
  },
  "widgets": {
   "application/vnd.jupyter.widget-state+json": {
    "state": {},
    "version_major": 2,
    "version_minor": 0
   }
  }
 },
 "nbformat": 4,
 "nbformat_minor": 5
}
