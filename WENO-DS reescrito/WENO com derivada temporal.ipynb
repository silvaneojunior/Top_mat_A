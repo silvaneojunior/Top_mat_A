{
 "cells": [
  {
   "cell_type": "code",
   "execution_count": 1,
   "id": "a7411a27",
   "metadata": {},
   "outputs": [],
   "source": [
    "# Importando os módulos que serão utilizados\n",
    "\n",
    "import tensorflow as tf\n",
    "import numpy as np\n",
    "import tensorflow.keras as keras\n",
    "import matplotlib.pyplot as plt\n",
    "import time\n",
    "import dill\n",
    "\n",
    "# Configurando o acesso do tensorflow aos processadores do computador\n",
    "# no caso, está sendo selecionada a primeira placa de vídeo listada\n",
    "\n",
    "gpus = tf.config.experimental.list_physical_devices('GPU') # Listando as placas de vídeo\n",
    "tf.config.experimental.set_memory_growth(gpus[0], True)    # Selecionando a primeira GPU e configurando\n",
    "\n",
    "# Importando os módulos contendo as funções criadas no projeto\n",
    "\n",
    "from aux_func_V3 import *\n",
    "import API_Numpy\n",
    "import API_TensorFlow"
   ]
  },
  {
   "cell_type": "code",
   "execution_count": 2,
   "id": "c20885af",
   "metadata": {},
   "outputs": [],
   "source": [
    "with open('datasets\\\\Dados temporais Tatiana transp.bkp','rb') as file:\n",
    "     Δx=2/128\n",
    "     CFL=0.5\n",
    "     Δt=0.4/100\n",
    "     fronteria=FronteiraPeriodica\n",
    "     y=dill.load(file)\n",
    "     equation=transp_equation\n",
    "# with open('datasets\\\\Dados temporais 4.bkp','rb') as file:\n",
    "#      data_dict=dill.load(file)\n",
    "#      y=data_dict['data']\n",
    "#      Δx=data_dict['Δx']*data_dict['granul_x']\n",
    "#      CFL=0.5\n",
    "#      Δt=data_dict['Δt']*data_dict['granul_t']\n",
    "#      fronteria=data_dict['Fronteira']"
   ]
  },
  {
   "cell_type": "code",
   "execution_count": 3,
   "id": "b02b9795",
   "metadata": {},
   "outputs": [
    {
     "data": {
      "text/plain": [
       "(150, 101, 128)"
      ]
     },
     "execution_count": 3,
     "metadata": {},
     "output_type": "execute_result"
    }
   ],
   "source": [
    "y.shape"
   ]
  },
  {
   "cell_type": "code",
   "execution_count": 4,
   "id": "f30b2f1b",
   "metadata": {},
   "outputs": [
    {
     "name": "stdout",
     "output_type": "stream",
     "text": [
      "6.4e-08\n",
      "9.313225746154785e-10\n"
     ]
    }
   ],
   "source": [
    "print(Δt**3)\n",
    "print(Δx**5)"
   ]
  },
  {
   "cell_type": "code",
   "execution_count": 5,
   "id": "e749dc7c",
   "metadata": {},
   "outputs": [],
   "source": [
    "def loop_wrapper(func):\n",
    "    def loop_func(u0,Δx):\n",
    "        u=u0+0\n",
    "        for i in range(y.shape[1]-1):\n",
    "            u=func(u,Δx)\n",
    "        return u\n",
    "    return loop_func"
   ]
  },
  {
   "cell_type": "code",
   "execution_count": 6,
   "id": "824b9272",
   "metadata": {},
   "outputs": [],
   "source": [
    "Sim, Sim_step, DerivadaEspacial, Get_weights=create_simulation(API_Numpy,burgersequation_equation,WENO_Z)\n",
    "WENO_Z_ref=lambda u0, Δx:Sim(u0,Δt, Δx, CFL, fronteria)\n",
    "Sim, Sim_step, DerivadaEspacial, Get_weights=create_simulation(API_Numpy,equation,WENO_JS)\n",
    "WENO_JS_ref=lambda u0, Δx:Sim(u0,Δt, Δx, CFL, fronteria)# Criando uma camada de Burgers que integra o WENO à rede neural\n",
    "Sim_layer = WENO_temporal(Δx, CFL, Δt, fronteria,equation,WENO_Z,regul_weight=0,ativ_func=tf.nn.sigmoid,p=2)\n",
    "WENO_network=tf.function(lambda u0, Δx:Sim_layer.Sim(u0,Δt, Δx, CFL, fronteria))"
   ]
  },
  {
   "cell_type": "code",
   "execution_count": 7,
   "id": "f2dc83aa",
   "metadata": {},
   "outputs": [],
   "source": [
    "# Sim, Sim_step, DerivadaEspacial, Get_weights=create_simulation(API_Numpy,burgers_equation,WENO_Z)\n",
    "# WENO_Z_ref=lambda u0, Δx, Δt:Sim(u0,Δt, Δx, CFL, FronteiraPeriodica)\n",
    "# Sim, Sim_step, DerivadaEspacial, Get_weights=create_simulation(API_Numpy,burgers_equation,WENO_JS)\n",
    "# WENO_JS_ref=lambda u0, Δx, Δt:Sim(u0,Δt, Δx, CFL, FronteiraPeriodica)\n",
    "# # Criando uma camada de Burgers que integra o WENO à rede neural\n",
    "# Sim_layer = WENO_temporal(Δx, CFL, Δt, FronteiraFixa,burgers_equation,WENO_JS,regul_weight=0)\n",
    "# WENO_network=tf.function(lambda u0, Δx, Δt:Sim_layer.Sim(u0,Δt, Δx, CFL, FronteiraPeriodica))"
   ]
  },
  {
   "cell_type": "code",
   "execution_count": 7,
   "id": "e067dab2",
   "metadata": {},
   "outputs": [],
   "source": [
    "indice = np.arange(y.shape[0])\n",
    "np.random.shuffle(indice)\n",
    "data_x = y.astype('float64')[indice]\n",
    "data_y = y.astype('float64')[indice]"
   ]
  },
  {
   "cell_type": "code",
   "execution_count": 8,
   "id": "0c79ced1",
   "metadata": {},
   "outputs": [
    {
     "data": {
      "text/plain": [
       "(150, 101, 128)"
      ]
     },
     "execution_count": 8,
     "metadata": {},
     "output_type": "execute_result"
    }
   ],
   "source": [
    "data_y.shape"
   ]
  },
  {
   "cell_type": "code",
   "execution_count": null,
   "id": "6404c8d8",
   "metadata": {},
   "outputs": [],
   "source": [
    "# plt.figure(figsize=(6.4*5,6.4*2))\n",
    "# for i,j in zip(range(5),np.random.randint(0,50,5)):\n",
    "#     plt.subplot(2, 5, i%5+1)\n",
    "#     plt.ylim(-2,2)\n",
    "#     plt.plot(data_x[j,0])\n",
    "#     plt.subplot(2, 5, 5+i%5+1)\n",
    "#     plt.ylim(-2,2)\n",
    "#     plt.plot(data_y[j,100])\n",
    "# plt.savefig('tatiana dataset.png')"
   ]
  },
  {
   "cell_type": "code",
   "execution_count": 9,
   "id": "9f438047",
   "metadata": {},
   "outputs": [],
   "source": [
    "# Conjunto de dados de treino\n",
    "# train_x = data_x[:-40,:-1]\n",
    "# train_y = data_x[:-40,1:]\n",
    "# k=10\n",
    "# data_cutted=np.split(data_x,np.arange(k+1,data_x.shape[1],k+1),axis=1)\n",
    "# data_cutted=np.concatenate([i for i in data_cutted if i.shape[1]==k+1],axis=0)\n",
    "train_x = data_x[:,:-1]\n",
    "train_y = data_y[:,1:]\n",
    "\n",
    "# test_x = data_x[-5000:]\n",
    "# test_y = data_y[-5000:]\n",
    "\n",
    "# Conjunto de dados de validação\n",
    "# test_x = data_x[-40:,:-1]\n",
    "# test_y = data_x[-40:,1:]"
   ]
  },
  {
   "cell_type": "code",
   "execution_count": 10,
   "id": "c30123b5",
   "metadata": {},
   "outputs": [],
   "source": [
    "# Definindo o input da rede e o otimizador de treino\n",
    "input_x   = keras.layers.Input(train_x.shape[1:], dtype='float64')\n",
    "optimizer = keras.optimizers.Adam(learning_rate=0.001, beta_1=0.9, beta_2=0.999, clipnorm=1.0)\n",
    "\n",
    "# ouput_x=input_x\n",
    "# ouput_list=[]\n",
    "# for i in range(train_y.shape[1]):\n",
    "#     ouput_x=Sim_layer(ouput_x)\n",
    "#     ouput_list.append(ouput_x+0)\n",
    "# final_x=tf.stack(ouput_list,axis=1)\n",
    "\n",
    "timely_layer=keras.layers.TimeDistributed(Sim_layer)\n",
    "final_x=timely_layer(input_x)\n",
    "\n",
    "# final_x=Sim_layer(input_x)\n",
    "\n",
    "# Criando a rede neural\n",
    "Network = keras.Model(input_x, final_x)\n",
    "# Configurando a função de perda e o otimizador\n",
    "\n",
    "def metric( y_true, y_pred):\n",
    "        \"\"\"\n",
    "        Função que avalia o custo dado um valor de referência e um valor previsto\n",
    "        --------------------------------------------------------------------------\n",
    "        y_true (tensor): valor de referência\n",
    "        y_pred (tensor): valor predito\n",
    "        --------------------------------------------------------------------------\n",
    "        loss   (tensor): custo associado\n",
    "        --------------------------------------------------------------------------\n",
    "        \"\"\"\n",
    "        y_true = tf.cast(y_true, y_pred.dtype) # Convertendo os tipos para evitar conflitos\n",
    "        \n",
    "        loss = tf.reduce_mean(\n",
    "            tf.math.abs(y_pred - y_true)\n",
    "            )\n",
    "        \n",
    "        return tf.math.log(loss)/np.log(10)\n",
    "\n",
    "class MES_OF(k.losses.Loss):\n",
    "    \"\"\"Criando uma função de custo cuja superclasse é a de funções de\n",
    "    custo do keras\"\"\"\n",
    "    \n",
    "    def call(self, y_true, y_pred):\n",
    "        return metric(y_true, y_pred)\n",
    "\n",
    "Network.compile(loss='MSE', optimizer=optimizer, metrics=['mean_absolute_error',metric])"
   ]
  },
  {
   "cell_type": "code",
   "execution_count": 15,
   "id": "3ce807ef",
   "metadata": {},
   "outputs": [
    {
     "name": "stdout",
     "output_type": "stream",
     "text": [
      "Epoch 1/90\n",
      "38/38 [==============================] - 54s 1s/step - loss: 6.0665e-04 - mean_absolute_error: 0.0015 - metric: -2.8998\n",
      "Epoch 2/90\n",
      "38/38 [==============================] - 61s 2s/step - loss: 6.0662e-04 - mean_absolute_error: 0.0015 - metric: -2.9134\n",
      "Epoch 3/90\n",
      "38/38 [==============================] - 63s 2s/step - loss: 6.0649e-04 - mean_absolute_error: 0.0015 - metric: -2.9016\n",
      "Epoch 4/90\n",
      "38/38 [==============================] - 57s 2s/step - loss: 6.0626e-04 - mean_absolute_error: 0.0015 - metric: -2.8974\n",
      "Epoch 5/90\n",
      "38/38 [==============================] - 52s 1s/step - loss: 6.0616e-04 - mean_absolute_error: 0.0015 - metric: -2.8926\n",
      "Epoch 6/90\n",
      "38/38 [==============================] - 58s 2s/step - loss: 6.0616e-04 - mean_absolute_error: 0.0015 - metric: -2.8991\n",
      "Epoch 7/90\n",
      "38/38 [==============================] - 63s 2s/step - loss: 6.0616e-04 - mean_absolute_error: 0.0015 - metric: -2.9355\n",
      "Epoch 8/90\n",
      "38/38 [==============================] - 64s 2s/step - loss: 6.0613e-04 - mean_absolute_error: 0.0015 - metric: -2.9301\n",
      "Epoch 9/90\n",
      "38/38 [==============================] - 53s 1s/step - loss: 6.0614e-04 - mean_absolute_error: 0.0015 - metric: -2.9003\n",
      "Epoch 10/90\n",
      "38/38 [==============================] - 48s 1s/step - loss: 6.0615e-04 - mean_absolute_error: 0.0015 - metric: -2.9051\n",
      "Epoch 11/90\n",
      "38/38 [==============================] - 47s 1s/step - loss: 6.0616e-04 - mean_absolute_error: 0.0015 - metric: -2.9042\n",
      "Epoch 12/90\n",
      "38/38 [==============================] - 50s 1s/step - loss: 6.0607e-04 - mean_absolute_error: 0.0015 - metric: -2.8963\n",
      "Epoch 13/90\n",
      "38/38 [==============================] - 57s 1s/step - loss: 6.0608e-04 - mean_absolute_error: 0.0015 - metric: -2.8916\n",
      "Epoch 14/90\n",
      "38/38 [==============================] - 63s 2s/step - loss: 6.0608e-04 - mean_absolute_error: 0.0015 - metric: -2.9027\n",
      "Epoch 15/90\n",
      "38/38 [==============================] - 65s 2s/step - loss: 6.0606e-04 - mean_absolute_error: 0.0015 - metric: -2.8799\n",
      "Epoch 16/90\n",
      "38/38 [==============================] - 64s 2s/step - loss: 6.0597e-04 - mean_absolute_error: 0.0015 - metric: -2.9297\n",
      "Epoch 17/90\n",
      "38/38 [==============================] - 65s 2s/step - loss: 6.0588e-04 - mean_absolute_error: 0.0015 - metric: -2.9395\n",
      "Epoch 18/90\n",
      "38/38 [==============================] - 65s 2s/step - loss: 6.0577e-04 - mean_absolute_error: 0.0015 - metric: -2.8653\n",
      "Epoch 19/90\n",
      "38/38 [==============================] - 65s 2s/step - loss: 6.0582e-04 - mean_absolute_error: 0.0015 - metric: -2.9234\n",
      "Epoch 20/90\n",
      "38/38 [==============================] - 65s 2s/step - loss: 6.0586e-04 - mean_absolute_error: 0.0015 - metric: -2.9252\n",
      "Epoch 21/90\n",
      "38/38 [==============================] - 55s 1s/step - loss: 6.0585e-04 - mean_absolute_error: 0.0015 - metric: -2.9091\n",
      "Epoch 22/90\n",
      "38/38 [==============================] - 58s 2s/step - loss: 6.0583e-04 - mean_absolute_error: 0.0015 - metric: -2.9252\n",
      "Epoch 23/90\n",
      "38/38 [==============================] - 64s 2s/step - loss: 6.0581e-04 - mean_absolute_error: 0.0015 - metric: -2.9250\n",
      "Epoch 24/90\n",
      "38/38 [==============================] - 65s 2s/step - loss: 6.0580e-04 - mean_absolute_error: 0.0015 - metric: -2.9149\n",
      "Epoch 25/90\n",
      "38/38 [==============================] - 65s 2s/step - loss: 6.0577e-04 - mean_absolute_error: 0.0015 - metric: -2.9111\n",
      "Epoch 26/90\n",
      "38/38 [==============================] - 65s 2s/step - loss: 6.0573e-04 - mean_absolute_error: 0.0015 - metric: -2.9088\n",
      "Epoch 27/90\n",
      "38/38 [==============================] - 67s 2s/step - loss: 6.0571e-04 - mean_absolute_error: 0.0015 - metric: -2.9033\n",
      "Epoch 28/90\n",
      "38/38 [==============================] - 86s 2s/step - loss: 6.0570e-04 - mean_absolute_error: 0.0015 - metric: -2.9088\n",
      "Epoch 29/90\n",
      "38/38 [==============================] - 88s 2s/step - loss: 6.0569e-04 - mean_absolute_error: 0.0015 - metric: -2.9226\n",
      "Epoch 30/90\n",
      "38/38 [==============================] - 68s 2s/step - loss: 6.0568e-04 - mean_absolute_error: 0.0015 - metric: -2.8906\n",
      "Epoch 31/90\n",
      "38/38 [==============================] - 69s 2s/step - loss: 6.0575e-04 - mean_absolute_error: 0.0015 - metric: -2.9302\n",
      "Epoch 32/90\n",
      "38/38 [==============================] - 69s 2s/step - loss: 6.0573e-04 - mean_absolute_error: 0.0015 - metric: -2.8803\n",
      "Epoch 33/90\n",
      "38/38 [==============================] - 68s 2s/step - loss: 6.0570e-04 - mean_absolute_error: 0.0015 - metric: -2.9483\n",
      "Epoch 34/90\n",
      "38/38 [==============================] - 68s 2s/step - loss: 6.0568e-04 - mean_absolute_error: 0.0015 - metric: -2.9194\n",
      "Epoch 35/90\n",
      "38/38 [==============================] - 67s 2s/step - loss: 6.0567e-04 - mean_absolute_error: 0.0015 - metric: -2.9130\n",
      "Epoch 36/90\n",
      "38/38 [==============================] - 68s 2s/step - loss: 6.0564e-04 - mean_absolute_error: 0.0015 - metric: -2.8928\n",
      "Epoch 37/90\n",
      "38/38 [==============================] - 68s 2s/step - loss: 6.0568e-04 - mean_absolute_error: 0.0015 - metric: -2.8989\n",
      "Epoch 38/90\n",
      "38/38 [==============================] - 68s 2s/step - loss: 6.0568e-04 - mean_absolute_error: 0.0015 - metric: -2.9036\n",
      "Epoch 39/90\n",
      "38/38 [==============================] - 68s 2s/step - loss: 6.0566e-04 - mean_absolute_error: 0.0015 - metric: -2.9184\n",
      "Epoch 40/90\n",
      "38/38 [==============================] - 68s 2s/step - loss: 6.0564e-04 - mean_absolute_error: 0.0015 - metric: -2.9241\n",
      "Epoch 41/90\n",
      "38/38 [==============================] - 69s 2s/step - loss: 6.0569e-04 - mean_absolute_error: 0.0015 - metric: -2.9015\n",
      "Epoch 42/90\n",
      "38/38 [==============================] - 69s 2s/step - loss: 6.0566e-04 - mean_absolute_error: 0.0015 - metric: -2.8795\n",
      "Epoch 43/90\n",
      "38/38 [==============================] - 72s 2s/step - loss: 6.0562e-04 - mean_absolute_error: 0.0015 - metric: -2.8944\n",
      "Epoch 44/90\n",
      "38/38 [==============================] - 75s 2s/step - loss: 6.0558e-04 - mean_absolute_error: 0.0015 - metric: -2.9043\n",
      "Epoch 45/90\n",
      "38/38 [==============================] - 74s 2s/step - loss: 6.0554e-04 - mean_absolute_error: 0.0015 - metric: -2.9025\n",
      "Epoch 46/90\n",
      "38/38 [==============================] - 74s 2s/step - loss: 6.0549e-04 - mean_absolute_error: 0.0015 - metric: -2.9088\n",
      "Epoch 47/90\n",
      "38/38 [==============================] - 70s 2s/step - loss: 6.0548e-04 - mean_absolute_error: 0.0015 - metric: -2.9172\n",
      "Epoch 48/90\n",
      "38/38 [==============================] - 67s 2s/step - loss: 6.0546e-04 - mean_absolute_error: 0.0015 - metric: -2.9143\n",
      "Epoch 49/90\n",
      "38/38 [==============================] - 67s 2s/step - loss: 6.0546e-04 - mean_absolute_error: 0.0015 - metric: -2.9151\n",
      "Epoch 50/90\n",
      "38/38 [==============================] - 68s 2s/step - loss: 6.0548e-04 - mean_absolute_error: 0.0015 - metric: -2.9151\n",
      "Epoch 51/90\n",
      "38/38 [==============================] - 68s 2s/step - loss: 6.0543e-04 - mean_absolute_error: 0.0015 - metric: -2.9457\n",
      "Epoch 52/90\n",
      "38/38 [==============================] - 70s 2s/step - loss: 6.0540e-04 - mean_absolute_error: 0.0015 - metric: -2.8967\n",
      "Epoch 53/90\n",
      "38/38 [==============================] - 70s 2s/step - loss: 6.0538e-04 - mean_absolute_error: 0.0015 - metric: -2.9316\n",
      "Epoch 54/90\n",
      "38/38 [==============================] - 71s 2s/step - loss: 6.0537e-04 - mean_absolute_error: 0.0015 - metric: -2.8871\n",
      "Epoch 55/90\n",
      "38/38 [==============================] - 67s 2s/step - loss: 6.0536e-04 - mean_absolute_error: 0.0015 - metric: -2.9020\n",
      "Epoch 56/90\n",
      "38/38 [==============================] - 66s 2s/step - loss: 6.0535e-04 - mean_absolute_error: 0.0015 - metric: -2.9116\n",
      "Epoch 57/90\n",
      "38/38 [==============================] - 66s 2s/step - loss: 6.0533e-04 - mean_absolute_error: 0.0015 - metric: -2.9091\n",
      "Epoch 58/90\n",
      "38/38 [==============================] - 67s 2s/step - loss: 6.0531e-04 - mean_absolute_error: 0.0015 - metric: -2.9240\n",
      "Epoch 59/90\n",
      "38/38 [==============================] - 68s 2s/step - loss: 6.0526e-04 - mean_absolute_error: 0.0015 - metric: -2.8825\n",
      "Epoch 60/90\n",
      "38/38 [==============================] - 66s 2s/step - loss: 6.0523e-04 - mean_absolute_error: 0.0015 - metric: -2.8824\n",
      "Epoch 61/90\n",
      "38/38 [==============================] - 58s 2s/step - loss: 6.0524e-04 - mean_absolute_error: 0.0015 - metric: -2.9070\n",
      "Epoch 62/90\n",
      "38/38 [==============================] - 49s 1s/step - loss: 6.0523e-04 - mean_absolute_error: 0.0015 - metric: -2.9056\n",
      "Epoch 63/90\n",
      "38/38 [==============================] - 48s 1s/step - loss: 6.0521e-04 - mean_absolute_error: 0.0015 - metric: -2.9038\n",
      "Epoch 64/90\n",
      "38/38 [==============================] - 48s 1s/step - loss: 6.0517e-04 - mean_absolute_error: 0.0015 - metric: -2.9115\n",
      "Epoch 65/90\n",
      "38/38 [==============================] - 47s 1s/step - loss: 6.0516e-04 - mean_absolute_error: 0.0015 - metric: -2.9239\n",
      "Epoch 66/90\n",
      "38/38 [==============================] - 48s 1s/step - loss: 6.0513e-04 - mean_absolute_error: 0.0015 - metric: -2.9242\n",
      "Epoch 67/90\n",
      "38/38 [==============================] - 50s 1s/step - loss: 6.0511e-04 - mean_absolute_error: 0.0015 - metric: -2.9144\n",
      "Epoch 68/90\n",
      "38/38 [==============================] - 50s 1s/step - loss: 6.0509e-04 - mean_absolute_error: 0.0015 - metric: -2.9016\n",
      "Epoch 69/90\n",
      "38/38 [==============================] - 49s 1s/step - loss: 6.0507e-04 - mean_absolute_error: 0.0015 - metric: -2.9153\n",
      "Epoch 70/90\n",
      "38/38 [==============================] - 51s 1s/step - loss: 6.0508e-04 - mean_absolute_error: 0.0015 - metric: -2.9184\n",
      "Epoch 71/90\n",
      "38/38 [==============================] - 62s 2s/step - loss: 6.0508e-04 - mean_absolute_error: 0.0015 - metric: -2.9281\n",
      "Epoch 72/90\n",
      "38/38 [==============================] - 64s 2s/step - loss: 6.0508e-04 - mean_absolute_error: 0.0015 - metric: -2.9149\n",
      "Epoch 73/90\n",
      "38/38 [==============================] - 66s 2s/step - loss: 6.0508e-04 - mean_absolute_error: 0.0015 - metric: -2.8888\n",
      "Epoch 74/90\n",
      "38/38 [==============================] - 73s 2s/step - loss: 6.0507e-04 - mean_absolute_error: 0.0015 - metric: -2.9168\n",
      "Epoch 75/90\n",
      "38/38 [==============================] - 78s 2s/step - loss: 6.0507e-04 - mean_absolute_error: 0.0015 - metric: -2.9108\n",
      "Epoch 76/90\n",
      "38/38 [==============================] - 78s 2s/step - loss: 6.0507e-04 - mean_absolute_error: 0.0015 - metric: -2.9176\n",
      "Epoch 77/90\n",
      "38/38 [==============================] - 79s 2s/step - loss: 6.0507e-04 - mean_absolute_error: 0.0015 - metric: -2.8960\n",
      "Epoch 78/90\n",
      "38/38 [==============================] - 80s 2s/step - loss: 6.0506e-04 - mean_absolute_error: 0.0015 - metric: -2.8999\n",
      "Epoch 79/90\n",
      "38/38 [==============================] - 78s 2s/step - loss: 6.0505e-04 - mean_absolute_error: 0.0015 - metric: -2.9431\n",
      "Epoch 80/90\n",
      "38/38 [==============================] - 79s 2s/step - loss: 6.0504e-04 - mean_absolute_error: 0.0015 - metric: -2.9124\n",
      "Epoch 81/90\n",
      "38/38 [==============================] - 81s 2s/step - loss: 6.0503e-04 - mean_absolute_error: 0.0015 - metric: -2.9219\n",
      "Epoch 82/90\n",
      "38/38 [==============================] - 87s 2s/step - loss: 6.0502e-04 - mean_absolute_error: 0.0015 - metric: -2.9074\n",
      "Epoch 83/90\n",
      "38/38 [==============================] - 84s 2s/step - loss: 6.0501e-04 - mean_absolute_error: 0.0015 - metric: -2.8956\n",
      "Epoch 84/90\n",
      "38/38 [==============================] - 82s 2s/step - loss: 6.0500e-04 - mean_absolute_error: 0.0015 - metric: -2.9361\n",
      "Epoch 85/90\n",
      "38/38 [==============================] - 90s 2s/step - loss: 6.0499e-04 - mean_absolute_error: 0.0015 - metric: -2.9267\n",
      "Epoch 86/90\n",
      "38/38 [==============================] - 88s 2s/step - loss: 6.0497e-04 - mean_absolute_error: 0.0015 - metric: -2.9102\n",
      "Epoch 87/90\n",
      "38/38 [==============================] - 89s 2s/step - loss: 6.0496e-04 - mean_absolute_error: 0.0015 - metric: -2.9006\n",
      "Epoch 88/90\n",
      "38/38 [==============================] - 85s 2s/step - loss: 6.0495e-04 - mean_absolute_error: 0.0015 - metric: -2.8946\n",
      "Epoch 89/90\n",
      "38/38 [==============================] - 84s 2s/step - loss: 6.0492e-04 - mean_absolute_error: 0.0015 - metric: -2.9028\n",
      "Epoch 90/90\n",
      "38/38 [==============================] - 84s 2s/step - loss: 6.0490e-04 - mean_absolute_error: 0.0015 - metric: -2.8885\n"
     ]
    }
   ],
   "source": [
    "# Treinando a rede neural\n",
    "history=Network.fit(\n",
    "            train_x                           , # Dados de treino\n",
    "            train_y                           , # Dados de treino\n",
    "#            validation_data = (test_x, test_y), # Dados de validação\n",
    "            batch_size      = 4            , # Tamanho do batch\n",
    "            epochs          = 90            , # Número de epochs\n",
    "#            steps_per_epoch = 90             , # Número de batchs por epoch\n",
    "            shuffle         = True              # Aleatorização dos batchs\n",
    "        )\n",
    "\n",
    "# Batch: pacote de dados utilizados antes de uma atualização dos pesos da rede\n",
    "# Epoch: rodada de treino da rede neural, em geral percorre todo o conjunto de dados"
   ]
  },
  {
   "cell_type": "code",
   "execution_count": 12,
   "id": "1f1a387d",
   "metadata": {},
   "outputs": [
    {
     "name": "stdout",
     "output_type": "stream",
     "text": [
      "0.001628409923062773\n",
      "0.0015131048814076404\n"
     ]
    }
   ],
   "source": [
    "print(np.mean(np.abs(WENO_Z_ref(train_x,Δx)-train_y)))\n",
    "print(np.mean(np.abs(WENO_network(train_x,Δx)-train_y)))"
   ]
  },
  {
   "cell_type": "code",
   "execution_count": 13,
   "id": "271f3e21",
   "metadata": {},
   "outputs": [
    {
     "data": {
      "text/plain": [
       "[<matplotlib.lines.Line2D at 0x247a8429190>]"
      ]
     },
     "execution_count": 13,
     "metadata": {},
     "output_type": "execute_result"
    },
    {
     "data": {
      "image/png": "[encoded data removed]",
      "text/plain": [
       "<Figure size 432x288 with 1 Axes>"
      ]
     },
     "metadata": {
      "needs_background": "light"
     },
     "output_type": "display_data"
    }
   ],
   "source": [
    "plt.plot(history.history['loss'])"
   ]
  },
  {
   "cell_type": "code",
   "execution_count": 14,
   "id": "f20e95ca",
   "metadata": {},
   "outputs": [],
   "source": [
    "# Salvando os pesos treinados\n",
    "save=input('Deseja salvar a rede?(Y/N)')\n",
    "if save=='Y':\n",
    "    Network.save_weights('Modelos treinados\\\\Modelo Rede temporal - 5.h5')"
   ]
  },
  {
   "cell_type": "code",
   "execution_count": 27,
   "id": "3cfebda1",
   "metadata": {},
   "outputs": [],
   "source": [
    "# Carregando os pesos treinados\n",
    "Network.load_weights('Modelos treinados\\\\Modelo Rede temporal p=1 - 1.h5')"
   ]
  },
  {
   "cell_type": "code",
   "execution_count": 11,
   "id": "097cfc26",
   "metadata": {},
   "outputs": [
    {
     "data": {
      "text/plain": [
       "[<matplotlib.lines.Line2D at 0x2039e6ab7f0>]"
      ]
     },
     "execution_count": 11,
     "metadata": {},
     "output_type": "execute_result"
    },
    {
     "data": {
      "image/png": "[encoded data removed]",
      "text/plain": [
       "<Figure size 432x288 with 1 Axes>"
      ]
     },
     "metadata": {
      "needs_background": "light"
     },
     "output_type": "display_data"
    }
   ],
   "source": [
    "f_test = lambda x: np.sin(2*pi*x)*x**3 #np.exp(-0.05*(x**2))\n",
    "plt.plot(f_test(tf.range(-1, 1, Δx, dtype=float_pres)))"
   ]
  },
  {
   "cell_type": "code",
   "execution_count": 12,
   "id": "03849006",
   "metadata": {},
   "outputs": [
    {
     "data": {
      "text/plain": [
       "1e-09"
      ]
     },
     "execution_count": 12,
     "metadata": {},
     "output_type": "execute_result"
    }
   ],
   "source": [
    "0.001**3"
   ]
  },
  {
   "cell_type": "code",
   "execution_count": 13,
   "id": "4eb46a19",
   "metadata": {},
   "outputs": [
    {
     "data": {
      "text/plain": [
       "0.0003200000000000001"
      ]
     },
     "execution_count": 13,
     "metadata": {},
     "output_type": "execute_result"
    }
   ],
   "source": [
    "(20/100)**5"
   ]
  },
  {
   "cell_type": "code",
   "execution_count": 17,
   "id": "dd13e39f",
   "metadata": {},
   "outputs": [],
   "source": [
    "Δt=0.001\n",
    "Δt=0.4/1000\n",
    "\n",
    "equation=equation\n",
    "\n",
    "def loop_wrapper(func):\n",
    "    def loop_func(u0,Δx):\n",
    "        u=u0+0\n",
    "        #for i in range(int(1/Δt)):\n",
    "        for i in range(100):\n",
    "            u=func(u,Δx)\n",
    "        return u\n",
    "    return loop_func\n",
    "\n",
    "Sim_Z, Sim_step_Z, DerivadaEspacial_Z, Get_weights_Z=create_simulation(API_Numpy,equation,WENO_Z)\n",
    "WENO_Z_ref=loop_wrapper(lambda u0, Δx:Sim_step_Z(u0,Δt, Δx, FronteiraPeriodica))\n",
    "Sim_JS, Sim_step_JS, DerivadaEspacial_JS, Get_weights_JS=create_simulation(API_Numpy,equation,WENO_JS)\n",
    "WENO_JS_ref=loop_wrapper(lambda u0, Δx:Sim_step_JS(u0,Δt, Δx, FronteiraPeriodica))\n",
    "# Criando uma camada de Burgers que integra o WENO à rede neural\n",
    "Sim_layer = WENO_temporal(Δx, CFL, Δt, FronteiraPeriodica,equation,WENO_Z,regul_weight=0)\n",
    "WENO_network=loop_wrapper(tf.function(lambda u0, Δx:Sim_layer.Sim_step(u0,Δt, Δx, FronteiraPeriodica)))"
   ]
  },
  {
   "cell_type": "code",
   "execution_count": 18,
   "id": "c30123b5",
   "metadata": {},
   "outputs": [],
   "source": [
    "# Definindo o input da rede e o otimizador de treino\n",
    "input_x   = keras.layers.Input([train_x.shape[1],train_x.shape[2]], dtype='float64')\n",
    "optimizer = keras.optimizers.Adam(learning_rate=0.001, beta_1=0.9, beta_2=0.999, clipnorm=1.0)\n",
    "\n",
    "ouput_x=input_x\n",
    "# ouput_list=[]\n",
    "# for i in range(train_y.shape[1]):\n",
    "#     ouput_x=Sim_layer(ouput_x)\n",
    "#     ouput_list.append(ouput_x+0)\n",
    "# final_x=tf.stack(ouput_list,axis=1)\n",
    "\n",
    "timely_layer=keras.layers.TimeDistributed(Sim_layer)\n",
    "final_x=timely_layer(ouput_x)\n",
    "\n",
    "# Criando a rede neural\n",
    "Network = keras.Model(input_x, final_x)\n",
    "# Configurando a função de perda e o otimizador\n",
    "\n",
    "Network.compile(loss='MSE', optimizer=optimizer, metrics=['mean_absolute_error'])"
   ]
  },
  {
   "cell_type": "code",
   "execution_count": 37,
   "id": "3cfebda1",
   "metadata": {},
   "outputs": [],
   "source": [
    "# Carregando os pesos treinados\n",
    "Network.load_weights('Modelos treinados\\\\Modelo Rede temporal - 3.h5')"
   ]
  },
  {
   "cell_type": "code",
   "execution_count": 38,
   "id": "1631dfcb",
   "metadata": {},
   "outputs": [],
   "source": [
    "#np.random.seed(seed=13031998)\n",
    "n=1\n",
    "\n",
    "z1=np.random.uniform(size=[n,1],low=1,high=2)\n",
    "z2=np.random.uniform(size=[n,1],low=10,high=30)\n",
    "z3=np.random.uniform(size=[n,1],low=1,high=2)"
   ]
  },
  {
   "cell_type": "code",
   "execution_count": 39,
   "id": "3e8a3cd6",
   "metadata": {},
   "outputs": [],
   "source": [
    "def f_test(x):\n",
    "    x_ref=x+1\n",
    "    #f1=np.where(x_ref<1,z1,0) \n",
    "    f2=-np.exp(-z2*((x_ref-1)**2))\n",
    "    #f3=z3*np.sin(np.pi*x_ref) \n",
    "\n",
    "    y=np.concatenate([f2],axis=0)\n",
    "    return y"
   ]
  },
  {
   "cell_type": "code",
   "execution_count": 40,
   "id": "46bfabf3",
   "metadata": {},
   "outputs": [
    {
     "name": "stdout",
     "output_type": "stream",
     "text": [
      "160\r"
     ]
    }
   ],
   "source": [
    "# Calculando os erros de previsão utilizando o WENO-Z em uma malha mais fina \n",
    "# como solução de referência e depois calculando o WENO-Z e o WENO-Z com a \n",
    "# modificação da rede neural numa malha mais grossa\n",
    "sizes=np.arange(100,160+1,20)\n",
    "error1=[]\n",
    "error2=[]\n",
    "error3=[]\n",
    "k=10\n",
    "for i in sizes:\n",
    "    print(i,end='\\r')\n",
    "    Δx_ref = 2/i\n",
    "    Δx = Δx_ref                                # Distância espacial dos pontos na malha mais grossa utilizada\n",
    "    x  = tf.range(-1, 1, Δx, dtype=float_pres) # Gerando a malha de pontos no espaço unidimensional\n",
    "    full_U=tf.expand_dims(f_test(x),axis=0)\n",
    "\n",
    "    net_u   = WENO_network(full_U,Δx)\n",
    "    comp_u   = WENO_Z_ref(full_U,Δx)\n",
    "    JS_u   = WENO_JS_ref(full_U,Δx)\n",
    "\n",
    "    Δx = Δx_ref/k                                # Distância espacial dos pontos na malha mais grossa utilizada\n",
    "    x  = tf.range(-1, 1, Δx, dtype=float_pres) # Gerando a malha de pontos no espaço unidimensional\n",
    "    full_U=tf.expand_dims(f_test(x),axis=0)\n",
    "\n",
    "    ref_u   = WENO_Z_ref(full_U,Δx)\n",
    "    ref_u   = tf.gather(ref_u,np.arange(net_u.shape[-1])*k,axis=-1) \n",
    "\n",
    "    error1.append(np.sum(np.abs(net_u-ref_u)))\n",
    "    error2.append(np.sum(np.abs(comp_u-ref_u)))\n",
    "    error3.append(np.sum(np.abs(JS_u-ref_u)))\n",
    "error1=np.asarray(error1)\n",
    "error2=np.asarray(error2)\n",
    "error3=np.asarray(error3)"
   ]
  },
  {
   "cell_type": "code",
   "execution_count": 15,
   "id": "cd692df3",
   "metadata": {},
   "outputs": [
    {
     "ename": "NameError",
     "evalue": "name 'Sim_step_Z' is not defined",
     "output_type": "error",
     "traceback": [
      "\u001b[1;31m---------------------------------------------------------------------------\u001b[0m",
      "\u001b[1;31mNameError\u001b[0m                                 Traceback (most recent call last)",
      "\u001b[1;32m<ipython-input-15-0dd34a89f12b>\u001b[0m in \u001b[0;36m<module>\u001b[1;34m\u001b[0m\n\u001b[1;32m----> 1\u001b[1;33m \u001b[0merro1\u001b[0m\u001b[1;33m=\u001b[0m\u001b[0mnp\u001b[0m\u001b[1;33m.\u001b[0m\u001b[0mmean\u001b[0m\u001b[1;33m(\u001b[0m\u001b[0mnp\u001b[0m\u001b[1;33m.\u001b[0m\u001b[0mabs\u001b[0m\u001b[1;33m(\u001b[0m\u001b[0mSim_step_Z\u001b[0m\u001b[1;33m(\u001b[0m\u001b[0mtrain_x\u001b[0m\u001b[1;33m,\u001b[0m\u001b[1;36m0.4\u001b[0m\u001b[1;33m/\u001b[0m\u001b[1;36m100\u001b[0m\u001b[1;33m,\u001b[0m\u001b[1;36m2\u001b[0m\u001b[1;33m/\u001b[0m\u001b[1;36m128\u001b[0m\u001b[1;33m,\u001b[0m\u001b[0mFronteiraPeriodica\u001b[0m\u001b[1;33m)\u001b[0m\u001b[1;33m-\u001b[0m\u001b[0mtrain_y\u001b[0m\u001b[1;33m)\u001b[0m\u001b[1;33m)\u001b[0m\u001b[1;33m\u001b[0m\u001b[1;33m\u001b[0m\u001b[0m\n\u001b[0m\u001b[0;32m      2\u001b[0m \u001b[0merro2\u001b[0m\u001b[1;33m=\u001b[0m\u001b[0mnp\u001b[0m\u001b[1;33m.\u001b[0m\u001b[0mmean\u001b[0m\u001b[1;33m(\u001b[0m\u001b[0mnp\u001b[0m\u001b[1;33m.\u001b[0m\u001b[0mabs\u001b[0m\u001b[1;33m(\u001b[0m\u001b[0mSim_layer\u001b[0m\u001b[1;33m.\u001b[0m\u001b[0mSim_step\u001b[0m\u001b[1;33m(\u001b[0m\u001b[0mtrain_x\u001b[0m\u001b[1;33m,\u001b[0m\u001b[1;36m0.4\u001b[0m\u001b[1;33m/\u001b[0m\u001b[1;36m100\u001b[0m\u001b[1;33m,\u001b[0m\u001b[1;36m2\u001b[0m\u001b[1;33m/\u001b[0m\u001b[1;36m128\u001b[0m\u001b[1;33m,\u001b[0m\u001b[0mFronteiraPeriodica\u001b[0m\u001b[1;33m)\u001b[0m\u001b[1;33m-\u001b[0m\u001b[0mtrain_y\u001b[0m\u001b[1;33m)\u001b[0m\u001b[1;33m)\u001b[0m\u001b[1;33m\u001b[0m\u001b[1;33m\u001b[0m\u001b[0m\n\u001b[0;32m      3\u001b[0m \u001b[1;33m\u001b[0m\u001b[0m\n\u001b[0;32m      4\u001b[0m \u001b[0mprint\u001b[0m\u001b[1;33m(\u001b[0m\u001b[0merro1\u001b[0m\u001b[1;33m)\u001b[0m\u001b[1;33m\u001b[0m\u001b[1;33m\u001b[0m\u001b[0m\n\u001b[0;32m      5\u001b[0m \u001b[0mprint\u001b[0m\u001b[1;33m(\u001b[0m\u001b[0merro2\u001b[0m\u001b[1;33m)\u001b[0m\u001b[1;33m\u001b[0m\u001b[1;33m\u001b[0m\u001b[0m\n",
      "\u001b[1;31mNameError\u001b[0m: name 'Sim_step_Z' is not defined"
     ]
    }
   ],
   "source": [
    "erro1=np.mean(np.abs(Sim_step_Z(train_x,0.4/100,2/128,FronteiraPeriodica)-train_y))\n",
    "erro2=np.mean(np.abs(Sim_layer.Sim_step(train_x,0.4/100,2/128,FronteiraPeriodica)-train_y))\n",
    "\n",
    "print(erro1)\n",
    "print(erro2)"
   ]
  },
  {
   "cell_type": "code",
   "execution_count": 41,
   "id": "d60d894c",
   "metadata": {},
   "outputs": [
    {
     "data": {
      "image/png": "[encoded data removed]",
      "text/plain": [
       "<Figure size 460.8x460.8 with 1 Axes>"
      ]
     },
     "metadata": {
      "needs_background": "light"
     },
     "output_type": "display_data"
    }
   ],
   "source": [
    "#plt.plot(net_u[0,0])\n",
    "plt.figure(figsize=(6.4,6.4))\n",
    "plt.plot(ref_u[0,0])\n",
    "plt.savefig('imagens/ordem conv ds funcao.png')"
   ]
  },
  {
   "cell_type": "code",
   "execution_count": 42,
   "id": "e09cb202",
   "metadata": {},
   "outputs": [
    {
     "data": {
      "text/plain": [
       "[<matplotlib.lines.Line2D at 0x20420763130>]"
      ]
     },
     "execution_count": 42,
     "metadata": {},
     "output_type": "execute_result"
    },
    {
     "data": {
      "image/png": "[encoded data removed]",
      "text/plain": [
       "<Figure size 432x288 with 1 Axes>"
      ]
     },
     "metadata": {
      "needs_background": "light"
     },
     "output_type": "display_data"
    }
   ],
   "source": [
    "plt.plot(sizes,error1)\n",
    "plt.plot(sizes,error2)"
   ]
  },
  {
   "cell_type": "code",
   "execution_count": 43,
   "id": "2fec605c",
   "metadata": {},
   "outputs": [
    {
     "data": {
      "image/png": "[encoded data removed]",
      "text/plain": [
       "<Figure size 460.8x460.8 with 1 Axes>"
      ]
     },
     "metadata": {
      "needs_background": "light"
     },
     "output_type": "display_data"
    }
   ],
   "source": [
    "plt.figure(figsize=(6.4,6.4))\n",
    "\n",
    "plt.plot(np.log(sizes),np.log(error1),label='Rede')\n",
    "plt.plot(np.log(sizes),np.log(error2),label='WENO-Z')\n",
    "#plt.plot(np.log(sizes),np.log(error3),label='WENO-JS')\n",
    "plt.plot(np.log(sizes),-5*(np.log(sizes)-np.mean(np.log(sizes)))+np.mean(np.log(error2)),label='Ordem 5')\n",
    "plt.plot(np.log(sizes),-3*(np.log(sizes)-np.mean(np.log(sizes)))+np.mean(np.log(error2)),label='Ordem 3')\n",
    "plt.legend()\n",
    "\n",
    "plt.savefig('imagens/ordem conv ds.png')"
   ]
  },
  {
   "cell_type": "code",
   "execution_count": null,
   "id": "6bc578b4",
   "metadata": {},
   "outputs": [],
   "source": [
    "Sim, Sim_step, DerivadaEspacial, Get_weights=create_simulation(API_Numpy,equation,WENO_Z)\n",
    "WENO_Z_ref=lambda u0, Δx:DerivadaEspacial(u0,Δx, FronteiraFixa)"
   ]
  },
  {
   "cell_type": "code",
   "execution_count": 16,
   "id": "135caa4d",
   "metadata": {},
   "outputs": [],
   "source": [
    "Δx_ref = 0.01\n",
    "\n",
    "def f(x):\n",
    "    return np.sin(np.pi*x)\n",
    "\n",
    "def df(x):\n",
    "    return np.pi*np.cos(np.pi*x)\n"
   ]
  },
  {
   "cell_type": "code",
   "execution_count": 17,
   "id": "09fb5eb2",
   "metadata": {},
   "outputs": [
    {
     "name": "stdout",
     "output_type": "stream",
     "text": [
      "(1, 200)\n"
     ]
    }
   ],
   "source": [
    "Δx1 = Δx_ref\n",
    "x1  = np.arange(-1, 1, Δx1)\n",
    "x1  = np.expand_dims(x1,0)\n",
    "u1  = f(x1)\n",
    "du1 = df(x1)\n",
    "y1=WENO_network(u1, Δx1)\n",
    "\n",
    "print(u1.shape)"
   ]
  },
  {
   "cell_type": "code",
   "execution_count": 18,
   "id": "64759e25",
   "metadata": {},
   "outputs": [
    {
     "name": "stdout",
     "output_type": "stream",
     "text": [
      "(1, 400)\n"
     ]
    }
   ],
   "source": [
    "Δx2 = Δx_ref/2\n",
    "x2  = np.arange(-1, 1, Δx2)\n",
    "x2  = np.expand_dims(x2,0)\n",
    "u2  = f(x2)\n",
    "du2 = df(x2)\n",
    "y2=WENO_network(u2, Δx2)\n",
    "\n",
    "print(u2.shape)"
   ]
  },
  {
   "cell_type": "code",
   "execution_count": 19,
   "id": "e28840fe",
   "metadata": {},
   "outputs": [
    {
     "name": "stdout",
     "output_type": "stream",
     "text": [
      "0.49998867338114705\n"
     ]
    }
   ],
   "source": [
    "# Gerando os gráficos a partir de funções do matplotlib\n",
    "\n",
    "print(np.sum(abs(y1 - du1))/np.sum(abs(y2 - du2)))"
   ]
  },
  {
   "cell_type": "code",
   "execution_count": null,
   "id": "25d9ddea",
   "metadata": {},
   "outputs": [],
   "source": []
  }
 ],
 "metadata": {
  "kernelspec": {
   "display_name": "Python 3",
   "language": "python",
   "name": "python3"
  },
  "language_info": {
   "codemirror_mode": {
    "name": "ipython",
    "version": 3
   },
   "file_extension": ".py",
   "mimetype": "text/x-python",
   "name": "python",
   "nbconvert_exporter": "python",
   "pygments_lexer": "ipython3",
   "version": "3.8.10"
  },
  "widgets": {
   "application/vnd.jupyter.widget-state+json": {
    "state": {},
    "version_major": 2,
    "version_minor": 0
   }
  }
 },
 "nbformat": 4,
 "nbformat_minor": 5
}
