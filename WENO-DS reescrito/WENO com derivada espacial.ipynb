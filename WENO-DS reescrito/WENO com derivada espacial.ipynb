{
 "cells": [
  {
   "cell_type": "code",
   "execution_count": 1,
   "id": "3789e98e",
   "metadata": {},
   "outputs": [],
   "source": [
    "# Importando os módulos que serão utilizados\n",
    "\n",
    "import tensorflow as tf\n",
    "import numpy as np\n",
    "import tensorflow.keras as keras\n",
    "import matplotlib.pyplot as plt\n",
    "import time\n",
    "import dill\n",
    "\n",
    "# Configurando o acesso do tensorflow aos processadores do computador\n",
    "# no caso, está sendo selecionada a primeira placa de vídeo listada\n",
    "\n",
    "gpus = tf.config.experimental.list_physical_devices('GPU') # Listando as placas de vídeo\n",
    "tf.config.experimental.set_memory_growth(gpus[0], True)    # Selecionando a primeira GPU e configurando\n",
    "\n",
    "# Importando os módulos contendo as funções criadas no projeto\n",
    "\n",
    "from aux_func_V3 import *\n",
    "import API_Numpy\n",
    "import API_TensorFlow"
   ]
  },
  {
   "cell_type": "code",
   "execution_count": 2,
   "id": "8a6b0604",
   "metadata": {},
   "outputs": [],
   "source": [
    "Sim, Sim_step, DerivadaEspacial, Get_weights=create_simulation(API_Numpy,diff_equation,WENO_Z)\n",
    "WENO_Z_ref=lambda u0, Δx:DerivadaEspacial(u0,Δx, FronteiraFixa)"
   ]
  },
  {
   "cell_type": "code",
   "execution_count": 3,
   "id": "c20885af",
   "metadata": {},
   "outputs": [],
   "source": [
    "with open('datasets\\\\Dados espaciais.bkp','rb') as file:\n",
    "    y,dy=dill.load(file)"
   ]
  },
  {
   "cell_type": "code",
   "execution_count": 4,
   "id": "9f185cad",
   "metadata": {},
   "outputs": [],
   "source": [
    "indice = np.arange(y.shape[0])\n",
    "np.random.shuffle(indice)\n",
    "data_x = y.astype('float64')[indice]\n",
    "data_y = dy.astype('float64')[indice]"
   ]
  },
  {
   "cell_type": "code",
   "execution_count": 5,
   "id": "8a440a55",
   "metadata": {},
   "outputs": [],
   "source": [
    "# Conjunto de dados de treino\n",
    "train_x = data_x[:-20000]\n",
    "train_y = data_y[:-20000]\n",
    "\n",
    "# Conjunto de dados de validação\n",
    "test_x = data_x[-20000:]\n",
    "test_y = data_y[-20000:]"
   ]
  },
  {
   "cell_type": "code",
   "execution_count": 6,
   "id": "42037dea",
   "metadata": {},
   "outputs": [],
   "source": [
    "# Criando uma camada de Burgers que integra o WENO à rede neural\n",
    "Δx=0.01\n",
    "Sim_layer = WENO_espacial(Δx,FronteiraFixa,diff_equation,WENO_JS)\n",
    "WENO_network=tf.function(lambda u0, Δx:Sim_layer.DerivadaEspacial(u0,Δx, FronteiraFixa))"
   ]
  },
  {
   "cell_type": "code",
   "execution_count": 7,
   "id": "c91bdeb5",
   "metadata": {},
   "outputs": [],
   "source": [
    "# Definindo o input da rede e o otimizador de treino\n",
    "input_x   = keras.layers.Input([7], dtype='float64')\n",
    "optimizer = keras.optimizers.Adam(learning_rate=10**-2, beta_1=0.9, beta_2=0.999, clipnorm=1.0)\n",
    "\n",
    "# Criando a rede neural\n",
    "Network = keras.Model(input_x, Sim_layer(input_x))\n",
    "# Configurando a função de perda e o otimizador\n",
    "loss=Only_smooth_loss(lambda x,y:tf.math.abs(x-y),10)\n",
    "Network.compile(loss=loss, optimizer=optimizer, metrics=['MSE'])"
   ]
  },
  {
   "cell_type": "code",
   "execution_count": 8,
   "id": "f507a4d7",
   "metadata": {},
   "outputs": [
    {
     "name": "stdout",
     "output_type": "stream",
     "text": [
      "Epoch 1/100\n",
      "300/300 [==============================] - 18s 39ms/step - loss: 0.4296 - MSE: 14.5193 - val_loss: 0.4293 - val_MSE: 15.7873\n",
      "Epoch 2/100\n",
      "300/300 [==============================] - 11s 36ms/step - loss: 0.4203 - MSE: 14.3339 - val_loss: 0.4153 - val_MSE: 15.4257\n",
      "Epoch 3/100\n",
      "300/300 [==============================] - 11s 36ms/step - loss: 0.4106 - MSE: 13.8105 - val_loss: 0.4103 - val_MSE: 15.2614\n",
      "Epoch 4/100\n",
      "300/300 [==============================] - 11s 37ms/step - loss: 0.4067 - MSE: 13.9931 - val_loss: 0.4091 - val_MSE: 15.2436\n",
      "Epoch 5/100\n",
      "300/300 [==============================] - 11s 37ms/step - loss: 0.4055 - MSE: 14.4233 - val_loss: 0.4089 - val_MSE: 15.2491\n",
      "Epoch 6/100\n",
      "300/300 [==============================] - 11s 37ms/step - loss: 0.4054 - MSE: 13.2820 - val_loss: 0.4082 - val_MSE: 15.2448\n",
      "Epoch 7/100\n",
      "300/300 [==============================] - 11s 36ms/step - loss: 0.4040 - MSE: 13.8474 - val_loss: 0.4078 - val_MSE: 15.2373\n",
      "Epoch 8/100\n",
      "300/300 [==============================] - 11s 36ms/step - loss: 0.4059 - MSE: 13.3895 - val_loss: 0.4076 - val_MSE: 15.2367\n",
      "Epoch 9/100\n",
      "300/300 [==============================] - 11s 37ms/step - loss: 0.4044 - MSE: 13.5331 - val_loss: 0.4071 - val_MSE: 15.2252\n",
      "Epoch 10/100\n",
      "300/300 [==============================] - 11s 37ms/step - loss: 0.4035 - MSE: 13.5044 - val_loss: 0.4072 - val_MSE: 15.2298\n",
      "Epoch 11/100\n",
      "300/300 [==============================] - 11s 37ms/step - loss: 0.4024 - MSE: 13.6635 - val_loss: 0.4069 - val_MSE: 15.2249\n",
      "Epoch 12/100\n",
      "300/300 [==============================] - 11s 37ms/step - loss: 0.4041 - MSE: 13.9240 - val_loss: 0.4066 - val_MSE: 15.2199\n",
      "Epoch 13/100\n",
      "300/300 [==============================] - 11s 36ms/step - loss: 0.4033 - MSE: 13.6261 - val_loss: 0.4064 - val_MSE: 15.2263\n",
      "Epoch 14/100\n",
      "300/300 [==============================] - 11s 37ms/step - loss: 0.4026 - MSE: 13.7180 - val_loss: 0.4062 - val_MSE: 15.2278\n",
      "Epoch 15/100\n",
      "300/300 [==============================] - 11s 37ms/step - loss: 0.4047 - MSE: 13.9119 - val_loss: 0.4061 - val_MSE: 15.2201\n",
      "Epoch 16/100\n",
      "300/300 [==============================] - 11s 37ms/step - loss: 0.4028 - MSE: 12.9560 - val_loss: 0.4060 - val_MSE: 15.2130\n",
      "Epoch 17/100\n",
      "300/300 [==============================] - 11s 37ms/step - loss: 0.4041 - MSE: 14.0862 - val_loss: 0.4058 - val_MSE: 15.2111\n",
      "Epoch 18/100\n",
      "300/300 [==============================] - 11s 37ms/step - loss: 0.4034 - MSE: 13.3752 - val_loss: 0.4058 - val_MSE: 15.2151\n",
      "Epoch 19/100\n",
      "300/300 [==============================] - 11s 37ms/step - loss: 0.4050 - MSE: 13.7965 - val_loss: 0.4056 - val_MSE: 15.2126\n",
      "Epoch 20/100\n",
      "300/300 [==============================] - 11s 37ms/step - loss: 0.4022 - MSE: 13.3045 - val_loss: 0.4055 - val_MSE: 15.2135\n",
      "Epoch 21/100\n",
      "300/300 [==============================] - 11s 37ms/step - loss: 0.4011 - MSE: 13.3218 - val_loss: 0.4055 - val_MSE: 15.2189\n",
      "Epoch 22/100\n",
      "300/300 [==============================] - 11s 37ms/step - loss: 0.4049 - MSE: 13.6641 - val_loss: 0.4053 - val_MSE: 15.2036\n",
      "Epoch 23/100\n",
      "300/300 [==============================] - 11s 37ms/step - loss: 0.4015 - MSE: 13.3556 - val_loss: 0.4053 - val_MSE: 15.2069\n",
      "Epoch 24/100\n",
      "300/300 [==============================] - 11s 37ms/step - loss: 0.4011 - MSE: 13.3966 - val_loss: 0.4050 - val_MSE: 15.1990\n",
      "Epoch 25/100\n",
      "300/300 [==============================] - 11s 37ms/step - loss: 0.4010 - MSE: 13.7547 - val_loss: 0.4051 - val_MSE: 15.2010\n",
      "Epoch 26/100\n",
      "300/300 [==============================] - 11s 37ms/step - loss: 0.4013 - MSE: 14.3713 - val_loss: 0.4052 - val_MSE: 15.2036\n",
      "Epoch 27/100\n",
      "300/300 [==============================] - 11s 37ms/step - loss: 0.4014 - MSE: 13.2524 - val_loss: 0.4051 - val_MSE: 15.2057\n",
      "Epoch 28/100\n",
      "300/300 [==============================] - 11s 37ms/step - loss: 0.4026 - MSE: 13.5292 - val_loss: 0.4050 - val_MSE: 15.1945\n",
      "Epoch 29/100\n",
      "300/300 [==============================] - 11s 37ms/step - loss: 0.4041 - MSE: 13.6025 - val_loss: 0.4049 - val_MSE: 15.1914\n",
      "Epoch 30/100\n",
      "300/300 [==============================] - 11s 38ms/step - loss: 0.4009 - MSE: 12.9023 - val_loss: 0.4049 - val_MSE: 15.2013\n",
      "Epoch 31/100\n",
      "300/300 [==============================] - 11s 38ms/step - loss: 0.4003 - MSE: 13.5154 - val_loss: 0.4049 - val_MSE: 15.1973\n",
      "Epoch 32/100\n",
      "300/300 [==============================] - 11s 38ms/step - loss: 0.4005 - MSE: 14.0242 - val_loss: 0.4049 - val_MSE: 15.1981\n",
      "Epoch 33/100\n",
      "300/300 [==============================] - 11s 38ms/step - loss: 0.4021 - MSE: 13.3322 - val_loss: 0.4047 - val_MSE: 15.1964\n",
      "Epoch 34/100\n",
      "300/300 [==============================] - 11s 38ms/step - loss: 0.4001 - MSE: 13.5892 - val_loss: 0.4046 - val_MSE: 15.1962\n",
      "Epoch 35/100\n",
      "300/300 [==============================] - 11s 37ms/step - loss: 0.4025 - MSE: 13.6450 - val_loss: 0.4048 - val_MSE: 15.1981\n",
      "Epoch 36/100\n",
      "300/300 [==============================] - 11s 37ms/step - loss: 0.4022 - MSE: 13.3098 - val_loss: 0.4049 - val_MSE: 15.1968\n",
      "Epoch 37/100\n",
      "300/300 [==============================] - 11s 37ms/step - loss: 0.4012 - MSE: 14.0043 - val_loss: 0.4046 - val_MSE: 15.2004\n",
      "Epoch 38/100\n",
      "300/300 [==============================] - 11s 37ms/step - loss: 0.4036 - MSE: 13.3027 - val_loss: 0.4047 - val_MSE: 15.1917\n",
      "Epoch 39/100\n",
      "300/300 [==============================] - 11s 37ms/step - loss: 0.4024 - MSE: 14.4712 - val_loss: 0.4045 - val_MSE: 15.1924\n",
      "Epoch 40/100\n",
      "300/300 [==============================] - 11s 37ms/step - loss: 0.3999 - MSE: 13.7514 - val_loss: 0.4047 - val_MSE: 15.2130\n",
      "Epoch 41/100\n",
      "300/300 [==============================] - 11s 37ms/step - loss: 0.4036 - MSE: 13.5526 - val_loss: 0.4046 - val_MSE: 15.1980\n",
      "Epoch 42/100\n",
      "300/300 [==============================] - 11s 37ms/step - loss: 0.4011 - MSE: 13.1851 - val_loss: 0.4045 - val_MSE: 15.1964\n",
      "Epoch 43/100\n",
      "300/300 [==============================] - 11s 38ms/step - loss: 0.4013 - MSE: 13.8878 - val_loss: 0.4044 - val_MSE: 15.1907\n",
      "Epoch 44/100\n",
      "300/300 [==============================] - 11s 37ms/step - loss: 0.4033 - MSE: 13.7706 - val_loss: 0.4043 - val_MSE: 15.1906\n",
      "Epoch 45/100\n",
      "300/300 [==============================] - 11s 37ms/step - loss: 0.4001 - MSE: 14.4104 - val_loss: 0.4044 - val_MSE: 15.1910\n",
      "Epoch 46/100\n",
      "300/300 [==============================] - 11s 37ms/step - loss: 0.4029 - MSE: 13.7687 - val_loss: 0.4045 - val_MSE: 15.1904\n",
      "Epoch 47/100\n",
      "300/300 [==============================] - 11s 37ms/step - loss: 0.4014 - MSE: 13.3780 - val_loss: 0.4049 - val_MSE: 15.2203\n",
      "Epoch 48/100\n",
      "300/300 [==============================] - 11s 37ms/step - loss: 0.4017 - MSE: 13.9343 - val_loss: 0.4044 - val_MSE: 15.1838\n",
      "Epoch 49/100\n",
      "300/300 [==============================] - 11s 38ms/step - loss: 0.4005 - MSE: 13.9094 - val_loss: 0.4044 - val_MSE: 15.1917\n",
      "Epoch 50/100\n",
      "300/300 [==============================] - 11s 37ms/step - loss: 0.4031 - MSE: 13.8718 - val_loss: 0.4043 - val_MSE: 15.1981\n",
      "Epoch 51/100\n",
      "300/300 [==============================] - 11s 37ms/step - loss: 0.4044 - MSE: 14.0813 - val_loss: 0.4045 - val_MSE: 15.2005\n",
      "Epoch 52/100\n",
      "300/300 [==============================] - 11s 38ms/step - loss: 0.4014 - MSE: 14.3066 - val_loss: 0.4044 - val_MSE: 15.1895\n",
      "Epoch 53/100\n",
      "300/300 [==============================] - 12s 38ms/step - loss: 0.4009 - MSE: 13.3493 - val_loss: 0.4043 - val_MSE: 15.1982\n",
      "Epoch 54/100\n",
      "300/300 [==============================] - 11s 37ms/step - loss: 0.4005 - MSE: 14.0015 - val_loss: 0.4044 - val_MSE: 15.1993\n",
      "Epoch 55/100\n",
      "300/300 [==============================] - 11s 38ms/step - loss: 0.4035 - MSE: 13.6288 - val_loss: 0.4042 - val_MSE: 15.1965\n",
      "Epoch 56/100\n",
      "300/300 [==============================] - 11s 37ms/step - loss: 0.4012 - MSE: 13.4864 - val_loss: 0.4043 - val_MSE: 15.2054\n",
      "Epoch 57/100\n",
      "300/300 [==============================] - 11s 37ms/step - loss: 0.3997 - MSE: 13.8181 - val_loss: 0.4042 - val_MSE: 15.1932\n",
      "Epoch 58/100\n",
      "300/300 [==============================] - 11s 37ms/step - loss: 0.4008 - MSE: 13.7656 - val_loss: 0.4042 - val_MSE: 15.1900\n",
      "Epoch 59/100\n",
      "300/300 [==============================] - 11s 37ms/step - loss: 0.4045 - MSE: 14.3856 - val_loss: 0.4042 - val_MSE: 15.1971\n",
      "Epoch 60/100\n",
      "300/300 [==============================] - 11s 37ms/step - loss: 0.4017 - MSE: 13.9656 - val_loss: 0.4046 - val_MSE: 15.1983\n",
      "Epoch 61/100\n",
      "300/300 [==============================] - 11s 37ms/step - loss: 0.4029 - MSE: 13.4999 - val_loss: 0.4047 - val_MSE: 15.1993\n",
      "Epoch 62/100\n",
      "300/300 [==============================] - 11s 37ms/step - loss: 0.4008 - MSE: 13.6104 - val_loss: 0.4043 - val_MSE: 15.1894\n",
      "Epoch 63/100\n",
      "300/300 [==============================] - 11s 37ms/step - loss: 0.4032 - MSE: 13.5389 - val_loss: 0.4042 - val_MSE: 15.2033\n",
      "Epoch 64/100\n",
      "300/300 [==============================] - 11s 37ms/step - loss: 0.4034 - MSE: 13.2444 - val_loss: 0.4044 - val_MSE: 15.1973\n",
      "Epoch 65/100\n",
      "300/300 [==============================] - 11s 37ms/step - loss: 0.3983 - MSE: 13.2205 - val_loss: 0.4040 - val_MSE: 15.1912\n",
      "Epoch 66/100\n",
      "300/300 [==============================] - 11s 37ms/step - loss: 0.4017 - MSE: 13.7448 - val_loss: 0.4042 - val_MSE: 15.2173\n",
      "Epoch 67/100\n",
      "300/300 [==============================] - 11s 37ms/step - loss: 0.4018 - MSE: 13.9264 - val_loss: 0.4041 - val_MSE: 15.1906\n",
      "Epoch 68/100\n",
      "300/300 [==============================] - 11s 37ms/step - loss: 0.4020 - MSE: 13.7011 - val_loss: 0.4042 - val_MSE: 15.1934\n",
      "Epoch 69/100\n",
      "300/300 [==============================] - 11s 38ms/step - loss: 0.3994 - MSE: 14.0034 - val_loss: 0.4041 - val_MSE: 15.1999\n",
      "Epoch 70/100\n",
      "300/300 [==============================] - 11s 37ms/step - loss: 0.4021 - MSE: 13.8841 - val_loss: 0.4040 - val_MSE: 15.1899\n",
      "Epoch 71/100\n",
      "300/300 [==============================] - 11s 37ms/step - loss: 0.4002 - MSE: 13.5935 - val_loss: 0.4048 - val_MSE: 15.2186\n",
      "Epoch 72/100\n",
      "300/300 [==============================] - 12s 39ms/step - loss: 0.4026 - MSE: 14.2698 - val_loss: 0.4040 - val_MSE: 15.1949\n",
      "Epoch 73/100\n",
      "300/300 [==============================] - 11s 37ms/step - loss: 0.4016 - MSE: 13.6890 - val_loss: 0.4038 - val_MSE: 15.1911\n",
      "Epoch 74/100\n",
      "300/300 [==============================] - 12s 39ms/step - loss: 0.3973 - MSE: 13.4308 - val_loss: 0.4038 - val_MSE: 15.1867\n",
      "Epoch 75/100\n",
      "300/300 [==============================] - 11s 38ms/step - loss: 0.4008 - MSE: 14.7337 - val_loss: 0.4038 - val_MSE: 15.1996\n",
      "Epoch 76/100\n",
      "300/300 [==============================] - 11s 37ms/step - loss: 0.4017 - MSE: 13.6958 - val_loss: 0.4037 - val_MSE: 15.1909\n",
      "Epoch 77/100\n",
      "300/300 [==============================] - 11s 38ms/step - loss: 0.3989 - MSE: 13.4743 - val_loss: 0.4038 - val_MSE: 15.1917\n",
      "Epoch 78/100\n",
      "300/300 [==============================] - 11s 37ms/step - loss: 0.4000 - MSE: 13.2377 - val_loss: 0.4036 - val_MSE: 15.1905\n",
      "Epoch 79/100\n",
      "300/300 [==============================] - 11s 37ms/step - loss: 0.3992 - MSE: 14.0064 - val_loss: 0.4036 - val_MSE: 15.1921\n",
      "Epoch 80/100\n",
      "300/300 [==============================] - 11s 37ms/step - loss: 0.4012 - MSE: 13.9385 - val_loss: 0.4038 - val_MSE: 15.1982\n",
      "Epoch 81/100\n",
      "300/300 [==============================] - 11s 37ms/step - loss: 0.4027 - MSE: 13.6078 - val_loss: 0.4036 - val_MSE: 15.1968\n",
      "Epoch 82/100\n",
      "300/300 [==============================] - 11s 37ms/step - loss: 0.4021 - MSE: 13.8726 - val_loss: 0.4038 - val_MSE: 15.1894\n",
      "Epoch 83/100\n",
      "300/300 [==============================] - 11s 37ms/step - loss: 0.4049 - MSE: 13.3450 - val_loss: 0.4039 - val_MSE: 15.1930\n",
      "Epoch 84/100\n",
      "300/300 [==============================] - 11s 37ms/step - loss: 0.4001 - MSE: 13.5488 - val_loss: 0.4036 - val_MSE: 15.1909\n",
      "Epoch 85/100\n",
      "300/300 [==============================] - 11s 37ms/step - loss: 0.3975 - MSE: 14.0784 - val_loss: 0.4034 - val_MSE: 15.1913\n",
      "Epoch 86/100\n",
      "300/300 [==============================] - 11s 37ms/step - loss: 0.4018 - MSE: 13.9076 - val_loss: 0.4035 - val_MSE: 15.1877\n",
      "Epoch 87/100\n",
      "300/300 [==============================] - 11s 37ms/step - loss: 0.4035 - MSE: 13.5894 - val_loss: 0.4037 - val_MSE: 15.1853\n",
      "Epoch 88/100\n",
      "300/300 [==============================] - 11s 37ms/step - loss: 0.4015 - MSE: 14.0846 - val_loss: 0.4037 - val_MSE: 15.1861\n",
      "Epoch 89/100\n",
      "300/300 [==============================] - 11s 38ms/step - loss: 0.3998 - MSE: 13.8005 - val_loss: 0.4035 - val_MSE: 15.1845\n",
      "Epoch 90/100\n",
      "300/300 [==============================] - 11s 37ms/step - loss: 0.4021 - MSE: 13.6890 - val_loss: 0.4036 - val_MSE: 15.2058\n",
      "Epoch 91/100\n",
      "300/300 [==============================] - 11s 37ms/step - loss: 0.4017 - MSE: 13.4108 - val_loss: 0.4035 - val_MSE: 15.1895\n",
      "Epoch 92/100\n",
      "300/300 [==============================] - 11s 37ms/step - loss: 0.4005 - MSE: 13.6728 - val_loss: 0.4034 - val_MSE: 15.1861\n",
      "Epoch 93/100\n",
      "300/300 [==============================] - 11s 37ms/step - loss: 0.4012 - MSE: 13.6380 - val_loss: 0.4036 - val_MSE: 15.1776\n",
      "Epoch 94/100\n",
      "300/300 [==============================] - 11s 37ms/step - loss: 0.4004 - MSE: 14.2001 - val_loss: 0.4038 - val_MSE: 15.1770\n",
      "Epoch 95/100\n",
      "300/300 [==============================] - 11s 37ms/step - loss: 0.4001 - MSE: 13.6198 - val_loss: 0.4034 - val_MSE: 15.1784\n",
      "Epoch 96/100\n",
      "300/300 [==============================] - 11s 38ms/step - loss: 0.4005 - MSE: 13.4879 - val_loss: 0.4034 - val_MSE: 15.1801\n",
      "Epoch 97/100\n",
      "300/300 [==============================] - 11s 37ms/step - loss: 0.4001 - MSE: 14.1827 - val_loss: 0.4040 - val_MSE: 15.1890\n",
      "Epoch 98/100\n",
      "300/300 [==============================] - 11s 37ms/step - loss: 0.4012 - MSE: 13.2630 - val_loss: 0.4034 - val_MSE: 15.1802\n",
      "Epoch 99/100\n",
      "300/300 [==============================] - 11s 37ms/step - loss: 0.4012 - MSE: 13.1598 - val_loss: 0.4033 - val_MSE: 15.1778\n",
      "Epoch 100/100\n",
      "300/300 [==============================] - 11s 37ms/step - loss: 0.4012 - MSE: 13.5293 - val_loss: 0.4036 - val_MSE: 15.2108\n"
     ]
    }
   ],
   "source": [
    "# Treinando a rede neural\n",
    "history=Network.fit(\n",
    "            train_x                           , # Dados de treino\n",
    "            train_y                           , # Dados de treino\n",
    "            validation_data = (test_x, test_y), # Dados de validação\n",
    "            batch_size      = 1024            , # Tamanho do batch\n",
    "            epochs          = 100             , # Número de epochs\n",
    "            steps_per_epoch = 300             , # Número de batchs por epoch\n",
    "            shuffle         = True              # Aleatorização dos batchs\n",
    "        )\n",
    "\n",
    "# Batch: pacote de dados utilizados antes de uma atualização dos pesos da rede\n",
    "# Epoch: rodada de treino da rede neural, em geral percorre todo o conjunto de dados"
   ]
  },
  {
   "cell_type": "code",
   "execution_count": 9,
   "id": "d3eacf09",
   "metadata": {},
   "outputs": [
    {
     "data": {
      "text/plain": [
       "[<matplotlib.lines.Line2D at 0x1bcf0982190>]"
      ]
     },
     "execution_count": 9,
     "metadata": {},
     "output_type": "execute_result"
    },
    {
     "data": {
      "image/png": "[encoded data removed]",
      "text/plain": [
       "<Figure size 432x288 with 1 Axes>"
      ]
     },
     "metadata": {
      "needs_background": "light"
     },
     "output_type": "display_data"
    }
   ],
   "source": [
    "plt.plot(history.history['val_loss'])"
   ]
  },
  {
   "cell_type": "code",
   "execution_count": 26,
   "id": "67d0cc3d",
   "metadata": {},
   "outputs": [],
   "source": [
    "# Salvando os pesos treinados\n",
    "Network.save_weights('Modelos treinados\\\\Modelo Rede espacial - 2')"
   ]
  },
  {
   "cell_type": "code",
   "execution_count": 59,
   "id": "b587d57d",
   "metadata": {},
   "outputs": [
    {
     "data": {
      "text/plain": [
       "<tensorflow.python.training.tracking.util.CheckpointLoadStatus at 0x1bd056bc1c0>"
      ]
     },
     "execution_count": 59,
     "metadata": {},
     "output_type": "execute_result"
    }
   ],
   "source": [
    "# Carregando os pesos treinados\n",
    "Network.load_weights('Modelos treinados\\\\Modelo Rede espacial - 2')"
   ]
  },
  {
   "cell_type": "code",
   "execution_count": 60,
   "id": "d65eee17",
   "metadata": {},
   "outputs": [],
   "source": [
    "\n",
    "# Função definida no artigo\n",
    "f_test = lambda x: -(-tf.math.sin(np.pi*x) - 0.5 * x**3 + \\\n",
    "    tf.where(x < 0, tf.constant(0.0, dtype=float_pres), tf.constant(1.0, dtype=float_pres)))\n",
    "\n",
    "    \n",
    "# Função definida no artigo\n",
    "f_test = lambda x: tf.math.sin(np.pi*x) + 0.5 * x**3"
   ]
  },
  {
   "cell_type": "code",
   "execution_count": 61,
   "id": "46bfabf3",
   "metadata": {},
   "outputs": [],
   "source": [
    "# Calculando os erros de previsão utilizando o WENO-Z em uma malha mais fina \n",
    "# como solução de referência e depois calculando o WENO-Z e o WENO-Z com a \n",
    "# modificação da rede neural numa malha mais grossa\n",
    "Δx_ref = 0.01\n",
    "Δx = Δx_ref                                # Distância espacial dos pontos na malha mais grossa utilizada\n",
    "x  = tf.range(-1, 1, Δx, dtype=float_pres) # Gerando a malha de pontos no espaço unidimensional\n",
    "\n",
    "full_U=tf.expand_dims(f_test(x),axis=0)\n",
    "\n",
    "net_u   = WENO_network(full_U,Δx)"
   ]
  },
  {
   "cell_type": "code",
   "execution_count": 62,
   "id": "6c062e82",
   "metadata": {},
   "outputs": [],
   "source": [
    "# Calculando os erros de previsão utilizando o WENO-Z em uma malha mais fina \n",
    "# como solução de referência e depois calculando o WENO-Z e o WENO-Z com a \n",
    "# modificação da rede neural numa malha mais grossa\n",
    "\n",
    "k=1\n",
    "\n",
    "Δx = Δx_ref/k                              # Distância espacial dos pontos na malha mais grossa utilizada\n",
    "x  = tf.range(-1, 1, Δx, dtype=float_pres) # Gerando a malha de pontos no espaço unidimensional\n",
    "\n",
    "full_U=tf.expand_dims(f_test(x),axis=0)\n",
    "\n",
    "debug_u   = WENO_Z_ref(full_U,Δx)         # Previsão com o WENO-Z modificado pela rede neural\n",
    "debug_u   = tf.gather(debug_u,np.arange(net_u.shape[-1])*k,axis=-1) "
   ]
  },
  {
   "cell_type": "code",
   "execution_count": 63,
   "id": "6a2ac547",
   "metadata": {},
   "outputs": [],
   "source": [
    "# Calculando os erros de previsão utilizando o WENO-Z em uma malha mais fina \n",
    "# como solução de referência e depois calculando o WENO-Z e o WENO-Z com a \n",
    "# modificação da rede neural numa malha mais grossa\n",
    "\n",
    "k=4\n",
    "\n",
    "Δx = Δx_ref/k                               # Distância espacial dos pontos na malha mais grossa utilizada\n",
    "x  = tf.range(-1, 1, Δx, dtype=float_pres) # Gerando a malha de pontos no espaço unidimensional\n",
    "\n",
    "full_U=tf.expand_dims(f_test(x),axis=0)\n",
    "\n",
    "ref_full   = tf.gather(WENO_Z_ref(full_U,Δx),np.arange(net_u.shape[-1])*k,axis=-1)             # Previsão com o WENO-Z modificado pela rede neural\n",
    "ref_full   = tf.gather(ref_full,np.arange(net_u.shape[-1])*k,axis=-1) \n",
    "\n",
    "# Armazenando ambos os erros de previsão\n",
    "error = tf.stack([net_u-ref_full,debug_u-ref_full],axis=0)\n",
    "error = tf.squeeze(error)"
   ]
  },
  {
   "cell_type": "code",
   "execution_count": 64,
   "id": "2fec605c",
   "metadata": {},
   "outputs": [
    {
     "name": "stdout",
     "output_type": "stream",
     "text": [
      "L2:\n",
      "[30.9618993 30.9625226]\n",
      "0.9999798692452999\n",
      "\n",
      "\n",
      "L1:\n",
      "[377.09450878 377.10309515]\n",
      "0.9999772307129867\n",
      "\n",
      "\n",
      "L-inf:\n",
      "[4.54294274 4.54294274]\n",
      "1.000000000013199\n"
     ]
    }
   ],
   "source": [
    "# Calculando média dos erros de acordo com a norma L2, L1 ou L-inf\n",
    "\n",
    "# Norma L2:\n",
    "#--------------------------------------------------------------------------------------\n",
    "desv_error = tf.math.reduce_sum(error**2, axis=-1)**0.5\n",
    "#--------------------------------------------------------------------------------------\n",
    "print('L2:')\n",
    "# Erro médio para a rede neural e o WENO-Z (respectivamente)\n",
    "print(desv_error.numpy())\n",
    "# Diferença entre os erros (WENO-Z - rede neural)\n",
    "# print((desv_error[1]-desv_error[0]).numpy())\n",
    "# Razão entre os erros (rede neural/WENO-Z)\n",
    "print((desv_error[0]/desv_error[1]).numpy())\n",
    "print('\\n')\n",
    "\n",
    "# Norma L1:\n",
    "#--------------------------------------------------------------------------------------\n",
    "desv_error = tf.math.reduce_sum(tf.abs(error), axis=-1)\n",
    "#--------------------------------------------------------------------------------------\n",
    "print('L1:')\n",
    "# Erro médio para a rede neural e o WENO-Z (respectivamente)\n",
    "print(desv_error.numpy())\n",
    "# Diferença entre os erros (WENO-Z - rede neural)\n",
    "# print((desv_error[1]-desv_error[0]).numpy())\n",
    "# Razão entre os erros (rede neural/WENO-Z)\n",
    "print((desv_error[0]/desv_error[1]).numpy())\n",
    "print('\\n')\n",
    "\n",
    "# Noma L-inf:\n",
    "#-------------------------------------------------------------------------------------\n",
    "desv_error = tf.math.reduce_max(tf.abs(error), axis=-1)\n",
    "#--------------------------------------------------------------------------------------\n",
    "print('L-inf:')\n",
    "# Erro médio para a rede neural e o WENO-Z (respectivamente)\n",
    "print(desv_error.numpy())\n",
    "# Diferença entre os erros (WENO-Z - rede neural)\n",
    "# print((desv_error[1]-desv_error[0]).numpy())\n",
    "# Razão entre os erros (rede neural/WENO-Z)\n",
    "print((desv_error[0]/desv_error[1]).numpy())"
   ]
  },
  {
   "cell_type": "code",
   "execution_count": 65,
   "id": "46bfabf3",
   "metadata": {},
   "outputs": [
    {
     "name": "stdout",
     "output_type": "stream",
     "text": [
      "950\r"
     ]
    }
   ],
   "source": [
    "# Calculando os erros de previsão utilizando o WENO-Z em uma malha mais fina \n",
    "# como solução de referência e depois calculando o WENO-Z e o WENO-Z com a \n",
    "# modificação da rede neural numa malha mais grossa\n",
    "sizes=np.arange(100,1000,50)\n",
    "error=[]\n",
    "k=4\n",
    "for i in sizes:\n",
    "    print(i,end='\\r')\n",
    "    Δx_ref = 2/i\n",
    "    Δx = Δx_ref                                # Distância espacial dos pontos na malha mais grossa utilizada\n",
    "    x  = tf.range(-1, 1, Δx, dtype=float_pres) # Gerando a malha de pontos no espaço unidimensional\n",
    "\n",
    "    full_U=tf.expand_dims(f_test(x),axis=0)\n",
    "    net_u   = WENO_network(full_U,Δx)\n",
    "\n",
    "    Δx = Δx_ref/k                                # Distância espacial dos pontos na malha mais grossa utilizada\n",
    "    x  = tf.range(-1, 1, Δx, dtype=float_pres) # Gerando a malha de pontos no espaço unidimensional\n",
    "\n",
    "    full_U=tf.expand_dims(f_test(x),axis=0)\n",
    "    ref_u   = WENO_Z_ref(full_U,Δx)\n",
    "    ref_u   = tf.gather(ref_u,np.arange(net_u.shape[-1])*k,axis=-1) \n",
    "\n",
    "    error.append(np.sum(np.abs(net_u-ref_u)[:,10:-10]))\n"
   ]
  },
  {
   "cell_type": "code",
   "execution_count": 66,
   "id": "e09cb202",
   "metadata": {},
   "outputs": [
    {
     "data": {
      "text/plain": [
       "[<matplotlib.lines.Line2D at 0x1bd00165370>]"
      ]
     },
     "execution_count": 66,
     "metadata": {},
     "output_type": "execute_result"
    },
    {
     "data": {
      "image/png": "[encoded data removed]",
      "text/plain": [
       "<Figure size 432x288 with 1 Axes>"
      ]
     },
     "metadata": {
      "needs_background": "light"
     },
     "output_type": "display_data"
    }
   ],
   "source": [
    "plt.plot(sizes,error)"
   ]
  },
  {
   "cell_type": "code",
   "execution_count": 67,
   "id": "2fec605c",
   "metadata": {},
   "outputs": [
    {
     "data": {
      "text/plain": [
       "[<matplotlib.lines.Line2D at 0x1bd00068670>]"
      ]
     },
     "execution_count": 67,
     "metadata": {},
     "output_type": "execute_result"
    },
    {
     "data": {
      "image/png": "[encoded data removed]",
      "text/plain": [
       "<Figure size 432x288 with 1 Axes>"
      ]
     },
     "metadata": {
      "needs_background": "light"
     },
     "output_type": "display_data"
    }
   ],
   "source": [
    "plt.plot(sizes,np.log(np.asarray(error)))"
   ]
  },
  {
   "cell_type": "code",
   "execution_count": 53,
   "id": "64379bd9",
   "metadata": {},
   "outputs": [],
   "source": [
    "Sim, Sim_step, DerivadaEspacial, Get_weights=create_simulation(API_Numpy,diff_equation,WENO_Z)\n",
    "WENO_Z_ref=lambda u0, Δx_inpt:DerivadaEspacial(u0,Δx_inpt, FronteiraFixa)"
   ]
  },
  {
   "cell_type": "code",
   "execution_count": 73,
   "id": "d92c8c2d",
   "metadata": {},
   "outputs": [],
   "source": [
    "Δx_ref = 0.01\n",
    "\n",
    "def f(x):\n",
    "    return np.sin(np.pi*x)\n",
    "\n",
    "def df(x):\n",
    "    return np.pi*np.cos(np.pi*x)\n"
   ]
  },
  {
   "cell_type": "code",
   "execution_count": 74,
   "id": "0669f024",
   "metadata": {},
   "outputs": [
    {
     "data": {
      "image/png": "[encoded data removed]",
      "text/plain": [
       "<Figure size 432x288 with 1 Axes>"
      ]
     },
     "metadata": {
      "needs_background": "light"
     },
     "output_type": "display_data"
    }
   ],
   "source": [
    "Δx1 = Δx_ref\n",
    "x1  = np.arange(-1, 1, Δx1)\n",
    "x1  = np.expand_dims(x1,0)\n",
    "u1  = f(x1)\n",
    "du1 = df(x1)\n",
    "y1=WENO_network(u1, Δx1)\n",
    "\n",
    "plt.plot(x1[0],du1[0],label='Derivada analítica')\n",
    "plt.plot(x1[0],y1[0],label='Derivada WENO-DS')\n",
    "plt.legend()\n",
    "plt.show()"
   ]
  },
  {
   "cell_type": "code",
   "execution_count": 75,
   "id": "5478a6be",
   "metadata": {},
   "outputs": [
    {
     "name": "stdout",
     "output_type": "stream",
     "text": [
      "(1, 800)\n"
     ]
    }
   ],
   "source": [
    "Δx1 = Δx_ref\n",
    "x1  = np.arange(-1, 1, Δx1)\n",
    "x1  = np.expand_dims(x1,0)\n",
    "u1  = f(x1)\n",
    "du1 = df(x1)\n",
    "y1=WENO_network(u1, Δx1)\n",
    "\n",
    "print(y1.shape)"
   ]
  },
  {
   "cell_type": "code",
   "execution_count": 76,
   "id": "4415a146",
   "metadata": {},
   "outputs": [
    {
     "name": "stdout",
     "output_type": "stream",
     "text": [
      "(1, 1600)\n"
     ]
    }
   ],
   "source": [
    "Δx2 = Δx_ref/2\n",
    "x2  = np.arange(-1, 1, Δx2)\n",
    "x2  = np.expand_dims(x2,0)\n",
    "u2  = f(x2)\n",
    "du2 = df(x2)\n",
    "y2=WENO_network(u2, Δx2)\n",
    "\n",
    "print(y2.shape)"
   ]
  },
  {
   "cell_type": "code",
   "execution_count": 77,
   "id": "a40337e4",
   "metadata": {},
   "outputs": [
    {
     "name": "stdout",
     "output_type": "stream",
     "text": [
      "57.61298642438554\n",
      "5.8483221381233825\n"
     ]
    }
   ],
   "source": [
    "razao=(np.sum(np.abs(y1 - du1)[:,10:-10])/np.sum(np.abs(y2 - du2)[:,10:-10]))\n",
    "print(razao)\n",
    "print(np.log(razao)/np.log(2))"
   ]
  }
 ],
 "metadata": {
  "kernelspec": {
   "display_name": "Python 3",
   "language": "python",
   "name": "python3"
  },
  "language_info": {
   "codemirror_mode": {
    "name": "ipython",
    "version": 3
   },
   "file_extension": ".py",
   "mimetype": "text/x-python",
   "name": "python",
   "nbconvert_exporter": "python",
   "pygments_lexer": "ipython3",
   "version": "3.8.10"
  },
  "widgets": {
   "application/vnd.jupyter.widget-state+json": {
    "state": {},
    "version_major": 2,
    "version_minor": 0
   }
  }
 },
 "nbformat": 4,
 "nbformat_minor": 5
}
