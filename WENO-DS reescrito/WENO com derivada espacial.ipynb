{
 "cells": [
  {
   "cell_type": "code",
   "execution_count": 1,
   "id": "3789e98e",
   "metadata": {},
   "outputs": [],
   "source": [
    "# Importando os módulos que serão utilizados\n",
    "\n",
    "import tensorflow as tf\n",
    "import numpy as np\n",
    "import tensorflow.keras as keras\n",
    "import matplotlib.pyplot as plt\n",
    "import time\n",
    "import dill\n",
    "\n",
    "# Configurando o acesso do tensorflow aos processadores do computador\n",
    "# no caso, está sendo selecionada a primeira placa de vídeo listada\n",
    "\n",
    "gpus = tf.config.experimental.list_physical_devices('GPU') # Listando as placas de vídeo\n",
    "tf.config.experimental.set_memory_growth(gpus[0], True)    # Selecionando a primeira GPU e configurando\n",
    "\n",
    "# Importando os módulos contendo as funções criadas no projeto\n",
    "\n",
    "from aux_func_V3 import *\n",
    "import API_Numpy\n",
    "import API_TensorFlow"
   ]
  },
  {
   "cell_type": "code",
   "execution_count": 2,
   "id": "c20885af",
   "metadata": {},
   "outputs": [],
   "source": [
    "with open('datasets\\\\Dados espaciais.bkp','rb') as file:\n",
    "    y,dy=dill.load(file)\n",
    "\n",
    "indice = np.arange(y.shape[0])\n",
    "np.random.shuffle(indice)\n",
    "data_x = y.astype('float64')[indice]\n",
    "data_y = dy.astype('float64')[indice]\n",
    "\n",
    "# Conjunto de dados de treino\n",
    "train_x = data_x[:-20000]\n",
    "train_y = data_y[:-20000]\n",
    "\n",
    "# Conjunto de dados de validação\n",
    "test_x = data_x[-20000:]\n",
    "test_y = data_y[-20000:]"
   ]
  },
  {
   "cell_type": "code",
   "execution_count": 3,
   "id": "42037dea",
   "metadata": {},
   "outputs": [],
   "source": [
    "# Criando uma camada de Burgers que integra o WENO à rede neural\n",
    "Δx=0.01\n",
    "Sim_layer = WENO_espacial(Δx,FronteiraFixa,diff_equation,WENO_JS)\n",
    "@tf.function\n",
    "def WENO_network(u0, Δx):\n",
    "    #Sim_layer.Δx.assign(Δx)\n",
    "    return Sim_layer.DerivadaEspacial(u0,Δx, FronteiraFixa)"
   ]
  },
  {
   "cell_type": "code",
   "execution_count": 4,
   "id": "c91bdeb5",
   "metadata": {},
   "outputs": [],
   "source": [
    "# Definindo o input da rede e o otimizador de treino\n",
    "input_x   = keras.layers.Input([7], dtype='float64')\n",
    "optimizer = keras.optimizers.Adam(learning_rate=10**-3, beta_1=0.9, beta_2=0.999, clipnorm=1.0)\n",
    "\n",
    "# Criando a rede neural\n",
    "Network = keras.Model(input_x, Sim_layer(input_x))\n",
    "# Configurando a função de perda e o otimizador\n",
    "loss=Only_smooth_loss(lambda x,y:tf.math.abs(x-y),10)\n",
    "Network.compile(loss=loss, optimizer=optimizer, metrics=['MSE'])"
   ]
  },
  {
   "cell_type": "code",
   "execution_count": 5,
   "id": "f507a4d7",
   "metadata": {},
   "outputs": [
    {
     "name": "stdout",
     "output_type": "stream",
     "text": [
      "Epoch 1/100\n",
      "300/300 [==============================] - 16s 35ms/step - loss: 0.4336 - MSE: 14.2199 - val_loss: 0.4229 - val_MSE: 13.7246\n",
      "Epoch 2/100\n",
      "300/300 [==============================] - 10s 33ms/step - loss: 0.4287 - MSE: 14.2794 - val_loss: 0.4217 - val_MSE: 13.7056\n",
      "Epoch 3/100\n",
      "300/300 [==============================] - 10s 34ms/step - loss: 0.4284 - MSE: 14.1209 - val_loss: 0.4215 - val_MSE: 13.7039\n",
      "Epoch 4/100\n",
      "300/300 [==============================] - 10s 34ms/step - loss: 0.4271 - MSE: 14.4919 - val_loss: 0.4214 - val_MSE: 13.7043\n",
      "Epoch 5/100\n",
      "300/300 [==============================] - 10s 34ms/step - loss: 0.4279 - MSE: 14.4188 - val_loss: 0.4213 - val_MSE: 13.7039\n",
      "Epoch 6/100\n",
      "300/300 [==============================] - 10s 34ms/step - loss: 0.4284 - MSE: 14.5576 - val_loss: 0.4211 - val_MSE: 13.7019\n",
      "Epoch 7/100\n",
      "300/300 [==============================] - 10s 34ms/step - loss: 0.4287 - MSE: 14.1086 - val_loss: 0.4209 - val_MSE: 13.6970\n",
      "Epoch 8/100\n",
      "300/300 [==============================] - 10s 34ms/step - loss: 0.4282 - MSE: 14.2539 - val_loss: 0.4205 - val_MSE: 13.6861\n",
      "Epoch 9/100\n",
      "300/300 [==============================] - 10s 34ms/step - loss: 0.4275 - MSE: 14.2081 - val_loss: 0.4195 - val_MSE: 13.6559\n",
      "Epoch 10/100\n",
      "300/300 [==============================] - 10s 34ms/step - loss: 0.4270 - MSE: 13.9637 - val_loss: 0.4185 - val_MSE: 13.6333\n",
      "Epoch 11/100\n",
      "300/300 [==============================] - 10s 34ms/step - loss: 0.4238 - MSE: 14.2413 - val_loss: 0.4175 - val_MSE: 13.6091\n",
      "Epoch 12/100\n",
      "300/300 [==============================] - 10s 34ms/step - loss: 0.4240 - MSE: 14.7452 - val_loss: 0.4166 - val_MSE: 13.5879\n",
      "Epoch 13/100\n",
      "300/300 [==============================] - 10s 34ms/step - loss: 0.4205 - MSE: 13.3172 - val_loss: 0.4157 - val_MSE: 13.5673\n",
      "Epoch 14/100\n",
      "300/300 [==============================] - 10s 34ms/step - loss: 0.4208 - MSE: 13.7854 - val_loss: 0.4150 - val_MSE: 13.5451\n",
      "Epoch 15/100\n",
      "300/300 [==============================] - 10s 35ms/step - loss: 0.4224 - MSE: 13.9238 - val_loss: 0.4143 - val_MSE: 13.5211\n",
      "Epoch 16/100\n",
      "300/300 [==============================] - 10s 35ms/step - loss: 0.4210 - MSE: 14.3299 - val_loss: 0.4137 - val_MSE: 13.5070\n",
      "Epoch 17/100\n",
      "300/300 [==============================] - 10s 34ms/step - loss: 0.4207 - MSE: 14.1506 - val_loss: 0.4131 - val_MSE: 13.4870\n",
      "Epoch 18/100\n",
      "300/300 [==============================] - 10s 35ms/step - loss: 0.4207 - MSE: 14.2190 - val_loss: 0.4126 - val_MSE: 13.4739\n",
      "Epoch 19/100\n",
      "199/300 [==================>...........] - ETA: 3s - loss: 0.4186 - MSE: 14.2247"
     ]
    }
   ],
   "source": [
    "# Treinando a rede neural\n",
    "history=Network.fit(\n",
    "            train_x                           , # Dados de treino\n",
    "            train_y                           , # Dados de treino\n",
    "            validation_data = (test_x, test_y), # Dados de validação\n",
    "            batch_size      = 1024            , # Tamanho do batch\n",
    "            epochs          = 100             , # Número de epochs\n",
    "            steps_per_epoch = 300             , # Número de batchs por epoch\n",
    "            shuffle         = True              # Aleatorização dos batchs\n",
    "        )\n",
    "\n",
    "# Batch: pacote de dados utilizados antes de uma atualização dos pesos da rede\n",
    "# Epoch: rodada de treino da rede neural, em geral percorre todo o conjunto de dados"
   ]
  },
  {
   "cell_type": "code",
   "execution_count": 8,
   "id": "d3eacf09",
   "metadata": {},
   "outputs": [
    {
     "data": {
      "image/png": "[encoded data removed]",
      "text/plain": [
       "<Figure size 432x288 with 1 Axes>"
      ]
     },
     "metadata": {
      "needs_background": "light"
     },
     "output_type": "display_data"
    }
   ],
   "source": [
    "plt.plot(history.history['val_loss'])\n",
    "plt.show()"
   ]
  },
  {
   "cell_type": "code",
   "execution_count": 9,
   "id": "67d0cc3d",
   "metadata": {},
   "outputs": [],
   "source": [
    "# Salvando os pesos treinados\n",
    "Network.save_weights('Modelos treinados\\\\Modelo Rede espacial - 4')"
   ]
  },
  {
   "cell_type": "code",
   "execution_count": 10,
   "id": "64379bd9",
   "metadata": {},
   "outputs": [],
   "source": [
    "Sim, Sim_step, DerivadaEspacial, Get_weights=create_simulation(API_Numpy,diff_equation,WENO_Z)\n",
    "WENO_Z_ref=lambda u0, Δx_inpt:DerivadaEspacial(u0,Δx_inpt, FronteiraFixa)"
   ]
  },
  {
   "cell_type": "code",
   "execution_count": 12,
   "id": "42037dea",
   "metadata": {},
   "outputs": [],
   "source": [
    "# Criando uma camada de Burgers que integra o WENO à rede neural\n",
    "Δx=0.01\n",
    "Sim_layer = WENO_espacial(Δx,FronteiraFixa,diff_equation,WENO_JS)\n",
    "@tf.function\n",
    "def WENO_network(u0, Δx):\n",
    "    #Sim_layer.Δx.assign(Δx)\n",
    "    return Sim_layer.DerivadaEspacial(u0,Δx, FronteiraFixa)"
   ]
  },
  {
   "cell_type": "code",
   "execution_count": 13,
   "id": "c91bdeb5",
   "metadata": {},
   "outputs": [],
   "source": [
    "# Definindo o input da rede e o otimizador de treino\n",
    "input_x   = keras.layers.Input([7], dtype='float64')\n",
    "optimizer = keras.optimizers.Adam(learning_rate=10**-3, beta_1=0.9, beta_2=0.999, clipnorm=1.0)\n",
    "\n",
    "# Criando a rede neural\n",
    "Network = keras.Model(input_x, Sim_layer(input_x))\n",
    "# Configurando a função de perda e o otimizador\n",
    "loss=Only_smooth_loss(lambda x,y:tf.math.abs(x-y),10)\n",
    "Network.compile(loss=loss, optimizer=optimizer, metrics=['MSE'])"
   ]
  },
  {
   "cell_type": "code",
   "execution_count": 14,
   "id": "b587d57d",
   "metadata": {},
   "outputs": [
    {
     "data": {
      "text/plain": [
       "<tensorflow.python.training.tracking.util.CheckpointLoadStatus at 0x279f0ba9640>"
      ]
     },
     "execution_count": 14,
     "metadata": {},
     "output_type": "execute_result"
    }
   ],
   "source": [
    "# Carregando os pesos treinados\n",
    "Network.load_weights('Modelos treinados\\\\Modelo Rede espacial - 4')"
   ]
  },
  {
   "cell_type": "code",
   "execution_count": 15,
   "id": "d92c8c2d",
   "metadata": {},
   "outputs": [],
   "source": [
    "Δx_ref = 0.01\n",
    "\n",
    "def f(x):\n",
    "    return np.sin(np.pi*x)\n",
    "\n",
    "def df(x):\n",
    "    return np.pi*np.cos(np.pi*x)\n"
   ]
  },
  {
   "cell_type": "code",
   "execution_count": 16,
   "id": "0669f024",
   "metadata": {},
   "outputs": [
    {
     "data": {
      "image/png": "[encoded data removed]",
      "text/plain": [
       "<Figure size 432x288 with 1 Axes>"
      ]
     },
     "metadata": {
      "needs_background": "light"
     },
     "output_type": "display_data"
    }
   ],
   "source": [
    "Δx1 = Δx_ref\n",
    "x1  = np.arange(-1, 1, Δx1)\n",
    "x1  = np.expand_dims(x1,0)\n",
    "u1  = f(x1)\n",
    "du1 = df(x1)\n",
    "y1=WENO_network(u1, Δx1)\n",
    "\n",
    "plt.plot(x1[0],du1[0],label='Derivada analítica')\n",
    "plt.plot(x1[0],y1[0],label='Derivada WENO-DS')\n",
    "plt.legend()\n",
    "plt.show()"
   ]
  },
  {
   "cell_type": "code",
   "execution_count": 17,
   "id": "d65eee17",
   "metadata": {},
   "outputs": [],
   "source": [
    "\n",
    "# Função definida no artigo\n",
    "f_test = lambda x: -(-tf.math.sin(np.pi*x) - 0.5 * x**3 + \\\n",
    "    tf.where(x < 0, tf.constant(0.0, dtype=float_pres), tf.constant(1.0, dtype=float_pres)))\n",
    "\n",
    "    \n",
    "# Função definida no artigo\n",
    "f_test = lambda x: tf.math.sin(np.pi*x) + 0.5 * x**3"
   ]
  },
  {
   "cell_type": "code",
   "execution_count": 18,
   "id": "46bfabf3",
   "metadata": {},
   "outputs": [],
   "source": [
    "# Calculando os erros de previsão utilizando o WENO-Z em uma malha mais fina \n",
    "# como solução de referência e depois calculando o WENO-Z e o WENO-Z com a \n",
    "# modificação da rede neural numa malha mais grossa\n",
    "Δx_ref = 0.01\n",
    "Δx = Δx_ref                                # Distância espacial dos pontos na malha mais grossa utilizada\n",
    "x  = tf.range(-1, 1, Δx, dtype=float_pres) # Gerando a malha de pontos no espaço unidimensional\n",
    "\n",
    "full_U=tf.expand_dims(f_test(x),axis=0)\n",
    "\n",
    "net_u   = WENO_network(full_U,Δx)"
   ]
  },
  {
   "cell_type": "code",
   "execution_count": 19,
   "id": "6c062e82",
   "metadata": {},
   "outputs": [],
   "source": [
    "# Calculando os erros de previsão utilizando o WENO-Z em uma malha mais fina \n",
    "# como solução de referência e depois calculando o WENO-Z e o WENO-Z com a \n",
    "# modificação da rede neural numa malha mais grossa\n",
    "\n",
    "k=1\n",
    "\n",
    "Δx = Δx_ref/k                              # Distância espacial dos pontos na malha mais grossa utilizada\n",
    "x  = tf.range(-1, 1, Δx, dtype=float_pres) # Gerando a malha de pontos no espaço unidimensional\n",
    "\n",
    "full_U=tf.expand_dims(f_test(x),axis=0)\n",
    "\n",
    "debug_u   = WENO_Z_ref(full_U,Δx)         # Previsão com o WENO-Z modificado pela rede neural\n",
    "debug_u   = tf.gather(debug_u,np.arange(net_u.shape[-1])*k,axis=-1) "
   ]
  },
  {
   "cell_type": "code",
   "execution_count": 20,
   "id": "6a2ac547",
   "metadata": {},
   "outputs": [],
   "source": [
    "# Calculando os erros de previsão utilizando o WENO-Z em uma malha mais fina \n",
    "# como solução de referência e depois calculando o WENO-Z e o WENO-Z com a \n",
    "# modificação da rede neural numa malha mais grossa\n",
    "\n",
    "k=4\n",
    "\n",
    "Δx = Δx_ref/k                               # Distância espacial dos pontos na malha mais grossa utilizada\n",
    "x  = tf.range(-1, 1, Δx, dtype=float_pres) # Gerando a malha de pontos no espaço unidimensional\n",
    "\n",
    "full_U=tf.expand_dims(f_test(x),axis=0)\n",
    "\n",
    "ref_full   = tf.gather(WENO_Z_ref(full_U,Δx),np.arange(net_u.shape[-1])*k,axis=-1)             # Previsão com o WENO-Z modificado pela rede neural\n",
    "ref_full   = tf.gather(ref_full,np.arange(net_u.shape[-1])*k,axis=-1) \n",
    "\n",
    "# Armazenando ambos os erros de previsão\n",
    "error = tf.stack([net_u-ref_full,debug_u-ref_full],axis=0)\n",
    "error = tf.squeeze(error)"
   ]
  },
  {
   "cell_type": "code",
   "execution_count": 21,
   "id": "2fec605c",
   "metadata": {},
   "outputs": [
    {
     "name": "stdout",
     "output_type": "stream",
     "text": [
      "L2:\n",
      "[30.96190656 30.9625226 ]\n",
      "0.9999801037030798\n",
      "\n",
      "\n",
      "L1:\n",
      "[377.09428226 377.10309515]\n",
      "0.999976630044763\n",
      "\n",
      "\n",
      "L-inf:\n",
      "[4.54294274 4.54294274]\n",
      "1.0000000000569684\n"
     ]
    }
   ],
   "source": [
    "# Calculando média dos erros de acordo com a norma L2, L1 ou L-inf\n",
    "\n",
    "# Norma L2:\n",
    "#--------------------------------------------------------------------------------------\n",
    "desv_error = tf.math.reduce_sum(error**2, axis=-1)**0.5\n",
    "#--------------------------------------------------------------------------------------\n",
    "print('L2:')\n",
    "# Erro médio para a rede neural e o WENO-Z (respectivamente)\n",
    "print(desv_error.numpy())\n",
    "# Diferença entre os erros (WENO-Z - rede neural)\n",
    "# print((desv_error[1]-desv_error[0]).numpy())\n",
    "# Razão entre os erros (rede neural/WENO-Z)\n",
    "print((desv_error[0]/desv_error[1]).numpy())\n",
    "print('\\n')\n",
    "\n",
    "# Norma L1:\n",
    "#--------------------------------------------------------------------------------------\n",
    "desv_error = tf.math.reduce_sum(tf.abs(error), axis=-1)\n",
    "#--------------------------------------------------------------------------------------\n",
    "print('L1:')\n",
    "# Erro médio para a rede neural e o WENO-Z (respectivamente)\n",
    "print(desv_error.numpy())\n",
    "# Diferença entre os erros (WENO-Z - rede neural)\n",
    "# print((desv_error[1]-desv_error[0]).numpy())\n",
    "# Razão entre os erros (rede neural/WENO-Z)\n",
    "print((desv_error[0]/desv_error[1]).numpy())\n",
    "print('\\n')\n",
    "\n",
    "# Noma L-inf:\n",
    "#-------------------------------------------------------------------------------------\n",
    "desv_error = tf.math.reduce_max(tf.abs(error), axis=-1)\n",
    "#--------------------------------------------------------------------------------------\n",
    "print('L-inf:')\n",
    "# Erro médio para a rede neural e o WENO-Z (respectivamente)\n",
    "print(desv_error.numpy())\n",
    "# Diferença entre os erros (WENO-Z - rede neural)\n",
    "# print((desv_error[1]-desv_error[0]).numpy())\n",
    "# Razão entre os erros (rede neural/WENO-Z)\n",
    "print((desv_error[0]/desv_error[1]).numpy())"
   ]
  },
  {
   "cell_type": "code",
   "execution_count": 22,
   "id": "46bfabf3",
   "metadata": {},
   "outputs": [
    {
     "name": "stdout",
     "output_type": "stream",
     "text": [
      "WARNING:tensorflow:5 out of the last 6 calls to <function WENO_network at 0x00000279F0C4B3A0> triggered tf.function retracing. Tracing is expensive and the excessive number of tracings could be due to (1) creating @tf.function repeatedly in a loop, (2) passing tensors with different shapes, (3) passing Python objects instead of tensors. For (1), please define your @tf.function outside of the loop. For (2), @tf.function has experimental_relax_shapes=True option that relaxes argument shapes that can avoid unnecessary retracing. For (3), please refer to https://www.tensorflow.org/guide/function#controlling_retracing and https://www.tensorflow.org/api_docs/python/tf/function for  more details.\n",
      "WARNING:tensorflow:6 out of the last 7 calls to <function WENO_network at 0x00000279F0C4B3A0> triggered tf.function retracing. Tracing is expensive and the excessive number of tracings could be due to (1) creating @tf.function repeatedly in a loop, (2) passing tensors with different shapes, (3) passing Python objects instead of tensors. For (1), please define your @tf.function outside of the loop. For (2), @tf.function has experimental_relax_shapes=True option that relaxes argument shapes that can avoid unnecessary retracing. For (3), please refer to https://www.tensorflow.org/guide/function#controlling_retracing and https://www.tensorflow.org/api_docs/python/tf/function for  more details.\n",
      "950\r"
     ]
    }
   ],
   "source": [
    "# Calculando os erros de previsão utilizando o WENO-Z em uma malha mais fina \n",
    "# como solução de referência e depois calculando o WENO-Z e o WENO-Z com a \n",
    "# modificação da rede neural numa malha mais grossa\n",
    "sizes=np.arange(100,1000,50)\n",
    "error=[]\n",
    "k=4\n",
    "for i in sizes:\n",
    "    print(i,end='\\r')\n",
    "    Δx_ref = 2/i\n",
    "    Δx = Δx_ref                                # Distância espacial dos pontos na malha mais grossa utilizada\n",
    "    x  = tf.range(-1, 1, Δx, dtype=float_pres) # Gerando a malha de pontos no espaço unidimensional\n",
    "\n",
    "    full_U=tf.expand_dims(f_test(x),axis=0)\n",
    "    net_u   = WENO_network(full_U,Δx)\n",
    "\n",
    "    Δx = Δx_ref/k                                # Distância espacial dos pontos na malha mais grossa utilizada\n",
    "    x  = tf.range(-1, 1, Δx, dtype=float_pres) # Gerando a malha de pontos no espaço unidimensional\n",
    "\n",
    "    full_U=tf.expand_dims(f_test(x),axis=0)\n",
    "    ref_u   = WENO_Z_ref(full_U,Δx)\n",
    "    ref_u   = tf.gather(ref_u,np.arange(net_u.shape[-1])*k,axis=-1) \n",
    "\n",
    "    error.append(np.sum(np.abs(net_u-ref_u)[:,10:-10]))\n",
    "error=np.asarray(error)"
   ]
  },
  {
   "cell_type": "code",
   "execution_count": 23,
   "id": "e09cb202",
   "metadata": {},
   "outputs": [
    {
     "data": {
      "text/plain": [
       "[<matplotlib.lines.Line2D at 0x279fdefe1c0>]"
      ]
     },
     "execution_count": 23,
     "metadata": {},
     "output_type": "execute_result"
    },
    {
     "data": {
      "image/png": "[encoded data removed]",
      "text/plain": [
       "<Figure size 432x288 with 1 Axes>"
      ]
     },
     "metadata": {
      "needs_background": "light"
     },
     "output_type": "display_data"
    }
   ],
   "source": [
    "plt.plot(sizes,error)"
   ]
  },
  {
   "cell_type": "code",
   "execution_count": 24,
   "id": "2fec605c",
   "metadata": {},
   "outputs": [
    {
     "data": {
      "text/plain": [
       "[<matplotlib.lines.Line2D at 0x279fdf58400>]"
      ]
     },
     "execution_count": 24,
     "metadata": {},
     "output_type": "execute_result"
    },
    {
     "data": {
      "image/png": "[encoded data removed]",
      "text/plain": [
       "<Figure size 432x288 with 1 Axes>"
      ]
     },
     "metadata": {
      "needs_background": "light"
     },
     "output_type": "display_data"
    }
   ],
   "source": [
    "plt.plot(np.log(sizes),np.log(error))\n",
    "plt.plot(np.log(sizes),-5*(np.log(sizes)-np.mean(np.log(sizes)))+np.mean(np.log(error)))"
   ]
  },
  {
   "cell_type": "code",
   "execution_count": 28,
   "id": "5478a6be",
   "metadata": {},
   "outputs": [
    {
     "name": "stdout",
     "output_type": "stream",
     "text": [
      "(1, 200)\n"
     ]
    }
   ],
   "source": [
    "Δx1 = 0.01\n",
    "x1  = np.arange(-1, 1, Δx1)\n",
    "x1  = np.expand_dims(x1,0)\n",
    "u1  = f(x1)\n",
    "du1 = df(x1)\n",
    "y1=WENO_network(u1, Δx1)\n",
    "\n",
    "print(y1.shape)"
   ]
  },
  {
   "cell_type": "code",
   "execution_count": 29,
   "id": "4415a146",
   "metadata": {},
   "outputs": [
    {
     "name": "stdout",
     "output_type": "stream",
     "text": [
      "(1, 400)\n"
     ]
    }
   ],
   "source": [
    "Δx2 = Δx1/2\n",
    "x2  = np.arange(-1, 1, Δx2)\n",
    "x2  = np.expand_dims(x2,0)\n",
    "u2  = f(x2)\n",
    "du2 = df(x2)\n",
    "y2=WENO_network(u2, Δx2)\n",
    "\n",
    "print(y2.shape)"
   ]
  },
  {
   "cell_type": "code",
   "execution_count": 30,
   "id": "a40337e4",
   "metadata": {},
   "outputs": [
    {
     "name": "stdout",
     "output_type": "stream",
     "text": [
      "46.00153874877609\n",
      "5.523610214928741\n"
     ]
    }
   ],
   "source": [
    "razao=(np.sum(np.abs(y1 - du1)[:,10:-10])/np.sum(np.abs(y2 - du2)[:,10:-10]))\n",
    "print(razao)\n",
    "print(np.log(razao)/np.log(2))"
   ]
  }
 ],
 "metadata": {
  "kernelspec": {
   "display_name": "Python 3",
   "language": "python",
   "name": "python3"
  },
  "language_info": {
   "codemirror_mode": {
    "name": "ipython",
    "version": 3
   },
   "file_extension": ".py",
   "mimetype": "text/x-python",
   "name": "python",
   "nbconvert_exporter": "python",
   "pygments_lexer": "ipython3",
   "version": "3.8.10"
  },
  "widgets": {
   "application/vnd.jupyter.widget-state+json": {
    "state": {},
    "version_major": 2,
    "version_minor": 0
   }
  }
 },
 "nbformat": 4,
 "nbformat_minor": 5
}
