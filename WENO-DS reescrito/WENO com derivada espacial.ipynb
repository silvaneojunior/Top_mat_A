{
 "cells": [
  {
   "cell_type": "code",
   "execution_count": 1,
   "id": "3789e98e",
   "metadata": {},
   "outputs": [],
   "source": [
    "# Importando os módulos que serão utilizados\n",
    "\n",
    "import tensorflow as tf\n",
    "import numpy as np\n",
    "import tensorflow.keras as keras\n",
    "import matplotlib.pyplot as plt\n",
    "import time\n",
    "import dill\n",
    "\n",
    "# Configurando o acesso do tensorflow aos processadores do computador\n",
    "# no caso, está sendo selecionada a primeira placa de vídeo listada\n",
    "\n",
    "gpus = tf.config.experimental.list_physical_devices('GPU') # Listando as placas de vídeo\n",
    "tf.config.experimental.set_memory_growth(gpus[0], True)    # Selecionando a primeira GPU e configurando\n",
    "\n",
    "# Importando os módulos contendo as funções criadas no projeto\n",
    "\n",
    "from aux_func_V3 import *\n",
    "import API_Numpy\n",
    "import API_TensorFlow"
   ]
  },
  {
   "cell_type": "code",
   "execution_count": 64,
   "id": "8a6b0604",
   "metadata": {},
   "outputs": [],
   "source": [
    "Sim, Sim_step, DerivadaEspacial, Get_weights=create_simulation(API_Numpy,diff_equation,WENO_Z)\n",
    "WENO_Z_ref=lambda u0, Δx:DerivadaEspacial(u0,Δx, FronteiraFixa)"
   ]
  },
  {
   "cell_type": "code",
   "execution_count": 3,
   "id": "c20885af",
   "metadata": {},
   "outputs": [],
   "source": [
    "with open('datasets\\\\Dados espaciais.bkp','rb') as file:\n",
    "    y,dy=dill.load(file)"
   ]
  },
  {
   "cell_type": "code",
   "execution_count": 4,
   "id": "9f185cad",
   "metadata": {},
   "outputs": [],
   "source": [
    "indice = np.arange(y.shape[0])\n",
    "np.random.shuffle(indice)\n",
    "data_x = y.astype('float64')[indice]\n",
    "data_y = dy.astype('float64')[indice]"
   ]
  },
  {
   "cell_type": "code",
   "execution_count": 5,
   "id": "8a440a55",
   "metadata": {},
   "outputs": [],
   "source": [
    "# Conjunto de dados de treino\n",
    "train_x = data_x[:-20000]\n",
    "train_y = data_y[:-20000]\n",
    "\n",
    "# Conjunto de dados de validação\n",
    "test_x = data_x[-20000:]\n",
    "test_y = data_y[-20000:]"
   ]
  },
  {
   "cell_type": "code",
   "execution_count": 65,
   "id": "42037dea",
   "metadata": {},
   "outputs": [],
   "source": [
    "# Criando uma camada de Burgers que integra o WENO à rede neural\n",
    "Δx=0.014388489208633115\n",
    "Sim_layer = WENO_espacial(Δx,FronteiraFixa,diff_equation,WENO_JS)\n",
    "WENO_network=tf.function(lambda u0, Δx:Sim_layer.DerivadaEspacial(u0,Δx, FronteiraFixa))"
   ]
  },
  {
   "cell_type": "code",
   "execution_count": 7,
   "id": "c91bdeb5",
   "metadata": {},
   "outputs": [],
   "source": [
    "# Definindo o input da rede e o otimizador de treino\n",
    "input_x   = keras.layers.Input([7], dtype='float64')\n",
    "optimizer = keras.optimizers.Adam(learning_rate=10**-3, beta_1=0.9, beta_2=0.999, clipnorm=1.0)\n",
    "\n",
    "# Criando a rede neural\n",
    "Network = keras.Model(input_x, Sim_layer(input_x))\n",
    "# Configurando a função de perda e o otimizador\n",
    "Network.compile(loss='mean_absolute_error', optimizer=optimizer, metrics=['MSE'])\n",
    "# Carregando os pesos da rede neural treinados\n",
    "#Network.load_weights('Modelo artigo')"
   ]
  },
  {
   "cell_type": "code",
   "execution_count": 8,
   "id": "f507a4d7",
   "metadata": {},
   "outputs": [
    {
     "name": "stdout",
     "output_type": "stream",
     "text": [
      "Epoch 1/100\n",
      "300/300 [==============================] - 19s 38ms/step - loss: 25.2380 - MSE: 9619.6494 - val_loss: 24.0511 - val_MSE: 8419.2783\n",
      "Epoch 2/100\n",
      "300/300 [==============================] - 10s 34ms/step - loss: 24.3795 - MSE: 8986.7930 - val_loss: 23.7815 - val_MSE: 8381.3008\n",
      "Epoch 3/100\n",
      "300/300 [==============================] - 10s 34ms/step - loss: 24.2259 - MSE: 8941.7598 - val_loss: 23.5528 - val_MSE: 8347.4092\n",
      "Epoch 4/100\n",
      "300/300 [==============================] - 10s 35ms/step - loss: 23.6064 - MSE: 8641.4277 - val_loss: 23.3806 - val_MSE: 8332.7031\n",
      "Epoch 5/100\n",
      "300/300 [==============================] - 10s 35ms/step - loss: 23.6639 - MSE: 8736.1182 - val_loss: 23.1826 - val_MSE: 8188.6289\n",
      "Epoch 6/100\n",
      "300/300 [==============================] - 11s 36ms/step - loss: 23.4282 - MSE: 8661.6924 - val_loss: 23.0753 - val_MSE: 8195.1562\n",
      "Epoch 7/100\n",
      "300/300 [==============================] - 11s 36ms/step - loss: 23.2549 - MSE: 8526.0400 - val_loss: 23.0106 - val_MSE: 8172.9897\n",
      "Epoch 8/100\n",
      "300/300 [==============================] - 11s 37ms/step - loss: 23.4851 - MSE: 8752.7373 - val_loss: 22.9942 - val_MSE: 8169.5786\n",
      "Epoch 9/100\n",
      "300/300 [==============================] - 11s 37ms/step - loss: 23.3538 - MSE: 8614.9521 - val_loss: 22.9842 - val_MSE: 8167.8862\n",
      "Epoch 10/100\n",
      "300/300 [==============================] - 12s 39ms/step - loss: 23.2903 - MSE: 8577.9922 - val_loss: 22.9772 - val_MSE: 8171.2432\n",
      "Epoch 11/100\n",
      "300/300 [==============================] - 11s 37ms/step - loss: 23.2261 - MSE: 8586.6055 - val_loss: 22.9664 - val_MSE: 8166.8418\n",
      "Epoch 12/100\n",
      "300/300 [==============================] - 11s 37ms/step - loss: 23.3369 - MSE: 8667.5703 - val_loss: 22.9600 - val_MSE: 8166.2607\n",
      "Epoch 13/100\n",
      "300/300 [==============================] - 11s 37ms/step - loss: 23.3274 - MSE: 8694.2939 - val_loss: 22.9541 - val_MSE: 8163.5649\n",
      "Epoch 14/100\n",
      "300/300 [==============================] - 11s 38ms/step - loss: 23.2189 - MSE: 8575.9805 - val_loss: 22.9501 - val_MSE: 8164.2656\n",
      "Epoch 15/100\n",
      "300/300 [==============================] - 11s 36ms/step - loss: 23.3463 - MSE: 8705.1201 - val_loss: 22.9488 - val_MSE: 8163.6543\n",
      "Epoch 16/100\n",
      "300/300 [==============================] - 10s 35ms/step - loss: 23.2619 - MSE: 8688.9238 - val_loss: 22.9436 - val_MSE: 8163.6104\n",
      "Epoch 17/100\n",
      "300/300 [==============================] - 11s 36ms/step - loss: 23.2610 - MSE: 8632.9316 - val_loss: 22.9400 - val_MSE: 8164.5874\n",
      "Epoch 18/100\n",
      "300/300 [==============================] - 11s 36ms/step - loss: 23.1801 - MSE: 8430.5293 - val_loss: 22.9378 - val_MSE: 8163.1831\n",
      "Epoch 19/100\n",
      "300/300 [==============================] - 11s 36ms/step - loss: 23.3023 - MSE: 8650.9150 - val_loss: 22.9360 - val_MSE: 8162.4736\n",
      "Epoch 20/100\n",
      "300/300 [==============================] - 11s 36ms/step - loss: 23.2680 - MSE: 8625.6562 - val_loss: 22.9336 - val_MSE: 8162.7808\n",
      "Epoch 21/100\n",
      "300/300 [==============================] - 11s 35ms/step - loss: 23.4468 - MSE: 8797.1807 - val_loss: 22.9347 - val_MSE: 8165.3462\n",
      "Epoch 22/100\n",
      "300/300 [==============================] - 11s 36ms/step - loss: 23.1906 - MSE: 8543.4424 - val_loss: 22.9303 - val_MSE: 8162.3838\n",
      "Epoch 23/100\n",
      "300/300 [==============================] - 11s 36ms/step - loss: 23.2463 - MSE: 8618.7471 - val_loss: 22.9291 - val_MSE: 8162.7422\n",
      "Epoch 24/100\n",
      "300/300 [==============================] - 11s 36ms/step - loss: 23.2029 - MSE: 8612.2061 - val_loss: 22.9290 - val_MSE: 8164.2368\n",
      "Epoch 25/100\n",
      "300/300 [==============================] - 11s 36ms/step - loss: 23.2464 - MSE: 8557.7178 - val_loss: 22.9286 - val_MSE: 8164.4487\n",
      "Epoch 26/100\n",
      "300/300 [==============================] - 11s 36ms/step - loss: 23.4238 - MSE: 8798.5137 - val_loss: 22.9294 - val_MSE: 8165.1250\n",
      "Epoch 27/100\n",
      "300/300 [==============================] - 11s 36ms/step - loss: 23.3047 - MSE: 8617.0371 - val_loss: 22.9262 - val_MSE: 8164.5874\n",
      "Epoch 28/100\n",
      "300/300 [==============================] - 11s 36ms/step - loss: 23.3504 - MSE: 8564.0000 - val_loss: 22.9259 - val_MSE: 8166.2935\n",
      "Epoch 29/100\n",
      "300/300 [==============================] - 11s 37ms/step - loss: 23.0838 - MSE: 8432.1553 - val_loss: 22.9245 - val_MSE: 8163.2617\n",
      "Epoch 30/100\n",
      "300/300 [==============================] - 11s 36ms/step - loss: 23.3182 - MSE: 8690.7646 - val_loss: 22.9258 - val_MSE: 8164.2593\n",
      "Epoch 31/100\n",
      "300/300 [==============================] - 11s 36ms/step - loss: 23.2141 - MSE: 8643.8242 - val_loss: 22.9241 - val_MSE: 8164.8408\n",
      "Epoch 32/100\n",
      "300/300 [==============================] - 11s 36ms/step - loss: 23.2815 - MSE: 8669.6777 - val_loss: 22.9176 - val_MSE: 8155.0918\n",
      "Epoch 33/100\n",
      "300/300 [==============================] - 11s 36ms/step - loss: 23.1865 - MSE: 8634.1377 - val_loss: 22.9190 - val_MSE: 8160.8623\n",
      "Epoch 34/100\n",
      "300/300 [==============================] - 11s 36ms/step - loss: 23.2494 - MSE: 8506.3887 - val_loss: 22.9201 - val_MSE: 8163.3594\n",
      "Epoch 35/100\n",
      "300/300 [==============================] - 11s 36ms/step - loss: 23.3963 - MSE: 8805.5195 - val_loss: 22.9200 - val_MSE: 8164.4399\n",
      "Epoch 36/100\n",
      "300/300 [==============================] - 11s 36ms/step - loss: 23.1138 - MSE: 8516.9072 - val_loss: 22.9195 - val_MSE: 8165.1904\n",
      "Epoch 37/100\n",
      "300/300 [==============================] - 11s 36ms/step - loss: 23.3725 - MSE: 8801.7354 - val_loss: 22.9188 - val_MSE: 8164.0190\n",
      "Epoch 38/100\n",
      "300/300 [==============================] - 11s 36ms/step - loss: 23.1762 - MSE: 8535.4180 - val_loss: 22.9164 - val_MSE: 8156.6406\n",
      "Epoch 39/100\n",
      "300/300 [==============================] - 11s 35ms/step - loss: 23.3329 - MSE: 8613.2041 - val_loss: 22.9180 - val_MSE: 8163.2998\n",
      "Epoch 40/100\n",
      "300/300 [==============================] - 11s 37ms/step - loss: 23.3349 - MSE: 8726.1387 - val_loss: 22.9185 - val_MSE: 8165.9409\n",
      "Epoch 41/100\n",
      "300/300 [==============================] - 11s 36ms/step - loss: 23.2291 - MSE: 8575.3438 - val_loss: 22.9177 - val_MSE: 8164.8257\n",
      "Epoch 42/100\n",
      "300/300 [==============================] - 11s 36ms/step - loss: 23.4137 - MSE: 8713.3916 - val_loss: 22.9147 - val_MSE: 8160.6289\n",
      "Epoch 43/100\n",
      "300/300 [==============================] - 11s 36ms/step - loss: 23.2564 - MSE: 8678.2715 - val_loss: 22.9161 - val_MSE: 8164.4194\n",
      "Epoch 44/100\n",
      "300/300 [==============================] - 11s 37ms/step - loss: 23.1693 - MSE: 8513.6260 - val_loss: 22.9161 - val_MSE: 8163.6382\n",
      "Epoch 45/100\n",
      "300/300 [==============================] - 11s 36ms/step - loss: 23.1081 - MSE: 8588.4834 - val_loss: 22.9139 - val_MSE: 8162.9458\n",
      "Epoch 46/100\n",
      "300/300 [==============================] - 11s 36ms/step - loss: 23.2697 - MSE: 8632.3584 - val_loss: 22.9137 - val_MSE: 8162.7256\n",
      "Epoch 47/100\n",
      "300/300 [==============================] - 11s 36ms/step - loss: 23.1867 - MSE: 8611.6113 - val_loss: 22.9138 - val_MSE: 8163.7446\n",
      "Epoch 48/100\n",
      "300/300 [==============================] - 11s 36ms/step - loss: 23.1826 - MSE: 8387.8887 - val_loss: 22.9132 - val_MSE: 8163.0273\n",
      "Epoch 49/100\n",
      "300/300 [==============================] - 11s 36ms/step - loss: 23.4477 - MSE: 8835.5742 - val_loss: 22.9139 - val_MSE: 8164.3018\n",
      "Epoch 50/100\n",
      "300/300 [==============================] - 11s 36ms/step - loss: 23.2792 - MSE: 8687.1250 - val_loss: 22.9141 - val_MSE: 8164.8350\n",
      "Epoch 51/100\n",
      "300/300 [==============================] - 11s 36ms/step - loss: 23.1389 - MSE: 8446.4092 - val_loss: 22.9132 - val_MSE: 8162.7407\n",
      "Epoch 52/100\n",
      "300/300 [==============================] - 11s 37ms/step - loss: 23.2894 - MSE: 8799.9043 - val_loss: 22.9132 - val_MSE: 8164.6816\n",
      "Epoch 53/100\n",
      "300/300 [==============================] - 11s 36ms/step - loss: 23.2864 - MSE: 8564.1436 - val_loss: 22.9127 - val_MSE: 8162.7744\n",
      "Epoch 54/100\n",
      "300/300 [==============================] - 11s 36ms/step - loss: 23.3007 - MSE: 8725.8154 - val_loss: 22.9143 - val_MSE: 8164.4839\n",
      "Epoch 55/100\n",
      "300/300 [==============================] - 11s 36ms/step - loss: 23.1666 - MSE: 8539.1494 - val_loss: 22.9120 - val_MSE: 8162.8623\n",
      "Epoch 56/100\n",
      "300/300 [==============================] - 11s 36ms/step - loss: 23.3822 - MSE: 8698.9141 - val_loss: 22.9128 - val_MSE: 8162.7778\n",
      "Epoch 57/100\n",
      "300/300 [==============================] - 11s 36ms/step - loss: 23.3456 - MSE: 8764.0879 - val_loss: 22.9139 - val_MSE: 8165.3271\n",
      "Epoch 58/100\n",
      "300/300 [==============================] - 11s 35ms/step - loss: 23.0681 - MSE: 8475.3008 - val_loss: 22.9113 - val_MSE: 8162.4702\n",
      "Epoch 59/100\n",
      "300/300 [==============================] - 11s 36ms/step - loss: 23.3984 - MSE: 8751.0400 - val_loss: 22.9111 - val_MSE: 8162.3296\n",
      "Epoch 60/100\n",
      "300/300 [==============================] - 11s 37ms/step - loss: 23.3891 - MSE: 8922.0684 - val_loss: 22.9108 - val_MSE: 8162.4209\n",
      "Epoch 61/100\n",
      "300/300 [==============================] - 11s 36ms/step - loss: 23.1690 - MSE: 8508.8730 - val_loss: 22.9103 - val_MSE: 8163.1680\n",
      "Epoch 62/100\n",
      "300/300 [==============================] - 12s 38ms/step - loss: 23.2445 - MSE: 8637.6084 - val_loss: 22.9107 - val_MSE: 8161.8721\n",
      "Epoch 63/100\n",
      "300/300 [==============================] - 11s 38ms/step - loss: 23.1454 - MSE: 8487.6729 - val_loss: 22.9107 - val_MSE: 8163.1743\n",
      "Epoch 64/100\n",
      "300/300 [==============================] - 11s 36ms/step - loss: 23.1843 - MSE: 8562.3955 - val_loss: 22.9112 - val_MSE: 8163.8423\n",
      "Epoch 65/100\n",
      "300/300 [==============================] - 11s 36ms/step - loss: 23.0916 - MSE: 8245.2598 - val_loss: 22.9102 - val_MSE: 8162.8862\n",
      "Epoch 66/100\n",
      "300/300 [==============================] - 11s 36ms/step - loss: 23.2654 - MSE: 8657.6133 - val_loss: 22.9105 - val_MSE: 8162.4434\n",
      "Epoch 67/100\n",
      "300/300 [==============================] - 11s 37ms/step - loss: 23.2640 - MSE: 8647.0596 - val_loss: 22.9084 - val_MSE: 8153.4209\n",
      "Epoch 68/100\n",
      "300/300 [==============================] - 11s 36ms/step - loss: 23.1581 - MSE: 8463.4805 - val_loss: 22.9085 - val_MSE: 8153.8887\n",
      "Epoch 69/100\n",
      "300/300 [==============================] - 11s 36ms/step - loss: 23.2514 - MSE: 8604.1494 - val_loss: 22.9068 - val_MSE: 8153.6543\n",
      "Epoch 70/100\n",
      "300/300 [==============================] - 11s 36ms/step - loss: 23.2745 - MSE: 8797.1904 - val_loss: 22.9058 - val_MSE: 8153.0376\n",
      "Epoch 71/100\n",
      "300/300 [==============================] - 11s 37ms/step - loss: 23.3719 - MSE: 8841.8838 - val_loss: 22.9061 - val_MSE: 8154.1592\n",
      "Epoch 72/100\n",
      "300/300 [==============================] - 11s 37ms/step - loss: 23.3139 - MSE: 8770.9053 - val_loss: 22.9067 - val_MSE: 8161.6890\n",
      "Epoch 73/100\n",
      "300/300 [==============================] - 11s 38ms/step - loss: 23.1169 - MSE: 8388.0312 - val_loss: 22.9066 - val_MSE: 8161.0962\n",
      "Epoch 74/100\n",
      "300/300 [==============================] - 11s 37ms/step - loss: 23.3152 - MSE: 8718.2305 - val_loss: 22.9061 - val_MSE: 8161.8110\n",
      "Epoch 75/100\n",
      "300/300 [==============================] - 11s 36ms/step - loss: 23.2408 - MSE: 8649.0508 - val_loss: 22.9050 - val_MSE: 8161.0928\n",
      "Epoch 76/100\n",
      "300/300 [==============================] - 11s 38ms/step - loss: 23.3043 - MSE: 8670.7471 - val_loss: 22.9063 - val_MSE: 8163.3906\n",
      "Epoch 77/100\n",
      "300/300 [==============================] - 11s 36ms/step - loss: 23.1007 - MSE: 8415.3174 - val_loss: 22.9055 - val_MSE: 8163.0776\n",
      "Epoch 78/100\n",
      "300/300 [==============================] - 11s 37ms/step - loss: 23.3355 - MSE: 8760.0488 - val_loss: 22.9044 - val_MSE: 8162.2920\n",
      "Epoch 79/100\n",
      "300/300 [==============================] - 11s 37ms/step - loss: 23.2501 - MSE: 8667.3047 - val_loss: 22.9048 - val_MSE: 8162.2358\n",
      "Epoch 80/100\n",
      "300/300 [==============================] - 11s 36ms/step - loss: 23.1290 - MSE: 8397.7188 - val_loss: 22.9071 - val_MSE: 8165.9897\n",
      "Epoch 81/100\n",
      "300/300 [==============================] - 11s 36ms/step - loss: 23.1966 - MSE: 8675.2871 - val_loss: 22.9046 - val_MSE: 8161.3096\n",
      "Epoch 82/100\n",
      "300/300 [==============================] - 11s 35ms/step - loss: 23.3135 - MSE: 8600.6689 - val_loss: 22.9056 - val_MSE: 8164.0898\n",
      "Epoch 83/100\n",
      "300/300 [==============================] - 11s 36ms/step - loss: 23.2679 - MSE: 8700.8564 - val_loss: 22.9052 - val_MSE: 8163.4097\n",
      "Epoch 84/100\n",
      "300/300 [==============================] - 11s 36ms/step - loss: 23.2356 - MSE: 8585.0352 - val_loss: 22.9059 - val_MSE: 8164.0649\n",
      "Epoch 85/100\n",
      "300/300 [==============================] - 11s 36ms/step - loss: 23.2488 - MSE: 8684.7783 - val_loss: 22.9044 - val_MSE: 8157.3970\n",
      "Epoch 86/100\n",
      "300/300 [==============================] - 11s 36ms/step - loss: 23.3248 - MSE: 8674.3271 - val_loss: 22.9064 - val_MSE: 8164.8745\n",
      "Epoch 87/100\n",
      "300/300 [==============================] - 11s 36ms/step - loss: 23.2692 - MSE: 8642.0088 - val_loss: 22.9043 - val_MSE: 8163.7393\n",
      "Epoch 88/100\n",
      "300/300 [==============================] - 11s 35ms/step - loss: 23.1750 - MSE: 8595.9971 - val_loss: 22.9048 - val_MSE: 8164.0654\n",
      "Epoch 89/100\n",
      "300/300 [==============================] - 11s 36ms/step - loss: 23.2284 - MSE: 8595.4121 - val_loss: 22.9043 - val_MSE: 8163.5078\n",
      "Epoch 90/100\n",
      "300/300 [==============================] - 11s 35ms/step - loss: 23.2341 - MSE: 8596.6768 - val_loss: 22.9045 - val_MSE: 8165.6191\n",
      "Epoch 91/100\n",
      "300/300 [==============================] - 10s 35ms/step - loss: 23.2948 - MSE: 8746.1377 - val_loss: 22.9051 - val_MSE: 8166.3809\n",
      "Epoch 92/100\n",
      "300/300 [==============================] - 11s 35ms/step - loss: 23.3159 - MSE: 8603.8281 - val_loss: 22.9038 - val_MSE: 8163.9238\n",
      "Epoch 93/100\n",
      "300/300 [==============================] - 11s 35ms/step - loss: 23.1509 - MSE: 8595.8818 - val_loss: 22.9030 - val_MSE: 8164.6353\n",
      "Epoch 94/100\n",
      "300/300 [==============================] - 11s 36ms/step - loss: 23.2035 - MSE: 8612.8906 - val_loss: 22.9026 - val_MSE: 8163.9600\n",
      "Epoch 95/100\n",
      "300/300 [==============================] - 11s 36ms/step - loss: 23.2640 - MSE: 8650.8320 - val_loss: 22.9015 - val_MSE: 8163.1802\n",
      "Epoch 96/100\n",
      "300/300 [==============================] - 11s 36ms/step - loss: 23.1790 - MSE: 8547.1504 - val_loss: 22.9007 - val_MSE: 8161.8296\n",
      "Epoch 97/100\n",
      "300/300 [==============================] - 11s 35ms/step - loss: 23.2114 - MSE: 8541.3096 - val_loss: 22.9011 - val_MSE: 8163.3457\n",
      "Epoch 98/100\n",
      "300/300 [==============================] - 11s 36ms/step - loss: 23.1648 - MSE: 8527.4512 - val_loss: 22.9013 - val_MSE: 8163.6216\n",
      "Epoch 99/100\n",
      "300/300 [==============================] - 11s 35ms/step - loss: 23.3519 - MSE: 8807.5986 - val_loss: 22.9008 - val_MSE: 8164.1650\n",
      "Epoch 100/100\n",
      "300/300 [==============================] - 11s 36ms/step - loss: 23.2170 - MSE: 8573.1162 - val_loss: 22.8981 - val_MSE: 8161.3911\n"
     ]
    },
    {
     "data": {
      "text/plain": [
       "<keras.callbacks.History at 0x192178e8c70>"
      ]
     },
     "execution_count": 8,
     "metadata": {},
     "output_type": "execute_result"
    }
   ],
   "source": [
    "# Treinando a rede neural\n",
    "history=\n",
    "Network.fit(\n",
    "    train_x                           , # Dados de treino\n",
    "    train_y                           , # Dados de treino\n",
    "    validation_data = (test_x, test_y), # Dados de validação\n",
    "    batch_size      = 1024            , # Tamanho do batch\n",
    "    epochs          = 100             , # Número de epochs\n",
    "    steps_per_epoch = 300             , # Número de batchs por epoch\n",
    "    shuffle         = True              # Aleatorização dos batchs\n",
    ")\n",
    "\n",
    "# Batch: pacote de dados utilizados antes de uma atualização dos pesos da rede\n",
    "# Epoch: rodada de treino da rede neural, em geral percorre todo o conjunto de dados"
   ]
  },
  {
   "cell_type": "code",
   "execution_count": null,
   "id": "d3eacf09",
   "metadata": {},
   "outputs": [],
   "source": []
  },
  {
   "cell_type": "code",
   "execution_count": null,
   "id": "67d0cc3d",
   "metadata": {},
   "outputs": [],
   "source": [
    "# Salvando os pesos treinados\n",
    "Network.save_weights('Modelos treinados\\\\Modelo Rede espacial - 1')"
   ]
  },
  {
   "cell_type": "code",
   "execution_count": null,
   "id": "b587d57d",
   "metadata": {},
   "outputs": [],
   "source": [
    "# Carregando os pesos treinados\n",
    "Network.load_weights('Modelos treinados\\\\Modelo Rede espacial - 1')"
   ]
  },
  {
   "cell_type": "code",
   "execution_count": null,
   "id": "d65eee17",
   "metadata": {},
   "outputs": [],
   "source": [
    "\n",
    "# Função definida no artigo\n",
    "f_test = lambda x: -(-tf.math.sin(np.pi*x) - 0.5 * x**3 + \\\n",
    "    tf.where(x < 0, tf.constant(0.0, dtype=float_pres), tf.constant(1.0, dtype=float_pres)))"
   ]
  },
  {
   "cell_type": "code",
   "execution_count": 27,
   "id": "46bfabf3",
   "metadata": {},
   "outputs": [],
   "source": [
    "# Calculando os erros de previsão utilizando o WENO-Z em uma malha mais fina \n",
    "# como solução de referência e depois calculando o WENO-Z e o WENO-Z com a \n",
    "# modificação da rede neural numa malha mais grossa\n",
    "Δx_ref = 0.01\n",
    "Δx = Δx_ref                                # Distância espacial dos pontos na malha mais grossa utilizada\n",
    "x  = tf.range(-1, 1, Δx, dtype=float_pres) # Gerando a malha de pontos no espaço unidimensional\n",
    "\n",
    "full_U=tf.expand_dims(f_test(x),axis=0)\n",
    "\n",
    "net_u   = WENO_network(full_U,Δx)"
   ]
  },
  {
   "cell_type": "code",
   "execution_count": 28,
   "id": "6c062e82",
   "metadata": {},
   "outputs": [],
   "source": [
    "# Calculando os erros de previsão utilizando o WENO-Z em uma malha mais fina \n",
    "# como solução de referência e depois calculando o WENO-Z e o WENO-Z com a \n",
    "# modificação da rede neural numa malha mais grossa\n",
    "\n",
    "k=1\n",
    "\n",
    "Δx = Δx_ref/k                              # Distância espacial dos pontos na malha mais grossa utilizada\n",
    "x  = tf.range(-1, 1, Δx, dtype=float_pres) # Gerando a malha de pontos no espaço unidimensional\n",
    "\n",
    "full_U=tf.expand_dims(f_test(x),axis=0)\n",
    "\n",
    "debug_u   = WENO_Z_ref(full_U,Δx)         # Previsão com o WENO-Z modificado pela rede neural\n",
    "debug_u   = tf.gather(debug_u,np.arange(net_u.shape[-1])*k,axis=-1) "
   ]
  },
  {
   "cell_type": "code",
   "execution_count": 29,
   "id": "6a2ac547",
   "metadata": {},
   "outputs": [],
   "source": [
    "# Calculando os erros de previsão utilizando o WENO-Z em uma malha mais fina \n",
    "# como solução de referência e depois calculando o WENO-Z e o WENO-Z com a \n",
    "# modificação da rede neural numa malha mais grossa\n",
    "\n",
    "k=4\n",
    "\n",
    "Δx = Δx_ref/k                               # Distância espacial dos pontos na malha mais grossa utilizada\n",
    "x  = tf.range(-1, 1, Δx, dtype=float_pres) # Gerando a malha de pontos no espaço unidimensional\n",
    "\n",
    "full_U=tf.expand_dims(f_test(x),axis=0)\n",
    "\n",
    "ref_full   = tf.gather(WENO_Z_ref(full_U,Δx),np.arange(net_u.shape[-1])*k,axis=-1)             # Previsão com o WENO-Z modificado pela rede neural\n",
    "ref_full   = tf.gather(ref_full,np.arange(net_u.shape[-1])*k,axis=-1) \n",
    "\n",
    "# Armazenando ambos os erros de previsão\n",
    "error = tf.stack([net_u-ref_full,debug_u-ref_full],axis=0)\n",
    "error = tf.squeeze(error)"
   ]
  },
  {
   "cell_type": "code",
   "execution_count": 31,
   "id": "2fec605c",
   "metadata": {},
   "outputs": [
    {
     "name": "stdout",
     "output_type": "stream",
     "text": [
      "L2:\n",
      "[220.28060229 208.62306642]\n",
      "1.0558784609549836\n",
      "\n",
      "\n",
      "L1:\n",
      "[662.31188272 656.02989096]\n",
      "1.0095757706283115\n",
      "\n",
      "\n",
      "L-inf:\n",
      "[195.48070563 195.48070572]\n",
      "0.999999999539954\n"
     ]
    }
   ],
   "source": [
    "# Calculando média dos erros de acordo com a norma L2, L1 ou L-inf\n",
    "\n",
    "# Norma L2:\n",
    "#--------------------------------------------------------------------------------------\n",
    "desv_error = tf.math.reduce_sum(error**2, axis=-1)**0.5\n",
    "#--------------------------------------------------------------------------------------\n",
    "print('L2:')\n",
    "# Erro médio para a rede neural e o WENO-Z (respectivamente)\n",
    "print(desv_error.numpy())\n",
    "# Diferença entre os erros (WENO-Z - rede neural)\n",
    "# print((desv_error[1]-desv_error[0]).numpy())\n",
    "# Razão entre os erros (rede neural/WENO-Z)\n",
    "print((desv_error[0]/desv_error[1]).numpy())\n",
    "print('\\n')\n",
    "\n",
    "# Norma L1:\n",
    "#--------------------------------------------------------------------------------------\n",
    "desv_error = tf.math.reduce_sum(tf.abs(error), axis=-1)\n",
    "#--------------------------------------------------------------------------------------\n",
    "print('L1:')\n",
    "# Erro médio para a rede neural e o WENO-Z (respectivamente)\n",
    "print(desv_error.numpy())\n",
    "# Diferença entre os erros (WENO-Z - rede neural)\n",
    "# print((desv_error[1]-desv_error[0]).numpy())\n",
    "# Razão entre os erros (rede neural/WENO-Z)\n",
    "print((desv_error[0]/desv_error[1]).numpy())\n",
    "print('\\n')\n",
    "\n",
    "# Noma L-inf:\n",
    "#-------------------------------------------------------------------------------------\n",
    "desv_error = tf.math.reduce_max(tf.abs(error), axis=-1)\n",
    "#--------------------------------------------------------------------------------------\n",
    "print('L-inf:')\n",
    "# Erro médio para a rede neural e o WENO-Z (respectivamente)\n",
    "print(desv_error.numpy())\n",
    "# Diferença entre os erros (WENO-Z - rede neural)\n",
    "# print((desv_error[1]-desv_error[0]).numpy())\n",
    "# Razão entre os erros (rede neural/WENO-Z)\n",
    "print((desv_error[0]/desv_error[1]).numpy())"
   ]
  },
  {
   "cell_type": "code",
   "execution_count": 60,
   "id": "46bfabf3",
   "metadata": {},
   "outputs": [
    {
     "name": "stdout",
     "output_type": "stream",
     "text": [
      "1000\r"
     ]
    }
   ],
   "source": [
    "# Calculando os erros de previsão utilizando o WENO-Z em uma malha mais fina \n",
    "# como solução de referência e depois calculando o WENO-Z e o WENO-Z com a \n",
    "# modificação da rede neural numa malha mais grossa\n",
    "sizes=[10,50,100,200,500,1000]\n",
    "error=[]\n",
    "k=4\n",
    "for i in sizes:\n",
    "    print(i,end='\\r')\n",
    "    Δx_ref = 2/i\n",
    "    Δx = Δx_ref                                # Distância espacial dos pontos na malha mais grossa utilizada\n",
    "    x  = tf.range(-1, -0.5, Δx, dtype=float_pres) # Gerando a malha de pontos no espaço unidimensional\n",
    "\n",
    "    full_U=tf.expand_dims(f_test(x),axis=0)\n",
    "    net_u   = WENO_Z_ref(full_U,Δx)\n",
    "\n",
    "    Δx = Δx_ref/k                                # Distância espacial dos pontos na malha mais grossa utilizada\n",
    "    x  = tf.range(-1, -0.5, Δx, dtype=float_pres) # Gerando a malha de pontos no espaço unidimensional\n",
    "\n",
    "    full_U=tf.expand_dims(f_test(x),axis=0)\n",
    "    ref_u   = WENO_Z_ref(full_U,Δx)\n",
    "    ref_u   = tf.gather(ref_u,np.arange(net_u.shape[-1])*k,axis=-1) \n",
    "\n",
    "    error.append(np.sum(np.abs(net_u-ref_u)))\n"
   ]
  },
  {
   "cell_type": "code",
   "execution_count": 62,
   "id": "1758b9ce",
   "metadata": {},
   "outputs": [
    {
     "data": {
      "text/plain": [
       "[<matplotlib.lines.Line2D at 0x192538867c0>]"
      ]
     },
     "execution_count": 62,
     "metadata": {},
     "output_type": "execute_result"
    },
    {
     "data": {
      "image/png": "[encoded data removed]",
      "text/plain": [
       "<Figure size 432x288 with 1 Axes>"
      ]
     },
     "metadata": {
      "needs_background": "light"
     },
     "output_type": "display_data"
    }
   ],
   "source": [
    "plt.plot(ref_u[0])"
   ]
  },
  {
   "cell_type": "code",
   "execution_count": 63,
   "id": "2fec605c",
   "metadata": {},
   "outputs": [
    {
     "data": {
      "text/plain": [
       "[<matplotlib.lines.Line2D at 0x192538d6e80>]"
      ]
     },
     "execution_count": 63,
     "metadata": {},
     "output_type": "execute_result"
    },
    {
     "data": {
      "image/png": "[encoded data removed]",
      "text/plain": [
       "<Figure size 432x288 with 1 Axes>"
      ]
     },
     "metadata": {
      "needs_background": "light"
     },
     "output_type": "display_data"
    }
   ],
   "source": [
    "plt.plot(sizes,error)"
   ]
  },
  {
   "cell_type": "code",
   "execution_count": 52,
   "id": "64379bd9",
   "metadata": {},
   "outputs": [],
   "source": [
    "Sim, Sim_step, DerivadaEspacial, Get_weights=create_simulation(API_Numpy,diff_equation,WENO_JS)\n",
    "WENO_Z_ref=lambda u0, Δx:DerivadaEspacial(u0,Δx, FronteiraFixa)"
   ]
  },
  {
   "cell_type": "code",
   "execution_count": null,
   "id": "d92c8c2d",
   "metadata": {},
   "outputs": [],
   "source": [
    "Δx_ref = 0.01\n",
    "\n",
    "def f(x):\n",
    "    return np.sin(np.pi*x)\n",
    "\n",
    "def df(x):\n",
    "    return np.pi*np.cos(np.pi*x)\n"
   ]
  },
  {
   "cell_type": "code",
   "execution_count": null,
   "id": "5478a6be",
   "metadata": {},
   "outputs": [],
   "source": [
    "Δx1 = Δx_ref\n",
    "x1  = np.arange(-1, 1, Δx1)\n",
    "x1  = np.expand_dims(x1,0)\n",
    "u1  = f(x1)\n",
    "du1 = df(x1)\n",
    "y1=WENO_Z_ref(u1, Δx1)\n",
    "\n",
    "print(u1.shape)"
   ]
  },
  {
   "cell_type": "code",
   "execution_count": null,
   "id": "4415a146",
   "metadata": {},
   "outputs": [],
   "source": [
    "Δx2 = Δx_ref/2\n",
    "x2  = np.arange(-1, 1, Δx2)\n",
    "x2  = np.expand_dims(x2,0)\n",
    "u2  = f(x2)\n",
    "du2 = df(x2)\n",
    "y2=WENO_Z_ref(u2, Δx2)\n",
    "\n",
    "print(u2.shape)"
   ]
  },
  {
   "cell_type": "code",
   "execution_count": null,
   "id": "4415a146",
   "metadata": {},
   "outputs": [],
   "source": [
    "Δx3 = Δx_ref/4\n",
    "x3  = np.arange(-1, 1, Δx3)\n",
    "x3  = np.expand_dims(x3,0)\n",
    "u3  = f(x3)\n",
    "du3 = df(x3)\n",
    "y3=WENO_Z_ref(u3, Δx3)\n",
    "\n",
    "print(u3.shape)"
   ]
  },
  {
   "cell_type": "code",
   "execution_count": null,
   "id": "a40337e4",
   "metadata": {},
   "outputs": [],
   "source": [
    "# Gerando os gráficos a partir de funções do matplotlib\n",
    "\n",
    "print(np.sum(abs(y1 - y3[:,np.arange(y1.shape[1])*4]))/np.sum(abs(y2[:,np.arange(y1.shape[1])*2] - y3[:,np.arange(y1.shape[1])*4])))"
   ]
  },
  {
   "cell_type": "code",
   "execution_count": null,
   "id": "c208d327",
   "metadata": {},
   "outputs": [],
   "source": [
    "np.log(23.50615689222527)/np.log(2)"
   ]
  }
 ],
 "metadata": {
  "kernelspec": {
   "display_name": "Python 3",
   "language": "python",
   "name": "python3"
  },
  "language_info": {
   "codemirror_mode": {
    "name": "ipython",
    "version": 3
   },
   "file_extension": ".py",
   "mimetype": "text/x-python",
   "name": "python",
   "nbconvert_exporter": "python",
   "pygments_lexer": "ipython3",
   "version": "3.8.10"
  },
  "widgets": {
   "application/vnd.jupyter.widget-state+json": {
    "state": {},
    "version_major": 2,
    "version_minor": 0
   }
  }
 },
 "nbformat": 4,
 "nbformat_minor": 5
}
