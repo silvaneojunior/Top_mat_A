{
 "cells": [
  {
   "cell_type": "code",
   "execution_count": null,
   "id": "4f136924",
   "metadata": {},
   "outputs": [],
   "source": [
    "# Importando os módulos que serão utilizados\n",
    "\n",
    "import tensorflow as tf\n",
    "import numpy as np\n",
    "import tensorflow.keras as keras\n",
    "import matplotlib.pyplot as plt\n",
    "import time\n",
    "import dill\n",
    "\n",
    "# Configurando o acesso do tensorflow aos processadores do computador\n",
    "# no caso, está sendo selecionada a primeira placa de vídeo listada\n",
    "\n",
    "gpus = tf.config.experimental.list_physical_devices('GPU') # Listando as placas de vídeo\n",
    "tf.config.experimental.set_memory_growth(gpus[0], True)    # Selecionando a primeira GPU e configurando\n",
    "\n",
    "# Importando os módulos contendo as funções criadas no projeto\n",
    "\n",
    "from aux_func_V3 import *\n",
    "import API_Numpy\n",
    "import API_TensorFlow"
   ]
  },
  {
   "cell_type": "code",
   "execution_count": null,
   "id": "30f18b6b",
   "metadata": {},
   "outputs": [],
   "source": [
    "Sim, Sim_step, DerivadaEspacial, Get_weights=create_simulation(API_Numpy,burgers_equation,WENO_Z)"
   ]
  },
  {
   "cell_type": "code",
   "execution_count": null,
   "id": "add47bf3",
   "metadata": {},
   "outputs": [],
   "source": [
    "Δx=0.01"
   ]
  },
  {
   "cell_type": "code",
   "execution_count": null,
   "id": "8df8adb5",
   "metadata": {
    "tags": []
   },
   "outputs": [],
   "source": [
    "WENO_Z_ref=lambda u0, Δx:Sim(u0,Δx*0.5, Δx, 0.5, FronteiraFixa)"
   ]
  },
  {
   "cell_type": "code",
   "execution_count": null,
   "id": "1631dfcb",
   "metadata": {},
   "outputs": [],
   "source": [
    "np.random.seed(seed=8413651)\n",
    "n=int(200/2)\n",
    "k=11\n",
    "x_rep=20\n",
    "pesos=np.random.uniform(size=[n,k],low=-1,high=1)\n",
    "ordem=np.floor(np.random.uniform(size=[n,1],low=1,high=k))+np.asarray([range(k)])\n",
    "pesos=(1-np.sum(tf.one_hot(ordem,k),axis=1))*pesos\n",
    "\n",
    "operador_derivada=np.eye(k,k=-1)@np.diag(range(1,k+1))"
   ]
  },
  {
   "cell_type": "code",
   "execution_count": null,
   "id": "f624333f",
   "metadata": {},
   "outputs": [],
   "source": [
    "x=np.expand_dims(np.arange(-1,1,Δx),axis=0)**np.expand_dims(np.arange(k),axis=1)\n",
    "Δx_ref=Δx/2\n",
    "x_ref=np.expand_dims(np.arange(-1,1,Δx/2),axis=0)**np.expand_dims(np.arange(k),axis=1)"
   ]
  },
  {
   "cell_type": "code",
   "execution_count": null,
   "id": "aa926134",
   "metadata": {},
   "outputs": [],
   "source": [
    "k1 = np.random.uniform(0, 10, [n,1]).astype('int32')   # Amostrando uma frequência aleatória para a função seno\n",
    "k2 = np.random.uniform(0, 10, [n,1]).astype('int32')   # Amostrando uma frequência aleatória para a função seno\n",
    "a  = np.random.uniform(0, 1, [n,1]) # Amostrando um peso aleatória para ponderar as funções seno\n",
    "b  = np.random.uniform(0, 2, [n,1]) # Amostrando um modificador de amplitude aleatório\n",
    "u1 =     a * tf.math.sin(k1*pi*x[1]) # Gerando pontos de acordo com a primeira função seno\n",
    "u2 = (1-a) * tf.math.sin(k2*pi*x[1]) # Gerando pontos de acordo com a segunda função seno\n",
    "\n",
    "y_sin=(b*(u1+u2))\n",
    "\n",
    "u1 =     a * tf.math.sin(k1*pi*x_ref[1]) # Gerando pontos de acordo com a primeira função seno\n",
    "u2 = (1-a) * tf.math.sin(k2*pi*x_ref[1]) # Gerando pontos de acordo com a segunda função seno\n",
    "\n",
    "dy_sin=b*(u1+u2)\n",
    "\n",
    "y=np.matmul(pesos,x)\n",
    "y=np.concatenate([y,y_sin],axis=0)\n",
    "\n",
    "#dy_sin=np.stack(dy_sin,axis=0)\n",
    "#dy=np.matmul(np.matmul(pesos,operador_derivada),x+Δx/2)\n",
    "dy=np.matmul(x_ref.T,pesos.T).T\n",
    "dy=np.concatenate([dy,dy_sin],axis=0)\n",
    "\n",
    "y_max=np.max(np.abs(y))\n",
    "y =y/y_max\n",
    "dy=dy/y_max\n",
    "\n",
    "n=2*n"
   ]
  },
  {
   "cell_type": "code",
   "execution_count": null,
   "id": "54c72c3e",
   "metadata": {},
   "outputs": [],
   "source": [
    "for l in range(3):\n",
    "    polis=np.floor(np.random.uniform(size=[n,2],low=0,high=y.shape[0]))\n",
    "    y0=y[polis[:,0].astype('int32')]\n",
    "    y1=y[polis[:,1].astype('int32')]\n",
    "    dy0=dy[polis[:,0].astype('int32')]\n",
    "    dy1=dy[polis[:,1].astype('int32')]\n",
    "    position=np.floor(np.random.uniform(size=[n],low=0,high=y.shape[1])).astype('int32')\n",
    "    cuts=np.random.choice([0,1],size=[n],replace=True,p=[0.5,0.5])\n",
    "    \n",
    "    for i,j,k in zip(range(n),position,cuts):\n",
    "        y0[i,j:]=0\n",
    "        y1[i,:j]=0\n",
    "        dy0[i,(2*j+k):]=0\n",
    "        dy1[i,:(2*j+k)]=0\n",
    "    y=y0+y1\n",
    "    dy=dy0+dy1"
   ]
  },
  {
   "cell_type": "code",
   "execution_count": null,
   "id": "56b20292",
   "metadata": {},
   "outputs": [],
   "source": [
    "y_list=[]\n",
    "dy_list=[]\n",
    "for i in range(500):\n",
    "    y=dy[...]\n",
    "    dy=WENO_Z_ref(y[...],Δx_ref)\n",
    "    \n",
    "    y_list.append(y)\n",
    "    dy_list.append(dy)\n",
    "    \n",
    "dy=np.concatenate(dy_list,axis=0)[:,np.arange(x[1].shape[0])*2]\n",
    "y =np.concatenate( y_list,axis=0)[:,np.arange(x[1].shape[0])*2]"
   ]
  },
  {
   "cell_type": "code",
   "execution_count": null,
   "id": "2702e694",
   "metadata": {},
   "outputs": [],
   "source": [
    "index=np.floor(np.random.uniform(size=[5],low=0,high=n*100)).astype('int32')\n",
    "\n",
    "plt.figure(figsize=(6.4*5,6.4*2))\n",
    "for i,j in zip(range(5),index):\n",
    "    plt.subplot(2, 5, i+1)\n",
    "    plt.plot(y[j])\n",
    "    plt.subplot(2, 5, i+6)\n",
    "    plt.plot(dy[j])"
   ]
  },
  {
   "cell_type": "code",
   "execution_count": null,
   "id": "61524801",
   "metadata": {},
   "outputs": [],
   "source": [
    "with open('datasets\\\\Dados temporais.bkp','wb') as file:\n",
    "    dill.dump([y,dy],file)"
   ]
  },
  {
   "cell_type": "code",
   "execution_count": null,
   "id": "723055fc",
   "metadata": {},
   "outputs": [],
   "source": []
  }
 ],
 "metadata": {
  "kernelspec": {
   "display_name": "Python 3",
   "language": "python",
   "name": "python3"
  },
  "language_info": {
   "codemirror_mode": {
    "name": "ipython",
    "version": 3
   },
   "file_extension": ".py",
   "mimetype": "text/x-python",
   "name": "python",
   "nbconvert_exporter": "python",
   "pygments_lexer": "ipython3",
   "version": "3.8.10"
  },
  "widgets": {
   "application/vnd.jupyter.widget-state+json": {
    "state": {},
    "version_major": 2,
    "version_minor": 0
   }
  }
 },
 "nbformat": 4,
 "nbformat_minor": 5
}
