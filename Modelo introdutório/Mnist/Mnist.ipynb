{
 "cells": [
  {
   "cell_type": "code",
   "execution_count": 1,
   "id": "bed5ab13-9f21-4242-98e1-b10f4d8d817a",
   "metadata": {},
   "outputs": [],
   "source": [
    "import tensorflow as tf\n",
    "import _pickle as Pickle\n",
    "import gzip\n",
    "import numpy as np\n",
    "import matplotlib.pyplot as plot\n",
    "import imageio"
   ]
  },
  {
   "cell_type": "code",
   "execution_count": 2,
   "id": "82a5f448-3c42-4b40-8476-c34c6d88b181",
   "metadata": {},
   "outputs": [],
   "source": [
    "class dense_layer:\n",
    "    def __init__(self,n_inputs,n_outputs,ativ_funcao):\n",
    "        self.n_inputs,self.n_outputs,self.ativ_funcao=n_inputs,n_outputs,ativ_funcao\n",
    "        self.W=tf.Variable(tf.random.normal([n_inputs,n_outputs],0,1/n_inputs**0.5),trainable=True)\n",
    "        self.b=tf.Variable(tf.zeros([1,n_outputs]),trainable=True)\n",
    "        \n",
    "        self.params=[self.W,self.b]\n",
    "    def execute(self,inputs):\n",
    "        return self.ativ_funcao(tf.matmul(inputs,self.W)+self.b)"
   ]
  },
  {
   "cell_type": "code",
   "execution_count": 3,
   "id": "85d4e718-f3fc-4092-bc2e-2b343bf33e33",
   "metadata": {},
   "outputs": [],
   "source": [
    "param=[]\n",
    "layers=[]\n",
    "layers.append(dense_layer(28*28,50,tf.nn.relu))\n",
    "param=param+layers[-1].params\n",
    "layers.append(dense_layer(50,10,tf.nn.sigmoid))\n",
    "param=param+layers[-1].params"
   ]
  },
  {
   "cell_type": "code",
   "execution_count": 4,
   "id": "14f6cadd-bf9f-40eb-93ce-9c970af7a081",
   "metadata": {},
   "outputs": [],
   "source": [
    "def classificar(x):\n",
    "    value=x\n",
    "    for layer in layers:\n",
    "        value=layer.execute(value)\n",
    "    return value"
   ]
  },
  {
   "cell_type": "code",
   "execution_count": 5,
   "id": "8c219e06-756d-4862-9319-259ffc95a006",
   "metadata": {},
   "outputs": [
    {
     "data": {
      "text/plain": [
       "<tf.Tensor: shape=(1, 10), dtype=float32, numpy=\n",
       "array([[0.6731846 , 0.47087404, 0.5365682 , 0.6473296 , 0.3113552 ,\n",
       "        0.43254995, 0.75598985, 0.57658195, 0.46871817, 0.52276886]],\n",
       "      dtype=float32)>"
      ]
     },
     "execution_count": 5,
     "metadata": {},
     "output_type": "execute_result"
    }
   ],
   "source": [
    "classificar(tf.random.normal([1,28*28]))"
   ]
  },
  {
   "cell_type": "code",
   "execution_count": 6,
   "id": "c0a77018-703b-4eba-8f72-a0359414d340",
   "metadata": {},
   "outputs": [],
   "source": [
    "def erros(x,y):\n",
    "    y_pred=classificar(x)\n",
    "    return tf.math.reduce_mean((y_pred-y)**2)"
   ]
  },
  {
   "cell_type": "code",
   "execution_count": 7,
   "id": "7f6bfa96-60ff-4521-b91d-c6ff827ed23a",
   "metadata": {},
   "outputs": [],
   "source": [
    "def acuracia(x,y):\n",
    "    y_pred=classificar(x)\n",
    "    acertos=tf.cast(tf.equal(tf.math.argmax(y_pred,axis=1),tf.math.argmax(y,axis=1)),'float32')\n",
    "    return tf.math.reduce_mean(acertos)"
   ]
  },
  {
   "cell_type": "markdown",
   "id": "923edd22-2d1e-459a-b1a7-3db6e7476c37",
   "metadata": {},
   "source": [
    "### Importando dados para treino"
   ]
  },
  {
   "cell_type": "code",
   "execution_count": 8,
   "id": "820feac8-b4b6-4cde-bff6-2e85a2de31a8",
   "metadata": {},
   "outputs": [],
   "source": [
    "# O banco de dados pode ser encontrado em http://yann.lecun.com/exdb/mnist/\n",
    "f = gzip.open(\"mnist.pkl.gz\", 'rb')\n",
    "training_data, validation_data, test_data = Pickle.load(f,encoding='latin1')\n",
    "f.close()\n",
    "train_x=tf.constant(training_data[0])\n",
    "train_y=tf.one_hot(training_data[1],10)\n",
    "val_x=tf.constant(validation_data[0])\n",
    "val_y=tf.one_hot(validation_data[1],10)"
   ]
  },
  {
   "cell_type": "code",
   "execution_count": 9,
   "id": "9cac0125-4a69-45b5-8d52-ee1b0555b1cd",
   "metadata": {},
   "outputs": [],
   "source": [
    "def step(x,y,learnrate):\n",
    "    with tf.GradientTape() as watch_grad:\n",
    "        custo=erros(x,y)\n",
    "    grads=watch_grad.gradient(custo,param)\n",
    "    for par,grad in zip(param,grads):\n",
    "        par.assign(par-learnrate*grad)\n",
    "    return custo"
   ]
  },
  {
   "cell_type": "code",
   "execution_count": 10,
   "id": "7fafd74e-d8f7-447c-aa33-240ddf3001ac",
   "metadata": {},
   "outputs": [],
   "source": [
    "def epoch(n):\n",
    "    for j in range(n):\n",
    "        for i in range(100):\n",
    "            x=train_x[i*500:(i+1)*500]\n",
    "            y=train_y[i*500:(i+1)*500]\n",
    "            custo=step(x,y,10**-1)\n",
    "        print('Custo: ',erros(val_x,val_y).numpy(),' Acurácia: ',acuracia(val_x,val_y).numpy(),end='\\r')"
   ]
  },
  {
   "cell_type": "code",
   "execution_count": 11,
   "id": "1a68a1e1-ef8c-4348-9b02-957722f4520d",
   "metadata": {},
   "outputs": [
    {
     "name": "stdout",
     "output_type": "stream",
     "text": [
      "Custo:  0.007687573  Acurácia:  0.96699\r"
     ]
    }
   ],
   "source": [
    "epoch(1000)"
   ]
  },
  {
   "cell_type": "code",
   "execution_count": 12,
   "id": "8187573b-c44b-4678-848b-2f3c03c3593b",
   "metadata": {},
   "outputs": [],
   "source": [
    "def compara(nome,ext='bmp'):\n",
    "    image= imageio.imread(nome+'.'+ext,pilmode='L')\n",
    "    plot.imshow(image,cmap='Greys')\n",
    "    output=classificar(image.reshape(1,784).astype('float32'))\n",
    "    print(np.argmax(output))"
   ]
  },
  {
   "cell_type": "code",
   "execution_count": 13,
   "id": "ce60424b-71ea-4670-a578-872b86ba3af6",
   "metadata": {},
   "outputs": [
    {
     "name": "stdout",
     "output_type": "stream",
     "text": [
      "2\n"
     ]
    },
    {
     "data": {
      "image/png": "[encoded data removed]",
      "text/plain": [
       "<Figure size 432x288 with 1 Axes>"
      ]
     },
     "metadata": {
      "needs_background": "light"
     },
     "output_type": "display_data"
    }
   ],
   "source": [
    "compara('number')"
   ]
  },
  {
   "cell_type": "code",
   "execution_count": null,
   "id": "6b909d36-785e-4954-b3f3-3ac7dae22411",
   "metadata": {},
   "outputs": [],
   "source": []
  }
 ],
 "metadata": {
  "kernelspec": {
   "display_name": "Python 3",
   "language": "python",
   "name": "python3"
  },
  "language_info": {
   "codemirror_mode": {
    "name": "ipython",
    "version": 3
   },
   "file_extension": ".py",
   "mimetype": "text/x-python",
   "name": "python",
   "nbconvert_exporter": "python",
   "pygments_lexer": "ipython3",
   "version": "3.8.10"
  },
  "widgets": {
   "application/vnd.jupyter.widget-state+json": {
    "state": {},
    "version_major": 2,
    "version_minor": 0
   }
  }
 },
 "nbformat": 4,
 "nbformat_minor": 5
}
