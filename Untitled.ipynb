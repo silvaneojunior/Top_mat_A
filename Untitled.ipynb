{
 "cells": [
  {
   "cell_type": "code",
   "execution_count": 1,
   "id": "9eccbee3",
   "metadata": {},
   "outputs": [],
   "source": [
    "import tensorflow as tf\n",
    "import numpy as np\n",
    "import tensorflow.keras as keras\n",
    "import matplotlib.pyplot as plt\n",
    "import time\n",
    "\n",
    "gpus= tf.config.experimental.list_physical_devices('GPU')\n",
    "tf.config.experimental.set_memory_growth(gpus[0], True)\n",
    "\n",
    "from aux_func_V2 import *\n",
    "import aux_func_numpy as debug"
   ]
  },
  {
   "cell_type": "code",
   "execution_count": 2,
   "id": "5b57b99d",
   "metadata": {},
   "outputs": [
    {
     "data": {
      "text/plain": [
       "\"\\nU_full=Gera_dados()\\nwith tf.device('/device:CPU:0'):\\n    data_full=tf.transpose(tf.concat(U_full,axis=0))\\n\""
      ]
     },
     "execution_count": 2,
     "metadata": {},
     "output_type": "execute_result"
    }
   ],
   "source": [
    "'''\n",
    "U_full=Gera_dados()\n",
    "with tf.device('/device:CPU:0'):\n",
    "    data_full=tf.transpose(tf.concat(U_full,axis=0))\n",
    "'''"
   ]
  },
  {
   "cell_type": "code",
   "execution_count": 3,
   "id": "9e40e770",
   "metadata": {},
   "outputs": [
    {
     "data": {
      "text/plain": [
       "\"\\nimport dill\\n\\nwith open('data.bck','wb') as file:\\n    dill.dump(data_full,file)\\n\""
      ]
     },
     "execution_count": 3,
     "metadata": {},
     "output_type": "execute_result"
    }
   ],
   "source": [
    "'''\n",
    "import dill\n",
    "\n",
    "with open('data.bck','wb') as file:\n",
    "    dill.dump(data_full,file)\n",
    "'''"
   ]
  },
  {
   "cell_type": "code",
   "execution_count": 4,
   "id": "0b4e0093",
   "metadata": {},
   "outputs": [],
   "source": [
    "import dill\n",
    "\n",
    "with open('data.bck','rb') as file:\n",
    "    with tf.device('/device:CPU:0'):\n",
    "        data_full=dill.load(file)\n",
    "        data_full=tf.transpose(data_full[0],[1,0,2]).numpy()"
   ]
  },
  {
   "cell_type": "code",
   "execution_count": 5,
   "id": "293e4117",
   "metadata": {},
   "outputs": [],
   "source": [
    "data_x=np.squeeze(data_full[:,:,1:])\n",
    "data_y=np.squeeze(data_full[:,:,:-1])\n",
    "\n",
    "data_x=data_x[:,np.arange(100)*4]\n",
    "data_y=data_y[:,np.arange(100)*4]\n",
    "data_x=np.concatenate(np.split(data_x,data_x.shape[2],axis=2),axis=0)\n",
    "data_y=np.concatenate(np.split(data_y,data_y.shape[2],axis=2),axis=0)\n",
    "\n",
    "indices=np.where(np.sum(data_x**2,axis=1)>0)[0]\n",
    "data_x=data_x[indices]\n",
    "data_y=data_y[indices]\n",
    "\n",
    "indice=np.arange(data_x.shape[0])\n",
    "np.random.shuffle(indice)\n",
    "data_x=data_x.astype('float64')[indice]\n",
    "data_y=data_y.astype('float64')[indice]"
   ]
  },
  {
   "cell_type": "code",
   "execution_count": 6,
   "id": "f308a990",
   "metadata": {},
   "outputs": [],
   "source": [
    "train_x=data_x[:-398880]\n",
    "train_y=data_y[:-398880]\n",
    "test_x=data_x[-398880:]\n",
    "test_y=data_y[-398880:]"
   ]
  },
  {
   "cell_type": "code",
   "execution_count": 74,
   "id": "8e6052f1",
   "metadata": {},
   "outputs": [],
   "source": [
    "def scheduler(epoch, lr):\n",
    "    if epoch < 1:\n",
    "        return 10**-2\n",
    "    elif epoch<2:\n",
    "        return 10**-3\n",
    "    else:\n",
    "        return 10**-4\n",
    "callback = tf.keras.callbacks.LearningRateScheduler(scheduler)"
   ]
  },
  {
   "cell_type": "code",
   "execution_count": 75,
   "id": "2bdb0a85",
   "metadata": {},
   "outputs": [],
   "source": [
    "ativ_func=lambda x: tf.nn.elu(x)+1\n",
    "\n",
    "class Burguers_layer1(keras.layers.Layer):\n",
    "    def __init__(self, t_final, Δx, CFL, fronteira):\n",
    "        super(Burguers_layer1, self).__init__(dtype='float64')\n",
    "        self.t_final = tf.cast(t_final,'float64')\n",
    "        self.Δx = Δx\n",
    "        self.CFL=CFL\n",
    "        self.fronteira = fronteira\n",
    "    def build(self, input_shape):\n",
    "        self.layers=[]\n",
    "        #self.layers.append(keras.layers.Conv1D(64,1,activation='relu',dtype=data_x.dtype))\n",
    "        self.layers.append(keras.layers.Conv1D(1,3,activation=ativ_func,dtype=data_x.dtype))\n",
    "\n",
    "    def network_graph(self,x):\n",
    "        y=x\n",
    "        for layer in self.layers:\n",
    "            y=layer(y)\n",
    "        return y\n",
    "        \n",
    "    def call(self, inpt,mask=None):   \n",
    "        Λ  = tf.math.reduce_max(tf.abs(inpt))\n",
    "        Δt = self.Δx*self.CFL/Λ\n",
    "        Δt = tf.where(Δt > self.t_final,self.t_final,Δt)\n",
    "        return Graph_Burgers(u=inpt, Δt=Δt, Δx=self.Δx, fronteira=self.fronteira,network=self.network_graph)\n",
    "    def predict(self, inputs,mask=None):\n",
    "        return self(inputs,mask=None)\n",
    "    \n",
    "class Burguers_layer2(keras.layers.Layer):\n",
    "    def __init__(self, t_final, Δx, CFL, fronteira):\n",
    "        super(Burguers_layer2, self).__init__(dtype='float64')\n",
    "        self.t_final = tf.cast(t_final,'float64')\n",
    "        self.Δx = Δx\n",
    "        self.CFL=CFL\n",
    "        self.fronteira = fronteira\n",
    "    def build(self, input_shape):\n",
    "        self.layers=[]\n",
    "        self.layers.append(keras.layers.Conv1D(8,1,activation='relu',dtype=data_x.dtype))\n",
    "        self.layers.append(keras.layers.Conv1D(1,3,activation=ativ_func,dtype=data_x.dtype))\n",
    "\n",
    "    def network_graph(self,x):\n",
    "        y=x\n",
    "        for layer in self.layers:\n",
    "            y=layer(y)\n",
    "        return y\n",
    "        \n",
    "    def call(self, inpt,mask=None):   \n",
    "        Λ  = tf.math.reduce_max(tf.abs(inpt))\n",
    "        Δt = self.Δx*self.CFL/Λ\n",
    "        Δt = tf.where(Δt > self.t_final,self.t_final,Δt)\n",
    "        return Graph_Burgers(u=inpt, Δt=Δt, Δx=self.Δx, fronteira=self.fronteira,network=self.network_graph)\n",
    "    def predict(self, inputs,mask=None):\n",
    "        return self(inputs,mask=None)\n",
    "    \n",
    "class Burguers_layer3(keras.layers.Layer):\n",
    "    def __init__(self, t_final, Δx, CFL, fronteira):\n",
    "        super(Burguers_layer3, self).__init__(dtype='float64')\n",
    "        self.t_final = tf.cast(t_final,'float64')\n",
    "        self.Δx = Δx\n",
    "        self.CFL=CFL\n",
    "        self.fronteira = fronteira\n",
    "    def build(self, input_shape):\n",
    "        self.layers=[]\n",
    "        self.layers.append(keras.layers.Conv1D(64,1,activation='elu',dtype=data_x.dtype))\n",
    "        self.layers.append(keras.layers.Conv1D(64,1,activation='elu',dtype=data_x.dtype))\n",
    "        self.layers.append(keras.layers.Conv1D(1,3,activation=ativ_func,dtype=data_x.dtype))\n",
    "\n",
    "    def network_graph(self,x):\n",
    "        y=x\n",
    "        for layer in self.layers:\n",
    "            y=layer(y)\n",
    "        return y\n",
    "        \n",
    "    def call(self, inpt,mask=None):   \n",
    "        Λ  = tf.math.reduce_max(tf.abs(inpt))\n",
    "        Δt = self.Δx*self.CFL/Λ\n",
    "        Δt = tf.where(Δt > self.t_final,self.t_final,Δt)\n",
    "        return Graph_Burgers(u=inpt, Δt=Δt, Δx=self.Δx, fronteira=self.fronteira,network=self.network_graph)\n",
    "    def predict(self, inputs,mask=None):\n",
    "        return self(inputs,mask=None)"
   ]
  },
  {
   "cell_type": "code",
   "execution_count": 76,
   "id": "95d75d6d",
   "metadata": {},
   "outputs": [],
   "source": [
    "input_x=keras.layers.Input([100,1],dtype='float64')\n",
    "optimizer = keras.optimizers.Adam(learning_rate=10**-2, beta_1=0.9, beta_2=0.999, clipnorm=1.0)\n",
    "    \n",
    "final_layer1=Burguers_layer1(t_final=0.01,Δx=0.04,CFL=0.5,fronteira=FronteiraPeriodica)\n",
    "final_layer2=Burguers_layer2(t_final=0.01,Δx=0.04,CFL=0.5,fronteira=FronteiraPeriodica)\n",
    "final_layer3=Burguers_layer3(t_final=0.01,Δx=0.04,CFL=0.5,fronteira=FronteiraPeriodica)\n",
    "\n",
    "\n",
    "Network1=keras.Model(input_x, final_layer1(input_x))\n",
    "Network2=keras.Model(input_x, final_layer2(input_x))\n",
    "Network3=keras.Model(input_x, final_layer3(input_x))\n",
    "Network1.compile(loss='mean_squared_error',optimizer=optimizer,metrics=['mean_absolute_error'])\n",
    "Network2.compile(loss='mean_squared_error',optimizer=optimizer,metrics=['mean_absolute_error'])\n",
    "Network3.compile(loss='mean_squared_error',optimizer=optimizer,metrics=['mean_absolute_error'])"
   ]
  },
  {
   "cell_type": "code",
   "execution_count": 78,
   "id": "b954c650",
   "metadata": {},
   "outputs": [
    {
     "name": "stdout",
     "output_type": "stream",
     "text": [
      "Epoch 1/3\n",
      "1559/1559 [==============================] - 884s 565ms/step - loss: 7.8528e-04 - mean_absolute_error: 0.0072 - val_loss: 7.7645e-04 - val_mean_absolute_error: 0.0071\n",
      "Epoch 2/3\n"
     ]
    },
    {
     "ename": "ResourceExhaustedError",
     "evalue": " OOM when allocating tensor with shape[1024,101,5] and type double on /job:localhost/replica:0/task:0/device:GPU:0 by allocator GPU_0_bfc\n\t [[node gradient_tape/model_5/burguers_layer3_1/matmul_17/MatMul (defined at <ipython-input-78-30e1c3075b88>:2) ]]\nHint: If you want to see a list of allocated tensors when OOM happens, add report_tensor_allocations_upon_oom to RunOptions for current allocation info. This isn't available when running in Eager mode.\n [Op:__inference_train_function_19522]\n\nErrors may have originated from an input operation.\nInput Source operations connected to node gradient_tape/model_5/burguers_layer3_1/matmul_17/MatMul:\n model_5/burguers_layer3_1/matmul_2/b (defined at C:\\Jupyter\\Edge detection\\aux_func_V2.py:170)\n\nFunction call stack:\ntrain_function\n",
     "output_type": "error",
     "traceback": [
      "\u001b[1;31m---------------------------------------------------------------------------\u001b[0m",
      "\u001b[1;31mResourceExhaustedError\u001b[0m                    Traceback (most recent call last)",
      "\u001b[1;32m<ipython-input-78-30e1c3075b88>\u001b[0m in \u001b[0;36m<module>\u001b[1;34m\u001b[0m\n\u001b[0;32m      1\u001b[0m \u001b[1;31m#Network3.optimizer.lr.assign(10**-3)\u001b[0m\u001b[1;33m\u001b[0m\u001b[1;33m\u001b[0m\u001b[1;33m\u001b[0m\u001b[0m\n\u001b[1;32m----> 2\u001b[1;33m \u001b[0mNetwork3\u001b[0m\u001b[1;33m.\u001b[0m\u001b[0mfit\u001b[0m\u001b[1;33m(\u001b[0m\u001b[0mtrain_x\u001b[0m\u001b[1;33m,\u001b[0m\u001b[0mtrain_y\u001b[0m\u001b[1;33m,\u001b[0m\u001b[0mvalidation_data\u001b[0m\u001b[1;33m=\u001b[0m\u001b[1;33m(\u001b[0m\u001b[0mtest_x\u001b[0m\u001b[1;33m,\u001b[0m\u001b[0mtest_y\u001b[0m\u001b[1;33m)\u001b[0m\u001b[1;33m,\u001b[0m\u001b[0mbatch_size\u001b[0m\u001b[1;33m=\u001b[0m\u001b[1;36m1024\u001b[0m\u001b[1;33m,\u001b[0m\u001b[0mepochs\u001b[0m\u001b[1;33m=\u001b[0m\u001b[1;36m3\u001b[0m\u001b[1;33m)\u001b[0m\u001b[1;33m\u001b[0m\u001b[1;33m\u001b[0m\u001b[0m\n\u001b[0m\u001b[0;32m      3\u001b[0m \u001b[0mNetwork3\u001b[0m\u001b[1;33m.\u001b[0m\u001b[0msave_weigths\u001b[0m\u001b[1;33m(\u001b[0m\u001b[1;34m'Modelo 3'\u001b[0m\u001b[1;33m)\u001b[0m\u001b[1;33m\u001b[0m\u001b[1;33m\u001b[0m\u001b[0m\n",
      "\u001b[1;32mC:\\ProgramData\\Miniconda3\\lib\\site-packages\\keras\\engine\\training.py\u001b[0m in \u001b[0;36mfit\u001b[1;34m(self, x, y, batch_size, epochs, verbose, callbacks, validation_split, validation_data, shuffle, class_weight, sample_weight, initial_epoch, steps_per_epoch, validation_steps, validation_batch_size, validation_freq, max_queue_size, workers, use_multiprocessing)\u001b[0m\n\u001b[0;32m   1182\u001b[0m                 _r=1):\n\u001b[0;32m   1183\u001b[0m               \u001b[0mcallbacks\u001b[0m\u001b[1;33m.\u001b[0m\u001b[0mon_train_batch_begin\u001b[0m\u001b[1;33m(\u001b[0m\u001b[0mstep\u001b[0m\u001b[1;33m)\u001b[0m\u001b[1;33m\u001b[0m\u001b[1;33m\u001b[0m\u001b[0m\n\u001b[1;32m-> 1184\u001b[1;33m               \u001b[0mtmp_logs\u001b[0m \u001b[1;33m=\u001b[0m \u001b[0mself\u001b[0m\u001b[1;33m.\u001b[0m\u001b[0mtrain_function\u001b[0m\u001b[1;33m(\u001b[0m\u001b[0miterator\u001b[0m\u001b[1;33m)\u001b[0m\u001b[1;33m\u001b[0m\u001b[1;33m\u001b[0m\u001b[0m\n\u001b[0m\u001b[0;32m   1185\u001b[0m               \u001b[1;32mif\u001b[0m \u001b[0mdata_handler\u001b[0m\u001b[1;33m.\u001b[0m\u001b[0mshould_sync\u001b[0m\u001b[1;33m:\u001b[0m\u001b[1;33m\u001b[0m\u001b[1;33m\u001b[0m\u001b[0m\n\u001b[0;32m   1186\u001b[0m                 \u001b[0mcontext\u001b[0m\u001b[1;33m.\u001b[0m\u001b[0masync_wait\u001b[0m\u001b[1;33m(\u001b[0m\u001b[1;33m)\u001b[0m\u001b[1;33m\u001b[0m\u001b[1;33m\u001b[0m\u001b[0m\n",
      "\u001b[1;32mC:\\ProgramData\\Miniconda3\\lib\\site-packages\\tensorflow\\python\\eager\\def_function.py\u001b[0m in \u001b[0;36m__call__\u001b[1;34m(self, *args, **kwds)\u001b[0m\n\u001b[0;32m    883\u001b[0m \u001b[1;33m\u001b[0m\u001b[0m\n\u001b[0;32m    884\u001b[0m       \u001b[1;32mwith\u001b[0m \u001b[0mOptionalXlaContext\u001b[0m\u001b[1;33m(\u001b[0m\u001b[0mself\u001b[0m\u001b[1;33m.\u001b[0m\u001b[0m_jit_compile\u001b[0m\u001b[1;33m)\u001b[0m\u001b[1;33m:\u001b[0m\u001b[1;33m\u001b[0m\u001b[1;33m\u001b[0m\u001b[0m\n\u001b[1;32m--> 885\u001b[1;33m         \u001b[0mresult\u001b[0m \u001b[1;33m=\u001b[0m \u001b[0mself\u001b[0m\u001b[1;33m.\u001b[0m\u001b[0m_call\u001b[0m\u001b[1;33m(\u001b[0m\u001b[1;33m*\u001b[0m\u001b[0margs\u001b[0m\u001b[1;33m,\u001b[0m \u001b[1;33m**\u001b[0m\u001b[0mkwds\u001b[0m\u001b[1;33m)\u001b[0m\u001b[1;33m\u001b[0m\u001b[1;33m\u001b[0m\u001b[0m\n\u001b[0m\u001b[0;32m    886\u001b[0m \u001b[1;33m\u001b[0m\u001b[0m\n\u001b[0;32m    887\u001b[0m       \u001b[0mnew_tracing_count\u001b[0m \u001b[1;33m=\u001b[0m \u001b[0mself\u001b[0m\u001b[1;33m.\u001b[0m\u001b[0mexperimental_get_tracing_count\u001b[0m\u001b[1;33m(\u001b[0m\u001b[1;33m)\u001b[0m\u001b[1;33m\u001b[0m\u001b[1;33m\u001b[0m\u001b[0m\n",
      "\u001b[1;32mC:\\ProgramData\\Miniconda3\\lib\\site-packages\\tensorflow\\python\\eager\\def_function.py\u001b[0m in \u001b[0;36m_call\u001b[1;34m(self, *args, **kwds)\u001b[0m\n\u001b[0;32m    915\u001b[0m       \u001b[1;31m# In this case we have created variables on the first call, so we run the\u001b[0m\u001b[1;33m\u001b[0m\u001b[1;33m\u001b[0m\u001b[1;33m\u001b[0m\u001b[0m\n\u001b[0;32m    916\u001b[0m       \u001b[1;31m# defunned version which is guaranteed to never create variables.\u001b[0m\u001b[1;33m\u001b[0m\u001b[1;33m\u001b[0m\u001b[1;33m\u001b[0m\u001b[0m\n\u001b[1;32m--> 917\u001b[1;33m       \u001b[1;32mreturn\u001b[0m \u001b[0mself\u001b[0m\u001b[1;33m.\u001b[0m\u001b[0m_stateless_fn\u001b[0m\u001b[1;33m(\u001b[0m\u001b[1;33m*\u001b[0m\u001b[0margs\u001b[0m\u001b[1;33m,\u001b[0m \u001b[1;33m**\u001b[0m\u001b[0mkwds\u001b[0m\u001b[1;33m)\u001b[0m  \u001b[1;31m# pylint: disable=not-callable\u001b[0m\u001b[1;33m\u001b[0m\u001b[1;33m\u001b[0m\u001b[0m\n\u001b[0m\u001b[0;32m    918\u001b[0m     \u001b[1;32melif\u001b[0m \u001b[0mself\u001b[0m\u001b[1;33m.\u001b[0m\u001b[0m_stateful_fn\u001b[0m \u001b[1;32mis\u001b[0m \u001b[1;32mnot\u001b[0m \u001b[1;32mNone\u001b[0m\u001b[1;33m:\u001b[0m\u001b[1;33m\u001b[0m\u001b[1;33m\u001b[0m\u001b[0m\n\u001b[0;32m    919\u001b[0m       \u001b[1;31m# Release the lock early so that multiple threads can perform the call\u001b[0m\u001b[1;33m\u001b[0m\u001b[1;33m\u001b[0m\u001b[1;33m\u001b[0m\u001b[0m\n",
      "\u001b[1;32mC:\\ProgramData\\Miniconda3\\lib\\site-packages\\tensorflow\\python\\eager\\function.py\u001b[0m in \u001b[0;36m__call__\u001b[1;34m(self, *args, **kwargs)\u001b[0m\n\u001b[0;32m   3037\u001b[0m       (graph_function,\n\u001b[0;32m   3038\u001b[0m        filtered_flat_args) = self._maybe_define_function(args, kwargs)\n\u001b[1;32m-> 3039\u001b[1;33m     return graph_function._call_flat(\n\u001b[0m\u001b[0;32m   3040\u001b[0m         filtered_flat_args, captured_inputs=graph_function.captured_inputs)  # pylint: disable=protected-access\n\u001b[0;32m   3041\u001b[0m \u001b[1;33m\u001b[0m\u001b[0m\n",
      "\u001b[1;32mC:\\ProgramData\\Miniconda3\\lib\\site-packages\\tensorflow\\python\\eager\\function.py\u001b[0m in \u001b[0;36m_call_flat\u001b[1;34m(self, args, captured_inputs, cancellation_manager)\u001b[0m\n\u001b[0;32m   1961\u001b[0m         and executing_eagerly):\n\u001b[0;32m   1962\u001b[0m       \u001b[1;31m# No tape is watching; skip to running the function.\u001b[0m\u001b[1;33m\u001b[0m\u001b[1;33m\u001b[0m\u001b[1;33m\u001b[0m\u001b[0m\n\u001b[1;32m-> 1963\u001b[1;33m       return self._build_call_outputs(self._inference_function.call(\n\u001b[0m\u001b[0;32m   1964\u001b[0m           ctx, args, cancellation_manager=cancellation_manager))\n\u001b[0;32m   1965\u001b[0m     forward_backward = self._select_forward_and_backward_functions(\n",
      "\u001b[1;32mC:\\ProgramData\\Miniconda3\\lib\\site-packages\\tensorflow\\python\\eager\\function.py\u001b[0m in \u001b[0;36mcall\u001b[1;34m(self, ctx, args, cancellation_manager)\u001b[0m\n\u001b[0;32m    589\u001b[0m       \u001b[1;32mwith\u001b[0m \u001b[0m_InterpolateFunctionError\u001b[0m\u001b[1;33m(\u001b[0m\u001b[0mself\u001b[0m\u001b[1;33m)\u001b[0m\u001b[1;33m:\u001b[0m\u001b[1;33m\u001b[0m\u001b[1;33m\u001b[0m\u001b[0m\n\u001b[0;32m    590\u001b[0m         \u001b[1;32mif\u001b[0m \u001b[0mcancellation_manager\u001b[0m \u001b[1;32mis\u001b[0m \u001b[1;32mNone\u001b[0m\u001b[1;33m:\u001b[0m\u001b[1;33m\u001b[0m\u001b[1;33m\u001b[0m\u001b[0m\n\u001b[1;32m--> 591\u001b[1;33m           outputs = execute.execute(\n\u001b[0m\u001b[0;32m    592\u001b[0m               \u001b[0mstr\u001b[0m\u001b[1;33m(\u001b[0m\u001b[0mself\u001b[0m\u001b[1;33m.\u001b[0m\u001b[0msignature\u001b[0m\u001b[1;33m.\u001b[0m\u001b[0mname\u001b[0m\u001b[1;33m)\u001b[0m\u001b[1;33m,\u001b[0m\u001b[1;33m\u001b[0m\u001b[1;33m\u001b[0m\u001b[0m\n\u001b[0;32m    593\u001b[0m               \u001b[0mnum_outputs\u001b[0m\u001b[1;33m=\u001b[0m\u001b[0mself\u001b[0m\u001b[1;33m.\u001b[0m\u001b[0m_num_outputs\u001b[0m\u001b[1;33m,\u001b[0m\u001b[1;33m\u001b[0m\u001b[1;33m\u001b[0m\u001b[0m\n",
      "\u001b[1;32mC:\\ProgramData\\Miniconda3\\lib\\site-packages\\tensorflow\\python\\eager\\execute.py\u001b[0m in \u001b[0;36mquick_execute\u001b[1;34m(op_name, num_outputs, inputs, attrs, ctx, name)\u001b[0m\n\u001b[0;32m     57\u001b[0m   \u001b[1;32mtry\u001b[0m\u001b[1;33m:\u001b[0m\u001b[1;33m\u001b[0m\u001b[1;33m\u001b[0m\u001b[0m\n\u001b[0;32m     58\u001b[0m     \u001b[0mctx\u001b[0m\u001b[1;33m.\u001b[0m\u001b[0mensure_initialized\u001b[0m\u001b[1;33m(\u001b[0m\u001b[1;33m)\u001b[0m\u001b[1;33m\u001b[0m\u001b[1;33m\u001b[0m\u001b[0m\n\u001b[1;32m---> 59\u001b[1;33m     tensors = pywrap_tfe.TFE_Py_Execute(ctx._handle, device_name, op_name,\n\u001b[0m\u001b[0;32m     60\u001b[0m                                         inputs, attrs, num_outputs)\n\u001b[0;32m     61\u001b[0m   \u001b[1;32mexcept\u001b[0m \u001b[0mcore\u001b[0m\u001b[1;33m.\u001b[0m\u001b[0m_NotOkStatusException\u001b[0m \u001b[1;32mas\u001b[0m \u001b[0me\u001b[0m\u001b[1;33m:\u001b[0m\u001b[1;33m\u001b[0m\u001b[1;33m\u001b[0m\u001b[0m\n",
      "\u001b[1;31mResourceExhaustedError\u001b[0m:  OOM when allocating tensor with shape[1024,101,5] and type double on /job:localhost/replica:0/task:0/device:GPU:0 by allocator GPU_0_bfc\n\t [[node gradient_tape/model_5/burguers_layer3_1/matmul_17/MatMul (defined at <ipython-input-78-30e1c3075b88>:2) ]]\nHint: If you want to see a list of allocated tensors when OOM happens, add report_tensor_allocations_upon_oom to RunOptions for current allocation info. This isn't available when running in Eager mode.\n [Op:__inference_train_function_19522]\n\nErrors may have originated from an input operation.\nInput Source operations connected to node gradient_tape/model_5/burguers_layer3_1/matmul_17/MatMul:\n model_5/burguers_layer3_1/matmul_2/b (defined at C:\\Jupyter\\Edge detection\\aux_func_V2.py:170)\n\nFunction call stack:\ntrain_function\n"
     ]
    }
   ],
   "source": [
    "#Network3.optimizer.lr.assign(10**-3)\n",
    "Network3.fit(train_x,train_y,validation_data=(test_x,test_y),batch_size=1024,epochs=3)\n",
    "Network3.save_weigths('Modelo 3')"
   ]
  },
  {
   "cell_type": "code",
   "execution_count": 10,
   "id": "5bd402d6",
   "metadata": {},
   "outputs": [
    {
     "data": {
      "text/plain": [
       "<tensorflow.python.training.tracking.util.CheckpointLoadStatus at 0x19c9a2ddaf0>"
      ]
     },
     "execution_count": 10,
     "metadata": {},
     "output_type": "execute_result"
    }
   ],
   "source": [
    "#Network2=tf.keras.models.load_model('Modelo 2')\n",
    "#Network2.save_weigths('Modelo 2 pesos')\n",
    "Network2.load_weights('Modelo 2 pesos')"
   ]
  },
  {
   "cell_type": "code",
   "execution_count": 79,
   "id": "65ce8173",
   "metadata": {},
   "outputs": [],
   "source": [
    "Network= Network3"
   ]
  },
  {
   "cell_type": "code",
   "execution_count": 80,
   "id": "fc24f03e",
   "metadata": {},
   "outputs": [],
   "source": [
    "error_list=[]\n",
    "\n",
    "Δx = 0.04\n",
    "x = tf.range(-2,2,Δx,\n",
    "             dtype=float_pres)\n",
    "\n",
    "full_U=test_x[:10000]\n",
    "ref_full=test_y[:10000]\n",
    "u=test_x[0]\n",
    "\n",
    "CFL = 0.5\n",
    "\n",
    "Δt_max = 0.01          # Δt da animação\n",
    "\n",
    "t = 0.0\n",
    "i = 2\n",
    "\n",
    "# fig = plt.figure(1, constrained_layout=True,figsize=(6,6))\n",
    "# ax = fig.add_subplot(1,1,1);\n",
    "# ax.set_ylim(-2, 2);\n",
    "# #ax.set_xlim(0,1);\n",
    "# line=ax.plot(x,tf.squeeze(u))\n",
    "# hfig = display(fig, display_id=True)\n",
    "\n",
    "# for i in range(full_U.shape[0]):\n",
    "#     u=full_U[i:i+1]\n",
    "#     u_ref=ref_full[i:i+1]\n",
    "    \n",
    "#     net_u = tf.squeeze(Network.predict(u))\n",
    "#     debug_u = debug.Burgers(u[0], Δt, Δx, CFL, debug.FronteiraPeriodica)[0]\n",
    "    \n",
    "#     error_list.append([tf.squeeze(net_u)-tf.squeeze(u_ref),tf.squeeze(tf.squeeze(debug_u)-tf.squeeze(u_ref))])\n",
    "    \n",
    "\n",
    "#     #line.set_xdata(x)\n",
    "#     line[0].set_ydata(net_u)\n",
    "\n",
    "#     fig.canvas.draw()\n",
    "#     hfig.update(fig)\n",
    "#     #time.sleep(0.01);\n",
    "\n",
    "Λ = tf.math.reduce_max(tf.abs(full_U),axis=1,keepdims=True)\n",
    "Δt = Δx*CFL/Λ\n",
    "Δt = tf.where(Δt > Δt_max,Δt_max,Δt)\n",
    "\n",
    "net_u = tf.squeeze(Network.predict(full_U))\n",
    "debug_u = Burgers(full_U,Δt, Δx, CFL, FronteiraPeriodica)\n",
    "\n",
    "error=tf.stack([tf.squeeze(net_u)-tf.squeeze(ref_full),tf.squeeze(tf.squeeze(debug_u)-tf.squeeze(ref_full))],axis=0)"
   ]
  },
  {
   "cell_type": "code",
   "execution_count": 81,
   "id": "2776e629",
   "metadata": {},
   "outputs": [
    {
     "name": "stdout",
     "output_type": "stream",
     "text": [
      "[0.02707682 0.03301421]\n",
      "0.8201565852049594\n"
     ]
    }
   ],
   "source": [
    "desv_error=tf.math.reduce_mean(tf.math.reduce_mean(error**2,axis=1)**0.5,axis=1)\n",
    "#desv_error=tf.math.reduce_mean(tf.math.reduce_mean(tf.abs(error),axis=1),axis=1)\n",
    "#desv_error=tf.math.reduce_mean(tf.math.reduce_max(tf.abs(error),axis=1),axis=1)\n",
    "print(desv_error.numpy())\n",
    "#print((desv_error[1]-desv_error[0]).numpy())\n",
    "print((desv_error[0]/desv_error[1]).numpy())"
   ]
  },
  {
   "cell_type": "code",
   "execution_count": null,
   "id": "23973ad0",
   "metadata": {},
   "outputs": [],
   "source": [
    "desv_error=tf.math.reduce_mean(error**2,axis=1)**0.5\n",
    "\n",
    "valid=(desv_error[0].numpy()/desv_error[1].numpy())<10\n",
    "\n",
    "np.mean((desv_error[0].numpy()/desv_error[1].numpy())[valid])"
   ]
  },
  {
   "cell_type": "code",
   "execution_count": 83,
   "id": "94c30128",
   "metadata": {},
   "outputs": [
    {
     "data": {
      "image/png": "[encoded data removed]",
      "text/plain": [
       "<Figure size 432x288 with 1 Axes>"
      ]
     },
     "metadata": {
      "needs_background": "light"
     },
     "output_type": "display_data"
    }
   ],
   "source": [
    "plt.hist((desv_error[0].numpy()/desv_error[1].numpy())[valid])\n",
    "plt.show()"
   ]
  },
  {
   "cell_type": "code",
   "execution_count": 84,
   "id": "b463d2e0",
   "metadata": {},
   "outputs": [
    {
     "name": "stdout",
     "output_type": "stream",
     "text": [
      "Model: \"model_5\"\n",
      "_________________________________________________________________\n",
      "Layer (type)                 Output Shape              Param #   \n",
      "=================================================================\n",
      "input_2 (InputLayer)         [(None, 100, 1)]          0         \n",
      "_________________________________________________________________\n",
      "burguers_layer3_1 (Burguers_ (None, 100, 1)            4481      \n",
      "=================================================================\n",
      "Total params: 4,481\n",
      "Trainable params: 4,481\n",
      "Non-trainable params: 0\n",
      "_________________________________________________________________\n"
     ]
    }
   ],
   "source": [
    "Network.summary()"
   ]
  },
  {
   "cell_type": "code",
   "execution_count": null,
   "id": "6ae9521f",
   "metadata": {},
   "outputs": [],
   "source": [
    "Network.weights"
   ]
  },
  {
   "cell_type": "code",
   "execution_count": 271,
   "id": "1fc954eb",
   "metadata": {},
   "outputs": [],
   "source": [
    "init=tf.zeros([1,5,1],dtype='float64')\n",
    "init=tf.random.normal([1,5,1],0,1,dtype='float64')\n",
    "func_ref=tf.Variable(init,trainable=True)\n",
    "target=tf.constant([[[0],[0],[1]]],dtype='float64')\n",
    "#target=target/tf.math.reduce_sum(target)"
   ]
  },
  {
   "cell_type": "code",
   "execution_count": 272,
   "id": "7394d8a3",
   "metadata": {},
   "outputs": [],
   "source": [
    "@tf.function\n",
    "def step_weight():\n",
    "    with tf.GradientTape(persistent=False) as watch_grad:\n",
    "        pred=Network.layers[1].network_graph(func_ref)\n",
    "        pred=pred/tf.math.reduce_sum(pred)\n",
    "        error=(pred-target)**2/2\n",
    "    grad=watch_grad.gradient(error, func_ref)\n",
    "    func_ref.assign(func_ref-10**-4*grad)\n",
    "    \n",
    "@tf.function\n",
    "def step_weight():\n",
    "    with tf.GradientTape(persistent=False) as watch_grad:\n",
    "        beta_weight=tf.transpose(Network.layers[1].network_graph(func_ref),[0,2,1])\n",
    "        \n",
    "\n",
    "        u=tf.transpose(tf.stack([func_ref,func_ref,func_ref],axis=0),[0,1,3,2])\n",
    "\n",
    "        β = tf.math.reduce_sum(u * (u @ A),axis=3)\n",
    "        β = tf.transpose(β,[1,2,0])\n",
    "        β = β*(beta_weight+0.01)\n",
    "        \n",
    "        τ = tf.abs(β[:,:,0:1] - β[:,:,2:3])\n",
    "        α = (1 + (τ/(β + ɛ))**2) @ B\n",
    "        soma = tf.math.reduce_sum(α,axis=2,keepdims=True)\n",
    "        ω = α / soma\n",
    "        \n",
    "        pred=ω\n",
    "        \n",
    "        error=(pred-target)**2/2\n",
    "    grad=watch_grad.gradient(error, func_ref)\n",
    "    func_ref.assign(func_ref-10**-4*grad)"
   ]
  },
  {
   "cell_type": "code",
   "execution_count": 275,
   "id": "262bac4e",
   "metadata": {},
   "outputs": [],
   "source": [
    "for i in range(5000):\n",
    "    step_weight()"
   ]
  },
  {
   "cell_type": "code",
   "execution_count": 274,
   "id": "72e637e6",
   "metadata": {},
   "outputs": [
    {
     "name": "stdout",
     "output_type": "stream",
     "text": [
      "Beta pre:  [15.61114576  8.69766266  0.74100197]\n",
      "Beta final:  [ 2.10903274 10.15423262  7.13987192]\n",
      "Alpha:  [0.35867144 0.40063714 0.24069142]\n"
     ]
    }
   ],
   "source": [
    "ɛ = 10.0**(-40)\n",
    "beta_weight=tf.transpose(Network.layers[1].network_graph(func_ref),[0,2,1])\n",
    "\n",
    "u=tf.transpose(tf.stack([func_ref,func_ref,func_ref],axis=0),[0,1,3,2])\n",
    "    \n",
    "β = tf.math.reduce_sum(u * (u @ A),axis=3)\n",
    "β = tf.transpose(β,[1,2,0])\n",
    "print('Beta pre: ',tf.squeeze(β).numpy())\n",
    "β = β*(beta_weight+0.01)\n",
    "print('Beta final: ',tf.squeeze(β).numpy())\n",
    "τ = tf.abs(β[:,:,0:1] - β[:,:,2:3])\n",
    "α = (1 + (τ/(β + ɛ))**2) @ B\n",
    "soma = tf.math.reduce_sum(α,axis=2,keepdims=True)\n",
    "ω = α / soma\n",
    "print('Alpha: ',tf.squeeze(ω).numpy())"
   ]
  },
  {
   "cell_type": "code",
   "execution_count": 261,
   "id": "563ea85d",
   "metadata": {},
   "outputs": [
    {
     "name": "stdout",
     "output_type": "stream",
     "text": [
      "[ 2.60640924 11.28723738 10.54598547]\n"
     ]
    }
   ],
   "source": [
    "print(tf.squeeze(beta_weight).numpy())"
   ]
  },
  {
   "cell_type": "code",
   "execution_count": 262,
   "id": "0d907fdb",
   "metadata": {},
   "outputs": [
    {
     "data": {
      "text/plain": [
       "[<matplotlib.lines.Line2D at 0x19d7f355d60>]"
      ]
     },
     "execution_count": 262,
     "metadata": {},
     "output_type": "execute_result"
    },
    {
     "data": {
      "image/png": "[encoded data removed]",
      "text/plain": [
       "<Figure size 432x288 with 1 Axes>"
      ]
     },
     "metadata": {
      "needs_background": "light"
     },
     "output_type": "display_data"
    }
   ],
   "source": [
    "plt.ylim((np.min(train_x), np.max(train_x)))\n",
    "plt.plot(np.squeeze(func_ref.numpy()),'ro')"
   ]
  },
  {
   "cell_type": "code",
   "execution_count": 142,
   "id": "0469c733",
   "metadata": {},
   "outputs": [],
   "source": [
    "init=tf.constant([[[0],[0],[0],[0],[-1]]],dtype='float64')"
   ]
  },
  {
   "cell_type": "code",
   "execution_count": 143,
   "id": "cb4e0743",
   "metadata": {},
   "outputs": [
    {
     "data": {
      "text/plain": [
       "<tf.Tensor: shape=(1, 3, 1), dtype=float64, numpy=\n",
       "array([[[1.71325112e-01],\n",
       "        [1.71325112e-01],\n",
       "        [3.91269020e-05]]])>"
      ]
     },
     "execution_count": 143,
     "metadata": {},
     "output_type": "execute_result"
    }
   ],
   "source": [
    "Network.layers[1].network_graph(init)"
   ]
  },
  {
   "cell_type": "code",
   "execution_count": null,
   "id": "776a05d2",
   "metadata": {},
   "outputs": [],
   "source": []
  }
 ],
 "metadata": {
  "kernelspec": {
   "display_name": "Python 3",
   "language": "python",
   "name": "python3"
  },
  "language_info": {
   "codemirror_mode": {
    "name": "ipython",
    "version": 3
   },
   "file_extension": ".py",
   "mimetype": "text/x-python",
   "name": "python",
   "nbconvert_exporter": "python",
   "pygments_lexer": "ipython3",
   "version": "3.8.10"
  },
  "widgets": {
   "application/vnd.jupyter.widget-state+json": {
    "state": {},
    "version_major": 2,
    "version_minor": 0
   }
  }
 },
 "nbformat": 4,
 "nbformat_minor": 5
}
