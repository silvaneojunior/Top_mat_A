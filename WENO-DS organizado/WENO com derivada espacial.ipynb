{
 "cells": [
  {
   "cell_type": "code",
   "execution_count": 1,
   "id": "3789e98e",
   "metadata": {},
   "outputs": [],
   "source": [
    "# Importando os módulos que serão utilizados\n",
    "\n",
    "import tensorflow as tf\n",
    "import numpy as np\n",
    "import tensorflow.keras as keras\n",
    "import matplotlib.pyplot as plt\n",
    "import time\n",
    "import dill\n",
    "\n",
    "# Configurando o acesso do tensorflow aos processadores do computador\n",
    "# no caso, está sendo selecionada a primeira placa de vídeo listada\n",
    "\n",
    "gpus = tf.config.experimental.list_physical_devices('GPU') # Listando as placas de vídeo\n",
    "tf.config.experimental.set_memory_growth(gpus[0], True)    # Selecionando a primeira GPU e configurando\n",
    "\n",
    "# Importando os módulos contendo as funções criadas no projeto\n",
    "\n",
    "from aux_func_V3 import *\n",
    "import API_Numpy\n",
    "import API_TensorFlow"
   ]
  },
  {
   "cell_type": "code",
   "execution_count": 2,
   "id": "c20885af",
   "metadata": {},
   "outputs": [],
   "source": [
    "with open('datasets\\\\Dados espaciais 2.bkp','rb') as file:\n",
    "    y,dy=dill.load(file)\n",
    "\n",
    "indice = np.arange(y.shape[0])\n",
    "np.random.shuffle(indice)\n",
    "data_x = y.astype('float64')[indice]\n",
    "data_y = dy.astype('float64')[indice]\n",
    "\n",
    "# Conjunto de dados de treino\n",
    "train_x = data_x[:-20000]\n",
    "train_y = data_y[:-20000]\n",
    "\n",
    "# Conjunto de dados de validação\n",
    "test_x = data_x[-20000:]\n",
    "test_y = data_y[-20000:]"
   ]
  },
  {
   "cell_type": "code",
   "execution_count": 3,
   "id": "42037dea",
   "metadata": {},
   "outputs": [],
   "source": [
    "# Criando uma camada de Burgers que integra o WENO à rede neural\n",
    "Δx=0.01\n",
    "Sim_layer = WENO_espacial(Δx,FronteiraFixa,diff_equation,WENO_Z,regul_weight=10**-3)\n",
    "@tf.function\n",
    "def WENO_network(u0, Δx):\n",
    "    #Sim_layer.Δx.assign(Δx)\n",
    "    return Sim_layer.DerivadaEspacial(u0,Δx, FronteiraFixa)"
   ]
  },
  {
   "cell_type": "code",
   "execution_count": 4,
   "id": "c91bdeb5",
   "metadata": {},
   "outputs": [],
   "source": [
    "# Definindo o input da rede e o otimizador de treino\n",
    "input_x   = keras.layers.Input([train_x.shape[1]], dtype='float64')\n",
    "optimizer = keras.optimizers.Adam(learning_rate=10**-2, beta_1=0.9, beta_2=0.999, clipnorm=1.0)\n",
    "\n",
    "# Criando a rede neural\n",
    "Network = keras.Model(input_x, Sim_layer(input_x))\n",
    "# Configurando a função de perda e o otimizador\n",
    "loss=Only_smooth_loss(lambda x,y:tf.math.square(x-y),10)\n",
    "Network.compile(loss=loss, optimizer=optimizer, metrics=['MSE'])"
   ]
  },
  {
   "cell_type": "code",
   "execution_count": 5,
   "id": "f507a4d7",
   "metadata": {},
   "outputs": [
    {
     "name": "stdout",
     "output_type": "stream",
     "text": [
      "Epoch 1/100\n",
      "300/300 [==============================] - 43s 123ms/step - loss: 37.5677 - MSE: 260.1935 - val_loss: 36.7600 - val_MSE: 257.8024\n",
      "Epoch 2/100\n",
      "300/300 [==============================] - 37s 123ms/step - loss: 36.9595 - MSE: 259.4040 - val_loss: 36.6233 - val_MSE: 257.4239\n",
      "Epoch 3/100\n",
      "300/300 [==============================] - 36s 120ms/step - loss: 36.9238 - MSE: 258.9426 - val_loss: 36.6213 - val_MSE: 257.3530\n",
      "Epoch 4/100\n",
      "300/300 [==============================] - 38s 128ms/step - loss: 36.7743 - MSE: 258.5972 - val_loss: 36.5127 - val_MSE: 257.1752\n",
      "Epoch 5/100\n",
      "300/300 [==============================] - 38s 128ms/step - loss: 36.0990 - MSE: 258.5541 - val_loss: 35.5693 - val_MSE: 256.5810\n",
      "Epoch 6/100\n",
      "300/300 [==============================] - 39s 130ms/step - loss: 35.9095 - MSE: 257.3804 - val_loss: 35.5211 - val_MSE: 256.1447\n",
      "Epoch 7/100\n",
      "300/300 [==============================] - 41s 135ms/step - loss: 35.7736 - MSE: 258.3357 - val_loss: 35.4631 - val_MSE: 255.9563\n",
      "Epoch 8/100\n",
      "300/300 [==============================] - 40s 133ms/step - loss: 35.7795 - MSE: 258.1805 - val_loss: 35.4351 - val_MSE: 255.8798\n",
      "Epoch 9/100\n",
      "300/300 [==============================] - 40s 135ms/step - loss: 35.8159 - MSE: 257.2654 - val_loss: 35.4024 - val_MSE: 255.8732\n",
      "Epoch 10/100\n",
      "300/300 [==============================] - 40s 135ms/step - loss: 35.5892 - MSE: 256.7472 - val_loss: 35.3854 - val_MSE: 255.4565\n",
      "Epoch 11/100\n",
      "300/300 [==============================] - 41s 135ms/step - loss: 35.6975 - MSE: 256.3897 - val_loss: 35.3776 - val_MSE: 255.3702\n",
      "Epoch 12/100\n",
      "300/300 [==============================] - 40s 133ms/step - loss: 35.7477 - MSE: 256.6273 - val_loss: 35.3574 - val_MSE: 255.3783\n",
      "Epoch 13/100\n",
      "300/300 [==============================] - 40s 133ms/step - loss: 35.6609 - MSE: 256.7304 - val_loss: 35.3641 - val_MSE: 255.4035\n",
      "Epoch 14/100\n",
      "300/300 [==============================] - 40s 134ms/step - loss: 35.6556 - MSE: 256.8636 - val_loss: 35.3661 - val_MSE: 255.3044\n",
      "Epoch 15/100\n",
      "300/300 [==============================] - 40s 133ms/step - loss: 35.7413 - MSE: 256.9676 - val_loss: 35.3430 - val_MSE: 255.3634\n",
      "Epoch 16/100\n",
      "300/300 [==============================] - 40s 134ms/step - loss: 35.5394 - MSE: 256.8473 - val_loss: 35.3244 - val_MSE: 255.2771\n",
      "Epoch 17/100\n",
      "300/300 [==============================] - 40s 133ms/step - loss: 35.6989 - MSE: 256.8994 - val_loss: 35.3437 - val_MSE: 255.1725\n",
      "Epoch 18/100\n",
      "300/300 [==============================] - 40s 133ms/step - loss: 35.6441 - MSE: 256.9967 - val_loss: 35.3351 - val_MSE: 255.3808\n",
      "Epoch 19/100\n",
      "300/300 [==============================] - 38s 126ms/step - loss: 35.5823 - MSE: 256.6695 - val_loss: 35.3256 - val_MSE: 255.2841\n",
      "Epoch 20/100\n",
      "300/300 [==============================] - 40s 132ms/step - loss: 35.5396 - MSE: 256.6308 - val_loss: 35.3109 - val_MSE: 255.1575\n",
      "Epoch 21/100\n",
      "300/300 [==============================] - 38s 127ms/step - loss: 35.6999 - MSE: 255.9347 - val_loss: 35.3167 - val_MSE: 255.3870\n",
      "Epoch 22/100\n",
      "300/300 [==============================] - 39s 131ms/step - loss: 35.5688 - MSE: 257.4192 - val_loss: 35.3334 - val_MSE: 255.3681\n",
      "Epoch 23/100\n",
      "300/300 [==============================] - 42s 141ms/step - loss: 35.6524 - MSE: 257.3866 - val_loss: 35.3039 - val_MSE: 255.1874\n",
      "Epoch 24/100\n",
      "300/300 [==============================] - 39s 131ms/step - loss: 35.6853 - MSE: 256.4175 - val_loss: 35.3174 - val_MSE: 255.2267\n",
      "Epoch 25/100\n",
      "300/300 [==============================] - 38s 127ms/step - loss: 35.5705 - MSE: 256.4837 - val_loss: 35.3016 - val_MSE: 255.1422\n",
      "Epoch 26/100\n",
      "300/300 [==============================] - 40s 134ms/step - loss: 35.6083 - MSE: 256.8435 - val_loss: 35.3143 - val_MSE: 255.1742\n",
      "Epoch 27/100\n",
      "300/300 [==============================] - 40s 133ms/step - loss: 35.5851 - MSE: 257.9694 - val_loss: 35.2971 - val_MSE: 255.1725\n",
      "Epoch 28/100\n",
      "300/300 [==============================] - 37s 125ms/step - loss: 35.6085 - MSE: 256.0790 - val_loss: 35.3116 - val_MSE: 255.1942\n",
      "Epoch 29/100\n",
      "300/300 [==============================] - 37s 125ms/step - loss: 35.5445 - MSE: 256.0934 - val_loss: 35.2940 - val_MSE: 255.1302\n",
      "Epoch 30/100\n",
      "300/300 [==============================] - 38s 126ms/step - loss: 35.5374 - MSE: 257.2430 - val_loss: 35.3068 - val_MSE: 255.2522\n",
      "Epoch 31/100\n",
      "300/300 [==============================] - 36s 119ms/step - loss: 35.6251 - MSE: 256.4206 - val_loss: 35.2973 - val_MSE: 255.2332\n",
      "Epoch 32/100\n",
      "300/300 [==============================] - 36s 122ms/step - loss: 35.6870 - MSE: 256.1027 - val_loss: 35.2995 - val_MSE: 255.2595\n",
      "Epoch 33/100\n",
      "300/300 [==============================] - 38s 125ms/step - loss: 35.6118 - MSE: 256.7511 - val_loss: 35.2837 - val_MSE: 255.0877\n",
      "Epoch 34/100\n",
      "300/300 [==============================] - 37s 124ms/step - loss: 35.6193 - MSE: 256.6455 - val_loss: 35.2867 - val_MSE: 255.1207\n",
      "Epoch 35/100\n",
      "300/300 [==============================] - 38s 128ms/step - loss: 35.5742 - MSE: 257.1225 - val_loss: 35.2918 - val_MSE: 255.2424\n",
      "Epoch 36/100\n",
      "300/300 [==============================] - 38s 128ms/step - loss: 35.6362 - MSE: 256.8559 - val_loss: 35.2873 - val_MSE: 255.1194\n",
      "Epoch 37/100\n",
      "300/300 [==============================] - 38s 127ms/step - loss: 35.6133 - MSE: 256.2643 - val_loss: 35.2968 - val_MSE: 255.2220\n",
      "Epoch 38/100\n",
      "300/300 [==============================] - 38s 125ms/step - loss: 35.5547 - MSE: 256.4965 - val_loss: 35.2870 - val_MSE: 255.1591\n",
      "Epoch 39/100\n",
      "300/300 [==============================] - 39s 131ms/step - loss: 35.4591 - MSE: 256.2646 - val_loss: 35.2965 - val_MSE: 255.1223\n",
      "Epoch 40/100\n",
      "300/300 [==============================] - 40s 132ms/step - loss: 35.6983 - MSE: 258.2530 - val_loss: 35.2871 - val_MSE: 255.1020\n",
      "Epoch 41/100\n",
      "300/300 [==============================] - 39s 131ms/step - loss: 35.6146 - MSE: 255.7769 - val_loss: 35.2868 - val_MSE: 255.0244\n",
      "Epoch 42/100\n",
      "300/300 [==============================] - 40s 132ms/step - loss: 35.5679 - MSE: 256.2281 - val_loss: 35.2975 - val_MSE: 255.0707\n",
      "Epoch 43/100\n",
      "300/300 [==============================] - 38s 126ms/step - loss: 35.5427 - MSE: 257.3535 - val_loss: 35.2910 - val_MSE: 255.0235\n",
      "Epoch 44/100\n",
      "300/300 [==============================] - 37s 122ms/step - loss: 35.7108 - MSE: 256.5799 - val_loss: 35.2841 - val_MSE: 255.1674\n",
      "Epoch 45/100\n",
      "300/300 [==============================] - 37s 122ms/step - loss: 35.6279 - MSE: 256.4916 - val_loss: 35.2915 - val_MSE: 255.0814\n",
      "Epoch 46/100\n",
      "300/300 [==============================] - 36s 120ms/step - loss: 35.6646 - MSE: 256.9633 - val_loss: 35.3077 - val_MSE: 255.2038\n",
      "Epoch 47/100\n",
      "300/300 [==============================] - 38s 127ms/step - loss: 35.5586 - MSE: 256.6481 - val_loss: 35.2939 - val_MSE: 255.0263\n",
      "Epoch 48/100\n",
      "300/300 [==============================] - 37s 123ms/step - loss: 35.5710 - MSE: 255.6200 - val_loss: 35.2927 - val_MSE: 255.1411\n",
      "Epoch 49/100\n",
      "300/300 [==============================] - 36s 121ms/step - loss: 35.5985 - MSE: 256.2414 - val_loss: 35.2882 - val_MSE: 255.1422\n",
      "Epoch 50/100\n",
      "300/300 [==============================] - 37s 124ms/step - loss: 35.6219 - MSE: 257.2004 - val_loss: 35.2968 - val_MSE: 254.9791\n",
      "Epoch 51/100\n",
      "300/300 [==============================] - 39s 129ms/step - loss: 35.5653 - MSE: 256.4496 - val_loss: 35.2980 - val_MSE: 255.1415\n",
      "Epoch 52/100\n",
      "300/300 [==============================] - 38s 128ms/step - loss: 35.6107 - MSE: 256.5077 - val_loss: 35.3119 - val_MSE: 255.1731\n",
      "Epoch 53/100\n",
      "156/300 [==============>...............] - ETA: 17s - loss: 35.7467 - MSE: 256.6128"
     ]
    }
   ],
   "source": [
    "# Treinando a rede neural\n",
    "history=Network.fit(\n",
    "            train_x                           , # Dados de treino\n",
    "            train_y                           , # Dados de treino\n",
    "            validation_data = (test_x, test_y), # Dados de validação\n",
    "            batch_size      = 1024            , # Tamanho do batch\n",
    "            epochs          = 100             , # Número de epochs\n",
    "            steps_per_epoch = 300             , # Número de batchs por epoch\n",
    "            shuffle         = True              # Aleatorização dos batchs\n",
    "        )\n",
    "\n",
    "# Batch: pacote de dados utilizados antes de uma atualização dos pesos da rede\n",
    "# Epoch: rodada de treino da rede neural, em geral percorre todo o conjunto de dados"
   ]
  },
  {
   "cell_type": "code",
   "execution_count": 22,
   "id": "d3eacf09",
   "metadata": {},
   "outputs": [
    {
     "data": {
      "image/png": "[encoded data removed]",
      "text/plain": [
       "<Figure size 432x288 with 1 Axes>"
      ]
     },
     "metadata": {
      "needs_background": "light"
     },
     "output_type": "display_data"
    }
   ],
   "source": [
    "plt.plot(history.history['val_loss'])\n",
    "plt.show()"
   ]
  },
  {
   "cell_type": "code",
   "execution_count": 23,
   "id": "67d0cc3d",
   "metadata": {},
   "outputs": [],
   "source": [
    "# Salvando os pesos treinados\n",
    "Network.save_weights('Modelos treinados\\\\Modelo Rede espacial - 4')"
   ]
  },
  {
   "cell_type": "code",
   "execution_count": 32,
   "id": "64379bd9",
   "metadata": {},
   "outputs": [],
   "source": [
    "Sim, Sim_step, DerivadaEspacial, Get_weights=create_simulation(API_Numpy,diff_equation,WENO_Z)\n",
    "WENO_Z_ref=lambda u0, Δx_inpt:DerivadaEspacial(u0,Δx_inpt, FronteiraPeriodica)"
   ]
  },
  {
   "cell_type": "code",
   "execution_count": 55,
   "id": "42037dea",
   "metadata": {},
   "outputs": [],
   "source": [
    "# Criando uma camada de Burgers que integra o WENO à rede neural\n",
    "Δx=0.01\n",
    "Sim_layer = WENO_espacial(Δx,FronteiraFixa,diff_equation,WENO_JS)\n",
    "@tf.function\n",
    "def WENO_network(u0, Δx):\n",
    "    #Sim_layer.Δx.assign(Δx)\n",
    "    return Sim_layer.DerivadaEspacial(u0,Δx, FronteiraPeriodica)"
   ]
  },
  {
   "cell_type": "code",
   "execution_count": 56,
   "id": "c91bdeb5",
   "metadata": {},
   "outputs": [],
   "source": [
    "# Definindo o input da rede e o otimizador de treino\n",
    "input_x   = keras.layers.Input([7], dtype='float64')\n",
    "optimizer = keras.optimizers.Adam(learning_rate=10**-2, beta_1=0.9, beta_2=0.999, clipnorm=1.0)\n",
    "\n",
    "# Criando a rede neural\n",
    "Network = keras.Model(input_x, Sim_layer(input_x))\n",
    "# Configurando a função de perda e o otimizador\n",
    "loss=Only_smooth_loss(lambda x,y:tf.math.abs(x-y),10)\n",
    "Network.compile(loss=loss, optimizer=optimizer, metrics=['MSE'])"
   ]
  },
  {
   "cell_type": "code",
   "execution_count": 57,
   "id": "b587d57d",
   "metadata": {},
   "outputs": [
    {
     "data": {
      "text/plain": [
       "<tensorflow.python.training.tracking.util.CheckpointLoadStatus at 0x1e65fca9d90>"
      ]
     },
     "execution_count": 57,
     "metadata": {},
     "output_type": "execute_result"
    }
   ],
   "source": [
    "# Carregando os pesos treinados\n",
    "Network.load_weights('Modelos treinados\\\\Modelo Rede temporal - 5')"
   ]
  },
  {
   "cell_type": "code",
   "execution_count": 58,
   "id": "d92c8c2d",
   "metadata": {},
   "outputs": [],
   "source": [
    "Δx_ref = 0.01\n",
    "\n",
    "def f(x):\n",
    "    return np.sin(np.pi*x)\n",
    "\n",
    "def df(x):\n",
    "    return np.pi*np.cos(np.pi*x)\n"
   ]
  },
  {
   "cell_type": "code",
   "execution_count": 59,
   "id": "0669f024",
   "metadata": {},
   "outputs": [
    {
     "data": {
      "image/png": "[encoded data removed]",
      "text/plain": [
       "<Figure size 432x288 with 1 Axes>"
      ]
     },
     "metadata": {
      "needs_background": "light"
     },
     "output_type": "display_data"
    }
   ],
   "source": [
    "Δx1 = Δx_ref\n",
    "x1  = np.arange(-1, 1, Δx1)\n",
    "x1  = np.expand_dims(x1,0)\n",
    "u1  = f(x1)\n",
    "du1 = df(x1)\n",
    "y1=WENO_network(u1, Δx1)\n",
    "\n",
    "plt.plot(x1[0],du1[0],label='Derivada analítica')\n",
    "plt.plot(x1[0],y1[0],label='Derivada WENO-DS')\n",
    "plt.legend()\n",
    "plt.show()"
   ]
  },
  {
   "cell_type": "code",
   "execution_count": 60,
   "id": "d65eee17",
   "metadata": {},
   "outputs": [],
   "source": [
    "\n",
    "# Função definida no artigo\n",
    "f_test = lambda x: -(-tf.math.sin(np.pi*x) - 0.5 * x**3 + \\\n",
    "    tf.where(x < 0, tf.constant(0.0, dtype=float_pres), tf.constant(1.0, dtype=float_pres)))\n",
    "\n",
    "    \n",
    "# Função definida no artigo\n",
    "f_test = lambda x: tf.math.sin(np.pi*x) + 0.5 * x**3\n",
    "\n",
    "# Função definida no artigo\n",
    "f_test = lambda x: tf.math.exp(-10*(x**2))"
   ]
  },
  {
   "cell_type": "code",
   "execution_count": 61,
   "id": "46bfabf3",
   "metadata": {},
   "outputs": [],
   "source": [
    "# Calculando os erros de previsão utilizando o WENO-Z em uma malha mais fina \n",
    "# como solução de referência e depois calculando o WENO-Z e o WENO-Z com a \n",
    "# modificação da rede neural numa malha mais grossa\n",
    "Δx_ref = 0.01\n",
    "Δx = Δx_ref                                # Distância espacial dos pontos na malha mais grossa utilizada\n",
    "x  = tf.range(-1, 1, Δx, dtype=float_pres) # Gerando a malha de pontos no espaço unidimensional\n",
    "\n",
    "full_U=tf.expand_dims(f_test(x),axis=0)\n",
    "\n",
    "net_u   = WENO_network(full_U,Δx)"
   ]
  },
  {
   "cell_type": "code",
   "execution_count": 62,
   "id": "6c062e82",
   "metadata": {},
   "outputs": [],
   "source": [
    "# Calculando os erros de previsão utilizando o WENO-Z em uma malha mais fina \n",
    "# como solução de referência e depois calculando o WENO-Z e o WENO-Z com a \n",
    "# modificação da rede neural numa malha mais grossa\n",
    "\n",
    "k=1\n",
    "\n",
    "Δx = Δx_ref/k                              # Distância espacial dos pontos na malha mais grossa utilizada\n",
    "x  = tf.range(-1, 1, Δx, dtype=float_pres) # Gerando a malha de pontos no espaço unidimensional\n",
    "\n",
    "full_U=tf.expand_dims(f_test(x),axis=0)\n",
    "\n",
    "debug_u   = WENO_Z_ref(full_U,Δx)         # Previsão com o WENO-Z modificado pela rede neural\n",
    "debug_u   = tf.gather(debug_u,np.arange(net_u.shape[-1])*k,axis=-1) "
   ]
  },
  {
   "cell_type": "code",
   "execution_count": 63,
   "id": "6a2ac547",
   "metadata": {},
   "outputs": [],
   "source": [
    "# Calculando os erros de previsão utilizando o WENO-Z em uma malha mais fina \n",
    "# como solução de referência e depois calculando o WENO-Z e o WENO-Z com a \n",
    "# modificação da rede neural numa malha mais grossa\n",
    "\n",
    "k=4\n",
    "\n",
    "Δx = Δx_ref/k                               # Distância espacial dos pontos na malha mais grossa utilizada\n",
    "x  = tf.range(-1, 1, Δx, dtype=float_pres) # Gerando a malha de pontos no espaço unidimensional\n",
    "\n",
    "full_U=tf.expand_dims(f_test(x),axis=0)\n",
    "\n",
    "ref_full   = tf.gather(WENO_Z_ref(full_U,Δx),np.arange(net_u.shape[-1])*k,axis=-1)             # Previsão com o WENO-Z modificado pela rede neural\n",
    "ref_full   = tf.gather(ref_full,np.arange(net_u.shape[-1])*k,axis=-1) \n",
    "\n",
    "# Armazenando ambos os erros de previsão\n",
    "error = tf.stack([net_u-ref_full,debug_u-ref_full],axis=0)\n",
    "error = tf.squeeze(error[:,:,10:-10])"
   ]
  },
  {
   "cell_type": "code",
   "execution_count": 64,
   "id": "2fec605c",
   "metadata": {},
   "outputs": [
    {
     "name": "stdout",
     "output_type": "stream",
     "text": [
      "L2:\n",
      "[22.39427551 22.39427555]\n",
      "0.9999999981792037\n",
      "\n",
      "\n",
      "L1:\n",
      "[248.62712704 248.62712659]\n",
      "1.0000000017741277\n",
      "\n",
      "\n",
      "L-inf:\n",
      "[2.816371 2.816371]\n",
      "0.9999999990207453\n"
     ]
    }
   ],
   "source": [
    "# Calculando média dos erros de acordo com a norma L2, L1 ou L-inf\n",
    "\n",
    "# Norma L2:\n",
    "#--------------------------------------------------------------------------------------\n",
    "desv_error = tf.math.reduce_sum(error**2, axis=-1)**0.5\n",
    "#--------------------------------------------------------------------------------------\n",
    "print('L2:')\n",
    "# Erro médio para a rede neural e o WENO-Z (respectivamente)\n",
    "print(desv_error.numpy())\n",
    "# Diferença entre os erros (WENO-Z - rede neural)\n",
    "# print((desv_error[1]-desv_error[0]).numpy())\n",
    "# Razão entre os erros (rede neural/WENO-Z)\n",
    "print((desv_error[0]/desv_error[1]).numpy())\n",
    "print('\\n')\n",
    "\n",
    "# Norma L1:\n",
    "#--------------------------------------------------------------------------------------\n",
    "desv_error = tf.math.reduce_sum(tf.abs(error), axis=-1)\n",
    "#--------------------------------------------------------------------------------------\n",
    "print('L1:')\n",
    "# Erro médio para a rede neural e o WENO-Z (respectivamente)\n",
    "print(desv_error.numpy())\n",
    "# Diferença entre os erros (WENO-Z - rede neural)\n",
    "# print((desv_error[1]-desv_error[0]).numpy())\n",
    "# Razão entre os erros (rede neural/WENO-Z)\n",
    "print((desv_error[0]/desv_error[1]).numpy())\n",
    "print('\\n')\n",
    "\n",
    "# Noma L-inf:\n",
    "#-------------------------------------------------------------------------------------\n",
    "desv_error = tf.math.reduce_max(tf.abs(error), axis=-1)\n",
    "#--------------------------------------------------------------------------------------\n",
    "print('L-inf:')\n",
    "# Erro médio para a rede neural e o WENO-Z (respectivamente)\n",
    "print(desv_error.numpy())\n",
    "# Diferença entre os erros (WENO-Z - rede neural)\n",
    "# print((desv_error[1]-desv_error[0]).numpy())\n",
    "# Razão entre os erros (rede neural/WENO-Z)\n",
    "print((desv_error[0]/desv_error[1]).numpy())"
   ]
  },
  {
   "cell_type": "code",
   "execution_count": 65,
   "id": "46bfabf3",
   "metadata": {},
   "outputs": [
    {
     "name": "stdout",
     "output_type": "stream",
     "text": [
      "WARNING:tensorflow:5 out of the last 6 calls to <function WENO_network at 0x000001E675B151F0> triggered tf.function retracing. Tracing is expensive and the excessive number of tracings could be due to (1) creating @tf.function repeatedly in a loop, (2) passing tensors with different shapes, (3) passing Python objects instead of tensors. For (1), please define your @tf.function outside of the loop. For (2), @tf.function has experimental_relax_shapes=True option that relaxes argument shapes that can avoid unnecessary retracing. For (3), please refer to https://www.tensorflow.org/guide/function#controlling_retracing and https://www.tensorflow.org/api_docs/python/tf/function for  more details.\n",
      "WARNING:tensorflow:6 out of the last 7 calls to <function WENO_network at 0x000001E675B151F0> triggered tf.function retracing. Tracing is expensive and the excessive number of tracings could be due to (1) creating @tf.function repeatedly in a loop, (2) passing tensors with different shapes, (3) passing Python objects instead of tensors. For (1), please define your @tf.function outside of the loop. For (2), @tf.function has experimental_relax_shapes=True option that relaxes argument shapes that can avoid unnecessary retracing. For (3), please refer to https://www.tensorflow.org/guide/function#controlling_retracing and https://www.tensorflow.org/api_docs/python/tf/function for  more details.\n",
      "950\r"
     ]
    }
   ],
   "source": [
    "# Calculando os erros de previsão utilizando o WENO-Z em uma malha mais fina \n",
    "# como solução de referência e depois calculando o WENO-Z e o WENO-Z com a \n",
    "# modificação da rede neural numa malha mais grossa\n",
    "sizes=np.arange(100,1000,50)\n",
    "error=[]\n",
    "k=4\n",
    "for i in sizes:\n",
    "    print(i,end='\\r')\n",
    "    Δx_ref = 2/i\n",
    "    Δx = Δx_ref                                # Distância espacial dos pontos na malha mais grossa utilizada\n",
    "    x  = tf.range(-1, 1, Δx, dtype=float_pres) # Gerando a malha de pontos no espaço unidimensional\n",
    "\n",
    "    full_U=tf.expand_dims(f_test(x),axis=0)\n",
    "    net_u   = WENO_network(full_U,Δx)\n",
    "\n",
    "    Δx = Δx_ref/k                                # Distância espacial dos pontos na malha mais grossa utilizada\n",
    "    x  = tf.range(-1, 1, Δx, dtype=float_pres) # Gerando a malha de pontos no espaço unidimensional\n",
    "\n",
    "    full_U=tf.expand_dims(f_test(x),axis=0)\n",
    "    ref_u   = WENO_Z_ref(full_U,Δx)\n",
    "    ref_u   = tf.gather(ref_u,np.arange(net_u.shape[-1])*k,axis=-1) \n",
    "\n",
    "    error.append(np.sum(np.abs(net_u-ref_u)[:,10:-10]))\n",
    "error=np.asarray(error)"
   ]
  },
  {
   "cell_type": "code",
   "execution_count": 66,
   "id": "e09cb202",
   "metadata": {},
   "outputs": [
    {
     "data": {
      "text/plain": [
       "[<matplotlib.lines.Line2D at 0x1e672c062e0>]"
      ]
     },
     "execution_count": 66,
     "metadata": {},
     "output_type": "execute_result"
    },
    {
     "data": {
      "image/png": "[encoded data removed]",
      "text/plain": [
       "<Figure size 432x288 with 1 Axes>"
      ]
     },
     "metadata": {
      "needs_background": "light"
     },
     "output_type": "display_data"
    }
   ],
   "source": [
    "plt.plot(sizes,error)"
   ]
  },
  {
   "cell_type": "code",
   "execution_count": 68,
   "id": "2fec605c",
   "metadata": {},
   "outputs": [
    {
     "data": {
      "text/plain": [
       "[<matplotlib.lines.Line2D at 0x1e67468c3a0>]"
      ]
     },
     "execution_count": 68,
     "metadata": {},
     "output_type": "execute_result"
    },
    {
     "data": {
      "image/png": "[encoded data removed]",
      "text/plain": [
       "<Figure size 432x288 with 1 Axes>"
      ]
     },
     "metadata": {
      "needs_background": "light"
     },
     "output_type": "display_data"
    }
   ],
   "source": [
    "plt.plot(np.log(sizes),np.log(error),'ro')\n",
    "plt.plot(np.log(sizes),-5*(np.log(sizes)-np.mean(np.log(sizes)))+np.mean(np.log(error)))\n",
    "plt.plot(np.log(sizes),-3*(np.log(sizes)-np.mean(np.log(sizes)))+np.mean(np.log(error)))"
   ]
  },
  {
   "cell_type": "code",
   "execution_count": null,
   "id": "5478a6be",
   "metadata": {},
   "outputs": [
    {
     "name": "stdout",
     "output_type": "stream",
     "text": [
      "(1, 200)\n"
     ]
    }
   ],
   "source": [
    "Δx1 = 0.01\n",
    "x1  = np.arange(-1, 1, Δx1)\n",
    "x1  = np.expand_dims(x1,0)\n",
    "u1  = f(x1)\n",
    "du1 = df(x1)\n",
    "y1=WENO_network(u1, Δx1)\n",
    "\n",
    "print(y1.shape)"
   ]
  },
  {
   "cell_type": "code",
   "execution_count": null,
   "id": "4415a146",
   "metadata": {},
   "outputs": [
    {
     "name": "stdout",
     "output_type": "stream",
     "text": [
      "(1, 400)\n"
     ]
    }
   ],
   "source": [
    "Δx2 = Δx1/2\n",
    "x2  = np.arange(-1, 1, Δx2)\n",
    "x2  = np.expand_dims(x2,0)\n",
    "u2  = f(x2)\n",
    "du2 = df(x2)\n",
    "y2=WENO_network(u2, Δx2)\n",
    "\n",
    "print(y2.shape)"
   ]
  },
  {
   "cell_type": "code",
   "execution_count": null,
   "id": "a40337e4",
   "metadata": {},
   "outputs": [
    {
     "name": "stdout",
     "output_type": "stream",
     "text": [
      "6.780461755958531\n",
      "2.761383525625255\n"
     ]
    }
   ],
   "source": [
    "razao=(np.sum(np.abs(y1 - du1)[:,10:-10])/np.sum(np.abs(y2 - du2)[:,10:-10]))\n",
    "print(razao)\n",
    "print(np.log(razao)/np.log(2))"
   ]
  }
 ],
 "metadata": {
  "kernelspec": {
   "display_name": "Python 3",
   "language": "python",
   "name": "python3"
  },
  "language_info": {
   "codemirror_mode": {
    "name": "ipython",
    "version": 3
   },
   "file_extension": ".py",
   "mimetype": "text/x-python",
   "name": "python",
   "nbconvert_exporter": "python",
   "pygments_lexer": "ipython3",
   "version": "3.8.10"
  },
  "widgets": {
   "application/vnd.jupyter.widget-state+json": {
    "state": {},
    "version_major": 2,
    "version_minor": 0
   }
  }
 },
 "nbformat": 4,
 "nbformat_minor": 5
}
