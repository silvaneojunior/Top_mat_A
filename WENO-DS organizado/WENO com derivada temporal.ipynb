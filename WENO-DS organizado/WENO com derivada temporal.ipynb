{
 "cells": [
  {
   "cell_type": "code",
   "execution_count": 1,
   "id": "a7411a27",
   "metadata": {},
   "outputs": [],
   "source": [
    "from aux_train import *\n",
    "from aux_plot import *\n",
    "from aux_func_V3 import *"
   ]
  },
  {
   "cell_type": "code",
   "execution_count": 2,
   "id": "c20885af",
   "metadata": {},
   "outputs": [],
   "source": [
    "with open('datasets\\\\Dados temporais Tatiana.bkp','rb') as file:\n",
    "     Δx=2/128\n",
    "     CFL=0.5\n",
    "     Δt=0.4/100\n",
    "     fronteira=FronteiraPeriodica\n",
    "     y=dill.load(file)\n",
    "     equation=burgers_equation\n",
    "# with open('datasets\\\\Dados temporais 4.bkp','rb') as file:\n",
    "#      data_dict=dill.load(file)\n",
    "#      y=data_dict['data']\n",
    "#      Δx=data_dict['Δx']*data_dict['granul_x']\n",
    "#      CFL=0.5\n",
    "#      Δt=data_dict['Δt']*data_dict['granul_t']\n",
    "#      fronteria=data_dict['Fronteira']"
   ]
  },
  {
   "cell_type": "code",
   "execution_count": 3,
   "id": "f30b2f1b",
   "metadata": {},
   "outputs": [
    {
     "name": "stdout",
     "output_type": "stream",
     "text": [
      "6.4e-08\n",
      "9.313225746154785e-10\n"
     ]
    }
   ],
   "source": [
    "print(Δt**3)\n",
    "print(Δx**5)"
   ]
  },
  {
   "cell_type": "code",
   "execution_count": 4,
   "id": "e749dc7c",
   "metadata": {},
   "outputs": [],
   "source": [
    "def loop_wrapper(func):\n",
    "    def loop_func(u0,Δx):\n",
    "        u=u0+0\n",
    "        for i in range(y.shape[1]-1):\n",
    "            u=func(u,Δx)\n",
    "        return u\n",
    "    return loop_func"
   ]
  },
  {
   "cell_type": "code",
   "execution_count": 5,
   "id": "824b9272",
   "metadata": {},
   "outputs": [],
   "source": [
    "WENO_Z_ref_sim=simulation(API_Numpy,equation,WENO_Z)\n",
    "WENO_Z_ref=lambda u0, Δx:WENO_Z_ref_sim.Sim(u0,Δt, Δx, CFL, fronteira)\n",
    "WENO_JS_ref_sim=simulation(API_Numpy,equation,WENO_JS)\n",
    "WENO_JS_ref=lambda u0, Δx:WENO_JS_ref_sim.Sim(u0,Δt, Δx, CFL, fronteira)# Criando uma camada de Burgers que integra o WENO à rede neural\n",
    "Sim_layer = WENO_layer(equation,WENO_Z,regul_weight=0,ativ_func=tf.nn.sigmoid,p=2,conv_size=5)\n",
    "WENO_network=tf.function(lambda u0, Δx:Sim_layer.Sim(u0,Δt, Δx, CFL, fronteira))"
   ]
  },
  {
   "cell_type": "code",
   "execution_count": 6,
   "id": "f2dc83aa",
   "metadata": {},
   "outputs": [],
   "source": [
    "# Sim, Sim_step, DerivadaEspacial, Get_weights=create_simulation(API_Numpy,burgers_equation,WENO_Z)\n",
    "# WENO_Z_ref=lambda u0, Δx, Δt:Sim(u0,Δt, Δx, CFL, FronteiraPeriodica)\n",
    "# Sim, Sim_step, DerivadaEspacial, Get_weights=create_simulation(API_Numpy,burgers_equation,WENO_JS)\n",
    "# WENO_JS_ref=lambda u0, Δx, Δt:Sim(u0,Δt, Δx, CFL, FronteiraPeriodica)\n",
    "# # Criando uma camada de Burgers que integra o WENO à rede neural\n",
    "# Sim_layer = WENO_temporal(Δx, CFL, Δt, FronteiraFixa,burgers_equation,WENO_JS,regul_weight=0)\n",
    "# WENO_network=tf.function(lambda u0, Δx, Δt:Sim_layer.Sim(u0,Δt, Δx, CFL, FronteiraPeriodica))"
   ]
  },
  {
   "cell_type": "code",
   "execution_count": 6,
   "id": "e067dab2",
   "metadata": {},
   "outputs": [],
   "source": [
    "indice = np.arange(y.shape[0])\n",
    "np.random.shuffle(indice)\n",
    "data_x = y.astype('float64')[indice]\n",
    "data_y = y.astype('float64')[indice]"
   ]
  },
  {
   "cell_type": "code",
   "execution_count": 9,
   "id": "6404c8d8",
   "metadata": {},
   "outputs": [],
   "source": [
    "# plt.figure(figsize=(6.4*5,6.4*2))\n",
    "# for i,j in zip(range(5),np.random.randint(0,50,5)):\n",
    "#     plt.subplot(2, 5, i%5+1)\n",
    "#     plt.ylim(-2,2)\n",
    "#     plt.plot(data_x[j,0])\n",
    "#     plt.subplot(2, 5, 5+i%5+1)\n",
    "#     plt.ylim(-2,2)\n",
    "#     plt.plot(data_y[j,100])\n",
    "# plt.savefig('tatiana dataset.png')"
   ]
  },
  {
   "cell_type": "code",
   "execution_count": 12,
   "id": "9f438047",
   "metadata": {},
   "outputs": [],
   "source": [
    "# Conjunto de dados de treino\n",
    "# train_x = data_x[:-40,:-1]\n",
    "# train_y = data_x[:-40,1:]\n",
    "# k=10\n",
    "# data_cutted=np.split(data_x,np.arange(k+1,data_x.shape[1],k+1),axis=1)\n",
    "# data_cutted=np.concatenate([i for i in data_cutted if i.shape[1]==k+1],axis=0)\n",
    "train_x = data_x[:,0]\n",
    "train_y = data_y[:,1:11]\n",
    "#train_x=API_Numpy.concat(API_Numpy.unstack(train_x,1),axis=0)\n",
    "#train_y=API_Numpy.concat(API_Numpy.unstack(train_y,1),axis=0)\n",
    "\n",
    "# test_x = data_x[-5000:]\n",
    "# test_y = data_y[-5000:]\n",
    "\n",
    "# Conjunto de dados de validação\n",
    "# test_x = data_x[-40:,:-1]\n",
    "# test_y = data_x[-40:,1:]"
   ]
  },
  {
   "cell_type": "code",
   "execution_count": 13,
   "id": "f26c5607",
   "metadata": {},
   "outputs": [
    {
     "data": {
      "text/plain": [
       "<tf.Tensor: shape=(10, 128), dtype=float64, numpy=\n",
       "array([[ 7.51294979e-12,  1.59063680e-11,  3.52193309e-11, ...,\n",
       "         7.59807852e-11,  3.52199027e-11,  1.59057392e-11],\n",
       "       [ 1.76316626e-11,  8.85507311e-02,  1.76902297e-01, ...,\n",
       "        -2.64855887e-01, -1.76902297e-01, -8.85507310e-02],\n",
       "       [ 9.40939584e-01,  1.17265318e+00,  1.18425592e+00, ...,\n",
       "         3.50222756e-05,  1.71979961e-03,  7.46518309e-02],\n",
       "       ...,\n",
       "       [ 3.87688015e-12,  6.42273746e-02,  1.28307516e-01, ...,\n",
       "        -1.92093478e-01, -1.28307516e-01, -6.42273746e-02],\n",
       "       [ 8.77149988e-01,  1.07346650e+00,  1.08233520e+00, ...,\n",
       "         2.48335360e-05,  1.35587684e-03,  6.34123298e-02],\n",
       "       [ 4.35649546e-12,  6.59997192e-02,  1.31848352e-01, ...,\n",
       "        -1.97395102e-01, -1.31848352e-01, -6.59997192e-02]])>"
      ]
     },
     "execution_count": 13,
     "metadata": {},
     "output_type": "execute_result"
    }
   ],
   "source": [
    "Sim_layer(train_x[:10],Δt, Δx, fronteira)"
   ]
  },
  {
   "cell_type": "code",
   "execution_count": 19,
   "id": "c30123b5",
   "metadata": {},
   "outputs": [
    {
     "name": "stdout",
     "output_type": "stream",
     "text": [
      "9\r"
     ]
    }
   ],
   "source": [
    "# Definindo o input da rede e o otimizador de treino\n",
    "input_x   = keras.layers.Input([train_x.shape[1]], dtype='float64')\n",
    "optimizer = keras.optimizers.Adam(learning_rate=0.001, beta_1=0.9, beta_2=0.999, clipnorm=1.0)\n",
    "\n",
    "#final_x=Sim_layer.Sim_step_graph(input_x,Δt, Δx, fronteira)\n",
    "output_x=[input_x]\n",
    "for i in range(train_y.shape[1]):\n",
    "    print(i,end='\\r')\n",
    "    output_x.append(Sim_layer(output_x[-1],Δt, Δx, fronteira))\n",
    "\n",
    "# Criando a rede neural\n",
    "Network = keras.Model(input_x, tf.stack(output_x[1:],axis=-2))\n",
    "# Configurando a função de perda e o otimizador\n",
    "\n",
    "\n",
    "Network.compile(loss='MSE', optimizer=optimizer, metrics=['mean_absolute_error'])"
   ]
  },
  {
   "cell_type": "code",
   "execution_count": 20,
   "id": "3ce807ef",
   "metadata": {},
   "outputs": [
    {
     "name": "stdout",
     "output_type": "stream",
     "text": [
      "Epoch 1/90\n",
      "38/38 [==============================] - 672s 13s/step - loss: 0.0023 - mean_absolute_error: 0.0046\n",
      "Epoch 2/90\n",
      "38/38 [==============================] - 476s 13s/step - loss: 0.0023 - mean_absolute_error: 0.0046\n",
      "Epoch 3/90\n",
      "38/38 [==============================] - 468s 12s/step - loss: 0.0023 - mean_absolute_error: 0.0045\n",
      "Epoch 4/90\n",
      "38/38 [==============================] - 462s 12s/step - loss: 0.0022 - mean_absolute_error: 0.0044\n",
      "Epoch 5/90\n",
      "38/38 [==============================] - 470s 12s/step - loss: 0.0021 - mean_absolute_error: 0.0041\n",
      "Epoch 6/90\n",
      "38/38 [==============================] - 474s 12s/step - loss: 0.0020 - mean_absolute_error: 0.0040\n",
      "Epoch 7/90\n",
      "38/38 [==============================] - 472s 12s/step - loss: 0.0020 - mean_absolute_error: 0.0039\n",
      "Epoch 8/90\n",
      "38/38 [==============================] - 588s 16s/step - loss: 0.0020 - mean_absolute_error: 0.0039\n",
      "Epoch 9/90\n",
      "38/38 [==============================] - 601s 16s/step - loss: 0.0020 - mean_absolute_error: 0.0039\n",
      "Epoch 10/90\n",
      "38/38 [==============================] - 595s 16s/step - loss: 0.0020 - mean_absolute_error: 0.0038\n",
      "Epoch 11/90\n",
      "38/38 [==============================] - 630s 17s/step - loss: 0.0020 - mean_absolute_error: 0.0038\n",
      "Epoch 12/90\n",
      "38/38 [==============================] - 629s 17s/step - loss: 0.0020 - mean_absolute_error: 0.0038\n",
      "Epoch 13/90\n",
      "38/38 [==============================] - 624s 16s/step - loss: 0.0020 - mean_absolute_error: 0.0038\n",
      "Epoch 14/90\n",
      "38/38 [==============================] - 620s 16s/step - loss: 0.0020 - mean_absolute_error: 0.0038\n",
      "Epoch 15/90\n",
      "38/38 [==============================] - 641s 17s/step - loss: 0.0020 - mean_absolute_error: 0.0038\n",
      "Epoch 16/90\n",
      "38/38 [==============================] - 638s 17s/step - loss: 0.0020 - mean_absolute_error: 0.0038\n",
      "Epoch 17/90\n",
      "38/38 [==============================] - 615s 16s/step - loss: 0.0020 - mean_absolute_error: 0.0038\n",
      "Epoch 18/90\n",
      "38/38 [==============================] - 625s 16s/step - loss: 0.0019 - mean_absolute_error: 0.0038\n",
      "Epoch 19/90\n",
      "38/38 [==============================] - 623s 16s/step - loss: 0.0019 - mean_absolute_error: 0.0038\n",
      "Epoch 20/90\n",
      "38/38 [==============================] - 617s 16s/step - loss: 0.0019 - mean_absolute_error: 0.0038\n",
      "Epoch 21/90\n",
      "38/38 [==============================] - 614s 16s/step - loss: 0.0019 - mean_absolute_error: 0.0038\n",
      "Epoch 22/90\n",
      "38/38 [==============================] - 604s 16s/step - loss: 0.0019 - mean_absolute_error: 0.0038\n",
      "Epoch 23/90\n",
      "38/38 [==============================] - 604s 16s/step - loss: 0.0019 - mean_absolute_error: 0.0038\n",
      "Epoch 24/90\n",
      "38/38 [==============================] - 622s 16s/step - loss: 0.0019 - mean_absolute_error: 0.0038\n",
      "Epoch 25/90\n",
      "38/38 [==============================] - 598s 16s/step - loss: 0.0019 - mean_absolute_error: 0.0038\n",
      "Epoch 26/90\n",
      "38/38 [==============================] - 423s 11s/step - loss: 0.0019 - mean_absolute_error: 0.0038\n",
      "Epoch 27/90\n",
      "38/38 [==============================] - 416s 11s/step - loss: 0.0019 - mean_absolute_error: 0.0038\n",
      "Epoch 28/90\n",
      "38/38 [==============================] - 437s 12s/step - loss: 0.0019 - mean_absolute_error: 0.0038\n",
      "Epoch 29/90\n",
      "38/38 [==============================] - 417s 11s/step - loss: 0.0019 - mean_absolute_error: 0.0038\n",
      "Epoch 30/90\n",
      "38/38 [==============================] - 412s 11s/step - loss: 0.0019 - mean_absolute_error: 0.0038\n",
      "Epoch 31/90\n",
      "38/38 [==============================] - 411s 11s/step - loss: 0.0019 - mean_absolute_error: 0.0038\n",
      "Epoch 32/90\n",
      "38/38 [==============================] - 416s 11s/step - loss: 0.0019 - mean_absolute_error: 0.0038\n",
      "Epoch 33/90\n",
      "38/38 [==============================] - 415s 11s/step - loss: 0.0019 - mean_absolute_error: 0.0038\n",
      "Epoch 34/90\n",
      "38/38 [==============================] - 414s 11s/step - loss: 0.0019 - mean_absolute_error: 0.0038\n",
      "Epoch 35/90\n",
      "38/38 [==============================] - 414s 11s/step - loss: 0.0019 - mean_absolute_error: 0.0038\n",
      "Epoch 36/90\n",
      "38/38 [==============================] - 420s 11s/step - loss: 0.0019 - mean_absolute_error: 0.0038\n",
      "Epoch 37/90\n",
      "38/38 [==============================] - 415s 11s/step - loss: 0.0019 - mean_absolute_error: 0.0038\n",
      "Epoch 38/90\n",
      "38/38 [==============================] - 414s 11s/step - loss: 0.0019 - mean_absolute_error: 0.0038\n",
      "Epoch 39/90\n",
      "38/38 [==============================] - 414s 11s/step - loss: 0.0020 - mean_absolute_error: 0.0039\n",
      "Epoch 40/90\n",
      "38/38 [==============================] - 414s 11s/step - loss: 0.0020 - mean_absolute_error: 0.0039\n",
      "Epoch 41/90\n",
      "38/38 [==============================] - 413s 11s/step - loss: 0.0020 - mean_absolute_error: 0.0039\n",
      "Epoch 42/90\n",
      "38/38 [==============================] - 412s 11s/step - loss: 0.0020 - mean_absolute_error: 0.0039\n",
      "Epoch 43/90\n",
      "38/38 [==============================] - 416s 11s/step - loss: 0.0020 - mean_absolute_error: 0.0039\n",
      "Epoch 44/90\n",
      "38/38 [==============================] - 413s 11s/step - loss: 0.0020 - mean_absolute_error: 0.0039\n",
      "Epoch 45/90\n",
      "38/38 [==============================] - 413s 11s/step - loss: 0.0020 - mean_absolute_error: 0.0039\n",
      "Epoch 46/90\n",
      "38/38 [==============================] - 413s 11s/step - loss: 0.0020 - mean_absolute_error: 0.0039\n",
      "Epoch 47/90\n",
      "38/38 [==============================] - 413s 11s/step - loss: 0.0020 - mean_absolute_error: 0.0039\n",
      "Epoch 48/90\n",
      "38/38 [==============================] - 416s 11s/step - loss: 0.0020 - mean_absolute_error: 0.0039\n",
      "Epoch 49/90\n",
      "38/38 [==============================] - 414s 11s/step - loss: 0.0020 - mean_absolute_error: 0.0039\n",
      "Epoch 50/90\n",
      "38/38 [==============================] - 414s 11s/step - loss: 0.0020 - mean_absolute_error: 0.0039\n",
      "Epoch 51/90\n",
      "38/38 [==============================] - 414s 11s/step - loss: 0.0020 - mean_absolute_error: 0.0039\n",
      "Epoch 52/90\n",
      "38/38 [==============================] - 415s 11s/step - loss: 0.0020 - mean_absolute_error: 0.0038\n",
      "Epoch 53/90\n",
      "38/38 [==============================] - 414s 11s/step - loss: 0.0020 - mean_absolute_error: 0.0038\n",
      "Epoch 54/90\n",
      "38/38 [==============================] - 413s 11s/step - loss: 0.0020 - mean_absolute_error: 0.0038\n",
      "Epoch 55/90\n",
      "38/38 [==============================] - 415s 11s/step - loss: 0.0020 - mean_absolute_error: 0.0038\n",
      "Epoch 56/90\n",
      "38/38 [==============================] - 413s 11s/step - loss: 0.0020 - mean_absolute_error: 0.0038\n",
      "Epoch 57/90\n",
      "38/38 [==============================] - 412s 11s/step - loss: 0.0020 - mean_absolute_error: 0.0038\n",
      "Epoch 58/90\n",
      "38/38 [==============================] - 415s 11s/step - loss: 0.0020 - mean_absolute_error: 0.0038\n",
      "Epoch 59/90\n",
      "38/38 [==============================] - 417s 11s/step - loss: 0.0020 - mean_absolute_error: 0.0038\n",
      "Epoch 60/90\n",
      "38/38 [==============================] - 414s 11s/step - loss: 0.0020 - mean_absolute_error: 0.0038\n",
      "Epoch 61/90\n",
      "38/38 [==============================] - 416s 11s/step - loss: 0.0020 - mean_absolute_error: 0.0038\n",
      "Epoch 62/90\n",
      "38/38 [==============================] - 414s 11s/step - loss: 0.0020 - mean_absolute_error: 0.0038\n",
      "Epoch 63/90\n",
      "38/38 [==============================] - 415s 11s/step - loss: 0.0020 - mean_absolute_error: 0.0038\n",
      "Epoch 64/90\n",
      "38/38 [==============================] - 416s 11s/step - loss: 0.0020 - mean_absolute_error: 0.0038\n",
      "Epoch 65/90\n",
      "38/38 [==============================] - 414s 11s/step - loss: 0.0020 - mean_absolute_error: 0.0038\n",
      "Epoch 66/90\n",
      "38/38 [==============================] - 414s 11s/step - loss: 0.0020 - mean_absolute_error: 0.0038\n",
      "Epoch 67/90\n",
      "38/38 [==============================] - 413s 11s/step - loss: 0.0020 - mean_absolute_error: 0.0038\n",
      "Epoch 68/90\n",
      "38/38 [==============================] - 416s 11s/step - loss: 0.0020 - mean_absolute_error: 0.0038\n",
      "Epoch 69/90\n",
      "38/38 [==============================] - 416s 11s/step - loss: 0.0020 - mean_absolute_error: 0.0038\n",
      "Epoch 70/90\n",
      "38/38 [==============================] - 417s 11s/step - loss: 0.0020 - mean_absolute_error: 0.0038\n",
      "Epoch 71/90\n",
      "38/38 [==============================] - 417s 11s/step - loss: 0.0020 - mean_absolute_error: 0.0038\n",
      "Epoch 72/90\n",
      "38/38 [==============================] - 414s 11s/step - loss: 0.0020 - mean_absolute_error: 0.0038\n",
      "Epoch 73/90\n",
      "38/38 [==============================] - 414s 11s/step - loss: 0.0020 - mean_absolute_error: 0.0038\n",
      "Epoch 74/90\n",
      "38/38 [==============================] - 415s 11s/step - loss: 0.0020 - mean_absolute_error: 0.0038\n",
      "Epoch 75/90\n",
      "38/38 [==============================] - 414s 11s/step - loss: 0.0020 - mean_absolute_error: 0.0038\n",
      "Epoch 76/90\n",
      "38/38 [==============================] - 415s 11s/step - loss: 0.0020 - mean_absolute_error: 0.0038\n",
      "Epoch 77/90\n",
      "38/38 [==============================] - 416s 11s/step - loss: 0.0020 - mean_absolute_error: 0.0038\n",
      "Epoch 78/90\n",
      "38/38 [==============================] - 415s 11s/step - loss: 0.0020 - mean_absolute_error: 0.0039\n",
      "Epoch 79/90\n",
      "38/38 [==============================] - 416s 11s/step - loss: 0.0020 - mean_absolute_error: 0.0039\n",
      "Epoch 80/90\n",
      "38/38 [==============================] - 418s 11s/step - loss: 0.0020 - mean_absolute_error: 0.0039\n",
      "Epoch 81/90\n",
      "38/38 [==============================] - 416s 11s/step - loss: 0.0020 - mean_absolute_error: 0.0039\n",
      "Epoch 82/90\n",
      "38/38 [==============================] - 418s 11s/step - loss: 0.0020 - mean_absolute_error: 0.0039\n",
      "Epoch 83/90\n",
      "38/38 [==============================] - 417s 11s/step - loss: 0.0020 - mean_absolute_error: 0.0039\n",
      "Epoch 84/90\n",
      "38/38 [==============================] - 414s 11s/step - loss: 0.0020 - mean_absolute_error: 0.0039\n",
      "Epoch 85/90\n",
      "38/38 [==============================] - 415s 11s/step - loss: 0.0020 - mean_absolute_error: 0.0039\n",
      "Epoch 86/90\n",
      "38/38 [==============================] - 415s 11s/step - loss: 0.0020 - mean_absolute_error: 0.0039\n",
      "Epoch 87/90\n",
      "38/38 [==============================] - 415s 11s/step - loss: 0.0020 - mean_absolute_error: 0.0039\n",
      "Epoch 88/90\n",
      "38/38 [==============================] - 417s 11s/step - loss: 0.0020 - mean_absolute_error: 0.0038\n",
      "Epoch 89/90\n",
      "38/38 [==============================] - 419s 11s/step - loss: 0.0020 - mean_absolute_error: 0.0038\n",
      "Epoch 90/90\n",
      "38/38 [==============================] - 416s 11s/step - loss: 0.0020 - mean_absolute_error: 0.0038\n"
     ]
    }
   ],
   "source": [
    "# Treinando a rede neural\n",
    "history=Network.fit(\n",
    "            train_x                           , # Dados de treino\n",
    "            train_y                           , # Dados de treino\n",
    "#            validation_data = (test_x, test_y), # Dados de validação\n",
    "            batch_size      = 4            , # Tamanho do batch\n",
    "            epochs          = 90            , # Número de epochs\n",
    "#            steps_per_epoch = 90             , # Número de batchs por epoch\n",
    "            shuffle         = True              # Aleatorização dos batchs\n",
    "        )\n",
    "\n",
    "# Batch: pacote de dados utilizados antes de uma atualização dos pesos da rede\n",
    "# Epoch: rodada de treino da rede neural, em geral percorre todo o conjunto de dados"
   ]
  },
  {
   "cell_type": "code",
   "execution_count": 23,
   "id": "1f1a387d",
   "metadata": {},
   "outputs": [
    {
     "name": "stdout",
     "output_type": "stream",
     "text": [
      "[[0. 0. 0. ... 0. 0. 0.]\n",
      " [0. 0. 0. ... 0. 0. 0.]\n",
      " [0. 0. 0. ... 0. 0. 0.]\n",
      " ...\n",
      " [0. 0. 0. ... 0. 0. 0.]\n",
      " [0. 0. 0. ... 0. 0. 0.]\n",
      "[[0.004 0.004 0.004 ... 0.004 0.004 0.004]\n",
      " [0.004 0.004 0.004 ... 0.004 0.004 0.004]\n",
      " [0.004 0.004 0.004 ... 0.004 0.004 0.004]\n",
      " ...\n",
      " [0.004 0.004 0.004 ... 0.004 0.004 0.004]\n",
      " [0.004 0.004 0.004 ... 0.004 0.004 0.004]\n",
      "[[0.004 0.004 0.004 ... 0.004 0.004 0.004]]\n",
      " [0.004 0.004 0.004 ... 0.004 0.004 0.004]\n",
      " [0.004 0.004 0.004 ... 0.004 0.004 0.004]\n",
      " ...\n",
      " [0.004 0.004 0.004 ... 0.004 0.004 0.004]\n",
      " [0.004 0.004 0.004 ... 0.004 0.004 0.004]\n",
      "0.0019759249484692766.. 0.004 0.004 0.004]]\n",
      "0.0038458524543932794\n"
     ]
    }
   ],
   "source": [
    "print(np.mean(np.abs(WENO_Z_ref(data_x[:,:10],Δx)-train_y)))\n",
    "print(np.mean(np.abs(Network(train_x,Δx)-train_y)))"
   ]
  },
  {
   "cell_type": "code",
   "execution_count": 25,
   "id": "76c9b543",
   "metadata": {},
   "outputs": [
    {
     "data": {
      "text/plain": [
       "(150, 10, 128)"
      ]
     },
     "execution_count": 25,
     "metadata": {},
     "output_type": "execute_result"
    }
   ],
   "source": [
    "train_y.shape"
   ]
  },
  {
   "cell_type": "code",
   "execution_count": 24,
   "id": "7c928583",
   "metadata": {},
   "outputs": [
    {
     "name": "stdout",
     "output_type": "stream",
     "text": [
      "[[0. 0. 0. ... 0. 0. 0.]\n",
      " [0. 0. 0. ... 0. 0. 0.]\n",
      " [0. 0. 0. ... 0. 0. 0.]\n",
      " ...\n",
      " [0. 0. 0. ... 0. 0. 0.]\n",
      " [0. 0. 0. ... 0. 0. 0.]\n",
      "[[0.004 0.004 0.004 ... 0.004 0.004 0.004]\n",
      " [0.004 0.004 0.004 ... 0.004 0.004 0.004]\n",
      " [0.004 0.004 0.004 ... 0.004 0.004 0.004]\n",
      " ...\n",
      " [0.004 0.004 0.004 ... 0.004 0.004 0.004]\n",
      " [0.004 0.004 0.004 ... 0.004 0.004 0.004]\n",
      "[[0.004 0.004 0.004 ... 0.004 0.004 0.004]]\n",
      " [0.004 0.004 0.004 ... 0.004 0.004 0.004]\n",
      " [0.004 0.004 0.004 ... 0.004 0.004 0.004]\n",
      " ...\n",
      " [0.004 0.004 0.004 ... 0.004 0.004 0.004]\n",
      " [0.004 0.004 0.004 ... 0.004 0.004 0.004]\n",
      " [0.004 0.004 0.004 ... 0.004 0.004 0.004]]\r"
     ]
    },
    {
     "data": {
      "text/plain": [
       "(150, 10, 128)"
      ]
     },
     "execution_count": 24,
     "metadata": {},
     "output_type": "execute_result"
    }
   ],
   "source": [
    "WENO_Z_ref(data_x[:,:10],Δx).shape"
   ]
  },
  {
   "cell_type": "code",
   "execution_count": 26,
   "id": "271f3e21",
   "metadata": {},
   "outputs": [
    {
     "data": {
      "text/plain": [
       "[<matplotlib.lines.Line2D at 0x1acd3691d90>]"
      ]
     },
     "execution_count": 26,
     "metadata": {},
     "output_type": "execute_result"
    },
    {
     "data": {
      "image/png": "[encoded data removed]",
      "text/plain": [
       "<Figure size 432x288 with 1 Axes>"
      ]
     },
     "metadata": {
      "needs_background": "light"
     },
     "output_type": "display_data"
    }
   ],
   "source": [
    "plt.plot(history.history['loss'])"
   ]
  },
  {
   "cell_type": "code",
   "execution_count": 42,
   "id": "f20e95ca",
   "metadata": {},
   "outputs": [],
   "source": [
    "# Salvando os pesos treinados\n",
    "save=input('Deseja salvar a rede?(Y/N)')\n",
    "if save=='Y':\n",
    "    save_model(Network,'Modelos treinados/Modelo Rede temporal sequencial 1')"
   ]
  },
  {
   "cell_type": "code",
   "execution_count": 41,
   "id": "0b1c9519",
   "metadata": {},
   "outputs": [],
   "source": [
    "import os\n",
    "def save_model(Network,path):\n",
    "    if not(os.path.isdir(path+'/')):\n",
    "        os.mkdir(path+'/')\n",
    "    with open(path+'/config.cfg','wb') as file:\n",
    "        dill.dump(Network.layers[min([i for i,layer in enumerate(Network.layers) if layer.name=='WENO_layer'])].config,file)\n",
    "    Network.save_weights(path+'/network.h5')"
   ]
  },
  {
   "cell_type": "code",
   "execution_count": null,
   "id": "3cfebda1",
   "metadata": {},
   "outputs": [],
   "source": [
    "# Carregando os pesos treinados\n",
    "Network.load_weights('Modelos treinados\\\\Modelo Rede temporal - 5.h5')"
   ]
  },
  {
   "cell_type": "code",
   "execution_count": 27,
   "id": "097cfc26",
   "metadata": {},
   "outputs": [
    {
     "data": {
      "text/plain": [
       "[<matplotlib.lines.Line2D at 0x1acc433f670>]"
      ]
     },
     "execution_count": 27,
     "metadata": {},
     "output_type": "execute_result"
    },
    {
     "data": {
      "image/png": "[encoded data removed]",
      "text/plain": [
       "<Figure size 432x288 with 1 Axes>"
      ]
     },
     "metadata": {
      "needs_background": "light"
     },
     "output_type": "display_data"
    }
   ],
   "source": [
    "f_test = lambda x: np.sin(2*pi*x) #np.exp(-0.05*(x**2))\n",
    "plt.plot(f_test(tf.range(-1, 1, Δx, dtype=float_pres)))"
   ]
  },
  {
   "cell_type": "code",
   "execution_count": 28,
   "id": "c6530a5e",
   "metadata": {},
   "outputs": [
    {
     "data": {
      "text/plain": [
       "0.09801714032956076"
      ]
     },
     "execution_count": 28,
     "metadata": {},
     "output_type": "execute_result"
    }
   ],
   "source": [
    "f_test(tf.range(-1, 1, Δx, dtype=float_pres))[0]-f_test(tf.range(-1, 1, Δx, dtype=float_pres))[-1]"
   ]
  },
  {
   "cell_type": "code",
   "execution_count": null,
   "id": "03849006",
   "metadata": {},
   "outputs": [
    {
     "data": {
      "text/plain": [
       "1e-09"
      ]
     },
     "execution_count": 41,
     "metadata": {},
     "output_type": "execute_result"
    }
   ],
   "source": [
    "0.001**3"
   ]
  },
  {
   "cell_type": "markdown",
   "id": "4eb46a19",
   "metadata": {},
   "source": [
    "(20/100)**5"
   ]
  },
  {
   "cell_type": "code",
   "execution_count": null,
   "id": "dd13e39f",
   "metadata": {},
   "outputs": [],
   "source": [
    "Δt=0.001\n",
    "Δt=0.4/1000\n",
    "Δt=10**-4\n",
    "\n",
    "equation=equation\n",
    "equation=transp_equation\n",
    "\n",
    "def loop_wrapper(func):\n",
    "    def loop_func(u0,Δx):\n",
    "        u=u0+0\n",
    "        #for i in range(int(1/Δt)):\n",
    "        for i in range(int(5/(9*Δt))):\n",
    "            u=func(u,Δx)\n",
    "        return u\n",
    "    return loop_func\n",
    "\n",
    "WENO_Z_ref_sim=simulation(API_Numpy,equation,WENO_Z)\n",
    "WENO_Z_ref=loop_wrapper(lambda u0, Δx:WENO_Z_ref_sim.Sim_step(u0,Δt, Δx, FronteiraPeriodica))\n",
    "WENO_JS_ref_sim=simulation(API_Numpy,equation,WENO_JS)\n",
    "WENO_JS_ref=loop_wrapper(lambda u0, Δx:WENO_JS_ref_sim.Sim_step(u0,Δt, Δx, FronteiraPeriodica))\n",
    "# Criando uma camada de Burgers que integra o WENO à rede neural\n",
    "Sim_layer = WENO_temporal(Δx, CFL, Δt, FronteiraPeriodica,equation,WENO_Z,regul_weight=0)\n",
    "WENO_network=loop_wrapper(tf.function(lambda u0, Δx:Sim_layer.Sim_step(u0,Δt, Δx, FronteiraPeriodica)))"
   ]
  },
  {
   "cell_type": "code",
   "execution_count": null,
   "id": "c30123b5",
   "metadata": {},
   "outputs": [],
   "source": [
    "# Definindo o input da rede e o otimizador de treino\n",
    "input_x   = keras.layers.Input([train_x.shape[1],train_x.shape[2]], dtype='float64')\n",
    "optimizer = keras.optimizers.Adam(learning_rate=0.001, beta_1=0.9, beta_2=0.999, clipnorm=1.0)\n",
    "\n",
    "ouput_x=input_x\n",
    "# ouput_list=[]\n",
    "# for i in range(train_y.shape[1]):\n",
    "#     ouput_x=Sim_layer(ouput_x)\n",
    "#     ouput_list.append(ouput_x+0)\n",
    "# final_x=tf.stack(ouput_list,axis=1)\n",
    "\n",
    "timely_layer=keras.layers.TimeDistributed(Sim_layer)\n",
    "final_x=timely_layer(ouput_x)\n",
    "\n",
    "# Criando a rede neural\n",
    "Network = keras.Model(input_x, final_x)\n",
    "# Configurando a função de perda e o otimizador\n",
    "\n",
    "Network.compile(loss='MSE', optimizer=optimizer, metrics=['mean_absolute_error'])"
   ]
  },
  {
   "cell_type": "code",
   "execution_count": null,
   "id": "3cfebda1",
   "metadata": {},
   "outputs": [],
   "source": [
    "# Carregando os pesos treinados\n",
    "Network.load_weights('Modelos treinados\\\\Modelo Rede temporal - 5.h5')"
   ]
  },
  {
   "cell_type": "code",
   "execution_count": null,
   "id": "1631dfcb",
   "metadata": {},
   "outputs": [],
   "source": [
    "#np.random.seed(seed=13031998)\n",
    "n=1\n",
    "\n",
    "z1=np.random.uniform(size=[n,1],low=1,high=2)\n",
    "z2=np.random.uniform(size=[n,1],low=10,high=30)\n",
    "z3=np.random.uniform(size=[n,1],low=1,high=2)"
   ]
  },
  {
   "cell_type": "code",
   "execution_count": null,
   "id": "3e8a3cd6",
   "metadata": {},
   "outputs": [],
   "source": [
    "def f_test(x):\n",
    "    x_ref=x+1\n",
    "    #f1=np.where(x_ref<1,z1,0) \n",
    "    f2=-np.exp(-z2*((x_ref-1)**2))\n",
    "    #f3=z3*np.sin(np.pi*x_ref) \n",
    "\n",
    "    y=np.concatenate([f2],axis=0)\n",
    "    return y"
   ]
  },
  {
   "cell_type": "code",
   "execution_count": null,
   "id": "46bfabf3",
   "metadata": {},
   "outputs": [
    {
     "name": "stdout",
     "output_type": "stream",
     "text": [
      "100\r"
     ]
    }
   ],
   "source": [
    "# Calculando os erros de previsão utilizando o WENO-Z em uma malha mais fina \n",
    "# como solução de referência e depois calculando o WENO-Z e o WENO-Z com a \n",
    "# modificação da rede neural numa malha mais grossa\n",
    "sizes=np.arange(30,100+1,10)\n",
    "error1=[]\n",
    "error2=[]\n",
    "error3=[]\n",
    "k=10\n",
    "for i in sizes:\n",
    "    print(i,end='\\r')\n",
    "    Δx_ref = 2/i\n",
    "    Δx = Δx_ref                                # Distância espacial dos pontos na malha mais grossa utilizada\n",
    "    x  = tf.range(-1, 1, Δx, dtype=float_pres) # Gerando a malha de pontos no espaço unidimensional\n",
    "    full_U=tf.expand_dims(f_test(x),axis=0)\n",
    "\n",
    "    net_u   = WENO_network(full_U,Δx)\n",
    "    comp_u   = WENO_Z_ref(full_U,Δx)\n",
    "    JS_u   = WENO_JS_ref(full_U,Δx)\n",
    "\n",
    "    Δx = Δx_ref/k                                # Distância espacial dos pontos na malha mais grossa utilizada\n",
    "    x  = tf.range(-1, 1, Δx, dtype=float_pres) # Gerando a malha de pontos no espaço unidimensional\n",
    "    full_U=tf.expand_dims(f_test(x),axis=0)\n",
    "\n",
    "    ref_u   = WENO_Z_ref(full_U,Δx)\n",
    "    ref_u   = tf.gather(ref_u,np.arange(net_u.shape[-1])*k,axis=-1) \n",
    "\n",
    "    error1.append(np.sum(np.abs(net_u-ref_u)))\n",
    "    error2.append(np.sum(np.abs(comp_u-ref_u)))\n",
    "    error3.append(np.sum(np.abs(JS_u-ref_u)))\n",
    "error1=np.asarray(error1)\n",
    "error2=np.asarray(error2)\n",
    "error3=np.asarray(error3)"
   ]
  },
  {
   "cell_type": "code",
   "execution_count": null,
   "id": "cd692df3",
   "metadata": {},
   "outputs": [
    {
     "ename": "NameError",
     "evalue": "name 'Sim_step_Z' is not defined",
     "output_type": "error",
     "traceback": [
      "\u001b[1;31m---------------------------------------------------------------------------\u001b[0m",
      "\u001b[1;31mNameError\u001b[0m                                 Traceback (most recent call last)",
      "\u001b[1;32m<ipython-input-16-0dd34a89f12b>\u001b[0m in \u001b[0;36m<module>\u001b[1;34m\u001b[0m\n\u001b[1;32m----> 1\u001b[1;33m \u001b[0merro1\u001b[0m\u001b[1;33m=\u001b[0m\u001b[0mnp\u001b[0m\u001b[1;33m.\u001b[0m\u001b[0mmean\u001b[0m\u001b[1;33m(\u001b[0m\u001b[0mnp\u001b[0m\u001b[1;33m.\u001b[0m\u001b[0mabs\u001b[0m\u001b[1;33m(\u001b[0m\u001b[0mSim_step_Z\u001b[0m\u001b[1;33m(\u001b[0m\u001b[0mtrain_x\u001b[0m\u001b[1;33m,\u001b[0m\u001b[1;36m0.4\u001b[0m\u001b[1;33m/\u001b[0m\u001b[1;36m100\u001b[0m\u001b[1;33m,\u001b[0m\u001b[1;36m2\u001b[0m\u001b[1;33m/\u001b[0m\u001b[1;36m128\u001b[0m\u001b[1;33m,\u001b[0m\u001b[0mFronteiraPeriodica\u001b[0m\u001b[1;33m)\u001b[0m\u001b[1;33m-\u001b[0m\u001b[0mtrain_y\u001b[0m\u001b[1;33m)\u001b[0m\u001b[1;33m)\u001b[0m\u001b[1;33m\u001b[0m\u001b[1;33m\u001b[0m\u001b[0m\n\u001b[0m\u001b[0;32m      2\u001b[0m \u001b[0merro2\u001b[0m\u001b[1;33m=\u001b[0m\u001b[0mnp\u001b[0m\u001b[1;33m.\u001b[0m\u001b[0mmean\u001b[0m\u001b[1;33m(\u001b[0m\u001b[0mnp\u001b[0m\u001b[1;33m.\u001b[0m\u001b[0mabs\u001b[0m\u001b[1;33m(\u001b[0m\u001b[0mSim_layer\u001b[0m\u001b[1;33m.\u001b[0m\u001b[0mSim_step\u001b[0m\u001b[1;33m(\u001b[0m\u001b[0mtrain_x\u001b[0m\u001b[1;33m,\u001b[0m\u001b[1;36m0.4\u001b[0m\u001b[1;33m/\u001b[0m\u001b[1;36m100\u001b[0m\u001b[1;33m,\u001b[0m\u001b[1;36m2\u001b[0m\u001b[1;33m/\u001b[0m\u001b[1;36m128\u001b[0m\u001b[1;33m,\u001b[0m\u001b[0mFronteiraPeriodica\u001b[0m\u001b[1;33m)\u001b[0m\u001b[1;33m-\u001b[0m\u001b[0mtrain_y\u001b[0m\u001b[1;33m)\u001b[0m\u001b[1;33m)\u001b[0m\u001b[1;33m\u001b[0m\u001b[1;33m\u001b[0m\u001b[0m\n\u001b[0;32m      3\u001b[0m \u001b[1;33m\u001b[0m\u001b[0m\n\u001b[0;32m      4\u001b[0m \u001b[0mprint\u001b[0m\u001b[1;33m(\u001b[0m\u001b[0merro1\u001b[0m\u001b[1;33m)\u001b[0m\u001b[1;33m\u001b[0m\u001b[1;33m\u001b[0m\u001b[0m\n\u001b[0;32m      5\u001b[0m \u001b[0mprint\u001b[0m\u001b[1;33m(\u001b[0m\u001b[0merro2\u001b[0m\u001b[1;33m)\u001b[0m\u001b[1;33m\u001b[0m\u001b[1;33m\u001b[0m\u001b[0m\n",
      "\u001b[1;31mNameError\u001b[0m: name 'Sim_step_Z' is not defined"
     ]
    }
   ],
   "source": [
    "erro1=np.mean(np.abs(Sim_step_Z(train_x,0.4/100,2/128,FronteiraPeriodica)-train_y))\n",
    "erro2=np.mean(np.abs(Sim_layer.Sim_step(train_x,0.4/100,2/128,FronteiraPeriodica)-train_y))\n",
    "\n",
    "print(erro1)\n",
    "print(erro2)"
   ]
  },
  {
   "cell_type": "code",
   "execution_count": null,
   "id": "3310919a",
   "metadata": {},
   "outputs": [
    {
     "data": {
      "text/plain": [
       "array([0., 0., 0., ..., 0., 0., 0.])"
      ]
     },
     "execution_count": 32,
     "metadata": {},
     "output_type": "execute_result"
    }
   ],
   "source": [
    "f_test(x)-f_test(x)"
   ]
  },
  {
   "cell_type": "code",
   "execution_count": null,
   "id": "535d2a9a",
   "metadata": {},
   "outputs": [
    {
     "data": {
      "text/plain": [
       "<tf.Tensor: shape=(40,), dtype=float64, numpy=\n",
       "array([ 0.00000000e+00,  0.00000000e+00,  0.00000000e+00,  0.00000000e+00,\n",
       "        0.00000000e+00,  0.00000000e+00,  0.00000000e+00,  0.00000000e+00,\n",
       "        0.00000000e+00,  0.00000000e+00, -4.44089210e-16, -8.88178420e-16,\n",
       "       -1.11022302e-15, -7.77156117e-16, -5.55111512e-16,  0.00000000e+00,\n",
       "        7.77156117e-16,  1.66533454e-15,  2.44249065e-15,  2.99760217e-15,\n",
       "        3.14998124e-15,  2.94209102e-15,  2.66453526e-15,  1.99840144e-15,\n",
       "        1.11022302e-15,  0.00000000e+00, -1.33226763e-15, -2.88657986e-15,\n",
       "       -3.99680289e-15, -5.05151476e-15, -4.88498131e-15, -4.66293670e-15,\n",
       "       -3.99680289e-15, -3.10862447e-15, -1.33226763e-15,  0.00000000e+00,\n",
       "        1.66533454e-15,  2.55351296e-15,  3.55271368e-15,  5.05151476e-15])>"
      ]
     },
     "execution_count": 39,
     "metadata": {},
     "output_type": "execute_result"
    }
   ],
   "source": [
    "Δx=0.05\n",
    "x  = tf.range(-1, 1, Δx, dtype=float_pres)\n",
    "u1=f_test(x)\n",
    "x  = tf.range(-1, 1, Δx/k, dtype=float_pres)\n",
    "u2=f_test(x)\n",
    "u2=tf.gather(u2,np.arange(u1.shape[-1])*k,axis=-1) \n",
    "u2-u1\n"
   ]
  },
  {
   "cell_type": "code",
   "execution_count": null,
   "id": "d60d894c",
   "metadata": {},
   "outputs": [
    {
     "data": {
      "image/png": "[encoded data removed]",
      "text/plain": [
       "<Figure size 460.8x460.8 with 1 Axes>"
      ]
     },
     "metadata": {
      "needs_background": "light"
     },
     "output_type": "display_data"
    }
   ],
   "source": [
    "#plt.plot(net_u[0,0])\n",
    "plt.figure(figsize=(6.4,6.4))\n",
    "plt.plot(ref_u[0,0])\n",
    "plt.savefig('imagens/ordem conv ds funcao.png')"
   ]
  },
  {
   "cell_type": "code",
   "execution_count": null,
   "id": "e09cb202",
   "metadata": {},
   "outputs": [
    {
     "data": {
      "text/plain": [
       "[<matplotlib.lines.Line2D at 0x128b10e9550>]"
      ]
     },
     "execution_count": 48,
     "metadata": {},
     "output_type": "execute_result"
    },
    {
     "data": {
      "image/png": "[encoded data removed]",
      "text/plain": [
       "<Figure size 432x288 with 1 Axes>"
      ]
     },
     "metadata": {
      "needs_background": "light"
     },
     "output_type": "display_data"
    }
   ],
   "source": [
    "plt.plot(sizes,error1)\n",
    "plt.plot(sizes,error2)"
   ]
  },
  {
   "cell_type": "code",
   "execution_count": null,
   "id": "2fec605c",
   "metadata": {},
   "outputs": [
    {
     "data": {
      "text/plain": [
       "<matplotlib.legend.Legend at 0x128b113eb50>"
      ]
     },
     "execution_count": 49,
     "metadata": {},
     "output_type": "execute_result"
    },
    {
     "data": {
      "image/png": "[encoded data removed]",
      "text/plain": [
       "<Figure size 460.8x460.8 with 1 Axes>"
      ]
     },
     "metadata": {
      "needs_background": "light"
     },
     "output_type": "display_data"
    }
   ],
   "source": [
    "plt.figure(figsize=(6.4,6.4))\n",
    "\n",
    "plt.plot(np.log(sizes),np.log(error1),label='Rede')\n",
    "plt.plot(np.log(sizes),np.log(error2),label='WENO-Z')\n",
    "#plt.plot(np.log(sizes),np.log(error3),label='WENO-JS')\n",
    "plt.plot(np.log(sizes),-5*(np.log(sizes)-np.mean(np.log(sizes)))+np.mean(np.log(error2)),label='Ordem 5')\n",
    "plt.plot(np.log(sizes),-3*(np.log(sizes)-np.mean(np.log(sizes)))+np.mean(np.log(error2)),label='Ordem 3')\n",
    "plt.legend()\n",
    "\n",
    "#plt.savefig('imagens/ordem conv ds.png')"
   ]
  },
  {
   "cell_type": "code",
   "execution_count": null,
   "id": "6bc578b4",
   "metadata": {},
   "outputs": [],
   "source": [
    "Sim, Sim_step, DerivadaEspacial, Get_weights=create_simulation(API_Numpy,equation,WENO_Z)\n",
    "WENO_Z_ref=lambda u0, Δx:DerivadaEspacial(u0,Δx, FronteiraFixa)"
   ]
  },
  {
   "cell_type": "code",
   "execution_count": null,
   "id": "135caa4d",
   "metadata": {},
   "outputs": [],
   "source": [
    "Δx_ref = 0.01\n",
    "\n",
    "def f(x):\n",
    "    return np.sin(np.pi*x)\n",
    "\n",
    "def df(x):\n",
    "    return np.pi*np.cos(np.pi*x)\n"
   ]
  },
  {
   "cell_type": "code",
   "execution_count": null,
   "id": "09fb5eb2",
   "metadata": {},
   "outputs": [
    {
     "name": "stdout",
     "output_type": "stream",
     "text": [
      "(1, 200)\n"
     ]
    }
   ],
   "source": [
    "Δx1 = Δx_ref\n",
    "x1  = np.arange(-1, 1, Δx1)\n",
    "x1  = np.expand_dims(x1,0)\n",
    "u1  = f(x1)\n",
    "du1 = df(x1)\n",
    "y1=WENO_network(u1, Δx1)\n",
    "\n",
    "print(u1.shape)"
   ]
  },
  {
   "cell_type": "code",
   "execution_count": null,
   "id": "64759e25",
   "metadata": {},
   "outputs": [
    {
     "name": "stdout",
     "output_type": "stream",
     "text": [
      "(1, 400)\n"
     ]
    }
   ],
   "source": [
    "Δx2 = Δx_ref/2\n",
    "x2  = np.arange(-1, 1, Δx2)\n",
    "x2  = np.expand_dims(x2,0)\n",
    "u2  = f(x2)\n",
    "du2 = df(x2)\n",
    "y2=WENO_network(u2, Δx2)\n",
    "\n",
    "print(u2.shape)"
   ]
  },
  {
   "cell_type": "code",
   "execution_count": null,
   "id": "e28840fe",
   "metadata": {},
   "outputs": [
    {
     "name": "stdout",
     "output_type": "stream",
     "text": [
      "0.49998867338114705\n"
     ]
    }
   ],
   "source": [
    "# Gerando os gráficos a partir de funções do matplotlib\n",
    "\n",
    "print(np.sum(abs(y1 - du1))/np.sum(abs(y2 - du2)))"
   ]
  },
  {
   "cell_type": "code",
   "execution_count": null,
   "id": "25d9ddea",
   "metadata": {},
   "outputs": [],
   "source": []
  }
 ],
 "metadata": {
  "kernelspec": {
   "display_name": "Python 3",
   "language": "python",
   "name": "python3"
  },
  "language_info": {
   "codemirror_mode": {
    "name": "ipython",
    "version": 3
   },
   "file_extension": ".py",
   "mimetype": "text/x-python",
   "name": "python",
   "nbconvert_exporter": "python",
   "pygments_lexer": "ipython3",
   "version": "3.8.10"
  },
  "widgets": {
   "application/vnd.jupyter.widget-state+json": {
    "state": {},
    "version_major": 2,
    "version_minor": 0
   }
  }
 },
 "nbformat": 4,
 "nbformat_minor": 5
}
