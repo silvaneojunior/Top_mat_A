{
 "cells": [
  {
   "cell_type": "code",
   "execution_count": 1,
   "metadata": {},
   "outputs": [],
   "source": [
    "from aux_train import *\n",
    "from aux_plot import *\n",
    "from IPython.display import clear_output"
   ]
  },
  {
   "cell_type": "code",
   "execution_count": 2,
   "metadata": {},
   "outputs": [],
   "source": [
    "import wandb\n",
    "from wandb.keras import WandbCallback"
   ]
  },
  {
   "cell_type": "code",
   "execution_count": 3,
   "metadata": {},
   "outputs": [
    {
     "name": "stderr",
     "output_type": "stream",
     "text": [
      "Failed to detect the name of this notebook, you can set it manually with the WANDB_NOTEBOOK_NAME environment variable to enable code saving.\n"
     ]
    },
    {
     "name": "stdout",
     "output_type": "stream",
     "text": [
      "Create sweep with ID: hfp7oaid\n",
      "Sweep URL: https://wandb.ai/silvaneojunior/WENO-DS/sweeps/hfp7oaid\n"
     ]
    }
   ],
   "source": [
    "# config = wandb.config\n",
    "# config.equation='tranp_equation'\n",
    "# config.WENO='WENO-Z-DS'\n",
    "\n",
    "# config.poly_grade=7\n",
    "# config.seno_ampli=3 \n",
    "# config.gauss_var=3\n",
    "# config.seizures=3\n",
    "\n",
    "sweep_config = {\n",
    "    'method': 'bayes',\n",
    "    'metric': {\n",
    "      'name': 'validation_error',\n",
    "      'goal': 'minimize'   \n",
    "    },\n",
    "    'parameters': {\n",
    "        'poly_grade': {\n",
    "            'values': list(range(8))\n",
    "        },\n",
    "        'seno_ampli': {\n",
    "            'values': list(range(4))\n",
    "        },\n",
    "        'gauss_var': {\n",
    "            'values': list(range(4))\n",
    "\n",
    "        },\n",
    "        'seizures': {\n",
    "            'values': list(range(4))\n",
    "        }\n",
    "    }\n",
    "}\n",
    "\n",
    "sweep_id = wandb.sweep(sweep_config, project='WENO-DS', entity='silvaneojunior')\n",
    "#sweep_id = 'silvaneojunior/LSTM Poemas/iuazw8n3'"
   ]
  },
  {
   "cell_type": "code",
   "execution_count": 4,
   "metadata": {},
   "outputs": [],
   "source": [
    "default_equation='transp_equation'\n",
    "default_WENO='WENO-Z-DS'\n",
    "\n",
    "default_poly_grade=7\n",
    "default_seno_ampli=3 \n",
    "default_gauss_var=3\n",
    "default_seizures=3"
   ]
  },
  {
   "cell_type": "code",
   "execution_count": 5,
   "metadata": {},
   "outputs": [],
   "source": [
    "def f_test(x):\n",
    "    z = tf.constant(-0.7, dtype=float_pres)\n",
    "    δ = tf.constant(0.005, dtype=float_pres)\n",
    "    β = tf.math.log(tf.constant(2.0, dtype=float_pres))/(36.0*(δ**2.0))\n",
    "    a = tf.constant(0.5, dtype=float_pres)\n",
    "    α = tf.constant(10, dtype=float_pres)\n",
    "    \n",
    "    def G(x, β, z):\n",
    "        return tf.math.exp(-β*(x-z)**2)\n",
    "    \n",
    "    def F(x, α, a):\n",
    "        return tf.math.sqrt(tf.math.maximum(1-(α**2)*((x-a)**2),0))\n",
    "    \n",
    "    f1 = (G(x, β, z-δ) + 4*G(x, β, z) + G(x, β, z+δ))/6 # x in [-0.8, -0.6]\n",
    "    f2 = 1                                              # x in [-0.4, -0.2]\n",
    "    f3 = 1-tf.math.abs(10*(x-0.1))                      # x in [ 0.0,  0.2]\n",
    "    f4 = (F(x, α, a-δ) + 4*F(x, α, a) + F(x, α, a+δ))/6 # x in [ 0.4,  0.6]\n",
    "    f5 = 0                                              # otherwise\n",
    "    \n",
    "    condition = tf.math.logical_and(\n",
    "        tf.math.greater_equal(x, -0.8),\n",
    "        tf.math.less_equal(x, -0.6)\n",
    "    )\n",
    "    f1 = f1*tf.cast(tf.where(condition, 1.0, 0.0), dtype=float_pres)\n",
    "    \n",
    "    condition = tf.math.logical_and(\n",
    "        tf.math.greater_equal(x, -0.4),\n",
    "        tf.math.less_equal(x, -0.2)\n",
    "    )\n",
    "    f2 = f2*tf.cast(tf.where(condition, 1.0, 0.0), dtype=float_pres)\n",
    "    \n",
    "    condition = tf.math.logical_and(\n",
    "        tf.math.greater_equal(x, 0.0),\n",
    "        tf.math.less_equal(x, 0.2)\n",
    "    )\n",
    "    f3 = f3*tf.cast(tf.where(condition, 1.0, 0.0), dtype=float_pres)\n",
    "    \n",
    "    condition = tf.math.logical_and(\n",
    "        tf.math.greater_equal(x, 0.4),\n",
    "        tf.math.less_equal(x, 0.6)\n",
    "    )\n",
    "    f4 = f4*tf.cast(tf.where(condition, 1.0, 0.0), dtype=float_pres)\n",
    "    \n",
    "    f = f1 + f2 + f3 + f4 + f5\n",
    "    \n",
    "    return f\n",
    "\n",
    "x,fx=create_f_points(f_test=f_test,Δx=0.01)"
   ]
  },
  {
   "cell_type": "code",
   "execution_count": 6,
   "metadata": {},
   "outputs": [
    {
     "name": "stdout",
     "output_type": "stream",
     "text": [
      "'Δx': 0.015625\n",
      "'Δt': 0.004\n",
      "'CFL': 0.5\n",
      "'fronteira': <function FronteiraPeriodica at 0x0000015D86B7F550>\n",
      "'equation': <class 'aux_equation.transp_equation'>\n",
      "'seed': None\n",
      "\n"
     ]
    }
   ],
   "source": [
    "data_temporal,data_spatial,data_base,Δx,Δt,CFL,fronteira,equation=load_dataset(f'datasets/equation={default_equation} polys grau={default_poly_grade} seno_ampli={default_seno_ampli} gauss_var={default_gauss_var} seizure={default_seizures}')\n",
    "\n",
    "indice = np.arange(data_temporal.shape[0])\n",
    "np.random.shuffle(indice)\n",
    "data_x = data_temporal.astype('float64')[indice]\n",
    "data_y = data_temporal.astype('float64')[indice]\n",
    "\n",
    "train_x = data_x[:,0:-1]\n",
    "train_y = data_y[:,1:]"
   ]
  },
  {
   "cell_type": "code",
   "execution_count": 7,
   "metadata": {},
   "outputs": [],
   "source": [
    "Sim_layer = WENO_temporal_layer(equation,WENO_Z,Δx=Δx,Δt=Δt,fronteira=fronteira,regul_weight=0,ativ_func=tf.nn.sigmoid,p=2,conv_size=5)\n",
    "\n",
    "input_x   = keras.layers.Input(train_x.shape[1:], dtype='float64')\n",
    "optimizer = keras.optimizers.Adam(learning_rate=0.001, beta_1=0.9, beta_2=0.999, clipnorm=1.0)\n",
    "\n",
    "output_x=keras.layers.TimeDistributed(Sim_layer)(input_x)\n",
    "\n",
    "# Criando a rede neural\n",
    "Network = keras.Model(input_x, output_x)\n",
    "Network.compile(loss='MSE', optimizer=optimizer, metrics=['mean_absolute_error'])\n",
    "\n",
    "def reset_weights(model):\n",
    "    for layer in model.layers:\n",
    "        if isinstance(layer, tf.keras.Model): #if you're using a model as a layer\n",
    "            reset_weights(layer) #apply function recursively\n",
    "            continue\n",
    "\n",
    "        #where are the initializers?\n",
    "        if hasattr(layer, 'cell'):\n",
    "            init_container = layer.cell\n",
    "        else:\n",
    "            init_container = layer\n",
    "\n",
    "        for key, initializer in init_container.__dict__.items():\n",
    "            if \"initializer\" not in key: #is this item an initializer?\n",
    "                  continue #if no, skip it\n",
    "\n",
    "            # find the corresponding variable, like the kernel or the bias\n",
    "            if key == 'recurrent_initializer': #special case check\n",
    "                var = getattr(init_container, 'recurrent_kernel')\n",
    "            else:\n",
    "                var = getattr(init_container, key.replace(\"_initializer\", \"\"))\n",
    "\n",
    "            var.assign(initializer(var.shape, var.dtype))\n",
    "            #use the initializer"
   ]
  },
  {
   "cell_type": "code",
   "execution_count": 19,
   "metadata": {},
   "outputs": [],
   "source": [
    "def train():\n",
    "    clear_output()\n",
    "    wandb.init()\n",
    "    config = wandb.config\n",
    "\n",
    "    default_config = wandb.config\n",
    "    default_config.equation='tranp_equation'\n",
    "    default_config.WENO='WENO-Z-DS'\n",
    "\n",
    "    default_config.poly_grade=7\n",
    "    default_config.seno_ampli=3 \n",
    "    default_config.gauss_var=3\n",
    "    default_config.seizures=3\n",
    "\n",
    "    config = default_config\n",
    "\n",
    "    equation_name='transp_equation'\n",
    "    poly_grade=config.poly_grade\n",
    "    seno_ampli=config.seno_ampli\n",
    "    gauss_var=config.gauss_var\n",
    "    seizures=config.seizures\n",
    "\n",
    "    data_temporal,data_spatial,data_base,Δx,Δt,CFL,fronteira,equation=load_dataset(f'datasets/equation={equation_name} polys grau={poly_grade} seno_ampli={seno_ampli} gauss_var={gauss_var} seizure={seizures}')\n",
    "\n",
    "    indice = np.arange(data_temporal.shape[0])\n",
    "    np.random.shuffle(indice)\n",
    "    data_x = data_temporal.astype('float64')[indice]\n",
    "    data_y = data_temporal.astype('float64')[indice]\n",
    "\n",
    "    train_x = data_x[:,0:-1]\n",
    "    train_y = data_y[:,1:]\n",
    "\n",
    "     # get_initializer() returns a callable, seed can be set to None for random weights\n",
    "    reset_weights(Network)\n",
    "\n",
    "    for epoch in range(1):\n",
    "        loss=Network.fit(\n",
    "                train_x                           , # Dados de treino\n",
    "                train_y                           , # Dados de treino\n",
    "                batch_size      = 4               , # Tamanho do batch\n",
    "                epochs          = 1              , # Número de epochs\n",
    "                steps_per_epoch = 10              , # Número de epochs\n",
    "                shuffle         = True            ,  # Aleatorização dos batchs\n",
    "                callbacks=[WandbCallback()]\n",
    "            )\n",
    "        #wandb.log({\"loss\": loss, \"epoch\": epoch})\n",
    "    Δt=0.01*CFL\n",
    "    total_time=int(2*1/Δt)\n",
    "    prev_fx=fx[...]\n",
    "    count=0\n",
    "    for i in range(total_time):\n",
    "        if(i%10==0):\n",
    "            print(count,end='\\r')\n",
    "        prev_fx=Sim_layer.Sim_step(fx,Δt, 0.01, FronteiraPeriodica)\n",
    "        count+=Δt\n",
    "\n",
    "    #prev_fx=Sim_layer.Sim(fx,2*(3), 0.01, CFL, FronteiraPeriodica)\n",
    "    erro=2*tf.math.reduce_mean(tf.abs(prev_fx-fx))/0.01\n",
    "    \n",
    "    wandb.log({'validation_error':erro})\n",
    "\n",
    "#wandb.agent(sweep_id, train)"
   ]
  },
  {
   "cell_type": "code",
   "execution_count": 29,
   "metadata": {},
   "outputs": [
    {
     "data": {
      "text/html": [
       "Tracking run with wandb version 0.12.15"
      ],
      "text/plain": [
       "<IPython.core.display.HTML object>"
      ]
     },
     "metadata": {},
     "output_type": "display_data"
    },
    {
     "data": {
      "text/html": [
       "Run data is saved locally in <code>c:\\Jupyter\\Edge detection\\WENO-DS organizado\\wandb\\run-20220426_201753-fwcfez5i</code>"
      ],
      "text/plain": [
       "<IPython.core.display.HTML object>"
      ]
     },
     "metadata": {},
     "output_type": "display_data"
    },
    {
     "data": {
      "text/html": [
       "Syncing run <strong><a href=\"https://wandb.ai/silvaneojunior/WENO-DS/runs/fwcfez5i\" target=\"_blank\">snowy-sweep-1</a></strong> to <a href=\"https://wandb.ai/silvaneojunior/WENO-DS\" target=\"_blank\">Weights & Biases</a> (<a href=\"https://wandb.me/run\" target=\"_blank\">docs</a>)<br/>Sweep page:  <a href=\"https://wandb.ai/silvaneojunior/WENO-DS/sweeps/kxf4r1ed\" target=\"_blank\">https://wandb.ai/silvaneojunior/WENO-DS/sweeps/kxf4r1ed</a>"
      ],
      "text/plain": [
       "<IPython.core.display.HTML object>"
      ]
     },
     "metadata": {},
     "output_type": "display_data"
    },
    {
     "name": "stdout",
     "output_type": "stream",
     "text": [
      "{'gauss_var': 0, 'poly_grade': 3, 'seizures': 2, 'seno_ampli': 1}\n",
      "'Δx': 0.015625\n",
      "'Δt': 0.004\n",
      "'CFL': 0.5\n",
      "'fronteira': <function FronteiraPeriodica at 0x0000015D86B7F550>\n",
      "'equation': <class 'aux_equation.transp_equation'>\n",
      "'seed': None\n",
      "\n",
      "Epoch 1/30\n",
      " 5/38 [==>...........................] - ETA: 15:16 - loss: 1.6694e-04 - mean_absolute_error: 0.0014"
     ]
    },
    {
     "data": {
      "text/html": [
       "Waiting for W&B process to finish... <strong style=\"color:red\">(failed 1).</strong> Press Ctrl-C to abort syncing."
      ],
      "text/plain": [
       "<IPython.core.display.HTML object>"
      ]
     },
     "metadata": {},
     "output_type": "display_data"
    },
    {
     "data": {
      "application/vnd.jupyter.widget-view+json": {
       "model_id": "4b37c2817b7d45df926cb36aaec4af56",
       "version_major": 2,
       "version_minor": 0
      },
      "text/plain": [
       "VBox(children=(Label(value='0.001 MB of 0.001 MB uploaded (0.000 MB deduped)\\r'), FloatProgress(value=1.0, max…"
      ]
     },
     "metadata": {},
     "output_type": "display_data"
    },
    {
     "data": {
      "text/html": [
       "Synced <strong style=\"color:#cdcd00\">snowy-sweep-1</strong>: <a href=\"https://wandb.ai/silvaneojunior/WENO-DS/runs/fwcfez5i\" target=\"_blank\">https://wandb.ai/silvaneojunior/WENO-DS/runs/fwcfez5i</a><br/>Synced 6 W&B file(s), 0 media file(s), 0 artifact file(s) and 0 other file(s)"
      ],
      "text/plain": [
       "<IPython.core.display.HTML object>"
      ]
     },
     "metadata": {},
     "output_type": "display_data"
    },
    {
     "data": {
      "text/html": [
       "Find logs at: <code>.\\wandb\\run-20220426_201753-fwcfez5i\\logs</code>"
      ],
      "text/plain": [
       "<IPython.core.display.HTML object>"
      ]
     },
     "metadata": {},
     "output_type": "display_data"
    },
    {
     "name": "stderr",
     "output_type": "stream",
     "text": [
      "\u001b[34m\u001b[1mwandb\u001b[0m: Ctrl + C detected. Stopping sweep.\n"
     ]
    }
   ],
   "source": [
    "wandb.agent(sweep_id, train)"
   ]
  },
  {
   "cell_type": "code",
   "execution_count": 20,
   "metadata": {},
   "outputs": [
    {
     "data": {
      "text/html": [
       "Finishing last run (ID:1bf7h56r) before initializing another..."
      ],
      "text/plain": [
       "<IPython.core.display.HTML object>"
      ]
     },
     "metadata": {},
     "output_type": "display_data"
    },
    {
     "data": {
      "text/html": [
       "Waiting for W&B process to finish... <strong style=\"color:green\">(success).</strong>"
      ],
      "text/plain": [
       "<IPython.core.display.HTML object>"
      ]
     },
     "metadata": {},
     "output_type": "display_data"
    },
    {
     "data": {
      "application/vnd.jupyter.widget-view+json": {
       "model_id": "5696d0df72b4437482443fa4c5469300",
       "version_major": 2,
       "version_minor": 0
      },
      "text/plain": [
       "VBox(children=(Label(value='0.001 MB of 0.001 MB uploaded (0.000 MB deduped)\\r'), FloatProgress(value=1.0, max…"
      ]
     },
     "metadata": {},
     "output_type": "display_data"
    },
    {
     "data": {
      "text/html": [
       "<style>\n",
       "    table.wandb td:nth-child(1) { padding: 0 10px; text-align: right }\n",
       "    .wandb-row { display: flex; flex-direction: row; flex-wrap: wrap; width: 100% }\n",
       "    .wandb-col { display: flex; flex-direction: column; flex-basis: 100%; flex: 1; padding: 10px; }\n",
       "    </style>\n",
       "<div class=\"wandb-row\"><div class=\"wandb-col\"><h3>Run history:</h3><br/><table class=\"wandb\"><tr><td>epoch</td><td>▁</td></tr><tr><td>loss</td><td>▁</td></tr><tr><td>mean_absolute_error</td><td>▁</td></tr></table><br/></div><div class=\"wandb-col\"><h3>Run summary:</h3><br/><table class=\"wandb\"><tr><td>epoch</td><td>0</td></tr><tr><td>loss</td><td>0.00013</td></tr><tr><td>mean_absolute_error</td><td>0.00149</td></tr></table><br/></div></div>"
      ],
      "text/plain": [
       "<IPython.core.display.HTML object>"
      ]
     },
     "metadata": {},
     "output_type": "display_data"
    },
    {
     "data": {
      "text/html": [
       "Synced <strong style=\"color:#cdcd00\">polar-wave-39</strong>: <a href=\"https://wandb.ai/silvaneojunior/WENO-DS/runs/1bf7h56r\" target=\"_blank\">https://wandb.ai/silvaneojunior/WENO-DS/runs/1bf7h56r</a><br/>Synced 6 W&B file(s), 1 media file(s), 0 artifact file(s) and 0 other file(s)"
      ],
      "text/plain": [
       "<IPython.core.display.HTML object>"
      ]
     },
     "metadata": {},
     "output_type": "display_data"
    },
    {
     "data": {
      "text/html": [
       "Find logs at: <code>.\\wandb\\run-20220426_210410-1bf7h56r\\logs</code>"
      ],
      "text/plain": [
       "<IPython.core.display.HTML object>"
      ]
     },
     "metadata": {},
     "output_type": "display_data"
    },
    {
     "data": {
      "text/html": [
       "Successfully finished last run (ID:1bf7h56r). Initializing new run:<br/>"
      ],
      "text/plain": [
       "<IPython.core.display.HTML object>"
      ]
     },
     "metadata": {},
     "output_type": "display_data"
    },
    {
     "data": {
      "text/html": [
       "Tracking run with wandb version 0.12.15"
      ],
      "text/plain": [
       "<IPython.core.display.HTML object>"
      ]
     },
     "metadata": {},
     "output_type": "display_data"
    },
    {
     "data": {
      "text/html": [
       "Run data is saved locally in <code>c:\\Jupyter\\Edge detection\\WENO-DS organizado\\wandb\\run-20220426_210936-17qiygl7</code>"
      ],
      "text/plain": [
       "<IPython.core.display.HTML object>"
      ]
     },
     "metadata": {},
     "output_type": "display_data"
    },
    {
     "data": {
      "text/html": [
       "Syncing run <strong><a href=\"https://wandb.ai/silvaneojunior/WENO-DS/runs/17qiygl7\" target=\"_blank\">skilled-fog-40</a></strong> to <a href=\"https://wandb.ai/silvaneojunior/WENO-DS\" target=\"_blank\">Weights & Biases</a> (<a href=\"https://wandb.me/run\" target=\"_blank\">docs</a>)<br/>"
      ],
      "text/plain": [
       "<IPython.core.display.HTML object>"
      ]
     },
     "metadata": {},
     "output_type": "display_data"
    },
    {
     "name": "stdout",
     "output_type": "stream",
     "text": [
      "'Δx': 0.015625\n",
      "'Δt': 0.004\n",
      "'CFL': 0.5\n",
      "'fronteira': <function FronteiraPeriodica at 0x0000015D86B7F550>\n",
      "'equation': <class 'aux_equation.transp_equation'>\n",
      "'seed': None\n",
      "\n",
      "10/10 [==============================] - 13s 1s/step - loss: 1.3470e-04 - mean_absolute_error: 0.0016 - _timestamp: 1651018212.0000 - _runtime: 30.0000\n",
      "0.75000000000000013\r"
     ]
    }
   ],
   "source": [
    "train()"
   ]
  }
 ],
 "metadata": {
  "interpreter": {
   "hash": "ecf5722fdaf1897a315d257d89d94520bfcaa453217d5becf09b39e73618b0de"
  },
  "kernelspec": {
   "display_name": "Python 3.8.10 ('base')",
   "language": "python",
   "name": "python3"
  },
  "language_info": {
   "codemirror_mode": {
    "name": "ipython",
    "version": 3
   },
   "file_extension": ".py",
   "mimetype": "text/x-python",
   "name": "python",
   "nbconvert_exporter": "python",
   "pygments_lexer": "ipython3",
   "version": "3.8.10"
  },
  "orig_nbformat": 4
 },
 "nbformat": 4,
 "nbformat_minor": 2
}
