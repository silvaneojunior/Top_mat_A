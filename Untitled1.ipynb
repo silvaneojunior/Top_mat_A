{
 "cells": [
  {
   "cell_type": "code",
   "execution_count": 4,
   "id": "9878b989",
   "metadata": {},
   "outputs": [
    {
     "name": "stderr",
     "output_type": "stream",
     "text": [
      "┌ Info: Precompiling Plots [91a5bcdd-55d7-5caf-9e0b-520d859cae80]\n",
      "└ @ Base loading.jl:1278\n"
     ]
    },
    {
     "ename": "LoadError",
     "evalue": "\u001b[91mInterruptException:\u001b[39m",
     "output_type": "error",
     "traceback": [
      "\u001b[91mInterruptException:\u001b[39m",
      "",
      "Stacktrace:",
      " [1] try_yieldto(::typeof(Base.ensure_rescheduled)) at .\\task.jl:656",
      " [2] wait at .\\task.jl:713 [inlined]",
      " [3] wait(::Base.GenericCondition{Base.Threads.SpinLock}) at .\\condition.jl:106",
      " [4] wait(::Base.Process) at .\\process.jl:621",
      " [5] success at .\\process.jl:483 [inlined]",
      " [6] compilecache(::Base.PkgId, ::String) at .\\loading.jl:1287",
      " [7] _require(::Base.PkgId) at .\\loading.jl:1030",
      " [8] require(::Base.PkgId) at .\\loading.jl:928",
      " [9] require(::Module, ::Symbol) at .\\loading.jl:923",
      " [10] include_string(::Function, ::Module, ::String, ::String) at .\\loading.jl:1091"
     ]
    }
   ],
   "source": [
    "using Plots\n",
    "\n",
    "function Burgers(u, t_final, Δx, CFL, fronteira)\n",
    "   t = 0.0\n",
    "   while t < t_final\n",
    "      Λ = maximum(abs.(u))\n",
    "      Δt = Δx*CFL/Λ #Condicao de CFL - deve ser atualizada a cada passo de tempo\n",
    "      if t + Δt > t_final\n",
    "         Δt = t_final - t\n",
    "      end\n",
    "      #SSP Runge-Kutta 3,3\n",
    "      u1 = u - Δt*DerivadaEspacial(u, Δx, Λ, fronteira, t)\n",
    "      Λ = maximum(abs.(u1))\n",
    "      u2 = (3*u + u1 - Δt*DerivadaEspacial(u1, Δx, Λ, fronteira, t + Δt)) / 4.0\n",
    "      Λ = maximum(abs.(u2))\n",
    "      u = (u + 2*u2 - 2*Δt*DerivadaEspacial(u2, Δx, Λ, fronteira, t + Δt/2)) / 3.0\n",
    "      t = t + Δt\n",
    "   end\n",
    "   return u\n",
    "end\n",
    "\n",
    "function FronteiraFixa(U, t)\n",
    "   return [U[1,:]'; U[1,:]'; U[1,:]'; U; U[end,:]'; U[end,:]'; U[end,:]']\n",
    "end\n",
    "\n",
    "function FronteiraPeriodica(U, t)\n",
    "   return [U[end-2,:]'; U[end-1,:]'; U[end,:]'; U; U[1,:]'; U[2,:]'; U[3,:]']\n",
    "end\n",
    "\n",
    "function DerivadaEspacial(U, Δx, Λ, AdicionaGhostPoints, t)\n",
    "   Fhat = zeros(size(U,1)+1)\n",
    "   U = AdicionaGhostPoints(U, t) # Adiciona ghost cells de acordo com as condições de fronteira\n",
    "   for i = 3:size(U,1)-3\n",
    "      u_i = U[i-2:i+3,:] # Estêncil de 6 pontos onde vamos trabalhar\n",
    "\n",
    "      M = maximum(abs.(u_i)) #Λ\n",
    "      f_plus = (u_i.^2/2 + M*u_i) / 2\n",
    "      f_minus = (u_i.^2/2 - M*u_i) / 2\n",
    "\n",
    "      f_half_minus = WenoZ5ReconstructionMinus(f_plus[1], f_plus[2], f_plus[3], f_plus[4], f_plus[5]) # Aplicar WENO em cada variável característica separadamente\n",
    "      f_half_plus = WenoZ5ReconstructionPlus(f_minus[2], f_minus[3], f_minus[4], f_minus[5], f_minus[6])\n",
    "\n",
    "      Fhat[i-2] = f_half_minus + f_half_plus\n",
    "   end\n",
    "   return (Fhat[2:end] - Fhat[1:end-1]) / Δx\n",
    "end\n",
    "\n",
    "function WenoZ5ReconstructionMinus(u1, u2, u3, u4, u5)\n",
    "   const ɛ = 10.0^(-40)\n",
    "   # Calcula os indicadores de suavidade locais\n",
    "   β0 = (1/2.0*u1 - 2*u2 + 3/2.0*u3)^2 + 13/12.0*(u1 - 2*u2 + u3)^2\n",
    "   β1 = (-1/2.0*u2 + 1/2.0*u4)^2 + 13/12.0*(u2 - 2*u3 + u4)^2\n",
    "   β2 = (-3/2.0*u3 + 2*u4 - 1/2.0*u5)^2 + 13/12.0*(u3 - 2*u4 + u5)^2\n",
    "   # Calcula o indicador de suavidade global\n",
    "   τ = abs(β0 - β2)\n",
    "   # Calcula os pesos do WENO-Z\n",
    "   α0 = (1/10) * (1 + (τ/(β0 + ɛ))^2)\n",
    "   α1 = (6/10) * (1 + (τ/(β1 + ɛ))^2)\n",
    "   α2 = (3/10) * (1 + (τ/(β2 + ɛ))^2)\n",
    "   soma = α0 + α1 + α2\n",
    "   ω0 = α0 / soma\n",
    "   ω1 = α1 / soma\n",
    "   ω2 = α2 / soma\n",
    "   # Calcula os fhat em cada subestêncil\n",
    "   fhat0 = (2*u1 - 7*u2 + 11*u3)/6\n",
    "   fhat1 = (-u2 + 5*u3 + 2*u4)/6\n",
    "   fhat2 = (2*u3 + 5*u4 - u5)/6\n",
    "   #Finalmente, calcula o fhat do estêncil todo\n",
    "   return ω0*fhat0 + ω1*fhat1 + ω2*fhat2\n",
    "end\n",
    "\n",
    "function WenoZ5ReconstructionPlus(u1, u2, u3, u4, u5)\n",
    "   return WenoZ5ReconstructionMinus(u5, u4, u3, u2, u1);\n",
    "end\n",
    "\n",
    "#u = Burgers(u0, t_final, Δx, CFL, FronteiraFixa)\n",
    "#plot(x, u)\n"
   ]
  },
  {
   "cell_type": "code",
   "execution_count": null,
   "id": "9977dd2e",
   "metadata": {},
   "outputs": [],
   "source": [
    "using(Pkg)\n",
    "Pkg.add(\"Plots\")"
   ]
  },
  {
   "cell_type": "code",
   "execution_count": 9,
   "id": "4b8ba555",
   "metadata": {},
   "outputs": [
    {
     "name": "stdout",
     "output_type": "stream",
     "text": [
      "0:10:0"
     ]
    }
   ],
   "source": [
    "print(0:10:2)"
   ]
  },
  {
   "cell_type": "code",
   "execution_count": null,
   "id": "34836827",
   "metadata": {},
   "outputs": [],
   "source": []
  }
 ],
 "metadata": {
  "kernelspec": {
   "display_name": "Julia 1.5.3",
   "language": "julia",
   "name": "julia-1.5"
  },
  "language_info": {
   "file_extension": ".jl",
   "mimetype": "application/julia",
   "name": "julia",
   "version": "1.5.3"
  },
  "widgets": {
   "application/vnd.jupyter.widget-state+json": {
    "state": {},
    "version_major": 2,
    "version_minor": 0
   }
  }
 },
 "nbformat": 4,
 "nbformat_minor": 5
}
