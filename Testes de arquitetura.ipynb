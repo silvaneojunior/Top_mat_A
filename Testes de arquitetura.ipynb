{
 "cells": [
  {
   "cell_type": "code",
   "execution_count": 1,
   "id": "a100ecdc",
   "metadata": {},
   "outputs": [],
   "source": [
    "# Importando os módulos que serão utilizados\n",
    "\n",
    "import tensorflow as tf\n",
    "import numpy as np\n",
    "import tensorflow.keras as keras\n",
    "import matplotlib.pyplot as plt\n",
    "import time\n",
    "\n",
    "# Configurando o acesso do tensorflow aos processadores do computador\n",
    "# no caso, está sendo selecionada a primeira placa de vídeo listada\n",
    "gpus= tf.config.experimental.list_physical_devices('GPU') # Listando as placas de vídeo\n",
    "tf.config.experimental.set_memory_growth(gpus[0], True) # Selecionando a primeira GPU e configurando\n",
    "\n",
    "# Importando os módulos contendo as funções criadas no projeto\n",
    "\n",
    "from aux_func_V2 import *\n",
    "import aux_func_V3 as Modelo1\n",
    "import aux_func_numpy as debug\n",
    "\n",
    "# Importando módulo do Weights & Biases para fazer a varredura dos hiper-parâmetros.\n",
    "import wandb\n",
    "from wandb.keras import WandbCallback\n",
    "\n",
    "from IPython.display import clear_output # Definindo a precisão padrão para as análises"
   ]
  },
  {
   "cell_type": "code",
   "execution_count": 4,
   "id": "33e74949",
   "metadata": {},
   "outputs": [],
   "source": [
    "# Lendo o conjunto de dados que será utilizado para o treino da rede neural\n",
    "\n",
    "# Importando o pacote de manipulação de arquivos\n",
    "import dill\n",
    "\n",
    "# Lendo os dados\n",
    "with open('data.bck','rb') as file:\n",
    "    # Utilizando a CPU como processador\n",
    "    with tf.device('/device:CPU:0'):\n",
    "        data_full = dill.load(file)\n",
    "        data_full = tf.transpose(data_full[0],[1,0,2]).numpy()"
   ]
  },
  {
   "cell_type": "code",
   "execution_count": 5,
   "id": "0d38ea6f",
   "metadata": {},
   "outputs": [],
   "source": [
    "# Formatando conjunto de dados para o treino da rede neural\n",
    "data_x = np.squeeze(data_full[:,:,1:])\n",
    "data_y = np.squeeze(data_full[:,:,:-1])\n",
    "\n",
    "data_x = data_x[:,np.arange(100)*4]\n",
    "data_y = data_y[:,np.arange(100)*4]\n",
    "data_x = np.concatenate(np.split(data_x, data_x.shape[2], axis=2), axis=0)\n",
    "data_y = np.concatenate(np.split(data_y, data_y.shape[2], axis=2), axis=0)\n",
    "\n",
    "indices = np.where(np.sum(data_x**2, axis=1) > 0)[0]\n",
    "data_x  = data_x[indices]\n",
    "data_y  = data_y[indices]\n",
    "\n",
    "# Aleatorizando a ordem dos elementos dos dados\n",
    "indice = np.arange(data_x.shape[0])\n",
    "np.random.shuffle(indice)\n",
    "data_x = data_x.astype('float64')[indice]\n",
    "data_y = data_y.astype('float64')[indice]"
   ]
  },
  {
   "cell_type": "code",
   "execution_count": 6,
   "id": "10326c05",
   "metadata": {},
   "outputs": [],
   "source": [
    "test_size=5000\n",
    "\n",
    "# Conjunto de dados de treino\n",
    "train_x=data_x[:-test_size]\n",
    "train_y=data_y[:-test_size]\n",
    "\n",
    "# Conjunto de dados de teste\n",
    "test_x=data_x[-test_size:]\n",
    "test_y=data_y[-test_size:]"
   ]
  },
  {
   "cell_type": "code",
   "execution_count": 7,
   "id": "9be5e139",
   "metadata": {},
   "outputs": [
    {
     "name": "stderr",
     "output_type": "stream",
     "text": [
      "Failed to detect the name of this notebook, you can set it manually with the WANDB_NOTEBOOK_NAME environment variable to enable code saving.\n"
     ]
    },
    {
     "name": "stdout",
     "output_type": "stream",
     "text": [
      "Create sweep with ID: avxz1gc0\n",
      "Sweep URL: https://wandb.ai/silvaneojunior/WENO-DS/sweeps/avxz1gc0\n"
     ]
    }
   ],
   "source": [
    "# Inicializando a configuração padrão de treino.\n",
    "default_config = wandb.config\n",
    "\n",
    "default_config.conv_size=4\n",
    "default_config.regul_ativ=0 \n",
    "default_config.regul_weigth=0.428\n",
    "default_config.weigth_OF=0.9159\n",
    "default_config.usa_reg_ativ=0\n",
    "default_config.batch_size=256\n",
    "default_config.deep=8\n",
    "default_config.learning_rate=0.02645\n",
    "default_config.Model='Modelo 1'\n",
    "default_config.ativ_func='sigmoid'\n",
    "\n",
    "# Definindo a configuração da varredura.\n",
    "sweep_config = {\n",
    "    'method': 'bayes', # Método de busca.\n",
    "    'metric': {\n",
    "      'name': 'val_Inf_Norm', # Métrica alvo.\n",
    "      'goal': 'minimize'      # Objetivo.\n",
    "    },\n",
    "    'parameters': { # Parâmetros a serem modificados e a suas respectivas distribuições à priori.\n",
    "        'conv_size': {\n",
    "            'values': [2**i for i in range(5)]\n",
    "        },\n",
    "        'Model': {\n",
    "            'values': ['Modelo 1', 'Modelo 2']\n",
    "        },\n",
    "        'regul_ativ': {\n",
    "            'distribution': 'log_uniform',\n",
    "            'min': -5.0,\n",
    "            'max': -1.0\n",
    "        },\n",
    "        'usa_reg_ativ': {\n",
    "            'values':[0.0,1.0]\n",
    "        },\n",
    "        'regul_weigth': {\n",
    "            'distribution': 'log_uniform',\n",
    "            'min': -5.0,\n",
    "            'max': -1.0\n",
    "        },\n",
    "        'weigth_OF':{\n",
    "            'distribution': 'uniform',\n",
    "            'min': 0.0,\n",
    "            'max': 1.0\n",
    "        },\n",
    "        'ativ_func':{\n",
    "            'values':['sigmoid','elu']\n",
    "        },\n",
    "        'deep': {\n",
    "            'values': [i for i in range(5)]\n",
    "        },\n",
    "        'batch_size': {\n",
    "            'values': [2**i for i in range(6,8)]\n",
    "        },\n",
    "        'learning_rate': {\n",
    "            'distribution': 'log_uniform',\n",
    "            'min': -5.0,\n",
    "            'max': -1.0\n",
    "        }\n",
    "    }\n",
    "}\n",
    "\n",
    "# Criando varredura.\n",
    "sweep_id = wandb.sweep(sweep_config, project='WENO-DS', entity='silvaneojunior')"
   ]
  },
  {
   "cell_type": "code",
   "execution_count": 8,
   "id": "c22a2e1d",
   "metadata": {},
   "outputs": [],
   "source": [
    "def Inf_Norm(y_true, y_pred):\n",
    "    \"\"\"\n",
    "    Função que recebe dois tensors contendo valores reais e retorna a Norma infinita da diferença entre eles.\n",
    "    -------------------------------------------------------------------------------------------\n",
    "    y_true       (tensor): valores de referência do conjunto de dados.\n",
    "    y_pred       (float): valores de previstos pela rede.\n",
    "    -------------------------------------------------------------------------------------------\n",
    "    error        (tensor): Erro de previsão na Norma infinita.\n",
    "    -------------------------------------------------------------------------------------------\n",
    "    \"\"\"\n",
    "    y_true = tf.cast(y_true, y_pred.dtype)\n",
    "    error=tf.reduce_max(tf.math.abs(y_pred - y_true), axis=-1)\n",
    "    return error\n",
    "\n",
    "def train():\n",
    "    \"\"\"\n",
    "    Função que realiza o treino da rede neural para um conjunto de hiper-parâmetros\n",
    "    -------------------------------------------------------------------------------------------\n",
    "    Sem argumentos\n",
    "    -------------------------------------------------------------------------------------------\n",
    "    Sem output\n",
    "    -------------------------------------------------------------------------------------------\n",
    "    \"\"\"\n",
    "    clear_output() # Limpa o output da célula (exclusivo para o Jupyter)\n",
    "    run=wandb.init() # Inicializando o treino da rede. Nesta etapa o wandb amostrará um conjunto de hipe-parâmetros segundo a distribuição à posterior.\n",
    "    config=wandb.config # Armazenando a configuração amostrada.\n",
    "    \n",
    "    # Definindo callbacks.\n",
    "    # Cada função da lista a seguir será executada ao final de cada epoch.\n",
    "    callback = [WandbCallback(),tf.keras.callbacks.EarlyStopping(monitor='val_loss',patience=5)]\n",
    "    \n",
    "    if config.Model=='Modelo 1' or config.ativ_func=='sigmoid':\n",
    "        # Configuração para a função de ativação sigmoid.\n",
    "        ativ_func='sigmoid'\n",
    "        regul_func=lambda x: -config.usa_reg_ativ*config.regul_ativ*tf.math.reduce_sum(tf.math.log(x))\n",
    "    else:\n",
    "        # Configuração para a função de ativação elu+1.\n",
    "        ativ_func=lambda x: tf.nn.elu(x)+1\n",
    "        regul_func=lambda x: config.usa_reg_ativ*config.regul_ativ*tf.math.reduce_sum((x-1)**2)\n",
    "\n",
    "    class Burguers_layer(keras.layers.Layer):\n",
    "        \"\"\"Criando uma camada de rede neural cuja superclasse é a camada\n",
    "        do keras para integrar o algoritmo do WENO com a rede neural\"\"\"\n",
    "        def __init__(self, t_final, Δx, CFL, fronteira):\n",
    "            \"\"\"\n",
    "            Construtor da classe\n",
    "            --------------------------------------------------------------------------------------\n",
    "            t_final      (float): tamanho máximo da variação temporal\n",
    "            Δx           (float): distância espacial dos pontos na malha utilizada\n",
    "            CFL          (float): constante utilizada para determinar o tamanho da malha temporal\n",
    "            fronteira (function): função que determina o comportamento do algoritmo na fronteira\n",
    "            --------------------------------------------------------------------------------------\n",
    "            \"\"\"\n",
    "            super(Burguers_layer, self).__init__(dtype='float64') # Chamando o inicializador da superclasse\n",
    "            \n",
    "            # Salvando os valores dos parâmetros do construtor no objeto\n",
    "            self.t_final = tf.cast(t_final,'float64')\n",
    "            self.Δx = Δx\n",
    "            self.CFL=CFL\n",
    "            self.fronteira = fronteira\n",
    "        def build(self, input_shape):\n",
    "            \"\"\"\n",
    "            Função para compor as camadas que constituem essa camada da rede neural\n",
    "            ------------------------------------------------------------------------\n",
    "            input_shape : não é utilizado por essa função, mas é um argumento obrigatório para camadas do Keras.\n",
    "            ------------------------------------------------------------------------\n",
    "            \"\"\"\n",
    "            self.layers=[]\n",
    "            wei_reg=tf.keras.regularizers.L2(config.regul_weigth)\n",
    "            for i in range(config.deep):\n",
    "                self.layers.append(tf.keras.layers.ZeroPadding1D(padding=2))\n",
    "                self.layers.append(keras.layers.Conv1D(config.conv_size,5,activation='elu',dtype=data_x.dtype,kernel_regularizer=wei_reg))\n",
    "            if config.Model!='Modelo 1':\n",
    "                self.layers.append(keras.layers.Conv1D(1,1,activation=ativ_func,dtype=data_x.dtype,kernel_regularizer=wei_reg,activity_regularizer=regul_func))\n",
    "            else:\n",
    "                self.layers.append(keras.layers.Conv1D(1,1,activation=ativ_func,dtype=data_x.dtype,kernel_regularizer=wei_reg,activity_regularizer=regul_func))\n",
    "            \n",
    "        def network_graph(self,x):\n",
    "            \"\"\"\n",
    "            Função utilizado para executar sucessivamente as camadas dessa camada \n",
    "            da rede neural, passando o input de uma para a próxima\n",
    "            ----------------------------------------------------------------------\n",
    "            x (tensor): valor de entrada da rede\n",
    "            ----------------------------------------------------------------------\n",
    "            y (tensor): valor de saída da rede\n",
    "            ----------------------------------------------------------------------\n",
    "            \"\"\"\n",
    "            y=x\n",
    "            for layer in self.layers:\n",
    "                y=layer(y)\n",
    "            return y\n",
    "\n",
    "        def call(self, inpt,mask=None):\n",
    "            \"\"\"\n",
    "            Função utilizada para treino que recebe o input da camada e computa o output\n",
    "            -----------------------------------------------------------------------------\n",
    "            inpt  (tensor): input passado para a camada\n",
    "            mask       (?): não é utilizado por essa função\n",
    "            -----------------------------------------------------------------------------\n",
    "            outpt (tensor): output retorna pela camada\n",
    "            -----------------------------------------------------------------------------\n",
    "            \"\"\"\n",
    "            Λ  = tf.math.reduce_max(tf.abs(inpt)) # Valor utilizado para obter o Δt\n",
    "            Δt = self.Δx*self.CFL/Λ               # Obtendo o valor de Δt a partir de CFL\n",
    "            # Caso o passo temporal utrapasse o valor de t_final\n",
    "            # então o tamanho do passo se torna o tempo que \n",
    "            # falta para se obter o t_final\n",
    "            Δt = tf.where(Δt > self.t_final, self.t_final, Δt)\n",
    "            \n",
    "            if config.Model!='Modelo 1':\n",
    "                # Grafo do WENO-Z para o Modelo 2\n",
    "                return Graph_Burgers(u=inpt, Δt=Δt, Δx=self.Δx, fronteira=self.fronteira,network=self.network_graph)\n",
    "            else:\n",
    "                # Grafo do WENO-Z para o Modelo 1\n",
    "                return Modelo1.Graph_Burgers(u=inpt, Δt=Δt, Δx=self.Δx, fronteira=self.fronteira,network=self.network_graph)\n",
    "        def predict(self, inputs,mask=None):\n",
    "            \"\"\"Função que faz previsão a partir de um input\"\"\"\n",
    "            return self(inputs,mask=None) # Chamando o função call (self.predict(inputs, mask) = self.call(inpt, mask))\n",
    "\n",
    "    # Definindo o input da rede e o otimizador de treino\n",
    "    input_x=keras.layers.Input([100,1],dtype='float64')\n",
    "    optimizer = keras.optimizers.Adam(learning_rate=config.learning_rate, beta_1=0.9, beta_2=0.999, clipnorm=1.0)\n",
    "    \n",
    "    # Criando uma camada de Burgers que integra o WENO à rede neural\n",
    "    final_layer=Burguers_layer(t_final=0.01,Δx=0.04,CFL=0.5,fronteira=FronteiraPeriodica)\n",
    "\n",
    "    class MES_OF(tf.keras.losses.Loss):\n",
    "        \"\"\"Criando uma função de custo cuja superclasse é a de funções de\n",
    "        custo do keras\"\"\"\n",
    "        def call(self, y_true, y_pred):\n",
    "            \"\"\"\n",
    "            Função que avalia o custo dado um valor de referência e um valor previsto\n",
    "            --------------------------------------------------------------------------\n",
    "            y_true (tensor): valor de referência\n",
    "            y_pred (tensor): valor predito\n",
    "            --------------------------------------------------------------------------\n",
    "            loss   (tensor): custo associado\n",
    "            --------------------------------------------------------------------------\n",
    "            \"\"\"\n",
    "            y_true = tf.cast(y_true, y_pred.dtype) # Convertendo os tipos para evitar conflitos\n",
    "            y_min  = tf.math.reduce_min(y_true,axis=1,keepdims=True)\n",
    "            y_max  = tf.math.reduce_max(y_true,axis=1,keepdims=True)\n",
    "\n",
    "            loss = (1-config.weigth_OF)*tf.reduce_mean(\n",
    "                tf.math.square(y_pred - y_true), axis=-1) + \\        # Custo por erro na norma L2\n",
    "                config.weigth_OF*tf.reduce_sum(\n",
    "                    tf.where(y_pred > y_max, y_pred - y_max,  0) + \\ # Custo por previsão 'muito alta'\n",
    "                    tf.where(y_pred < y_min, y_min  - y_pred, 0),    # Custo por previsão 'muito baixa'\n",
    "                axis=-1)\n",
    "            return loss\n",
    "        \n",
    "    # Criando a rede neural\n",
    "    Network=keras.Model(input_x, final_layer(input_x))\n",
    "    # Configurando a função de perda e o otimizador\n",
    "    Network.compile(loss=MES_OF(),optimizer=optimizer,metrics=[Inf_Norm,'mean_absolute_error'])\n",
    "    \n",
    "    # Treinando a rede neural\n",
    "    loss=Network.fit(train_x                                        , # Dados de treino\n",
    "                     train_y                                        , # Dados de treino\n",
    "                     validation_data = (test_x, test_y)             , # Dados de validação\n",
    "                     batch_size      = config.batch_size            , # Tamanho do batch\n",
    "                     epochs          = int(3/config.learning_rate)  , # Número de epochs\n",
    "                     steps_per_epoch = 30                           , # Número de batchs por epoch\n",
    "                     shuffle         = True                         , # Aleatorização dos batchs\n",
    "                     callbacks=callback                             ) # Funções a serem executadas no final de cada Epoch\n",
    "    \n",
    "    # Calculando os erros de previsão utilizando o WENO-Z em uma malha mais fina \n",
    "    # como solução de referência e depois calculando o WENO-Z e o WENO-Z com a \n",
    "    # modificação da rede neural numa malha mais grossa\n",
    "\n",
    "    Δx = 0.04                                  # Distância espacial dos pontos na malha mais grossa utilizada\n",
    "    x  = tf.range(-2, 2, Δx, dtype=float_pres) # Gerando a malha de pontos no espaço unidimensional\n",
    "\n",
    "    full_U   = test_x[-500:] # 500 últimos dados de entrada do conjunto de treino\n",
    "    ref_full = test_y[-500:] # 500 últimos dados de saída do conjunto de treino\n",
    "\n",
    "    CFL    = 0.5  # Constante utilizada para determinar o tamanho da malha temporal\n",
    "    Δt_max = 0.01 # Instante de tempo final\n",
    "    t      = 0.0  # Instante de tempo inicial\n",
    "\n",
    "    # Valor utilizado para obter o Δt\n",
    "    Λ = tf.math.reduce_max(tf.abs(full_U), axis=1, keepdims=True)\n",
    "    # Obtendo o valor de Δt a partir de CFL\n",
    "    Δt = Δx*CFL/Λ\n",
    "    # Caso o passo temporal utrapasse o valor de Δt_max então o \n",
    "    # tamanho do passo se torna Δt_max\n",
    "    Δt = tf.where(Δt > Δt_max, Δt_max, Δt)\n",
    "\n",
    "    net_u   = tf.squeeze(Network.predict(full_U))             # Previsão com o WENO-Z modificado pela rede neural\n",
    "    debug_u = Burgers(full_U,Δt, Δx, CFL, FronteiraPeriodica) # Previsão com o WENO-Z\n",
    "\n",
    "    # Armazenando ambos os erros de previsão\n",
    "    error = tf.stack([tf.squeeze(net_u)-tf.squeeze(ref_full),tf.squeeze(tf.squeeze(debug_u)-tf.squeeze(ref_full))],axis=0)\n",
    "    \n",
    "    # Erro médio na norma L2\n",
    "    desv_error_MSE=tf.math.reduce_mean((tf.math.reduce_sum(error**2,axis=1)**0.5)/error.shape[1],axis=1)\n",
    "    # Erro médio na norma do infinito\n",
    "    desv_error_Inf=tf.math.reduce_max(tf.math.reduce_max(tf.math.abs(error),axis=1),axis=1)\n",
    "    \n",
    "    #Passando os erros para o Weigths and Biases.\n",
    "    wandb.log({\"Depara_MSE\": (desv_error_MSE[0]/desv_error_MSE[1]),\n",
    "               \"Depara_Inf\": (desv_error_Inf[0]/desv_error_Inf[1])})"
   ]
  },
  {
   "cell_type": "code",
   "execution_count": null,
   "id": "d7402d91",
   "metadata": {},
   "outputs": [
    {
     "name": "stderr",
     "output_type": "stream",
     "text": [
      "Failed to detect the name of this notebook, you can set it manually with the WANDB_NOTEBOOK_NAME environment variable to enable code saving.\n"
     ]
    },
    {
     "data": {
      "text/html": [
       "\n",
       "                    Syncing run <strong><a href=\"https://wandb.ai/silvaneojunior/WENO-DS/runs/219eq2nc\" target=\"_blank\">fearless-sweep-53</a></strong> to <a href=\"https://wandb.ai/silvaneojunior/WENO-DS\" target=\"_blank\">Weights & Biases</a> (<a href=\"https://docs.wandb.com/integrations/jupyter.html\" target=\"_blank\">docs</a>).<br/>\n",
       "Sweep page: <a href=\"https://wandb.ai/silvaneojunior/WENO-DS/sweeps/avxz1gc0\" target=\"_blank\">https://wandb.ai/silvaneojunior/WENO-DS/sweeps/avxz1gc0</a><br/>\n",
       "\n",
       "                "
      ],
      "text/plain": [
       "<IPython.core.display.HTML object>"
      ]
     },
     "metadata": {},
     "output_type": "display_data"
    },
    {
     "name": "stdout",
     "output_type": "stream",
     "text": [
      "Epoch 1/212\n",
      "30/30 [==============================] - 25s 585ms/step - loss: 2.7784 - Inf_Norm: 0.0028 - mean_absolute_error: 0.0028 - val_loss: 0.4361 - val_Inf_Norm: 0.0033 - val_mean_absolute_error: 0.0033\n"
     ]
    },
    {
     "name": "stderr",
     "output_type": "stream",
     "text": [
      "\u001b[34m\u001b[1mwandb\u001b[0m: \u001b[32m\u001b[41mERROR\u001b[0m Can't save model, h5py returned error: Layer Burguers_layer has arguments in `__init__` and therefore must override `get_config`.\n"
     ]
    },
    {
     "name": "stdout",
     "output_type": "stream",
     "text": [
      "Epoch 2/212\n",
      "30/30 [==============================] - 16s 536ms/step - loss: 0.2974 - Inf_Norm: 0.0031 - mean_absolute_error: 0.0031 - val_loss: 0.2238 - val_Inf_Norm: 0.0033 - val_mean_absolute_error: 0.0033\n",
      "Epoch 3/212\n",
      "30/30 [==============================] - 17s 558ms/step - loss: 0.1951 - Inf_Norm: 0.0028 - mean_absolute_error: 0.0028 - val_loss: 0.1745 - val_Inf_Norm: 0.0033 - val_mean_absolute_error: 0.0033\n",
      "Epoch 4/212\n",
      "30/30 [==============================] - 16s 539ms/step - loss: 0.1624 - Inf_Norm: 0.0031 - mean_absolute_error: 0.0031 - val_loss: 0.1515 - val_Inf_Norm: 0.0033 - val_mean_absolute_error: 0.0033\n",
      "Epoch 5/212\n",
      "30/30 [==============================] - 16s 545ms/step - loss: 0.1436 - Inf_Norm: 0.0030 - mean_absolute_error: 0.0030 - val_loss: 0.1362 - val_Inf_Norm: 0.0033 - val_mean_absolute_error: 0.0033\n",
      "Epoch 6/212\n",
      "30/30 [==============================] - 16s 537ms/step - loss: 0.1306 - Inf_Norm: 0.0032 - mean_absolute_error: 0.0032 - val_loss: 0.1250 - val_Inf_Norm: 0.0033 - val_mean_absolute_error: 0.0033\n",
      "Epoch 7/212\n",
      "30/30 [==============================] - 16s 540ms/step - loss: 0.1206 - Inf_Norm: 0.0030 - mean_absolute_error: 0.0030 - val_loss: 0.1162 - val_Inf_Norm: 0.0033 - val_mean_absolute_error: 0.0033\n",
      "Epoch 8/212\n",
      "30/30 [==============================] - 16s 537ms/step - loss: 0.1126 - Inf_Norm: 0.0030 - mean_absolute_error: 0.0030 - val_loss: 0.1090 - val_Inf_Norm: 0.0033 - val_mean_absolute_error: 0.0033\n",
      "Epoch 9/212\n",
      "30/30 [==============================] - 16s 546ms/step - loss: 0.1058 - Inf_Norm: 0.0029 - mean_absolute_error: 0.0029 - val_loss: 0.1028 - val_Inf_Norm: 0.0033 - val_mean_absolute_error: 0.0033\n",
      "Epoch 10/212\n",
      "30/30 [==============================] - 17s 565ms/step - loss: 0.1001 - Inf_Norm: 0.0030 - mean_absolute_error: 0.0030 - val_loss: 0.0975 - val_Inf_Norm: 0.0033 - val_mean_absolute_error: 0.0033\n",
      "Epoch 11/212\n",
      "30/30 [==============================] - 16s 552ms/step - loss: 0.0951 - Inf_Norm: 0.0030 - mean_absolute_error: 0.0030 - val_loss: 0.0927 - val_Inf_Norm: 0.0033 - val_mean_absolute_error: 0.0033\n",
      "Epoch 12/212\n",
      "30/30 [==============================] - 16s 555ms/step - loss: 0.0905 - Inf_Norm: 0.0028 - mean_absolute_error: 0.0028 - val_loss: 0.0884 - val_Inf_Norm: 0.0033 - val_mean_absolute_error: 0.0033\n",
      "Epoch 13/212\n",
      "30/30 [==============================] - 16s 543ms/step - loss: 0.0864 - Inf_Norm: 0.0029 - mean_absolute_error: 0.0029 - val_loss: 0.0846 - val_Inf_Norm: 0.0033 - val_mean_absolute_error: 0.0033\n",
      "Epoch 14/212\n",
      "30/30 [==============================] - 17s 558ms/step - loss: 0.0827 - Inf_Norm: 0.0031 - mean_absolute_error: 0.0031 - val_loss: 0.0810 - val_Inf_Norm: 0.0033 - val_mean_absolute_error: 0.0033\n",
      "Epoch 15/212\n",
      "30/30 [==============================] - 16s 551ms/step - loss: 0.0793 - Inf_Norm: 0.0030 - mean_absolute_error: 0.0030 - val_loss: 0.0777 - val_Inf_Norm: 0.0033 - val_mean_absolute_error: 0.0033\n",
      "Epoch 16/212\n",
      "30/30 [==============================] - 16s 547ms/step - loss: 0.0762 - Inf_Norm: 0.0031 - mean_absolute_error: 0.0031 - val_loss: 0.0747 - val_Inf_Norm: 0.0033 - val_mean_absolute_error: 0.0033\n",
      "Epoch 17/212\n",
      "30/30 [==============================] - 16s 553ms/step - loss: 0.0732 - Inf_Norm: 0.0026 - mean_absolute_error: 0.0026 - val_loss: 0.0719 - val_Inf_Norm: 0.0033 - val_mean_absolute_error: 0.0033\n",
      "Epoch 18/212\n",
      "30/30 [==============================] - 16s 551ms/step - loss: 0.0705 - Inf_Norm: 0.0030 - mean_absolute_error: 0.0030 - val_loss: 0.0693 - val_Inf_Norm: 0.0033 - val_mean_absolute_error: 0.0033\n",
      "Epoch 19/212\n",
      "30/30 [==============================] - 17s 558ms/step - loss: 0.0680 - Inf_Norm: 0.0029 - mean_absolute_error: 0.0029 - val_loss: 0.0668 - val_Inf_Norm: 0.0033 - val_mean_absolute_error: 0.0033\n",
      "Epoch 20/212\n",
      "30/30 [==============================] - 16s 547ms/step - loss: 0.0656 - Inf_Norm: 0.0030 - mean_absolute_error: 0.0030 - val_loss: 0.0645 - val_Inf_Norm: 0.0033 - val_mean_absolute_error: 0.0033\n",
      "Epoch 21/212\n",
      "30/30 [==============================] - 17s 555ms/step - loss: 0.0633 - Inf_Norm: 0.0028 - mean_absolute_error: 0.0028 - val_loss: 0.0623 - val_Inf_Norm: 0.0033 - val_mean_absolute_error: 0.0033\n",
      "Epoch 22/212\n",
      "30/30 [==============================] - 16s 539ms/step - loss: 0.0612 - Inf_Norm: 0.0030 - mean_absolute_error: 0.0030 - val_loss: 0.0602 - val_Inf_Norm: 0.0033 - val_mean_absolute_error: 0.0033\n",
      "Epoch 23/212\n",
      "30/30 [==============================] - 17s 561ms/step - loss: 0.0592 - Inf_Norm: 0.0029 - mean_absolute_error: 0.0029 - val_loss: 0.0583 - val_Inf_Norm: 0.0033 - val_mean_absolute_error: 0.0033\n",
      "Epoch 24/212\n",
      "30/30 [==============================] - 17s 558ms/step - loss: 0.0574 - Inf_Norm: 0.0032 - mean_absolute_error: 0.0032 - val_loss: 0.0564 - val_Inf_Norm: 0.0033 - val_mean_absolute_error: 0.0033\n",
      "Epoch 25/212\n",
      "30/30 [==============================] - 17s 559ms/step - loss: 0.0555 - Inf_Norm: 0.0030 - mean_absolute_error: 0.0030 - val_loss: 0.0546 - val_Inf_Norm: 0.0033 - val_mean_absolute_error: 0.0033\n",
      "Epoch 26/212\n",
      "30/30 [==============================] - 16s 546ms/step - loss: 0.0538 - Inf_Norm: 0.0030 - mean_absolute_error: 0.0030 - val_loss: 0.0530 - val_Inf_Norm: 0.0033 - val_mean_absolute_error: 0.0033\n",
      "Epoch 27/212\n",
      "30/30 [==============================] - 17s 561ms/step - loss: 0.0520 - Inf_Norm: 0.0026 - mean_absolute_error: 0.0026 - val_loss: 0.0514 - val_Inf_Norm: 0.0033 - val_mean_absolute_error: 0.0033\n",
      "Epoch 28/212\n",
      "30/30 [==============================] - 17s 574ms/step - loss: 0.0507 - Inf_Norm: 0.0033 - mean_absolute_error: 0.0033 - val_loss: 0.0498 - val_Inf_Norm: 0.0033 - val_mean_absolute_error: 0.0033\n",
      "Epoch 29/212\n",
      "30/30 [==============================] - 17s 558ms/step - loss: 0.0491 - Inf_Norm: 0.0030 - mean_absolute_error: 0.0030 - val_loss: 0.0484 - val_Inf_Norm: 0.0033 - val_mean_absolute_error: 0.0033\n",
      "Epoch 30/212\n",
      "30/30 [==============================] - 17s 558ms/step - loss: 0.0477 - Inf_Norm: 0.0030 - mean_absolute_error: 0.0030 - val_loss: 0.0470 - val_Inf_Norm: 0.0033 - val_mean_absolute_error: 0.0033\n",
      "Epoch 31/212\n",
      "30/30 [==============================] - 16s 554ms/step - loss: 0.0462 - Inf_Norm: 0.0028 - mean_absolute_error: 0.0028 - val_loss: 0.0456 - val_Inf_Norm: 0.0033 - val_mean_absolute_error: 0.0033\n",
      "Epoch 32/212\n",
      "30/30 [==============================] - 16s 545ms/step - loss: 0.0449 - Inf_Norm: 0.0028 - mean_absolute_error: 0.0028 - val_loss: 0.0444 - val_Inf_Norm: 0.0033 - val_mean_absolute_error: 0.0033\n",
      "Epoch 33/212\n",
      "30/30 [==============================] - 16s 552ms/step - loss: 0.0439 - Inf_Norm: 0.0033 - mean_absolute_error: 0.0033 - val_loss: 0.0431 - val_Inf_Norm: 0.0033 - val_mean_absolute_error: 0.0033\n",
      "Epoch 34/212\n",
      "30/30 [==============================] - 16s 554ms/step - loss: 0.0426 - Inf_Norm: 0.0031 - mean_absolute_error: 0.0031 - val_loss: 0.0419 - val_Inf_Norm: 0.0033 - val_mean_absolute_error: 0.0033\n",
      "Epoch 35/212\n",
      "30/30 [==============================] - 16s 540ms/step - loss: 0.0413 - Inf_Norm: 0.0030 - mean_absolute_error: 0.0030 - val_loss: 0.0408 - val_Inf_Norm: 0.0033 - val_mean_absolute_error: 0.0033\n",
      "Epoch 36/212\n",
      "30/30 [==============================] - 16s 540ms/step - loss: 0.0402 - Inf_Norm: 0.0031 - mean_absolute_error: 0.0031 - val_loss: 0.0397 - val_Inf_Norm: 0.0033 - val_mean_absolute_error: 0.0033\n",
      "Epoch 37/212\n",
      "30/30 [==============================] - 16s 538ms/step - loss: 0.0392 - Inf_Norm: 0.0031 - mean_absolute_error: 0.0031 - val_loss: 0.0387 - val_Inf_Norm: 0.0033 - val_mean_absolute_error: 0.0033\n",
      "Epoch 38/212\n",
      "30/30 [==============================] - 16s 547ms/step - loss: 0.0381 - Inf_Norm: 0.0030 - mean_absolute_error: 0.0030 - val_loss: 0.0377 - val_Inf_Norm: 0.0033 - val_mean_absolute_error: 0.0033\n",
      "Epoch 39/212\n",
      "30/30 [==============================] - 16s 551ms/step - loss: 0.0372 - Inf_Norm: 0.0029 - mean_absolute_error: 0.0029 - val_loss: 0.0367 - val_Inf_Norm: 0.0033 - val_mean_absolute_error: 0.0033\n",
      "Epoch 40/212\n",
      "30/30 [==============================] - 16s 544ms/step - loss: 0.0361 - Inf_Norm: 0.0027 - mean_absolute_error: 0.0027 - val_loss: 0.0357 - val_Inf_Norm: 0.0033 - val_mean_absolute_error: 0.0033\n",
      "Epoch 41/212\n",
      "30/30 [==============================] - 16s 551ms/step - loss: 0.0354 - Inf_Norm: 0.0032 - mean_absolute_error: 0.0032 - val_loss: 0.0348 - val_Inf_Norm: 0.0033 - val_mean_absolute_error: 0.0033\n",
      "Epoch 42/212\n",
      "30/30 [==============================] - 16s 556ms/step - loss: 0.0343 - Inf_Norm: 0.0030 - mean_absolute_error: 0.0030 - val_loss: 0.0340 - val_Inf_Norm: 0.0033 - val_mean_absolute_error: 0.0033\n",
      "Epoch 43/212\n",
      "30/30 [==============================] - 16s 549ms/step - loss: 0.0335 - Inf_Norm: 0.0029 - mean_absolute_error: 0.0029 - val_loss: 0.0331 - val_Inf_Norm: 0.0033 - val_mean_absolute_error: 0.0033\n",
      "Epoch 44/212\n",
      "30/30 [==============================] - 16s 537ms/step - loss: 0.0327 - Inf_Norm: 0.0031 - mean_absolute_error: 0.0031 - val_loss: 0.0323 - val_Inf_Norm: 0.0033 - val_mean_absolute_error: 0.0033\n",
      "Epoch 45/212\n",
      "30/30 [==============================] - 16s 539ms/step - loss: 0.0320 - Inf_Norm: 0.0033 - mean_absolute_error: 0.0033 - val_loss: 0.0315 - val_Inf_Norm: 0.0033 - val_mean_absolute_error: 0.0033\n",
      "Epoch 46/212\n",
      "30/30 [==============================] - 16s 535ms/step - loss: 0.0312 - Inf_Norm: 0.0031 - mean_absolute_error: 0.0031 - val_loss: 0.0308 - val_Inf_Norm: 0.0033 - val_mean_absolute_error: 0.0033\n",
      "Epoch 47/212\n",
      "30/30 [==============================] - 16s 540ms/step - loss: 0.0304 - Inf_Norm: 0.0032 - mean_absolute_error: 0.0032 - val_loss: 0.0300 - val_Inf_Norm: 0.0033 - val_mean_absolute_error: 0.0033\n",
      "Epoch 48/212\n",
      "30/30 [==============================] - 17s 562ms/step - loss: 0.0296 - Inf_Norm: 0.0031 - mean_absolute_error: 0.0031 - val_loss: 0.0293 - val_Inf_Norm: 0.0033 - val_mean_absolute_error: 0.0033\n",
      "Epoch 49/212\n",
      "30/30 [==============================] - 16s 550ms/step - loss: 0.0290 - Inf_Norm: 0.0033 - mean_absolute_error: 0.0033 - val_loss: 0.0286 - val_Inf_Norm: 0.0033 - val_mean_absolute_error: 0.0033\n",
      "Epoch 50/212\n",
      "25/30 [========================>.....] - ETA: 1s - loss: 0.0282 - Inf_Norm: 0.0027 - mean_absolute_error: 0.0027"
     ]
    }
   ],
   "source": [
    "# Executando a varredura.\n",
    "wandb.agent(sweep_id, train)"
   ]
  },
  {
   "cell_type": "code",
   "execution_count": null,
   "id": "695818ca",
   "metadata": {},
   "outputs": [],
   "source": []
  }
 ],
 "metadata": {
  "kernelspec": {
   "display_name": "Python 3",
   "language": "python",
   "name": "python3"
  },
  "language_info": {
   "codemirror_mode": {
    "name": "ipython",
    "version": 3
   },
   "file_extension": ".py",
   "mimetype": "text/x-python",
   "name": "python",
   "nbconvert_exporter": "python",
   "pygments_lexer": "ipython3",
   "version": "3.8.10"
  },
  "widgets": {
   "application/vnd.jupyter.widget-state+json": {
    "state": {
     "007ea6996c604640897c63d4b99c634d": {
      "model_module": "@jupyter-widgets/base",
      "model_module_version": "1.2.0",
      "model_name": "LayoutModel",
      "state": {}
     },
     "00a28df4acfb4be38aba3eac7e6dd4da": {
      "model_module": "@jupyter-widgets/base",
      "model_module_version": "1.2.0",
      "model_name": "LayoutModel",
      "state": {}
     },
     "00f9458fd7c64909846e22a65ecc4250": {
      "model_module": "@jupyter-widgets/base",
      "model_module_version": "1.2.0",
      "model_name": "LayoutModel",
      "state": {}
     },
     "01f1f3a2bba74e988cbaafdbf8e33417": {
      "model_module": "@jupyter-widgets/controls",
      "model_module_version": "1.5.0",
      "model_name": "FloatProgressModel",
      "state": {
       "layout": "IPY_MODEL_b6ed6e8ee5434cb29def3db5e7056662",
       "max": 1,
       "style": "IPY_MODEL_60c5e6e189524ce4b52e6cc0fbb87985",
       "value": 1
      }
     },
     "03240865953b436c82b35d54ba9ef365": {
      "model_module": "@jupyter-widgets/controls",
      "model_module_version": "1.5.0",
      "model_name": "LabelModel",
      "state": {
       "layout": "IPY_MODEL_dc895c06947f4e4189bd520971899b7a",
       "style": "IPY_MODEL_8819d42495f64d56a926c3ccb8d4539d",
       "value": " 0.07MB of 0.07MB uploaded (0.00MB deduped)\r"
      }
     },
     "045d617a47b74faa9b8c3bff4dc622de": {
      "model_module": "@jupyter-widgets/base",
      "model_module_version": "1.2.0",
      "model_name": "LayoutModel",
      "state": {}
     },
     "048807abd4b740d4856f68a62ff36bf8": {
      "model_module": "@jupyter-widgets/controls",
      "model_module_version": "1.5.0",
      "model_name": "LabelModel",
      "state": {
       "layout": "IPY_MODEL_6bf2fcf4152d4792809c6257a7cca69c",
       "style": "IPY_MODEL_3b8e6ee1f87b4fd58dff6bc2e8e334d0",
       "value": " 0.01MB of 0.01MB uploaded (0.00MB deduped)\r"
      }
     },
     "04dd7ad11e8d407c83f990f8420df83b": {
      "model_module": "@jupyter-widgets/controls",
      "model_module_version": "1.5.0",
      "model_name": "FloatProgressModel",
      "state": {
       "layout": "IPY_MODEL_7da9770cce104222908f53f613bc61e5",
       "max": 1,
       "style": "IPY_MODEL_0dee2c962b4d483c9aaf902d245837d0",
       "value": 1
      }
     },
     "0543c75cc3f84ef5bc395e57c690dc25": {
      "model_module": "@jupyter-widgets/base",
      "model_module_version": "1.2.0",
      "model_name": "LayoutModel",
      "state": {}
     },
     "06b39dd06d5741fe8cc7d623b15ad67e": {
      "model_module": "@jupyter-widgets/base",
      "model_module_version": "1.2.0",
      "model_name": "LayoutModel",
      "state": {}
     },
     "087e4885f76546c3b9e028582f3dd3f4": {
      "model_module": "@jupyter-widgets/controls",
      "model_module_version": "1.5.0",
      "model_name": "FloatProgressModel",
      "state": {
       "layout": "IPY_MODEL_bad0e78f794b48d2a4c6318692465916",
       "max": 1,
       "style": "IPY_MODEL_c2757533fdbc4417a6170cf371388b16",
       "value": 1
      }
     },
     "09b7eaad78dc4597872fe759dfb54de5": {
      "model_module": "@jupyter-widgets/controls",
      "model_module_version": "1.5.0",
      "model_name": "FloatProgressModel",
      "state": {
       "layout": "IPY_MODEL_9e034809d7c44493a115f8efbe7afacf",
       "max": 1,
       "style": "IPY_MODEL_ab97907558f44105a9e8ce9a020b2d79",
       "value": 1
      }
     },
     "09f90ff5801a483480a5d06eececb829": {
      "model_module": "@jupyter-widgets/controls",
      "model_module_version": "1.5.0",
      "model_name": "ProgressStyleModel",
      "state": {
       "description_width": ""
      }
     },
     "0a84e3c5978e4e028e3664f96645206b": {
      "model_module": "@jupyter-widgets/controls",
      "model_module_version": "1.5.0",
      "model_name": "FloatProgressModel",
      "state": {
       "layout": "IPY_MODEL_a4af88f2b59a4eb1b9cd7c524321eeb4",
       "max": 1,
       "style": "IPY_MODEL_6b1a736087b642449abdad5e8e7b31f0",
       "value": 1
      }
     },
     "0bbec9a1aab34e2e8eab11f1b6ac8337": {
      "model_module": "@jupyter-widgets/base",
      "model_module_version": "1.2.0",
      "model_name": "LayoutModel",
      "state": {}
     },
     "0beb95ca25374adba1dceb2bd380e0fa": {
      "model_module": "@jupyter-widgets/controls",
      "model_module_version": "1.5.0",
      "model_name": "LabelModel",
      "state": {
       "layout": "IPY_MODEL_5eca39ab76054856b7d3b8a834cdd000",
       "style": "IPY_MODEL_51ff074ffe3a45da955d09a79fa36fc0",
       "value": " 0.01MB of 0.01MB uploaded (0.00MB deduped)\r"
      }
     },
     "0bfd2dfd201d418ca3fdf758b43c861f": {
      "model_module": "@jupyter-widgets/controls",
      "model_module_version": "1.5.0",
      "model_name": "DescriptionStyleModel",
      "state": {
       "description_width": ""
      }
     },
     "0c84647b28fe48caacfe55d254523abd": {
      "model_module": "@jupyter-widgets/base",
      "model_module_version": "1.2.0",
      "model_name": "LayoutModel",
      "state": {}
     },
     "0d2182030f6c459ab85e2dce8bb3549a": {
      "model_module": "@jupyter-widgets/controls",
      "model_module_version": "1.5.0",
      "model_name": "ProgressStyleModel",
      "state": {
       "description_width": ""
      }
     },
     "0dee2c962b4d483c9aaf902d245837d0": {
      "model_module": "@jupyter-widgets/controls",
      "model_module_version": "1.5.0",
      "model_name": "ProgressStyleModel",
      "state": {
       "description_width": ""
      }
     },
     "0e8faee151174c779a50e765577cd650": {
      "model_module": "@jupyter-widgets/base",
      "model_module_version": "1.2.0",
      "model_name": "LayoutModel",
      "state": {}
     },
     "0f06e725a6ad4d3aab8c9ef82e869605": {
      "model_module": "@jupyter-widgets/controls",
      "model_module_version": "1.5.0",
      "model_name": "ProgressStyleModel",
      "state": {
       "description_width": ""
      }
     },
     "0f8815bb1bde4446974fe00e9f047de2": {
      "model_module": "@jupyter-widgets/controls",
      "model_module_version": "1.5.0",
      "model_name": "DescriptionStyleModel",
      "state": {
       "description_width": ""
      }
     },
     "0fd73cce33e54b0cb63f495d4f42f32c": {
      "model_module": "@jupyter-widgets/controls",
      "model_module_version": "1.5.0",
      "model_name": "LabelModel",
      "state": {
       "layout": "IPY_MODEL_e7d04845b6a34518a2514a6abee13aac",
       "style": "IPY_MODEL_a123187812174d4481cc3f361740c87d"
      }
     },
     "0fd78d663611403e8b03d245987173b2": {
      "model_module": "@jupyter-widgets/controls",
      "model_module_version": "1.5.0",
      "model_name": "DescriptionStyleModel",
      "state": {
       "description_width": ""
      }
     },
     "107d1c92900a4b8db255ec94863c68c7": {
      "model_module": "@jupyter-widgets/base",
      "model_module_version": "1.2.0",
      "model_name": "LayoutModel",
      "state": {}
     },
     "10cc524fc9c04ca7b60e59a560a491aa": {
      "model_module": "@jupyter-widgets/controls",
      "model_module_version": "1.5.0",
      "model_name": "DescriptionStyleModel",
      "state": {
       "description_width": ""
      }
     },
     "126415d679de408da01595972a37f994": {
      "model_module": "@jupyter-widgets/base",
      "model_module_version": "1.2.0",
      "model_name": "LayoutModel",
      "state": {}
     },
     "12c5d9c5328b4465b86175dbd8f5ed87": {
      "model_module": "@jupyter-widgets/base",
      "model_module_version": "1.2.0",
      "model_name": "LayoutModel",
      "state": {}
     },
     "12dee58ca2984a76a0de1bc3432cf92b": {
      "model_module": "@jupyter-widgets/base",
      "model_module_version": "1.2.0",
      "model_name": "LayoutModel",
      "state": {}
     },
     "12e68db399774ee4bd1c0e687ce778f1": {
      "model_module": "@jupyter-widgets/controls",
      "model_module_version": "1.5.0",
      "model_name": "DescriptionStyleModel",
      "state": {
       "description_width": ""
      }
     },
     "13a90bf7ac4a40e39b8900050d870286": {
      "model_module": "@jupyter-widgets/controls",
      "model_module_version": "1.5.0",
      "model_name": "DescriptionStyleModel",
      "state": {
       "description_width": ""
      }
     },
     "155f3f28ee2949b0a7f515861500efe2": {
      "model_module": "@jupyter-widgets/base",
      "model_module_version": "1.2.0",
      "model_name": "LayoutModel",
      "state": {}
     },
     "15c3edcc58414b598ffac76e229f8751": {
      "model_module": "@jupyter-widgets/base",
      "model_module_version": "1.2.0",
      "model_name": "LayoutModel",
      "state": {}
     },
     "168b5c55f0f94e89b3efa0713a4b9290": {
      "model_module": "@jupyter-widgets/controls",
      "model_module_version": "1.5.0",
      "model_name": "LabelModel",
      "state": {
       "layout": "IPY_MODEL_688f35c6be1f4b6797d33747fb6174ab",
       "style": "IPY_MODEL_936b54fb344543f3973e9ba90c61eb15",
       "value": " 0.02MB of 0.02MB uploaded (0.00MB deduped)\r"
      }
     },
     "178c3a74a3dc4e14ac948b03e037993e": {
      "model_module": "@jupyter-widgets/base",
      "model_module_version": "1.2.0",
      "model_name": "LayoutModel",
      "state": {}
     },
     "184eaba4e9234041ad0354d5641f4cf1": {
      "model_module": "@jupyter-widgets/controls",
      "model_module_version": "1.5.0",
      "model_name": "DescriptionStyleModel",
      "state": {
       "description_width": ""
      }
     },
     "18e244f7fbe0462dbf2c05fd5b4ff0bb": {
      "model_module": "@jupyter-widgets/base",
      "model_module_version": "1.2.0",
      "model_name": "LayoutModel",
      "state": {}
     },
     "195cc00e5d224ae5b352f1c693e90989": {
      "model_module": "@jupyter-widgets/controls",
      "model_module_version": "1.5.0",
      "model_name": "ProgressStyleModel",
      "state": {
       "description_width": ""
      }
     },
     "1a13d7f928724e829b5929704f54f6ee": {
      "model_module": "@jupyter-widgets/controls",
      "model_module_version": "1.5.0",
      "model_name": "ProgressStyleModel",
      "state": {
       "description_width": ""
      }
     },
     "1a33facd251048af87b47b7ab96638cd": {
      "model_module": "@jupyter-widgets/base",
      "model_module_version": "1.2.0",
      "model_name": "LayoutModel",
      "state": {}
     },
     "1a7350067d6f4d9392ebdc6c07c82cb7": {
      "model_module": "@jupyter-widgets/controls",
      "model_module_version": "1.5.0",
      "model_name": "DescriptionStyleModel",
      "state": {
       "description_width": ""
      }
     },
     "1c32e20af9f74909b7d4ddad815a3453": {
      "model_module": "@jupyter-widgets/controls",
      "model_module_version": "1.5.0",
      "model_name": "DescriptionStyleModel",
      "state": {
       "description_width": ""
      }
     },
     "1c5d5dee4af04ac280abff5e62c18bb1": {
      "model_module": "@jupyter-widgets/base",
      "model_module_version": "1.2.0",
      "model_name": "LayoutModel",
      "state": {}
     },
     "1dafc4f8dbf9467ebf49ff677f989dd1": {
      "model_module": "@jupyter-widgets/base",
      "model_module_version": "1.2.0",
      "model_name": "LayoutModel",
      "state": {}
     },
     "1e0c334a6fb74938898adbfc092ded81": {
      "model_module": "@jupyter-widgets/controls",
      "model_module_version": "1.5.0",
      "model_name": "DescriptionStyleModel",
      "state": {
       "description_width": ""
      }
     },
     "1f1bb0eae04a46d4982c2f52650e72a3": {
      "model_module": "@jupyter-widgets/controls",
      "model_module_version": "1.5.0",
      "model_name": "ProgressStyleModel",
      "state": {
       "description_width": ""
      }
     },
     "208a32a3fffe4e86b0e30097d3f23ccd": {
      "model_module": "@jupyter-widgets/controls",
      "model_module_version": "1.5.0",
      "model_name": "LabelModel",
      "state": {
       "layout": "IPY_MODEL_67f614f99412474496d7f2749759909e",
       "style": "IPY_MODEL_1c32e20af9f74909b7d4ddad815a3453",
       "value": " 0.01MB of 0.01MB uploaded (0.00MB deduped)\r"
      }
     },
     "2185193bdbaf4fea8cbf7d2cb8434879": {
      "model_module": "@jupyter-widgets/controls",
      "model_module_version": "1.5.0",
      "model_name": "LabelModel",
      "state": {
       "layout": "IPY_MODEL_db45c18752004012a0eef96495739851",
       "style": "IPY_MODEL_a674ceb6faf8409682ae6485fb51eeac",
       "value": " 0.02MB of 0.02MB uploaded (0.00MB deduped)\r"
      }
     },
     "242a60513c484385a2c4d7fafbeb8602": {
      "model_module": "@jupyter-widgets/controls",
      "model_module_version": "1.5.0",
      "model_name": "ProgressStyleModel",
      "state": {
       "description_width": ""
      }
     },
     "247bbbf7c9114dca82a06a7443dc546c": {
      "model_module": "@jupyter-widgets/base",
      "model_module_version": "1.2.0",
      "model_name": "LayoutModel",
      "state": {}
     },
     "24a3fe3fe7fb42d99bc23afdc7c8be05": {
      "model_module": "@jupyter-widgets/base",
      "model_module_version": "1.2.0",
      "model_name": "LayoutModel",
      "state": {}
     },
     "24b0edf0914e4990a1c20def8f412f4b": {
      "model_module": "@jupyter-widgets/base",
      "model_module_version": "1.2.0",
      "model_name": "LayoutModel",
      "state": {}
     },
     "24f3b7636df94f7aaaab8de8f490bb6c": {
      "model_module": "@jupyter-widgets/controls",
      "model_module_version": "1.5.0",
      "model_name": "ProgressStyleModel",
      "state": {
       "description_width": ""
      }
     },
     "267d14267c214b2fa68c7ed4019750eb": {
      "model_module": "@jupyter-widgets/base",
      "model_module_version": "1.2.0",
      "model_name": "LayoutModel",
      "state": {}
     },
     "2694fe170e6d46c1bf856d07c4f6e378": {
      "model_module": "@jupyter-widgets/base",
      "model_module_version": "1.2.0",
      "model_name": "LayoutModel",
      "state": {}
     },
     "27112c77df6a446583911ea676b1741c": {
      "model_module": "@jupyter-widgets/controls",
      "model_module_version": "1.5.0",
      "model_name": "LabelModel",
      "state": {
       "layout": "IPY_MODEL_12dee58ca2984a76a0de1bc3432cf92b",
       "style": "IPY_MODEL_b3924842c03a416eae08ed058115a244",
       "value": " 0.01MB of 0.01MB uploaded (0.00MB deduped)\r"
      }
     },
     "27ab4d43af2440ac812582d9c76e0043": {
      "model_module": "@jupyter-widgets/base",
      "model_module_version": "1.2.0",
      "model_name": "LayoutModel",
      "state": {}
     },
     "2848b7b57c6d4a9f98a7ee38c06bcfa4": {
      "model_module": "@jupyter-widgets/controls",
      "model_module_version": "1.5.0",
      "model_name": "ProgressStyleModel",
      "state": {
       "description_width": ""
      }
     },
     "29cb56184ab3465e821b0ae7843fad20": {
      "model_module": "@jupyter-widgets/base",
      "model_module_version": "1.2.0",
      "model_name": "LayoutModel",
      "state": {}
     },
     "2b63b0c271ab4314b667773167fad08c": {
      "model_module": "@jupyter-widgets/controls",
      "model_module_version": "1.5.0",
      "model_name": "LabelModel",
      "state": {
       "layout": "IPY_MODEL_5858a5ffe7ea4ca58c0156e3825adfd7",
       "style": "IPY_MODEL_184eaba4e9234041ad0354d5641f4cf1",
       "value": " 0.03MB of 0.03MB uploaded (0.00MB deduped)\r"
      }
     },
     "2b7ee0c10a294dca9d131f46b7e3cf4c": {
      "model_module": "@jupyter-widgets/controls",
      "model_module_version": "1.5.0",
      "model_name": "ProgressStyleModel",
      "state": {
       "description_width": ""
      }
     },
     "2dc6e5d7edc649d18192b1f4d5d3cee8": {
      "model_module": "@jupyter-widgets/controls",
      "model_module_version": "1.5.0",
      "model_name": "ProgressStyleModel",
      "state": {
       "description_width": ""
      }
     },
     "2e0455e8202b41df84109214fb19ae5e": {
      "model_module": "@jupyter-widgets/base",
      "model_module_version": "1.2.0",
      "model_name": "LayoutModel",
      "state": {}
     },
     "2ea9ec25101244f2b17a25e979ad4cb9": {
      "model_module": "@jupyter-widgets/base",
      "model_module_version": "1.2.0",
      "model_name": "LayoutModel",
      "state": {}
     },
     "2ee45131a1df44db86dc2ca6a9a9033f": {
      "model_module": "@jupyter-widgets/controls",
      "model_module_version": "1.5.0",
      "model_name": "DescriptionStyleModel",
      "state": {
       "description_width": ""
      }
     },
     "2ef1ec0e2c9343eba4897f77b1c860c6": {
      "model_module": "@jupyter-widgets/controls",
      "model_module_version": "1.5.0",
      "model_name": "ProgressStyleModel",
      "state": {
       "description_width": ""
      }
     },
     "2f21e2d655bd40ccb0746def142e1cf6": {
      "model_module": "@jupyter-widgets/controls",
      "model_module_version": "1.5.0",
      "model_name": "ProgressStyleModel",
      "state": {
       "description_width": ""
      }
     },
     "307aca80122f4a6c8f516a25fd338077": {
      "model_module": "@jupyter-widgets/controls",
      "model_module_version": "1.5.0",
      "model_name": "ProgressStyleModel",
      "state": {
       "description_width": ""
      }
     },
     "30994045e6d94975aef9806a757124d7": {
      "model_module": "@jupyter-widgets/base",
      "model_module_version": "1.2.0",
      "model_name": "LayoutModel",
      "state": {}
     },
     "31af239e310142b4a1110e1321ac2c2e": {
      "model_module": "@jupyter-widgets/controls",
      "model_module_version": "1.5.0",
      "model_name": "FloatProgressModel",
      "state": {
       "layout": "IPY_MODEL_045d617a47b74faa9b8c3bff4dc622de",
       "max": 1,
       "style": "IPY_MODEL_2b7ee0c10a294dca9d131f46b7e3cf4c",
       "value": 1
      }
     },
     "326e2cbf9b0f47cd9051b70e6e3e3cf8": {
      "model_module": "@jupyter-widgets/base",
      "model_module_version": "1.2.0",
      "model_name": "LayoutModel",
      "state": {}
     },
     "33175f2174d040dfb71075446f8a5451": {
      "model_module": "@jupyter-widgets/base",
      "model_module_version": "1.2.0",
      "model_name": "LayoutModel",
      "state": {}
     },
     "3352d008cc2843b3a096fbc90b40cf7c": {
      "model_module": "@jupyter-widgets/controls",
      "model_module_version": "1.5.0",
      "model_name": "ProgressStyleModel",
      "state": {
       "description_width": ""
      }
     },
     "338ad67853f04ad799e6b405bf985dfa": {
      "model_module": "@jupyter-widgets/base",
      "model_module_version": "1.2.0",
      "model_name": "LayoutModel",
      "state": {}
     },
     "33bc5af4a3cb4fa98cd776d3449eed35": {
      "model_module": "@jupyter-widgets/controls",
      "model_module_version": "1.5.0",
      "model_name": "DescriptionStyleModel",
      "state": {
       "description_width": ""
      }
     },
     "33ca3c55f00c4704b8c1fd47f753f458": {
      "model_module": "@jupyter-widgets/controls",
      "model_module_version": "1.5.0",
      "model_name": "LabelModel",
      "state": {
       "layout": "IPY_MODEL_bff4a7c8885d455b8e24193c9f50796a",
       "style": "IPY_MODEL_fedf8c5211e441b585f20a7e106d409f",
       "value": " 0.06MB of 0.06MB uploaded (0.00MB deduped)\r"
      }
     },
     "33ef6eb828d94fd5b52f0a318e3caa32": {
      "model_module": "@jupyter-widgets/controls",
      "model_module_version": "1.5.0",
      "model_name": "FloatProgressModel",
      "state": {
       "layout": "IPY_MODEL_107d1c92900a4b8db255ec94863c68c7",
       "max": 1,
       "style": "IPY_MODEL_3487c136c0e447c696a27aaaf146d3ec",
       "value": 1
      }
     },
     "3487c136c0e447c696a27aaaf146d3ec": {
      "model_module": "@jupyter-widgets/controls",
      "model_module_version": "1.5.0",
      "model_name": "ProgressStyleModel",
      "state": {
       "description_width": ""
      }
     },
     "34af2df5af0843cabd9d3879fb23c37b": {
      "model_module": "@jupyter-widgets/base",
      "model_module_version": "1.2.0",
      "model_name": "LayoutModel",
      "state": {}
     },
     "360b5dad775a4070b6ebbf75c86dfa67": {
      "model_module": "@jupyter-widgets/base",
      "model_module_version": "1.2.0",
      "model_name": "LayoutModel",
      "state": {}
     },
     "36be50a8818f452ab7f37d52b59a6ad4": {
      "model_module": "@jupyter-widgets/base",
      "model_module_version": "1.2.0",
      "model_name": "LayoutModel",
      "state": {}
     },
     "37a91c957d2d45798baa42f155cc4e7e": {
      "model_module": "@jupyter-widgets/controls",
      "model_module_version": "1.5.0",
      "model_name": "ProgressStyleModel",
      "state": {
       "description_width": ""
      }
     },
     "38dfdbcdfa6b4c1ca997159ff6039146": {
      "model_module": "@jupyter-widgets/base",
      "model_module_version": "1.2.0",
      "model_name": "LayoutModel",
      "state": {}
     },
     "39189cca0c6543f3ae959680c353fa42": {
      "model_module": "@jupyter-widgets/base",
      "model_module_version": "1.2.0",
      "model_name": "LayoutModel",
      "state": {}
     },
     "3a8d8f36e47e468e898b551fc293757a": {
      "model_module": "@jupyter-widgets/controls",
      "model_module_version": "1.5.0",
      "model_name": "LabelModel",
      "state": {
       "layout": "IPY_MODEL_555b764e8fe24c92a54c47630ffcbc92",
       "style": "IPY_MODEL_593eab4a5e104f539134d25c27fbd076",
       "value": " 0.01MB of 0.01MB uploaded (0.00MB deduped)\r"
      }
     },
     "3b76a6e9661e4fd48c8f12c0ef6d095a": {
      "model_module": "@jupyter-widgets/base",
      "model_module_version": "1.2.0",
      "model_name": "LayoutModel",
      "state": {}
     },
     "3b8e6ee1f87b4fd58dff6bc2e8e334d0": {
      "model_module": "@jupyter-widgets/controls",
      "model_module_version": "1.5.0",
      "model_name": "DescriptionStyleModel",
      "state": {
       "description_width": ""
      }
     },
     "3ec8083c107b4045aeb8bbecdc63db38": {
      "model_module": "@jupyter-widgets/controls",
      "model_module_version": "1.5.0",
      "model_name": "FloatProgressModel",
      "state": {
       "layout": "IPY_MODEL_34af2df5af0843cabd9d3879fb23c37b",
       "max": 1,
       "style": "IPY_MODEL_e517c29ca3ac4fffa75c34cf6691a267",
       "value": 1
      }
     },
     "3ec915a1c8164feeb3f6c127cd519c66": {
      "model_module": "@jupyter-widgets/base",
      "model_module_version": "1.2.0",
      "model_name": "LayoutModel",
      "state": {}
     },
     "4064d50177254c74823f88fe6c7f0503": {
      "model_module": "@jupyter-widgets/controls",
      "model_module_version": "1.5.0",
      "model_name": "LabelModel",
      "state": {
       "layout": "IPY_MODEL_cf472b2dfa93460c8a4ae86747f7c4e1",
       "style": "IPY_MODEL_7652981aecc549f99c5047e61693987a",
       "value": " 0.20MB of 0.20MB uploaded (0.00MB deduped)\r"
      }
     },
     "40d11402ed5f48e7a4affd36b85128f1": {
      "model_module": "@jupyter-widgets/controls",
      "model_module_version": "1.5.0",
      "model_name": "FloatProgressModel",
      "state": {
       "layout": "IPY_MODEL_dc02884c1cbd42d6b7a446f721a6a62a",
       "max": 1,
       "style": "IPY_MODEL_2ef1ec0e2c9343eba4897f77b1c860c6",
       "value": 1
      }
     },
     "418b4fb7fb56410ea56dcbf6da8eb19c": {
      "model_module": "@jupyter-widgets/controls",
      "model_module_version": "1.5.0",
      "model_name": "LabelModel",
      "state": {
       "layout": "IPY_MODEL_7beb2d6de6d048478b3bc92d22a8f5fe",
       "style": "IPY_MODEL_bb3fbd6f1d024a68a045d062abaafe98",
       "value": " 0.10MB of 0.10MB uploaded (0.00MB deduped)\r"
      }
     },
     "41bae123dce6461b8a61cdfe5f67805d": {
      "model_module": "@jupyter-widgets/base",
      "model_module_version": "1.2.0",
      "model_name": "LayoutModel",
      "state": {}
     },
     "43080b96162e4ae691ad9bd307054528": {
      "model_module": "@jupyter-widgets/base",
      "model_module_version": "1.2.0",
      "model_name": "LayoutModel",
      "state": {}
     },
     "4327f1feced845ddab24fad1788ef3a3": {
      "model_module": "@jupyter-widgets/base",
      "model_module_version": "1.2.0",
      "model_name": "LayoutModel",
      "state": {}
     },
     "434188b995ca475280f1d0229cbe0634": {
      "model_module": "@jupyter-widgets/controls",
      "model_module_version": "1.5.0",
      "model_name": "DescriptionStyleModel",
      "state": {
       "description_width": ""
      }
     },
     "4483482a10bb4444acff86cd7052eb6d": {
      "model_module": "@jupyter-widgets/controls",
      "model_module_version": "1.5.0",
      "model_name": "ProgressStyleModel",
      "state": {
       "description_width": ""
      }
     },
     "4788188720a74334910193f1bf7b9c85": {
      "model_module": "@jupyter-widgets/base",
      "model_module_version": "1.2.0",
      "model_name": "LayoutModel",
      "state": {}
     },
     "482e6a2a6992447bb90d82ff77b190b1": {
      "model_module": "@jupyter-widgets/controls",
      "model_module_version": "1.5.0",
      "model_name": "ProgressStyleModel",
      "state": {
       "description_width": ""
      }
     },
     "48323a4a07564133a76dc741b7c125b9": {
      "model_module": "@jupyter-widgets/base",
      "model_module_version": "1.2.0",
      "model_name": "LayoutModel",
      "state": {}
     },
     "48e26f1c2a5848ca8fc3d01f31c3d786": {
      "model_module": "@jupyter-widgets/base",
      "model_module_version": "1.2.0",
      "model_name": "LayoutModel",
      "state": {}
     },
     "49d082c0f4494744a5714c3b3225c308": {
      "model_module": "@jupyter-widgets/base",
      "model_module_version": "1.2.0",
      "model_name": "LayoutModel",
      "state": {}
     },
     "4bc19f9dd09c4d7e8f0468e46153a03d": {
      "model_module": "@jupyter-widgets/base",
      "model_module_version": "1.2.0",
      "model_name": "LayoutModel",
      "state": {}
     },
     "4c1b0ed896094933894c8f398d3151cd": {
      "model_module": "@jupyter-widgets/controls",
      "model_module_version": "1.5.0",
      "model_name": "LabelModel",
      "state": {
       "layout": "IPY_MODEL_0543c75cc3f84ef5bc395e57c690dc25",
       "style": "IPY_MODEL_b675adbc66d948aab5c025926652b8f1",
       "value": " 0.21MB of 0.21MB uploaded (0.00MB deduped)\r"
      }
     },
     "4c6c5112a8604e549ff3b943f63d25eb": {
      "model_module": "@jupyter-widgets/base",
      "model_module_version": "1.2.0",
      "model_name": "LayoutModel",
      "state": {}
     },
     "4e314e469fad47969da6ed9b4efd96e1": {
      "model_module": "@jupyter-widgets/base",
      "model_module_version": "1.2.0",
      "model_name": "LayoutModel",
      "state": {}
     },
     "51ff074ffe3a45da955d09a79fa36fc0": {
      "model_module": "@jupyter-widgets/controls",
      "model_module_version": "1.5.0",
      "model_name": "DescriptionStyleModel",
      "state": {
       "description_width": ""
      }
     },
     "5202ca8a220941b481d15e0a054011ac": {
      "model_module": "@jupyter-widgets/base",
      "model_module_version": "1.2.0",
      "model_name": "LayoutModel",
      "state": {}
     },
     "5209c156977f4900b2bd24a9db86f40d": {
      "model_module": "@jupyter-widgets/controls",
      "model_module_version": "1.5.0",
      "model_name": "DescriptionStyleModel",
      "state": {
       "description_width": ""
      }
     },
     "52805968d7ee43a3af3b431cd48555a4": {
      "model_module": "@jupyter-widgets/base",
      "model_module_version": "1.2.0",
      "model_name": "LayoutModel",
      "state": {}
     },
     "529175050a6442d7ba5eda79784779aa": {
      "model_module": "@jupyter-widgets/controls",
      "model_module_version": "1.5.0",
      "model_name": "LabelModel",
      "state": {
       "layout": "IPY_MODEL_c3066743f72e43ed91cc5fa52ba6579c",
       "style": "IPY_MODEL_1a7350067d6f4d9392ebdc6c07c82cb7",
       "value": " 0.02MB of 0.02MB uploaded (0.00MB deduped)\r"
      }
     },
     "52f4e187d90e40b08632e4ed3dd7e487": {
      "model_module": "@jupyter-widgets/controls",
      "model_module_version": "1.5.0",
      "model_name": "DescriptionStyleModel",
      "state": {
       "description_width": ""
      }
     },
     "53dff7fe86bf4f6a862552a985a4d5c5": {
      "model_module": "@jupyter-widgets/controls",
      "model_module_version": "1.5.0",
      "model_name": "DescriptionStyleModel",
      "state": {
       "description_width": ""
      }
     },
     "551b4d1740674398aa80bb1fb4fe7fd5": {
      "model_module": "@jupyter-widgets/base",
      "model_module_version": "1.2.0",
      "model_name": "LayoutModel",
      "state": {}
     },
     "553266c5cbfb4d7c97bdd090fa6e2316": {
      "model_module": "@jupyter-widgets/base",
      "model_module_version": "1.2.0",
      "model_name": "LayoutModel",
      "state": {}
     },
     "555b764e8fe24c92a54c47630ffcbc92": {
      "model_module": "@jupyter-widgets/base",
      "model_module_version": "1.2.0",
      "model_name": "LayoutModel",
      "state": {}
     },
     "5630790188f343c6917ba3866ee2079d": {
      "model_module": "@jupyter-widgets/controls",
      "model_module_version": "1.5.0",
      "model_name": "DescriptionStyleModel",
      "state": {
       "description_width": ""
      }
     },
     "56541d7f52f14f3187ddcccc573ff904": {
      "model_module": "@jupyter-widgets/controls",
      "model_module_version": "1.5.0",
      "model_name": "FloatProgressModel",
      "state": {
       "layout": "IPY_MODEL_267d14267c214b2fa68c7ed4019750eb",
       "max": 1,
       "style": "IPY_MODEL_cbba4b392cd9477ba5b23e71a25b2c49",
       "value": 1
      }
     },
     "58512d44eb9c4b4babbe50c8d052308e": {
      "model_module": "@jupyter-widgets/base",
      "model_module_version": "1.2.0",
      "model_name": "LayoutModel",
      "state": {}
     },
     "5858a5ffe7ea4ca58c0156e3825adfd7": {
      "model_module": "@jupyter-widgets/base",
      "model_module_version": "1.2.0",
      "model_name": "LayoutModel",
      "state": {}
     },
     "58ba6164dab04c53a62e30f98f4a11ad": {
      "model_module": "@jupyter-widgets/controls",
      "model_module_version": "1.5.0",
      "model_name": "ProgressStyleModel",
      "state": {
       "description_width": ""
      }
     },
     "58c09494a9484c109e7567ec7343305f": {
      "model_module": "@jupyter-widgets/controls",
      "model_module_version": "1.5.0",
      "model_name": "FloatProgressModel",
      "state": {
       "layout": "IPY_MODEL_d5d1c55f78cf4c1cb7bce459ce308e31",
       "max": 1,
       "style": "IPY_MODEL_2dc6e5d7edc649d18192b1f4d5d3cee8",
       "value": 1
      }
     },
     "593eab4a5e104f539134d25c27fbd076": {
      "model_module": "@jupyter-widgets/controls",
      "model_module_version": "1.5.0",
      "model_name": "DescriptionStyleModel",
      "state": {
       "description_width": ""
      }
     },
     "5974ed98cde44d1cae93a6ad32355bf8": {
      "model_module": "@jupyter-widgets/base",
      "model_module_version": "1.2.0",
      "model_name": "LayoutModel",
      "state": {}
     },
     "5981dcf052b14cb5815f1acda8596a36": {
      "model_module": "@jupyter-widgets/base",
      "model_module_version": "1.2.0",
      "model_name": "LayoutModel",
      "state": {}
     },
     "5adee476223740e5a5f29a438a69055c": {
      "model_module": "@jupyter-widgets/base",
      "model_module_version": "1.2.0",
      "model_name": "LayoutModel",
      "state": {}
     },
     "5be8b615713e4721994f16ad6c6748b5": {
      "model_module": "@jupyter-widgets/controls",
      "model_module_version": "1.5.0",
      "model_name": "FloatProgressModel",
      "state": {
       "layout": "IPY_MODEL_41bae123dce6461b8a61cdfe5f67805d",
       "max": 1,
       "style": "IPY_MODEL_f740821d2dc54ab8a3a233e3cbb689e7",
       "value": 1
      }
     },
     "5c1d6da9d73744a19de613359abc86a1": {
      "model_module": "@jupyter-widgets/controls",
      "model_module_version": "1.5.0",
      "model_name": "LabelModel",
      "state": {
       "layout": "IPY_MODEL_74e5b6046fab435daea4e4b98c77adfb",
       "style": "IPY_MODEL_0fd78d663611403e8b03d245987173b2",
       "value": " 0.08MB of 0.08MB uploaded (0.00MB deduped)\r"
      }
     },
     "5c4fd76b002649eb9e42023c1f7a3f5e": {
      "model_module": "@jupyter-widgets/controls",
      "model_module_version": "1.5.0",
      "model_name": "ProgressStyleModel",
      "state": {
       "description_width": ""
      }
     },
     "5da7d6ed2a1443b2b2c355408553c317": {
      "model_module": "@jupyter-widgets/controls",
      "model_module_version": "1.5.0",
      "model_name": "FloatProgressModel",
      "state": {
       "layout": "IPY_MODEL_0e8faee151174c779a50e765577cd650",
       "max": 1,
       "style": "IPY_MODEL_2f21e2d655bd40ccb0746def142e1cf6",
       "value": 1
      }
     },
     "5e8ec69650024b41a405849082fb467d": {
      "model_module": "@jupyter-widgets/controls",
      "model_module_version": "1.5.0",
      "model_name": "DescriptionStyleModel",
      "state": {
       "description_width": ""
      }
     },
     "5eb9d6328ae446d7ba2456cd140f79b4": {
      "model_module": "@jupyter-widgets/controls",
      "model_module_version": "1.5.0",
      "model_name": "LabelModel",
      "state": {
       "layout": "IPY_MODEL_7c2cf03ebb4743e8800cf85c77608987",
       "style": "IPY_MODEL_10cc524fc9c04ca7b60e59a560a491aa",
       "value": " 0.01MB of 0.01MB uploaded (0.00MB deduped)\r"
      }
     },
     "5eca39ab76054856b7d3b8a834cdd000": {
      "model_module": "@jupyter-widgets/base",
      "model_module_version": "1.2.0",
      "model_name": "LayoutModel",
      "state": {}
     },
     "5ee051f2ac5e451eba854f8c37c2dd40": {
      "model_module": "@jupyter-widgets/base",
      "model_module_version": "1.2.0",
      "model_name": "LayoutModel",
      "state": {}
     },
     "6035f4524dd94e7bb4c628358dde01f8": {
      "model_module": "@jupyter-widgets/base",
      "model_module_version": "1.2.0",
      "model_name": "LayoutModel",
      "state": {}
     },
     "60c5e6e189524ce4b52e6cc0fbb87985": {
      "model_module": "@jupyter-widgets/controls",
      "model_module_version": "1.5.0",
      "model_name": "ProgressStyleModel",
      "state": {
       "description_width": ""
      }
     },
     "6142be8583d64d08bf1e406ebae699f0": {
      "model_module": "@jupyter-widgets/base",
      "model_module_version": "1.2.0",
      "model_name": "LayoutModel",
      "state": {}
     },
     "6246f8b4bc8547828f2fc7788c138e3e": {
      "model_module": "@jupyter-widgets/controls",
      "model_module_version": "1.5.0",
      "model_name": "LabelModel",
      "state": {
       "layout": "IPY_MODEL_155f3f28ee2949b0a7f515861500efe2",
       "style": "IPY_MODEL_5630790188f343c6917ba3866ee2079d",
       "value": " 0.01MB of 0.01MB uploaded (0.00MB deduped)\r"
      }
     },
     "62512f55038c46f58c092db710e649f4": {
      "model_module": "@jupyter-widgets/controls",
      "model_module_version": "1.5.0",
      "model_name": "LabelModel",
      "state": {
       "layout": "IPY_MODEL_cecaa4fc7cf6444da26a840b66dbe13f",
       "style": "IPY_MODEL_c84ba48d8b734990b1c3650c3482f2ed",
       "value": " 0.01MB of 0.01MB uploaded (0.00MB deduped)\r"
      }
     },
     "62dbe033b12d40d0b3377a59f2812e5c": {
      "model_module": "@jupyter-widgets/controls",
      "model_module_version": "1.5.0",
      "model_name": "FloatProgressModel",
      "state": {
       "layout": "IPY_MODEL_ecbc79895658410eb6c565e37dbd896f",
       "max": 1,
       "style": "IPY_MODEL_7c33a5a135894342b800a5e5ed6f819c",
       "value": 1
      }
     },
     "630ab737237141c9b08eca511eee0cee": {
      "model_module": "@jupyter-widgets/controls",
      "model_module_version": "1.5.0",
      "model_name": "DescriptionStyleModel",
      "state": {
       "description_width": ""
      }
     },
     "648aa6a8d1ab417a98c732498fbcb94d": {
      "model_module": "@jupyter-widgets/controls",
      "model_module_version": "1.5.0",
      "model_name": "FloatProgressModel",
      "state": {
       "layout": "IPY_MODEL_f17092180ec1447ebc3c211b15ea9838",
       "max": 1,
       "style": "IPY_MODEL_cc9a5a78eede4680a904954bcbc84abc",
       "value": 1
      }
     },
     "64cdbfecda1047ada2156956a53c7703": {
      "model_module": "@jupyter-widgets/controls",
      "model_module_version": "1.5.0",
      "model_name": "LabelModel",
      "state": {
       "layout": "IPY_MODEL_9c98fe1e491348b98e99b668509a1115",
       "style": "IPY_MODEL_8d9b218ed23b4d83a5f46e0a811c7037",
       "value": " 0.01MB of 0.01MB uploaded (0.00MB deduped)\r"
      }
     },
     "64e03ace7b4f440381642b78c64b0d06": {
      "model_module": "@jupyter-widgets/controls",
      "model_module_version": "1.5.0",
      "model_name": "ProgressStyleModel",
      "state": {
       "description_width": ""
      }
     },
     "663bc85cdc11456b8df952831ce6233a": {
      "model_module": "@jupyter-widgets/controls",
      "model_module_version": "1.5.0",
      "model_name": "ProgressStyleModel",
      "state": {
       "description_width": ""
      }
     },
     "666acfa1f56245babbd50487f9736511": {
      "model_module": "@jupyter-widgets/controls",
      "model_module_version": "1.5.0",
      "model_name": "LabelModel",
      "state": {
       "layout": "IPY_MODEL_e2ef2cac81a748b2978fc7a4e51bcc61",
       "style": "IPY_MODEL_7502f9e68de14af0b664636c6d969f93",
       "value": " 0.25MB of 0.25MB uploaded (0.00MB deduped)\r"
      }
     },
     "67f614f99412474496d7f2749759909e": {
      "model_module": "@jupyter-widgets/base",
      "model_module_version": "1.2.0",
      "model_name": "LayoutModel",
      "state": {}
     },
     "6868dffe93e9421bb694a0e53086b555": {
      "model_module": "@jupyter-widgets/base",
      "model_module_version": "1.2.0",
      "model_name": "LayoutModel",
      "state": {}
     },
     "688f35c6be1f4b6797d33747fb6174ab": {
      "model_module": "@jupyter-widgets/base",
      "model_module_version": "1.2.0",
      "model_name": "LayoutModel",
      "state": {}
     },
     "68d62f6b0532412ab6f1185e97b32b30": {
      "model_module": "@jupyter-widgets/controls",
      "model_module_version": "1.5.0",
      "model_name": "LabelModel",
      "state": {
       "layout": "IPY_MODEL_58512d44eb9c4b4babbe50c8d052308e",
       "style": "IPY_MODEL_2ee45131a1df44db86dc2ca6a9a9033f",
       "value": " 0.05MB of 0.05MB uploaded (0.00MB deduped)\r"
      }
     },
     "6922e98aab204086b5692956da0a4df4": {
      "model_module": "@jupyter-widgets/controls",
      "model_module_version": "1.5.0",
      "model_name": "LabelModel",
      "state": {
       "layout": "IPY_MODEL_7d1c8a84576f4c94ad57ab96eef6929c",
       "style": "IPY_MODEL_982994cc16274b9d95eb38a5736b9acd",
       "value": " 0.01MB of 0.01MB uploaded (0.00MB deduped)\r"
      }
     },
     "697ae2d0f24d4c5689e71978f7540c55": {
      "model_module": "@jupyter-widgets/controls",
      "model_module_version": "1.5.0",
      "model_name": "LabelModel",
      "state": {
       "layout": "IPY_MODEL_49d082c0f4494744a5714c3b3225c308",
       "style": "IPY_MODEL_6b1619014e304642ad24088ce39c6577",
       "value": " 0.01MB of 0.01MB uploaded (0.00MB deduped)\r"
      }
     },
     "6b1619014e304642ad24088ce39c6577": {
      "model_module": "@jupyter-widgets/controls",
      "model_module_version": "1.5.0",
      "model_name": "DescriptionStyleModel",
      "state": {
       "description_width": ""
      }
     },
     "6b1a736087b642449abdad5e8e7b31f0": {
      "model_module": "@jupyter-widgets/controls",
      "model_module_version": "1.5.0",
      "model_name": "ProgressStyleModel",
      "state": {
       "description_width": ""
      }
     },
     "6b49cd13b20d49bb9106588d643104fa": {
      "model_module": "@jupyter-widgets/controls",
      "model_module_version": "1.5.0",
      "model_name": "FloatProgressModel",
      "state": {
       "layout": "IPY_MODEL_1dafc4f8dbf9467ebf49ff677f989dd1",
       "max": 1,
       "style": "IPY_MODEL_5c4fd76b002649eb9e42023c1f7a3f5e",
       "value": 1
      }
     },
     "6be3ceb4bf3c492aad0f209ea7dcc616": {
      "model_module": "@jupyter-widgets/controls",
      "model_module_version": "1.5.0",
      "model_name": "DescriptionStyleModel",
      "state": {
       "description_width": ""
      }
     },
     "6bf2fcf4152d4792809c6257a7cca69c": {
      "model_module": "@jupyter-widgets/base",
      "model_module_version": "1.2.0",
      "model_name": "LayoutModel",
      "state": {}
     },
     "6c80333bc1aa4c50b32e97fcbb10caa2": {
      "model_module": "@jupyter-widgets/base",
      "model_module_version": "1.2.0",
      "model_name": "LayoutModel",
      "state": {}
     },
     "6cd8b237d935426f851272bed0bceafd": {
      "model_module": "@jupyter-widgets/controls",
      "model_module_version": "1.5.0",
      "model_name": "ProgressStyleModel",
      "state": {
       "description_width": ""
      }
     },
     "6e77e3f432594d01ba1f797ec11c5d13": {
      "model_module": "@jupyter-widgets/controls",
      "model_module_version": "1.5.0",
      "model_name": "ProgressStyleModel",
      "state": {
       "description_width": ""
      }
     },
     "6eeb3831285d4ee597c03f0f35c39073": {
      "model_module": "@jupyter-widgets/controls",
      "model_module_version": "1.5.0",
      "model_name": "LabelModel",
      "state": {
       "layout": "IPY_MODEL_f2281dbbec2c4e0386d9ba9ff89d1f8d",
       "style": "IPY_MODEL_b045cf4c9cb04919ade0d6f4392f18c3",
       "value": " 0.01MB of 0.01MB uploaded (0.00MB deduped)\r"
      }
     },
     "70128e7df8164acfb8580b313655b3ba": {
      "model_module": "@jupyter-widgets/controls",
      "model_module_version": "1.5.0",
      "model_name": "ProgressStyleModel",
      "state": {
       "description_width": ""
      }
     },
     "702b4a9e33fa4feba668b1e179208922": {
      "model_module": "@jupyter-widgets/base",
      "model_module_version": "1.2.0",
      "model_name": "LayoutModel",
      "state": {}
     },
     "70d13639b87c48e5a3e2d070a5e975e4": {
      "model_module": "@jupyter-widgets/controls",
      "model_module_version": "1.5.0",
      "model_name": "LabelModel",
      "state": {
       "layout": "IPY_MODEL_8e0c1f644bc442f190fbc682888f47e7",
       "style": "IPY_MODEL_33bc5af4a3cb4fa98cd776d3449eed35",
       "value": " 0.01MB of 0.01MB uploaded (0.00MB deduped)\r"
      }
     },
     "71e3bcab34a44b8283f3dd0aeda345e1": {
      "model_module": "@jupyter-widgets/controls",
      "model_module_version": "1.5.0",
      "model_name": "FloatProgressModel",
      "state": {
       "layout": "IPY_MODEL_ccdef01d879f43b495de885db7010755",
       "max": 1,
       "style": "IPY_MODEL_e32e9952ae2442f59a334ecabe4cf562",
       "value": 1
      }
     },
     "721183b74e16429fbc10053ed782697c": {
      "model_module": "@jupyter-widgets/base",
      "model_module_version": "1.2.0",
      "model_name": "LayoutModel",
      "state": {}
     },
     "7221dbe3568741dfba517062f6d3a105": {
      "model_module": "@jupyter-widgets/base",
      "model_module_version": "1.2.0",
      "model_name": "LayoutModel",
      "state": {}
     },
     "722afe6861674dc9908b03c6cb835d9f": {
      "model_module": "@jupyter-widgets/controls",
      "model_module_version": "1.5.0",
      "model_name": "FloatProgressModel",
      "state": {
       "layout": "IPY_MODEL_e73d79cdf8f64ee9ab469b951f0914d5",
       "max": 1,
       "style": "IPY_MODEL_7f2772e9e1fa432f959b5b98412530e1",
       "value": 1
      }
     },
     "739e1d624faa4357bbbec7d84c3337c9": {
      "model_module": "@jupyter-widgets/controls",
      "model_module_version": "1.5.0",
      "model_name": "FloatProgressModel",
      "state": {
       "layout": "IPY_MODEL_29cb56184ab3465e821b0ae7843fad20",
       "max": 1,
       "style": "IPY_MODEL_1a13d7f928724e829b5929704f54f6ee",
       "value": 1
      }
     },
     "7423a88726e040fc81756a670d459814": {
      "model_module": "@jupyter-widgets/base",
      "model_module_version": "1.2.0",
      "model_name": "LayoutModel",
      "state": {}
     },
     "74e5b6046fab435daea4e4b98c77adfb": {
      "model_module": "@jupyter-widgets/base",
      "model_module_version": "1.2.0",
      "model_name": "LayoutModel",
      "state": {}
     },
     "7502f9e68de14af0b664636c6d969f93": {
      "model_module": "@jupyter-widgets/controls",
      "model_module_version": "1.5.0",
      "model_name": "DescriptionStyleModel",
      "state": {
       "description_width": ""
      }
     },
     "7599cf3db143453d882bdb9f1d9ebd33": {
      "model_module": "@jupyter-widgets/controls",
      "model_module_version": "1.5.0",
      "model_name": "FloatProgressModel",
      "state": {
       "layout": "IPY_MODEL_f489b4f4c8f14cb49d6d155a1e88e53d",
       "max": 1,
       "style": "IPY_MODEL_81db7909449f45ce966631296b117b1e",
       "value": 1
      }
     },
     "76450b04980f44fa8230d53bb6f7a659": {
      "model_module": "@jupyter-widgets/controls",
      "model_module_version": "1.5.0",
      "model_name": "FloatProgressModel",
      "state": {
       "layout": "IPY_MODEL_27ab4d43af2440ac812582d9c76e0043",
       "max": 1,
       "style": "IPY_MODEL_ef59b990a7c742b1ab324042d1aa8aba",
       "value": 1
      }
     },
     "7652981aecc549f99c5047e61693987a": {
      "model_module": "@jupyter-widgets/controls",
      "model_module_version": "1.5.0",
      "model_name": "DescriptionStyleModel",
      "state": {
       "description_width": ""
      }
     },
     "769f4c90c8e64410850af79ba6d14ad2": {
      "model_module": "@jupyter-widgets/controls",
      "model_module_version": "1.5.0",
      "model_name": "DescriptionStyleModel",
      "state": {
       "description_width": ""
      }
     },
     "77235d9f8ffb44479f94761593bd9e6b": {
      "model_module": "@jupyter-widgets/base",
      "model_module_version": "1.2.0",
      "model_name": "LayoutModel",
      "state": {}
     },
     "7829bc7a9e9448c3880150122a6edf95": {
      "model_module": "@jupyter-widgets/base",
      "model_module_version": "1.2.0",
      "model_name": "LayoutModel",
      "state": {}
     },
     "7833ad5c0d9d4d85a34a24991111bc26": {
      "model_module": "@jupyter-widgets/base",
      "model_module_version": "1.2.0",
      "model_name": "LayoutModel",
      "state": {}
     },
     "78d094a1412848ada978fb7e3b5c9005": {
      "model_module": "@jupyter-widgets/controls",
      "model_module_version": "1.5.0",
      "model_name": "LabelModel",
      "state": {
       "layout": "IPY_MODEL_00a28df4acfb4be38aba3eac7e6dd4da",
       "style": "IPY_MODEL_769f4c90c8e64410850af79ba6d14ad2",
       "value": " 0.01MB of 0.01MB uploaded (0.00MB deduped)\r"
      }
     },
     "78f46f2269ab4f0bb75b1f3f53e72213": {
      "model_module": "@jupyter-widgets/controls",
      "model_module_version": "1.5.0",
      "model_name": "FloatProgressModel",
      "state": {
       "layout": "IPY_MODEL_702b4a9e33fa4feba668b1e179208922",
       "max": 1,
       "style": "IPY_MODEL_24f3b7636df94f7aaaab8de8f490bb6c",
       "value": 1
      }
     },
     "79200927aec04c42b97c81a902058d45": {
      "model_module": "@jupyter-widgets/controls",
      "model_module_version": "1.5.0",
      "model_name": "VBoxModel",
      "state": {
       "children": [
        "IPY_MODEL_0fd73cce33e54b0cb63f495d4f42f32c",
        "IPY_MODEL_e7b3a7b3434d416db2fd5c7b8850b31a"
       ],
       "layout": "IPY_MODEL_247bbbf7c9114dca82a06a7443dc546c"
      }
     },
     "79eeeb308bc3438a832ea1034e955d41": {
      "model_module": "@jupyter-widgets/base",
      "model_module_version": "1.2.0",
      "model_name": "LayoutModel",
      "state": {}
     },
     "7a80e81760b5463892c50dc24e8410ef": {
      "model_module": "@jupyter-widgets/controls",
      "model_module_version": "1.5.0",
      "model_name": "DescriptionStyleModel",
      "state": {
       "description_width": ""
      }
     },
     "7abeff686bd7400aa7b86094a975b2c4": {
      "model_module": "@jupyter-widgets/controls",
      "model_module_version": "1.5.0",
      "model_name": "LabelModel",
      "state": {
       "layout": "IPY_MODEL_24b0edf0914e4990a1c20def8f412f4b",
       "style": "IPY_MODEL_c4cb3df349bc4230bdbb80d6b1386d54",
       "value": " 0.02MB of 0.02MB uploaded (0.00MB deduped)\r"
      }
     },
     "7b8681baf1a24686a40502f3557453f7": {
      "model_module": "@jupyter-widgets/base",
      "model_module_version": "1.2.0",
      "model_name": "LayoutModel",
      "state": {}
     },
     "7b8a5ef5616542e888e0774317605240": {
      "model_module": "@jupyter-widgets/base",
      "model_module_version": "1.2.0",
      "model_name": "LayoutModel",
      "state": {}
     },
     "7beb2d6de6d048478b3bc92d22a8f5fe": {
      "model_module": "@jupyter-widgets/base",
      "model_module_version": "1.2.0",
      "model_name": "LayoutModel",
      "state": {}
     },
     "7c2cf03ebb4743e8800cf85c77608987": {
      "model_module": "@jupyter-widgets/base",
      "model_module_version": "1.2.0",
      "model_name": "LayoutModel",
      "state": {}
     },
     "7c33a5a135894342b800a5e5ed6f819c": {
      "model_module": "@jupyter-widgets/controls",
      "model_module_version": "1.5.0",
      "model_name": "ProgressStyleModel",
      "state": {
       "description_width": ""
      }
     },
     "7d1c8a84576f4c94ad57ab96eef6929c": {
      "model_module": "@jupyter-widgets/base",
      "model_module_version": "1.2.0",
      "model_name": "LayoutModel",
      "state": {}
     },
     "7da9770cce104222908f53f613bc61e5": {
      "model_module": "@jupyter-widgets/base",
      "model_module_version": "1.2.0",
      "model_name": "LayoutModel",
      "state": {}
     },
     "7e71ebe186f2404792b67c9586184ddb": {
      "model_module": "@jupyter-widgets/base",
      "model_module_version": "1.2.0",
      "model_name": "LayoutModel",
      "state": {}
     },
     "7f2772e9e1fa432f959b5b98412530e1": {
      "model_module": "@jupyter-widgets/controls",
      "model_module_version": "1.5.0",
      "model_name": "ProgressStyleModel",
      "state": {
       "description_width": ""
      }
     },
     "7f9f0d5b15a54023924ab1e9117a0ceb": {
      "model_module": "@jupyter-widgets/base",
      "model_module_version": "1.2.0",
      "model_name": "LayoutModel",
      "state": {}
     },
     "7fc14db4f8154fb0a5336c66d8b60693": {
      "model_module": "@jupyter-widgets/base",
      "model_module_version": "1.2.0",
      "model_name": "LayoutModel",
      "state": {}
     },
     "8034766a14874b59bf996e9290cbb934": {
      "model_module": "@jupyter-widgets/base",
      "model_module_version": "1.2.0",
      "model_name": "LayoutModel",
      "state": {}
     },
     "81db7909449f45ce966631296b117b1e": {
      "model_module": "@jupyter-widgets/controls",
      "model_module_version": "1.5.0",
      "model_name": "ProgressStyleModel",
      "state": {
       "description_width": ""
      }
     },
     "82cbe4d2f42e41fa9a4d6c8c4a085480": {
      "model_module": "@jupyter-widgets/controls",
      "model_module_version": "1.5.0",
      "model_name": "FloatProgressModel",
      "state": {
       "layout": "IPY_MODEL_d29a88c619004513aee01905fa5247f7",
       "max": 1,
       "style": "IPY_MODEL_1f1bb0eae04a46d4982c2f52650e72a3",
       "value": 1
      }
     },
     "8390ee3e0d904750b913bca55bdb4977": {
      "model_module": "@jupyter-widgets/controls",
      "model_module_version": "1.5.0",
      "model_name": "ProgressStyleModel",
      "state": {
       "description_width": ""
      }
     },
     "83e4b0f8ef9647a393362328c4f13519": {
      "model_module": "@jupyter-widgets/controls",
      "model_module_version": "1.5.0",
      "model_name": "FloatProgressModel",
      "state": {
       "layout": "IPY_MODEL_ce732bdf9bf04fc69802b3bab7226415",
       "max": 1,
       "style": "IPY_MODEL_8390ee3e0d904750b913bca55bdb4977",
       "value": 1
      }
     },
     "8463cd005c7b4237923377b34f1484cf": {
      "model_module": "@jupyter-widgets/controls",
      "model_module_version": "1.5.0",
      "model_name": "DescriptionStyleModel",
      "state": {
       "description_width": ""
      }
     },
     "8602db94a30649ffa8a745cca34e0fd2": {
      "model_module": "@jupyter-widgets/base",
      "model_module_version": "1.2.0",
      "model_name": "LayoutModel",
      "state": {}
     },
     "8819d42495f64d56a926c3ccb8d4539d": {
      "model_module": "@jupyter-widgets/controls",
      "model_module_version": "1.5.0",
      "model_name": "DescriptionStyleModel",
      "state": {
       "description_width": ""
      }
     },
     "8834f8294b6c4637a8fc32e8417750e0": {
      "model_module": "@jupyter-widgets/base",
      "model_module_version": "1.2.0",
      "model_name": "LayoutModel",
      "state": {}
     },
     "885c3a66a50241f2812c118e1c33275d": {
      "model_module": "@jupyter-widgets/controls",
      "model_module_version": "1.5.0",
      "model_name": "LabelModel",
      "state": {
       "layout": "IPY_MODEL_9075705987974e32a5c0ba86669f6be0",
       "style": "IPY_MODEL_0f8815bb1bde4446974fe00e9f047de2",
       "value": " 0.01MB of 0.01MB uploaded (0.00MB deduped)\r"
      }
     },
     "89a89ee8f459423cb0b850e14e75b0d2": {
      "model_module": "@jupyter-widgets/base",
      "model_module_version": "1.2.0",
      "model_name": "LayoutModel",
      "state": {}
     },
     "8b6f062542e241be8e288cd48ff550da": {
      "model_module": "@jupyter-widgets/controls",
      "model_module_version": "1.5.0",
      "model_name": "LabelModel",
      "state": {
       "layout": "IPY_MODEL_77235d9f8ffb44479f94761593bd9e6b",
       "style": "IPY_MODEL_6be3ceb4bf3c492aad0f209ea7dcc616",
       "value": " 0.02MB of 0.02MB uploaded (0.00MB deduped)\r"
      }
     },
     "8bf5553e599f4c008333205ca2841461": {
      "model_module": "@jupyter-widgets/controls",
      "model_module_version": "1.5.0",
      "model_name": "LabelModel",
      "state": {
       "layout": "IPY_MODEL_6c80333bc1aa4c50b32e97fcbb10caa2",
       "style": "IPY_MODEL_52f4e187d90e40b08632e4ed3dd7e487",
       "value": " 0.01MB of 0.01MB uploaded (0.00MB deduped)\r"
      }
     },
     "8d369abcd52345e4bb00b00691f2c32b": {
      "model_module": "@jupyter-widgets/base",
      "model_module_version": "1.2.0",
      "model_name": "LayoutModel",
      "state": {}
     },
     "8d9b218ed23b4d83a5f46e0a811c7037": {
      "model_module": "@jupyter-widgets/controls",
      "model_module_version": "1.5.0",
      "model_name": "DescriptionStyleModel",
      "state": {
       "description_width": ""
      }
     },
     "8db1910ddbac4637939d14a2a8e166be": {
      "model_module": "@jupyter-widgets/controls",
      "model_module_version": "1.5.0",
      "model_name": "LabelModel",
      "state": {
       "layout": "IPY_MODEL_9de31c29db66427e8c17f1c39fa13d0c",
       "style": "IPY_MODEL_90e05d61bee24afeb2b37e57ba3d3349",
       "value": " 0.01MB of 0.01MB uploaded (0.00MB deduped)\r"
      }
     },
     "8e0c1f644bc442f190fbc682888f47e7": {
      "model_module": "@jupyter-widgets/base",
      "model_module_version": "1.2.0",
      "model_name": "LayoutModel",
      "state": {}
     },
     "9075705987974e32a5c0ba86669f6be0": {
      "model_module": "@jupyter-widgets/base",
      "model_module_version": "1.2.0",
      "model_name": "LayoutModel",
      "state": {}
     },
     "90e05d61bee24afeb2b37e57ba3d3349": {
      "model_module": "@jupyter-widgets/controls",
      "model_module_version": "1.5.0",
      "model_name": "DescriptionStyleModel",
      "state": {
       "description_width": ""
      }
     },
     "90e3fa4721074f73adf57d5b28ce7ce2": {
      "model_module": "@jupyter-widgets/controls",
      "model_module_version": "1.5.0",
      "model_name": "LabelModel",
      "state": {
       "layout": "IPY_MODEL_6035f4524dd94e7bb4c628358dde01f8",
       "style": "IPY_MODEL_8463cd005c7b4237923377b34f1484cf",
       "value": " 0.02MB of 0.02MB uploaded (0.00MB deduped)\r"
      }
     },
     "936b54fb344543f3973e9ba90c61eb15": {
      "model_module": "@jupyter-widgets/controls",
      "model_module_version": "1.5.0",
      "model_name": "DescriptionStyleModel",
      "state": {
       "description_width": ""
      }
     },
     "944614b734b7457ca83e8a0bd02e76b6": {
      "model_module": "@jupyter-widgets/controls",
      "model_module_version": "1.5.0",
      "model_name": "LabelModel",
      "state": {
       "layout": "IPY_MODEL_cf9d5b9e9db24688941b52fd727a204c",
       "style": "IPY_MODEL_630ab737237141c9b08eca511eee0cee",
       "value": " 0.01MB of 0.01MB uploaded (0.00MB deduped)\r"
      }
     },
     "95ddee8ffcb5426da6b30173de4e6b27": {
      "model_module": "@jupyter-widgets/controls",
      "model_module_version": "1.5.0",
      "model_name": "FloatProgressModel",
      "state": {
       "layout": "IPY_MODEL_553266c5cbfb4d7c97bdd090fa6e2316",
       "max": 1,
       "style": "IPY_MODEL_58ba6164dab04c53a62e30f98f4a11ad",
       "value": 1
      }
     },
     "968a65713653419fa816ed26ab382984": {
      "model_module": "@jupyter-widgets/base",
      "model_module_version": "1.2.0",
      "model_name": "LayoutModel",
      "state": {}
     },
     "96c297de9a9a4a758ff4d90bb719521a": {
      "model_module": "@jupyter-widgets/base",
      "model_module_version": "1.2.0",
      "model_name": "LayoutModel",
      "state": {}
     },
     "981211733062455788ac1465177926b0": {
      "model_module": "@jupyter-widgets/base",
      "model_module_version": "1.2.0",
      "model_name": "LayoutModel",
      "state": {}
     },
     "982994cc16274b9d95eb38a5736b9acd": {
      "model_module": "@jupyter-widgets/controls",
      "model_module_version": "1.5.0",
      "model_name": "DescriptionStyleModel",
      "state": {
       "description_width": ""
      }
     },
     "98444975db084f84934d3aae0b084147": {
      "model_module": "@jupyter-widgets/controls",
      "model_module_version": "1.5.0",
      "model_name": "FloatProgressModel",
      "state": {
       "layout": "IPY_MODEL_0bbec9a1aab34e2e8eab11f1b6ac8337",
       "max": 1,
       "style": "IPY_MODEL_0f06e725a6ad4d3aab8c9ef82e869605",
       "value": 1
      }
     },
     "9b2d2b93a7244cd5b97599ccd8e2d89e": {
      "model_module": "@jupyter-widgets/controls",
      "model_module_version": "1.5.0",
      "model_name": "LabelModel",
      "state": {
       "layout": "IPY_MODEL_c7f8dc3522b5476d9a214d67c17a1aff",
       "style": "IPY_MODEL_c12cf452d5ae4a46930bcc406e36363b",
       "value": " 0.03MB of 0.03MB uploaded (0.00MB deduped)\r"
      }
     },
     "9b6fa7c5dc9a4a91b3feedbd3b216542": {
      "model_module": "@jupyter-widgets/base",
      "model_module_version": "1.2.0",
      "model_name": "LayoutModel",
      "state": {}
     },
     "9c98fe1e491348b98e99b668509a1115": {
      "model_module": "@jupyter-widgets/base",
      "model_module_version": "1.2.0",
      "model_name": "LayoutModel",
      "state": {}
     },
     "9de31c29db66427e8c17f1c39fa13d0c": {
      "model_module": "@jupyter-widgets/base",
      "model_module_version": "1.2.0",
      "model_name": "LayoutModel",
      "state": {}
     },
     "9e034809d7c44493a115f8efbe7afacf": {
      "model_module": "@jupyter-widgets/base",
      "model_module_version": "1.2.0",
      "model_name": "LayoutModel",
      "state": {}
     },
     "9ea3c7dcc2c84d0fbc4602d18a9d06d2": {
      "model_module": "@jupyter-widgets/base",
      "model_module_version": "1.2.0",
      "model_name": "LayoutModel",
      "state": {}
     },
     "a09f124c377e4833a803cfadf3b7f558": {
      "model_module": "@jupyter-widgets/controls",
      "model_module_version": "1.5.0",
      "model_name": "FloatProgressModel",
      "state": {
       "layout": "IPY_MODEL_43080b96162e4ae691ad9bd307054528",
       "max": 1,
       "style": "IPY_MODEL_70128e7df8164acfb8580b313655b3ba",
       "value": 1
      }
     },
     "a118f2d06a2d490ca50fe98fcf7e5989": {
      "model_module": "@jupyter-widgets/controls",
      "model_module_version": "1.5.0",
      "model_name": "FloatProgressModel",
      "state": {
       "layout": "IPY_MODEL_ba36b2978cb34fe6984784831e7113f4",
       "max": 1,
       "style": "IPY_MODEL_663bc85cdc11456b8df952831ce6233a",
       "value": 1
      }
     },
     "a123187812174d4481cc3f361740c87d": {
      "model_module": "@jupyter-widgets/controls",
      "model_module_version": "1.5.0",
      "model_name": "DescriptionStyleModel",
      "state": {
       "description_width": ""
      }
     },
     "a1736798db8544419dca79f02f1bd6c8": {
      "model_module": "@jupyter-widgets/base",
      "model_module_version": "1.2.0",
      "model_name": "LayoutModel",
      "state": {}
     },
     "a217ff75a301422994ca7f6565ae70db": {
      "model_module": "@jupyter-widgets/controls",
      "model_module_version": "1.5.0",
      "model_name": "FloatProgressModel",
      "state": {
       "layout": "IPY_MODEL_1c5d5dee4af04ac280abff5e62c18bb1",
       "max": 1,
       "style": "IPY_MODEL_195cc00e5d224ae5b352f1c693e90989",
       "value": 1
      }
     },
     "a37e8c59f74148bea21eef72b61887b2": {
      "model_module": "@jupyter-widgets/controls",
      "model_module_version": "1.5.0",
      "model_name": "FloatProgressModel",
      "state": {
       "layout": "IPY_MODEL_52805968d7ee43a3af3b431cd48555a4",
       "max": 1,
       "style": "IPY_MODEL_f134aa673b054e0784633b86ad166d5c",
       "value": 1
      }
     },
     "a4622ad3da9a4af7a7fb751e521c9c7f": {
      "model_module": "@jupyter-widgets/controls",
      "model_module_version": "1.5.0",
      "model_name": "ProgressStyleModel",
      "state": {
       "description_width": ""
      }
     },
     "a47b23af5fae4ee9bce497dee55390c3": {
      "model_module": "@jupyter-widgets/base",
      "model_module_version": "1.2.0",
      "model_name": "LayoutModel",
      "state": {}
     },
     "a4af88f2b59a4eb1b9cd7c524321eeb4": {
      "model_module": "@jupyter-widgets/base",
      "model_module_version": "1.2.0",
      "model_name": "LayoutModel",
      "state": {}
     },
     "a4e5a97ef4df440b9ef628e76ed1c89a": {
      "model_module": "@jupyter-widgets/base",
      "model_module_version": "1.2.0",
      "model_name": "LayoutModel",
      "state": {}
     },
     "a536c165c3344aa98a99a41acaa0d3fe": {
      "model_module": "@jupyter-widgets/controls",
      "model_module_version": "1.5.0",
      "model_name": "FloatProgressModel",
      "state": {
       "layout": "IPY_MODEL_18e244f7fbe0462dbf2c05fd5b4ff0bb",
       "max": 1,
       "style": "IPY_MODEL_d98af023ed5e492ab26a2429d62c5ead",
       "value": 1
      }
     },
     "a571b2dba7c34dea9247639808b0665d": {
      "model_module": "@jupyter-widgets/controls",
      "model_module_version": "1.5.0",
      "model_name": "LabelModel",
      "state": {
       "layout": "IPY_MODEL_cf160fc7e5e34db2a771607798aff59a",
       "style": "IPY_MODEL_db55febb4faf48c19e7eebe57863d43f",
       "value": " 0.02MB of 0.02MB uploaded (0.00MB deduped)\r"
      }
     },
     "a674ceb6faf8409682ae6485fb51eeac": {
      "model_module": "@jupyter-widgets/controls",
      "model_module_version": "1.5.0",
      "model_name": "DescriptionStyleModel",
      "state": {
       "description_width": ""
      }
     },
     "a756f19e7bf74f068eaf74d64df3b05f": {
      "model_module": "@jupyter-widgets/controls",
      "model_module_version": "1.5.0",
      "model_name": "LabelModel",
      "state": {
       "layout": "IPY_MODEL_5202ca8a220941b481d15e0a054011ac",
       "style": "IPY_MODEL_5209c156977f4900b2bd24a9db86f40d",
       "value": " 0.01MB of 0.01MB uploaded (0.00MB deduped)\r"
      }
     },
     "a87a822e70a44226a136402c30b9abd8": {
      "model_module": "@jupyter-widgets/controls",
      "model_module_version": "1.5.0",
      "model_name": "FloatProgressModel",
      "state": {
       "layout": "IPY_MODEL_48323a4a07564133a76dc741b7c125b9",
       "max": 1,
       "style": "IPY_MODEL_09f90ff5801a483480a5d06eececb829",
       "value": 1
      }
     },
     "a8b6632f9e7a4cd8b9b1112b8f8e18af": {
      "model_module": "@jupyter-widgets/base",
      "model_module_version": "1.2.0",
      "model_name": "LayoutModel",
      "state": {}
     },
     "a92c163d674f49728df02956d5006eee": {
      "model_module": "@jupyter-widgets/controls",
      "model_module_version": "1.5.0",
      "model_name": "LabelModel",
      "state": {
       "layout": "IPY_MODEL_fb3ede04b10a40edb33bd35cf67dfede",
       "style": "IPY_MODEL_e31899b468484680a33f0f5445a2f464",
       "value": " 0.02MB of 0.02MB uploaded (0.00MB deduped)\r"
      }
     },
     "aa7bfbf3f2ac41f4864da55b5152d0bb": {
      "model_module": "@jupyter-widgets/base",
      "model_module_version": "1.2.0",
      "model_name": "LayoutModel",
      "state": {}
     },
     "ab97907558f44105a9e8ce9a020b2d79": {
      "model_module": "@jupyter-widgets/controls",
      "model_module_version": "1.5.0",
      "model_name": "ProgressStyleModel",
      "state": {
       "description_width": ""
      }
     },
     "abe3b5b2fdf64952b4b4624d2b3cb3b8": {
      "model_module": "@jupyter-widgets/controls",
      "model_module_version": "1.5.0",
      "model_name": "DescriptionStyleModel",
      "state": {
       "description_width": ""
      }
     },
     "ac5fe7493e204e6182488ab2944a840e": {
      "model_module": "@jupyter-widgets/controls",
      "model_module_version": "1.5.0",
      "model_name": "FloatProgressModel",
      "state": {
       "layout": "IPY_MODEL_4bc19f9dd09c4d7e8f0468e46153a03d",
       "max": 1,
       "style": "IPY_MODEL_c3441aafe27b4a56a4e426c4153329d1",
       "value": 1
      }
     },
     "ac6ba7e574ec4eff94e665f1e89dce22": {
      "model_module": "@jupyter-widgets/base",
      "model_module_version": "1.2.0",
      "model_name": "LayoutModel",
      "state": {}
     },
     "ae3aa081863d47e1a539eb505235867c": {
      "model_module": "@jupyter-widgets/controls",
      "model_module_version": "1.5.0",
      "model_name": "LabelModel",
      "state": {
       "layout": "IPY_MODEL_ff020f8e343f495199313a423874a765",
       "style": "IPY_MODEL_c288e4ad061145d78a3e4db8f6f050a9",
       "value": " 0.09MB of 0.09MB uploaded (0.00MB deduped)\r"
      }
     },
     "ae609602f92f4bc3818dfc50a5d3adfd": {
      "model_module": "@jupyter-widgets/controls",
      "model_module_version": "1.5.0",
      "model_name": "ProgressStyleModel",
      "state": {
       "description_width": ""
      }
     },
     "afc7b7523f204bb8a83ddc890849d471": {
      "model_module": "@jupyter-widgets/controls",
      "model_module_version": "1.5.0",
      "model_name": "ProgressStyleModel",
      "state": {
       "description_width": ""
      }
     },
     "b011018113d24aa68b93e7ef5ef8643e": {
      "model_module": "@jupyter-widgets/controls",
      "model_module_version": "1.5.0",
      "model_name": "LabelModel",
      "state": {
       "layout": "IPY_MODEL_06b39dd06d5741fe8cc7d623b15ad67e",
       "style": "IPY_MODEL_f39770b215034207bd2b86cff9fc5267",
       "value": " 0.31MB of 0.31MB uploaded (0.00MB deduped)\r"
      }
     },
     "b045cf4c9cb04919ade0d6f4392f18c3": {
      "model_module": "@jupyter-widgets/controls",
      "model_module_version": "1.5.0",
      "model_name": "DescriptionStyleModel",
      "state": {
       "description_width": ""
      }
     },
     "b278b257644844858b3998de40c3a543": {
      "model_module": "@jupyter-widgets/base",
      "model_module_version": "1.2.0",
      "model_name": "LayoutModel",
      "state": {}
     },
     "b3924842c03a416eae08ed058115a244": {
      "model_module": "@jupyter-widgets/controls",
      "model_module_version": "1.5.0",
      "model_name": "DescriptionStyleModel",
      "state": {
       "description_width": ""
      }
     },
     "b3cef43a47304b7c964c2beb165de4a4": {
      "model_module": "@jupyter-widgets/controls",
      "model_module_version": "1.5.0",
      "model_name": "FloatProgressModel",
      "state": {
       "layout": "IPY_MODEL_f4b4d402f13048129a0d77ac286f333f",
       "max": 1,
       "style": "IPY_MODEL_a4622ad3da9a4af7a7fb751e521c9c7f",
       "value": 1
      }
     },
     "b3e31f8621bf458fb4fc54e65730265e": {
      "model_module": "@jupyter-widgets/base",
      "model_module_version": "1.2.0",
      "model_name": "LayoutModel",
      "state": {}
     },
     "b675adbc66d948aab5c025926652b8f1": {
      "model_module": "@jupyter-widgets/controls",
      "model_module_version": "1.5.0",
      "model_name": "DescriptionStyleModel",
      "state": {
       "description_width": ""
      }
     },
     "b6ed6e8ee5434cb29def3db5e7056662": {
      "model_module": "@jupyter-widgets/base",
      "model_module_version": "1.2.0",
      "model_name": "LayoutModel",
      "state": {}
     },
     "b76d551c5fdd42ba8b9c9069c0fad60a": {
      "model_module": "@jupyter-widgets/base",
      "model_module_version": "1.2.0",
      "model_name": "LayoutModel",
      "state": {}
     },
     "b8b040b92a1e449a9a2599e519424d76": {
      "model_module": "@jupyter-widgets/base",
      "model_module_version": "1.2.0",
      "model_name": "LayoutModel",
      "state": {}
     },
     "b9338b7cba0141d0a216cd1974e76cc8": {
      "model_module": "@jupyter-widgets/controls",
      "model_module_version": "1.5.0",
      "model_name": "FloatProgressModel",
      "state": {
       "layout": "IPY_MODEL_efdfb92699b145eba7d5ed3b06214f50",
       "max": 1,
       "style": "IPY_MODEL_f507d28c3a564e58a522f11db3f93510",
       "value": 1
      }
     },
     "b95f8aad8a3947a0ad5c2a5c541b93f8": {
      "model_module": "@jupyter-widgets/controls",
      "model_module_version": "1.5.0",
      "model_name": "LabelModel",
      "state": {
       "layout": "IPY_MODEL_ffe73329afc046eeb80e690fb2841f77",
       "style": "IPY_MODEL_c920a9b4dec4416cb955d5e6bdc7ef10",
       "value": " 0.01MB of 0.01MB uploaded (0.00MB deduped)\r"
      }
     },
     "b972acf856e7484383738b65a384c142": {
      "model_module": "@jupyter-widgets/controls",
      "model_module_version": "1.5.0",
      "model_name": "LabelModel",
      "state": {
       "layout": "IPY_MODEL_24a3fe3fe7fb42d99bc23afdc7c8be05",
       "style": "IPY_MODEL_dc703775407d4dd9bb314c77e6eff302",
       "value": " 0.04MB of 0.04MB uploaded (0.00MB deduped)\r"
      }
     },
     "ba36b2978cb34fe6984784831e7113f4": {
      "model_module": "@jupyter-widgets/base",
      "model_module_version": "1.2.0",
      "model_name": "LayoutModel",
      "state": {}
     },
     "bad0e78f794b48d2a4c6318692465916": {
      "model_module": "@jupyter-widgets/base",
      "model_module_version": "1.2.0",
      "model_name": "LayoutModel",
      "state": {}
     },
     "bb2e7764ae804d6293732f9f6818b7e2": {
      "model_module": "@jupyter-widgets/controls",
      "model_module_version": "1.5.0",
      "model_name": "LabelModel",
      "state": {
       "layout": "IPY_MODEL_6868dffe93e9421bb694a0e53086b555",
       "style": "IPY_MODEL_d52ab35cd4434fc99136af5879824ebf",
       "value": " 0.28MB of 0.28MB uploaded (0.00MB deduped)\r"
      }
     },
     "bb3a302a63f5474eb9cf566a13fba01f": {
      "model_module": "@jupyter-widgets/base",
      "model_module_version": "1.2.0",
      "model_name": "LayoutModel",
      "state": {}
     },
     "bb3fbd6f1d024a68a045d062abaafe98": {
      "model_module": "@jupyter-widgets/controls",
      "model_module_version": "1.5.0",
      "model_name": "DescriptionStyleModel",
      "state": {
       "description_width": ""
      }
     },
     "bcf196d294f345cea632ec7af7446ec6": {
      "model_module": "@jupyter-widgets/controls",
      "model_module_version": "1.5.0",
      "model_name": "FloatProgressModel",
      "state": {
       "layout": "IPY_MODEL_7b8a5ef5616542e888e0774317605240",
       "max": 1,
       "style": "IPY_MODEL_242a60513c484385a2c4d7fafbeb8602",
       "value": 1
      }
     },
     "bff4a7c8885d455b8e24193c9f50796a": {
      "model_module": "@jupyter-widgets/base",
      "model_module_version": "1.2.0",
      "model_name": "LayoutModel",
      "state": {}
     },
     "c12cf452d5ae4a46930bcc406e36363b": {
      "model_module": "@jupyter-widgets/controls",
      "model_module_version": "1.5.0",
      "model_name": "DescriptionStyleModel",
      "state": {
       "description_width": ""
      }
     },
     "c14e7ea5539b4a829d9a5177c6897a40": {
      "model_module": "@jupyter-widgets/controls",
      "model_module_version": "1.5.0",
      "model_name": "FloatProgressModel",
      "state": {
       "layout": "IPY_MODEL_5ee051f2ac5e451eba854f8c37c2dd40",
       "max": 1,
       "style": "IPY_MODEL_4483482a10bb4444acff86cd7052eb6d",
       "value": 1
      }
     },
     "c16bae67050144299008e479e0c7cc81": {
      "model_module": "@jupyter-widgets/base",
      "model_module_version": "1.2.0",
      "model_name": "LayoutModel",
      "state": {}
     },
     "c1fd92827cd94623b219ec4c89bcfc73": {
      "model_module": "@jupyter-widgets/controls",
      "model_module_version": "1.5.0",
      "model_name": "FloatProgressModel",
      "state": {
       "layout": "IPY_MODEL_00f9458fd7c64909846e22a65ecc4250",
       "max": 1,
       "style": "IPY_MODEL_6e77e3f432594d01ba1f797ec11c5d13",
       "value": 1
      }
     },
     "c2757533fdbc4417a6170cf371388b16": {
      "model_module": "@jupyter-widgets/controls",
      "model_module_version": "1.5.0",
      "model_name": "ProgressStyleModel",
      "state": {
       "description_width": ""
      }
     },
     "c288e4ad061145d78a3e4db8f6f050a9": {
      "model_module": "@jupyter-widgets/controls",
      "model_module_version": "1.5.0",
      "model_name": "DescriptionStyleModel",
      "state": {
       "description_width": ""
      }
     },
     "c2ed12b71edc4fe49f0adeae41a09d91": {
      "model_module": "@jupyter-widgets/controls",
      "model_module_version": "1.5.0",
      "model_name": "FloatProgressModel",
      "state": {
       "layout": "IPY_MODEL_8d369abcd52345e4bb00b00691f2c32b",
       "max": 1,
       "style": "IPY_MODEL_64e03ace7b4f440381642b78c64b0d06",
       "value": 1
      }
     },
     "c3066743f72e43ed91cc5fa52ba6579c": {
      "model_module": "@jupyter-widgets/base",
      "model_module_version": "1.2.0",
      "model_name": "LayoutModel",
      "state": {}
     },
     "c3441aafe27b4a56a4e426c4153329d1": {
      "model_module": "@jupyter-widgets/controls",
      "model_module_version": "1.5.0",
      "model_name": "ProgressStyleModel",
      "state": {
       "description_width": ""
      }
     },
     "c4362339ff8f41c49caf148822655e76": {
      "model_module": "@jupyter-widgets/base",
      "model_module_version": "1.2.0",
      "model_name": "LayoutModel",
      "state": {}
     },
     "c4cb3df349bc4230bdbb80d6b1386d54": {
      "model_module": "@jupyter-widgets/controls",
      "model_module_version": "1.5.0",
      "model_name": "DescriptionStyleModel",
      "state": {
       "description_width": ""
      }
     },
     "c55aff86af914c2a8f6657248d2e3381": {
      "model_module": "@jupyter-widgets/controls",
      "model_module_version": "1.5.0",
      "model_name": "FloatProgressModel",
      "state": {
       "layout": "IPY_MODEL_7221dbe3568741dfba517062f6d3a105",
       "max": 1,
       "style": "IPY_MODEL_f2af2362167341efa0da6fdef628534f",
       "value": 1
      }
     },
     "c7dfec5f13e9467e976b3101456ef978": {
      "model_module": "@jupyter-widgets/base",
      "model_module_version": "1.2.0",
      "model_name": "LayoutModel",
      "state": {}
     },
     "c7f8dc3522b5476d9a214d67c17a1aff": {
      "model_module": "@jupyter-widgets/base",
      "model_module_version": "1.2.0",
      "model_name": "LayoutModel",
      "state": {}
     },
     "c84ba48d8b734990b1c3650c3482f2ed": {
      "model_module": "@jupyter-widgets/controls",
      "model_module_version": "1.5.0",
      "model_name": "DescriptionStyleModel",
      "state": {
       "description_width": ""
      }
     },
     "c920a9b4dec4416cb955d5e6bdc7ef10": {
      "model_module": "@jupyter-widgets/controls",
      "model_module_version": "1.5.0",
      "model_name": "DescriptionStyleModel",
      "state": {
       "description_width": ""
      }
     },
     "ca51db925d1347b3a50b4da70cf67ce7": {
      "model_module": "@jupyter-widgets/controls",
      "model_module_version": "1.5.0",
      "model_name": "LabelModel",
      "state": {
       "layout": "IPY_MODEL_ce9fef1aeea84febb0e72495ced5b9f7",
       "style": "IPY_MODEL_53dff7fe86bf4f6a862552a985a4d5c5",
       "value": " 0.10MB of 0.10MB uploaded (0.00MB deduped)\r"
      }
     },
     "cbba4b392cd9477ba5b23e71a25b2c49": {
      "model_module": "@jupyter-widgets/controls",
      "model_module_version": "1.5.0",
      "model_name": "ProgressStyleModel",
      "state": {
       "description_width": ""
      }
     },
     "cbbf983ba83b47b6bfa9f7e06da51713": {
      "model_module": "@jupyter-widgets/controls",
      "model_module_version": "1.5.0",
      "model_name": "FloatProgressModel",
      "state": {
       "layout": "IPY_MODEL_7829bc7a9e9448c3880150122a6edf95",
       "max": 1,
       "style": "IPY_MODEL_482e6a2a6992447bb90d82ff77b190b1",
       "value": 1
      }
     },
     "cc9a5a78eede4680a904954bcbc84abc": {
      "model_module": "@jupyter-widgets/controls",
      "model_module_version": "1.5.0",
      "model_name": "ProgressStyleModel",
      "state": {
       "description_width": ""
      }
     },
     "ccdef01d879f43b495de885db7010755": {
      "model_module": "@jupyter-widgets/base",
      "model_module_version": "1.2.0",
      "model_name": "LayoutModel",
      "state": {}
     },
     "ce37601a13d14fa1b15755e8b1e2d6e8": {
      "model_module": "@jupyter-widgets/controls",
      "model_module_version": "1.5.0",
      "model_name": "FloatProgressModel",
      "state": {
       "layout": "IPY_MODEL_5981dcf052b14cb5815f1acda8596a36",
       "max": 1,
       "style": "IPY_MODEL_37a91c957d2d45798baa42f155cc4e7e",
       "value": 1
      }
     },
     "ce732bdf9bf04fc69802b3bab7226415": {
      "model_module": "@jupyter-widgets/base",
      "model_module_version": "1.2.0",
      "model_name": "LayoutModel",
      "state": {}
     },
     "ce9fef1aeea84febb0e72495ced5b9f7": {
      "model_module": "@jupyter-widgets/base",
      "model_module_version": "1.2.0",
      "model_name": "LayoutModel",
      "state": {}
     },
     "cecaa4fc7cf6444da26a840b66dbe13f": {
      "model_module": "@jupyter-widgets/base",
      "model_module_version": "1.2.0",
      "model_name": "LayoutModel",
      "state": {}
     },
     "cf160fc7e5e34db2a771607798aff59a": {
      "model_module": "@jupyter-widgets/base",
      "model_module_version": "1.2.0",
      "model_name": "LayoutModel",
      "state": {}
     },
     "cf472b2dfa93460c8a4ae86747f7c4e1": {
      "model_module": "@jupyter-widgets/base",
      "model_module_version": "1.2.0",
      "model_name": "LayoutModel",
      "state": {}
     },
     "cf9d5b9e9db24688941b52fd727a204c": {
      "model_module": "@jupyter-widgets/base",
      "model_module_version": "1.2.0",
      "model_name": "LayoutModel",
      "state": {}
     },
     "cffd21917d0440cc8611611a952f802b": {
      "model_module": "@jupyter-widgets/base",
      "model_module_version": "1.2.0",
      "model_name": "LayoutModel",
      "state": {}
     },
     "d29a88c619004513aee01905fa5247f7": {
      "model_module": "@jupyter-widgets/base",
      "model_module_version": "1.2.0",
      "model_name": "LayoutModel",
      "state": {}
     },
     "d3162a3911fa4a149699874f74a6262b": {
      "model_module": "@jupyter-widgets/base",
      "model_module_version": "1.2.0",
      "model_name": "LayoutModel",
      "state": {}
     },
     "d52ab35cd4434fc99136af5879824ebf": {
      "model_module": "@jupyter-widgets/controls",
      "model_module_version": "1.5.0",
      "model_name": "DescriptionStyleModel",
      "state": {
       "description_width": ""
      }
     },
     "d56420e6dc17464d93e00a672719cc58": {
      "model_module": "@jupyter-widgets/controls",
      "model_module_version": "1.5.0",
      "model_name": "ProgressStyleModel",
      "state": {
       "description_width": ""
      }
     },
     "d5d1c55f78cf4c1cb7bce459ce308e31": {
      "model_module": "@jupyter-widgets/base",
      "model_module_version": "1.2.0",
      "model_name": "LayoutModel",
      "state": {}
     },
     "d6f5801c12e44988b45005d940ea016e": {
      "model_module": "@jupyter-widgets/base",
      "model_module_version": "1.2.0",
      "model_name": "LayoutModel",
      "state": {}
     },
     "d748df3a8c87496899ad0def1b6bde3f": {
      "model_module": "@jupyter-widgets/controls",
      "model_module_version": "1.5.0",
      "model_name": "FloatProgressModel",
      "state": {
       "layout": "IPY_MODEL_9ea3c7dcc2c84d0fbc4602d18a9d06d2",
       "max": 1,
       "style": "IPY_MODEL_3352d008cc2843b3a096fbc90b40cf7c",
       "value": 1
      }
     },
     "d74df637990f41a781ac86566ceb5ab8": {
      "model_module": "@jupyter-widgets/base",
      "model_module_version": "1.2.0",
      "model_name": "LayoutModel",
      "state": {}
     },
     "d89ca299318f44aebbf493daaac27265": {
      "model_module": "@jupyter-widgets/controls",
      "model_module_version": "1.5.0",
      "model_name": "FloatProgressModel",
      "state": {
       "layout": "IPY_MODEL_a47b23af5fae4ee9bce497dee55390c3",
       "max": 1,
       "style": "IPY_MODEL_ae609602f92f4bc3818dfc50a5d3adfd",
       "value": 1
      }
     },
     "d98af023ed5e492ab26a2429d62c5ead": {
      "model_module": "@jupyter-widgets/controls",
      "model_module_version": "1.5.0",
      "model_name": "ProgressStyleModel",
      "state": {
       "description_width": ""
      }
     },
     "db45c18752004012a0eef96495739851": {
      "model_module": "@jupyter-widgets/base",
      "model_module_version": "1.2.0",
      "model_name": "LayoutModel",
      "state": {}
     },
     "db55febb4faf48c19e7eebe57863d43f": {
      "model_module": "@jupyter-widgets/controls",
      "model_module_version": "1.5.0",
      "model_name": "DescriptionStyleModel",
      "state": {
       "description_width": ""
      }
     },
     "dbca8266626b4958adbe3d922b764873": {
      "model_module": "@jupyter-widgets/controls",
      "model_module_version": "1.5.0",
      "model_name": "LabelModel",
      "state": {
       "layout": "IPY_MODEL_968a65713653419fa816ed26ab382984",
       "style": "IPY_MODEL_5e8ec69650024b41a405849082fb467d",
       "value": " 0.03MB of 0.03MB uploaded (0.00MB deduped)\r"
      }
     },
     "dc02884c1cbd42d6b7a446f721a6a62a": {
      "model_module": "@jupyter-widgets/base",
      "model_module_version": "1.2.0",
      "model_name": "LayoutModel",
      "state": {}
     },
     "dc703775407d4dd9bb314c77e6eff302": {
      "model_module": "@jupyter-widgets/controls",
      "model_module_version": "1.5.0",
      "model_name": "DescriptionStyleModel",
      "state": {
       "description_width": ""
      }
     },
     "dc895c06947f4e4189bd520971899b7a": {
      "model_module": "@jupyter-widgets/base",
      "model_module_version": "1.2.0",
      "model_name": "LayoutModel",
      "state": {}
     },
     "dca417726bcc49b0a4114219fff93937": {
      "model_module": "@jupyter-widgets/controls",
      "model_module_version": "1.5.0",
      "model_name": "LabelModel",
      "state": {
       "layout": "IPY_MODEL_1a33facd251048af87b47b7ab96638cd",
       "style": "IPY_MODEL_13a90bf7ac4a40e39b8900050d870286",
       "value": " 0.02MB of 0.02MB uploaded (0.00MB deduped)\r"
      }
     },
     "ddab76fd6ec543799c1c2f8d962f474d": {
      "model_module": "@jupyter-widgets/controls",
      "model_module_version": "1.5.0",
      "model_name": "ProgressStyleModel",
      "state": {
       "description_width": ""
      }
     },
     "defb71078a42450d8bb8c50a27a5718a": {
      "model_module": "@jupyter-widgets/controls",
      "model_module_version": "1.5.0",
      "model_name": "FloatProgressModel",
      "state": {
       "layout": "IPY_MODEL_9b6fa7c5dc9a4a91b3feedbd3b216542",
       "max": 1,
       "style": "IPY_MODEL_f49097f2f52a40f8a5cb70fc3c3a4d0b",
       "value": 1
      }
     },
     "df4ae8da0c2949b9956d63f08cf2373c": {
      "model_module": "@jupyter-widgets/base",
      "model_module_version": "1.2.0",
      "model_name": "LayoutModel",
      "state": {}
     },
     "dfdd40de2a1546c79323a5361b536c3b": {
      "model_module": "@jupyter-widgets/controls",
      "model_module_version": "1.5.0",
      "model_name": "LabelModel",
      "state": {
       "layout": "IPY_MODEL_126415d679de408da01595972a37f994",
       "style": "IPY_MODEL_1e0c334a6fb74938898adbfc092ded81",
       "value": " 0.01MB of 0.01MB uploaded (0.00MB deduped)\r"
      }
     },
     "e170b85aab4f4c01b4b99332f0c96133": {
      "model_module": "@jupyter-widgets/controls",
      "model_module_version": "1.5.0",
      "model_name": "FloatProgressModel",
      "state": {
       "layout": "IPY_MODEL_326e2cbf9b0f47cd9051b70e6e3e3cf8",
       "max": 1,
       "style": "IPY_MODEL_d56420e6dc17464d93e00a672719cc58",
       "value": 1
      }
     },
     "e2ef2cac81a748b2978fc7a4e51bcc61": {
      "model_module": "@jupyter-widgets/base",
      "model_module_version": "1.2.0",
      "model_name": "LayoutModel",
      "state": {}
     },
     "e2f68a41a33847e68e2742e51f25c359": {
      "model_module": "@jupyter-widgets/controls",
      "model_module_version": "1.5.0",
      "model_name": "LabelModel",
      "state": {
       "layout": "IPY_MODEL_0c84647b28fe48caacfe55d254523abd",
       "style": "IPY_MODEL_12e68db399774ee4bd1c0e687ce778f1",
       "value": " 0.15MB of 0.15MB uploaded (0.00MB deduped)\r"
      }
     },
     "e30ccaa6fff5491d9e4a0a43a5b119da": {
      "model_module": "@jupyter-widgets/controls",
      "model_module_version": "1.5.0",
      "model_name": "FloatProgressModel",
      "state": {
       "layout": "IPY_MODEL_6142be8583d64d08bf1e406ebae699f0",
       "max": 1,
       "style": "IPY_MODEL_ddab76fd6ec543799c1c2f8d962f474d",
       "value": 1
      }
     },
     "e31899b468484680a33f0f5445a2f464": {
      "model_module": "@jupyter-widgets/controls",
      "model_module_version": "1.5.0",
      "model_name": "DescriptionStyleModel",
      "state": {
       "description_width": ""
      }
     },
     "e3248038248e44f69d8e4fc6a96c6ace": {
      "model_module": "@jupyter-widgets/controls",
      "model_module_version": "1.5.0",
      "model_name": "LabelModel",
      "state": {
       "layout": "IPY_MODEL_2e0455e8202b41df84109214fb19ae5e",
       "style": "IPY_MODEL_0bfd2dfd201d418ca3fdf758b43c861f",
       "value": " 0.01MB of 0.01MB uploaded (0.00MB deduped)\r"
      }
     },
     "e32e9952ae2442f59a334ecabe4cf562": {
      "model_module": "@jupyter-widgets/controls",
      "model_module_version": "1.5.0",
      "model_name": "ProgressStyleModel",
      "state": {
       "description_width": ""
      }
     },
     "e517c29ca3ac4fffa75c34cf6691a267": {
      "model_module": "@jupyter-widgets/controls",
      "model_module_version": "1.5.0",
      "model_name": "ProgressStyleModel",
      "state": {
       "description_width": ""
      }
     },
     "e7363e4acdce4ea397d73a36a62f0695": {
      "model_module": "@jupyter-widgets/base",
      "model_module_version": "1.2.0",
      "model_name": "LayoutModel",
      "state": {}
     },
     "e73d79cdf8f64ee9ab469b951f0914d5": {
      "model_module": "@jupyter-widgets/base",
      "model_module_version": "1.2.0",
      "model_name": "LayoutModel",
      "state": {}
     },
     "e7b3a7b3434d416db2fd5c7b8850b31a": {
      "model_module": "@jupyter-widgets/controls",
      "model_module_version": "1.5.0",
      "model_name": "FloatProgressModel",
      "state": {
       "layout": "IPY_MODEL_a1736798db8544419dca79f02f1bd6c8",
       "max": 1,
       "style": "IPY_MODEL_2848b7b57c6d4a9f98a7ee38c06bcfa4"
      }
     },
     "e7d04845b6a34518a2514a6abee13aac": {
      "model_module": "@jupyter-widgets/base",
      "model_module_version": "1.2.0",
      "model_name": "LayoutModel",
      "state": {}
     },
     "ec01e5e18746463cbca3cb0f4a993333": {
      "model_module": "@jupyter-widgets/controls",
      "model_module_version": "1.5.0",
      "model_name": "DescriptionStyleModel",
      "state": {
       "description_width": ""
      }
     },
     "ecbc79895658410eb6c565e37dbd896f": {
      "model_module": "@jupyter-widgets/base",
      "model_module_version": "1.2.0",
      "model_name": "LayoutModel",
      "state": {}
     },
     "ed517c9f1d5743009173d46e7a96e3e3": {
      "model_module": "@jupyter-widgets/controls",
      "model_module_version": "1.5.0",
      "model_name": "FloatProgressModel",
      "state": {
       "layout": "IPY_MODEL_5974ed98cde44d1cae93a6ad32355bf8",
       "max": 1,
       "style": "IPY_MODEL_afc7b7523f204bb8a83ddc890849d471",
       "value": 1
      }
     },
     "ef144a9597664edaaf3a12d8b9c6cf66": {
      "model_module": "@jupyter-widgets/controls",
      "model_module_version": "1.5.0",
      "model_name": "FloatProgressModel",
      "state": {
       "layout": "IPY_MODEL_8834f8294b6c4637a8fc32e8417750e0",
       "max": 1,
       "style": "IPY_MODEL_f4198fb239fe47f295d7c944077fbf88",
       "value": 1
      }
     },
     "ef59b990a7c742b1ab324042d1aa8aba": {
      "model_module": "@jupyter-widgets/controls",
      "model_module_version": "1.5.0",
      "model_name": "ProgressStyleModel",
      "state": {
       "description_width": ""
      }
     },
     "efdfb92699b145eba7d5ed3b06214f50": {
      "model_module": "@jupyter-widgets/base",
      "model_module_version": "1.2.0",
      "model_name": "LayoutModel",
      "state": {}
     },
     "f02836cd1a4c4916bf9a85aca9839e32": {
      "model_module": "@jupyter-widgets/controls",
      "model_module_version": "1.5.0",
      "model_name": "LabelModel",
      "state": {
       "layout": "IPY_MODEL_8602db94a30649ffa8a745cca34e0fd2",
       "style": "IPY_MODEL_7a80e81760b5463892c50dc24e8410ef",
       "value": " 0.01MB of 0.01MB uploaded (0.00MB deduped)\r"
      }
     },
     "f06866e44cef4bc483a461eb4e28af5a": {
      "model_module": "@jupyter-widgets/base",
      "model_module_version": "1.2.0",
      "model_name": "LayoutModel",
      "state": {}
     },
     "f13054673a8b431fa12b0c1b92cf8f33": {
      "model_module": "@jupyter-widgets/base",
      "model_module_version": "1.2.0",
      "model_name": "LayoutModel",
      "state": {}
     },
     "f134aa673b054e0784633b86ad166d5c": {
      "model_module": "@jupyter-widgets/controls",
      "model_module_version": "1.5.0",
      "model_name": "ProgressStyleModel",
      "state": {
       "description_width": ""
      }
     },
     "f17092180ec1447ebc3c211b15ea9838": {
      "model_module": "@jupyter-widgets/base",
      "model_module_version": "1.2.0",
      "model_name": "LayoutModel",
      "state": {}
     },
     "f1f1eaaa92234a1694418fce88f3beab": {
      "model_module": "@jupyter-widgets/controls",
      "model_module_version": "1.5.0",
      "model_name": "LabelModel",
      "state": {
       "layout": "IPY_MODEL_df4ae8da0c2949b9956d63f08cf2373c",
       "style": "IPY_MODEL_ec01e5e18746463cbca3cb0f4a993333",
       "value": " 0.04MB of 0.04MB uploaded (0.00MB deduped)\r"
      }
     },
     "f21a2e10f75440139dd2e2d1ba0e73c0": {
      "model_module": "@jupyter-widgets/controls",
      "model_module_version": "1.5.0",
      "model_name": "FloatProgressModel",
      "state": {
       "layout": "IPY_MODEL_b3e31f8621bf458fb4fc54e65730265e",
       "max": 1,
       "style": "IPY_MODEL_6cd8b237d935426f851272bed0bceafd",
       "value": 1
      }
     },
     "f2281dbbec2c4e0386d9ba9ff89d1f8d": {
      "model_module": "@jupyter-widgets/base",
      "model_module_version": "1.2.0",
      "model_name": "LayoutModel",
      "state": {}
     },
     "f2af2362167341efa0da6fdef628534f": {
      "model_module": "@jupyter-widgets/controls",
      "model_module_version": "1.5.0",
      "model_name": "ProgressStyleModel",
      "state": {
       "description_width": ""
      }
     },
     "f39770b215034207bd2b86cff9fc5267": {
      "model_module": "@jupyter-widgets/controls",
      "model_module_version": "1.5.0",
      "model_name": "DescriptionStyleModel",
      "state": {
       "description_width": ""
      }
     },
     "f4198fb239fe47f295d7c944077fbf88": {
      "model_module": "@jupyter-widgets/controls",
      "model_module_version": "1.5.0",
      "model_name": "ProgressStyleModel",
      "state": {
       "description_width": ""
      }
     },
     "f489b4f4c8f14cb49d6d155a1e88e53d": {
      "model_module": "@jupyter-widgets/base",
      "model_module_version": "1.2.0",
      "model_name": "LayoutModel",
      "state": {}
     },
     "f49097f2f52a40f8a5cb70fc3c3a4d0b": {
      "model_module": "@jupyter-widgets/controls",
      "model_module_version": "1.5.0",
      "model_name": "ProgressStyleModel",
      "state": {
       "description_width": ""
      }
     },
     "f4b4d402f13048129a0d77ac286f333f": {
      "model_module": "@jupyter-widgets/base",
      "model_module_version": "1.2.0",
      "model_name": "LayoutModel",
      "state": {}
     },
     "f507d28c3a564e58a522f11db3f93510": {
      "model_module": "@jupyter-widgets/controls",
      "model_module_version": "1.5.0",
      "model_name": "ProgressStyleModel",
      "state": {
       "description_width": ""
      }
     },
     "f59db0c379b4432eaff3e63f3fa47cca": {
      "model_module": "@jupyter-widgets/base",
      "model_module_version": "1.2.0",
      "model_name": "LayoutModel",
      "state": {}
     },
     "f71dc31fefe44849a6bce942b737d570": {
      "model_module": "@jupyter-widgets/base",
      "model_module_version": "1.2.0",
      "model_name": "LayoutModel",
      "state": {}
     },
     "f740821d2dc54ab8a3a233e3cbb689e7": {
      "model_module": "@jupyter-widgets/controls",
      "model_module_version": "1.5.0",
      "model_name": "ProgressStyleModel",
      "state": {
       "description_width": ""
      }
     },
     "f7455fa9c62b4188b85bcff8e8697dcf": {
      "model_module": "@jupyter-widgets/controls",
      "model_module_version": "1.5.0",
      "model_name": "LabelModel",
      "state": {
       "layout": "IPY_MODEL_2ea9ec25101244f2b17a25e979ad4cb9",
       "style": "IPY_MODEL_abe3b5b2fdf64952b4b4624d2b3cb3b8",
       "value": " 0.01MB of 0.01MB uploaded (0.00MB deduped)\r"
      }
     },
     "f7807166830e40aeaec9d0a544642c40": {
      "model_module": "@jupyter-widgets/controls",
      "model_module_version": "1.5.0",
      "model_name": "FloatProgressModel",
      "state": {
       "layout": "IPY_MODEL_d3162a3911fa4a149699874f74a6262b",
       "max": 1,
       "style": "IPY_MODEL_307aca80122f4a6c8f516a25fd338077",
       "value": 1
      }
     },
     "fb0efaaf0abb47ce9eec3c122a3faa49": {
      "model_module": "@jupyter-widgets/controls",
      "model_module_version": "1.5.0",
      "model_name": "FloatProgressModel",
      "state": {
       "layout": "IPY_MODEL_2694fe170e6d46c1bf856d07c4f6e378",
       "max": 1,
       "style": "IPY_MODEL_0d2182030f6c459ab85e2dce8bb3549a",
       "value": 1
      }
     },
     "fb3ede04b10a40edb33bd35cf67dfede": {
      "model_module": "@jupyter-widgets/base",
      "model_module_version": "1.2.0",
      "model_name": "LayoutModel",
      "state": {}
     },
     "fcc51054ebd24d0287aa050cf3f5a724": {
      "model_module": "@jupyter-widgets/base",
      "model_module_version": "1.2.0",
      "model_name": "LayoutModel",
      "state": {}
     },
     "fd2b10a0ad8b4578b454f360b7cfd5dd": {
      "model_module": "@jupyter-widgets/controls",
      "model_module_version": "1.5.0",
      "model_name": "LabelModel",
      "state": {
       "layout": "IPY_MODEL_12c5d9c5328b4465b86175dbd8f5ed87",
       "style": "IPY_MODEL_434188b995ca475280f1d0229cbe0634",
       "value": " 0.10MB of 0.10MB uploaded (0.00MB deduped)\r"
      }
     },
     "fd2d1727951e462598f2688b1cde2b8f": {
      "model_module": "@jupyter-widgets/base",
      "model_module_version": "1.2.0",
      "model_name": "LayoutModel",
      "state": {}
     },
     "fedf8c5211e441b585f20a7e106d409f": {
      "model_module": "@jupyter-widgets/controls",
      "model_module_version": "1.5.0",
      "model_name": "DescriptionStyleModel",
      "state": {
       "description_width": ""
      }
     },
     "ff020f8e343f495199313a423874a765": {
      "model_module": "@jupyter-widgets/base",
      "model_module_version": "1.2.0",
      "model_name": "LayoutModel",
      "state": {}
     },
     "ffe73329afc046eeb80e690fb2841f77": {
      "model_module": "@jupyter-widgets/base",
      "model_module_version": "1.2.0",
      "model_name": "LayoutModel",
      "state": {}
     }
    },
    "version_major": 2,
    "version_minor": 0
   }
  }
 },
 "nbformat": 4,
 "nbformat_minor": 5
}
