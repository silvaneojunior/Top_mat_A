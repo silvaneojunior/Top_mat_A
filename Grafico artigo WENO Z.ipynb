{
 "cells": [
  {
   "cell_type": "code",
   "execution_count": 1,
   "id": "ae864f4d",
   "metadata": {},
   "outputs": [],
   "source": [
    "# Importando os módulos que serão utilizados\n",
    "\n",
    "import tensorflow as tf\n",
    "import numpy as np\n",
    "import tensorflow.keras as keras\n",
    "import matplotlib.pyplot as plt\n",
    "import time\n",
    "\n",
    "# Configurando o acesso do Tensorflow aos processadores do computador\n",
    "# no caso, está sendo selecionada a primeira placa de vídeo listada\n",
    "\n",
    "gpus= tf.config.experimental.list_physical_devices('GPU') # listando as plavas de vídeo\n",
    "tf.config.experimental.set_memory_growth(gpus[0], True)   # selecionando a primeira GPU e configurando\n",
    "\n",
    "# Importando os módulos contendo as funções criadas no projeto\n",
    "\n",
    "from aux_func_V2 import *\n",
    "import aux_func_numpy as debug\n",
    "\n",
    "float_pres='float64' # definindo a precisão padrão para as análises"
   ]
  },
  {
   "cell_type": "code",
   "execution_count": 2,
   "id": "c3978be7",
   "metadata": {},
   "outputs": [],
   "source": [
    "# Função que define a taxa de aprendizagem para diferentes\n",
    "# iterações de treino, a ideia é começar com uma taxa grande e \n",
    "# diminuir ao longo do treino para \"refinar\" a aprendizagem da rede\n",
    "\n",
    "def scheduler(epoch, lr):\n",
    "    if epoch < 1:\n",
    "        return 10**-2\n",
    "    elif epoch<2:\n",
    "        return 10**-3\n",
    "    else:\n",
    "        return 10**-4\n",
    "    \n",
    "# Passando para o keras a função anterior\n",
    "callback = tf.keras.callbacks.LearningRateScheduler(scheduler)"
   ]
  },
  {
   "cell_type": "code",
   "execution_count": 3,
   "id": "bec478ba",
   "metadata": {},
   "outputs": [],
   "source": [
    "# Definindo a função de ativação utilizada na arquitetura da rede\n",
    "ativ_func=lambda x: tf.nn.elu(x)+1\n",
    "\n",
    "class Burguers_layer(keras.layers.Layer):\n",
    "    \"\"\"Criando uma camada de rede neural cuja superclasse é a camada\n",
    "    do keras para integrar o algoritmo do WENO com a rede neural\"\"\"\n",
    "    \n",
    "    def __init__(self, t_final, Δx, CFL, fronteira):\n",
    "        \"\"\"\n",
    "        Construtor da classe\n",
    "        --------------------------------------------------------------------------------------\n",
    "        t_final      (float): unidade temporal de treino\n",
    "        Δx           (float): tamanho da malha espacial\n",
    "        CFL          (float): constante utilizada para determinar o tamanho da malha temporal\n",
    "        fronteira (function): função que determina o comportamento do algoritmo na fronteira\n",
    "        \"\"\"\n",
    "        super(Burguers_layer, self).__init__(dtype=float_pres)               # chamando o inicializador da superclasse\n",
    "        self.t_final = tf.Variable(t_final,dtype=float_pres,trainable=False) # definindo t_final como variável do Tensorflow\n",
    "        \n",
    "        # salvando os valores dos parâmetros do construtor no objeto\n",
    "        self.Δx        = Δx\n",
    "        self.CFL       = CFL\n",
    "        self.fronteira = fronteira\n",
    "        \n",
    "    def build(self, input_shape):\n",
    "        \"\"\"\n",
    "        Função para compor as camadas que constituem essa camada da rede neural\n",
    "        ------------------------------------------------------------------------\n",
    "        input_shape (?): não é utilizado por essa função\n",
    "        \"\"\"\n",
    "        self.layers=[]\n",
    "        wei_reg=tf.keras.regularizers.L2(0*10**-3)                                                                        # regularização dos pesos da rede\n",
    "        self.layers.append(tf.keras.layers.ZeroPadding1D(padding=2))                                                      # camada de padding de zeros em 1 dimensão\n",
    "        self.layers.append(keras.layers.Conv1D(5, 5, activation='elu',     dtype=float_pres, kernel_regularizer=wei_reg)) # camada de convolução em 1 dimensão\n",
    "        self.layers.append(tf.keras.layers.ZeroPadding1D(padding=2))                                                      # camada de padding de zeros em 1 dimensão\n",
    "        self.layers.append(keras.layers.Conv1D(3, 5, activation='elu',     dtype=float_pres, kernel_regularizer=wei_reg)) # camada de convolução em 1 dimensão\n",
    "        self.layers.append(keras.layers.Conv1D(1, 1, activation='sigmoid', dtype=float_pres, kernel_regularizer=wei_reg)) # camada de convolução em 1 dimensão\n",
    "        \n",
    "    def network_graph(self,x):\n",
    "        \"\"\"\n",
    "        Função utilizado para montar o graph da rede neural (?)\n",
    "        --------------------------------------------------------\n",
    "        x (?): ???\n",
    "        --------------------------------------------------------\n",
    "        y (?): ???\n",
    "        \"\"\"\n",
    "        y=x\n",
    "        for layer in self.layers:\n",
    "            y=layer(y)\n",
    "        return y\n",
    "        \n",
    "    def call(self, inpt, mask=None):\n",
    "        \"\"\"\n",
    "        Função utilizada para treino que recebe o input da camada e computa o output\n",
    "        -----------------------------------------------------------------------------\n",
    "        inpt (tensor): input passado para a camada\n",
    "        mask      (?): não é utilizado por essa função\n",
    "        -----------------------------------------------------------------------------\n",
    "        outpt (tensor): output retorna pela camada\n",
    "        \"\"\"\n",
    "        Λ  = tf.math.reduce_max(tf.abs(inpt))\n",
    "        Δt = self.Δx*self.CFL/Λ\n",
    "        Δt = tf.where(Δt > self.t_final, self.t_final, Δt)\n",
    "        \n",
    "        outpt = Graph_Burgers(u=inpt, Δt=Δt, Δx=self.Δx, fronteira=self.fronteira, network=self.network_graph)\n",
    "        return outpt\n",
    "    \n",
    "    def predict(self, inputs, mask=None):\n",
    "        \"\"\"Função que faz previsão a partir de um input\"\"\"\n",
    "        return self(inputs, mask=mask) # chamando o função call (self.predict(inputs, mask) = self.call(inpt, mask))"
   ]
  },
  {
   "cell_type": "code",
   "execution_count": 4,
   "id": "07dd30db",
   "metadata": {},
   "outputs": [
    {
     "data": {
      "text/plain": [
       "<tensorflow.python.training.tracking.util.CheckpointLoadStatus at 0x234a013fdc0>"
      ]
     },
     "execution_count": 4,
     "metadata": {},
     "output_type": "execute_result"
    }
   ],
   "source": [
    "# definindo o input da rede e o otimizador de treino\n",
    "input_x   = keras.layers.Input([200,1],dtype=float_pres)\n",
    "optimizer = keras.optimizers.Adam(learning_rate=10**-4, beta_1=0.9, beta_2=0.999, clipnorm=1.0)\n",
    "\n",
    "# criando uma camada de Burgers que integra o WENO à rede neural\n",
    "final_layer = Burguers_layer(t_final=0.1, Δx=0.01, CFL=0.5, fronteira=FronteiraPeriodica)\n",
    "\n",
    "class MES_OF(tf.keras.losses.Loss):\n",
    "    \"\"\"Criando uma função de custo cuja superclasse é a de funções de\n",
    "    custo do keras\"\"\"\n",
    "    \n",
    "    def call(self, y_true, y_pred):\n",
    "        \"\"\"\n",
    "        Função que avalia o custo dado um valor de referência e um valor previsto\n",
    "        --------------------------------------------------------------------------\n",
    "        y_true (tensor): valor de referência\n",
    "        y_pred (tensor): valor predito\n",
    "        --------------------------------------------------------------------------\n",
    "        loss   (tensor): custo associado\n",
    "        \"\"\"\n",
    "        y_true = tf.cast(y_true, y_pred.dtype) # convertendo os tipos para evitar conflitos\n",
    "        y_min  = tf.math.reduce_min(y_true, axis=1, keepdims=True)\n",
    "        y_max  = tf.math.reduce_max(y_true, axis=1, keepdims=True)\n",
    "        \n",
    "        loss = tf.reduce_mean(tf.math.square(y_pred - y_true), axis=-1)+tf.reduce_sum(tf.where(y_pred>y_max,y_pred-y_max,0)+tf.where(y_pred<y_min,y_min-y_pred,0), axis=-1)\n",
    "        \n",
    "        return loss\n",
    "\n",
    "Network=keras.Model(input_x, final_layer(input_x))                                   # criando a rede neural\n",
    "Network.compile(loss=MES_OF(), optimizer=optimizer, metrics=['mean_absolute_error']) # configurando a função de perda e o otimizador\n",
    "\n",
    "Network.load_weights('Modelo artigo') # carregando os pesos da rede neural treinados"
   ]
  },
  {
   "cell_type": "code",
   "execution_count": 6,
   "id": "8d1388e9",
   "metadata": {},
   "outputs": [
    {
     "data": {
      "image/png": "[encoded data removed]",
      "text/plain": [
       "<Figure size 432x432 with 1 Axes>"
      ]
     },
     "metadata": {},
     "output_type": "display_data"
    },
    {
     "name": "stdout",
     "output_type": "stream",
     "text": [
      "t:  0.001                                 \n",
      "\n"
     ]
    },
    {
     "ename": "ValueError",
     "evalue": "in user code:\n\n    C:\\Jupyter\\Edge detection\\aux_func_V2.py:77 Burgers  *\n        return Graph_Burgers2(u, Δt, Δx, CFL, fronteira,network)\n    C:\\Jupyter\\Edge detection\\aux_func_V2.py:55 Graph_Burgers2  *\n        u1 = u - Δt*DerivadaEspacial(u, Δx, Λ, fronteira,network)\n    C:\\Jupyter\\Edge detection\\aux_func_V2.py:98 DerivadaEspacial  *\n        U_diff=tf.concat([U[:,2:]-U[:,:-2],U[:,2:]-2*U[:,1:-1]+U[:,:-2]],axis=2)\n    C:\\ProgramData\\Miniconda3\\lib\\site-packages\\tensorflow\\python\\util\\dispatch.py:206 wrapper  **\n        return target(*args, **kwargs)\n    C:\\ProgramData\\Miniconda3\\lib\\site-packages\\tensorflow\\python\\ops\\array_ops.py:1769 concat\n        return gen_array_ops.concat_v2(values=values, axis=axis, name=name)\n    C:\\ProgramData\\Miniconda3\\lib\\site-packages\\tensorflow\\python\\ops\\gen_array_ops.py:1226 concat_v2\n        _, _, _op, _outputs = _op_def_library._apply_op_helper(\n    C:\\ProgramData\\Miniconda3\\lib\\site-packages\\tensorflow\\python\\framework\\op_def_library.py:748 _apply_op_helper\n        op = g._create_op_internal(op_type_name, inputs, dtypes=None,\n    C:\\ProgramData\\Miniconda3\\lib\\site-packages\\tensorflow\\python\\framework\\func_graph.py:599 _create_op_internal\n        return super(FuncGraph, self)._create_op_internal(  # pylint: disable=protected-access\n    C:\\ProgramData\\Miniconda3\\lib\\site-packages\\tensorflow\\python\\framework\\ops.py:3561 _create_op_internal\n        ret = Operation(\n    C:\\ProgramData\\Miniconda3\\lib\\site-packages\\tensorflow\\python\\framework\\ops.py:2041 __init__\n        self._c_op = _create_c_op(self._graph, node_def, inputs,\n    C:\\ProgramData\\Miniconda3\\lib\\site-packages\\tensorflow\\python\\framework\\ops.py:1883 _create_c_op\n        raise ValueError(str(e))\n\n    ValueError: Shape must be at least rank 3 but is rank 2 for '{{node while/concat_1}} = ConcatV2[N=2, T=DT_DOUBLE, Tidx=DT_INT32](while/sub_1, while/add_1, while/concat_1/axis)' with input shapes: [1,204], [1,204], [] and with computed input tensors: input[2] = <2>.\n",
     "output_type": "error",
     "traceback": [
      "\u001b[1;31m---------------------------------------------------------------------------\u001b[0m",
      "\u001b[1;31mValueError\u001b[0m                                Traceback (most recent call last)",
      "\u001b[1;32m<ipython-input-6-dbeaf4bb5064>\u001b[0m in \u001b[0;36m<module>\u001b[1;34m\u001b[0m\n\u001b[0;32m     60\u001b[0m     \u001b[0mΔt\u001b[0m \u001b[1;33m=\u001b[0m \u001b[0mΔx\u001b[0m\u001b[1;33m*\u001b[0m\u001b[0mCFL\u001b[0m\u001b[1;33m/\u001b[0m\u001b[0mΛ\u001b[0m\u001b[1;33m\u001b[0m\u001b[1;33m\u001b[0m\u001b[0m\n\u001b[0;32m     61\u001b[0m     \u001b[0mΔt\u001b[0m \u001b[1;33m=\u001b[0m \u001b[0mtf\u001b[0m\u001b[1;33m.\u001b[0m\u001b[0mwhere\u001b[0m\u001b[1;33m(\u001b[0m\u001b[0mΔt\u001b[0m \u001b[1;33m>\u001b[0m \u001b[0mΔt_max\u001b[0m\u001b[1;33m,\u001b[0m\u001b[0mΔt_max\u001b[0m\u001b[1;33m,\u001b[0m\u001b[0mΔt\u001b[0m\u001b[1;33m)\u001b[0m\u001b[1;33m\u001b[0m\u001b[1;33m\u001b[0m\u001b[0m\n\u001b[1;32m---> 62\u001b[1;33m     \u001b[0mu_Z\u001b[0m \u001b[1;33m=\u001b[0m \u001b[0mBurgers\u001b[0m\u001b[1;33m(\u001b[0m\u001b[0mu_Z\u001b[0m\u001b[1;33m,\u001b[0m\u001b[0mΔt\u001b[0m\u001b[1;33m,\u001b[0m \u001b[0mΔx\u001b[0m\u001b[1;33m,\u001b[0m \u001b[0mCFL\u001b[0m\u001b[1;33m,\u001b[0m \u001b[0mFronteiraPeriodica\u001b[0m\u001b[1;33m)\u001b[0m\u001b[1;33m\u001b[0m\u001b[1;33m\u001b[0m\u001b[0m\n\u001b[0m\u001b[0;32m     63\u001b[0m \u001b[1;33m\u001b[0m\u001b[0m\n\u001b[0;32m     64\u001b[0m     \u001b[0msqueezed_u\u001b[0m\u001b[1;33m=\u001b[0m\u001b[0mtf\u001b[0m\u001b[1;33m.\u001b[0m\u001b[0msqueeze\u001b[0m\u001b[1;33m(\u001b[0m\u001b[0mu_Z\u001b[0m\u001b[1;33m)\u001b[0m\u001b[1;33m\u001b[0m\u001b[1;33m\u001b[0m\u001b[0m\n",
      "\u001b[1;32mC:\\ProgramData\\Miniconda3\\lib\\site-packages\\tensorflow\\python\\eager\\def_function.py\u001b[0m in \u001b[0;36m__call__\u001b[1;34m(self, *args, **kwds)\u001b[0m\n\u001b[0;32m    883\u001b[0m \u001b[1;33m\u001b[0m\u001b[0m\n\u001b[0;32m    884\u001b[0m       \u001b[1;32mwith\u001b[0m \u001b[0mOptionalXlaContext\u001b[0m\u001b[1;33m(\u001b[0m\u001b[0mself\u001b[0m\u001b[1;33m.\u001b[0m\u001b[0m_jit_compile\u001b[0m\u001b[1;33m)\u001b[0m\u001b[1;33m:\u001b[0m\u001b[1;33m\u001b[0m\u001b[1;33m\u001b[0m\u001b[0m\n\u001b[1;32m--> 885\u001b[1;33m         \u001b[0mresult\u001b[0m \u001b[1;33m=\u001b[0m \u001b[0mself\u001b[0m\u001b[1;33m.\u001b[0m\u001b[0m_call\u001b[0m\u001b[1;33m(\u001b[0m\u001b[1;33m*\u001b[0m\u001b[0margs\u001b[0m\u001b[1;33m,\u001b[0m \u001b[1;33m**\u001b[0m\u001b[0mkwds\u001b[0m\u001b[1;33m)\u001b[0m\u001b[1;33m\u001b[0m\u001b[1;33m\u001b[0m\u001b[0m\n\u001b[0m\u001b[0;32m    886\u001b[0m \u001b[1;33m\u001b[0m\u001b[0m\n\u001b[0;32m    887\u001b[0m       \u001b[0mnew_tracing_count\u001b[0m \u001b[1;33m=\u001b[0m \u001b[0mself\u001b[0m\u001b[1;33m.\u001b[0m\u001b[0mexperimental_get_tracing_count\u001b[0m\u001b[1;33m(\u001b[0m\u001b[1;33m)\u001b[0m\u001b[1;33m\u001b[0m\u001b[1;33m\u001b[0m\u001b[0m\n",
      "\u001b[1;32mC:\\ProgramData\\Miniconda3\\lib\\site-packages\\tensorflow\\python\\eager\\def_function.py\u001b[0m in \u001b[0;36m_call\u001b[1;34m(self, *args, **kwds)\u001b[0m\n\u001b[0;32m    922\u001b[0m       \u001b[1;31m# In this case we have not created variables on the first call. So we can\u001b[0m\u001b[1;33m\u001b[0m\u001b[1;33m\u001b[0m\u001b[1;33m\u001b[0m\u001b[0m\n\u001b[0;32m    923\u001b[0m       \u001b[1;31m# run the first trace but we should fail if variables are created.\u001b[0m\u001b[1;33m\u001b[0m\u001b[1;33m\u001b[0m\u001b[1;33m\u001b[0m\u001b[0m\n\u001b[1;32m--> 924\u001b[1;33m       \u001b[0mresults\u001b[0m \u001b[1;33m=\u001b[0m \u001b[0mself\u001b[0m\u001b[1;33m.\u001b[0m\u001b[0m_stateful_fn\u001b[0m\u001b[1;33m(\u001b[0m\u001b[1;33m*\u001b[0m\u001b[0margs\u001b[0m\u001b[1;33m,\u001b[0m \u001b[1;33m**\u001b[0m\u001b[0mkwds\u001b[0m\u001b[1;33m)\u001b[0m\u001b[1;33m\u001b[0m\u001b[1;33m\u001b[0m\u001b[0m\n\u001b[0m\u001b[0;32m    925\u001b[0m       \u001b[1;32mif\u001b[0m \u001b[0mself\u001b[0m\u001b[1;33m.\u001b[0m\u001b[0m_created_variables\u001b[0m \u001b[1;32mand\u001b[0m \u001b[1;32mnot\u001b[0m \u001b[0mALLOW_DYNAMIC_VARIABLE_CREATION\u001b[0m\u001b[1;33m:\u001b[0m\u001b[1;33m\u001b[0m\u001b[1;33m\u001b[0m\u001b[0m\n\u001b[0;32m    926\u001b[0m         raise ValueError(\"Creating variables on a non-first call to a function\"\n",
      "\u001b[1;32mC:\\ProgramData\\Miniconda3\\lib\\site-packages\\tensorflow\\python\\eager\\function.py\u001b[0m in \u001b[0;36m__call__\u001b[1;34m(self, *args, **kwargs)\u001b[0m\n\u001b[0;32m   3036\u001b[0m     \u001b[1;32mwith\u001b[0m \u001b[0mself\u001b[0m\u001b[1;33m.\u001b[0m\u001b[0m_lock\u001b[0m\u001b[1;33m:\u001b[0m\u001b[1;33m\u001b[0m\u001b[1;33m\u001b[0m\u001b[0m\n\u001b[0;32m   3037\u001b[0m       (graph_function,\n\u001b[1;32m-> 3038\u001b[1;33m        filtered_flat_args) = self._maybe_define_function(args, kwargs)\n\u001b[0m\u001b[0;32m   3039\u001b[0m     return graph_function._call_flat(\n\u001b[0;32m   3040\u001b[0m         filtered_flat_args, captured_inputs=graph_function.captured_inputs)  # pylint: disable=protected-access\n",
      "\u001b[1;32mC:\\ProgramData\\Miniconda3\\lib\\site-packages\\tensorflow\\python\\eager\\function.py\u001b[0m in \u001b[0;36m_maybe_define_function\u001b[1;34m(self, args, kwargs)\u001b[0m\n\u001b[0;32m   3461\u001b[0m \u001b[1;33m\u001b[0m\u001b[0m\n\u001b[0;32m   3462\u001b[0m           \u001b[0mself\u001b[0m\u001b[1;33m.\u001b[0m\u001b[0m_function_cache\u001b[0m\u001b[1;33m.\u001b[0m\u001b[0mmissed\u001b[0m\u001b[1;33m.\u001b[0m\u001b[0madd\u001b[0m\u001b[1;33m(\u001b[0m\u001b[0mcall_context_key\u001b[0m\u001b[1;33m)\u001b[0m\u001b[1;33m\u001b[0m\u001b[1;33m\u001b[0m\u001b[0m\n\u001b[1;32m-> 3463\u001b[1;33m           \u001b[0mgraph_function\u001b[0m \u001b[1;33m=\u001b[0m \u001b[0mself\u001b[0m\u001b[1;33m.\u001b[0m\u001b[0m_create_graph_function\u001b[0m\u001b[1;33m(\u001b[0m\u001b[0margs\u001b[0m\u001b[1;33m,\u001b[0m \u001b[0mkwargs\u001b[0m\u001b[1;33m)\u001b[0m\u001b[1;33m\u001b[0m\u001b[1;33m\u001b[0m\u001b[0m\n\u001b[0m\u001b[0;32m   3464\u001b[0m           \u001b[0mself\u001b[0m\u001b[1;33m.\u001b[0m\u001b[0m_function_cache\u001b[0m\u001b[1;33m.\u001b[0m\u001b[0mprimary\u001b[0m\u001b[1;33m[\u001b[0m\u001b[0mcache_key\u001b[0m\u001b[1;33m]\u001b[0m \u001b[1;33m=\u001b[0m \u001b[0mgraph_function\u001b[0m\u001b[1;33m\u001b[0m\u001b[1;33m\u001b[0m\u001b[0m\n\u001b[0;32m   3465\u001b[0m \u001b[1;33m\u001b[0m\u001b[0m\n",
      "\u001b[1;32mC:\\ProgramData\\Miniconda3\\lib\\site-packages\\tensorflow\\python\\eager\\function.py\u001b[0m in \u001b[0;36m_create_graph_function\u001b[1;34m(self, args, kwargs, override_flat_arg_shapes)\u001b[0m\n\u001b[0;32m   3296\u001b[0m     \u001b[0marg_names\u001b[0m \u001b[1;33m=\u001b[0m \u001b[0mbase_arg_names\u001b[0m \u001b[1;33m+\u001b[0m \u001b[0mmissing_arg_names\u001b[0m\u001b[1;33m\u001b[0m\u001b[1;33m\u001b[0m\u001b[0m\n\u001b[0;32m   3297\u001b[0m     graph_function = ConcreteFunction(\n\u001b[1;32m-> 3298\u001b[1;33m         func_graph_module.func_graph_from_py_func(\n\u001b[0m\u001b[0;32m   3299\u001b[0m             \u001b[0mself\u001b[0m\u001b[1;33m.\u001b[0m\u001b[0m_name\u001b[0m\u001b[1;33m,\u001b[0m\u001b[1;33m\u001b[0m\u001b[1;33m\u001b[0m\u001b[0m\n\u001b[0;32m   3300\u001b[0m             \u001b[0mself\u001b[0m\u001b[1;33m.\u001b[0m\u001b[0m_python_function\u001b[0m\u001b[1;33m,\u001b[0m\u001b[1;33m\u001b[0m\u001b[1;33m\u001b[0m\u001b[0m\n",
      "\u001b[1;32mC:\\ProgramData\\Miniconda3\\lib\\site-packages\\tensorflow\\python\\framework\\func_graph.py\u001b[0m in \u001b[0;36mfunc_graph_from_py_func\u001b[1;34m(name, python_func, args, kwargs, signature, func_graph, autograph, autograph_options, add_control_dependencies, arg_names, op_return_value, collections, capture_by_value, override_flat_arg_shapes, acd_record_initial_resource_uses)\u001b[0m\n\u001b[0;32m   1005\u001b[0m         \u001b[0m_\u001b[0m\u001b[1;33m,\u001b[0m \u001b[0moriginal_func\u001b[0m \u001b[1;33m=\u001b[0m \u001b[0mtf_decorator\u001b[0m\u001b[1;33m.\u001b[0m\u001b[0munwrap\u001b[0m\u001b[1;33m(\u001b[0m\u001b[0mpython_func\u001b[0m\u001b[1;33m)\u001b[0m\u001b[1;33m\u001b[0m\u001b[1;33m\u001b[0m\u001b[0m\n\u001b[0;32m   1006\u001b[0m \u001b[1;33m\u001b[0m\u001b[0m\n\u001b[1;32m-> 1007\u001b[1;33m       \u001b[0mfunc_outputs\u001b[0m \u001b[1;33m=\u001b[0m \u001b[0mpython_func\u001b[0m\u001b[1;33m(\u001b[0m\u001b[1;33m*\u001b[0m\u001b[0mfunc_args\u001b[0m\u001b[1;33m,\u001b[0m \u001b[1;33m**\u001b[0m\u001b[0mfunc_kwargs\u001b[0m\u001b[1;33m)\u001b[0m\u001b[1;33m\u001b[0m\u001b[1;33m\u001b[0m\u001b[0m\n\u001b[0m\u001b[0;32m   1008\u001b[0m \u001b[1;33m\u001b[0m\u001b[0m\n\u001b[0;32m   1009\u001b[0m       \u001b[1;31m# invariant: `func_outputs` contains only Tensors, CompositeTensors,\u001b[0m\u001b[1;33m\u001b[0m\u001b[1;33m\u001b[0m\u001b[1;33m\u001b[0m\u001b[0m\n",
      "\u001b[1;32mC:\\ProgramData\\Miniconda3\\lib\\site-packages\\tensorflow\\python\\eager\\def_function.py\u001b[0m in \u001b[0;36mwrapped_fn\u001b[1;34m(*args, **kwds)\u001b[0m\n\u001b[0;32m    666\u001b[0m         \u001b[1;31m# the function a weak reference to itself to avoid a reference cycle.\u001b[0m\u001b[1;33m\u001b[0m\u001b[1;33m\u001b[0m\u001b[1;33m\u001b[0m\u001b[0m\n\u001b[0;32m    667\u001b[0m         \u001b[1;32mwith\u001b[0m \u001b[0mOptionalXlaContext\u001b[0m\u001b[1;33m(\u001b[0m\u001b[0mcompile_with_xla\u001b[0m\u001b[1;33m)\u001b[0m\u001b[1;33m:\u001b[0m\u001b[1;33m\u001b[0m\u001b[1;33m\u001b[0m\u001b[0m\n\u001b[1;32m--> 668\u001b[1;33m           \u001b[0mout\u001b[0m \u001b[1;33m=\u001b[0m \u001b[0mweak_wrapped_fn\u001b[0m\u001b[1;33m(\u001b[0m\u001b[1;33m)\u001b[0m\u001b[1;33m.\u001b[0m\u001b[0m__wrapped__\u001b[0m\u001b[1;33m(\u001b[0m\u001b[1;33m*\u001b[0m\u001b[0margs\u001b[0m\u001b[1;33m,\u001b[0m \u001b[1;33m**\u001b[0m\u001b[0mkwds\u001b[0m\u001b[1;33m)\u001b[0m\u001b[1;33m\u001b[0m\u001b[1;33m\u001b[0m\u001b[0m\n\u001b[0m\u001b[0;32m    669\u001b[0m         \u001b[1;32mreturn\u001b[0m \u001b[0mout\u001b[0m\u001b[1;33m\u001b[0m\u001b[1;33m\u001b[0m\u001b[0m\n\u001b[0;32m    670\u001b[0m \u001b[1;33m\u001b[0m\u001b[0m\n",
      "\u001b[1;32mC:\\ProgramData\\Miniconda3\\lib\\site-packages\\tensorflow\\python\\framework\\func_graph.py\u001b[0m in \u001b[0;36mwrapper\u001b[1;34m(*args, **kwargs)\u001b[0m\n\u001b[0;32m    992\u001b[0m           \u001b[1;32mexcept\u001b[0m \u001b[0mException\u001b[0m \u001b[1;32mas\u001b[0m \u001b[0me\u001b[0m\u001b[1;33m:\u001b[0m  \u001b[1;31m# pylint:disable=broad-except\u001b[0m\u001b[1;33m\u001b[0m\u001b[1;33m\u001b[0m\u001b[0m\n\u001b[0;32m    993\u001b[0m             \u001b[1;32mif\u001b[0m \u001b[0mhasattr\u001b[0m\u001b[1;33m(\u001b[0m\u001b[0me\u001b[0m\u001b[1;33m,\u001b[0m \u001b[1;34m\"ag_error_metadata\"\u001b[0m\u001b[1;33m)\u001b[0m\u001b[1;33m:\u001b[0m\u001b[1;33m\u001b[0m\u001b[1;33m\u001b[0m\u001b[0m\n\u001b[1;32m--> 994\u001b[1;33m               \u001b[1;32mraise\u001b[0m \u001b[0me\u001b[0m\u001b[1;33m.\u001b[0m\u001b[0mag_error_metadata\u001b[0m\u001b[1;33m.\u001b[0m\u001b[0mto_exception\u001b[0m\u001b[1;33m(\u001b[0m\u001b[0me\u001b[0m\u001b[1;33m)\u001b[0m\u001b[1;33m\u001b[0m\u001b[1;33m\u001b[0m\u001b[0m\n\u001b[0m\u001b[0;32m    995\u001b[0m             \u001b[1;32melse\u001b[0m\u001b[1;33m:\u001b[0m\u001b[1;33m\u001b[0m\u001b[1;33m\u001b[0m\u001b[0m\n\u001b[0;32m    996\u001b[0m               \u001b[1;32mraise\u001b[0m\u001b[1;33m\u001b[0m\u001b[1;33m\u001b[0m\u001b[0m\n",
      "\u001b[1;31mValueError\u001b[0m: in user code:\n\n    C:\\Jupyter\\Edge detection\\aux_func_V2.py:77 Burgers  *\n        return Graph_Burgers2(u, Δt, Δx, CFL, fronteira,network)\n    C:\\Jupyter\\Edge detection\\aux_func_V2.py:55 Graph_Burgers2  *\n        u1 = u - Δt*DerivadaEspacial(u, Δx, Λ, fronteira,network)\n    C:\\Jupyter\\Edge detection\\aux_func_V2.py:98 DerivadaEspacial  *\n        U_diff=tf.concat([U[:,2:]-U[:,:-2],U[:,2:]-2*U[:,1:-1]+U[:,:-2]],axis=2)\n    C:\\ProgramData\\Miniconda3\\lib\\site-packages\\tensorflow\\python\\util\\dispatch.py:206 wrapper  **\n        return target(*args, **kwargs)\n    C:\\ProgramData\\Miniconda3\\lib\\site-packages\\tensorflow\\python\\ops\\array_ops.py:1769 concat\n        return gen_array_ops.concat_v2(values=values, axis=axis, name=name)\n    C:\\ProgramData\\Miniconda3\\lib\\site-packages\\tensorflow\\python\\ops\\gen_array_ops.py:1226 concat_v2\n        _, _, _op, _outputs = _op_def_library._apply_op_helper(\n    C:\\ProgramData\\Miniconda3\\lib\\site-packages\\tensorflow\\python\\framework\\op_def_library.py:748 _apply_op_helper\n        op = g._create_op_internal(op_type_name, inputs, dtypes=None,\n    C:\\ProgramData\\Miniconda3\\lib\\site-packages\\tensorflow\\python\\framework\\func_graph.py:599 _create_op_internal\n        return super(FuncGraph, self)._create_op_internal(  # pylint: disable=protected-access\n    C:\\ProgramData\\Miniconda3\\lib\\site-packages\\tensorflow\\python\\framework\\ops.py:3561 _create_op_internal\n        ret = Operation(\n    C:\\ProgramData\\Miniconda3\\lib\\site-packages\\tensorflow\\python\\framework\\ops.py:2041 __init__\n        self._c_op = _create_c_op(self._graph, node_def, inputs,\n    C:\\ProgramData\\Miniconda3\\lib\\site-packages\\tensorflow\\python\\framework\\ops.py:1883 _create_c_op\n        raise ValueError(str(e))\n\n    ValueError: Shape must be at least rank 3 but is rank 2 for '{{node while/concat_1}} = ConcatV2[N=2, T=DT_DOUBLE, Tidx=DT_INT32](while/sub_1, while/add_1, while/concat_1/axis)' with input shapes: [1,204], [1,204], [] and with computed input tensors: input[2] = <2>.\n"
     ]
    },
    {
     "data": {
      "image/png": "[encoded data removed]",
      "text/plain": [
       "<Figure size 432x432 with 1 Axes>"
      ]
     },
     "metadata": {
      "needs_background": "light"
     },
     "output_type": "display_data"
    }
   ],
   "source": [
    "f_test=lambda x: -tf.math.sin(np.pi*x)-0.5*x**3+tf.where(x<0,tf.constant(0.0,dtype=float_pres),tf.constant(1.0,dtype=float_pres))\n",
    "\n",
    "# k1=5\n",
    "# k2=2\n",
    "# a=0.25\n",
    "# b=0.75\n",
    "\n",
    "# u1 = lambda x: a*tf.expand_dims(tf.math.sin(k1*pi*x),axis=1)\n",
    "# u2 = lambda x: (1-a)*tf.expand_dims(tf.math.sin(k2*pi*x),axis=1)\n",
    "\n",
    "\n",
    "\n",
    "Δx = 0.01\n",
    "x = tf.range(-1,1,Δx,\n",
    "            dtype=float_pres)\n",
    "\n",
    "#u=b*(u1(x)+u2(x))\n",
    "\n",
    "u=f_test(x)\n",
    "\n",
    "u=tf.expand_dims(u,axis=0)\n",
    "u_Z=u[:]\n",
    "\n",
    "CFL = 0.5\n",
    "T = 0.001\n",
    "t = 0.0\n",
    "\n",
    "fig = plt.figure(1, constrained_layout=True,figsize=(6,6))\n",
    "ax = fig.add_subplot(1,1,1);\n",
    "ax.set_ylim(-2, 2);\n",
    "#ax.set_xlim(0,1);\n",
    "line=ax.plot(x,tf.squeeze(u))\n",
    "hfig = display(fig, display_id=True)\n",
    "\n",
    "while t < T:\n",
    "    Δt_max=T-t\n",
    "    Λ = tf.math.reduce_max(tf.abs(u),axis=1,keepdims=True)\n",
    "    Δt = Δx*CFL/Λ\n",
    "    Δt = tf.where(Δt > Δt_max,Δt_max,Δt)\n",
    "    final_layer.t_final.assign(tf.cast(tf.squeeze(Δt),dtype=float_pres))\n",
    "    u = Network.predict(u)\n",
    "        \n",
    "    squeezed_u=tf.squeeze(u)\n",
    "    t += Δt\n",
    "    print('t: ',tf.squeeze(t).numpy(),'                                ',end='\\r')\n",
    "\n",
    "    #line.set_xdata(x)\n",
    "    line[0].set_ydata(squeezed_u.numpy())\n",
    "\n",
    "    fig.canvas.draw()\n",
    "    hfig.update(fig)\n",
    "    #time.sleep(0.01);\n",
    "    \n",
    "print('\\n')\n",
    "t=0\n",
    "\n",
    "while t < T:\n",
    "    Δt_max=T-t\n",
    "    Λ = tf.math.reduce_max(tf.abs(u_Z),axis=1,keepdims=True)\n",
    "    Δt = Δx*CFL/Λ\n",
    "    Δt = tf.where(Δt > Δt_max,Δt_max,Δt)\n",
    "    u_Z = Burgers(u_Z,Δt, Δx, CFL, FronteiraPeriodica)\n",
    "    \n",
    "    squeezed_u=tf.squeeze(u_Z)\n",
    "    t += Δt\n",
    "    print('t: ',tf.squeeze(t).numpy(),'                                ',end='\\r')\n",
    "\n",
    "    #line.set_xdata(x)\n",
    "    line[0].set_ydata(squeezed_u.numpy())\n",
    "\n",
    "    fig.canvas.draw()\n",
    "    hfig.update(fig)\n",
    "    #time.sleep(0.01);\n"
   ]
  },
  {
   "cell_type": "code",
   "execution_count": null,
   "id": "08ca5e9a",
   "metadata": {},
   "outputs": [],
   "source": [
    "def pega_ponto_Z(indice):\n",
    "    ɛ = 10.0**(-40)\n",
    "    U=u_Z[:,indice-2:indice+3,:]\n",
    "    u_stacked=tf.transpose(tf.stack([U,U,U],axis=0),[0,1,3,2])\n",
    "\n",
    "    β = tf.math.reduce_sum(u_stacked * (u_stacked @ A),axis=3)\n",
    "    β = tf.transpose(β,[1,2,0])\n",
    "    \n",
    "    # WENO-Z\n",
    "\n",
    "    τ = tf.abs(β[:,:,0:1] - β[:,:,2:3])\n",
    "    α = (1 + (τ/(β + ɛ))**2) @ B\n",
    "    soma = tf.math.reduce_sum(α,axis=2,keepdims=True)\n",
    "    ω = α / soma\n",
    "    \n",
    "    ω_Z=ω\n",
    "    return ω_Z"
   ]
  },
  {
   "cell_type": "code",
   "execution_count": 33,
   "id": "d2579afc",
   "metadata": {},
   "outputs": [],
   "source": [
    "def pega_ponto_rede(indice):\n",
    "    ɛ = 10.0**(-40)\n",
    "    U=u[:,indice-2:indice+3,:]\n",
    "    U_diff=tf.concat([U[:,2:]-U[:,:-2],U[:,2:]-2*U[:,1:-1]+U[:,:-2]],axis=2)\n",
    "    beta_weight=tf.transpose(Network.layers[1].network_graph(U_diff),[0,2,1])\n",
    "    #print('Rede: ',beta_weight.numpy())\n",
    "    u_stacked=tf.transpose(tf.stack([U,U,U],axis=0),[0,1,3,2])\n",
    "\n",
    "    β = tf.math.reduce_sum(u_stacked * (u_stacked @ A),axis=3)\n",
    "    β = tf.transpose(β,[1,2,0])\n",
    "    \n",
    "    # Rede Neural\n",
    "    \n",
    "    β = β*(beta_weight+0.01)\n",
    "    τ = tf.abs(β[:,:,0:1] - β[:,:,2:3])\n",
    "    α = (1 + (τ/(β + ɛ))**2) @ B\n",
    "    soma = tf.math.reduce_sum(α,axis=2,keepdims=True)\n",
    "    ω = α / soma\n",
    "    \n",
    "    ω_Rede=ω\n",
    "    \n",
    "    return ω_Rede"
   ]
  },
  {
   "cell_type": "code",
   "execution_count": 34,
   "id": "60578b04",
   "metadata": {},
   "outputs": [
    {
     "ename": "NameError",
     "evalue": "name 'pega_ponto_Z' is not defined",
     "output_type": "error",
     "traceback": [
      "\u001b[1;31m---------------------------------------------------------------------------\u001b[0m",
      "\u001b[1;31mNameError\u001b[0m                                 Traceback (most recent call last)",
      "\u001b[1;32m<ipython-input-34-3b5c7a75c9b6>\u001b[0m in \u001b[0;36m<module>\u001b[1;34m\u001b[0m\n\u001b[0;32m      6\u001b[0m \u001b[1;32mfor\u001b[0m \u001b[0mi\u001b[0m \u001b[1;32min\u001b[0m \u001b[0mrange\u001b[0m\u001b[1;33m(\u001b[0m\u001b[0mn_pontos\u001b[0m\u001b[1;33m)\u001b[0m\u001b[1;33m:\u001b[0m\u001b[1;33m\u001b[0m\u001b[1;33m\u001b[0m\u001b[0m\n\u001b[0;32m      7\u001b[0m     \u001b[0mindice\u001b[0m\u001b[1;33m=\u001b[0m\u001b[0mint\u001b[0m\u001b[1;33m(\u001b[0m\u001b[0mmid_point\u001b[0m\u001b[1;33m-\u001b[0m\u001b[1;33m(\u001b[0m\u001b[0mn_pontos\u001b[0m\u001b[1;33m-\u001b[0m\u001b[1;36m1\u001b[0m\u001b[1;33m)\u001b[0m\u001b[1;33m/\u001b[0m\u001b[1;36m2\u001b[0m\u001b[1;33m+\u001b[0m\u001b[0mi\u001b[0m\u001b[1;33m)\u001b[0m\u001b[1;33m\u001b[0m\u001b[1;33m\u001b[0m\u001b[0m\n\u001b[1;32m----> 8\u001b[1;33m     \u001b[0my_plot_Z\u001b[0m\u001b[1;33m[\u001b[0m\u001b[0mi\u001b[0m\u001b[1;33m]\u001b[0m\u001b[1;33m=\u001b[0m\u001b[0mnp\u001b[0m\u001b[1;33m.\u001b[0m\u001b[0msqueeze\u001b[0m\u001b[1;33m(\u001b[0m\u001b[0mpega_ponto_Z\u001b[0m\u001b[1;33m(\u001b[0m\u001b[0mindice\u001b[0m\u001b[1;33m)\u001b[0m\u001b[1;33m)\u001b[0m\u001b[1;33m\u001b[0m\u001b[1;33m\u001b[0m\u001b[0m\n\u001b[0m\u001b[0;32m      9\u001b[0m     \u001b[0my_plot_Rede\u001b[0m\u001b[1;33m[\u001b[0m\u001b[0mi\u001b[0m\u001b[1;33m]\u001b[0m\u001b[1;33m=\u001b[0m\u001b[0mnp\u001b[0m\u001b[1;33m.\u001b[0m\u001b[0msqueeze\u001b[0m\u001b[1;33m(\u001b[0m\u001b[0mpega_ponto_rede\u001b[0m\u001b[1;33m(\u001b[0m\u001b[0mindice\u001b[0m\u001b[1;33m)\u001b[0m\u001b[1;33m)\u001b[0m\u001b[1;33m\u001b[0m\u001b[1;33m\u001b[0m\u001b[0m\n",
      "\u001b[1;31mNameError\u001b[0m: name 'pega_ponto_Z' is not defined"
     ]
    }
   ],
   "source": [
    "n_pontos=9\n",
    "mid_point=105\n",
    "y_plot_Rede=np.zeros([n_pontos,3])\n",
    "y_plot_Z=np.zeros([n_pontos,3])\n",
    "\n",
    "for i in range(n_pontos):\n",
    "    indice=int(mid_point-(n_pontos-1)/2+i)\n",
    "    y_plot_Z[i]=np.squeeze(pega_ponto_Z(indice))\n",
    "    y_plot_Rede[i]=np.squeeze(pega_ponto_rede(indice))"
   ]
  },
  {
   "cell_type": "code",
   "execution_count": null,
   "id": "15a7bc8c",
   "metadata": {},
   "outputs": [],
   "source": [
    "fig, axs = plt.subplots(1,2,figsize=(8*2, 6))\n",
    "\n",
    "ylim=(10**-8,2)\n",
    "\n",
    "min_x=int(mid_point-(n_pontos-1)/2)\n",
    "max_x=int(mid_point+(n_pontos+1)/2)\n",
    "\n",
    "axs[0].plot(x[min_x:max_x],y_plot_Z[:,0],'s',color='red',alpha=1)\n",
    "axs[0].plot(x[min_x:max_x],y_plot_Z[:,1],'D',color='black',alpha=1)\n",
    "axs[0].plot(x[min_x:max_x],y_plot_Z[:,2],'o',color='blue',alpha=1)\n",
    "\n",
    "axs[0].hlines(y=1/10,\n",
    "              xmin=min(x[int(mid_point-(n_pontos-1)/2):int(100+(n_pontos+1)/2)]),xmax=max(x[int(100-(n_pontos-1)/2):int(100+(n_pontos+1)/2)]),\n",
    "              color='red',\n",
    "              linestyles='--')\n",
    "\n",
    "axs[0].hlines(y=6/10,\n",
    "              xmin=min(x[int(mid_point-(n_pontos-1)/2):int(100+(n_pontos+1)/2)]),xmax=max(x[int(100-(n_pontos-1)/2):int(100+(n_pontos+1)/2)]),\n",
    "              color='black',\n",
    "              linestyles='--')\n",
    "\n",
    "axs[0].hlines(y=3/10,\n",
    "              xmin=min(x[int(100-(n_pontos-1)/2):int(100+(n_pontos+1)/2)]),xmax=max(x[int(100-(n_pontos-1)/2):int(100+(n_pontos+1)/2)]),\n",
    "              color='blue',\n",
    "              linestyles='--')\n",
    "\n",
    "axs[0].set_yscale('log')\n",
    "axs[0].set_ylim(*ylim)\n",
    "axs[0].yaxis.set_ticks(10**np.arange(np.log10(ylim[0]), np.log10(ylim[1]), 1.0))\n",
    "axs[0].grid(ls='--')\n",
    "\n",
    "axs[1].plot(x[min_x:max_x],y_plot_Rede[:,0],'s',color='red',alpha=1)\n",
    "axs[1].plot(x[min_x:max_x],y_plot_Rede[:,1],'D',color='black',alpha=1)\n",
    "axs[1].plot(x[min_x:max_x],y_plot_Rede[:,2],'o',color='blue',alpha=1)\n",
    "\n",
    "axs[1].hlines(y=1/10,\n",
    "              xmin=x[min_x],xmax=x[max_x],\n",
    "              color='red',\n",
    "              linestyles='--')\n",
    "\n",
    "axs[1].hlines(y=6/10,\n",
    "              xmin=x[min_x],xmax=max(x[int(100-(n_pontos-1)/2):int(100+(n_pontos+1)/2)]),\n",
    "              color='black',\n",
    "              linestyles='--')\n",
    "\n",
    "axs[1].hlines(y=3/10,\n",
    "              xmin=x[min_x],xmax=max(x[int(100-(n_pontos-1)/2):int(100+(n_pontos+1)/2)]),\n",
    "              color='blue',\n",
    "              linestyles='--')\n",
    "\n",
    "axs[1].set_yscale('log')\n",
    "axs[1].set_ylim(*ylim)\n",
    "axs[1].yaxis.set_ticks(10**np.arange(np.log10(ylim[0]), np.log10(ylim[1]), 1.0))\n",
    "axs[1].grid(ls='--')\n",
    "\n",
    "plt.show()"
   ]
  },
  {
   "cell_type": "code",
   "execution_count": 69,
   "id": "86b912f8",
   "metadata": {},
   "outputs": [],
   "source": [
    "f_test=lambda x: -tf.math.sin(np.pi*x)-0.5*x**3+tf.where(x<0,tf.constant(0.0,dtype=float_pres),tf.constant(1.0,dtype=float_pres))\n",
    "\n",
    "Δx = 0.01\n",
    "x = tf.range(-1,1,Δx,\n",
    "            dtype=float_pres)\n",
    "\n",
    "u=f_test(x)\n",
    "u=tf.expand_dims(u,axis=0)\n",
    "u=tf.expand_dims(u,axis=2)"
   ]
  },
  {
   "cell_type": "code",
   "execution_count": 70,
   "id": "fb787f87",
   "metadata": {},
   "outputs": [],
   "source": [
    "def pega_ponto(indice):\n",
    "    ɛ = 10.0**(-40)\n",
    "    U=u[:,indice-2:indice+3,:]\n",
    "    U_diff=tf.concat([U[:,2:]-U[:,:-2],U[:,2:]-2*U[:,1:-1]+U[:,:-2]],axis=2)\n",
    "    beta_weight=tf.transpose(Network.layers[1].network_graph(U_diff),[0,2,1])\n",
    "    #print('Rede: ',beta_weight.numpy())\n",
    "    u_stacked=tf.transpose(tf.stack([U,U,U],axis=0),[0,1,3,2])\n",
    "\n",
    "    β = tf.math.reduce_sum(u_stacked * (u_stacked @ A),axis=3)\n",
    "    β = tf.transpose(β,[1,2,0])\n",
    "    \n",
    "    # WENO-Z\n",
    "\n",
    "    τ = tf.abs(β[:,:,0:1] - β[:,:,2:3])\n",
    "    α = (1 + (τ/(β + ɛ))**2) @ B\n",
    "    soma = tf.math.reduce_sum(α,axis=2,keepdims=True)\n",
    "    ω = α / soma\n",
    "    \n",
    "    ω_Z=ω\n",
    "    \n",
    "    # Rede Neural\n",
    "    \n",
    "    β = β*(beta_weight+0.01)\n",
    "    τ = tf.abs(β[:,:,0:1] - β[:,:,2:3])\n",
    "    α = (1 + (τ/(β + ɛ))**2) @ B\n",
    "    soma = tf.math.reduce_sum(α,axis=2,keepdims=True)\n",
    "    ω = α / soma\n",
    "    \n",
    "    ω_Rede=ω\n",
    "    \n",
    "    return ω_Z,ω_Rede"
   ]
  },
  {
   "cell_type": "code",
   "execution_count": 75,
   "id": "8ac0a400",
   "metadata": {},
   "outputs": [],
   "source": [
    "n_pontos=9\n",
    "mid_point=100\n",
    "y_plot_Rede=np.zeros([n_pontos,3])\n",
    "y_plot_Z=np.zeros([n_pontos,3])\n",
    "\n",
    "for i in range(n_pontos):\n",
    "    pontos=pega_ponto(int(mid_point-(n_pontos-1)/2+i))\n",
    "    y_plot_Z[i]=np.squeeze(pontos[0])\n",
    "    y_plot_Rede[i]=np.squeeze(pontos[1])"
   ]
  },
  {
   "cell_type": "code",
   "execution_count": 101,
   "id": "e8ccc0ca",
   "metadata": {},
   "outputs": [
    {
     "data": {
      "image/png": "[encoded data removed]",
      "text/plain": [
       "<Figure size 1152x432 with 2 Axes>"
      ]
     },
     "metadata": {
      "needs_background": "light"
     },
     "output_type": "display_data"
    }
   ],
   "source": [
    "fig, axs = plt.subplots(1,2,figsize=(8*2, 6))\n",
    "\n",
    "ylim=(10**-8,2)\n",
    "\n",
    "axs[0].plot(x[int(mid_point-(n_pontos-1)/2):int(mid_point+(n_pontos+1)/2)],y_plot_Z[:,0],'s',color='red',alpha=1)\n",
    "axs[0].plot(x[int(mid_point-(n_pontos-1)/2):int(mid_point+(n_pontos+1)/2)],y_plot_Z[:,1],'D',color='black',alpha=1)\n",
    "axs[0].plot(x[int(mid_point-(n_pontos-1)/2):int(mid_point+(n_pontos+1)/2)],y_plot_Z[:,2],'o',color='blue',alpha=1)\n",
    "\n",
    "axs[0].hlines(y=1/10,\n",
    "              xmin=min(x[int(mid_point-(n_pontos-1)/2):int(mid_point+(n_pontos+1)/2)]),xmax=max(x[int(mid_point-(n_pontos-1)/2):int(mid_point+(n_pontos+1)/2)]),\n",
    "              color='red',\n",
    "              linestyles='--')\n",
    "\n",
    "axs[0].hlines(y=6/10,\n",
    "              xmin=min(x[int(mid_point-(n_pontos-1)/2):int(mid_point+(n_pontos+1)/2)]),xmax=max(x[int(mid_point-(n_pontos-1)/2):int(mid_point+(n_pontos+1)/2)]),\n",
    "              color='black',\n",
    "              linestyles='--')\n",
    "\n",
    "axs[0].hlines(y=3/10,\n",
    "              xmin=min(x[int(mid_point-(n_pontos-1)/2):int(mid_point+(n_pontos+1)/2)]),xmax=max(x[int(mid_point-(n_pontos-1)/2):int(mid_point+(n_pontos+1)/2)]),\n",
    "              color='blue',\n",
    "              linestyles='--')\n",
    "\n",
    "axs[0].set_yscale('log')\n",
    "axs[0].set_ylim(*ylim)\n",
    "axs[0].yticks(10**np.arange(np.log10(ylim[0]), np.log10(ylim[1]), 1.0))\n",
    "axs[0].grid(ls='--')\n",
    "\n",
    "axs[1].plot(x[int(mid_point-(n_pontos-1)/2):int(mid_point+(n_pontos+1)/2)],y_plot_Rede[:,0],'s',color='red',alpha=1)\n",
    "axs[1].plot(x[int(mid_point-(n_pontos-1)/2):int(mid_point+(n_pontos+1)/2)],y_plot_Rede[:,1],'D',color='black',alpha=1)\n",
    "axs[1].plot(x[int(mid_point-(n_pontos-1)/2):int(mid_point+(n_pontos+1)/2)],y_plot_Rede[:,2],'o',color='blue',alpha=1)\n",
    "\n",
    "axs[1].hlines(y=1/10,\n",
    "              xmin=min(x[int(mid_point-(n_pontos-1)/2):int(mid_point+(n_pontos+1)/2)]),xmax=max(x[int(mid_point-(n_pontos-1)/2):int(mid_point+(n_pontos+1)/2)]),\n",
    "              color='red',\n",
    "              linestyles='--')\n",
    "\n",
    "axs[1].hlines(y=6/10,\n",
    "              xmin=min(x[int(mid_point-(n_pontos-1)/2):int(mid_point+(n_pontos+1)/2)]),xmax=max(x[int(mid_point-(n_pontos-1)/2):int(mid_point+(n_pontos+1)/2)]),\n",
    "              color='black',\n",
    "              linestyles='--')\n",
    "\n",
    "axs[1].hlines(y=3/10,\n",
    "              xmin=min(x[int(mid_point-(n_pontos-1)/2):int(mid_point+(n_pontos+1)/2)]),xmax=max(x[int(mid_point-(n_pontos-1)/2):int(mid_point+(n_pontos+1)/2)]),\n",
    "              color='blue',\n",
    "              linestyles='--')\n",
    "\n",
    "axs[1].set_yscale('log')\n",
    "axs[1].set_ylim(*ylim)\n",
    "axs[1].yticks(10**np.arange(np.log10(ylim[0]), np.log10(ylim[1]), 1.0))\n",
    "axs[1].grid(ls='--')\n",
    "\n",
    "plt.show()"
   ]
  },
  {
   "cell_type": "code",
   "execution_count": 37,
   "id": "4aa52545",
   "metadata": {},
   "outputs": [
    {
     "data": {
      "text/plain": [
       "[<matplotlib.lines.Line2D at 0x1f1fad61880>]"
      ]
     },
     "execution_count": 37,
     "metadata": {},
     "output_type": "execute_result"
    },
    {
     "data": {
      "image/png": "[encoded data removed]",
      "text/plain": [
       "<Figure size 432x288 with 1 Axes>"
      ]
     },
     "metadata": {
      "needs_background": "light"
     },
     "output_type": "display_data"
    }
   ],
   "source": [
    "plt.plot(x[95:105],np.squeeze(u)[95:105])"
   ]
  },
  {
   "cell_type": "code",
   "execution_count": null,
   "id": "3f42680f",
   "metadata": {},
   "outputs": [],
   "source": []
  }
 ],
 "metadata": {
  "kernelspec": {
   "display_name": "Python 3 (ipykernel)",
   "language": "python",
   "name": "python3"
  },
  "language_info": {
   "codemirror_mode": {
    "name": "ipython",
    "version": 3
   },
   "file_extension": ".py",
   "mimetype": "text/x-python",
   "name": "python",
   "nbconvert_exporter": "python",
   "pygments_lexer": "ipython3",
   "version": "3.9.5"
  },
  "widgets": {
   "application/vnd.jupyter.widget-state+json": {
    "state": {},
    "version_major": 2,
    "version_minor": 0
   }
  }
 },
 "nbformat": 4,
 "nbformat_minor": 5
}
