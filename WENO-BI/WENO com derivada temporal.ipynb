{
 "cells": [
  {
   "cell_type": "code",
   "execution_count": 10,
   "id": "a7411a27",
   "metadata": {},
   "outputs": [],
   "source": [
    "# Importando os módulos que serão utilizados\n",
    "\n",
    "import tensorflow as tf\n",
    "import numpy as np\n",
    "import tensorflow.keras as keras\n",
    "import matplotlib.pyplot as plt\n",
    "import time\n",
    "import dill\n",
    "import pandas as pd\n",
    "import plotly.express as ply_exp\n",
    "import plotly.graph_objects as ply_go\n",
    "\n",
    "# Configurando o acesso do tensorflow aos processadores do computador\n",
    "# no caso, está sendo selecionada a primeira placa de vídeo listada\n",
    "\n",
    "gpus = tf.config.experimental.list_physical_devices('GPU') # Listando as placas de vídeo\n",
    "tf.config.experimental.set_memory_growth(gpus[0], True)    # Selecionando a primeira GPU e configurando\n",
    "\n",
    "# Importando os módulos contendo as funções criadas no projeto\n",
    "\n",
    "from aux_func_V3 import *\n",
    "import API_Numpy\n",
    "import API_TensorFlow"
   ]
  },
  {
   "cell_type": "code",
   "execution_count": 3,
   "id": "e749dc7c",
   "metadata": {},
   "outputs": [],
   "source": [
    "def loop_wrapper(func):\n",
    "    def loop_func(u0,Δx):\n",
    "        u=u0+0\n",
    "        for i in range(y.shape[1]-1):\n",
    "            u=func(u,Δx)\n",
    "        return u\n",
    "    return loop_func"
   ]
  },
  {
   "cell_type": "code",
   "execution_count": 4,
   "id": "824b9272",
   "metadata": {},
   "outputs": [],
   "source": [
    "Sim, Sim_step, DerivadaEspacial, Get_weights = create_simulation(API_Numpy, burgers_equation, WENO_JS)\n",
    "WENO_JS_ref       = lambda u0, Δt, Δx, fronteira: Sim_step(u0, Δt, Δx, fronteira)\n",
    "Sim, Sim_step, DerivadaEspacial, Get_weights = create_simulation(API_Numpy, burgers_equation, WENO_Z)\n",
    "WENO_Z_ref        = lambda u0, Δt, Δx, fronteira: Sim_step(u0, Δt, Δx, fronteira)\n",
    "Sim, Sim_step, DerivadaEspacial, Get_weights = create_simulation(API_Numpy, burgers_equation, WENO_Z_plus)\n",
    "WENO_Z_plus_ref   = lambda u0, Δt, Δx, fronteira: Sim_step(u0, Δt, Δx, fronteira)\n",
    "Sim, Sim_step, DerivadaEspacial, Get_weights = create_simulation(API_Numpy, burgers_equation, WENO_JS_M, mapa = mapa_Henrick)\n",
    "WENO_JS_M_ref     = lambda u0, Δt, Δx, fronteira: Sim_step(u0, Δt, Δx, fronteira)\n",
    "Sim, Sim_step, DerivadaEspacial, Get_weights = create_simulation(API_Numpy, burgers_equation, WENO_Z_M, mapa = mapa_Henrick)\n",
    "WENO_Z_M_ref      = lambda u0, Δt, Δx, fronteira: Sim_step(u0, Δt, Δx, fronteira)\n",
    "Sim, Sim_step, DerivadaEspacial, Get_weights = create_simulation(API_Numpy, burgers_equation, WENO_Z_plus_M, mapa = mapa_Henrick)\n",
    "WENO_Z_plus_M_ref = lambda u0, Δt, Δx, fronteira: Sim_step(u0, Δt, Δx, fronteira)"
   ]
  },
  {
   "cell_type": "code",
   "execution_count": 5,
   "id": "097cfc26",
   "metadata": {},
   "outputs": [
    {
     "data": {
      "text/plain": [
       "[<matplotlib.lines.Line2D at 0x1d88621d820>]"
      ]
     },
     "execution_count": 5,
     "metadata": {},
     "output_type": "execute_result"
    },
    {
     "data": {
      "image/png": "[encoded data removed]",
      "text/plain": [
       "<Figure size 432x288 with 1 Axes>"
      ]
     },
     "metadata": {
      "needs_background": "light"
     },
     "output_type": "display_data"
    }
   ],
   "source": [
    "Δx = 0.01\n",
    "\n",
    "f_test = lambda x: np.sin(2*pi*x) #np.exp(-0.05*(x**2))\n",
    "plt.plot(f_test(tf.range(-1, 1, Δx, dtype=float_pres)))"
   ]
  },
  {
   "cell_type": "code",
   "execution_count": 6,
   "id": "94f518c2-7325-4ecf-a31e-b6e12415b5dd",
   "metadata": {},
   "outputs": [],
   "source": [
    "Δt  = 0.0001\n",
    "\n",
    "n  = list(range(30, 30+1, 10)) # list(range(40, 40+1, 10))\n",
    "Δx = n[:]\n",
    "\n",
    "u_JS  = [] # WENO-JS\n",
    "u_Z   = [] # WENO-Z\n",
    "u_Zp  = [] # WENO-Z+\n",
    "u_JSM = [] # WENO-JS com mapeamento (Henrick)\n",
    "u_ZM  = [] # WENO-Z  com mapeamento (Henrick)\n",
    "u_ZpM = [] # WENO-Z+ com mapeamento (Henrick)\n",
    "\n",
    "n_ref  = []\n",
    "Δx_ref = []\n",
    "u_ref  = []\n",
    "\n",
    "fator = 20 # Quantas vezes menor é a malha para a solução de referência\n",
    "\n",
    "for k in range(len(n)):\n",
    "    \n",
    "    Δx[k] = 2/n[k]\n",
    "    u_JS.append( f_test(tf.range(-1, 1, Δx[k], dtype=float_pres)))\n",
    "    u_Z.append(  f_test(tf.range(-1, 1, Δx[k], dtype=float_pres)))\n",
    "    u_Zp.append( f_test(tf.range(-1, 1, Δx[k], dtype=float_pres)))\n",
    "    u_JSM.append(f_test(tf.range(-1, 1, Δx[k], dtype=float_pres)))\n",
    "    u_ZM.append( f_test(tf.range(-1, 1, Δx[k], dtype=float_pres)))\n",
    "    u_ZpM.append(f_test(tf.range(-1, 1, Δx[k], dtype=float_pres)))\n",
    "    \n",
    "    n_ref.append(n[k]*fator)\n",
    "    Δx_ref.append(2/n_ref[k])\n",
    "    u_ref.append(f_test(tf.range(-1, 1, Δx_ref[k], dtype=float_pres)))\n",
    "    \n",
    "for k in tf.range(len(n)):\n",
    "    for t in tf.range(int(5/(9*Δt))):\n",
    "        u_JS[k]  =        WENO_JS_ref(u_JS[k], Δt,     Δx[k], FronteiraPeriodica)\n",
    "        u_Z[k]   =          WENO_Z_ref(u_Z[k], Δt,     Δx[k], FronteiraPeriodica)\n",
    "        u_Zp[k]  =    WENO_Z_plus_ref(u_Zp[k], Δt,     Δx[k], FronteiraPeriodica)\n",
    "        u_JSM[k] =     WENO_JS_M_ref(u_JSM[k], Δt,     Δx[k], FronteiraPeriodica)\n",
    "        u_ZM[k]  =       WENO_Z_M_ref(u_ZM[k], Δt,     Δx[k], FronteiraPeriodica)\n",
    "        u_ZpM[k] = WENO_Z_plus_M_ref(u_ZpM[k], Δt,     Δx[k], FronteiraPeriodica)\n",
    "        u_ref[k] =        WENO_Z_ref(u_ref[k], Δt, Δx_ref[k], FronteiraPeriodica)\n"
   ]
  },
  {
   "cell_type": "code",
   "execution_count": 7,
   "id": "baba12e7-0163-4aa8-a48d-9acaf2a4abd0",
   "metadata": {},
   "outputs": [],
   "source": [
    "aux_x     = [  Δx,  Δx,   Δx,    Δx,   Δx,    Δx]\n",
    "aux_y     = [u_JS, u_Z, u_Zp, u_JSM, u_ZM, u_ZpM]\n",
    "aux_label = [\"WENO-JS\", \"WENO-Z\", \"WENO-Z+\", \"WENO-JS (M)\", \"WENO-Z (M)\", \"WENO-Z+ (M)\"]\n",
    "\n",
    "x     = tf.range(-1, 1, aux_x[0][0], dtype=float_pres)\n",
    "y     = aux_y[0][0]\n",
    "label = tf.repeat([aux_label[0]], [len(aux_y[0][0])])\n",
    "\n",
    "for i in tf.range(1, len(aux_x)):\n",
    "    x = tf.concat([x, tf.range(-1, 1, aux_x[i][0], dtype=float_pres)], axis = 0)\n",
    "    y = tf.concat([y, aux_y[i][0]], axis = 0)\n",
    "    label = tf.concat([label, tf.repeat([aux_label[i]], [len(aux_y[i][0])])], axis = 0)\n",
    "    \n",
    "df = pd.DataFrame(\n",
    "    {\n",
    "        \"x\"     : x     ,\n",
    "        \"y\"     : y     ,\n",
    "        \"label\" : label\n",
    "    }\n",
    ")"
   ]
  },
  {
   "cell_type": "code",
   "execution_count": 14,
   "id": "9300a153-d968-42c1-b5f3-6c49fcab6018",
   "metadata": {},
   "outputs": [
    {
     "data": {
      "application/vnd.plotly.v1+json": {
       "config": {
        "plotlyServerURL": "https://plot.ly"
       },
       "data": [
        {
         "hovertemplate": "color=b'WENO-JS'<br>x=%{x}<br>y=%{y}<extra></extra>",
         "legendgroup": "b'WENO-JS'",
         "marker": {
          "color": "#636efa",
          "symbol": "circle"
         },
         "mode": "markers",
         "name": "b'WENO-JS'",
         "orientation": "v",
         "showlegend": true,
         "type": "scatter",
         "x": [
          -1,
          -0.9333333333333333,
          -0.8666666666666667,
          -0.8,
          -0.7333333333333334,
          -0.6666666666666667,
          -0.6000000000000001,
          -0.5333333333333334,
          -0.4666666666666668,
          -0.40000000000000013,
          -0.3333333333333335,
          -0.26666666666666683,
          -0.20000000000000018,
          -0.13333333333333353,
          -0.06666666666666686,
          -1.942890293094024e-16,
          0.06666666666666647,
          0.13333333333333314,
          0.1999999999999998,
          0.26666666666666644,
          0.3333333333333331,
          0.39999999999999974,
          0.4666666666666664,
          0.5333333333333331,
          0.5999999999999998,
          0.6666666666666664,
          0.7333333333333331,
          0.7999999999999997,
          0.8666666666666664,
          0.933333333333333
         ],
         "xaxis": "x",
         "y": [
          7.604817475141037e-17,
          0.09298190276811358,
          0.18671635855422217,
          0.2769448000449851,
          0.3785357157978257,
          0.4562707565237673,
          0.5837448026525652,
          0.505553716201282,
          -0.5055537162012802,
          -0.5837448026525657,
          -0.45627075652376775,
          -0.37853571579782613,
          -0.27694480004498556,
          -0.18671635855422172,
          -0.0929819027681138,
          -2.8382158499147774e-16,
          0.09298190276811347,
          0.18671635855422172,
          0.2769448000449847,
          0.3785357157978257,
          0.4562707565237673,
          0.5837448026525652,
          0.5055537162012852,
          -0.5055537162012765,
          -0.5837448026525652,
          -0.4562707565237673,
          -0.37853571579782613,
          -0.27694480004498556,
          -0.18671635855422195,
          -0.09298190276811347
         ],
         "yaxis": "y"
        },
        {
         "hovertemplate": "color=b'WENO-Z'<br>x=%{x}<br>y=%{y}<extra></extra>",
         "legendgroup": "b'WENO-Z'",
         "marker": {
          "color": "#EF553B",
          "symbol": "circle"
         },
         "mode": "markers",
         "name": "b'WENO-Z'",
         "orientation": "v",
         "showlegend": true,
         "type": "scatter",
         "x": [
          -1,
          -0.9333333333333333,
          -0.8666666666666667,
          -0.8,
          -0.7333333333333334,
          -0.6666666666666667,
          -0.6000000000000001,
          -0.5333333333333334,
          -0.4666666666666668,
          -0.40000000000000013,
          -0.3333333333333335,
          -0.26666666666666683,
          -0.20000000000000018,
          -0.13333333333333353,
          -0.06666666666666686,
          -1.942890293094024e-16,
          0.06666666666666647,
          0.13333333333333314,
          0.1999999999999998,
          0.26666666666666644,
          0.3333333333333331,
          0.39999999999999974,
          0.4666666666666664,
          0.5333333333333331,
          0.5999999999999998,
          0.6666666666666664,
          0.7333333333333331,
          0.7999999999999997,
          0.8666666666666664,
          0.933333333333333
         ],
         "xaxis": "x",
         "y": [
          7.604817475141037e-17,
          0.09298190276811358,
          0.18671635855422217,
          0.2769448000449851,
          0.3785357157978257,
          0.4562707565237673,
          0.5837448026525652,
          0.505553716201282,
          -0.5055537162012802,
          -0.5837448026525657,
          -0.45627075652376775,
          -0.37853571579782613,
          -0.27694480004498556,
          -0.18671635855422172,
          -0.0929819027681138,
          -2.8382158499147774e-16,
          0.09298190276811347,
          0.18671635855422172,
          0.2769448000449847,
          0.3785357157978257,
          0.4562707565237673,
          0.5837448026525652,
          0.5055537162012852,
          -0.5055537162012765,
          -0.5837448026525652,
          -0.4562707565237673,
          -0.37853571579782613,
          -0.27694480004498556,
          -0.18671635855422195,
          -0.09298190276811347
         ],
         "yaxis": "y"
        },
        {
         "hovertemplate": "color=b'WENO-Z+'<br>x=%{x}<br>y=%{y}<extra></extra>",
         "legendgroup": "b'WENO-Z+'",
         "marker": {
          "color": "#00cc96",
          "symbol": "circle"
         },
         "mode": "markers",
         "name": "b'WENO-Z+'",
         "orientation": "v",
         "showlegend": true,
         "type": "scatter",
         "x": [
          -1,
          -0.9333333333333333,
          -0.8666666666666667,
          -0.8,
          -0.7333333333333334,
          -0.6666666666666667,
          -0.6000000000000001,
          -0.5333333333333334,
          -0.4666666666666668,
          -0.40000000000000013,
          -0.3333333333333335,
          -0.26666666666666683,
          -0.20000000000000018,
          -0.13333333333333353,
          -0.06666666666666686,
          -1.942890293094024e-16,
          0.06666666666666647,
          0.13333333333333314,
          0.1999999999999998,
          0.26666666666666644,
          0.3333333333333331,
          0.39999999999999974,
          0.4666666666666664,
          0.5333333333333331,
          0.5999999999999998,
          0.6666666666666664,
          0.7333333333333331,
          0.7999999999999997,
          0.8666666666666664,
          0.933333333333333
         ],
         "xaxis": "x",
         "y": [
          7.604817475141037e-17,
          0.09298190276811358,
          0.18671635855422217,
          0.2769448000449851,
          0.3785357157978257,
          0.4562707565237673,
          0.5837448026525652,
          0.505553716201282,
          -0.5055537162012802,
          -0.5837448026525657,
          -0.45627075652376775,
          -0.37853571579782613,
          -0.27694480004498556,
          -0.18671635855422172,
          -0.0929819027681138,
          -2.8382158499147774e-16,
          0.09298190276811347,
          0.18671635855422172,
          0.2769448000449847,
          0.3785357157978257,
          0.4562707565237673,
          0.5837448026525652,
          0.5055537162012852,
          -0.5055537162012765,
          -0.5837448026525652,
          -0.4562707565237673,
          -0.37853571579782613,
          -0.27694480004498556,
          -0.18671635855422195,
          -0.09298190276811347
         ],
         "yaxis": "y"
        },
        {
         "hovertemplate": "color=b'WENO-JS (M)'<br>x=%{x}<br>y=%{y}<extra></extra>",
         "legendgroup": "b'WENO-JS (M)'",
         "marker": {
          "color": "#ab63fa",
          "symbol": "circle"
         },
         "mode": "markers",
         "name": "b'WENO-JS (M)'",
         "orientation": "v",
         "showlegend": true,
         "type": "scatter",
         "x": [
          -1,
          -0.9333333333333333,
          -0.8666666666666667,
          -0.8,
          -0.7333333333333334,
          -0.6666666666666667,
          -0.6000000000000001,
          -0.5333333333333334,
          -0.4666666666666668,
          -0.40000000000000013,
          -0.3333333333333335,
          -0.26666666666666683,
          -0.20000000000000018,
          -0.13333333333333353,
          -0.06666666666666686,
          -1.942890293094024e-16,
          0.06666666666666647,
          0.13333333333333314,
          0.1999999999999998,
          0.26666666666666644,
          0.3333333333333331,
          0.39999999999999974,
          0.4666666666666664,
          0.5333333333333331,
          0.5999999999999998,
          0.6666666666666664,
          0.7333333333333331,
          0.7999999999999997,
          0.8666666666666664,
          0.933333333333333
         ],
         "xaxis": "x",
         "y": [
          7.604817475141037e-17,
          0.09298190276811358,
          0.18671635855422217,
          0.2769448000449851,
          0.3785357157978257,
          0.4562707565237673,
          0.5837448026525652,
          0.505553716201282,
          -0.5055537162012802,
          -0.5837448026525657,
          -0.45627075652376775,
          -0.37853571579782613,
          -0.27694480004498556,
          -0.18671635855422172,
          -0.0929819027681138,
          -2.8382158499147774e-16,
          0.09298190276811347,
          0.18671635855422172,
          0.2769448000449847,
          0.3785357157978257,
          0.4562707565237673,
          0.5837448026525652,
          0.5055537162012852,
          -0.5055537162012765,
          -0.5837448026525652,
          -0.4562707565237673,
          -0.37853571579782613,
          -0.27694480004498556,
          -0.18671635855422195,
          -0.09298190276811347
         ],
         "yaxis": "y"
        },
        {
         "hovertemplate": "color=b'WENO-Z (M)'<br>x=%{x}<br>y=%{y}<extra></extra>",
         "legendgroup": "b'WENO-Z (M)'",
         "marker": {
          "color": "#FFA15A",
          "symbol": "circle"
         },
         "mode": "markers",
         "name": "b'WENO-Z (M)'",
         "orientation": "v",
         "showlegend": true,
         "type": "scatter",
         "x": [
          -1,
          -0.9333333333333333,
          -0.8666666666666667,
          -0.8,
          -0.7333333333333334,
          -0.6666666666666667,
          -0.6000000000000001,
          -0.5333333333333334,
          -0.4666666666666668,
          -0.40000000000000013,
          -0.3333333333333335,
          -0.26666666666666683,
          -0.20000000000000018,
          -0.13333333333333353,
          -0.06666666666666686,
          -1.942890293094024e-16,
          0.06666666666666647,
          0.13333333333333314,
          0.1999999999999998,
          0.26666666666666644,
          0.3333333333333331,
          0.39999999999999974,
          0.4666666666666664,
          0.5333333333333331,
          0.5999999999999998,
          0.6666666666666664,
          0.7333333333333331,
          0.7999999999999997,
          0.8666666666666664,
          0.933333333333333
         ],
         "xaxis": "x",
         "y": [
          7.604817475141037e-17,
          0.09298190276811358,
          0.18671635855422217,
          0.2769448000449851,
          0.3785357157978257,
          0.4562707565237673,
          0.5837448026525652,
          0.505553716201282,
          -0.5055537162012802,
          -0.5837448026525657,
          -0.45627075652376775,
          -0.37853571579782613,
          -0.27694480004498556,
          -0.18671635855422172,
          -0.0929819027681138,
          -2.8382158499147774e-16,
          0.09298190276811347,
          0.18671635855422172,
          0.2769448000449847,
          0.3785357157978257,
          0.4562707565237673,
          0.5837448026525652,
          0.5055537162012852,
          -0.5055537162012765,
          -0.5837448026525652,
          -0.4562707565237673,
          -0.37853571579782613,
          -0.27694480004498556,
          -0.18671635855422195,
          -0.09298190276811347
         ],
         "yaxis": "y"
        },
        {
         "hovertemplate": "color=b'WENO-Z+ (M)'<br>x=%{x}<br>y=%{y}<extra></extra>",
         "legendgroup": "b'WENO-Z+ (M)'",
         "marker": {
          "color": "#19d3f3",
          "symbol": "circle"
         },
         "mode": "markers",
         "name": "b'WENO-Z+ (M)'",
         "orientation": "v",
         "showlegend": true,
         "type": "scatter",
         "x": [
          -1,
          -0.9333333333333333,
          -0.8666666666666667,
          -0.8,
          -0.7333333333333334,
          -0.6666666666666667,
          -0.6000000000000001,
          -0.5333333333333334,
          -0.4666666666666668,
          -0.40000000000000013,
          -0.3333333333333335,
          -0.26666666666666683,
          -0.20000000000000018,
          -0.13333333333333353,
          -0.06666666666666686,
          -1.942890293094024e-16,
          0.06666666666666647,
          0.13333333333333314,
          0.1999999999999998,
          0.26666666666666644,
          0.3333333333333331,
          0.39999999999999974,
          0.4666666666666664,
          0.5333333333333331,
          0.5999999999999998,
          0.6666666666666664,
          0.7333333333333331,
          0.7999999999999997,
          0.8666666666666664,
          0.933333333333333
         ],
         "xaxis": "x",
         "y": [
          7.604817475141037e-17,
          0.09298190276811358,
          0.18671635855422217,
          0.2769448000449851,
          0.3785357157978257,
          0.4562707565237673,
          0.5837448026525652,
          0.505553716201282,
          -0.5055537162012802,
          -0.5837448026525657,
          -0.45627075652376775,
          -0.37853571579782613,
          -0.27694480004498556,
          -0.18671635855422172,
          -0.0929819027681138,
          -2.8382158499147774e-16,
          0.09298190276811347,
          0.18671635855422172,
          0.2769448000449847,
          0.3785357157978257,
          0.4562707565237673,
          0.5837448026525652,
          0.5055537162012852,
          -0.5055537162012765,
          -0.5837448026525652,
          -0.4562707565237673,
          -0.37853571579782613,
          -0.27694480004498556,
          -0.18671635855422195,
          -0.09298190276811347
         ],
         "yaxis": "y"
        },
        {
         "line": {
          "color": "#666666"
         },
         "mode": "lines",
         "name": "Referência",
         "type": "scatter",
         "x": [
          -1,
          -0.9966666666666667,
          -0.9933333333333334,
          -0.9900000000000001,
          -0.9866666666666668,
          -0.9833333333333335,
          -0.9800000000000002,
          -0.9766666666666669,
          -0.9733333333333336,
          -0.9700000000000003,
          -0.966666666666667,
          -0.9633333333333337,
          -0.9600000000000004,
          -0.9566666666666671,
          -0.9533333333333338,
          -0.9500000000000005,
          -0.9466666666666672,
          -0.9433333333333339,
          -0.9400000000000006,
          -0.9366666666666673,
          -0.933333333333334,
          -0.9300000000000007,
          -0.9266666666666674,
          -0.9233333333333341,
          -0.9200000000000008,
          -0.9166666666666675,
          -0.9133333333333342,
          -0.9100000000000009,
          -0.9066666666666676,
          -0.9033333333333343,
          -0.900000000000001,
          -0.8966666666666677,
          -0.8933333333333344,
          -0.8900000000000011,
          -0.8866666666666678,
          -0.8833333333333345,
          -0.8800000000000012,
          -0.8766666666666679,
          -0.8733333333333346,
          -0.8700000000000013,
          -0.866666666666668,
          -0.8633333333333347,
          -0.8600000000000014,
          -0.8566666666666681,
          -0.8533333333333348,
          -0.8500000000000015,
          -0.8466666666666682,
          -0.8433333333333349,
          -0.8400000000000016,
          -0.8366666666666683,
          -0.833333333333335,
          -0.8300000000000017,
          -0.8266666666666684,
          -0.8233333333333351,
          -0.8200000000000018,
          -0.8166666666666685,
          -0.8133333333333352,
          -0.8100000000000019,
          -0.8066666666666686,
          -0.8033333333333353,
          -0.800000000000002,
          -0.7966666666666687,
          -0.7933333333333354,
          -0.7900000000000021,
          -0.7866666666666688,
          -0.7833333333333355,
          -0.7800000000000022,
          -0.776666666666669,
          -0.7733333333333356,
          -0.7700000000000023,
          -0.766666666666669,
          -0.7633333333333358,
          -0.7600000000000025,
          -0.7566666666666692,
          -0.7533333333333359,
          -0.7500000000000026,
          -0.7466666666666693,
          -0.743333333333336,
          -0.7400000000000027,
          -0.7366666666666694,
          -0.7333333333333361,
          -0.7300000000000028,
          -0.7266666666666695,
          -0.7233333333333362,
          -0.7200000000000029,
          -0.7166666666666696,
          -0.7133333333333363,
          -0.710000000000003,
          -0.7066666666666697,
          -0.7033333333333364,
          -0.7000000000000031,
          -0.6966666666666698,
          -0.6933333333333365,
          -0.6900000000000032,
          -0.6866666666666699,
          -0.6833333333333366,
          -0.6800000000000033,
          -0.67666666666667,
          -0.6733333333333367,
          -0.6700000000000034,
          -0.6666666666666701,
          -0.6633333333333368,
          -0.6600000000000035,
          -0.6566666666666702,
          -0.6533333333333369,
          -0.6500000000000036,
          -0.6466666666666703,
          -0.643333333333337,
          -0.6400000000000037,
          -0.6366666666666704,
          -0.6333333333333371,
          -0.6300000000000038,
          -0.6266666666666705,
          -0.6233333333333372,
          -0.6200000000000039,
          -0.6166666666666706,
          -0.6133333333333373,
          -0.610000000000004,
          -0.6066666666666707,
          -0.6033333333333374,
          -0.6000000000000041,
          -0.5966666666666708,
          -0.5933333333333375,
          -0.5900000000000042,
          -0.5866666666666709,
          -0.5833333333333376,
          -0.5800000000000043,
          -0.576666666666671,
          -0.5733333333333377,
          -0.5700000000000044,
          -0.5666666666666711,
          -0.5633333333333378,
          -0.5600000000000045,
          -0.5566666666666712,
          -0.5533333333333379,
          -0.5500000000000046,
          -0.5466666666666713,
          -0.543333333333338,
          -0.5400000000000047,
          -0.5366666666666714,
          -0.5333333333333381,
          -0.5300000000000048,
          -0.5266666666666715,
          -0.5233333333333382,
          -0.5200000000000049,
          -0.5166666666666716,
          -0.5133333333333383,
          -0.510000000000005,
          -0.5066666666666717,
          -0.5033333333333384,
          -0.5000000000000051,
          -0.49666666666667175,
          -0.4933333333333384,
          -0.49000000000000504,
          -0.4866666666666717,
          -0.48333333333333833,
          -0.480000000000005,
          -0.4766666666666716,
          -0.47333333333333827,
          -0.4700000000000049,
          -0.46666666666667156,
          -0.4633333333333382,
          -0.46000000000000485,
          -0.4566666666666715,
          -0.45333333333333814,
          -0.4500000000000048,
          -0.44666666666667143,
          -0.4433333333333381,
          -0.4400000000000047,
          -0.43666666666667137,
          -0.433333333333338,
          -0.43000000000000466,
          -0.4266666666666713,
          -0.42333333333333795,
          -0.4200000000000046,
          -0.41666666666667124,
          -0.4133333333333379,
          -0.4100000000000045,
          -0.4066666666666712,
          -0.4033333333333378,
          -0.40000000000000446,
          -0.3966666666666711,
          -0.39333333333333775,
          -0.3900000000000044,
          -0.38666666666667104,
          -0.3833333333333377,
          -0.38000000000000433,
          -0.376666666666671,
          -0.3733333333333376,
          -0.37000000000000427,
          -0.3666666666666709,
          -0.36333333333333756,
          -0.3600000000000042,
          -0.35666666666667085,
          -0.3533333333333375,
          -0.35000000000000414,
          -0.3466666666666708,
          -0.34333333333333743,
          -0.3400000000000041,
          -0.3366666666666707,
          -0.33333333333333737,
          -0.330000000000004,
          -0.32666666666667066,
          -0.3233333333333373,
          -0.32000000000000395,
          -0.3166666666666706,
          -0.31333333333333724,
          -0.3100000000000039,
          -0.30666666666667053,
          -0.3033333333333372,
          -0.3000000000000038,
          -0.29666666666667046,
          -0.2933333333333371,
          -0.29000000000000375,
          -0.2866666666666704,
          -0.28333333333333705,
          -0.2800000000000037,
          -0.27666666666667034,
          -0.273333333333337,
          -0.2700000000000036,
          -0.26666666666667027,
          -0.2633333333333369,
          -0.26000000000000356,
          -0.2566666666666702,
          -0.25333333333333685,
          -0.2500000000000035,
          -0.24666666666667017,
          -0.24333333333333684,
          -0.24000000000000352,
          -0.2366666666666702,
          -0.23333333333333686,
          -0.23000000000000353,
          -0.2266666666666702,
          -0.22333333333333688,
          -0.22000000000000355,
          -0.21666666666667023,
          -0.2133333333333369,
          -0.21000000000000357,
          -0.20666666666667025,
          -0.20333333333333692,
          -0.2000000000000036,
          -0.19666666666667026,
          -0.19333333333333694,
          -0.1900000000000036,
          -0.18666666666667028,
          -0.18333333333333696,
          -0.18000000000000363,
          -0.1766666666666703,
          -0.17333333333333698,
          -0.17000000000000365,
          -0.16666666666667032,
          -0.163333333333337,
          -0.16000000000000367,
          -0.15666666666667034,
          -0.153333333333337,
          -0.15000000000000369,
          -0.14666666666667036,
          -0.14333333333333703,
          -0.1400000000000037,
          -0.13666666666667038,
          -0.13333333333333705,
          -0.13000000000000372,
          -0.1266666666666704,
          -0.12333333333333707,
          -0.12000000000000374,
          -0.11666666666667042,
          -0.11333333333333709,
          -0.11000000000000376,
          -0.10666666666667043,
          -0.10333333333333711,
          -0.10000000000000378,
          -0.09666666666667045,
          -0.09333333333333713,
          -0.0900000000000038,
          -0.08666666666667047,
          -0.08333333333333715,
          -0.08000000000000382,
          -0.07666666666667049,
          -0.07333333333333716,
          -0.07000000000000384,
          -0.06666666666667051,
          -0.06333333333333718,
          -0.06000000000000385,
          -0.056666666666670515,
          -0.05333333333333718,
          -0.05000000000000385,
          -0.04666666666667051,
          -0.04333333333333718,
          -0.040000000000003845,
          -0.03666666666667051,
          -0.03333333333333718,
          -0.030000000000003843,
          -0.02666666666667051,
          -0.023333333333337175,
          -0.02000000000000384,
          -0.016666666666670507,
          -0.013333333333337173,
          -0.01000000000000384,
          -0.006666666666670505,
          -0.0033333333333371716,
          -3.838075690598686e-15,
          0.0033333333333294955,
          0.006666666666662829,
          0.009999999999996163,
          0.013333333333329497,
          0.01666666666666283,
          0.019999999999996163,
          0.023333333333329497,
          0.02666666666666283,
          0.029999999999996165,
          0.033333333333329496,
          0.03666666666666283,
          0.039999999999996164,
          0.0433333333333295,
          0.04666666666666283,
          0.049999999999996166,
          0.0533333333333295,
          0.056666666666662834,
          0.05999999999999617,
          0.0633333333333295,
          0.06666666666666282,
          0.06999999999999615,
          0.07333333333332948,
          0.0766666666666628,
          0.07999999999999613,
          0.08333333333332946,
          0.08666666666666278,
          0.08999999999999611,
          0.09333333333332944,
          0.09666666666666276,
          0.09999999999999609,
          0.10333333333332942,
          0.10666666666666275,
          0.10999999999999607,
          0.1133333333333294,
          0.11666666666666273,
          0.11999999999999605,
          0.12333333333332938,
          0.1266666666666627,
          0.12999999999999604,
          0.13333333333332936,
          0.1366666666666627,
          0.13999999999999602,
          0.14333333333332934,
          0.14666666666666267,
          0.149999999999996,
          0.15333333333332932,
          0.15666666666666265,
          0.15999999999999598,
          0.1633333333333293,
          0.16666666666666263,
          0.16999999999999596,
          0.1733333333333293,
          0.17666666666666261,
          0.17999999999999594,
          0.18333333333332927,
          0.1866666666666626,
          0.18999999999999592,
          0.19333333333332925,
          0.19666666666666258,
          0.1999999999999959,
          0.20333333333332923,
          0.20666666666666256,
          0.20999999999999588,
          0.2133333333333292,
          0.21666666666666254,
          0.21999999999999587,
          0.2233333333333292,
          0.22666666666666252,
          0.22999999999999585,
          0.23333333333332917,
          0.2366666666666625,
          0.23999999999999583,
          0.24333333333332915,
          0.24666666666666248,
          0.2499999999999958,
          0.25333333333332914,
          0.2566666666666625,
          0.25999999999999585,
          0.2633333333333292,
          0.26666666666666256,
          0.2699999999999959,
          0.27333333333332926,
          0.2766666666666626,
          0.279999999999996,
          0.28333333333332933,
          0.2866666666666627,
          0.28999999999999604,
          0.2933333333333294,
          0.29666666666666275,
          0.2999999999999961,
          0.30333333333332946,
          0.3066666666666628,
          0.30999999999999617,
          0.3133333333333295,
          0.3166666666666629,
          0.31999999999999623,
          0.3233333333333296,
          0.32666666666666294,
          0.3299999999999963,
          0.33333333333332965,
          0.336666666666663,
          0.33999999999999636,
          0.3433333333333297,
          0.34666666666666307,
          0.3499999999999964,
          0.3533333333333298,
          0.35666666666666313,
          0.3599999999999965,
          0.36333333333332984,
          0.3666666666666632,
          0.36999999999999655,
          0.3733333333333299,
          0.37666666666666326,
          0.3799999999999966,
          0.38333333333333,
          0.38666666666666333,
          0.3899999999999967,
          0.39333333333333004,
          0.3966666666666634,
          0.39999999999999675,
          0.4033333333333301,
          0.40666666666666346,
          0.4099999999999968,
          0.41333333333333017,
          0.4166666666666635,
          0.4199999999999969,
          0.42333333333333023,
          0.4266666666666636,
          0.42999999999999694,
          0.4333333333333303,
          0.43666666666666365,
          0.439999999999997,
          0.44333333333333036,
          0.4466666666666637,
          0.44999999999999707,
          0.4533333333333304,
          0.4566666666666638,
          0.45999999999999713,
          0.4633333333333305,
          0.46666666666666384,
          0.4699999999999972,
          0.47333333333333055,
          0.4766666666666639,
          0.47999999999999726,
          0.4833333333333306,
          0.48666666666666397,
          0.4899999999999973,
          0.4933333333333307,
          0.49666666666666404,
          0.4999999999999974,
          0.5033333333333307,
          0.506666666666664,
          0.5099999999999973,
          0.5133333333333306,
          0.5166666666666639,
          0.5199999999999972,
          0.5233333333333305,
          0.5266666666666638,
          0.5299999999999971,
          0.5333333333333304,
          0.5366666666666637,
          0.539999999999997,
          0.5433333333333303,
          0.5466666666666636,
          0.5499999999999969,
          0.5533333333333302,
          0.5566666666666635,
          0.5599999999999968,
          0.5633333333333301,
          0.5666666666666634,
          0.5699999999999967,
          0.57333333333333,
          0.5766666666666633,
          0.5799999999999966,
          0.5833333333333299,
          0.5866666666666632,
          0.5899999999999965,
          0.5933333333333298,
          0.5966666666666631,
          0.5999999999999964,
          0.6033333333333297,
          0.606666666666663,
          0.6099999999999963,
          0.6133333333333296,
          0.6166666666666629,
          0.6199999999999962,
          0.6233333333333295,
          0.6266666666666628,
          0.6299999999999961,
          0.6333333333333294,
          0.6366666666666627,
          0.639999999999996,
          0.6433333333333293,
          0.6466666666666626,
          0.6499999999999959,
          0.6533333333333292,
          0.6566666666666625,
          0.6599999999999958,
          0.6633333333333291,
          0.6666666666666624,
          0.6699999999999957,
          0.673333333333329,
          0.6766666666666623,
          0.6799999999999956,
          0.6833333333333289,
          0.6866666666666622,
          0.6899999999999955,
          0.6933333333333288,
          0.6966666666666621,
          0.6999999999999954,
          0.7033333333333287,
          0.706666666666662,
          0.7099999999999953,
          0.7133333333333286,
          0.7166666666666619,
          0.7199999999999952,
          0.7233333333333285,
          0.7266666666666618,
          0.7299999999999951,
          0.7333333333333284,
          0.7366666666666617,
          0.739999999999995,
          0.7433333333333283,
          0.7466666666666616,
          0.7499999999999949,
          0.7533333333333282,
          0.7566666666666615,
          0.7599999999999948,
          0.7633333333333281,
          0.7666666666666614,
          0.7699999999999947,
          0.773333333333328,
          0.7766666666666613,
          0.7799999999999946,
          0.7833333333333279,
          0.7866666666666612,
          0.7899999999999945,
          0.7933333333333278,
          0.7966666666666611,
          0.7999999999999944,
          0.8033333333333277,
          0.806666666666661,
          0.8099999999999943,
          0.8133333333333276,
          0.8166666666666609,
          0.8199999999999942,
          0.8233333333333275,
          0.8266666666666608,
          0.8299999999999941,
          0.8333333333333274,
          0.8366666666666607,
          0.839999999999994,
          0.8433333333333273,
          0.8466666666666606,
          0.8499999999999939,
          0.8533333333333272,
          0.8566666666666605,
          0.8599999999999938,
          0.8633333333333271,
          0.8666666666666604,
          0.8699999999999937,
          0.873333333333327,
          0.8766666666666603,
          0.8799999999999936,
          0.8833333333333269,
          0.8866666666666602,
          0.8899999999999935,
          0.8933333333333268,
          0.8966666666666601,
          0.8999999999999934,
          0.9033333333333267,
          0.90666666666666,
          0.9099999999999933,
          0.9133333333333266,
          0.9166666666666599,
          0.9199999999999932,
          0.9233333333333265,
          0.9266666666666598,
          0.929999999999993,
          0.9333333333333264,
          0.9366666666666597,
          0.939999999999993,
          0.9433333333333263,
          0.9466666666666596,
          0.9499999999999929,
          0.9533333333333261,
          0.9566666666666594,
          0.9599999999999927,
          0.963333333333326,
          0.9666666666666593,
          0.9699999999999926,
          0.973333333333326,
          0.9766666666666592,
          0.9799999999999925,
          0.9833333333333258,
          0.9866666666666591,
          0.9899999999999924,
          0.9933333333333257,
          0.996666666666659
         ],
         "y": [
          5.53813263917819e-17,
          0.004664251850667166,
          0.009328481102840626,
          0.013992665154295291,
          0.01865678139603374,
          0.023320807209077945,
          0.027984719961159445,
          0.03264849700336945,
          0.03731211566679486,
          0.04197555325914845,
          0.04663878706138961,
          0.051301794324344695,
          0.05596455226531,
          0.06062703806464922,
          0.06528922886237136,
          0.06995110175469646,
          0.07461263379059734,
          0.07927380196832919,
          0.08393458323193333,
          0.08859495446771821,
          0.09325489250071804,
          0.09791437409112713,
          0.1025733759307031,
          0.10723187463914657,
          0.1118898467604467,
          0.11654726875919603,
          0.12120411701687263,
          0.1258603678280881,
          0.13051599739679665,
          0.13517098183246457,
          0.1398252971462037,
          0.14447891924686057,
          0.14913182393706273,
          0.1537839869092131,
          0.15843538374144592,
          0.16308598989352555,
          0.16773578070270057,
          0.1723847313794982,
          0.17703281700346715,
          0.1816800125188549,
          0.18632629273023651,
          0.1909716322980708,
          0.19561600573420104,
          0.20025938739727947,
          0.20490175148813103,
          0.20954307204503386,
          0.21418332293893835,
          0.21882247786860268,
          0.2234605103556456,
          0.22809739373952456,
          0.23273310117242238,
          0.23736760561404577,
          0.24200087982633509,
          0.24663289636808203,
          0.2512636275894432,
          0.2558930456263561,
          0.2605211223948533,
          0.26514782958526434,
          0.2697731386563111,
          0.27439702082908485,
          0.27901944708090737,
          0.2836403881390611,
          0.288259814474405,
          0.2928776962948512,
          0.297494003538707,
          0.3021087058678783,
          0.3067217726609302,
          0.3113331730059954,
          0.3159428756935269,
          0.3205508492088956,
          0.3251570617248209,
          0.3297614810936315,
          0.3343640748393493,
          0.3389648101495955,
          0.3435636538672975,
          0.3481605724822174,
          0.3527555321222687,
          0.35734849854462664,
          0.36193943712663046,
          0.3665283128564522,
          0.37111509032354567,
          0.3756997337088561,
          0.3802822067747819,
          0.38486247285488234,
          0.38944049484331833,
          0.394016235184034,
          0.39858965585964584,
          0.4031607183800376,
          0.4077293837706657,
          0.41229561256054037,
          0.4168593647698849,
          0.42142059989746855,
          0.4259792769075828,
          0.4305353542166594,
          0.43508878967951575,
          0.43963954057521665,
          0.44418756359253037,
          0.44873281481497657,
          0.453275249705432,
          0.4578148230902936,
          0.4623514891431891,
          0.4668852013681763,
          0.47141591258249044,
          0.47594357489869626,
          0.4804681397064361,
          0.484989557653375,
          0.48950777862598177,
          0.4940227517289881,
          0.4985344252654685,
          0.5030427467140971,
          0.5075476627094803,
          0.5120491190152642,
          0.516547060507838,
          0.521041431139585,
          0.5255321739355058,
          0.5300192309297322,
          0.534502543203989,
          0.538982050746913,
          0.5434576926213085,
          0.5479294065953421,
          0.5523971296994182,
          0.5568607971774756,
          0.5613203442144914,
          0.5657757028567438,
          0.5702268072455611,
          0.5746735844685423,
          0.5791159702777448,
          0.5835538818135427,
          0.5879872646383598,
          0.5924160113517593,
          0.5968401020770185,
          0.6012593616775241,
          0.6056738789162943,
          0.6100832825679969,
          0.614487991002809,
          0.6188870551157245,
          0.6232818809607291,
          0.6276698058573831,
          0.6320551816370711,
          0.6364302547801493,
          0.6408081454704518,
          0.645165970368306,
          0.6495429231196096,
          0.6538711630363052,
          0.6582673738177437,
          0.662530254548071,
          0.6670075680183737,
          0.6711111485840652,
          0.6759756095051093,
          0.666243782716832,
          1.8125650614432554e-12,
          -0.6662437827165731,
          -0.6759756095050752,
          -0.6711111485840839,
          -0.667007568018369,
          -0.6625302545480821,
          -0.6582673738177472,
          -0.6538711630363128,
          -0.6495429231196154,
          -0.6451659703683145,
          -0.6408081454704612,
          -0.636430254780159,
          -0.6320551816370803,
          -0.627669805857392,
          -0.6232818809607371,
          -0.6188870551157334,
          -0.6144879910028179,
          -0.6100832825680027,
          -0.6056738789163001,
          -0.6012593616775298,
          -0.5968401020770239,
          -0.5924160113517646,
          -0.5879872646383646,
          -0.5835538818135476,
          -0.5791159702777501,
          -0.5746735844685468,
          -0.5702268072455655,
          -0.5657757028567484,
          -0.5613203442144944,
          -0.5568607971774774,
          -0.55239712969942,
          -0.5479294065953467,
          -0.5434576926213137,
          -0.5389820507469174,
          -0.5345025432039946,
          -0.5300192309297397,
          -0.5255321739355138,
          -0.5210414311395929,
          -0.5165470605078452,
          -0.5120491190152717,
          -0.5075476627094874,
          -0.5030427467141029,
          -0.49853442526547426,
          -0.4940227517289945,
          -0.4895077786259879,
          -0.48498955765338186,
          -0.4804681397064435,
          -0.47594357489870337,
          -0.47141591258249754,
          -0.46688520136818296,
          -0.4623514891431964,
          -0.4578148230903016,
          -0.45327524970544,
          -0.448732814814984,
          -0.444187563592536,
          -0.43963954057522064,
          -0.4350887896795202,
          -0.4305353542166641,
          -0.4259792769075886,
          -0.42142059989747344,
          -0.41685936476988905,
          -0.4122956125605439,
          -0.40772938377066925,
          -0.40316071838004136,
          -0.39858965585965045,
          -0.3940162351840389,
          -0.3894404948433223,
          -0.38486247285488767,
          -0.38028220677478936,
          -0.37569973370886395,
          -0.3711150903235532,
          -0.36652831285645865,
          -0.3619394371266366,
          -0.3573484985446327,
          -0.3527555321222741,
          -0.348160572482223,
          -0.34356365386730264,
          -0.33896481014960006,
          -0.3343640748393542,
          -0.32976148109363557,
          -0.32515706172482534,
          -0.3205508492089014,
          -0.31594287569353335,
          -0.3113331730060019,
          -0.3067217726609373,
          -0.30210870586788485,
          -0.29749400353871297,
          -0.29287769629485677,
          -0.2882598144744108,
          -0.28364038813906667,
          -0.2790194470809125,
          -0.27439702082908973,
          -0.2697731386563162,
          -0.2651478295852688,
          -0.260521122394858,
          -0.25589304562636167,
          -0.25126362758944876,
          -0.24663289636808802,
          -0.2420008798263402,
          -0.23736760561405043,
          -0.23273310117242696,
          -0.2280973937395299,
          -0.22346051035565073,
          -0.2188224778686081,
          -0.21418332293894435,
          -0.20954307204503986,
          -0.20490175148813725,
          -0.20025938739728524,
          -0.1956160057342057,
          -0.19097163229807554,
          -0.18632629273024118,
          -0.18168001251886015,
          -0.17703281700347276,
          -0.1723847313795042,
          -0.1677357807027062,
          -0.16308598989353054,
          -0.1584353837414507,
          -0.15378398690921777,
          -0.14913182393706773,
          -0.14447891924686612,
          -0.1398252971462092,
          -0.13517098183247012,
          -0.13051599739680217,
          -0.12586036782809332,
          -0.12120411701687796,
          -0.11654726875920159,
          -0.11188984676045229,
          -0.10723187463915257,
          -0.1025733759307091,
          -0.09791437409113296,
          -0.09325489250072361,
          -0.08859495446772366,
          -0.08393458323193854,
          -0.07927380196833424,
          -0.07461263379060289,
          -0.06995110175470207,
          -0.06528922886237713,
          -0.06062703806465477,
          -0.05596455226531524,
          -0.05130179432434984,
          -0.04663878706139512,
          -0.0419755532591545,
          -0.03731211566680085,
          -0.03264849700337516,
          -0.027984719961164774,
          -0.023320807209083177,
          -0.01865678139603882,
          -0.013992665154300012,
          -0.009328481102845109,
          -0.00466425185067172,
          -5.370491398235863e-15,
          0.0046642518506609274,
          0.009328481102834414,
          0.013992665154289268,
          0.018656781396028024,
          0.023320807209072567,
          0.027984719961154047,
          0.03264849700336429,
          0.03731211566679003,
          0.041975553259143566,
          0.046638787061384544,
          0.051301794324339144,
          0.05596455226530445,
          0.0606270380646435,
          0.06528922886236609,
          0.06995110175469113,
          0.07461263379059206,
          0.07927380196832347,
          0.08393458323192782,
          0.088594954467713,
          0.09325489250071277,
          0.09791437409112186,
          0.10257337593069811,
          0.10723187463914151,
          0.1118898467604416,
          0.1165472687591906,
          0.12120411701686719,
          0.125860367828083,
          0.13051599739679154,
          0.1351709818324592,
          0.13982529714619793,
          0.14447891924685502,
          0.1491318239370573,
          0.1537839869092079,
          0.15843538374144098,
          0.16308598989352077,
          0.16773578070269546,
          0.17238473137949353,
          0.17703281700346254,
          0.1816800125188498,
          0.18632629273023119,
          0.1909716322980659,
          0.19561600573419616,
          0.2002593873972748,
          0.20490175148812614,
          0.20954307204502876,
          0.21418332293893347,
          0.21882247786859788,
          0.22346051035564074,
          0.2280973937395201,
          0.23273310117241763,
          0.2373676056140409,
          0.24200087982632998,
          0.24663289636807692,
          0.2512636275894381,
          0.25589304562635123,
          0.2605211223948482,
          0.2651478295852588,
          0.26977313865630576,
          0.2743970208290793,
          0.27901944708090226,
          0.28364038813905623,
          0.2882598144743999,
          0.2928776962948461,
          0.29749400353870276,
          0.3021087058678748,
          0.30672177266092754,
          0.31133317300599117,
          0.31594287569352203,
          0.3205508492088907,
          0.32515706172481557,
          0.3297614810936255,
          0.3343640748393446,
          0.33896481014959073,
          0.3435636538672928,
          0.34816057248221205,
          0.352755532122263,
          0.35734849854462164,
          0.3619394371266255,
          0.36652831285644843,
          0.37111509032354345,
          0.3756997337088542,
          0.3802822067747787,
          0.38486247285487685,
          0.38944049484331256,
          0.39401623518403034,
          0.39858965585964223,
          0.4031607183800327,
          0.40772938377066037,
          0.4122956125605355,
          0.41685936476988034,
          0.4214205998974625,
          0.4259792769075767,
          0.4305353542166536,
          0.4350887896795111,
          0.4396395405752119,
          0.44418756359252715,
          0.4487328148149743,
          0.45327524970542976,
          0.4578148230902909,
          0.462351489143185,
          0.46688520136817185,
          0.47141591258248705,
          0.47594357489869316,
          0.480468139706433,
          0.48498955765337154,
          0.4895077786259772,
          0.49402275172898347,
          0.4985344252654646,
          0.5030427467140918,
          0.5075476627094736,
          0.5120491190152592,
          0.5165470605078344,
          0.521041431139582,
          0.5255321739355022,
          0.5300192309297291,
          0.5345025432039857,
          0.5389820507469086,
          0.5434576926213036,
          0.5479294065953376,
          0.5523971296994129,
          0.5568607971774698,
          0.5613203442144868,
          0.5657757028567394,
          0.570226807245555,
          0.5746735844685361,
          0.579115970277739,
          0.5835538818135361,
          0.5879872646383527,
          0.5924160113517525,
          0.5968401020770125,
          0.6012593616775184,
          0.6056738789162882,
          0.6100832825679912,
          0.6144879910028059,
          0.6188870551157214,
          0.623281880960726,
          0.6276698058573809,
          0.6320551816370689,
          0.6364302547801464,
          0.6408081454704478,
          0.6451659703683003,
          0.649542923119602,
          0.6538711630362994,
          0.6582673738177377,
          0.662530254548067,
          0.6670075680183644,
          0.6711111485840614,
          0.675975609505099,
          0.6662437827167711,
          9.835400980309554e-13,
          -0.6662437827166336,
          -0.6759756095050883,
          -0.6711111485840863,
          -0.6670075680183766,
          -0.6625302545480806,
          -0.658267373817753,
          -0.6538711630363154,
          -0.6495429231196171,
          -0.6451659703683149,
          -0.6408081454704616,
          -0.636430254780161,
          -0.6320551816370843,
          -0.627669805857396,
          -0.6232818809607411,
          -0.618887055115736,
          -0.6144879910028206,
          -0.6100832825680054,
          -0.6056738789163024,
          -0.6012593616775326,
          -0.596840102077027,
          -0.592416011351768,
          -0.5879872646383687,
          -0.5835538818135525,
          -0.5791159702777554,
          -0.5746735844685521,
          -0.5702268072455695,
          -0.565775702856753,
          -0.5613203442144997,
          -0.5568607971774836,
          -0.5523971296994267,
          -0.5479294065953514,
          -0.5434576926213183,
          -0.5389820507469227,
          -0.5345025432039993,
          -0.5300192309297421,
          -0.5255321739355147,
          -0.5210414311395943,
          -0.5165470605078469,
          -0.5120491190152731,
          -0.5075476627094896,
          -0.5030427467141076,
          -0.49853442526547903,
          -0.4940227517289981,
          -0.4895077786259922,
          -0.48498955765338564,
          -0.48046813970644703,
          -0.47594357489870737,
          -0.47141591258250154,
          -0.46688520136818695,
          -0.4623514891431995,
          -0.457814823090305,
          -0.4532752497054431,
          -0.44873281481498767,
          -0.444187563592541,
          -0.439639540575226,
          -0.4350887896795243,
          -0.4305353542166665,
          -0.4259792769075906,
          -0.42142059989747715,
          -0.416859364769894,
          -0.4122956125605497,
          -0.4077293837706746,
          -0.4031607183800476,
          -0.39858965585965606,
          -0.3940162351840441,
          -0.3894404948433272,
          -0.3848624728548924,
          -0.3802822067747947,
          -0.3756997337088693,
          -0.3711150903235591,
          -0.366528312856465,
          -0.3619394371266424,
          -0.35734849854463774,
          -0.3527555321222777,
          -0.34816057248222626,
          -0.3435636538673062,
          -0.33896481014960395,
          -0.33436407483935776,
          -0.3297614810936404,
          -0.32515706172483066,
          -0.3205508492089067,
          -0.3159428756935376,
          -0.3113331730060066,
          -0.30672177266094197,
          -0.3021087058678895,
          -0.29749400353871785,
          -0.29287769629486193,
          -0.2882598144744159,
          -0.28364038813907083,
          -0.2790194470809167,
          -0.27439702082909456,
          -0.2697731386563211,
          -0.2651478295852739,
          -0.26052112239486286,
          -0.25589304562636633,
          -0.2512636275894534,
          -0.24663289636809246,
          -0.24200087982634488,
          -0.23736760561405576,
          -0.2327331011724323,
          -0.22809739373953455,
          -0.22346051035565562,
          -0.2188224778686132,
          -0.21418332293894923,
          -0.20954307204504474,
          -0.20490175148814213,
          -0.20025938739729102,
          -0.19561600573421237,
          -0.19097163229808242,
          -0.1863262927302474,
          -0.18168001251886556,
          -0.17703281700347742,
          -0.17238473137950952,
          -0.16773578070271142,
          -0.16308598989353576,
          -0.15843538374145613,
          -0.15378398690922332,
          -0.14913182393707328,
          -0.14447891924687145,
          -0.13982529714621392,
          -0.13517098183247467,
          -0.13051599739680697,
          -0.12586036782809842,
          -0.12120411701688306,
          -0.11654726875920703,
          -0.11188984676045803,
          -0.10723187463915812,
          -0.10257337593071429,
          -0.097914374091138,
          -0.09325489250072834,
          -0.08859495446772832,
          -0.08393458323194364,
          -0.07927380196833907,
          -0.07461263379060794,
          -0.06995110175470738,
          -0.06528922886238218,
          -0.060627038064660216,
          -0.05596455226532093,
          -0.05130179432435542,
          -0.046638787061400656,
          -0.041975553259160275,
          -0.0373121156668069,
          -0.03264849700338119,
          -0.02798471996117068,
          -0.0233208072090884,
          -0.018656781396042824,
          -0.01399266515430219,
          -0.0093284811028449,
          -0.0046642518506687086
         ]
        }
       ],
       "layout": {
        "autosize": true,
        "legend": {
         "title": {
          "text": "color"
         },
         "tracegroupgap": 0
        },
        "margin": {
         "t": 60
        },
        "template": {
         "data": {
          "bar": [
           {
            "error_x": {
             "color": "#2a3f5f"
            },
            "error_y": {
             "color": "#2a3f5f"
            },
            "marker": {
             "line": {
              "color": "#E5ECF6",
              "width": 0.5
             },
             "pattern": {
              "fillmode": "overlay",
              "size": 10,
              "solidity": 0.2
             }
            },
            "type": "bar"
           }
          ],
          "barpolar": [
           {
            "marker": {
             "line": {
              "color": "#E5ECF6",
              "width": 0.5
             },
             "pattern": {
              "fillmode": "overlay",
              "size": 10,
              "solidity": 0.2
             }
            },
            "type": "barpolar"
           }
          ],
          "carpet": [
           {
            "aaxis": {
             "endlinecolor": "#2a3f5f",
             "gridcolor": "white",
             "linecolor": "white",
             "minorgridcolor": "white",
             "startlinecolor": "#2a3f5f"
            },
            "baxis": {
             "endlinecolor": "#2a3f5f",
             "gridcolor": "white",
             "linecolor": "white",
             "minorgridcolor": "white",
             "startlinecolor": "#2a3f5f"
            },
            "type": "carpet"
           }
          ],
          "choropleth": [
           {
            "colorbar": {
             "outlinewidth": 0,
             "ticks": ""
            },
            "type": "choropleth"
           }
          ],
          "contour": [
           {
            "colorbar": {
             "outlinewidth": 0,
             "ticks": ""
            },
            "colorscale": [
             [
              0,
              "#0d0887"
             ],
             [
              0.1111111111111111,
              "#46039f"
             ],
             [
              0.2222222222222222,
              "#7201a8"
             ],
             [
              0.3333333333333333,
              "#9c179e"
             ],
             [
              0.4444444444444444,
              "#bd3786"
             ],
             [
              0.5555555555555556,
              "#d8576b"
             ],
             [
              0.6666666666666666,
              "#ed7953"
             ],
             [
              0.7777777777777778,
              "#fb9f3a"
             ],
             [
              0.8888888888888888,
              "#fdca26"
             ],
             [
              1,
              "#f0f921"
             ]
            ],
            "type": "contour"
           }
          ],
          "contourcarpet": [
           {
            "colorbar": {
             "outlinewidth": 0,
             "ticks": ""
            },
            "type": "contourcarpet"
           }
          ],
          "heatmap": [
           {
            "colorbar": {
             "outlinewidth": 0,
             "ticks": ""
            },
            "colorscale": [
             [
              0,
              "#0d0887"
             ],
             [
              0.1111111111111111,
              "#46039f"
             ],
             [
              0.2222222222222222,
              "#7201a8"
             ],
             [
              0.3333333333333333,
              "#9c179e"
             ],
             [
              0.4444444444444444,
              "#bd3786"
             ],
             [
              0.5555555555555556,
              "#d8576b"
             ],
             [
              0.6666666666666666,
              "#ed7953"
             ],
             [
              0.7777777777777778,
              "#fb9f3a"
             ],
             [
              0.8888888888888888,
              "#fdca26"
             ],
             [
              1,
              "#f0f921"
             ]
            ],
            "type": "heatmap"
           }
          ],
          "heatmapgl": [
           {
            "colorbar": {
             "outlinewidth": 0,
             "ticks": ""
            },
            "colorscale": [
             [
              0,
              "#0d0887"
             ],
             [
              0.1111111111111111,
              "#46039f"
             ],
             [
              0.2222222222222222,
              "#7201a8"
             ],
             [
              0.3333333333333333,
              "#9c179e"
             ],
             [
              0.4444444444444444,
              "#bd3786"
             ],
             [
              0.5555555555555556,
              "#d8576b"
             ],
             [
              0.6666666666666666,
              "#ed7953"
             ],
             [
              0.7777777777777778,
              "#fb9f3a"
             ],
             [
              0.8888888888888888,
              "#fdca26"
             ],
             [
              1,
              "#f0f921"
             ]
            ],
            "type": "heatmapgl"
           }
          ],
          "histogram": [
           {
            "marker": {
             "pattern": {
              "fillmode": "overlay",
              "size": 10,
              "solidity": 0.2
             }
            },
            "type": "histogram"
           }
          ],
          "histogram2d": [
           {
            "colorbar": {
             "outlinewidth": 0,
             "ticks": ""
            },
            "colorscale": [
             [
              0,
              "#0d0887"
             ],
             [
              0.1111111111111111,
              "#46039f"
             ],
             [
              0.2222222222222222,
              "#7201a8"
             ],
             [
              0.3333333333333333,
              "#9c179e"
             ],
             [
              0.4444444444444444,
              "#bd3786"
             ],
             [
              0.5555555555555556,
              "#d8576b"
             ],
             [
              0.6666666666666666,
              "#ed7953"
             ],
             [
              0.7777777777777778,
              "#fb9f3a"
             ],
             [
              0.8888888888888888,
              "#fdca26"
             ],
             [
              1,
              "#f0f921"
             ]
            ],
            "type": "histogram2d"
           }
          ],
          "histogram2dcontour": [
           {
            "colorbar": {
             "outlinewidth": 0,
             "ticks": ""
            },
            "colorscale": [
             [
              0,
              "#0d0887"
             ],
             [
              0.1111111111111111,
              "#46039f"
             ],
             [
              0.2222222222222222,
              "#7201a8"
             ],
             [
              0.3333333333333333,
              "#9c179e"
             ],
             [
              0.4444444444444444,
              "#bd3786"
             ],
             [
              0.5555555555555556,
              "#d8576b"
             ],
             [
              0.6666666666666666,
              "#ed7953"
             ],
             [
              0.7777777777777778,
              "#fb9f3a"
             ],
             [
              0.8888888888888888,
              "#fdca26"
             ],
             [
              1,
              "#f0f921"
             ]
            ],
            "type": "histogram2dcontour"
           }
          ],
          "mesh3d": [
           {
            "colorbar": {
             "outlinewidth": 0,
             "ticks": ""
            },
            "type": "mesh3d"
           }
          ],
          "parcoords": [
           {
            "line": {
             "colorbar": {
              "outlinewidth": 0,
              "ticks": ""
             }
            },
            "type": "parcoords"
           }
          ],
          "pie": [
           {
            "automargin": true,
            "type": "pie"
           }
          ],
          "scatter": [
           {
            "marker": {
             "colorbar": {
              "outlinewidth": 0,
              "ticks": ""
             }
            },
            "type": "scatter"
           }
          ],
          "scatter3d": [
           {
            "line": {
             "colorbar": {
              "outlinewidth": 0,
              "ticks": ""
             }
            },
            "marker": {
             "colorbar": {
              "outlinewidth": 0,
              "ticks": ""
             }
            },
            "type": "scatter3d"
           }
          ],
          "scattercarpet": [
           {
            "marker": {
             "colorbar": {
              "outlinewidth": 0,
              "ticks": ""
             }
            },
            "type": "scattercarpet"
           }
          ],
          "scattergeo": [
           {
            "marker": {
             "colorbar": {
              "outlinewidth": 0,
              "ticks": ""
             }
            },
            "type": "scattergeo"
           }
          ],
          "scattergl": [
           {
            "marker": {
             "colorbar": {
              "outlinewidth": 0,
              "ticks": ""
             }
            },
            "type": "scattergl"
           }
          ],
          "scattermapbox": [
           {
            "marker": {
             "colorbar": {
              "outlinewidth": 0,
              "ticks": ""
             }
            },
            "type": "scattermapbox"
           }
          ],
          "scatterpolar": [
           {
            "marker": {
             "colorbar": {
              "outlinewidth": 0,
              "ticks": ""
             }
            },
            "type": "scatterpolar"
           }
          ],
          "scatterpolargl": [
           {
            "marker": {
             "colorbar": {
              "outlinewidth": 0,
              "ticks": ""
             }
            },
            "type": "scatterpolargl"
           }
          ],
          "scatterternary": [
           {
            "marker": {
             "colorbar": {
              "outlinewidth": 0,
              "ticks": ""
             }
            },
            "type": "scatterternary"
           }
          ],
          "surface": [
           {
            "colorbar": {
             "outlinewidth": 0,
             "ticks": ""
            },
            "colorscale": [
             [
              0,
              "#0d0887"
             ],
             [
              0.1111111111111111,
              "#46039f"
             ],
             [
              0.2222222222222222,
              "#7201a8"
             ],
             [
              0.3333333333333333,
              "#9c179e"
             ],
             [
              0.4444444444444444,
              "#bd3786"
             ],
             [
              0.5555555555555556,
              "#d8576b"
             ],
             [
              0.6666666666666666,
              "#ed7953"
             ],
             [
              0.7777777777777778,
              "#fb9f3a"
             ],
             [
              0.8888888888888888,
              "#fdca26"
             ],
             [
              1,
              "#f0f921"
             ]
            ],
            "type": "surface"
           }
          ],
          "table": [
           {
            "cells": {
             "fill": {
              "color": "#EBF0F8"
             },
             "line": {
              "color": "white"
             }
            },
            "header": {
             "fill": {
              "color": "#C8D4E3"
             },
             "line": {
              "color": "white"
             }
            },
            "type": "table"
           }
          ]
         },
         "layout": {
          "annotationdefaults": {
           "arrowcolor": "#2a3f5f",
           "arrowhead": 0,
           "arrowwidth": 1
          },
          "autotypenumbers": "strict",
          "coloraxis": {
           "colorbar": {
            "outlinewidth": 0,
            "ticks": ""
           }
          },
          "colorscale": {
           "diverging": [
            [
             0,
             "#8e0152"
            ],
            [
             0.1,
             "#c51b7d"
            ],
            [
             0.2,
             "#de77ae"
            ],
            [
             0.3,
             "#f1b6da"
            ],
            [
             0.4,
             "#fde0ef"
            ],
            [
             0.5,
             "#f7f7f7"
            ],
            [
             0.6,
             "#e6f5d0"
            ],
            [
             0.7,
             "#b8e186"
            ],
            [
             0.8,
             "#7fbc41"
            ],
            [
             0.9,
             "#4d9221"
            ],
            [
             1,
             "#276419"
            ]
           ],
           "sequential": [
            [
             0,
             "#0d0887"
            ],
            [
             0.1111111111111111,
             "#46039f"
            ],
            [
             0.2222222222222222,
             "#7201a8"
            ],
            [
             0.3333333333333333,
             "#9c179e"
            ],
            [
             0.4444444444444444,
             "#bd3786"
            ],
            [
             0.5555555555555556,
             "#d8576b"
            ],
            [
             0.6666666666666666,
             "#ed7953"
            ],
            [
             0.7777777777777778,
             "#fb9f3a"
            ],
            [
             0.8888888888888888,
             "#fdca26"
            ],
            [
             1,
             "#f0f921"
            ]
           ],
           "sequentialminus": [
            [
             0,
             "#0d0887"
            ],
            [
             0.1111111111111111,
             "#46039f"
            ],
            [
             0.2222222222222222,
             "#7201a8"
            ],
            [
             0.3333333333333333,
             "#9c179e"
            ],
            [
             0.4444444444444444,
             "#bd3786"
            ],
            [
             0.5555555555555556,
             "#d8576b"
            ],
            [
             0.6666666666666666,
             "#ed7953"
            ],
            [
             0.7777777777777778,
             "#fb9f3a"
            ],
            [
             0.8888888888888888,
             "#fdca26"
            ],
            [
             1,
             "#f0f921"
            ]
           ]
          },
          "colorway": [
           "#636efa",
           "#EF553B",
           "#00cc96",
           "#ab63fa",
           "#FFA15A",
           "#19d3f3",
           "#FF6692",
           "#B6E880",
           "#FF97FF",
           "#FECB52"
          ],
          "font": {
           "color": "#2a3f5f"
          },
          "geo": {
           "bgcolor": "white",
           "lakecolor": "white",
           "landcolor": "#E5ECF6",
           "showlakes": true,
           "showland": true,
           "subunitcolor": "white"
          },
          "hoverlabel": {
           "align": "left"
          },
          "hovermode": "closest",
          "mapbox": {
           "style": "light"
          },
          "paper_bgcolor": "white",
          "plot_bgcolor": "#E5ECF6",
          "polar": {
           "angularaxis": {
            "gridcolor": "white",
            "linecolor": "white",
            "ticks": ""
           },
           "bgcolor": "#E5ECF6",
           "radialaxis": {
            "gridcolor": "white",
            "linecolor": "white",
            "ticks": ""
           }
          },
          "scene": {
           "xaxis": {
            "backgroundcolor": "#E5ECF6",
            "gridcolor": "white",
            "gridwidth": 2,
            "linecolor": "white",
            "showbackground": true,
            "ticks": "",
            "zerolinecolor": "white"
           },
           "yaxis": {
            "backgroundcolor": "#E5ECF6",
            "gridcolor": "white",
            "gridwidth": 2,
            "linecolor": "white",
            "showbackground": true,
            "ticks": "",
            "zerolinecolor": "white"
           },
           "zaxis": {
            "backgroundcolor": "#E5ECF6",
            "gridcolor": "white",
            "gridwidth": 2,
            "linecolor": "white",
            "showbackground": true,
            "ticks": "",
            "zerolinecolor": "white"
           }
          },
          "shapedefaults": {
           "line": {
            "color": "#2a3f5f"
           }
          },
          "ternary": {
           "aaxis": {
            "gridcolor": "white",
            "linecolor": "white",
            "ticks": ""
           },
           "baxis": {
            "gridcolor": "white",
            "linecolor": "white",
            "ticks": ""
           },
           "bgcolor": "#E5ECF6",
           "caxis": {
            "gridcolor": "white",
            "linecolor": "white",
            "ticks": ""
           }
          },
          "title": {
           "x": 0.05
          },
          "xaxis": {
           "automargin": true,
           "gridcolor": "white",
           "linecolor": "white",
           "ticks": "",
           "title": {
            "standoff": 15
           },
           "zerolinecolor": "white",
           "zerolinewidth": 2
          },
          "yaxis": {
           "automargin": true,
           "gridcolor": "white",
           "linecolor": "white",
           "ticks": "",
           "title": {
            "standoff": 15
           },
           "zerolinecolor": "white",
           "zerolinewidth": 2
          }
         }
        },
        "xaxis": {
         "anchor": "y",
         "autorange": true,
         "domain": [
          0,
          1
         ],
         "range": [
          -1.1156593594208837,
          1.0489926927542168
         ],
         "title": {
          "text": "x"
         },
         "type": "linear"
        },
        "yaxis": {
         "anchor": "x",
         "autorange": true,
         "domain": [
          0,
          1
         ],
         "range": [
          -0.7510840105612104,
          0.7510840105612313
         ],
         "title": {
          "text": "y"
         },
         "type": "linear"
        }
       }
      },
      "image/png": "[encoded data removed]",
      "text/html": [
       "<div>                            <div id=\"c08386dc-c6a4-4b25-8386-2963f7843ff0\" class=\"plotly-graph-div\" style=\"height:525px; width:100%;\"></div>            <script type=\"text/javascript\">                require([\"plotly\"], function(Plotly) {                    window.PLOTLYENV=window.PLOTLYENV || {};                                    if (document.getElementById(\"c08386dc-c6a4-4b25-8386-2963f7843ff0\")) {                    Plotly.newPlot(                        \"c08386dc-c6a4-4b25-8386-2963f7843ff0\",                        [{\"hovertemplate\":\"color=b'WENO-JS'<br>x=%{x}<br>y=%{y}<extra></extra>\",\"legendgroup\":\"b'WENO-JS'\",\"marker\":{\"color\":\"#636efa\",\"symbol\":\"circle\"},\"mode\":\"markers\",\"name\":\"b'WENO-JS'\",\"orientation\":\"v\",\"showlegend\":true,\"x\":[-1.0,-0.9333333333333333,-0.8666666666666667,-0.8,-0.7333333333333334,-0.6666666666666667,-0.6000000000000001,-0.5333333333333334,-0.4666666666666668,-0.40000000000000013,-0.3333333333333335,-0.26666666666666683,-0.20000000000000018,-0.13333333333333353,-0.06666666666666686,-1.942890293094024e-16,0.06666666666666647,0.13333333333333314,0.1999999999999998,0.26666666666666644,0.3333333333333331,0.39999999999999974,0.4666666666666664,0.5333333333333331,0.5999999999999998,0.6666666666666664,0.7333333333333331,0.7999999999999997,0.8666666666666664,0.933333333333333],\"xaxis\":\"x\",\"y\":[7.604817475141037e-17,0.09298190276811358,0.18671635855422217,0.2769448000449851,0.3785357157978257,0.4562707565237673,0.5837448026525652,0.505553716201282,-0.5055537162012802,-0.5837448026525657,-0.45627075652376775,-0.37853571579782613,-0.27694480004498556,-0.18671635855422172,-0.0929819027681138,-2.8382158499147774e-16,0.09298190276811347,0.18671635855422172,0.2769448000449847,0.3785357157978257,0.4562707565237673,0.5837448026525652,0.5055537162012852,-0.5055537162012765,-0.5837448026525652,-0.4562707565237673,-0.37853571579782613,-0.27694480004498556,-0.18671635855422195,-0.09298190276811347],\"yaxis\":\"y\",\"type\":\"scatter\"},{\"hovertemplate\":\"color=b'WENO-Z'<br>x=%{x}<br>y=%{y}<extra></extra>\",\"legendgroup\":\"b'WENO-Z'\",\"marker\":{\"color\":\"#EF553B\",\"symbol\":\"circle\"},\"mode\":\"markers\",\"name\":\"b'WENO-Z'\",\"orientation\":\"v\",\"showlegend\":true,\"x\":[-1.0,-0.9333333333333333,-0.8666666666666667,-0.8,-0.7333333333333334,-0.6666666666666667,-0.6000000000000001,-0.5333333333333334,-0.4666666666666668,-0.40000000000000013,-0.3333333333333335,-0.26666666666666683,-0.20000000000000018,-0.13333333333333353,-0.06666666666666686,-1.942890293094024e-16,0.06666666666666647,0.13333333333333314,0.1999999999999998,0.26666666666666644,0.3333333333333331,0.39999999999999974,0.4666666666666664,0.5333333333333331,0.5999999999999998,0.6666666666666664,0.7333333333333331,0.7999999999999997,0.8666666666666664,0.933333333333333],\"xaxis\":\"x\",\"y\":[7.604817475141037e-17,0.09298190276811358,0.18671635855422217,0.2769448000449851,0.3785357157978257,0.4562707565237673,0.5837448026525652,0.505553716201282,-0.5055537162012802,-0.5837448026525657,-0.45627075652376775,-0.37853571579782613,-0.27694480004498556,-0.18671635855422172,-0.0929819027681138,-2.8382158499147774e-16,0.09298190276811347,0.18671635855422172,0.2769448000449847,0.3785357157978257,0.4562707565237673,0.5837448026525652,0.5055537162012852,-0.5055537162012765,-0.5837448026525652,-0.4562707565237673,-0.37853571579782613,-0.27694480004498556,-0.18671635855422195,-0.09298190276811347],\"yaxis\":\"y\",\"type\":\"scatter\"},{\"hovertemplate\":\"color=b'WENO-Z+'<br>x=%{x}<br>y=%{y}<extra></extra>\",\"legendgroup\":\"b'WENO-Z+'\",\"marker\":{\"color\":\"#00cc96\",\"symbol\":\"circle\"},\"mode\":\"markers\",\"name\":\"b'WENO-Z+'\",\"orientation\":\"v\",\"showlegend\":true,\"x\":[-1.0,-0.9333333333333333,-0.8666666666666667,-0.8,-0.7333333333333334,-0.6666666666666667,-0.6000000000000001,-0.5333333333333334,-0.4666666666666668,-0.40000000000000013,-0.3333333333333335,-0.26666666666666683,-0.20000000000000018,-0.13333333333333353,-0.06666666666666686,-1.942890293094024e-16,0.06666666666666647,0.13333333333333314,0.1999999999999998,0.26666666666666644,0.3333333333333331,0.39999999999999974,0.4666666666666664,0.5333333333333331,0.5999999999999998,0.6666666666666664,0.7333333333333331,0.7999999999999997,0.8666666666666664,0.933333333333333],\"xaxis\":\"x\",\"y\":[7.604817475141037e-17,0.09298190276811358,0.18671635855422217,0.2769448000449851,0.3785357157978257,0.4562707565237673,0.5837448026525652,0.505553716201282,-0.5055537162012802,-0.5837448026525657,-0.45627075652376775,-0.37853571579782613,-0.27694480004498556,-0.18671635855422172,-0.0929819027681138,-2.8382158499147774e-16,0.09298190276811347,0.18671635855422172,0.2769448000449847,0.3785357157978257,0.4562707565237673,0.5837448026525652,0.5055537162012852,-0.5055537162012765,-0.5837448026525652,-0.4562707565237673,-0.37853571579782613,-0.27694480004498556,-0.18671635855422195,-0.09298190276811347],\"yaxis\":\"y\",\"type\":\"scatter\"},{\"hovertemplate\":\"color=b'WENO-JS (M)'<br>x=%{x}<br>y=%{y}<extra></extra>\",\"legendgroup\":\"b'WENO-JS (M)'\",\"marker\":{\"color\":\"#ab63fa\",\"symbol\":\"circle\"},\"mode\":\"markers\",\"name\":\"b'WENO-JS (M)'\",\"orientation\":\"v\",\"showlegend\":true,\"x\":[-1.0,-0.9333333333333333,-0.8666666666666667,-0.8,-0.7333333333333334,-0.6666666666666667,-0.6000000000000001,-0.5333333333333334,-0.4666666666666668,-0.40000000000000013,-0.3333333333333335,-0.26666666666666683,-0.20000000000000018,-0.13333333333333353,-0.06666666666666686,-1.942890293094024e-16,0.06666666666666647,0.13333333333333314,0.1999999999999998,0.26666666666666644,0.3333333333333331,0.39999999999999974,0.4666666666666664,0.5333333333333331,0.5999999999999998,0.6666666666666664,0.7333333333333331,0.7999999999999997,0.8666666666666664,0.933333333333333],\"xaxis\":\"x\",\"y\":[7.604817475141037e-17,0.09298190276811358,0.18671635855422217,0.2769448000449851,0.3785357157978257,0.4562707565237673,0.5837448026525652,0.505553716201282,-0.5055537162012802,-0.5837448026525657,-0.45627075652376775,-0.37853571579782613,-0.27694480004498556,-0.18671635855422172,-0.0929819027681138,-2.8382158499147774e-16,0.09298190276811347,0.18671635855422172,0.2769448000449847,0.3785357157978257,0.4562707565237673,0.5837448026525652,0.5055537162012852,-0.5055537162012765,-0.5837448026525652,-0.4562707565237673,-0.37853571579782613,-0.27694480004498556,-0.18671635855422195,-0.09298190276811347],\"yaxis\":\"y\",\"type\":\"scatter\"},{\"hovertemplate\":\"color=b'WENO-Z (M)'<br>x=%{x}<br>y=%{y}<extra></extra>\",\"legendgroup\":\"b'WENO-Z (M)'\",\"marker\":{\"color\":\"#FFA15A\",\"symbol\":\"circle\"},\"mode\":\"markers\",\"name\":\"b'WENO-Z (M)'\",\"orientation\":\"v\",\"showlegend\":true,\"x\":[-1.0,-0.9333333333333333,-0.8666666666666667,-0.8,-0.7333333333333334,-0.6666666666666667,-0.6000000000000001,-0.5333333333333334,-0.4666666666666668,-0.40000000000000013,-0.3333333333333335,-0.26666666666666683,-0.20000000000000018,-0.13333333333333353,-0.06666666666666686,-1.942890293094024e-16,0.06666666666666647,0.13333333333333314,0.1999999999999998,0.26666666666666644,0.3333333333333331,0.39999999999999974,0.4666666666666664,0.5333333333333331,0.5999999999999998,0.6666666666666664,0.7333333333333331,0.7999999999999997,0.8666666666666664,0.933333333333333],\"xaxis\":\"x\",\"y\":[7.604817475141037e-17,0.09298190276811358,0.18671635855422217,0.2769448000449851,0.3785357157978257,0.4562707565237673,0.5837448026525652,0.505553716201282,-0.5055537162012802,-0.5837448026525657,-0.45627075652376775,-0.37853571579782613,-0.27694480004498556,-0.18671635855422172,-0.0929819027681138,-2.8382158499147774e-16,0.09298190276811347,0.18671635855422172,0.2769448000449847,0.3785357157978257,0.4562707565237673,0.5837448026525652,0.5055537162012852,-0.5055537162012765,-0.5837448026525652,-0.4562707565237673,-0.37853571579782613,-0.27694480004498556,-0.18671635855422195,-0.09298190276811347],\"yaxis\":\"y\",\"type\":\"scatter\"},{\"hovertemplate\":\"color=b'WENO-Z+ (M)'<br>x=%{x}<br>y=%{y}<extra></extra>\",\"legendgroup\":\"b'WENO-Z+ (M)'\",\"marker\":{\"color\":\"#19d3f3\",\"symbol\":\"circle\"},\"mode\":\"markers\",\"name\":\"b'WENO-Z+ (M)'\",\"orientation\":\"v\",\"showlegend\":true,\"x\":[-1.0,-0.9333333333333333,-0.8666666666666667,-0.8,-0.7333333333333334,-0.6666666666666667,-0.6000000000000001,-0.5333333333333334,-0.4666666666666668,-0.40000000000000013,-0.3333333333333335,-0.26666666666666683,-0.20000000000000018,-0.13333333333333353,-0.06666666666666686,-1.942890293094024e-16,0.06666666666666647,0.13333333333333314,0.1999999999999998,0.26666666666666644,0.3333333333333331,0.39999999999999974,0.4666666666666664,0.5333333333333331,0.5999999999999998,0.6666666666666664,0.7333333333333331,0.7999999999999997,0.8666666666666664,0.933333333333333],\"xaxis\":\"x\",\"y\":[7.604817475141037e-17,0.09298190276811358,0.18671635855422217,0.2769448000449851,0.3785357157978257,0.4562707565237673,0.5837448026525652,0.505553716201282,-0.5055537162012802,-0.5837448026525657,-0.45627075652376775,-0.37853571579782613,-0.27694480004498556,-0.18671635855422172,-0.0929819027681138,-2.8382158499147774e-16,0.09298190276811347,0.18671635855422172,0.2769448000449847,0.3785357157978257,0.4562707565237673,0.5837448026525652,0.5055537162012852,-0.5055537162012765,-0.5837448026525652,-0.4562707565237673,-0.37853571579782613,-0.27694480004498556,-0.18671635855422195,-0.09298190276811347],\"yaxis\":\"y\",\"type\":\"scatter\"},{\"line\":{\"color\":\"#666666\"},\"mode\":\"lines\",\"name\":\"Refer\\u00eancia\",\"x\":[-1.0,-0.9966666666666667,-0.9933333333333334,-0.9900000000000001,-0.9866666666666668,-0.9833333333333335,-0.9800000000000002,-0.9766666666666669,-0.9733333333333336,-0.9700000000000003,-0.966666666666667,-0.9633333333333337,-0.9600000000000004,-0.9566666666666671,-0.9533333333333338,-0.9500000000000005,-0.9466666666666672,-0.9433333333333339,-0.9400000000000006,-0.9366666666666673,-0.933333333333334,-0.9300000000000007,-0.9266666666666674,-0.9233333333333341,-0.9200000000000008,-0.9166666666666675,-0.9133333333333342,-0.9100000000000009,-0.9066666666666676,-0.9033333333333343,-0.900000000000001,-0.8966666666666677,-0.8933333333333344,-0.8900000000000011,-0.8866666666666678,-0.8833333333333345,-0.8800000000000012,-0.8766666666666679,-0.8733333333333346,-0.8700000000000013,-0.866666666666668,-0.8633333333333347,-0.8600000000000014,-0.8566666666666681,-0.8533333333333348,-0.8500000000000015,-0.8466666666666682,-0.8433333333333349,-0.8400000000000016,-0.8366666666666683,-0.833333333333335,-0.8300000000000017,-0.8266666666666684,-0.8233333333333351,-0.8200000000000018,-0.8166666666666685,-0.8133333333333352,-0.8100000000000019,-0.8066666666666686,-0.8033333333333353,-0.800000000000002,-0.7966666666666687,-0.7933333333333354,-0.7900000000000021,-0.7866666666666688,-0.7833333333333355,-0.7800000000000022,-0.776666666666669,-0.7733333333333356,-0.7700000000000023,-0.766666666666669,-0.7633333333333358,-0.7600000000000025,-0.7566666666666692,-0.7533333333333359,-0.7500000000000026,-0.7466666666666693,-0.743333333333336,-0.7400000000000027,-0.7366666666666694,-0.7333333333333361,-0.7300000000000028,-0.7266666666666695,-0.7233333333333362,-0.7200000000000029,-0.7166666666666696,-0.7133333333333363,-0.710000000000003,-0.7066666666666697,-0.7033333333333364,-0.7000000000000031,-0.6966666666666698,-0.6933333333333365,-0.6900000000000032,-0.6866666666666699,-0.6833333333333366,-0.6800000000000033,-0.67666666666667,-0.6733333333333367,-0.6700000000000034,-0.6666666666666701,-0.6633333333333368,-0.6600000000000035,-0.6566666666666702,-0.6533333333333369,-0.6500000000000036,-0.6466666666666703,-0.643333333333337,-0.6400000000000037,-0.6366666666666704,-0.6333333333333371,-0.6300000000000038,-0.6266666666666705,-0.6233333333333372,-0.6200000000000039,-0.6166666666666706,-0.6133333333333373,-0.610000000000004,-0.6066666666666707,-0.6033333333333374,-0.6000000000000041,-0.5966666666666708,-0.5933333333333375,-0.5900000000000042,-0.5866666666666709,-0.5833333333333376,-0.5800000000000043,-0.576666666666671,-0.5733333333333377,-0.5700000000000044,-0.5666666666666711,-0.5633333333333378,-0.5600000000000045,-0.5566666666666712,-0.5533333333333379,-0.5500000000000046,-0.5466666666666713,-0.543333333333338,-0.5400000000000047,-0.5366666666666714,-0.5333333333333381,-0.5300000000000048,-0.5266666666666715,-0.5233333333333382,-0.5200000000000049,-0.5166666666666716,-0.5133333333333383,-0.510000000000005,-0.5066666666666717,-0.5033333333333384,-0.5000000000000051,-0.49666666666667175,-0.4933333333333384,-0.49000000000000504,-0.4866666666666717,-0.48333333333333833,-0.480000000000005,-0.4766666666666716,-0.47333333333333827,-0.4700000000000049,-0.46666666666667156,-0.4633333333333382,-0.46000000000000485,-0.4566666666666715,-0.45333333333333814,-0.4500000000000048,-0.44666666666667143,-0.4433333333333381,-0.4400000000000047,-0.43666666666667137,-0.433333333333338,-0.43000000000000466,-0.4266666666666713,-0.42333333333333795,-0.4200000000000046,-0.41666666666667124,-0.4133333333333379,-0.4100000000000045,-0.4066666666666712,-0.4033333333333378,-0.40000000000000446,-0.3966666666666711,-0.39333333333333775,-0.3900000000000044,-0.38666666666667104,-0.3833333333333377,-0.38000000000000433,-0.376666666666671,-0.3733333333333376,-0.37000000000000427,-0.3666666666666709,-0.36333333333333756,-0.3600000000000042,-0.35666666666667085,-0.3533333333333375,-0.35000000000000414,-0.3466666666666708,-0.34333333333333743,-0.3400000000000041,-0.3366666666666707,-0.33333333333333737,-0.330000000000004,-0.32666666666667066,-0.3233333333333373,-0.32000000000000395,-0.3166666666666706,-0.31333333333333724,-0.3100000000000039,-0.30666666666667053,-0.3033333333333372,-0.3000000000000038,-0.29666666666667046,-0.2933333333333371,-0.29000000000000375,-0.2866666666666704,-0.28333333333333705,-0.2800000000000037,-0.27666666666667034,-0.273333333333337,-0.2700000000000036,-0.26666666666667027,-0.2633333333333369,-0.26000000000000356,-0.2566666666666702,-0.25333333333333685,-0.2500000000000035,-0.24666666666667017,-0.24333333333333684,-0.24000000000000352,-0.2366666666666702,-0.23333333333333686,-0.23000000000000353,-0.2266666666666702,-0.22333333333333688,-0.22000000000000355,-0.21666666666667023,-0.2133333333333369,-0.21000000000000357,-0.20666666666667025,-0.20333333333333692,-0.2000000000000036,-0.19666666666667026,-0.19333333333333694,-0.1900000000000036,-0.18666666666667028,-0.18333333333333696,-0.18000000000000363,-0.1766666666666703,-0.17333333333333698,-0.17000000000000365,-0.16666666666667032,-0.163333333333337,-0.16000000000000367,-0.15666666666667034,-0.153333333333337,-0.15000000000000369,-0.14666666666667036,-0.14333333333333703,-0.1400000000000037,-0.13666666666667038,-0.13333333333333705,-0.13000000000000372,-0.1266666666666704,-0.12333333333333707,-0.12000000000000374,-0.11666666666667042,-0.11333333333333709,-0.11000000000000376,-0.10666666666667043,-0.10333333333333711,-0.10000000000000378,-0.09666666666667045,-0.09333333333333713,-0.0900000000000038,-0.08666666666667047,-0.08333333333333715,-0.08000000000000382,-0.07666666666667049,-0.07333333333333716,-0.07000000000000384,-0.06666666666667051,-0.06333333333333718,-0.06000000000000385,-0.056666666666670515,-0.05333333333333718,-0.05000000000000385,-0.04666666666667051,-0.04333333333333718,-0.040000000000003845,-0.03666666666667051,-0.03333333333333718,-0.030000000000003843,-0.02666666666667051,-0.023333333333337175,-0.02000000000000384,-0.016666666666670507,-0.013333333333337173,-0.01000000000000384,-0.006666666666670505,-0.0033333333333371716,-3.838075690598686e-15,0.0033333333333294955,0.006666666666662829,0.009999999999996163,0.013333333333329497,0.01666666666666283,0.019999999999996163,0.023333333333329497,0.02666666666666283,0.029999999999996165,0.033333333333329496,0.03666666666666283,0.039999999999996164,0.0433333333333295,0.04666666666666283,0.049999999999996166,0.0533333333333295,0.056666666666662834,0.05999999999999617,0.0633333333333295,0.06666666666666282,0.06999999999999615,0.07333333333332948,0.0766666666666628,0.07999999999999613,0.08333333333332946,0.08666666666666278,0.08999999999999611,0.09333333333332944,0.09666666666666276,0.09999999999999609,0.10333333333332942,0.10666666666666275,0.10999999999999607,0.1133333333333294,0.11666666666666273,0.11999999999999605,0.12333333333332938,0.1266666666666627,0.12999999999999604,0.13333333333332936,0.1366666666666627,0.13999999999999602,0.14333333333332934,0.14666666666666267,0.149999999999996,0.15333333333332932,0.15666666666666265,0.15999999999999598,0.1633333333333293,0.16666666666666263,0.16999999999999596,0.1733333333333293,0.17666666666666261,0.17999999999999594,0.18333333333332927,0.1866666666666626,0.18999999999999592,0.19333333333332925,0.19666666666666258,0.1999999999999959,0.20333333333332923,0.20666666666666256,0.20999999999999588,0.2133333333333292,0.21666666666666254,0.21999999999999587,0.2233333333333292,0.22666666666666252,0.22999999999999585,0.23333333333332917,0.2366666666666625,0.23999999999999583,0.24333333333332915,0.24666666666666248,0.2499999999999958,0.25333333333332914,0.2566666666666625,0.25999999999999585,0.2633333333333292,0.26666666666666256,0.2699999999999959,0.27333333333332926,0.2766666666666626,0.279999999999996,0.28333333333332933,0.2866666666666627,0.28999999999999604,0.2933333333333294,0.29666666666666275,0.2999999999999961,0.30333333333332946,0.3066666666666628,0.30999999999999617,0.3133333333333295,0.3166666666666629,0.31999999999999623,0.3233333333333296,0.32666666666666294,0.3299999999999963,0.33333333333332965,0.336666666666663,0.33999999999999636,0.3433333333333297,0.34666666666666307,0.3499999999999964,0.3533333333333298,0.35666666666666313,0.3599999999999965,0.36333333333332984,0.3666666666666632,0.36999999999999655,0.3733333333333299,0.37666666666666326,0.3799999999999966,0.38333333333333,0.38666666666666333,0.3899999999999967,0.39333333333333004,0.3966666666666634,0.39999999999999675,0.4033333333333301,0.40666666666666346,0.4099999999999968,0.41333333333333017,0.4166666666666635,0.4199999999999969,0.42333333333333023,0.4266666666666636,0.42999999999999694,0.4333333333333303,0.43666666666666365,0.439999999999997,0.44333333333333036,0.4466666666666637,0.44999999999999707,0.4533333333333304,0.4566666666666638,0.45999999999999713,0.4633333333333305,0.46666666666666384,0.4699999999999972,0.47333333333333055,0.4766666666666639,0.47999999999999726,0.4833333333333306,0.48666666666666397,0.4899999999999973,0.4933333333333307,0.49666666666666404,0.4999999999999974,0.5033333333333307,0.506666666666664,0.5099999999999973,0.5133333333333306,0.5166666666666639,0.5199999999999972,0.5233333333333305,0.5266666666666638,0.5299999999999971,0.5333333333333304,0.5366666666666637,0.539999999999997,0.5433333333333303,0.5466666666666636,0.5499999999999969,0.5533333333333302,0.5566666666666635,0.5599999999999968,0.5633333333333301,0.5666666666666634,0.5699999999999967,0.57333333333333,0.5766666666666633,0.5799999999999966,0.5833333333333299,0.5866666666666632,0.5899999999999965,0.5933333333333298,0.5966666666666631,0.5999999999999964,0.6033333333333297,0.606666666666663,0.6099999999999963,0.6133333333333296,0.6166666666666629,0.6199999999999962,0.6233333333333295,0.6266666666666628,0.6299999999999961,0.6333333333333294,0.6366666666666627,0.639999999999996,0.6433333333333293,0.6466666666666626,0.6499999999999959,0.6533333333333292,0.6566666666666625,0.6599999999999958,0.6633333333333291,0.6666666666666624,0.6699999999999957,0.673333333333329,0.6766666666666623,0.6799999999999956,0.6833333333333289,0.6866666666666622,0.6899999999999955,0.6933333333333288,0.6966666666666621,0.6999999999999954,0.7033333333333287,0.706666666666662,0.7099999999999953,0.7133333333333286,0.7166666666666619,0.7199999999999952,0.7233333333333285,0.7266666666666618,0.7299999999999951,0.7333333333333284,0.7366666666666617,0.739999999999995,0.7433333333333283,0.7466666666666616,0.7499999999999949,0.7533333333333282,0.7566666666666615,0.7599999999999948,0.7633333333333281,0.7666666666666614,0.7699999999999947,0.773333333333328,0.7766666666666613,0.7799999999999946,0.7833333333333279,0.7866666666666612,0.7899999999999945,0.7933333333333278,0.7966666666666611,0.7999999999999944,0.8033333333333277,0.806666666666661,0.8099999999999943,0.8133333333333276,0.8166666666666609,0.8199999999999942,0.8233333333333275,0.8266666666666608,0.8299999999999941,0.8333333333333274,0.8366666666666607,0.839999999999994,0.8433333333333273,0.8466666666666606,0.8499999999999939,0.8533333333333272,0.8566666666666605,0.8599999999999938,0.8633333333333271,0.8666666666666604,0.8699999999999937,0.873333333333327,0.8766666666666603,0.8799999999999936,0.8833333333333269,0.8866666666666602,0.8899999999999935,0.8933333333333268,0.8966666666666601,0.8999999999999934,0.9033333333333267,0.90666666666666,0.9099999999999933,0.9133333333333266,0.9166666666666599,0.9199999999999932,0.9233333333333265,0.9266666666666598,0.929999999999993,0.9333333333333264,0.9366666666666597,0.939999999999993,0.9433333333333263,0.9466666666666596,0.9499999999999929,0.9533333333333261,0.9566666666666594,0.9599999999999927,0.963333333333326,0.9666666666666593,0.9699999999999926,0.973333333333326,0.9766666666666592,0.9799999999999925,0.9833333333333258,0.9866666666666591,0.9899999999999924,0.9933333333333257,0.996666666666659],\"y\":[5.53813263917819e-17,0.004664251850667166,0.009328481102840626,0.013992665154295291,0.01865678139603374,0.023320807209077945,0.027984719961159445,0.03264849700336945,0.03731211566679486,0.04197555325914845,0.04663878706138961,0.051301794324344695,0.05596455226531,0.06062703806464922,0.06528922886237136,0.06995110175469646,0.07461263379059734,0.07927380196832919,0.08393458323193333,0.08859495446771821,0.09325489250071804,0.09791437409112713,0.1025733759307031,0.10723187463914657,0.1118898467604467,0.11654726875919603,0.12120411701687263,0.1258603678280881,0.13051599739679665,0.13517098183246457,0.1398252971462037,0.14447891924686057,0.14913182393706273,0.1537839869092131,0.15843538374144592,0.16308598989352555,0.16773578070270057,0.1723847313794982,0.17703281700346715,0.1816800125188549,0.18632629273023651,0.1909716322980708,0.19561600573420104,0.20025938739727947,0.20490175148813103,0.20954307204503386,0.21418332293893835,0.21882247786860268,0.2234605103556456,0.22809739373952456,0.23273310117242238,0.23736760561404577,0.24200087982633509,0.24663289636808203,0.2512636275894432,0.2558930456263561,0.2605211223948533,0.26514782958526434,0.2697731386563111,0.27439702082908485,0.27901944708090737,0.2836403881390611,0.288259814474405,0.2928776962948512,0.297494003538707,0.3021087058678783,0.3067217726609302,0.3113331730059954,0.3159428756935269,0.3205508492088956,0.3251570617248209,0.3297614810936315,0.3343640748393493,0.3389648101495955,0.3435636538672975,0.3481605724822174,0.3527555321222687,0.35734849854462664,0.36193943712663046,0.3665283128564522,0.37111509032354567,0.3756997337088561,0.3802822067747819,0.38486247285488234,0.38944049484331833,0.394016235184034,0.39858965585964584,0.4031607183800376,0.4077293837706657,0.41229561256054037,0.4168593647698849,0.42142059989746855,0.4259792769075828,0.4305353542166594,0.43508878967951575,0.43963954057521665,0.44418756359253037,0.44873281481497657,0.453275249705432,0.4578148230902936,0.4623514891431891,0.4668852013681763,0.47141591258249044,0.47594357489869626,0.4804681397064361,0.484989557653375,0.48950777862598177,0.4940227517289881,0.4985344252654685,0.5030427467140971,0.5075476627094803,0.5120491190152642,0.516547060507838,0.521041431139585,0.5255321739355058,0.5300192309297322,0.534502543203989,0.538982050746913,0.5434576926213085,0.5479294065953421,0.5523971296994182,0.5568607971774756,0.5613203442144914,0.5657757028567438,0.5702268072455611,0.5746735844685423,0.5791159702777448,0.5835538818135427,0.5879872646383598,0.5924160113517593,0.5968401020770185,0.6012593616775241,0.6056738789162943,0.6100832825679969,0.614487991002809,0.6188870551157245,0.6232818809607291,0.6276698058573831,0.6320551816370711,0.6364302547801493,0.6408081454704518,0.645165970368306,0.6495429231196096,0.6538711630363052,0.6582673738177437,0.662530254548071,0.6670075680183737,0.6711111485840652,0.6759756095051093,0.666243782716832,1.8125650614432554e-12,-0.6662437827165731,-0.6759756095050752,-0.6711111485840839,-0.667007568018369,-0.6625302545480821,-0.6582673738177472,-0.6538711630363128,-0.6495429231196154,-0.6451659703683145,-0.6408081454704612,-0.636430254780159,-0.6320551816370803,-0.627669805857392,-0.6232818809607371,-0.6188870551157334,-0.6144879910028179,-0.6100832825680027,-0.6056738789163001,-0.6012593616775298,-0.5968401020770239,-0.5924160113517646,-0.5879872646383646,-0.5835538818135476,-0.5791159702777501,-0.5746735844685468,-0.5702268072455655,-0.5657757028567484,-0.5613203442144944,-0.5568607971774774,-0.55239712969942,-0.5479294065953467,-0.5434576926213137,-0.5389820507469174,-0.5345025432039946,-0.5300192309297397,-0.5255321739355138,-0.5210414311395929,-0.5165470605078452,-0.5120491190152717,-0.5075476627094874,-0.5030427467141029,-0.49853442526547426,-0.4940227517289945,-0.4895077786259879,-0.48498955765338186,-0.4804681397064435,-0.47594357489870337,-0.47141591258249754,-0.46688520136818296,-0.4623514891431964,-0.4578148230903016,-0.45327524970544,-0.448732814814984,-0.444187563592536,-0.43963954057522064,-0.4350887896795202,-0.4305353542166641,-0.4259792769075886,-0.42142059989747344,-0.41685936476988905,-0.4122956125605439,-0.40772938377066925,-0.40316071838004136,-0.39858965585965045,-0.3940162351840389,-0.3894404948433223,-0.38486247285488767,-0.38028220677478936,-0.37569973370886395,-0.3711150903235532,-0.36652831285645865,-0.3619394371266366,-0.3573484985446327,-0.3527555321222741,-0.348160572482223,-0.34356365386730264,-0.33896481014960006,-0.3343640748393542,-0.32976148109363557,-0.32515706172482534,-0.3205508492089014,-0.31594287569353335,-0.3113331730060019,-0.3067217726609373,-0.30210870586788485,-0.29749400353871297,-0.29287769629485677,-0.2882598144744108,-0.28364038813906667,-0.2790194470809125,-0.27439702082908973,-0.2697731386563162,-0.2651478295852688,-0.260521122394858,-0.25589304562636167,-0.25126362758944876,-0.24663289636808802,-0.2420008798263402,-0.23736760561405043,-0.23273310117242696,-0.2280973937395299,-0.22346051035565073,-0.2188224778686081,-0.21418332293894435,-0.20954307204503986,-0.20490175148813725,-0.20025938739728524,-0.1956160057342057,-0.19097163229807554,-0.18632629273024118,-0.18168001251886015,-0.17703281700347276,-0.1723847313795042,-0.1677357807027062,-0.16308598989353054,-0.1584353837414507,-0.15378398690921777,-0.14913182393706773,-0.14447891924686612,-0.1398252971462092,-0.13517098183247012,-0.13051599739680217,-0.12586036782809332,-0.12120411701687796,-0.11654726875920159,-0.11188984676045229,-0.10723187463915257,-0.1025733759307091,-0.09791437409113296,-0.09325489250072361,-0.08859495446772366,-0.08393458323193854,-0.07927380196833424,-0.07461263379060289,-0.06995110175470207,-0.06528922886237713,-0.06062703806465477,-0.05596455226531524,-0.05130179432434984,-0.04663878706139512,-0.0419755532591545,-0.03731211566680085,-0.03264849700337516,-0.027984719961164774,-0.023320807209083177,-0.01865678139603882,-0.013992665154300012,-0.009328481102845109,-0.00466425185067172,-5.370491398235863e-15,0.0046642518506609274,0.009328481102834414,0.013992665154289268,0.018656781396028024,0.023320807209072567,0.027984719961154047,0.03264849700336429,0.03731211566679003,0.041975553259143566,0.046638787061384544,0.051301794324339144,0.05596455226530445,0.0606270380646435,0.06528922886236609,0.06995110175469113,0.07461263379059206,0.07927380196832347,0.08393458323192782,0.088594954467713,0.09325489250071277,0.09791437409112186,0.10257337593069811,0.10723187463914151,0.1118898467604416,0.1165472687591906,0.12120411701686719,0.125860367828083,0.13051599739679154,0.1351709818324592,0.13982529714619793,0.14447891924685502,0.1491318239370573,0.1537839869092079,0.15843538374144098,0.16308598989352077,0.16773578070269546,0.17238473137949353,0.17703281700346254,0.1816800125188498,0.18632629273023119,0.1909716322980659,0.19561600573419616,0.2002593873972748,0.20490175148812614,0.20954307204502876,0.21418332293893347,0.21882247786859788,0.22346051035564074,0.2280973937395201,0.23273310117241763,0.2373676056140409,0.24200087982632998,0.24663289636807692,0.2512636275894381,0.25589304562635123,0.2605211223948482,0.2651478295852588,0.26977313865630576,0.2743970208290793,0.27901944708090226,0.28364038813905623,0.2882598144743999,0.2928776962948461,0.29749400353870276,0.3021087058678748,0.30672177266092754,0.31133317300599117,0.31594287569352203,0.3205508492088907,0.32515706172481557,0.3297614810936255,0.3343640748393446,0.33896481014959073,0.3435636538672928,0.34816057248221205,0.352755532122263,0.35734849854462164,0.3619394371266255,0.36652831285644843,0.37111509032354345,0.3756997337088542,0.3802822067747787,0.38486247285487685,0.38944049484331256,0.39401623518403034,0.39858965585964223,0.4031607183800327,0.40772938377066037,0.4122956125605355,0.41685936476988034,0.4214205998974625,0.4259792769075767,0.4305353542166536,0.4350887896795111,0.4396395405752119,0.44418756359252715,0.4487328148149743,0.45327524970542976,0.4578148230902909,0.462351489143185,0.46688520136817185,0.47141591258248705,0.47594357489869316,0.480468139706433,0.48498955765337154,0.4895077786259772,0.49402275172898347,0.4985344252654646,0.5030427467140918,0.5075476627094736,0.5120491190152592,0.5165470605078344,0.521041431139582,0.5255321739355022,0.5300192309297291,0.5345025432039857,0.5389820507469086,0.5434576926213036,0.5479294065953376,0.5523971296994129,0.5568607971774698,0.5613203442144868,0.5657757028567394,0.570226807245555,0.5746735844685361,0.579115970277739,0.5835538818135361,0.5879872646383527,0.5924160113517525,0.5968401020770125,0.6012593616775184,0.6056738789162882,0.6100832825679912,0.6144879910028059,0.6188870551157214,0.623281880960726,0.6276698058573809,0.6320551816370689,0.6364302547801464,0.6408081454704478,0.6451659703683003,0.649542923119602,0.6538711630362994,0.6582673738177377,0.662530254548067,0.6670075680183644,0.6711111485840614,0.675975609505099,0.6662437827167711,9.835400980309554e-13,-0.6662437827166336,-0.6759756095050883,-0.6711111485840863,-0.6670075680183766,-0.6625302545480806,-0.658267373817753,-0.6538711630363154,-0.6495429231196171,-0.6451659703683149,-0.6408081454704616,-0.636430254780161,-0.6320551816370843,-0.627669805857396,-0.6232818809607411,-0.618887055115736,-0.6144879910028206,-0.6100832825680054,-0.6056738789163024,-0.6012593616775326,-0.596840102077027,-0.592416011351768,-0.5879872646383687,-0.5835538818135525,-0.5791159702777554,-0.5746735844685521,-0.5702268072455695,-0.565775702856753,-0.5613203442144997,-0.5568607971774836,-0.5523971296994267,-0.5479294065953514,-0.5434576926213183,-0.5389820507469227,-0.5345025432039993,-0.5300192309297421,-0.5255321739355147,-0.5210414311395943,-0.5165470605078469,-0.5120491190152731,-0.5075476627094896,-0.5030427467141076,-0.49853442526547903,-0.4940227517289981,-0.4895077786259922,-0.48498955765338564,-0.48046813970644703,-0.47594357489870737,-0.47141591258250154,-0.46688520136818695,-0.4623514891431995,-0.457814823090305,-0.4532752497054431,-0.44873281481498767,-0.444187563592541,-0.439639540575226,-0.4350887896795243,-0.4305353542166665,-0.4259792769075906,-0.42142059989747715,-0.416859364769894,-0.4122956125605497,-0.4077293837706746,-0.4031607183800476,-0.39858965585965606,-0.3940162351840441,-0.3894404948433272,-0.3848624728548924,-0.3802822067747947,-0.3756997337088693,-0.3711150903235591,-0.366528312856465,-0.3619394371266424,-0.35734849854463774,-0.3527555321222777,-0.34816057248222626,-0.3435636538673062,-0.33896481014960395,-0.33436407483935776,-0.3297614810936404,-0.32515706172483066,-0.3205508492089067,-0.3159428756935376,-0.3113331730060066,-0.30672177266094197,-0.3021087058678895,-0.29749400353871785,-0.29287769629486193,-0.2882598144744159,-0.28364038813907083,-0.2790194470809167,-0.27439702082909456,-0.2697731386563211,-0.2651478295852739,-0.26052112239486286,-0.25589304562636633,-0.2512636275894534,-0.24663289636809246,-0.24200087982634488,-0.23736760561405576,-0.2327331011724323,-0.22809739373953455,-0.22346051035565562,-0.2188224778686132,-0.21418332293894923,-0.20954307204504474,-0.20490175148814213,-0.20025938739729102,-0.19561600573421237,-0.19097163229808242,-0.1863262927302474,-0.18168001251886556,-0.17703281700347742,-0.17238473137950952,-0.16773578070271142,-0.16308598989353576,-0.15843538374145613,-0.15378398690922332,-0.14913182393707328,-0.14447891924687145,-0.13982529714621392,-0.13517098183247467,-0.13051599739680697,-0.12586036782809842,-0.12120411701688306,-0.11654726875920703,-0.11188984676045803,-0.10723187463915812,-0.10257337593071429,-0.097914374091138,-0.09325489250072834,-0.08859495446772832,-0.08393458323194364,-0.07927380196833907,-0.07461263379060794,-0.06995110175470738,-0.06528922886238218,-0.060627038064660216,-0.05596455226532093,-0.05130179432435542,-0.046638787061400656,-0.041975553259160275,-0.0373121156668069,-0.03264849700338119,-0.02798471996117068,-0.0233208072090884,-0.018656781396042824,-0.01399266515430219,-0.0093284811028449,-0.0046642518506687086],\"type\":\"scatter\"}],                        {\"template\":{\"data\":{\"bar\":[{\"error_x\":{\"color\":\"#2a3f5f\"},\"error_y\":{\"color\":\"#2a3f5f\"},\"marker\":{\"line\":{\"color\":\"#E5ECF6\",\"width\":0.5},\"pattern\":{\"fillmode\":\"overlay\",\"size\":10,\"solidity\":0.2}},\"type\":\"bar\"}],\"barpolar\":[{\"marker\":{\"line\":{\"color\":\"#E5ECF6\",\"width\":0.5},\"pattern\":{\"fillmode\":\"overlay\",\"size\":10,\"solidity\":0.2}},\"type\":\"barpolar\"}],\"carpet\":[{\"aaxis\":{\"endlinecolor\":\"#2a3f5f\",\"gridcolor\":\"white\",\"linecolor\":\"white\",\"minorgridcolor\":\"white\",\"startlinecolor\":\"#2a3f5f\"},\"baxis\":{\"endlinecolor\":\"#2a3f5f\",\"gridcolor\":\"white\",\"linecolor\":\"white\",\"minorgridcolor\":\"white\",\"startlinecolor\":\"#2a3f5f\"},\"type\":\"carpet\"}],\"choropleth\":[{\"colorbar\":{\"outlinewidth\":0,\"ticks\":\"\"},\"type\":\"choropleth\"}],\"contour\":[{\"colorbar\":{\"outlinewidth\":0,\"ticks\":\"\"},\"colorscale\":[[0.0,\"#0d0887\"],[0.1111111111111111,\"#46039f\"],[0.2222222222222222,\"#7201a8\"],[0.3333333333333333,\"#9c179e\"],[0.4444444444444444,\"#bd3786\"],[0.5555555555555556,\"#d8576b\"],[0.6666666666666666,\"#ed7953\"],[0.7777777777777778,\"#fb9f3a\"],[0.8888888888888888,\"#fdca26\"],[1.0,\"#f0f921\"]],\"type\":\"contour\"}],\"contourcarpet\":[{\"colorbar\":{\"outlinewidth\":0,\"ticks\":\"\"},\"type\":\"contourcarpet\"}],\"heatmap\":[{\"colorbar\":{\"outlinewidth\":0,\"ticks\":\"\"},\"colorscale\":[[0.0,\"#0d0887\"],[0.1111111111111111,\"#46039f\"],[0.2222222222222222,\"#7201a8\"],[0.3333333333333333,\"#9c179e\"],[0.4444444444444444,\"#bd3786\"],[0.5555555555555556,\"#d8576b\"],[0.6666666666666666,\"#ed7953\"],[0.7777777777777778,\"#fb9f3a\"],[0.8888888888888888,\"#fdca26\"],[1.0,\"#f0f921\"]],\"type\":\"heatmap\"}],\"heatmapgl\":[{\"colorbar\":{\"outlinewidth\":0,\"ticks\":\"\"},\"colorscale\":[[0.0,\"#0d0887\"],[0.1111111111111111,\"#46039f\"],[0.2222222222222222,\"#7201a8\"],[0.3333333333333333,\"#9c179e\"],[0.4444444444444444,\"#bd3786\"],[0.5555555555555556,\"#d8576b\"],[0.6666666666666666,\"#ed7953\"],[0.7777777777777778,\"#fb9f3a\"],[0.8888888888888888,\"#fdca26\"],[1.0,\"#f0f921\"]],\"type\":\"heatmapgl\"}],\"histogram\":[{\"marker\":{\"pattern\":{\"fillmode\":\"overlay\",\"size\":10,\"solidity\":0.2}},\"type\":\"histogram\"}],\"histogram2d\":[{\"colorbar\":{\"outlinewidth\":0,\"ticks\":\"\"},\"colorscale\":[[0.0,\"#0d0887\"],[0.1111111111111111,\"#46039f\"],[0.2222222222222222,\"#7201a8\"],[0.3333333333333333,\"#9c179e\"],[0.4444444444444444,\"#bd3786\"],[0.5555555555555556,\"#d8576b\"],[0.6666666666666666,\"#ed7953\"],[0.7777777777777778,\"#fb9f3a\"],[0.8888888888888888,\"#fdca26\"],[1.0,\"#f0f921\"]],\"type\":\"histogram2d\"}],\"histogram2dcontour\":[{\"colorbar\":{\"outlinewidth\":0,\"ticks\":\"\"},\"colorscale\":[[0.0,\"#0d0887\"],[0.1111111111111111,\"#46039f\"],[0.2222222222222222,\"#7201a8\"],[0.3333333333333333,\"#9c179e\"],[0.4444444444444444,\"#bd3786\"],[0.5555555555555556,\"#d8576b\"],[0.6666666666666666,\"#ed7953\"],[0.7777777777777778,\"#fb9f3a\"],[0.8888888888888888,\"#fdca26\"],[1.0,\"#f0f921\"]],\"type\":\"histogram2dcontour\"}],\"mesh3d\":[{\"colorbar\":{\"outlinewidth\":0,\"ticks\":\"\"},\"type\":\"mesh3d\"}],\"parcoords\":[{\"line\":{\"colorbar\":{\"outlinewidth\":0,\"ticks\":\"\"}},\"type\":\"parcoords\"}],\"pie\":[{\"automargin\":true,\"type\":\"pie\"}],\"scatter\":[{\"marker\":{\"colorbar\":{\"outlinewidth\":0,\"ticks\":\"\"}},\"type\":\"scatter\"}],\"scatter3d\":[{\"line\":{\"colorbar\":{\"outlinewidth\":0,\"ticks\":\"\"}},\"marker\":{\"colorbar\":{\"outlinewidth\":0,\"ticks\":\"\"}},\"type\":\"scatter3d\"}],\"scattercarpet\":[{\"marker\":{\"colorbar\":{\"outlinewidth\":0,\"ticks\":\"\"}},\"type\":\"scattercarpet\"}],\"scattergeo\":[{\"marker\":{\"colorbar\":{\"outlinewidth\":0,\"ticks\":\"\"}},\"type\":\"scattergeo\"}],\"scattergl\":[{\"marker\":{\"colorbar\":{\"outlinewidth\":0,\"ticks\":\"\"}},\"type\":\"scattergl\"}],\"scattermapbox\":[{\"marker\":{\"colorbar\":{\"outlinewidth\":0,\"ticks\":\"\"}},\"type\":\"scattermapbox\"}],\"scatterpolar\":[{\"marker\":{\"colorbar\":{\"outlinewidth\":0,\"ticks\":\"\"}},\"type\":\"scatterpolar\"}],\"scatterpolargl\":[{\"marker\":{\"colorbar\":{\"outlinewidth\":0,\"ticks\":\"\"}},\"type\":\"scatterpolargl\"}],\"scatterternary\":[{\"marker\":{\"colorbar\":{\"outlinewidth\":0,\"ticks\":\"\"}},\"type\":\"scatterternary\"}],\"surface\":[{\"colorbar\":{\"outlinewidth\":0,\"ticks\":\"\"},\"colorscale\":[[0.0,\"#0d0887\"],[0.1111111111111111,\"#46039f\"],[0.2222222222222222,\"#7201a8\"],[0.3333333333333333,\"#9c179e\"],[0.4444444444444444,\"#bd3786\"],[0.5555555555555556,\"#d8576b\"],[0.6666666666666666,\"#ed7953\"],[0.7777777777777778,\"#fb9f3a\"],[0.8888888888888888,\"#fdca26\"],[1.0,\"#f0f921\"]],\"type\":\"surface\"}],\"table\":[{\"cells\":{\"fill\":{\"color\":\"#EBF0F8\"},\"line\":{\"color\":\"white\"}},\"header\":{\"fill\":{\"color\":\"#C8D4E3\"},\"line\":{\"color\":\"white\"}},\"type\":\"table\"}]},\"layout\":{\"annotationdefaults\":{\"arrowcolor\":\"#2a3f5f\",\"arrowhead\":0,\"arrowwidth\":1},\"autotypenumbers\":\"strict\",\"coloraxis\":{\"colorbar\":{\"outlinewidth\":0,\"ticks\":\"\"}},\"colorscale\":{\"diverging\":[[0,\"#8e0152\"],[0.1,\"#c51b7d\"],[0.2,\"#de77ae\"],[0.3,\"#f1b6da\"],[0.4,\"#fde0ef\"],[0.5,\"#f7f7f7\"],[0.6,\"#e6f5d0\"],[0.7,\"#b8e186\"],[0.8,\"#7fbc41\"],[0.9,\"#4d9221\"],[1,\"#276419\"]],\"sequential\":[[0.0,\"#0d0887\"],[0.1111111111111111,\"#46039f\"],[0.2222222222222222,\"#7201a8\"],[0.3333333333333333,\"#9c179e\"],[0.4444444444444444,\"#bd3786\"],[0.5555555555555556,\"#d8576b\"],[0.6666666666666666,\"#ed7953\"],[0.7777777777777778,\"#fb9f3a\"],[0.8888888888888888,\"#fdca26\"],[1.0,\"#f0f921\"]],\"sequentialminus\":[[0.0,\"#0d0887\"],[0.1111111111111111,\"#46039f\"],[0.2222222222222222,\"#7201a8\"],[0.3333333333333333,\"#9c179e\"],[0.4444444444444444,\"#bd3786\"],[0.5555555555555556,\"#d8576b\"],[0.6666666666666666,\"#ed7953\"],[0.7777777777777778,\"#fb9f3a\"],[0.8888888888888888,\"#fdca26\"],[1.0,\"#f0f921\"]]},\"colorway\":[\"#636efa\",\"#EF553B\",\"#00cc96\",\"#ab63fa\",\"#FFA15A\",\"#19d3f3\",\"#FF6692\",\"#B6E880\",\"#FF97FF\",\"#FECB52\"],\"font\":{\"color\":\"#2a3f5f\"},\"geo\":{\"bgcolor\":\"white\",\"lakecolor\":\"white\",\"landcolor\":\"#E5ECF6\",\"showlakes\":true,\"showland\":true,\"subunitcolor\":\"white\"},\"hoverlabel\":{\"align\":\"left\"},\"hovermode\":\"closest\",\"mapbox\":{\"style\":\"light\"},\"paper_bgcolor\":\"white\",\"plot_bgcolor\":\"#E5ECF6\",\"polar\":{\"angularaxis\":{\"gridcolor\":\"white\",\"linecolor\":\"white\",\"ticks\":\"\"},\"bgcolor\":\"#E5ECF6\",\"radialaxis\":{\"gridcolor\":\"white\",\"linecolor\":\"white\",\"ticks\":\"\"}},\"scene\":{\"xaxis\":{\"backgroundcolor\":\"#E5ECF6\",\"gridcolor\":\"white\",\"gridwidth\":2,\"linecolor\":\"white\",\"showbackground\":true,\"ticks\":\"\",\"zerolinecolor\":\"white\"},\"yaxis\":{\"backgroundcolor\":\"#E5ECF6\",\"gridcolor\":\"white\",\"gridwidth\":2,\"linecolor\":\"white\",\"showbackground\":true,\"ticks\":\"\",\"zerolinecolor\":\"white\"},\"zaxis\":{\"backgroundcolor\":\"#E5ECF6\",\"gridcolor\":\"white\",\"gridwidth\":2,\"linecolor\":\"white\",\"showbackground\":true,\"ticks\":\"\",\"zerolinecolor\":\"white\"}},\"shapedefaults\":{\"line\":{\"color\":\"#2a3f5f\"}},\"ternary\":{\"aaxis\":{\"gridcolor\":\"white\",\"linecolor\":\"white\",\"ticks\":\"\"},\"baxis\":{\"gridcolor\":\"white\",\"linecolor\":\"white\",\"ticks\":\"\"},\"bgcolor\":\"#E5ECF6\",\"caxis\":{\"gridcolor\":\"white\",\"linecolor\":\"white\",\"ticks\":\"\"}},\"title\":{\"x\":0.05},\"xaxis\":{\"automargin\":true,\"gridcolor\":\"white\",\"linecolor\":\"white\",\"ticks\":\"\",\"title\":{\"standoff\":15},\"zerolinecolor\":\"white\",\"zerolinewidth\":2},\"yaxis\":{\"automargin\":true,\"gridcolor\":\"white\",\"linecolor\":\"white\",\"ticks\":\"\",\"title\":{\"standoff\":15},\"zerolinecolor\":\"white\",\"zerolinewidth\":2}}},\"xaxis\":{\"anchor\":\"y\",\"domain\":[0.0,1.0],\"title\":{\"text\":\"x\"}},\"yaxis\":{\"anchor\":\"x\",\"domain\":[0.0,1.0],\"title\":{\"text\":\"y\"}},\"legend\":{\"title\":{\"text\":\"color\"},\"tracegroupgap\":0},\"margin\":{\"t\":60}},                        {\"responsive\": true}                    ).then(function(){\n",
       "                            \n",
       "var gd = document.getElementById('c08386dc-c6a4-4b25-8386-2963f7843ff0');\n",
       "var x = new MutationObserver(function (mutations, observer) {{\n",
       "        var display = window.getComputedStyle(gd).display;\n",
       "        if (!display || display === 'none') {{\n",
       "            console.log([gd, 'removed!']);\n",
       "            Plotly.purge(gd);\n",
       "            observer.disconnect();\n",
       "        }}\n",
       "}});\n",
       "\n",
       "// Listen for the removal of the full notebook cells\n",
       "var notebookContainer = gd.closest('#notebook-container');\n",
       "if (notebookContainer) {{\n",
       "    x.observe(notebookContainer, {childList: true});\n",
       "}}\n",
       "\n",
       "// Listen for the clearing of the current output cell\n",
       "var outputEl = gd.closest('.output');\n",
       "if (outputEl) {{\n",
       "    x.observe(outputEl, {childList: true});\n",
       "}}\n",
       "\n",
       "                        })                };                });            </script>        </div>"
      ]
     },
     "metadata": {},
     "output_type": "display_data"
    }
   ],
   "source": [
    "fig = ply_exp.scatter(\n",
    "    data_frame = df    ,\n",
    "    x          = x     ,\n",
    "    y          = y     ,\n",
    "    color      = label\n",
    ")\n",
    "fig.add_trace(\n",
    "    ply_go.Scatter(\n",
    "        x    = tf.range(-1, 1, Δx_ref[0], dtype=float_pres) ,\n",
    "        y    = u_ref[0]                                     ,\n",
    "        mode = \"lines\"                                      ,\n",
    "        line = ply_go.scatter.Line(color=\"#666666\")         ,\n",
    "        name = \"Referência\"\n",
    "    )\n",
    ")\n",
    "fig.show()"
   ]
  },
  {
   "cell_type": "code",
   "execution_count": 61,
   "id": "cd692df3",
   "metadata": {},
   "outputs": [
    {
     "data": {
      "text/plain": [
       "<matplotlib.legend.Legend at 0x1c89e507d90>"
      ]
     },
     "execution_count": 61,
     "metadata": {},
     "output_type": "execute_result"
    },
    {
     "data": {
      "image/png": "[encoded data removed]",
      "text/plain": [
       "<Figure size 432x288 with 1 Axes>"
      ]
     },
     "metadata": {
      "needs_background": "light"
     },
     "output_type": "display_data"
    }
   ],
   "source": [
    "fig, axis = plt.subplots()\n",
    "axis.plot(tf.range(-1, 1, Δx_ref[0], dtype=float_pres), u_ref[0], label=\"Referência\")\n",
    "axis.plot(tf.range(-1, 1,     Δx[0], dtype=float_pres),  u_JS[0], label=\"WENO-JS\")\n",
    "axis.plot(tf.range(-1, 1,     Δx[0], dtype=float_pres),   u_Z[0], label=\"WENO-Z\")\n",
    "axis.plot(tf.range(-1, 1,     Δx[0], dtype=float_pres),  u_Zp[0], label=\"WENO-Z+\")\n",
    "axis.plot(tf.range(-1, 1,     Δx[0], dtype=float_pres), u_JSM[0], label=\"WENO-JS (M)\")\n",
    "axis.plot(tf.range(-1, 1,     Δx[0], dtype=float_pres),  u_ZM[0], label=\"WENO-Z (M)\")\n",
    "axis.plot(tf.range(-1, 1,     Δx[0], dtype=float_pres), u_ZpM[0], label=\"WENO-Z+ (M)\")\n",
    "axis.legend()"
   ]
  },
  {
   "cell_type": "code",
   "execution_count": 41,
   "id": "4fdcd29d-e1fb-4cda-a3fa-2dc6c36777d2",
   "metadata": {},
   "outputs": [
    {
     "data": {
      "text/plain": [
       "[<matplotlib.lines.Line2D at 0x1c8986e17f0>]"
      ]
     },
     "execution_count": 41,
     "metadata": {},
     "output_type": "execute_result"
    },
    {
     "data": {
      "image/png": "[encoded data removed]",
      "text/plain": [
       "<Figure size 432x288 with 1 Axes>"
      ]
     },
     "metadata": {
      "needs_background": "light"
     },
     "output_type": "display_data"
    }
   ],
   "source": [
    "plt.plot(tf.gather(u_ref[0], tf.range(0, n[0])*fator))"
   ]
  },
  {
   "cell_type": "code",
   "execution_count": 42,
   "id": "d7cb070c-a649-4b9f-98a8-dfd36e9792c4",
   "metadata": {},
   "outputs": [
    {
     "data": {
      "text/plain": [
       "[<matplotlib.lines.Line2D at 0x1c898745fd0>]"
      ]
     },
     "execution_count": 42,
     "metadata": {},
     "output_type": "execute_result"
    },
    {
     "data": {
      "image/png": "[encoded data removed]",
      "text/plain": [
       "<Figure size 432x288 with 1 Axes>"
      ]
     },
     "metadata": {
      "needs_background": "light"
     },
     "output_type": "display_data"
    }
   ],
   "source": [
    "plt.plot(u_ref[0])"
   ]
  },
  {
   "cell_type": "code",
   "execution_count": 39,
   "id": "46bfabf3",
   "metadata": {},
   "outputs": [],
   "source": [
    "\n",
    "error = []\n",
    "\n",
    "for k in tf.range(len(n)):\n",
    "    \n",
    "    aux = tf.gather(u_ref[k], tf.range(0, n[k])*fator)\n",
    "    error.append(np.mean(np.abs(u[k]-aux)))\n",
    "    "
   ]
  },
  {
   "cell_type": "code",
   "execution_count": 27,
   "id": "2fec605c",
   "metadata": {},
   "outputs": [
    {
     "data": {
      "text/plain": [
       "<matplotlib.legend.Legend at 0x1c89191ed90>"
      ]
     },
     "execution_count": 27,
     "metadata": {},
     "output_type": "execute_result"
    },
    {
     "data": {
      "image/png": "[encoded data removed]",
      "text/plain": [
       "<Figure size 460.8x460.8 with 1 Axes>"
      ]
     },
     "metadata": {
      "needs_background": "light"
     },
     "output_type": "display_data"
    }
   ],
   "source": [
    "plt.figure(figsize=(6.4,6.4))\n",
    "\n",
    "plt.plot(np.log(n),np.log(error),label='WENO-M')\n",
    "plt.plot(np.log(n),-5*(np.log(n)-np.mean(np.log(n)))+np.mean(np.log(error)),label='Ordem 5')\n",
    "plt.plot(np.log(n),-4*(np.log(n)-np.mean(np.log(n)))+np.mean(np.log(error)),label='Ordem 4')\n",
    "plt.plot(np.log(n),-3*(np.log(n)-np.mean(np.log(n)))+np.mean(np.log(error)),label='Ordem 3')\n",
    "plt.legend()"
   ]
  },
  {
   "cell_type": "code",
   "execution_count": 41,
   "id": "d60d894c",
   "metadata": {},
   "outputs": [
    {
     "data": {
      "image/png": "[encoded data removed]",
      "text/plain": [
       "<Figure size 460.8x460.8 with 1 Axes>"
      ]
     },
     "metadata": {
      "needs_background": "light"
     },
     "output_type": "display_data"
    }
   ],
   "source": [
    "#plt.plot(net_u[0,0])\n",
    "plt.figure(figsize=(6.4,6.4))\n",
    "plt.plot(ref_u[0,0])\n",
    "plt.savefig('imagens/ordem conv ds funcao.png')"
   ]
  },
  {
   "cell_type": "code",
   "execution_count": 42,
   "id": "e09cb202",
   "metadata": {},
   "outputs": [
    {
     "data": {
      "text/plain": [
       "[<matplotlib.lines.Line2D at 0x20420763130>]"
      ]
     },
     "execution_count": 42,
     "metadata": {},
     "output_type": "execute_result"
    },
    {
     "data": {
      "image/png": "[encoded data removed]",
      "text/plain": [
       "<Figure size 432x288 with 1 Axes>"
      ]
     },
     "metadata": {
      "needs_background": "light"
     },
     "output_type": "display_data"
    }
   ],
   "source": [
    "plt.plot(sizes,error1)\n",
    "plt.plot(sizes,error2)"
   ]
  },
  {
   "cell_type": "code",
   "execution_count": 95,
   "id": "2c85dde6-bd9f-44c2-8c9d-3bf4e0c53d8d",
   "metadata": {},
   "outputs": [
    {
     "data": {
      "text/plain": [
       "<matplotlib.legend.Legend at 0x1921d1a3a60>"
      ]
     },
     "execution_count": 95,
     "metadata": {},
     "output_type": "execute_result"
    },
    {
     "data": {
      "image/png": "[encoded data removed]",
      "text/plain": [
       "<Figure size 460.8x460.8 with 1 Axes>"
      ]
     },
     "metadata": {
      "needs_background": "light"
     },
     "output_type": "display_data"
    }
   ],
   "source": [
    "plt.figure(figsize=(6.4,6.4))\n",
    "\n",
    "plt.plot(np.log(n),np.log(error),label='WENO-JS')\n",
    "plt.plot(np.log(n),-5*(np.log(n)-np.mean(np.log(n)))+np.mean(np.log(error)),label='Ordem 5')\n",
    "plt.plot(np.log(n),-4*(np.log(n)-np.mean(np.log(n)))+np.mean(np.log(error)),label='Ordem 4')\n",
    "plt.plot(np.log(n),-3*(np.log(n)-np.mean(np.log(n)))+np.mean(np.log(error)),label='Ordem 3')\n",
    "plt.legend()"
   ]
  },
  {
   "cell_type": "code",
   "execution_count": null,
   "id": "6bc578b4",
   "metadata": {},
   "outputs": [],
   "source": [
    "Sim, Sim_step, DerivadaEspacial, Get_weights=create_simulation(API_Numpy,equation,WENO_Z)\n",
    "WENO_Z_ref=lambda u0, Δx:DerivadaEspacial(u0,Δx, FronteiraFixa)"
   ]
  },
  {
   "cell_type": "code",
   "execution_count": 16,
   "id": "135caa4d",
   "metadata": {},
   "outputs": [],
   "source": [
    "Δx_ref = 0.01\n",
    "\n",
    "def f(x):\n",
    "    return np.sin(np.pi*x)\n",
    "\n",
    "def df(x):\n",
    "    return np.pi*np.cos(np.pi*x)\n"
   ]
  },
  {
   "cell_type": "code",
   "execution_count": 17,
   "id": "09fb5eb2",
   "metadata": {},
   "outputs": [
    {
     "name": "stdout",
     "output_type": "stream",
     "text": [
      "(1, 200)\n"
     ]
    }
   ],
   "source": [
    "Δx1 = Δx_ref\n",
    "x1  = np.arange(-1, 1, Δx1)\n",
    "x1  = np.expand_dims(x1,0)\n",
    "u1  = f(x1)\n",
    "du1 = df(x1)\n",
    "y1=WENO_network(u1, Δx1)\n",
    "\n",
    "print(u1.shape)"
   ]
  },
  {
   "cell_type": "code",
   "execution_count": 18,
   "id": "64759e25",
   "metadata": {},
   "outputs": [
    {
     "name": "stdout",
     "output_type": "stream",
     "text": [
      "(1, 400)\n"
     ]
    }
   ],
   "source": [
    "Δx2 = Δx_ref/2\n",
    "x2  = np.arange(-1, 1, Δx2)\n",
    "x2  = np.expand_dims(x2,0)\n",
    "u2  = f(x2)\n",
    "du2 = df(x2)\n",
    "y2=WENO_network(u2, Δx2)\n",
    "\n",
    "print(u2.shape)"
   ]
  },
  {
   "cell_type": "code",
   "execution_count": 19,
   "id": "e28840fe",
   "metadata": {},
   "outputs": [
    {
     "name": "stdout",
     "output_type": "stream",
     "text": [
      "0.49998867338114705\n"
     ]
    }
   ],
   "source": [
    "# Gerando os gráficos a partir de funções do matplotlib\n",
    "\n",
    "print(np.sum(abs(y1 - du1))/np.sum(abs(y2 - du2)))"
   ]
  },
  {
   "cell_type": "code",
   "execution_count": null,
   "id": "25d9ddea",
   "metadata": {},
   "outputs": [],
   "source": []
  }
 ],
 "metadata": {
  "kernelspec": {
   "display_name": "Python 3 (ipykernel)",
   "language": "python",
   "name": "python3"
  },
  "language_info": {
   "codemirror_mode": {
    "name": "ipython",
    "version": 3
   },
   "file_extension": ".py",
   "mimetype": "text/x-python",
   "name": "python",
   "nbconvert_exporter": "python",
   "pygments_lexer": "ipython3",
   "version": "3.9.5"
  },
  "widgets": {
   "application/vnd.jupyter.widget-state+json": {
    "state": {},
    "version_major": 2,
    "version_minor": 0
   }
  }
 },
 "nbformat": 4,
 "nbformat_minor": 5
}
