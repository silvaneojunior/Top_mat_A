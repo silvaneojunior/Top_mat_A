{
 "cells": [
  {
   "cell_type": "code",
   "execution_count": 1,
   "id": "328d6992",
   "metadata": {},
   "outputs": [],
   "source": [
    "import numpy as np\n",
    "import tensorflow as tf\n",
    "import matplotlib.pyplot as plt\n",
    "from IPython.display import clear_output\n",
    "from Euler_tf_V1 import *"
   ]
  },
  {
   "cell_type": "code",
   "execution_count": 2,
   "id": "8280d6d5",
   "metadata": {},
   "outputs": [
    {
     "ename": "InvalidArgumentError",
     "evalue": "Incompatible shapes: [3,1,5,3] vs. [1,100,3,3] [Op:BroadcastTo]",
     "output_type": "error",
     "traceback": [
      "\u001b[1;31m---------------------------------------------------------------------------\u001b[0m",
      "\u001b[1;31mInvalidArgumentError\u001b[0m                      Traceback (most recent call last)",
      "\u001b[1;32m<ipython-input-2-12e6ec757859>\u001b[0m in \u001b[0;36m<module>\u001b[1;34m\u001b[0m\n\u001b[0;32m     17\u001b[0m \u001b[0mQ\u001b[0m\u001b[1;33m=\u001b[0m\u001b[0mtf\u001b[0m\u001b[1;33m.\u001b[0m\u001b[0mcast\u001b[0m\u001b[1;33m(\u001b[0m\u001b[0mQ\u001b[0m\u001b[1;33m,\u001b[0m\u001b[0mdtype\u001b[0m\u001b[1;33m=\u001b[0m\u001b[0mfloat_dtype\u001b[0m\u001b[1;33m)\u001b[0m\u001b[1;33m\u001b[0m\u001b[1;33m\u001b[0m\u001b[0m\n\u001b[0;32m     18\u001b[0m \u001b[1;33m\u001b[0m\u001b[0m\n\u001b[1;32m---> 19\u001b[1;33m \u001b[0mQ_final\u001b[0m\u001b[1;33m=\u001b[0m\u001b[0mEuler1D\u001b[0m\u001b[1;33m(\u001b[0m\u001b[0mQ\u001b[0m\u001b[1;33m,\u001b[0m \u001b[0mγ\u001b[0m\u001b[1;33m,\u001b[0m \u001b[0mΔx\u001b[0m\u001b[1;33m,\u001b[0m \u001b[0mCFL\u001b[0m\u001b[1;33m,\u001b[0m \u001b[0mFinalTime\u001b[0m\u001b[1;33m,\u001b[0m \u001b[0mBoundaryCondition\u001b[0m\u001b[1;33m)\u001b[0m\u001b[1;33m\u001b[0m\u001b[1;33m\u001b[0m\u001b[0m\n\u001b[0m",
      "\u001b[1;32mC:\\Jupyter\\Edge detection\\Euler\\Euler_tf_V1.py\u001b[0m in \u001b[0;36mEuler1D\u001b[1;34m(Q, γ, Δx, CFL, FinalTime, BoundaryCondition)\u001b[0m\n\u001b[0;32m     18\u001b[0m         \u001b[0mΔt\u001b[0m \u001b[1;33m=\u001b[0m \u001b[0mCFL\u001b[0m\u001b[1;33m*\u001b[0m\u001b[0mΔx\u001b[0m\u001b[1;33m/\u001b[0m\u001b[0mMaximumEigenvalue\u001b[0m\u001b[1;33m(\u001b[0m\u001b[0mQ\u001b[0m\u001b[1;33m,\u001b[0m \u001b[0mγ\u001b[0m\u001b[1;33m)\u001b[0m\u001b[1;33m\u001b[0m\u001b[1;33m\u001b[0m\u001b[0m\n\u001b[0;32m     19\u001b[0m         \u001b[0mΔt\u001b[0m \u001b[1;33m=\u001b[0m \u001b[0mtf\u001b[0m\u001b[1;33m.\u001b[0m\u001b[0mwhere\u001b[0m\u001b[1;33m(\u001b[0m\u001b[0mΔt\u001b[0m\u001b[1;33m>\u001b[0m\u001b[1;33m(\u001b[0m\u001b[0mFinalTime\u001b[0m \u001b[1;33m-\u001b[0m \u001b[0mTime\u001b[0m\u001b[1;33m)\u001b[0m\u001b[1;33m,\u001b[0m\u001b[0mFinalTime\u001b[0m\u001b[1;33m,\u001b[0m\u001b[0mΔt\u001b[0m\u001b[1;33m)\u001b[0m\u001b[1;33m\u001b[0m\u001b[1;33m\u001b[0m\u001b[0m\n\u001b[1;32m---> 20\u001b[1;33m         \u001b[0mQ\u001b[0m\u001b[1;33m=\u001b[0m\u001b[0mEuler1D_step\u001b[0m\u001b[1;33m(\u001b[0m\u001b[0mQ\u001b[0m\u001b[1;33m,\u001b[0m \u001b[0mγ\u001b[0m\u001b[1;33m,\u001b[0m \u001b[0mΔx\u001b[0m\u001b[1;33m,\u001b[0m \u001b[0mCFL\u001b[0m\u001b[1;33m,\u001b[0m \u001b[0mΔt\u001b[0m\u001b[1;33m,\u001b[0m \u001b[0mBoundaryCondition\u001b[0m\u001b[1;33m)\u001b[0m\u001b[1;33m\u001b[0m\u001b[1;33m\u001b[0m\u001b[0m\n\u001b[0m\u001b[0;32m     21\u001b[0m         \u001b[0mTime\u001b[0m\u001b[1;33m.\u001b[0m\u001b[0massign\u001b[0m\u001b[1;33m(\u001b[0m\u001b[0mTime\u001b[0m\u001b[1;33m+\u001b[0m\u001b[0mΔt\u001b[0m\u001b[1;33m)\u001b[0m\u001b[1;33m;\u001b[0m\u001b[1;33m\u001b[0m\u001b[1;33m\u001b[0m\u001b[0m\n\u001b[0;32m     22\u001b[0m     \u001b[1;32mreturn\u001b[0m \u001b[0mQ\u001b[0m\u001b[1;33m\u001b[0m\u001b[1;33m\u001b[0m\u001b[0m\n",
      "\u001b[1;32mC:\\Jupyter\\Edge detection\\Euler\\Euler_tf_V1.py\u001b[0m in \u001b[0;36mEuler1D_step\u001b[1;34m(Q, γ, Δx, CFL, Δt, BoundaryCondition)\u001b[0m\n\u001b[0;32m      7\u001b[0m \u001b[1;32mdef\u001b[0m \u001b[0mEuler1D_step\u001b[0m\u001b[1;33m(\u001b[0m\u001b[0mQ\u001b[0m\u001b[1;33m,\u001b[0m \u001b[0mγ\u001b[0m\u001b[1;33m,\u001b[0m \u001b[0mΔx\u001b[0m\u001b[1;33m,\u001b[0m \u001b[0mCFL\u001b[0m\u001b[1;33m,\u001b[0m \u001b[0mΔt\u001b[0m\u001b[1;33m,\u001b[0m \u001b[0mBoundaryCondition\u001b[0m\u001b[1;33m)\u001b[0m\u001b[1;33m:\u001b[0m\u001b[1;33m\u001b[0m\u001b[1;33m\u001b[0m\u001b[0m\n\u001b[0;32m      8\u001b[0m     \u001b[1;31m# 3rd order TVD Runge-Kutta scheme\u001b[0m\u001b[1;33m\u001b[0m\u001b[1;33m\u001b[0m\u001b[1;33m\u001b[0m\u001b[0m\n\u001b[1;32m----> 9\u001b[1;33m     \u001b[0mQ1\u001b[0m \u001b[1;33m=\u001b[0m    \u001b[0mQ\u001b[0m        \u001b[1;33m-\u001b[0m   \u001b[0mΔt\u001b[0m \u001b[1;33m*\u001b[0m \u001b[0mFluxDerivative\u001b[0m\u001b[1;33m(\u001b[0m\u001b[0mQ\u001b[0m\u001b[1;33m,\u001b[0m \u001b[0mγ\u001b[0m\u001b[1;33m,\u001b[0m \u001b[0mΔx\u001b[0m\u001b[1;33m,\u001b[0m \u001b[0mBoundaryCondition\u001b[0m\u001b[1;33m)\u001b[0m\u001b[1;33m\u001b[0m\u001b[1;33m\u001b[0m\u001b[0m\n\u001b[0m\u001b[0;32m     10\u001b[0m     \u001b[0mQ2\u001b[0m \u001b[1;33m=\u001b[0m \u001b[1;33m(\u001b[0m\u001b[1;36m3\u001b[0m\u001b[1;33m*\u001b[0m\u001b[0mQ\u001b[0m \u001b[1;33m+\u001b[0m   \u001b[0mQ1\u001b[0m \u001b[1;33m-\u001b[0m   \u001b[0mΔt\u001b[0m \u001b[1;33m*\u001b[0m \u001b[0mFluxDerivative\u001b[0m\u001b[1;33m(\u001b[0m\u001b[0mQ1\u001b[0m\u001b[1;33m,\u001b[0m \u001b[0mγ\u001b[0m\u001b[1;33m,\u001b[0m \u001b[0mΔx\u001b[0m\u001b[1;33m,\u001b[0m \u001b[0mBoundaryCondition\u001b[0m\u001b[1;33m)\u001b[0m\u001b[1;33m)\u001b[0m\u001b[1;33m/\u001b[0m\u001b[1;36m4\u001b[0m\u001b[1;33m\u001b[0m\u001b[1;33m\u001b[0m\u001b[0m\n\u001b[0;32m     11\u001b[0m     \u001b[0mQ\u001b[0m  \u001b[1;33m=\u001b[0m \u001b[1;33m(\u001b[0m  \u001b[0mQ\u001b[0m \u001b[1;33m+\u001b[0m \u001b[1;36m2\u001b[0m\u001b[1;33m*\u001b[0m\u001b[0mQ2\u001b[0m \u001b[1;33m-\u001b[0m \u001b[1;36m2\u001b[0m\u001b[1;33m*\u001b[0m\u001b[0mΔt\u001b[0m \u001b[1;33m*\u001b[0m \u001b[0mFluxDerivative\u001b[0m\u001b[1;33m(\u001b[0m\u001b[0mQ2\u001b[0m\u001b[1;33m,\u001b[0m \u001b[0mγ\u001b[0m\u001b[1;33m,\u001b[0m \u001b[0mΔx\u001b[0m\u001b[1;33m,\u001b[0m \u001b[0mBoundaryCondition\u001b[0m\u001b[1;33m)\u001b[0m\u001b[1;33m)\u001b[0m\u001b[1;33m/\u001b[0m\u001b[1;36m3\u001b[0m\u001b[1;33m\u001b[0m\u001b[1;33m\u001b[0m\u001b[0m\n",
      "\u001b[1;32mC:\\Jupyter\\Edge detection\\Euler\\Euler_tf_V1.py\u001b[0m in \u001b[0;36mFluxDerivative\u001b[1;34m(Q, γ, Δx, BoundaryCondition)\u001b[0m\n\u001b[0;32m     49\u001b[0m     \u001b[0mM\u001b[0m \u001b[1;33m=\u001b[0m \u001b[0mtf\u001b[0m\u001b[1;33m.\u001b[0m\u001b[0mexpand_dims\u001b[0m\u001b[1;33m(\u001b[0m\u001b[0mM\u001b[0m\u001b[1;33m,\u001b[0m\u001b[1;36m3\u001b[0m\u001b[1;33m)\u001b[0m\u001b[1;33m\u001b[0m\u001b[1;33m\u001b[0m\u001b[0m\n\u001b[0;32m     50\u001b[0m \u001b[1;33m\u001b[0m\u001b[0m\n\u001b[1;32m---> 51\u001b[1;33m     \u001b[0mG_half\u001b[0m\u001b[1;33m=\u001b[0m \u001b[0mReconstructedFlux\u001b[0m\u001b[1;33m(\u001b[0m\u001b[0mG\u001b[0m\u001b[1;33m,\u001b[0m \u001b[0mW\u001b[0m\u001b[1;33m,\u001b[0m \u001b[0mM\u001b[0m\u001b[1;33m)\u001b[0m\u001b[1;33m\u001b[0m\u001b[1;33m\u001b[0m\u001b[0m\n\u001b[0m\u001b[0;32m     52\u001b[0m \u001b[1;33m\u001b[0m\u001b[0m\n\u001b[0;32m     53\u001b[0m     \u001b[0mF_half\u001b[0m \u001b[1;33m=\u001b[0m \u001b[0mtf\u001b[0m\u001b[1;33m.\u001b[0m\u001b[0mmatmul\u001b[0m\u001b[1;33m(\u001b[0m\u001b[0mG_half\u001b[0m\u001b[1;33m,\u001b[0m\u001b[0mR\u001b[0m\u001b[1;33m)\u001b[0m \u001b[1;31m# Brings back to conservative variables\u001b[0m\u001b[1;33m\u001b[0m\u001b[1;33m\u001b[0m\u001b[0m\n",
      "\u001b[1;32mC:\\Jupyter\\Edge detection\\Euler\\Euler_tf_V1.py\u001b[0m in \u001b[0;36mReconstructedFlux\u001b[1;34m(F, Q, M)\u001b[0m\n\u001b[0;32m    105\u001b[0m     \u001b[0mF_minus\u001b[0m \u001b[1;33m=\u001b[0m \u001b[1;33m(\u001b[0m\u001b[0mF\u001b[0m \u001b[1;33m-\u001b[0m \u001b[0mM\u001b[0m\u001b[1;33m*\u001b[0m\u001b[0mQ\u001b[0m\u001b[1;33m)\u001b[0m\u001b[1;33m/\u001b[0m\u001b[1;36m2\u001b[0m\u001b[1;33m\u001b[0m\u001b[1;33m\u001b[0m\u001b[0m\n\u001b[0;32m    106\u001b[0m \u001b[1;33m\u001b[0m\u001b[0m\n\u001b[1;32m--> 107\u001b[1;33m     \u001b[0mF_half_plus\u001b[0m  \u001b[1;33m=\u001b[0m \u001b[0mWenoZ5ReconstructionLTR\u001b[0m\u001b[1;33m(\u001b[0m\u001b[0mF_plus\u001b[0m\u001b[1;33m)\u001b[0m\u001b[1;33m\u001b[0m\u001b[1;33m\u001b[0m\u001b[0m\n\u001b[0m\u001b[0;32m    108\u001b[0m     \u001b[0mF_half_minus\u001b[0m \u001b[1;33m=\u001b[0m \u001b[0mWenoZ5ReconstructionLTR\u001b[0m\u001b[1;33m(\u001b[0m\u001b[0mtf\u001b[0m\u001b[1;33m.\u001b[0m\u001b[0mreverse\u001b[0m\u001b[1;33m(\u001b[0m\u001b[0mF_minus\u001b[0m\u001b[1;33m,\u001b[0m\u001b[0maxis\u001b[0m\u001b[1;33m=\u001b[0m\u001b[1;36m2\u001b[0m\u001b[1;33m)\u001b[0m\u001b[1;33m)\u001b[0m\u001b[1;33m\u001b[0m\u001b[1;33m\u001b[0m\u001b[0m\n\u001b[0;32m    109\u001b[0m \u001b[1;33m\u001b[0m\u001b[0m\n",
      "\u001b[1;32mC:\\Jupyter\\Edge detection\\Euler\\Euler_tf_V1.py\u001b[0m in \u001b[0;36mWenoZ5ReconstructionLTR\u001b[1;34m(Q0)\u001b[0m\n\u001b[0;32m    167\u001b[0m \u001b[1;33m\u001b[0m\u001b[0m\n\u001b[0;32m    168\u001b[0m     \u001b[1;31m# Calcula o fhat do estêncil todo\u001b[0m\u001b[1;33m\u001b[0m\u001b[1;33m\u001b[0m\u001b[1;33m\u001b[0m\u001b[0m\n\u001b[1;32m--> 169\u001b[1;33m     \u001b[0mfhat\u001b[0m \u001b[1;33m=\u001b[0m \u001b[0mtf\u001b[0m\u001b[1;33m.\u001b[0m\u001b[0mmath\u001b[0m\u001b[1;33m.\u001b[0m\u001b[0mreduce_sum\u001b[0m\u001b[1;33m(\u001b[0m\u001b[0mtf\u001b[0m\u001b[1;33m.\u001b[0m\u001b[0mbroadcast_to\u001b[0m\u001b[1;33m(\u001b[0m\u001b[0mω\u001b[0m\u001b[1;33m,\u001b[0m\u001b[0mtf\u001b[0m\u001b[1;33m.\u001b[0m\u001b[0mshape\u001b[0m\u001b[1;33m(\u001b[0m\u001b[0mfhat\u001b[0m\u001b[1;33m)\u001b[0m\u001b[1;33m)\u001b[0m \u001b[1;33m*\u001b[0m \u001b[0mfhat\u001b[0m\u001b[1;33m,\u001b[0m \u001b[0maxis\u001b[0m\u001b[1;33m=\u001b[0m\u001b[1;36m2\u001b[0m\u001b[1;33m,\u001b[0m \u001b[0mkeepdims\u001b[0m\u001b[1;33m=\u001b[0m\u001b[1;32mTrue\u001b[0m\u001b[1;33m)\u001b[0m\u001b[1;33m\u001b[0m\u001b[1;33m\u001b[0m\u001b[0m\n\u001b[0m\u001b[0;32m    170\u001b[0m \u001b[1;33m\u001b[0m\u001b[0m\n\u001b[0;32m    171\u001b[0m     \u001b[1;32mreturn\u001b[0m \u001b[0mfhat\u001b[0m\u001b[1;33m\u001b[0m\u001b[1;33m\u001b[0m\u001b[0m\n",
      "\u001b[1;32mC:\\ProgramData\\Miniconda3\\lib\\site-packages\\tensorflow\\python\\ops\\gen_array_ops.py\u001b[0m in \u001b[0;36mbroadcast_to\u001b[1;34m(input, shape, name)\u001b[0m\n\u001b[0;32m    847\u001b[0m       \u001b[1;32mreturn\u001b[0m \u001b[0m_result\u001b[0m\u001b[1;33m\u001b[0m\u001b[1;33m\u001b[0m\u001b[0m\n\u001b[0;32m    848\u001b[0m     \u001b[1;32mexcept\u001b[0m \u001b[0m_core\u001b[0m\u001b[1;33m.\u001b[0m\u001b[0m_NotOkStatusException\u001b[0m \u001b[1;32mas\u001b[0m \u001b[0me\u001b[0m\u001b[1;33m:\u001b[0m\u001b[1;33m\u001b[0m\u001b[1;33m\u001b[0m\u001b[0m\n\u001b[1;32m--> 849\u001b[1;33m       \u001b[0m_ops\u001b[0m\u001b[1;33m.\u001b[0m\u001b[0mraise_from_not_ok_status\u001b[0m\u001b[1;33m(\u001b[0m\u001b[0me\u001b[0m\u001b[1;33m,\u001b[0m \u001b[0mname\u001b[0m\u001b[1;33m)\u001b[0m\u001b[1;33m\u001b[0m\u001b[1;33m\u001b[0m\u001b[0m\n\u001b[0m\u001b[0;32m    850\u001b[0m     \u001b[1;32mexcept\u001b[0m \u001b[0m_core\u001b[0m\u001b[1;33m.\u001b[0m\u001b[0m_FallbackException\u001b[0m\u001b[1;33m:\u001b[0m\u001b[1;33m\u001b[0m\u001b[1;33m\u001b[0m\u001b[0m\n\u001b[0;32m    851\u001b[0m       \u001b[1;32mpass\u001b[0m\u001b[1;33m\u001b[0m\u001b[1;33m\u001b[0m\u001b[0m\n",
      "\u001b[1;32mC:\\ProgramData\\Miniconda3\\lib\\site-packages\\tensorflow\\python\\framework\\ops.py\u001b[0m in \u001b[0;36mraise_from_not_ok_status\u001b[1;34m(e, name)\u001b[0m\n\u001b[0;32m   7105\u001b[0m \u001b[1;32mdef\u001b[0m \u001b[0mraise_from_not_ok_status\u001b[0m\u001b[1;33m(\u001b[0m\u001b[0me\u001b[0m\u001b[1;33m,\u001b[0m \u001b[0mname\u001b[0m\u001b[1;33m)\u001b[0m\u001b[1;33m:\u001b[0m\u001b[1;33m\u001b[0m\u001b[1;33m\u001b[0m\u001b[0m\n\u001b[0;32m   7106\u001b[0m   \u001b[0me\u001b[0m\u001b[1;33m.\u001b[0m\u001b[0mmessage\u001b[0m \u001b[1;33m+=\u001b[0m \u001b[1;33m(\u001b[0m\u001b[1;34m\" name: \"\u001b[0m \u001b[1;33m+\u001b[0m \u001b[0mname\u001b[0m \u001b[1;32mif\u001b[0m \u001b[0mname\u001b[0m \u001b[1;32mis\u001b[0m \u001b[1;32mnot\u001b[0m \u001b[1;32mNone\u001b[0m \u001b[1;32melse\u001b[0m \u001b[1;34m\"\"\u001b[0m\u001b[1;33m)\u001b[0m\u001b[1;33m\u001b[0m\u001b[1;33m\u001b[0m\u001b[0m\n\u001b[1;32m-> 7107\u001b[1;33m   \u001b[1;32mraise\u001b[0m \u001b[0mcore\u001b[0m\u001b[1;33m.\u001b[0m\u001b[0m_status_to_exception\u001b[0m\u001b[1;33m(\u001b[0m\u001b[0me\u001b[0m\u001b[1;33m)\u001b[0m \u001b[1;32mfrom\u001b[0m \u001b[1;32mNone\u001b[0m  \u001b[1;31m# pylint: disable=protected-access\u001b[0m\u001b[1;33m\u001b[0m\u001b[1;33m\u001b[0m\u001b[0m\n\u001b[0m\u001b[0;32m   7108\u001b[0m \u001b[1;33m\u001b[0m\u001b[0m\n\u001b[0;32m   7109\u001b[0m \u001b[1;33m\u001b[0m\u001b[0m\n",
      "\u001b[1;31mInvalidArgumentError\u001b[0m: Incompatible shapes: [3,1,5,3] vs. [1,100,3,3] [Op:BroadcastTo]"
     ]
    }
   ],
   "source": [
    "# Problema inicial\n",
    "interval=2*np.pi\n",
    "n_pts=100\n",
    "Δx=interval/(n_pts-1)\n",
    "x=np.arange(-interval/2,interval/2,Δx)\n",
    "γ=1.4\n",
    "CFL=0.5\n",
    "FinalTime=10\n",
    "BoundaryCondition=FronteiraPeriodica\n",
    "ρ=np.sin(x)*0.2+1\n",
    "u=ρ\n",
    "p=x-x+1\n",
    "E=p/(γ-1)+ρ*(u**2)/2\n",
    "\n",
    "Q=np.stack([ρ,ρ*u,E],axis=1)\n",
    "Q=tf.expand_dims(Q,axis=0)\n",
    "Q=tf.cast(Q,dtype=float_dtype)\n",
    "\n",
    "Q_final=Euler1D(Q, γ, Δx, CFL, FinalTime, BoundaryCondition)"
   ]
  },
  {
   "cell_type": "code",
   "execution_count": null,
   "id": "9c67e421",
   "metadata": {},
   "outputs": [],
   "source": [
    "A"
   ]
  },
  {
   "cell_type": "code",
   "execution_count": null,
   "id": "ce2eab4c",
   "metadata": {},
   "outputs": [],
   "source": [
    "a = np.asarray([[0.5],[-2],[3/2],[0],[0]])\n",
    "b = np.asarray([[1],[-2],[1],[0],[0]])\n",
    "c = 13/12\n",
    "\n",
    "A0 = np.dot(a,a.T)+c*np.dot(b,b.T) # Primiera matriz A\n",
    "\n",
    "a = np.asarray([[0],[-0.5],[0],[0.5],[0]])\n",
    "b = np.asarray([[0],[1],[-2],[1],[0]])\n",
    "c = 13/12\n",
    "\n",
    "A1 = np.dot(a,a.T)+c*np.dot(b,b.T) # Segunda matriz A\n",
    "\n",
    "a = np.asarray([[0],[0],[-3/2],[2],[-1/2]])\n",
    "b = np.asarray([[0],[0],[1],[-2],[1]])\n",
    "c = 13/12\n",
    "\n",
    "A2 = np.dot(a,a.T)+c*np.dot(b,b.T) # Terceira matriz A\n",
    "\n",
    "# Empilhando as matrizes A em um único tensor\n",
    "A = tf.cast(tf.stack([A0,A1,A2], axis=0), dtype=float_dtype) \n",
    "A = tf.expand_dims(A, axis=1)"
   ]
  },
  {
   "cell_type": "code",
   "execution_count": null,
   "id": "09e9956d",
   "metadata": {},
   "outputs": [],
   "source": [
    "A.shape"
   ]
  },
  {
   "cell_type": "code",
   "execution_count": null,
   "id": "7670e3e9",
   "metadata": {},
   "outputs": [],
   "source": [
    "plt.plot(Q_final)"
   ]
  },
  {
   "cell_type": "code",
   "execution_count": null,
   "id": "7db6edc2",
   "metadata": {},
   "outputs": [],
   "source": [
    "# Problema de Sod\n",
    "interval=10\n",
    "n_pts=200\n",
    "Δx=interval/(n_pts-1)\n",
    "x=np.arange(-interval/2,interval/2,Δx)\n",
    "γ=1.4\n",
    "CFL=0.5\n",
    "FinalTime=2\n",
    "BoundaryCondition=FronteiraFixa\n",
    "ρ=np.where(x<0,0.125,1)\n",
    "u=x-x\n",
    "p=np.where(x<0,0.1,1)\n",
    "E=p/(γ-1)+ρ*(u**2)/2\n",
    "\n",
    "Q=np.stack([ρ,ρ*u,E],axis=1)\n",
    "\n",
    "f=lambda Q: Q[:,1]/Q[:,0]\n",
    "\n",
    "#Euler1D(Q, γ, Δx, CFL, FinalTime, BoundaryCondition, f)"
   ]
  },
  {
   "cell_type": "code",
   "execution_count": null,
   "id": "55b9aa9f",
   "metadata": {},
   "outputs": [],
   "source": [
    "# Problema de Lax\n",
    "interval=10\n",
    "n_pts=200\n",
    "Δx=interval/(n_pts-1)\n",
    "x=np.arange(-interval/2,interval/2,Δx)\n",
    "γ=1.4\n",
    "CFL=0.5\n",
    "FinalTime=1.3\n",
    "BoundaryCondition=FronteiraFixa\n",
    "ρ=np.where(x<0,0.445,0.5)\n",
    "u=np.where(x<0,0.698,0.0)\n",
    "p=np.where(x<0,3.528,0.5710)\n",
    "E=p/(γ-1)+ρ*(u**2)/2\n",
    "\n",
    "Q=np.stack([ρ,ρ*u,E],axis=1)\n",
    "\n",
    "Q=tf.expand_dims(Q,axis=0)\n",
    "\n",
    "dummy=Euler1D(Q, γ, Δx, CFL, FinalTime, BoundaryCondition)"
   ]
  },
  {
   "cell_type": "code",
   "execution_count": null,
   "id": "6ded9fe6",
   "metadata": {},
   "outputs": [],
   "source": [
    "# Problema de 123\n",
    "interval=10\n",
    "n_pts=200\n",
    "Δx=interval/(n_pts-1)\n",
    "x=np.arange(-interval/2,interval/2,Δx)\n",
    "γ=1.4\n",
    "CFL=0.5\n",
    "FinalTime=1\n",
    "BoundaryCondition=FronteiraFixa\n",
    "ρ=np.where(x<0,1,1)\n",
    "u=np.where(x<0,-2,2)\n",
    "p=np.where(x<0,0.4,0.4)\n",
    "E=p/(γ-1)+ρ*(u**2)/2\n",
    "\n",
    "Q=np.stack([ρ,ρ*u,E],axis=1)\n",
    "\n",
    "f=lambda Q: Q[:,0]\n",
    "\n",
    "#dummy=Euler1D(Q, γ, Δx, CFL, FinalTime, BoundaryCondition, f)"
   ]
  },
  {
   "cell_type": "code",
   "execution_count": null,
   "id": "e4ba7753",
   "metadata": {},
   "outputs": [],
   "source": [
    "# Problema de Shock-density wave interaction\n",
    "interval=10\n",
    "n_pts=200\n",
    "Δx=interval/(n_pts-1)\n",
    "x=np.arange(-interval/2,interval/2,Δx)\n",
    "γ=1.4\n",
    "CFL=0.5\n",
    "FinalTime=2\n",
    "BoundaryCondition=FronteiraFixa\n",
    "k=5\n",
    "ρ=np.where(x< -4,3.857143,1+0.2*np.sin(k*x))\n",
    "u=np.where(x< -4,2.629369,0)\n",
    "p=np.where(x< -4,31/3,1)\n",
    "E=p/(γ-1)+ρ*(u**2)/2\n",
    "\n",
    "Q=np.stack([ρ,ρ*u,E],axis=1)\n",
    "\n",
    "f=lambda Q: Q[:,0]\n",
    "\n",
    "#dummy=Euler1D(Q, γ, Δx, CFL, FinalTime, BoundaryCondition, f)"
   ]
  },
  {
   "cell_type": "code",
   "execution_count": null,
   "id": "7f3f55b5",
   "metadata": {},
   "outputs": [],
   "source": [
    "# Problema de Blast wave\n",
    "n_pts=400\n",
    "Δx=1/(n_pts-1)\n",
    "x=np.arange(0,1,Δx)\n",
    "γ=1.4\n",
    "CFL=0.5\n",
    "FinalTime=0.038\n",
    "BoundaryCondition=FronteiraReflexiva\n",
    "k=5\n",
    "ρ=x-x+1\n",
    "u=x-x\n",
    "p=np.where(x< 0.1,1000,0.01)\n",
    "p=np.where(0.9<=x,100,p)\n",
    "E=p/(γ-1)+ρ*(u**2)/2\n",
    "\n",
    "Q=np.stack([ρ,ρ*u,E],axis=1)\n",
    "\n",
    "f=lambda Q: Q[:,0]\n",
    "\n",
    "dummy=Euler1D(Q, γ, Δx, CFL, FinalTime, BoundaryCondition, f)"
   ]
  },
  {
   "cell_type": "code",
   "execution_count": null,
   "id": "592c3569",
   "metadata": {},
   "outputs": [],
   "source": []
  }
 ],
 "metadata": {
  "kernelspec": {
   "display_name": "Python 3",
   "language": "python",
   "name": "python3"
  },
  "language_info": {
   "codemirror_mode": {
    "name": "ipython",
    "version": 3
   },
   "file_extension": ".py",
   "mimetype": "text/x-python",
   "name": "python",
   "nbconvert_exporter": "python",
   "pygments_lexer": "ipython3",
   "version": "3.8.10"
  },
  "widgets": {
   "application/vnd.jupyter.widget-state+json": {
    "state": {},
    "version_major": 2,
    "version_minor": 0
   }
  }
 },
 "nbformat": 4,
 "nbformat_minor": 5
}
