{
 "cells": [
  {
   "cell_type": "code",
   "execution_count": 1,
   "id": "e147d19a",
   "metadata": {},
   "outputs": [],
   "source": [
    "import numpy as np\n",
    "import matplotlib.pyplot as plt\n",
    "from IPython.display import clear_output"
   ]
  },
  {
   "cell_type": "code",
   "execution_count": 61,
   "id": "ce5f4b7b",
   "metadata": {},
   "outputs": [],
   "source": [
    "def DerivadaEspacial(U, Δx):  \n",
    "    Fhat = np.zeros(U.shape[0]-4) # Variável que salva os valores estimados da função\n",
    "    for i in range(Fhat.shape[0]):\n",
    "        u_i     = U[i:i+5,:]         # Estêncil de 6 pontos a ser utilizado pelo algoritmo\n",
    "        # Aplicar WENO em cada variável característica separadamente para depois juntar\n",
    "        f_half  = WenoZ5ReconstructionMinus(u_i[0], u_i[1], u_i[2], u_i[3], u_i[4])\n",
    "        Fhat[i]    = f_half[0]\n",
    "    Fdif = (Fhat[1:] - Fhat[:-1]) / Δx\n",
    "    return Fdif"
   ]
  },
  {
   "cell_type": "code",
   "execution_count": 62,
   "id": "92f93bbb",
   "metadata": {},
   "outputs": [],
   "source": [
    "def WenoZ5ReconstructionMinus(u1, u2, u3, u4, u5):\n",
    "    # Constante para \n",
    "    ɛ = 10.0**(-40)\n",
    "    \n",
    "    # Calcula os indicadores de suavidade locais\n",
    "    β0 = ( 1/2.0*u1 - 2*u2 + 3/2.0*u3)**2 + 13/12.0*(u1 - 2*u2 + u3)**2\n",
    "    β1 = (-1/2.0*u2        + 1/2.0*u4)**2 + 13/12.0*(u2 - 2*u3 + u4)**2\n",
    "    β2 = (-3/2.0*u3 + 2*u4 - 1/2.0*u5)**2 + 13/12.0*(u3 - 2*u4 + u5)**2\n",
    "    \n",
    "    # Calcula o indicador de suavidade global\n",
    "    τ = np.abs(β0 - β2)\n",
    "    \n",
    "    # Calcula os pesos do WENO-Z\n",
    "    α0 = (1/10) * (1 + (τ/(β0 + ɛ))**2)\n",
    "    α1 = (6/10) * (1 + (τ/(β1 + ɛ))**2)\n",
    "    α2 = (3/10) * (1 + (τ/(β2 + ɛ))**2)\n",
    "    soma = α0 + α1 + α2\n",
    "    ω0 = α0 / soma\n",
    "    ω1 = α1 / soma\n",
    "    ω2 = α2 / soma\n",
    "    \n",
    "    # Calcula os fhat em cada subestêncil\n",
    "    fhat0 = (2*u1 - 7*u2 + 11*u3)/6\n",
    "    fhat1 = ( -u2 + 5*u3 +  2*u4)/6\n",
    "    fhat2 = (2*u3 + 5*u4 -    u5)/6\n",
    "    \n",
    "    # Calcula o fhat do estêncil todo\n",
    "    fhat = ω0*fhat0 + ω1*fhat1 + ω2*fhat2\n",
    "    \n",
    "    return fhat"
   ]
  },
  {
   "cell_type": "code",
   "execution_count": 98,
   "id": "8a331377",
   "metadata": {},
   "outputs": [
    {
     "data": {
      "text/plain": [
       "3.4186455716363322e-06"
      ]
     },
     "execution_count": 98,
     "metadata": {},
     "output_type": "execute_result"
    }
   ],
   "source": [
    "Δx=0.1\n",
    "\n",
    "x=np.expand_dims(np.arange(-5,5,Δx),axis=1)\n",
    "\n",
    "y=np.exp(-(x**2))\n",
    "df=-2*x*y\n",
    "\n",
    "dy=DerivadaEspacial(y,Δx)\n",
    "\n",
    "np.mean(np.abs(df[3:-2,0]-dy))"
   ]
  },
  {
   "cell_type": "code",
   "execution_count": 100,
   "id": "026f1966",
   "metadata": {},
   "outputs": [
    {
     "data": {
      "text/plain": [
       "32.80332733395216"
      ]
     },
     "execution_count": 100,
     "metadata": {},
     "output_type": "execute_result"
    }
   ],
   "source": [
    "3.4186455716363322e-06/1.0421642709695364e-07"
   ]
  },
  {
   "cell_type": "code",
   "execution_count": 96,
   "id": "fb774608",
   "metadata": {},
   "outputs": [
    {
     "data": {
      "text/plain": [
       "1024"
      ]
     },
     "execution_count": 96,
     "metadata": {},
     "output_type": "execute_result"
    }
   ],
   "source": [
    "2**10"
   ]
  },
  {
   "cell_type": "code",
   "execution_count": 81,
   "id": "d2a6b33e",
   "metadata": {},
   "outputs": [
    {
     "data": {
      "text/plain": [
       "(195, 195)"
      ]
     },
     "execution_count": 81,
     "metadata": {},
     "output_type": "execute_result"
    }
   ],
   "source": [
    "(np.cos(x[3:-2])-dy).shape"
   ]
  },
  {
   "cell_type": "code",
   "execution_count": null,
   "id": "0c297aee",
   "metadata": {},
   "outputs": [],
   "source": []
  }
 ],
 "metadata": {
  "kernelspec": {
   "display_name": "Python 3",
   "language": "python",
   "name": "python3"
  },
  "language_info": {
   "codemirror_mode": {
    "name": "ipython",
    "version": 3
   },
   "file_extension": ".py",
   "mimetype": "text/x-python",
   "name": "python",
   "nbconvert_exporter": "python",
   "pygments_lexer": "ipython3",
   "version": "3.8.10"
  },
  "widgets": {
   "application/vnd.jupyter.widget-state+json": {
    "state": {},
    "version_major": 2,
    "version_minor": 0
   }
  }
 },
 "nbformat": 4,
 "nbformat_minor": 5
}
