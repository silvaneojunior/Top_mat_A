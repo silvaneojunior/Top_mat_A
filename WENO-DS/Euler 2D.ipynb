{
 "cells": [
  {
   "cell_type": "code",
   "execution_count": 1,
   "metadata": {},
   "outputs": [],
   "source": [
    "from aux_func_V3 import *\n",
    "from aux_gif2D import *\n",
    "import API_Numpy\n",
    "import API_TensorFlow\n",
    "\n",
    "import dill\n",
    "import matplotlib.pyplot as plt\n",
    "from IPython.display import clear_output"
   ]
  },
  {
   "cell_type": "code",
   "execution_count": 2,
   "metadata": {},
   "outputs": [],
   "source": [
    "# API=API_TensorFlow\n",
    "API=API_Numpy\n",
    "\n",
    "ε=1e-40\n",
    "WENOs_list=[\n",
    "    'WENO-Z',\n",
    "    'WENO-Z (MS)',\n",
    "    'WENO-Z (BI)',\n",
    "    'WENO-JS (BI)',\n",
    "    'WENO-ZC (BI)'\n",
    "    ]"
   ]
  },
  {
   "cell_type": "code",
   "execution_count": 3,
   "metadata": {},
   "outputs": [],
   "source": [
    "γ = 5.0/3.0\n",
    "N = 80\n",
    "x, y, Δx, Δy, U0 = CondiçãoInicialRayleighTaylor_N(N, γ)\n",
    "cfl = 0.3\n",
    "t_final = 1.95\n",
    "\n",
    "GhostPointsX=RayleighTaylorGhostPointsX()\n",
    "GhostPointsY=RayleighTaylorGhostPointsY(γ,dtype=dtype)\n",
    "\n",
    "WENOs={}\n",
    "\n",
    "for name in WENOs_list:\n",
    "    WENOs[name]=WENO_dict[name+' 2D'](API,\n",
    "                            euler_equation_2D,\n",
    "                            γ=γ)"
   ]
  },
  {
   "cell_type": "code",
   "execution_count": 4,
   "metadata": {},
   "outputs": [
    {
     "name": "stdout",
     "output_type": "stream",
     "text": [
      "WENO-Z\n",
      "Tempo inicial: 0.0\n"
     ]
    },
    {
     "name": "stderr",
     "output_type": "stream",
     "text": [
      "c:\\Users\\Silvaneo\\Documents\\GitHub\\Top_mat_A\\WENO-DS\\aux_equation.py:531: RuntimeWarning: invalid value encountered in sqrt\n",
      "  A = self.API.sqrt(self.γ*P/R)     # Sound speed\n",
      "c:\\Users\\Silvaneo\\Documents\\GitHub\\Top_mat_A\\WENO-DS\\aux_equation.py:602: RuntimeWarning: invalid value encountered in sqrt\n",
      "  A = self.API.sqrt(self.γ*P/R)\n",
      "c:\\Users\\Silvaneo\\Documents\\GitHub\\Top_mat_A\\WENO-DS\\aux_equation.py:608: RuntimeWarning: invalid value encountered in sqrt\n",
      "  A = self.API.sqrt(self.γ*P/R)\n"
     ]
    },
    {
     "name": "stdout",
     "output_type": "stream",
     "text": [
      "Tempo final: 1.9500000000000015                       \n",
      "5                              \r"
     ]
    },
    {
     "name": "stderr",
     "output_type": "stream",
     "text": [
      "c:\\Users\\Silvaneo\\miniconda3\\lib\\site-packages\\matplotlib\\contour.py:1486: UserWarning: Warning: converting a masked element to nan.\n",
      "  self.zmax = float(z.max())\n",
      "c:\\Users\\Silvaneo\\miniconda3\\lib\\site-packages\\matplotlib\\contour.py:1487: UserWarning: Warning: converting a masked element to nan.\n",
      "  self.zmin = float(z.min())\n",
      "c:\\Users\\Silvaneo\\Documents\\GitHub\\Top_mat_A\\WENO-DS\\aux_gif2D.py:13: UserWarning: No contour levels were found within the data range.\n",
      "  plt.contour(x,y,ref_U,vmin=vmin,vmax=vmax,levels=levels,colors='black',linewidths=0.25)\n"
     ]
    },
    {
     "name": "stdout",
     "output_type": "stream",
     "text": [
      "100                              \r"
     ]
    }
   ],
   "source": [
    "for name in WENOs_list:\n",
    "    create_data(\n",
    "        'RT',\n",
    "        N,\n",
    "        name,\n",
    "        U0,\n",
    "        WENOs[name],\n",
    "        0.01,\n",
    "        t_final,\n",
    "        cfl,\n",
    "        Δx,\n",
    "        Δy,\n",
    "        GhostPointsX,\n",
    "        GhostPointsY,\n",
    "        RayleighTaylorGravity,\n",
    "        continue_flag=False)\n",
    "\n",
    "    create_movie(\n",
    "        'RT',\n",
    "        N,\n",
    "        name,\n",
    "        x,\n",
    "        y,\n",
    "        figsize=(10,16),\n",
    "        vmin=0.9,\n",
    "        vmax=2.3,\n",
    "        levels=15,\n",
    "        xlim=None,\n",
    "        ylim=(0.2,0.8))"
   ]
  },
  {
   "cell_type": "code",
   "execution_count": 4,
   "metadata": {},
   "outputs": [],
   "source": [
    "WENOs_list=[\n",
    "    # 'WENO-JS',\n",
    "    # 'WENO-JS (BI)',\n",
    "    # 'WENO-Z',\n",
    "    # 'WENO-Z (MS)',\n",
    "    # 'WENO-Z (BI)',\n",
    "    # 'WENO-Zp',\n",
    "    'WENO-ZC (BI)'\n",
    "    ]"
   ]
  },
  {
   "cell_type": "code",
   "execution_count": 8,
   "metadata": {},
   "outputs": [
    {
     "name": "stdout",
     "output_type": "stream",
     "text": [
      "200                              \r"
     ]
    }
   ],
   "source": [
    "for N in (200,):\n",
    "    γ = 7.0/5.0\n",
    "    #N = 200\n",
    "    x0=1/6\n",
    "    x, y, Δx, Δy, U0 = CondiçãoInicialDoubleMach_N(N, γ,x0)\n",
    "    cfl = 0.45\n",
    "    t_final = 0.2\n",
    "\n",
    "    label=f'DoubleMach'\n",
    "\n",
    "    GhostPointsX=DoubleMachGhostPointsX(L=3,R=3,γ=γ)\n",
    "    GhostPointsY=DoubleMachGhostPointsY(L=3,R=3,γ=γ,x0=x0,x=x)\n",
    "\n",
    "    WENOs={}\n",
    "\n",
    "    for name in WENOs_list:\n",
    "        WENOs[name]=WENO_dict[name+' 2D'](API,\n",
    "                                euler_equation_2D,\n",
    "                                γ=γ)\n",
    "\n",
    "    for name in WENOs_list:\n",
    "        create_data(\n",
    "            label,\n",
    "            N,\n",
    "            name,\n",
    "            U0,\n",
    "            WENOs[name],\n",
    "            0.001,\n",
    "            t_final,\n",
    "            cfl,\n",
    "            Δx,\n",
    "            Δy,\n",
    "            GhostPointsX,\n",
    "            GhostPointsY,\n",
    "            NullForce,\n",
    "            continue_flag=True)\n",
    "        create_movie(\n",
    "            label,\n",
    "            N,\n",
    "            name,\n",
    "            x,\n",
    "            y,\n",
    "            save_dir=label+'Zoomed',\n",
    "            figsize=(12,9),\n",
    "            vmin=2,\n",
    "            vmax=20,\n",
    "            levels=100,\n",
    "            xlim=(2.0,3.0),\n",
    "            ylim=(0,0.6),\n",
    "            colorbar=False,\n",
    "            start_time=130)\n",
    "        create_movie(\n",
    "            label,\n",
    "            N,\n",
    "            name,\n",
    "            x,\n",
    "            y,\n",
    "            figsize=(3*8,8),\n",
    "            vmin=1,\n",
    "            vmax=22,\n",
    "            levels=100,\n",
    "            xlim=(0,3),\n",
    "            ylim=None)"
   ]
  },
  {
   "cell_type": "code",
   "execution_count": 5,
   "metadata": {},
   "outputs": [
    {
     "name": "stdout",
     "output_type": "stream",
     "text": [
      "WENO-ZC (BI)\n",
      "Tempo inicial: 0.139\n",
      "Tempo final: 0.2500000000000001                      \n",
      "70                               \r"
     ]
    }
   ],
   "source": [
    "for N in (400,):\n",
    "    γ = 7.0/5.0\n",
    "    #N = 200\n",
    "    x0=1/6\n",
    "    x, y, Δx, Δy, U0 = CondiçãoInicialDoubleMach_N(N, γ,x0)\n",
    "    cfl = 1\n",
    "    t_final = 0.25\n",
    "\n",
    "    label=f'DoubleMach-CFL={cfl}'\n",
    "\n",
    "    GhostPointsX=DoubleMachGhostPointsX(L=3,R=3,γ=γ)\n",
    "    GhostPointsY=DoubleMachGhostPointsY(L=3,R=3,γ=γ,x0=x0,x=x)\n",
    "\n",
    "    WENOs={}\n",
    "\n",
    "    for name in WENOs_list:\n",
    "        WENOs[name]=WENO_dict[name+' 2D'](API,\n",
    "                                euler_equation_2D,\n",
    "                                γ=γ)\n",
    "\n",
    "    for name in WENOs_list:\n",
    "        create_data(\n",
    "            label,\n",
    "            N,\n",
    "            name,\n",
    "            U0,\n",
    "            WENOs[name],\n",
    "            0.001,\n",
    "            t_final,\n",
    "            cfl,\n",
    "            Δx,\n",
    "            Δy,\n",
    "            GhostPointsX,\n",
    "            GhostPointsY,\n",
    "            NullForce,\n",
    "            continue_flag=True)\n",
    "\n",
    "        create_movie(\n",
    "            label,\n",
    "            N,\n",
    "            name,\n",
    "            x,\n",
    "            y,\n",
    "            figsize=(4*8,8),\n",
    "            vmin=1,\n",
    "            vmax=22,\n",
    "            levels=100,\n",
    "            xlim=(0,4),\n",
    "            ylim=None)\n",
    "        create_movie(\n",
    "            label,\n",
    "            N,\n",
    "            name,\n",
    "            x,\n",
    "            y,\n",
    "            save_dir=label+'Zoomed',\n",
    "            figsize=(12,9),\n",
    "            vmin=2,\n",
    "            vmax=20,\n",
    "            levels=100,\n",
    "            xlim=(2.6,3.4),\n",
    "            ylim=(0,0.6),\n",
    "            colorbar=False,\n",
    "            start_time=180)"
   ]
  },
  {
   "cell_type": "code",
   "execution_count": 5,
   "metadata": {},
   "outputs": [
    {
     "name": "stdout",
     "output_type": "stream",
     "text": [
      "200                              \r"
     ]
    }
   ],
   "source": [
    "create_movie(\n",
    "        'DoubleMachZoom',\n",
    "        N,\n",
    "        'WENO-JS (BI)',\n",
    "        x,\n",
    "        y,\n",
    "        figsize=(8,8),\n",
    "        vmin=1,\n",
    "        vmax=18,\n",
    "        levels=100,\n",
    "        xlim=(2,3),\n",
    "        ylim=(0,0.5),\n",
    "        colorbar=False)"
   ]
  },
  {
   "cell_type": "code",
   "execution_count": null,
   "metadata": {},
   "outputs": [],
   "source": [
    "γ = 7.0/5.0\n",
    "θ = API_Numpy.pi/6.0\n",
    "N = 400\n",
    "x0=1/6\n",
    "x, y, Δx, Δy, U0 = CondiçãoInicialShockEntropy2D_N(N, γ,θ)\n",
    "cfl = 0.5\n",
    "t_final = 1.8\n",
    "\n",
    "GhostPointsX=ShockEntropy2DGhostPointsX(γ,Δx,y,θ)\n",
    "GhostPointsY=ShockEntropy2DGhostPointsY()\n",
    "\n",
    "WENOs={}\n",
    "\n",
    "for name in WENOs_list:\n",
    "    WENOs[name]=WENO_dict[name+' 2D'](API,\n",
    "                            euler_equation_2D,\n",
    "                            γ=γ)"
   ]
  },
  {
   "cell_type": "code",
   "execution_count": null,
   "metadata": {},
   "outputs": [
    {
     "name": "stdout",
     "output_type": "stream",
     "text": [
      "WENO-Z (BI)\n",
      "Tempo inicial: 0.0\n",
      "Tempo final: 1.8000000000000014                       \n",
      "WENO-Z                           \n",
      "Tempo inicial: 0.0\n",
      "Tempo final: 1.8000000000000014                       \n",
      "WENO-Zp                          \n",
      "Tempo inicial: 0.0\n",
      "Tempo final: 1.8000000000000014                       \n",
      "WENO-Z (MS)                      \n",
      "Tempo inicial: 0.0\n",
      "Tempo final: 1.8000000000000014                       \n",
      "WENO-Zp (MS)                     \n",
      "Tempo inicial: 0.0\n",
      "Tempo final: 1.8000000000000014                       \n",
      "WENO-Zp (BI)                     \n",
      "Tempo inicial: 0.0\n",
      "Tempo final: 1.8000000000000014                       \n",
      "WENO-JS (BI)                     \n",
      "Tempo inicial: 0.0\n",
      "Tempo final: 1.8000000000000014                       \n",
      "WENO-ZC (MS)                     \n",
      "Tempo inicial: 0.0\n",
      "Tempo final: 1.8000000000000014                       \n",
      "WENO-ZC (BI)                     \n",
      "Tempo inicial: 0.0\n",
      "Tempo final: 1.8000000000000014                       \n",
      "180                              \r"
     ]
    }
   ],
   "source": [
    "for name in WENOs_list:\n",
    "    create_data(\n",
    "        'ShockEntropy',\n",
    "        N,\n",
    "        name,\n",
    "        U0,\n",
    "        WENOs[name],\n",
    "        0.01,\n",
    "        t_final,\n",
    "        cfl,\n",
    "        Δx,\n",
    "        Δy,\n",
    "        GhostPointsX,\n",
    "        GhostPointsY,\n",
    "        NullForce,\n",
    "        continue_flag=True)\n",
    "\n",
    "    create_movie(\n",
    "        'ShockEntropy',\n",
    "        N,\n",
    "        name,\n",
    "        x,\n",
    "        y,\n",
    "        figsize=(2*8,8),\n",
    "        vmin=0.75,\n",
    "        vmax=4.75,\n",
    "        levels=15,\n",
    "        xlim=None,\n",
    "        ylim=None)"
   ]
  }
 ],
 "metadata": {
  "kernelspec": {
   "display_name": "Python 3.9.7 ('base')",
   "language": "python",
   "name": "python3"
  },
  "language_info": {
   "codemirror_mode": {
    "name": "ipython",
    "version": 3
   },
   "file_extension": ".py",
   "mimetype": "text/x-python",
   "name": "python",
   "nbconvert_exporter": "python",
   "pygments_lexer": "ipython3",
   "version": "3.9.7"
  },
  "orig_nbformat": 4,
  "vscode": {
   "interpreter": {
    "hash": "2c880c65b8bb0913f733c3f95ca5fca08ce121878a4dce5d0c6bb64bcba9be21"
   }
  }
 },
 "nbformat": 4,
 "nbformat_minor": 2
}
