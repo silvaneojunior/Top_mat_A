{
 "cells": [
  {
   "cell_type": "code",
   "execution_count": 1,
   "metadata": {},
   "outputs": [],
   "source": [
    "from aux_func_V3 import *\n",
    "import API_Numpy\n",
    "import API_TensorFlow\n",
    "\n",
    "import dill\n",
    "import seaborn\n",
    "import matplotlib.pyplot as plt\n",
    "from IPython.display import clear_output"
   ]
  },
  {
   "cell_type": "code",
   "execution_count": 2,
   "metadata": {},
   "outputs": [],
   "source": [
    "def MalhaRetangular(N):\n",
    "   Δ = 1.0/N\n",
    "   Δx = Δ; Δy = Δ\n",
    "   x = API_Numpy.arange(0.0,0.25+Δx,Δx)\n",
    "   y = API_Numpy.arange(Δy,1.0,Δy)\n",
    "\n",
    "   X = API_Numpy.stack([x]*y.shape[0],axis=1)\n",
    "   Y = API_Numpy.stack([y]*x.shape[0],axis=0)\n",
    "\n",
    "   return X, Y, Δ"
   ]
  },
  {
   "cell_type": "code",
   "execution_count": 3,
   "metadata": {},
   "outputs": [],
   "source": [
    "def CondiçãoInicialRayleighTaylor(X, Y, γ):\n",
    "   R = API_Numpy.zeros(X.shape)\n",
    "   P = API_Numpy.zeros(X.shape)\n",
    "   U = API_Numpy.zeros(X.shape)\n",
    "   V = API_Numpy.zeros(X.shape)\n",
    "   for i in range(X.shape[0]):\n",
    "    for j in range(X.shape[1]):\n",
    "      if Y[i,j] < 0.5:\n",
    "         R[i,j] = 2.0\n",
    "         P[i,j] = 2.0*Y[i,j] + 1.0\n",
    "      else:\n",
    "         R[i,j] = 1.0\n",
    "         P[i,j] = Y[i,j] + 1.5\n",
    "         \n",
    "      a = API_Numpy.sqrt(γ * P[i,j] / R[i,j])\n",
    "      V[i,j] = -0.025 * a * API_Numpy.cos(8.0*API_Numpy.pi*X[i,j])\n",
    "\n",
    "   E = P/(γ-1.0) + R*(U**2 + V**2)/2.0\n",
    "   Q0 = API_Numpy.stack([R, R*U, R*V, E],axis=0)\n",
    "   n=X.shape[0]//2\n",
    "   Q0[:,-n:,:]=API_Numpy.reverse(Q0[:,:n,:].copy(),axis=1)\n",
    "   return Q0\n"
   ]
  },
  {
   "cell_type": "code",
   "execution_count": 4,
   "metadata": {},
   "outputs": [],
   "source": [
    "def CondiçãoInicialRayleighTaylor_N(N, γ):\n",
    "   X, Y, Δ = MalhaRetangular(N)\n",
    "   Q0 = CondiçãoInicialRayleighTaylor(X, Y, γ)\n",
    "   return X, Y, Δ, Q0"
   ]
  },
  {
   "cell_type": "code",
   "execution_count": 5,
   "metadata": {},
   "outputs": [],
   "source": [
    "def RayleighTaylorGravity(Q,API):\n",
    "   g = -1.0\n",
    "   # for i = 1:size(U,1)\n",
    "   #    for j = 1:size(U,2)\n",
    "   #       F[i,j,3] = -g * U[i,j,1]\n",
    "   #       F[i,j,4] = -g * U[i,j,3]\n",
    "   #    end\n",
    "   # end\n",
    "   Z = Q[...,0:1,:,:]*0\n",
    "   F = API.concat([Z,Z,-g*Q[...,0:1,:,:],-g*Q[...,2:3,:,:]],axis=-3)\n",
    "   return F"
   ]
  },
  {
   "cell_type": "code",
   "execution_count": 6,
   "metadata": {},
   "outputs": [],
   "source": [
    "def RayleighTaylorGhostPointsX(Q,API):\n",
    "    left=API.stack([Q[...,0,:3,:],-Q[...,1,:3,:],Q[...,2,:3,:],Q[...,3,:3,:]],axis=-3)\n",
    "    left=API.reverse(left,axis=[-2])\n",
    "\n",
    "    center=Q\n",
    "\n",
    "    right=API.stack([Q[...,0,-3:,:],-Q[...,1,-3:,:],Q[...,2,-3:,:],Q[...,3,-3:,:]],axis=-3)\n",
    "    right=API.reverse(right,axis=[-2])\n",
    "\n",
    "    return API.concat([left,center,right],axis=-2)\n",
    "\n",
    "def RayleighTaylorGhostPointsY(Q,API):\n",
    "   raw_ref_shape=API.shape(Q)[:-3]\n",
    "   out_shape=API.concat([API.shape(Q)[:-1],[3]],axis=0)\n",
    "   ref_shape=API.concat([API.ones(API.shape(raw_ref_shape),dtype='int32'),[4],[1],[1]],axis=0)\n",
    "   vals_left=API.reshape([2.0,0.0,0.0,1.0/(γ-1.0)],ref_shape)\n",
    "   vals_right=API.reshape([1.0,0.0,0.0,2.5/(γ-1.0)],ref_shape)\n",
    "   Qg = [API.ones(out_shape,'float64')*API.cast(vals_left,'float64'),\n",
    "         Q,\n",
    "        API.ones(out_shape,'float64')*API.cast(vals_right,'float64')]\n",
    "   return API.concat(Qg,-1)"
   ]
  },
  {
   "cell_type": "code",
   "execution_count": 7,
   "metadata": {},
   "outputs": [],
   "source": [
    "WENO_Z_sim=lambda ε:simulation_2D(API_TensorFlow,\n",
    "                        euler_equation_2D,\n",
    "                        WENO_Z,\n",
    "                        ε=ε)\n",
    "\n",
    "WENO_Zp_sim=lambda ε:simulation_2D(API_TensorFlow,\n",
    "                        euler_equation_2D,\n",
    "                        WENO_Z_plus,\n",
    "                        ε=ε)\n",
    "\n",
    "WENO_Z_MS_sim=lambda ε:simulation_2D(API_TensorFlow,\n",
    "                        euler_equation_2D,\n",
    "                        WENO_Z,\n",
    "                        map_function=Hong_mapping,\n",
    "                        mapping=pre_mapping,\n",
    "                        ε=ε)\n",
    "\n",
    "WENO_Zp_MS_sim=lambda ε:simulation_2D(API_TensorFlow,\n",
    "                        euler_equation_2D,\n",
    "                        WENO_Z_plus,\n",
    "                        map_function=Hong_mapping,\n",
    "                        mapping=pre_mapping,\n",
    "                        ε=ε)\n",
    "\n",
    "WENO_Z_BI_sim=lambda ε:simulation_2D(API_TensorFlow,\n",
    "                        euler_equation_2D,\n",
    "                        WENO_Z,\n",
    "                        map_function=BI_mapping,\n",
    "                        mapping=pre_mapping,\n",
    "                        ε=ε)\n",
    "\n",
    "WENO_ZC_MS_sim=lambda ε:simulation_2D(API_TensorFlow,\n",
    "                        euler_equation_2D,\n",
    "                        WENO_Z_pm,\n",
    "                        map_function=Hong_mapping,\n",
    "                        mapping=pre_inv_mapping,\n",
    "                        ε=ε)\n",
    "\n",
    "WENO_ZC_BI_sim=lambda ε:simulation_2D(API_TensorFlow,\n",
    "                        euler_equation_2D,\n",
    "                        WENO_Z_pm,\n",
    "                        map_function=BI_mapping,\n",
    "                        mapping=pre_inv_mapping,\n",
    "                        ε=ε)"
   ]
  },
  {
   "cell_type": "code",
   "execution_count": 8,
   "metadata": {},
   "outputs": [
    {
     "name": "stdout",
     "output_type": "stream",
     "text": [
      "1.720000000000001375\r"
     ]
    }
   ],
   "source": [
    "for ε in (1e-6,1e-20,1e-40):\n",
    "    for WENO_type,name in zip([\n",
    "        # WENO_Z_sim,\n",
    "        WENO_Z_BI_sim,\n",
    "        WENO_Z_MS_sim,\n",
    "        WENO_Zp_sim,\n",
    "        WENO_Zp_MS_sim,\n",
    "        WENO_ZC_MS_sim,\n",
    "        WENO_ZC_BI_sim\n",
    "        ],\n",
    "        [\n",
    "        # 'WENO-Z',\n",
    "        'WENO-Z (BI)',\n",
    "        'WENO-Z (MS)',\n",
    "        'WENO-Z+',\n",
    "        'WENO-Z+ (MS)',\n",
    "        'WENO-ZC (MS)',\n",
    "        'WENO-ZC (BI)'\n",
    "        ]):\n",
    "\n",
    "        WENO=WENO_type(ε)\n",
    "\n",
    "        for N in (800,):\n",
    "            U_final=[]\n",
    "            γ = 5.0/3.0\n",
    "            x, y, Δ, U0 = CondiçãoInicialRayleighTaylor_N(N, γ)\n",
    "            cfl = 0.3\n",
    "            t_final = 1.95\n",
    "\n",
    "            U=U0.copy()\n",
    "            U_final.append(U.copy())\n",
    "            t=0\n",
    "            count=0\n",
    "\n",
    "            if not(os.path.isdir(f'imagens/RT{N}-CFL02-{name}-epsilon={np.log10(ε)}/')):\n",
    "                    os.mkdir(f'imagens/RT{N}-CFL02-{name}-epsilon={np.log10(ε)}/')\n",
    "\n",
    "            Δt_step=0.01\n",
    "            while t<t_final:\n",
    "                t_step=0\n",
    "                \n",
    "                while t_step<Δt_step:\n",
    "                    Λ  = WENO.equation.maximum_speed(U)\n",
    "                    Δt = Δ*cfl/Λ\n",
    "                    Δt = np.where(t_step+Δt>Δt_step,Δt_step-t_step,Δt)\n",
    "\n",
    "                    U=WENO.Sim_step(U, Δt, Δ, Δ, RayleighTaylorGhostPointsX, RayleighTaylorGhostPointsY,RayleighTaylorGravity)\n",
    "                    t_step+=Δt\n",
    "\n",
    "                count+=1\n",
    "                t+=Δt_step\n",
    "                print(t,end='\\r')\n",
    "                U_final.append(U[...])\n",
    "                plt.figure(figsize=(10,16))\n",
    "                ref_U=U[0].numpy()\n",
    "\n",
    "                a=plt.pcolormesh(x.T,y.T,ref_U.T,cmap='jet',vmin=0.9,vmax=2.3)\n",
    "                plt.colorbar(a)\n",
    "                plt.contour(x.T,y.T,ref_U.T,levels=15,vmin=0.9,vmax=2.3,colors='black',linewidths=0.5)\n",
    "\n",
    "                plt.ylim(ymin=0.2,ymax=0.8)\n",
    "                plt.title(name)\n",
    "                plt.savefig(f'imagens/RT{N}-CFL02-{name}-epsilon={np.log10(ε)}/{str(count).zfill(3)}.png')\n",
    "                plt.close()\n",
    "            \n",
    "                with open(f'imagens/RT{N}-CFL02-{name}-epsilon={np.log10(ε)}/data.bkp','wb') as file:\n",
    "                    dill.dump(np.stack(U_final,0),file)"
   ]
  },
  {
   "cell_type": "code",
   "execution_count": null,
   "metadata": {},
   "outputs": [
    {
     "name": "stdout",
     "output_type": "stream",
     "text": [
      "0\r"
     ]
    },
    {
     "name": "stderr",
     "output_type": "stream",
     "text": [
      "<ipython-input-14-8ebd724dff24>:36: UserWarning: No contour levels were found within the data range.\n",
      "  plt.contour(x.T,y.T,ref_U.T,levels=15,vmin=vmin,vmax=vmax,colors='black',linewidths=0.5)\n"
     ]
    },
    {
     "name": "stdout",
     "output_type": "stream",
     "text": [
      "195\r"
     ]
    }
   ],
   "source": [
    "for name in [\n",
    "    'WENO-Z',\n",
    "    # 'WENO-Z+',\n",
    "    # 'WENO-Z (BI)',\n",
    "    # 'WENO-Z (MS)',\n",
    "    # 'WENO-Z+ (MS)',\n",
    "    # 'WENO-ZC (MS)',\n",
    "    # 'WENO-ZC (BI)'\n",
    "    ]:\n",
    "\n",
    "    for N in (800,):\n",
    "        γ = 5.0/3.0\n",
    "        x, y, Δ, U0 = CondiçãoInicialRayleighTaylor_N(N, γ)\n",
    "\n",
    "        if not(os.path.isdir(f'imagens/RT{N}-diff-CFL02-{name}-epsilon={np.log10(ɛ)}/')):\n",
    "                os.mkdir(f'imagens/RT{N}-diff-CFL02-{name}-epsilon={np.log10(ɛ)}/')\n",
    "        \n",
    "        with open(f'imagens/RT{N}-CFL02-{name}-epsilon={np.log10(ɛ)}/data.bkp','rb') as file:\n",
    "            U=dill.load(file)[:,0]\n",
    "\n",
    "        errors=U.copy()\n",
    "        \n",
    "        errors=np.abs(errors-API_Numpy.reverse(errors,axis=1))\n",
    "\n",
    "        vmax=np.max(errors)\n",
    "        vmin=0\n",
    "\n",
    "        for count,Ui in enumerate(errors):\n",
    "            print(count,end='\\r')\n",
    "            plt.figure(figsize=(10,16))\n",
    "            ref_U=Ui\n",
    "\n",
    "            a=plt.pcolormesh(x.T,y.T,ref_U.T,cmap='jet',vmin=vmin,vmax=vmax)\n",
    "            plt.colorbar(a)\n",
    "            plt.contour(x.T,y.T,ref_U.T,levels=15,vmin=vmin,vmax=vmax,colors='black',linewidths=0.5)\n",
    "\n",
    "            plt.ylim(ymin=0.2,ymax=0.8)\n",
    "            plt.title(name)\n",
    "            plt.savefig(f'imagens/RT{N}-diff-CFL02-{name}-epsilon={np.log10(ɛ)}/{str(count+1).zfill(3)}.png')\n",
    "            plt.close()"
   ]
  },
  {
   "cell_type": "code",
   "execution_count": 49,
   "metadata": {},
   "outputs": [
    {
     "data": {
      "text/plain": [
       "<matplotlib.collections.QuadMesh at 0x1e77c10a5e0>"
      ]
     },
     "execution_count": 49,
     "metadata": {},
     "output_type": "execute_result"
    },
    {
     "data": {
      "image/png": "[encoded data removed]",
      "text/plain": [
       "<Figure size 432x288 with 1 Axes>"
      ]
     },
     "metadata": {
      "needs_background": "light"
     },
     "output_type": "display_data"
    }
   ],
   "source": [
    "plt.pcolormesh(x.T,y.T,U[0].T,cmap='jet')"
   ]
  },
  {
   "cell_type": "code",
   "execution_count": 10,
   "metadata": {},
   "outputs": [],
   "source": [
    "def MalhaRetangular(N):\n",
    "   Δ = 10.0/N\n",
    "   Δx = Δ; Δy = Δ\n",
    "   x = API_Numpy.arange(-5.0,5.0+Δx,Δx)\n",
    "   y = API_Numpy.arange(-1.0,1.0,Δy)\n",
    "\n",
    "   X = API_Numpy.stack([x]*y.shape[0],axis=1)\n",
    "   Y = API_Numpy.stack([y]*x.shape[0],axis=0)\n",
    "\n",
    "   return X, Y, Δ\n",
    "\n",
    "def CondiçãoInicialShockEntropy2D(X, Y, γ,θ):\n",
    "   R = API_Numpy.zeros(X.shape)\n",
    "   P = API_Numpy.ones(X.shape)\n",
    "   U = API_Numpy.zeros(X.shape)\n",
    "   V = API_Numpy.zeros(X.shape)\n",
    "\n",
    "   I = API_Numpy.ones(X.shape)\n",
    "\n",
    "   l=X < -4\n",
    "   r=X >=-4\n",
    "\n",
    "   R[l]=I[l]*27.0/7.0\n",
    "   U[l]=I[l]*4.0*API_Numpy.sqrt(35.0)/9.0\n",
    "   P[l]=I[l]*31.0/3.0\n",
    "\n",
    "   R[r] = 1.0 + API_Numpy.sin(X[r]*API_Numpy.cos(θ)*2.0*API_Numpy.pi + Y[r]*API_Numpy.sin(θ)*2.0*API_Numpy.pi)/5.0\n",
    "\n",
    "   E = P/(γ-1.0) + R*(U**2 + V**2)/2.0\n",
    "   Q0 = API_Numpy.stack([R, R*U, R*V, E],axis=0)\n",
    "   return Q0\n",
    "\n",
    "def CondiçãoInicialShockEntropy2D_N(N, γ,θ):\n",
    "   X, Y, Δ = MalhaRetangular(N)\n",
    "   Q0 = CondiçãoInicialShockEntropy2D(X, Y, γ,θ)\n",
    "   return X, Y, Δ, Q0\n",
    "\n",
    "def NullForce(Q,API):\n",
    "   return 0.0"
   ]
  },
  {
   "cell_type": "code",
   "execution_count": 29,
   "metadata": {},
   "outputs": [
    {
     "data": {
      "text/plain": [
       "(251, 50)"
      ]
     },
     "execution_count": 29,
     "metadata": {},
     "output_type": "execute_result"
    }
   ],
   "source": [
    "x.shape"
   ]
  },
  {
   "cell_type": "code",
   "execution_count": 45,
   "metadata": {},
   "outputs": [],
   "source": [
    "γ = 7.0/5.0\n",
    "θ = API_Numpy.pi/6.0\n",
    "N = 250\n",
    "Δx= Δ\n",
    "x, y, Δ, U0 = CondiçãoInicialShockEntropy2D_N(N, γ,θ)\n",
    "cfl = 0.5\n",
    "t_final = 1.8"
   ]
  },
  {
   "cell_type": "code",
   "execution_count": 46,
   "metadata": {},
   "outputs": [],
   "source": [
    "def ShockEntropy2DGhostPointsX(Q,API):\n",
    "    ρl, ul, pl = 27.0/7.0, 4.0*API.cast(API.sqrt(35.0),'float64')/9.0, 31.0/3.0\n",
    "    El = pl/(γ-1.0) + ρl*(ul**2)/2.0\n",
    "    El = API.cast(El,'float64')\n",
    "\n",
    "    raw_ref_shape=API.shape(Q)[:-3]\n",
    "    out_shape=API.concat([API.shape(Q)[:-2],[3],API.shape(Q)[-1:]],axis=0)\n",
    "    ref_shape=API.concat([API.ones(API.shape(raw_ref_shape),dtype='int32'),[4],[1],[1]],axis=0)\n",
    "\n",
    "    vals_left=API.reshape([ρl, ρl*ul, 0.0, El],ref_shape)\n",
    "\n",
    "    Xr = API.reshape([5.0+Δx, 5.0+2*Δx, 5.0+3*Δx], [3, 1])\n",
    "    Yr = y[...,:3,:]\n",
    "    ρr = 1.0 + API.sin(5.0*Xr*API.cos(θ) + 5.0*Yr*API.sin(θ))/5.0\n",
    "    pr = API.ones(ρr.shape)\n",
    "    ur = API.zeros(ρr.shape)\n",
    "    vr = API.zeros(ρr.shape)\n",
    "    Er = pr/(γ-1.0)\n",
    "    Qr = API.stack([ρr, ur, vr, Er],axis=-3)\n",
    "\n",
    "    Qg = [API.ones(out_shape,'float64')*API.cast(vals_left,'float64'),\n",
    "    Q,\n",
    "    API.cast(Qr,'float64')]\n",
    "\n",
    "    return API.concat(Qg,-2)\n",
    "\n",
    "def ShockEntropy2DGhostPointsY(Q,API):\n",
    "    Qg = API.concat(\n",
    "        [Q[...,:,-3:],\n",
    "            Q,\n",
    "            Q[...,:,:3]],axis=-1)\n",
    "    return Qg"
   ]
  },
  {
   "cell_type": "code",
   "execution_count": 47,
   "metadata": {},
   "outputs": [
    {
     "name": "stdout",
     "output_type": "stream",
     "text": [
      "[[[1.8]]]5315]]]\r"
     ]
    }
   ],
   "source": [
    "for WENO_type,name in zip([\n",
    "    WENO_Z_sim,\n",
    "    WENO_Zp_sim,\n",
    "    WENO_Z_MS_sim,\n",
    "    WENO_Zp_MS_sim,\n",
    "    WENO_Z_BI_sim,\n",
    "    WENO_ZC_MS_sim,\n",
    "    WENO_ZC_BI_sim\n",
    "    ],\n",
    "    [\n",
    "    'WENO-Z',\n",
    "    'WENO-Z+',\n",
    "    'WENO-Z (MS)',\n",
    "    'WENO-Z+ (MS)',\n",
    "    'WENO-Z (BI)',\n",
    "    'WENO-ZC (MS)',\n",
    "    'WENO-ZC (BI)'\n",
    "    ]):\n",
    "    U=U0.copy()\n",
    "    t=0\n",
    "    count=0\n",
    "    if not(os.path.isdir(f'imagens/shockdensity2D-{name}/')):\n",
    "            os.mkdir(f'imagens/shockdensity2D-{name}/')\n",
    "    if not(os.path.isdir(f'imagens/shockdensity2D-Zoom-{name}/')):\n",
    "            os.mkdir(f'imagens/shockdensity2D-Zoom-{name}/')\n",
    "    while t<t_final:\n",
    "        Λ  = WENO_type.equation.maximum_speed(U)\n",
    "        Δt = Δ*cfl/Λ\n",
    "        Δt = np.where(t+Δt>t_final,t_final-t,Δt)\n",
    "\n",
    "        U=WENO_type.Sim_step(U, Δt, Δ, Δ, ShockEntropy2DGhostPointsX, ShockEntropy2DGhostPointsY,NullForce)\n",
    "        t+=Δt\n",
    "        print(t,end='\\r')\n",
    "        plt.figure(figsize=(16,8))\n",
    "        ref_U=U[0].numpy()\n",
    "        a=plt.pcolormesh(x.T,y.T,ref_U.T,cmap='jet',vmin=0.75,vmax=4.75)\n",
    "        plt.colorbar(a)\n",
    "        plt.contour(x.T,y.T,ref_U.T,levels=15,vmin=0.75,vmax=4.75,colors='black',linewidths=0.5)\n",
    "        plt.title(name)\n",
    "        count+=1\n",
    "        plt.savefig(f'imagens/shockdensity2D-{name}/{count}.png')\n",
    "        plt.close()\n",
    "\n",
    "        plt.figure(figsize=(16,8))\n",
    "        ref_U=U[0].numpy()\n",
    "        a=plt.pcolormesh(x.T,y.T,ref_U.T,cmap='jet',vmin=0.75,vmax=4.75)\n",
    "        plt.colorbar(a)\n",
    "        plt.contour(x.T,y.T,ref_U.T,levels=15,vmin=0.75,vmax=4.75,colors='black',linewidths=0.5)\n",
    "        plt.title(name)\n",
    "        count+=1\n",
    "        plt.savefig(f'imagens/shockdensity2D-Zoom-{name}/{count}.png')\n",
    "        plt.close()\n",
    "\n",
    "    with open(name+'.bkp','wb') as file:\n",
    "        dill.dump(U,file)\n",
    "\n",
    "    plt.figure(figsize=(16,8))\n",
    "    ref_U=U[0].numpy()\n",
    "    a=plt.pcolormesh(x.T,y.T,ref_U.T,cmap='jet',vmin=0.75,vmax=4.75)\n",
    "    plt.colorbar(a)\n",
    "    plt.contour(x.T,y.T,ref_U.T,levels=15,vmin=0.75,vmax=4.75,colors='black',linewidths=0.5)\n",
    "    plt.title(name)\n",
    "    #plt.xlim((0,3))\n",
    "    plt.savefig('shockdensity2D'+name+'.png')\n",
    "    plt.close()\n",
    "\n",
    "    plt.figure(figsize=(16,8))\n",
    "    ref_U=U[0].numpy()\n",
    "    a=plt.pcolormesh(x.T,y.T,ref_U.T,cmap='jet',vmin=0.75,vmax=4.75)\n",
    "    plt.colorbar(a)\n",
    "    plt.contour(x.T,y.T,ref_U.T,levels=15,vmin=0.75,vmax=4.75,colors='black',linewidths=0.5)\n",
    "    plt.title(name)\n",
    "    plt.xlim((0,3))\n",
    "    plt.savefig('shockdensity2D-zoom'+name+'.png')\n",
    "    plt.close()"
   ]
  },
  {
   "cell_type": "code",
   "execution_count": 44,
   "metadata": {},
   "outputs": [],
   "source": [
    "for WENO_type,name in zip([\n",
    "    WENO_Z_sim,\n",
    "    WENO_Zp_sim,\n",
    "    WENO_Z_MS_sim,\n",
    "    WENO_Zp_MS_sim,\n",
    "    WENO_Z_BI_sim,\n",
    "    WENO_ZC_MS_sim,\n",
    "    WENO_ZC_BI_sim\n",
    "    ],\n",
    "    [\n",
    "    'WENO-Z',\n",
    "    'WENO-Z+',\n",
    "    'WENO-Z (MS)',\n",
    "    'WENO-Z+ (MS)',\n",
    "    'WENO-Z (BI)',\n",
    "    'WENO-ZC (MS)',\n",
    "    'WENO-ZC (BI)'\n",
    "    ]):\n",
    "    U=U0.copy()\n",
    "    t=0\n",
    "    count=0\n",
    "\n",
    "    with open(name+'.bkp','rb') as file:\n",
    "        U=dill.load(file)\n",
    "\n",
    "    plt.figure(figsize=(16,8))\n",
    "    ref_U=U[0].numpy()\n",
    "    a=plt.pcolormesh(x.T,y.T,ref_U.T,cmap='jet',vmin=0.75,vmax=4.75)\n",
    "    plt.colorbar(a)\n",
    "    plt.contour(x.T,y.T,ref_U.T,levels=15,vmin=0.75,vmax=4.75,colors='black',linewidths=0.5)\n",
    "    plt.title(name)\n",
    "    #plt.xlim((0,3))\n",
    "    plt.savefig('shockdensity2D'+name+'.png')\n",
    "    plt.close()"
   ]
  },
  {
   "cell_type": "code",
   "execution_count": 18,
   "metadata": {},
   "outputs": [
    {
     "data": {
      "text/plain": [
       "0.7887306367423698"
      ]
     },
     "execution_count": 18,
     "metadata": {},
     "output_type": "execute_result"
    }
   ],
   "source": [
    "API_Numpy.min(ref_U)"
   ]
  }
 ],
 "metadata": {
  "kernelspec": {
   "display_name": "Python 3.8.10 ('base')",
   "language": "python",
   "name": "python3"
  },
  "language_info": {
   "codemirror_mode": {
    "name": "ipython",
    "version": 3
   },
   "file_extension": ".py",
   "mimetype": "text/x-python",
   "name": "python",
   "nbconvert_exporter": "python",
   "pygments_lexer": "ipython3",
   "version": "3.8.10"
  },
  "orig_nbformat": 4,
  "vscode": {
   "interpreter": {
    "hash": "19d1d53a962d236aa061289c2ac16dc8e6d9648c89fe79f459ae9a3493bc67b4"
   }
  }
 },
 "nbformat": 4,
 "nbformat_minor": 2
}
