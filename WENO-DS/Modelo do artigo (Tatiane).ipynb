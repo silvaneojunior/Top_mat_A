{
 "cells": [
  {
   "cell_type": "code",
   "execution_count": 1,
   "id": "83ad9602",
   "metadata": {},
   "outputs": [],
   "source": [
    "# Importando os módulos que serão utilizados\n",
    "\n",
    "import tensorflow as tf\n",
    "import numpy as np\n",
    "import tensorflow.keras as keras\n",
    "import matplotlib.pyplot as plt\n",
    "import time\n",
    "\n",
    "# Configurando o acesso do tensorflow aos processadores do computador\n",
    "# no caso, está sendo selecionada a primeira placa de vídeo listada\n",
    "\n",
    "gpus = tf.config.experimental.list_physical_devices('GPU') # Listando as placas de vídeo\n",
    "tf.config.experimental.set_memory_growth(gpus[0], True)    # Selecionando a primeira GPU e configurando\n",
    "\n",
    "# Importando os módulos contendo as funções criadas no projeto\n",
    "\n",
    "from aux_func_V2 import *\n",
    "import aux_func_numpy as debug"
   ]
  },
  {
   "cell_type": "code",
   "execution_count": 2,
   "id": "f57244b9",
   "metadata": {},
   "outputs": [
    {
     "data": {
      "text/plain": [
       "\"\\nU_full=Gera_dados()\\nwith tf.device('/device:CPU:0'):\\n    data_full=tf.transpose(tf.concat(U_full,axis=0))\\n\""
      ]
     },
     "execution_count": 2,
     "metadata": {},
     "output_type": "execute_result"
    }
   ],
   "source": [
    "# Criando o conjunto de dados que será utilizado para o treino da rede neural\n",
    "\n",
    "#------------------------------------------------------------------------------\n",
    "# U_full = Gera_dados() # Gerando os dados\n",
    "\n",
    "# # Utilizando a CPU como processador\n",
    "# with tf.device('/device:CPU:0'):\n",
    "#     data_full = tf.transpose(tf.concat(U_full, axis=0)) # Formatando os dados\n",
    "#-------------------------------------------------------------------------------"
   ]
  },
  {
   "cell_type": "code",
   "execution_count": 3,
   "id": "5f0d944c",
   "metadata": {},
   "outputs": [
    {
     "data": {
      "text/plain": [
       "\"\\nimport dill\\n\\nwith open('data.bck','wb') as file:\\n    dill.dump(data_full,file)\\n\""
      ]
     },
     "execution_count": 3,
     "metadata": {},
     "output_type": "execute_result"
    }
   ],
   "source": [
    "# Salvando o conjunto de dados que será utilizado para o treino da rede neural\n",
    "\n",
    "#--------------------------------------------------\n",
    "# # Importando o pacote de manipulação de arquivos\n",
    "# import dill\n",
    "\n",
    "# # Salvando os dados\n",
    "# with open('data.bck','wb') as file:\n",
    "#     dill.dump(data_full, file)\n",
    "#--------------------------------------------------"
   ]
  },
  {
   "cell_type": "code",
   "execution_count": 4,
   "id": "afbd33b0",
   "metadata": {},
   "outputs": [],
   "source": [
    "# Lendo o conjunto de dados que será utilizado para o treino da rede neural\n",
    "\n",
    "# Importando o pacote de manipulação de arquivos\n",
    "import dill\n",
    "\n",
    "# Lendo os dados\n",
    "with open('data.bck','rb') as file:\n",
    "    # Utilizando a CPU como processador\n",
    "    with tf.device('/device:CPU:0'):\n",
    "        data_full = dill.load(file)\n",
    "        data_full = tf.transpose(data_full[0],[1,0,2]).numpy()"
   ]
  },
  {
   "cell_type": "code",
   "execution_count": 5,
   "id": "53b675e3",
   "metadata": {},
   "outputs": [],
   "source": [
    "# Formatando conjunto de dados para o treino da rede neural\n",
    "data_x = np.squeeze(data_full[:,:,:-1])\n",
    "data_y = np.squeeze(data_full[:,:,1:])\n",
    "\n",
    "data_x = data_x[:,np.arange(100)*4]\n",
    "data_y = data_y[:,np.arange(100)*4]\n",
    "data_x = np.concatenate(np.split(data_x, data_x.shape[2], axis=2), axis=0)\n",
    "data_y = np.concatenate(np.split(data_y, data_y.shape[2], axis=2), axis=0)\n",
    "\n",
    "indices = np.where(np.sum(data_x**2, axis=1) > 0)[0]\n",
    "data_x  = data_x[indices]\n",
    "data_y  = data_y[indices]\n",
    "\n",
    "# Aleatorizando a ordem dos elementos dos dados\n",
    "indice = np.arange(data_x.shape[0])\n",
    "np.random.shuffle(indice)\n",
    "data_x = data_x.astype('float64')[indice]\n",
    "data_y = data_y.astype('float64')[indice]"
   ]
  },
  {
   "cell_type": "code",
   "execution_count": 6,
   "id": "1f25456a",
   "metadata": {},
   "outputs": [],
   "source": [
    "# Conjunto de dados de treino\n",
    "train_x = data_x[:-20000]\n",
    "train_y = data_y[:-20000]\n",
    "\n",
    "# Conjunto de dados de validação\n",
    "test_x = data_x[-20000:]\n",
    "test_y = data_y[-20000:]"
   ]
  },
  {
   "cell_type": "code",
   "execution_count": 7,
   "id": "2a6ff5ec",
   "metadata": {},
   "outputs": [],
   "source": [
    "# Função que define a taxa de aprendizagem para diferentes\n",
    "# iterações de treino, a ideia é começar com uma taxa grande e \n",
    "# diminuir ao longo do treino para \"refinar\" a aprendizagem da rede\n",
    "\n",
    "def scheduler(epoch, lr):\n",
    "    if epoch < 1:\n",
    "        return 10**-2\n",
    "    elif epoch<2:\n",
    "        return 10**-3\n",
    "    else:\n",
    "        return 10**-4\n",
    "    \n",
    "# Passando para o keras a função scheduler\n",
    "callback = tf.keras.callbacks.LearningRateScheduler(scheduler)"
   ]
  },
  {
   "cell_type": "code",
   "execution_count": 8,
   "id": "0a6efb5b",
   "metadata": {},
   "outputs": [],
   "source": [
    "class Burguers_layer(keras.layers.Layer):\n",
    "    \"\"\"Criando uma camada de rede neural cuja superclasse é a camada\n",
    "    do keras para integrar o algoritmo do WENO com a rede neural\"\"\"\n",
    "    \n",
    "    def __init__(self, t_final, Δx, CFL, fronteira):\n",
    "        \"\"\"\n",
    "        Construtor da classe\n",
    "        --------------------------------------------------------------------------------------\n",
    "        t_final      (float): tamanho máximo da variação temporal\n",
    "        Δx           (float): distância espacial dos pontos na malha utilizada\n",
    "        CFL          (float): constante utilizada para determinar o tamanho da malha temporal\n",
    "        fronteira (function): função que determina o comportamento do algoritmo na fronteira\n",
    "        --------------------------------------------------------------------------------------\n",
    "        \"\"\"\n",
    "        super(Burguers_layer, self).__init__(dtype='float64') # Chamando o inicializador da superclasse\n",
    "        \n",
    "        # Salvando os valores dos parâmetros do construtor no objeto\n",
    "        self.t_final   = tf.cast(t_final, 'float64')\n",
    "        self.Δx        = Δx\n",
    "        self.CFL       = CFL\n",
    "        self.fronteira = fronteira\n",
    "        \n",
    "    def build(self, input_shape):\n",
    "        \"\"\"\n",
    "        Função para compor as camadas que constituem essa camada da rede neural\n",
    "        ------------------------------------------------------------------------\n",
    "        input_shape : não é utilizado por essa função, mas é um argumento obrigatório para camadas do Keras.\n",
    "        ------------------------------------------------------------------------\n",
    "        \"\"\"\n",
    "        self.layers = []\n",
    "        wei_reg = tf.keras.regularizers.L2(0*10**-3)                                                                        # Regularização dos pesos da rede \n",
    "        self.layers.append(tf.keras.layers.ZeroPadding1D(padding=2))                                                        # Camada de padding de zeros em 1 dimensão\n",
    "        self.layers.append(keras.layers.Conv1D(5, 5, activation='elu',     dtype=data_x.dtype, kernel_regularizer=wei_reg)) # Camada de convolução em 1 dimensão\n",
    "        self.layers.append(tf.keras.layers.ZeroPadding1D(padding=2))                                                        # Camada de padding de zeros em 1 dimensão\n",
    "        self.layers.append(keras.layers.Conv1D(3, 5, activation='elu',     dtype=data_x.dtype, kernel_regularizer=wei_reg)) # Camada de convolução em 1 dimensão\n",
    "        self.layers.append(keras.layers.Conv1D(1, 1, activation='sigmoid', dtype=data_x.dtype, kernel_regularizer=wei_reg)) # Camada de convolução em 1 dimensão\n",
    "        \n",
    "    def network_graph(self, x):\n",
    "        \"\"\"\n",
    "        Função utilizado para executar sucessivamente as camadas dessa camada \n",
    "        da rede neural, passando o input de uma para a próxima\n",
    "        ----------------------------------------------------------------------\n",
    "        x (tensor): valor de entrada da rede\n",
    "        ----------------------------------------------------------------------\n",
    "        y (tensor): valor de saída da rede\n",
    "        ----------------------------------------------------------------------\n",
    "        \"\"\"\n",
    "        y = x # Valor de entrada\n",
    "        \n",
    "        # Percorrendo as camadas\n",
    "        for layer in self.layers:\n",
    "            \n",
    "            # Atualizando o valor de entrada para a próxima camada\n",
    "            y = layer(y) \n",
    "            \n",
    "        return y\n",
    "        \n",
    "    def call(self, inpt, mask=None):\n",
    "        \"\"\"\n",
    "        Função utilizada para treino que recebe o input da camada e computa o output\n",
    "        -----------------------------------------------------------------------------\n",
    "        inpt  (tensor): input passado para a camada\n",
    "        mask       (?): não é utilizado por essa função\n",
    "        -----------------------------------------------------------------------------\n",
    "        outpt (tensor): output retorna pela camada\n",
    "        -----------------------------------------------------------------------------\n",
    "        \"\"\"\n",
    "        Λ  = tf.math.reduce_max(tf.abs(inpt)) # Valor utilizado para obter o Δt\n",
    "        Δt = self.Δx*self.CFL/Λ               # Obtendo o valor de Δt a partir de CFL\n",
    "        \n",
    "        # Caso o passo temporal utrapasse o valor de t_final\n",
    "        # então o tamanho do passo se torna o tempo que \n",
    "        # falta para se obter o t_final\n",
    "        Δt = tf.where(Δt > self.t_final, self.t_final, Δt)\n",
    "        \n",
    "        outpt = Graph_Burgers(u=inpt, Δt=Δt, Δx=self.Δx, fronteira=self.fronteira, network=self.network_graph)\n",
    "        return outpt\n",
    "    \n",
    "    def predict(self, inputs, mask=None):\n",
    "        \"\"\"Função que faz previsão a partir de um input\"\"\"\n",
    "        return self(inputs, mask=None) # Chamando o função call (self.predict(inputs, mask) = self.call(inpt, mask))"
   ]
  },
  {
   "cell_type": "code",
   "execution_count": 9,
   "id": "5d8d3704",
   "metadata": {},
   "outputs": [
    {
     "data": {
      "text/plain": [
       "<tensorflow.python.training.tracking.util.CheckpointLoadStatus at 0x1ca93e98d60>"
      ]
     },
     "execution_count": 9,
     "metadata": {},
     "output_type": "execute_result"
    }
   ],
   "source": [
    "# Definindo o input da rede e o otimizador de treino\n",
    "input_x   = keras.layers.Input([100,1], dtype='float64')\n",
    "optimizer = keras.optimizers.Adam(learning_rate=10**-4, beta_1=0.9, beta_2=0.999, clipnorm=1.0)\n",
    "\n",
    "# Criando uma camada de Burgers que integra o WENO à rede neural\n",
    "final_layer = Burguers_layer(t_final=0.01, Δx=0.01, CFL=0.5, fronteira=FronteiraPeriodica)\n",
    "\n",
    "class MES_OF(tf.keras.losses.Loss):\n",
    "    \"\"\"Criando uma função de custo cuja superclasse é a de funções de\n",
    "    custo do keras\"\"\"\n",
    "    \n",
    "    def call(self, y_true, y_pred):\n",
    "        \"\"\"\n",
    "        Função que avalia o custo dado um valor de referência e um valor previsto\n",
    "        --------------------------------------------------------------------------\n",
    "        y_true (tensor): valor de referência\n",
    "        y_pred (tensor): valor predito\n",
    "        --------------------------------------------------------------------------\n",
    "        loss   (tensor): custo associado\n",
    "        --------------------------------------------------------------------------\n",
    "        \"\"\"\n",
    "        y_true = tf.cast(y_true, y_pred.dtype) # Convertendo os tipos para evitar conflitos\n",
    "        y_min  = tf.math.reduce_min(y_true,axis=1,keepdims=True)\n",
    "        y_max  = tf.math.reduce_max(y_true,axis=1,keepdims=True)\n",
    "        \n",
    "        loss = tf.reduce_mean(\n",
    "            tf.math.square(y_pred - y_true), axis=-1) + \\        # Custo por erro na norma L2\n",
    "            tf.reduce_sum(\n",
    "                tf.where(y_pred > y_max, y_pred - y_max,  0) + \\ # Custo por previsão 'muito alta'\n",
    "                tf.where(y_pred < y_min, y_min  - y_pred, 0),    # Custo por previsão 'muito baixa'\n",
    "            axis=-1)\n",
    "        \n",
    "        return \n",
    "\n",
    "# Criando a rede neural\n",
    "Network = keras.Model(input_x, final_layer(input_x))\n",
    "# Configurando a função de perda e o otimizador\n",
    "Network.compile(loss=MES_OF(), optimizer=optimizer, metrics=['mean_absolute_error'])\n",
    "# Carregando os pesos da rede neural treinados\n",
    "Network.load_weights('Modelo artigo')"
   ]
  },
  {
   "cell_type": "code",
   "execution_count": null,
   "id": "c35a7daf",
   "metadata": {},
   "outputs": [],
   "source": [
    "# Treinando a rede neural\n",
    "Network.fit(\n",
    "    train_x                           , # Dados de treino\n",
    "    train_y                           , # Dados de treino\n",
    "    validation_data = (test_x, test_y), # Dados de validação\n",
    "    batch_size      = 1024            , # Tamanho do batch\n",
    "    epochs          = 100             , # Número de epochs\n",
    "    steps_per_epoch = 300             , # Número de batchs por epoch\n",
    "    shuffle         = True              # Aleatorização dos batchs\n",
    ")\n",
    "\n",
    "# Batch: pacote de dados utilizados antes de uma atualização dos pesos da rede\n",
    "# Epoch: rodada de treino da rede neural, em geral percorre todo o conjunto de dados"
   ]
  },
  {
   "cell_type": "code",
   "execution_count": 15,
   "id": "321db3d9",
   "metadata": {},
   "outputs": [],
   "source": [
    "# Salvando os pesos treinados\n",
    "Network.save_weights('Modelo artigo')"
   ]
  },
  {
   "cell_type": "code",
   "execution_count": 10,
   "id": "bd8dc0ee",
   "metadata": {},
   "outputs": [
    {
     "data": {
      "text/plain": [
       "<tensorflow.python.training.tracking.util.CheckpointLoadStatus at 0x24d19608250>"
      ]
     },
     "execution_count": 10,
     "metadata": {},
     "output_type": "execute_result"
    }
   ],
   "source": [
    "# Carregando os pesos treinados\n",
    "Network.load_weights('Modelo artigo')"
   ]
  },
  {
   "cell_type": "code",
   "execution_count": 11,
   "id": "a56a2b3a",
   "metadata": {},
   "outputs": [],
   "source": [
    "# Calculando os erros de previsão utilizando o WENO-Z em uma malha mais fina \n",
    "# como solução de referência e depois calculando o WENO-Z e o WENO-Z com a \n",
    "# modificação da rede neural numa malha mais grossa\n",
    "\n",
    "Δx = 0.04                                  # Distância espacial dos pontos na malha mais grossa utilizada\n",
    "x  = tf.range(-2, 2, Δx, dtype=float_pres) # Gerando a malha de pontos no espaço unidimensional\n",
    "\n",
    "full_U   = test_x[-20000:] # 20000 últimos dados de entrada do conjunto de treino\n",
    "ref_full = test_y[-20000:] # 20000 últimos dados de saída do conjunto de treino\n",
    "\n",
    "CFL    = 0.5  # Constante utilizada para determinar o tamanho da malha temporal\n",
    "Δt_max = 0.01 # Instante de tempo final\n",
    "t      = 0.0  # Instante de tempo inicial\n",
    "\n",
    "# Valor utilizado para obter o Δt\n",
    "Λ = tf.math.reduce_max(tf.abs(full_U), axis=1, keepdims=True)\n",
    "# Obtendo o valor de Δt a partir de CFL\n",
    "Δt = Δx*CFL/Λ\n",
    "# Caso o passo temporal utrapasse o valor de Δt_max então o \n",
    "# tamanho do passo se torna Δt_max\n",
    "Δt = tf.where(Δt > Δt_max, Δt_max, Δt)\n",
    "\n",
    "net_u   = tf.squeeze(Network.predict(full_U))             # Previsão com o WENO-Z modificado pela rede neural\n",
    "debug_u = Burgers(full_U,Δt, Δx, CFL, FronteiraPeriodica) # Previsão com o WENO-Z\n",
    "\n",
    "# Armazenando ambos os erros de previsão\n",
    "error = tf.stack([tf.squeeze(net_u)-tf.squeeze(ref_full),tf.squeeze(tf.squeeze(debug_u)-tf.squeeze(ref_full))],axis=0)"
   ]
  },
  {
   "cell_type": "code",
   "execution_count": 12,
   "id": "0ca05d8a",
   "metadata": {},
   "outputs": [
    {
     "name": "stdout",
     "output_type": "stream",
     "text": [
      "[0.0265176  0.03306171]\n",
      "0.8020639284746661\n"
     ]
    }
   ],
   "source": [
    "# Calculando média dos erros de acordo com a norma L2, L1 ou L-inf\n",
    "\n",
    "# Norma L2:\n",
    "#--------------------------------------------------------------------------------------\n",
    "desv_error = tf.math.reduce_mean(tf.math.reduce_mean(error**2, axis=1)**0.5, axis=1)\n",
    "#--------------------------------------------------------------------------------------\n",
    "\n",
    "# Norma L1:\n",
    "#--------------------------------------------------------------------------------------\n",
    "# desv_error = tf.math.reduce_mean(tf.math.reduce_mean(tf.abs(error), axis=1), axis=1)\n",
    "#--------------------------------------------------------------------------------------\n",
    "\n",
    "# Noma L-inf:\n",
    "#-------------------------------------------------------------------------------------\n",
    "# desv_error = tf.math.reduce_mean(tf.math.reduce_max(tf.abs(error), axis=1), axis=1)\n",
    "#-------------------------------------------------------------------------------------\n",
    "\n",
    "# Erro médio para a rede neural e o WENO-Z (respectivamente)\n",
    "print(desv_error.numpy())\n",
    "# Diferença entre os erros (WENO-Z - rede neural)\n",
    "# print((desv_error[1]-desv_error[0]).numpy())\n",
    "# Razão entre os erros (rede neural/WENO-Z)\n",
    "print((desv_error[0]/desv_error[1]).numpy())"
   ]
  },
  {
   "cell_type": "code",
   "execution_count": 13,
   "id": "da8c0022",
   "metadata": {},
   "outputs": [
    {
     "data": {
      "text/plain": [
       "0.7948787024834919"
      ]
     },
     "execution_count": 13,
     "metadata": {},
     "output_type": "execute_result"
    }
   ],
   "source": [
    "# Calulando o erro na norma L2 para cada entrada\n",
    "desv_error = tf.math.reduce_mean(error**2, axis=1)**0.5\n",
    "\n",
    "# Obtendo os índices dos erros que não são 'extremos'\n",
    "valid = (desv_error[0].numpy()/desv_error[1].numpy()) < 10\n",
    "\n",
    "# Observando a razão dos erros considerando os índices dos não 'extremos'\n",
    "np.mean((desv_error[0].numpy()/desv_error[1].numpy())[valid])"
   ]
  },
  {
   "cell_type": "code",
   "execution_count": 14,
   "id": "701ee353",
   "metadata": {},
   "outputs": [
    {
     "data": {
      "image/png": "[encoded data removed]",
      "text/plain": [
       "<Figure size 432x288 with 1 Axes>"
      ]
     },
     "metadata": {
      "needs_background": "light"
     },
     "output_type": "display_data"
    }
   ],
   "source": [
    "# Histograma da razão (rede neural/WENO-Z)\n",
    "plt.hist((desv_error[0].numpy()/desv_error[1].numpy())[valid])\n",
    "plt.show()"
   ]
  },
  {
   "cell_type": "code",
   "execution_count": 135,
   "id": "8bb29ade",
   "metadata": {},
   "outputs": [],
   "source": [
    "# Valor inicial para func_ref\n",
    "init = tf.zeros([1,5,1], dtype='float64')\n",
    "init = tf.random.normal([1,5,1], 0, 1, dtype='float64')\n",
    "# ???\n",
    "func_ref = tf.Variable(init, trainable=True)\n",
    "# Valor alvo dos indicadores de suavidade locais\n",
    "target   = tf.constant([[[0],[1],[1]]], dtype='float64')\n",
    "# target = target/tf.math.reduce_sum(target)"
   ]
  },
  {
   "cell_type": "code",
   "execution_count": 136,
   "id": "aec0da39",
   "metadata": {},
   "outputs": [],
   "source": [
    "# Não entendi direito o que essa parte do código está fazendo exatemente;\n",
    "# acredito que aqui está sendo definida uma nova função de perda e estão\n",
    "# sendo escolhidos os subestêncis que maximizam algum valor específico de\n",
    "# saída da rede neural\n",
    "\n",
    "learnrate = tf.Variable(10**-2,dtype='float64')\n",
    "\n",
    "@tf.function\n",
    "def step():\n",
    "    with tf.GradientTape(persistent=False) as watch_grad:\n",
    "        pred  = Network.layers[1].network_graph(func_ref)\n",
    "        pred  = pred/tf.math.reduce_sum(pred)\n",
    "        error = (pred-target)**2/2\n",
    "        \n",
    "    grad = watch_grad.gradient(error, func_ref) # Magia do tensorflow para calcular o gradiente\n",
    "    func_ref.assign(func_ref-learnrate*grad)    # Treinando via gradiente descendente\n",
    "    \n",
    "@tf.function\n",
    "def step_weight():\n",
    "    with tf.GradientTape(persistent=False) as watch_grad:\n",
    "        \n",
    "        ɛ = 10.0**(-40)\n",
    "        U = func_ref # Seleciona o subestêncil\n",
    "        \n",
    "        # Calculando o input para a rede neural\n",
    "        # Entrada 1: U_{i+1} - U_{i-1}\n",
    "        # Entrada 2: U_{i+1} - 2*U_{i} + U_{i-1}\n",
    "        U_diff      = tf.concat([U[:,2:]-U[:,:-2],U[:,2:]-2*U[:,1:-1]+U[:,:-2]], axis=2)\n",
    "        # Obtendo os modificadores dos pesos executando a rede neural\n",
    "        beta_weight = tf.transpose(Network.layers[1].network_graph(U_diff), [0,2,1])\n",
    "        \n",
    "        # Calcula os indicadores de suavidade locais\n",
    "        u = tf.transpose(tf.stack([func_ref,func_ref,func_ref], axis=0), [0,1,3,2])\n",
    "\n",
    "        β = tf.math.reduce_sum(u * (u @ A), axis=3)\n",
    "        β = tf.transpose(β, [1,2,0])\n",
    "        β = β*(beta_weight+0.01) # Modificação da rede neural\n",
    "        \n",
    "        # Calcula o indicador de suavidade global\n",
    "        τ = tf.abs(β[:,:,0:1] - β[:,:,2:3])\n",
    "        \n",
    "        # Calcula os pesos do WENO modificado pelo rede neural\n",
    "        α    = (1 + (τ/(β + ɛ))**2) @ B\n",
    "        soma = tf.math.reduce_sum(α, axis=2, keepdims=True)\n",
    "        ω    = α / soma\n",
    "\n",
    "        # Renomeado os pesos\n",
    "        pred = ω\n",
    "        \n",
    "        # Calculando o erro de previsão pela norma L2\n",
    "        error2 = tf.math.reduce_mean((target-pred)**2)\n",
    "        # Calculando o erro de previsão por... (Divergência de Kullback-leibler?)\n",
    "        error  = -tf.math.reduce_sum(target*tf.math.log(pred)+(1-target)*tf.math.log(1-pred))\n",
    "    \n",
    "    grad = watch_grad.gradient(error, func_ref) # Magia do tensorflow para calcular o gradiente\n",
    "    func_ref.assign(func_ref-learnrate*grad)    # Treinando via gradiente descendente\n",
    "    \n",
    "    return error2 # tf.math.reduce_max(tf.abs(grad))\n",
    "\n",
    "@tf.function\n",
    "def step_filter():\n",
    "    with tf.GradientTape(persistent=False) as watch_grad:\n",
    "        \n",
    "        ɛ = 10.0**(-40) # Inútil?\n",
    "        \n",
    "        U      = func_ref\n",
    "        U_diff = tf.concat([U[:,2:]-U[:,:-2],U[:,2:]-2*U[:,1:-1]+U[:,:-2]], axis=2)\n",
    "        obj    = U_diff\n",
    "        \n",
    "        for layer in Network.layers[1].layers[:5]:\n",
    "            obj = layer(obj)\n",
    "            \n",
    "        error = tf.math.reduce_sum((obj-target)**2)\n",
    "\n",
    "    grad = watch_grad.gradient(error, func_ref) # Magia do tensorflow para calcular o gradiente\n",
    "    func_ref.assign(func_ref-learnrate*grad)    # Treinando via gradiente descendente\n",
    "    \n",
    "    return error # tf.math.reduce_max(tf.abs(grad))"
   ]
  },
  {
   "cell_type": "code",
   "execution_count": 137,
   "id": "2999c1e2",
   "metadata": {},
   "outputs": [
    {
     "data": {
      "text/plain": [
       "<tf.Variable 'UnreadVariable' shape=() dtype=float64, numpy=0.1>"
      ]
     },
     "execution_count": 137,
     "metadata": {},
     "output_type": "execute_result"
    }
   ],
   "source": [
    "# Definindo o tamanho do passo de treino\n",
    "learnrate.assign(10**-1)"
   ]
  },
  {
   "cell_type": "code",
   "execution_count": 138,
   "id": "911cf3b8",
   "metadata": {},
   "outputs": [],
   "source": [
    "# 'Treinando' para obter o substêncil que maxima as características desejadas\n",
    "\n",
    "error = 10\n",
    "count = 0\n",
    "while error > 10**-2: # max_grad>10**-4:\n",
    "    count += 1\n",
    "    error  = step_filter()\n",
    "    if count % 1000==0:\n",
    "        # count = 0\n",
    "        print(error.numpy())"
   ]
  },
  {
   "cell_type": "code",
   "execution_count": 139,
   "id": "b5cb9455",
   "metadata": {},
   "outputs": [
    {
     "name": "stdout",
     "output_type": "stream",
     "text": [
      "Rede:  [[[0.006615   0.92993874 0.92972346]]]\n",
      "Beta pre:    [2.41148778 9.81887189 4.21440976]\n",
      "Beta final:  [0.04006687 9.22913808 3.96037972]\n",
      "Alpha:       [9.98641754e-01 7.38731935e-04 6.19514383e-04]\n"
     ]
    }
   ],
   "source": [
    "# Calculando o WENO-Z com a modificação da rede neural utilizando\n",
    "# o subestêncil encontrado\n",
    "\n",
    "ɛ = 10.0**(-40)\n",
    "U = func_ref # Seleciona o subestêncil\n",
    "\n",
    "# Calculando o input para a rede neural\n",
    "# Entrada 1: U_{i+1} - U_{i-1}\n",
    "# Entrada 2: U_{i+1} - 2*U_{i} + U_{i-1}\n",
    "U_diff      = tf.concat([U[:,2:]-U[:,:-2],U[:,2:]-2*U[:,1:-1]+U[:,:-2]], axis=2)\n",
    "# Obtendo os modificadores dos pesos executando a rede neural\n",
    "beta_weight = tf.transpose(Network.layers[1].network_graph(U_diff), [0,2,1])\n",
    "\n",
    "print('Rede: ', beta_weight.numpy()) # Printando o resultado\n",
    "\n",
    "# Calcula os indicadores de suavidade locais\n",
    "u = tf.transpose(tf.stack([func_ref,func_ref,func_ref], axis=0), [0,1,3,2])\n",
    "    \n",
    "β = tf.math.reduce_sum(u * (u @ A), axis=3)\n",
    "β = tf.transpose(β, [1,2,0])\n",
    "print('Beta pre:   ', tf.squeeze(β).numpy()) # Printando o resultado\n",
    "β = β*(beta_weight+0.01)                     # Modificação da rede neural\n",
    "print('Beta final: ', tf.squeeze(β).numpy()) # Printando o resultado\n",
    "\n",
    "# Calcula o indicador de suavidade global\n",
    "τ = tf.abs(β[:,:,0:1] - β[:,:,2:3])\n",
    "\n",
    "# Calcula os pesos do WENO modificado pelo rede neural\n",
    "α    = (1 + (τ/(β + ɛ))**2) @ B\n",
    "soma = tf.math.reduce_sum(α, axis=2, keepdims=True)\n",
    "ω    = α / soma\n",
    "print('Omega:      ',tf.squeeze(ω).numpy()) # Printando o resultado"
   ]
  },
  {
   "cell_type": "code",
   "execution_count": 140,
   "id": "69741925",
   "metadata": {},
   "outputs": [
    {
     "data": {
      "text/plain": [
       "[<matplotlib.lines.Line2D at 0x24e334bdb50>]"
      ]
     },
     "execution_count": 140,
     "metadata": {},
     "output_type": "execute_result"
    },
    {
     "data": {
      "image/png": "[encoded data removed]",
      "text/plain": [
       "<Figure size 432x288 with 1 Axes>"
      ]
     },
     "metadata": {
      "needs_background": "light"
     },
     "output_type": "display_data"
    }
   ],
   "source": [
    "# Plotando o resultado obtido\n",
    "\n",
    "#plt.ylim((np.min(train_x), np.max(train_x)))\n",
    "plt.plot(np.squeeze(func_ref.numpy()),'ro')"
   ]
  },
  {
   "cell_type": "code",
   "execution_count": 48,
   "id": "17647da2",
   "metadata": {},
   "outputs": [],
   "source": [
    "init=tf.constant([[[0],[0],[0],[0],[-1]]],dtype='float64')"
   ]
  },
  {
   "cell_type": "code",
   "execution_count": 49,
   "id": "40144bda",
   "metadata": {},
   "outputs": [
    {
     "ename": "ValueError",
     "evalue": "Input 0 of layer conv1d is incompatible with the layer: expected axis -1 of input shape to have value 2 but received input with shape (1, 9, 1)",
     "output_type": "error",
     "traceback": [
      "\u001b[1;31m---------------------------------------------------------------------------\u001b[0m",
      "\u001b[1;31mValueError\u001b[0m                                Traceback (most recent call last)",
      "\u001b[1;32m<ipython-input-49-8fbd0ff0c8bf>\u001b[0m in \u001b[0;36m<module>\u001b[1;34m\u001b[0m\n\u001b[1;32m----> 1\u001b[1;33m \u001b[0mNetwork\u001b[0m\u001b[1;33m.\u001b[0m\u001b[0mlayers\u001b[0m\u001b[1;33m[\u001b[0m\u001b[1;36m1\u001b[0m\u001b[1;33m]\u001b[0m\u001b[1;33m.\u001b[0m\u001b[0mnetwork_graph\u001b[0m\u001b[1;33m(\u001b[0m\u001b[0minit\u001b[0m\u001b[1;33m)\u001b[0m\u001b[1;33m\u001b[0m\u001b[1;33m\u001b[0m\u001b[0m\n\u001b[0m",
      "\u001b[1;32m<ipython-input-8-60d1c8d9f695>\u001b[0m in \u001b[0;36mnetwork_graph\u001b[1;34m(self, x)\u001b[0m\n\u001b[0;32m     20\u001b[0m         \u001b[0my\u001b[0m\u001b[1;33m=\u001b[0m\u001b[0mx\u001b[0m\u001b[1;33m\u001b[0m\u001b[1;33m\u001b[0m\u001b[0m\n\u001b[0;32m     21\u001b[0m         \u001b[1;32mfor\u001b[0m \u001b[0mlayer\u001b[0m \u001b[1;32min\u001b[0m \u001b[0mself\u001b[0m\u001b[1;33m.\u001b[0m\u001b[0mlayers\u001b[0m\u001b[1;33m:\u001b[0m\u001b[1;33m\u001b[0m\u001b[1;33m\u001b[0m\u001b[0m\n\u001b[1;32m---> 22\u001b[1;33m             \u001b[0my\u001b[0m\u001b[1;33m=\u001b[0m\u001b[0mlayer\u001b[0m\u001b[1;33m(\u001b[0m\u001b[0my\u001b[0m\u001b[1;33m)\u001b[0m\u001b[1;33m\u001b[0m\u001b[1;33m\u001b[0m\u001b[0m\n\u001b[0m\u001b[0;32m     23\u001b[0m         \u001b[1;32mreturn\u001b[0m \u001b[0my\u001b[0m\u001b[1;33m\u001b[0m\u001b[1;33m\u001b[0m\u001b[0m\n\u001b[0;32m     24\u001b[0m \u001b[1;33m\u001b[0m\u001b[0m\n",
      "\u001b[1;32mC:\\ProgramData\\Miniconda3\\lib\\site-packages\\keras\\engine\\base_layer.py\u001b[0m in \u001b[0;36m__call__\u001b[1;34m(self, *args, **kwargs)\u001b[0m\n\u001b[0;32m   1018\u001b[0m         training=training_mode):\n\u001b[0;32m   1019\u001b[0m \u001b[1;33m\u001b[0m\u001b[0m\n\u001b[1;32m-> 1020\u001b[1;33m       \u001b[0minput_spec\u001b[0m\u001b[1;33m.\u001b[0m\u001b[0massert_input_compatibility\u001b[0m\u001b[1;33m(\u001b[0m\u001b[0mself\u001b[0m\u001b[1;33m.\u001b[0m\u001b[0minput_spec\u001b[0m\u001b[1;33m,\u001b[0m \u001b[0minputs\u001b[0m\u001b[1;33m,\u001b[0m \u001b[0mself\u001b[0m\u001b[1;33m.\u001b[0m\u001b[0mname\u001b[0m\u001b[1;33m)\u001b[0m\u001b[1;33m\u001b[0m\u001b[1;33m\u001b[0m\u001b[0m\n\u001b[0m\u001b[0;32m   1021\u001b[0m       \u001b[1;32mif\u001b[0m \u001b[0meager\u001b[0m\u001b[1;33m:\u001b[0m\u001b[1;33m\u001b[0m\u001b[1;33m\u001b[0m\u001b[0m\n\u001b[0;32m   1022\u001b[0m         \u001b[0mcall_fn\u001b[0m \u001b[1;33m=\u001b[0m \u001b[0mself\u001b[0m\u001b[1;33m.\u001b[0m\u001b[0mcall\u001b[0m\u001b[1;33m\u001b[0m\u001b[1;33m\u001b[0m\u001b[0m\n",
      "\u001b[1;32mC:\\ProgramData\\Miniconda3\\lib\\site-packages\\keras\\engine\\input_spec.py\u001b[0m in \u001b[0;36massert_input_compatibility\u001b[1;34m(input_spec, inputs, layer_name)\u001b[0m\n\u001b[0;32m    248\u001b[0m           \u001b[0mvalue\u001b[0m \u001b[1;33m=\u001b[0m \u001b[0mvalue\u001b[0m\u001b[1;33m.\u001b[0m\u001b[0mvalue\u001b[0m\u001b[1;33m\u001b[0m\u001b[1;33m\u001b[0m\u001b[0m\n\u001b[0;32m    249\u001b[0m         \u001b[1;32mif\u001b[0m \u001b[0mvalue\u001b[0m \u001b[1;32mis\u001b[0m \u001b[1;32mnot\u001b[0m \u001b[1;32mNone\u001b[0m \u001b[1;32mand\u001b[0m \u001b[0mshape_as_list\u001b[0m\u001b[1;33m[\u001b[0m\u001b[0mint\u001b[0m\u001b[1;33m(\u001b[0m\u001b[0maxis\u001b[0m\u001b[1;33m)\u001b[0m\u001b[1;33m]\u001b[0m \u001b[1;32mnot\u001b[0m \u001b[1;32min\u001b[0m \u001b[1;33m{\u001b[0m\u001b[0mvalue\u001b[0m\u001b[1;33m,\u001b[0m \u001b[1;32mNone\u001b[0m\u001b[1;33m}\u001b[0m\u001b[1;33m:\u001b[0m\u001b[1;33m\u001b[0m\u001b[1;33m\u001b[0m\u001b[0m\n\u001b[1;32m--> 250\u001b[1;33m           raise ValueError(\n\u001b[0m\u001b[0;32m    251\u001b[0m               \u001b[1;34m'Input '\u001b[0m \u001b[1;33m+\u001b[0m \u001b[0mstr\u001b[0m\u001b[1;33m(\u001b[0m\u001b[0minput_index\u001b[0m\u001b[1;33m)\u001b[0m \u001b[1;33m+\u001b[0m \u001b[1;34m' of layer '\u001b[0m \u001b[1;33m+\u001b[0m \u001b[0mlayer_name\u001b[0m \u001b[1;33m+\u001b[0m \u001b[1;34m' is'\u001b[0m\u001b[1;33m\u001b[0m\u001b[1;33m\u001b[0m\u001b[0m\n\u001b[0;32m    252\u001b[0m               \u001b[1;34m' incompatible with the layer: expected axis '\u001b[0m \u001b[1;33m+\u001b[0m \u001b[0mstr\u001b[0m\u001b[1;33m(\u001b[0m\u001b[0maxis\u001b[0m\u001b[1;33m)\u001b[0m \u001b[1;33m+\u001b[0m\u001b[1;33m\u001b[0m\u001b[1;33m\u001b[0m\u001b[0m\n",
      "\u001b[1;31mValueError\u001b[0m: Input 0 of layer conv1d is incompatible with the layer: expected axis -1 of input shape to have value 2 but received input with shape (1, 9, 1)"
     ]
    }
   ],
   "source": [
    "Network.layers[1].network_graph(init)"
   ]
  },
  {
   "cell_type": "code",
   "execution_count": 27,
   "id": "7c3c45c6",
   "metadata": {},
   "outputs": [
    {
     "data": {
      "image/png": "[encoded data removed]",
      "text/plain": [
       "<Figure size 432x432 with 1 Axes>"
      ]
     },
     "metadata": {},
     "output_type": "display_data"
    },
    {
     "data": {
      "image/png": "[encoded data removed]",
      "text/plain": [
       "<Figure size 432x432 with 1 Axes>"
      ]
     },
     "metadata": {
      "needs_background": "light"
     },
     "output_type": "display_data"
    }
   ],
   "source": [
    "# Visualizando o ajuste do WENO-Z com a modificação da rede neural\n",
    "\n",
    "Δx = 0.04                                  # Distância espacial dos pontos na malha utilizada\n",
    "x  = tf.range(-2, 2, Δx, dtype=float_pres) # Gerando a malha de pontos no espaço unidimensional\n",
    "\n",
    "# Gerando uma condição inicial aleatória\n",
    "#------------------------------------------------------------------------------------------------------------------\n",
    "k1 = tf.random.uniform([1], 0, 20, dtype='int32')   # Amostrando uma frequência aleatória para a função seno\n",
    "k1 = tf.cast(k1, dtype=float_pres)                  # Mudando o tipo do tensor\n",
    "k2 = tf.random.uniform([1], 0, 20, dtype='int32')   # Amostrando uma frequência aleatória para a função seno\n",
    "k2 = tf.cast(k2, dtype=float_pres)                  # Mudando o tipo do tensor\n",
    "a  = tf.random.uniform([1], 0, 1, dtype=float_pres) # Amostrando um peso aleatória para ponderar as funções seno\n",
    "b  = tf.random.uniform([1], 0, 2, dtype=float_pres) # Amostrando um modificador de amplitude aleatório\n",
    "#------------------------------------------------------------------------------------------------------------------\n",
    "\n",
    "# Fixando a condição inicial\n",
    "#-----------------------------------------------\n",
    "# k1 = 1.0 # Frequência para a função seno\n",
    "# k2 = 2.0 # Frequência para a função seno\n",
    "# a  = 0.5 # Peso para ponderar as funções seno\n",
    "# b  = 0.5 # Modificador de amplitude\n",
    "#-----------------------------------------------\n",
    "\n",
    "\n",
    "u1 =     a * tf.expand_dims(tf.math.sin(k1*pi*x),axis=1) # Gerando pontos de acordo com a primeira função seno\n",
    "u2 = (1-a) * tf.expand_dims(tf.math.sin(k2*pi*x),axis=1) # Gerando pontos de acordo com a segunda função seno\n",
    "\n",
    "u = b*(u1+u2)                 # Obtendo a condição inicial a partir das funções senos\n",
    "u = tf.expand_dims(u, axis=0) # Acrescentando uma dimensão\n",
    "\n",
    "CFL = 0.5                          # Constante utilizada para determinar o tamanho da malha temporal\n",
    "Δt  = 0.01                         # Δt entre cada frame de animação\n",
    "T   = tf.range(0.0, 2.0, Δt)       # Frames da animação\n",
    "T   = tf.cast(T, dtype=float_pres) # Mudando o tipo do tensor\n",
    "\n",
    "t = 0.0 # Instante de tempo inicial\n",
    "\n",
    "\n",
    "# Gerando os gráficos a partir de funções do matplotlib\n",
    "\n",
    "fig = plt.figure(1, constrained_layout=True,figsize=(6,6))\n",
    "ax = fig.add_subplot(1,1,1);\n",
    "ax.set_ylim(-2, 2);\n",
    "#ax.set_xlim(0,1);\n",
    "line=ax.plot(x,tf.squeeze(u))\n",
    "hfig = display(fig, display_id=True)\n",
    "Δt_list=tf.zeros([0],dtype=float_pres)\n",
    "\n",
    "\n",
    "while t < T[-1]:\n",
    "    \n",
    "    # Executando o WENO-Z modificado pela rede neural\n",
    "    u = Network.predict(u)\n",
    "    \n",
    "    # Removendo dimensões desnecessárias\n",
    "    squeezed_u=tf.squeeze(u)\n",
    "    \n",
    "    # Avançando no tempo\n",
    "    t += Δt\n",
    "\n",
    "    # Exibindo graficamente os valores obtidos\n",
    "    line[0].set_ydata(squeezed_u.numpy())\n",
    "    fig.canvas.draw()\n",
    "    hfig.update(fig)"
   ]
  },
  {
   "cell_type": "code",
   "execution_count": 142,
   "id": "bf8c5ee0",
   "metadata": {},
   "outputs": [
    {
     "data": {
      "text/plain": [
       "<tensorflow.python.training.tracking.util.CheckpointLoadStatus at 0x24e2c89f160>"
      ]
     },
     "execution_count": 142,
     "metadata": {},
     "output_type": "execute_result"
    }
   ],
   "source": [
    "# Definindo o input da rede e o otimizador de treino\n",
    "input_x   = keras.layers.Input([200,1], dtype='float64')\n",
    "optimizer = keras.optimizers.Adam(learning_rate=10**-4, beta_1=0.9, beta_2=0.999, clipnorm=1.0)\n",
    "\n",
    "# Criando uma camada de Burgers que integra o WENO à rede neural\n",
    "final_layer = Burguers_layer(t_final=0.1, Δx=0.01, CFL=0.5, fronteira=FronteiraPeriodica)\n",
    "\n",
    "class MES_OF(tf.keras.losses.Loss):\n",
    "    \"\"\"Criando uma função de custo cuja superclasse é a de funções de\n",
    "    custo do keras\"\"\"\n",
    "    \n",
    "    def call(self, y_true, y_pred):\n",
    "        \"\"\"\n",
    "        Função que avalia o custo dado um valor de referência e um valor previsto\n",
    "        --------------------------------------------------------------------------\n",
    "        y_true (tensor): valor de referência\n",
    "        y_pred (tensor): valor predito\n",
    "        --------------------------------------------------------------------------\n",
    "        loss   (tensor): custo associado\n",
    "        --------------------------------------------------------------------------\n",
    "        \"\"\"\n",
    "        y_true = tf.cast(y_true, y_pred.dtype)\n",
    "        y_min  = tf.math.reduce_min(y_true, axis=1, keepdims=True)\n",
    "        y_max  = tf.math.reduce_max(y_true, axis=1, keepdims=True)\n",
    "        \n",
    "        loss = tf.reduce_mean(\n",
    "            tf.math.square(y_pred - y_true), axis=-1) + \\        # Custo por erro na norma L2\n",
    "            tf.reduce_sum(\n",
    "                tf.where(y_pred > y_max, y_pred - y_max,  0) + \\ # Custo por previsão 'muito alta'\n",
    "                tf.where(y_pred < y_min, y_min  - y_pred, 0),    # Custo por previsão 'muito baixa'\n",
    "            axis=-1)\n",
    "        \n",
    "        return loss\n",
    "\n",
    "# Criando a rede neural\n",
    "Network = keras.Model(input_x, final_layer(input_x))\n",
    "# Configurando a função de perda e o otimizador\n",
    "Network.compile(loss=MES_OF(), optimizer=optimizer, metrics=['mean_absolute_error'])\n",
    "# Carregando os pesos da rede neural treinados\n",
    "Network.load_weights('Modelo artigo')"
   ]
  },
  {
   "cell_type": "code",
   "execution_count": 1,
   "id": "09e9b925",
   "metadata": {},
   "outputs": [
    {
     "ename": "NameError",
     "evalue": "name 'tf' is not defined",
     "output_type": "error",
     "traceback": [
      "\u001b[1;31m---------------------------------------------------------------------------\u001b[0m",
      "\u001b[1;31mNameError\u001b[0m                                 Traceback (most recent call last)",
      "\u001b[1;32m<ipython-input-1-739aa6f3f31c>\u001b[0m in \u001b[0;36m<module>\u001b[1;34m\u001b[0m\n\u001b[0;32m      1\u001b[0m \u001b[0mf_test\u001b[0m\u001b[1;33m=\u001b[0m\u001b[1;32mlambda\u001b[0m \u001b[0mx\u001b[0m\u001b[1;33m:\u001b[0m \u001b[1;33m-\u001b[0m\u001b[0mtf\u001b[0m\u001b[1;33m.\u001b[0m\u001b[0mmath\u001b[0m\u001b[1;33m.\u001b[0m\u001b[0msin\u001b[0m\u001b[1;33m(\u001b[0m\u001b[0mnp\u001b[0m\u001b[1;33m.\u001b[0m\u001b[0mpi\u001b[0m\u001b[1;33m*\u001b[0m\u001b[0mx\u001b[0m\u001b[1;33m)\u001b[0m\u001b[1;33m-\u001b[0m\u001b[1;36m0.5\u001b[0m\u001b[1;33m*\u001b[0m\u001b[0mx\u001b[0m\u001b[1;33m**\u001b[0m\u001b[1;36m3\u001b[0m\u001b[1;33m+\u001b[0m\u001b[0mtf\u001b[0m\u001b[1;33m.\u001b[0m\u001b[0mwhere\u001b[0m\u001b[1;33m(\u001b[0m\u001b[0mx\u001b[0m\u001b[1;33m<\u001b[0m\u001b[1;36m0\u001b[0m\u001b[1;33m,\u001b[0m\u001b[0mtf\u001b[0m\u001b[1;33m.\u001b[0m\u001b[0mconstant\u001b[0m\u001b[1;33m(\u001b[0m\u001b[1;36m0.0\u001b[0m\u001b[1;33m,\u001b[0m\u001b[0mdtype\u001b[0m\u001b[1;33m=\u001b[0m\u001b[0mfloat_pres\u001b[0m\u001b[1;33m)\u001b[0m\u001b[1;33m,\u001b[0m\u001b[0mtf\u001b[0m\u001b[1;33m.\u001b[0m\u001b[0mconstant\u001b[0m\u001b[1;33m(\u001b[0m\u001b[1;36m1.0\u001b[0m\u001b[1;33m,\u001b[0m\u001b[0mdtype\u001b[0m\u001b[1;33m=\u001b[0m\u001b[0mfloat_pres\u001b[0m\u001b[1;33m)\u001b[0m\u001b[1;33m)\u001b[0m\u001b[1;33m\u001b[0m\u001b[1;33m\u001b[0m\u001b[0m\n\u001b[0;32m      2\u001b[0m \u001b[1;33m\u001b[0m\u001b[0m\n\u001b[1;32m----> 3\u001b[1;33m k1=tf.cast(\n\u001b[0m\u001b[0;32m      4\u001b[0m     \u001b[0mtf\u001b[0m\u001b[1;33m.\u001b[0m\u001b[0mrandom\u001b[0m\u001b[1;33m.\u001b[0m\u001b[0muniform\u001b[0m\u001b[1;33m(\u001b[0m\u001b[1;33m[\u001b[0m\u001b[1;36m1\u001b[0m\u001b[1;33m]\u001b[0m\u001b[1;33m,\u001b[0m\u001b[1;36m0\u001b[0m\u001b[1;33m,\u001b[0m\u001b[1;36m20\u001b[0m\u001b[1;33m,\u001b[0m\u001b[0mdtype\u001b[0m\u001b[1;33m=\u001b[0m\u001b[1;34m'int32'\u001b[0m\u001b[1;33m)\u001b[0m\u001b[1;33m,\u001b[0m\u001b[1;33m\u001b[0m\u001b[1;33m\u001b[0m\u001b[0m\n\u001b[0;32m      5\u001b[0m     \u001b[0mdtype\u001b[0m\u001b[1;33m=\u001b[0m\u001b[0mfloat_pres\u001b[0m\u001b[1;33m\u001b[0m\u001b[1;33m\u001b[0m\u001b[0m\n",
      "\u001b[1;31mNameError\u001b[0m: name 'tf' is not defined"
     ]
    }
   ],
   "source": [
    "# Visualizando os resultados\n",
    "\n",
    "Δx = 0.01                                  # Distância espacial dos pontos na malha utilizada\n",
    "x  = tf.range(-1, 1, Δx, dtype=float_pres) # Gerando a malha de pontos no espaço unidimensional\n",
    "\n",
    "\n",
    "# Condição inicial do artigo do WENO-Z\n",
    "#-------------------------------------------------------------------------------------------\n",
    "# Função definida no artigo\n",
    "f_test = lambda x: -tf.math.sin(np.pi*x) - 0.5 * x**3 + \\\n",
    "    tf.where(x < 0, tf.constant(0.0, dtype=float_pres), tf.constant(1.0, dtype=float_pres))\n",
    "\n",
    "u = f_test(x) # Obtendo a condição inicial a partir de f_test\n",
    "#-------------------------------------------------------------------------------------------\n",
    "\n",
    "# Gerando uma condição inicial aleatória\n",
    "#------------------------------------------------------------------------------------------------------------------\n",
    "# k1 = tf.random.uniform([1], 0, 20, dtype='int32')   # Amostrando uma frequência aleatória para a função seno\n",
    "# k1 = tf.cast(k1, dtype=float_pres)                  # Mudando o tipo do tensor\n",
    "# k2 = tf.random.uniform([1], 0, 20, dtype='int32')   # Amostrando uma frequência aleatória para a função seno\n",
    "# k2 = tf.cast(k2, dtype=float_pres)                  # Mudando o tipo do tensor\n",
    "# a  = tf.random.uniform([1], 0, 1, dtype=float_pres) # Amostrando um peso aleatória para ponderar as funções seno\n",
    "# b  = tf.random.uniform([1], 0, 2, dtype=float_pres) # Amostrando um modificador de amplitude aleatório\n",
    "\n",
    "# # Função que gera pontos de acordo com a primeira função seno\n",
    "# u1 =     a * tf.expand_dims(tf.math.sin(k1*pi*x), axis=1)\n",
    "# # Função que gera pontos de acordo com a segunda função seno\n",
    "# u2 = (1-a) * tf.expand_dims(tf.math.sin(k2*pi*x), axis=1)\n",
    "# # Obtendo a condição inicial a partir das funções senos\n",
    "# u = b*(u1+u2)\n",
    "#------------------------------------------------------------------------------------------------------------------\n",
    "\n",
    "# Condição inicial fixada\n",
    "#----------------------------------------------------------------------\n",
    "# k1 = 5    # Frequência para a função seno\n",
    "# k2 = 2    # Frequência para a função seno\n",
    "# a  = 0.25 # Peso para ponderar as funções seno\n",
    "# b  = 0.75 # Modificador de amplitude\n",
    "\n",
    "# # Função que gera pontos de acordo com a primeira função seno\n",
    "# u1 = lambda x:     a * tf.expand_dims(tf.math.sin(k1*pi*x), axis=1)\n",
    "# # Função que gera pontos de acordo com a segunda função seno\n",
    "# u2 = lambda x: (1-a) * tf.expand_dims(tf.math.sin(k2*pi*x), axis=1)\n",
    "# # Obtendo a condição inicial a partir das funções senos\n",
    "# u  = b*(u1(x)+u2(x))\n",
    "#-----------------------------------------------------------------------\n",
    "\n",
    "u = tf.expand_dims(u, axis=0) # Acrescentando uma dimensão\n",
    "\n",
    "CFL = 0.5                          # Constante utilizada para determinar o tamanho da malha temporal\n",
    "Δt  = 0.1                          # Δt entre cada frame de animação\n",
    "T   = tf.range(0.0, 2.0, Δt)       # Frames da animação\n",
    "T   = tf.cast(T, dtype=float_pres) # Mudando o tipo do tensor\n",
    "\n",
    "t = 0.0 # Instante de tempo inicial\n",
    "\n",
    "\n",
    "# Gerando os gráficos a partir de funções do matplotlib\n",
    "\n",
    "fig = plt.figure(1, constrained_layout=True, figsize=(6,6))\n",
    "ax  = fig.add_subplot(1, 1, 1)\n",
    "ax.set_ylim(-2, 2)\n",
    "#ax.set_xlim(0,1)\n",
    "line = ax.plot(x, tf.squeeze(u))\n",
    "hfig = display(fig, display_id=True)\n",
    "Δt_list = tf.zeros([0], dtype=float_pres)\n",
    "\n",
    "\n",
    "while t < T[-1]:\n",
    "    \n",
    "    # Executando o WENO-Z modificado pela rede neural\n",
    "    u = Network.predict(u)\n",
    "    \n",
    "    # Removendo dimensões desnecessárias\n",
    "    squeezed_u=tf.squeeze(u)\n",
    "    \n",
    "    # Avançando no tempo\n",
    "    t += Δt\n",
    "\n",
    "    # Exibindo graficamente os valores obtidos\n",
    "    line[0].set_ydata(squeezed_u.numpy())\n",
    "    fig.canvas.draw()\n",
    "    hfig.update(fig)"
   ]
  },
  {
   "cell_type": "code",
   "execution_count": null,
   "id": "b07b6835",
   "metadata": {},
   "outputs": [],
   "source": []
  }
 ],
 "metadata": {
  "kernelspec": {
   "display_name": "Python 3",
   "language": "python",
   "name": "python3"
  },
  "language_info": {
   "codemirror_mode": {
    "name": "ipython",
    "version": 3
   },
   "file_extension": ".py",
   "mimetype": "text/x-python",
   "name": "python",
   "nbconvert_exporter": "python",
   "pygments_lexer": "ipython3",
   "version": "3.8.10"
  },
  "widgets": {
   "application/vnd.jupyter.widget-state+json": {
    "state": {},
    "version_major": 2,
    "version_minor": 0
   }
  }
 },
 "nbformat": 4,
 "nbformat_minor": 5
}
