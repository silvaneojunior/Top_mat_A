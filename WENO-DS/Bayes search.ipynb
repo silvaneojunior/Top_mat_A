{
 "cells": [
  {
   "cell_type": "code",
   "execution_count": 1,
   "metadata": {},
   "outputs": [],
   "source": [
    "from aux_train import *\n",
    "from aux_plot import *\n",
    "import plotly.graph_objects as go\n",
    "from IPython.display import clear_output"
   ]
  },
  {
   "cell_type": "code",
   "execution_count": 2,
   "metadata": {},
   "outputs": [],
   "source": [
    "import wandb\n",
    "from wandb.keras import WandbCallback"
   ]
  },
  {
   "cell_type": "code",
   "execution_count": 3,
   "metadata": {},
   "outputs": [
    {
     "name": "stderr",
     "output_type": "stream",
     "text": [
      "Failed to detect the name of this notebook, you can set it manually with the WANDB_NOTEBOOK_NAME environment variable to enable code saving.\n",
      "\u001b[34m\u001b[1mwandb\u001b[0m: \u001b[33mWARNING\u001b[0m Malformed sweep config detected! This may cause your sweep to behave in unexpected ways.\n",
      "\u001b[34m\u001b[1mwandb\u001b[0m: \u001b[33mWARNING\u001b[0m To avoid this, please fix the sweep config schema violations below:\n",
      "\u001b[34m\u001b[1mwandb\u001b[0m: \u001b[33mWARNING\u001b[0m   Violation 1. learning_rate uses log_uniform, where min/max specify base-e exponents. Use log_uniform_values to specify limit values.\n"
     ]
    },
    {
     "name": "stdout",
     "output_type": "stream",
     "text": [
      "Create sweep with ID: ebdmyfkw\n",
      "Sweep URL: https://wandb.ai/silvaneojunior/WENO-DS/sweeps/ebdmyfkw\n"
     ]
    }
   ],
   "source": [
    "# config = wandb.config\n",
    "# config.equation='tranp_equation'\n",
    "# config.WENO='WENO-Z-DS'\n",
    "\n",
    "# config.poly_grade=7\n",
    "# config.seno_ampli=3 \n",
    "# config.gauss_var=3\n",
    "# config.seizures=3\n",
    "\n",
    "sweep_config = {\n",
    "    'method': 'bayes',\n",
    "    'metric': {\n",
    "      'name': 'validation_error',\n",
    "      'goal': 'minimize'   \n",
    "    },\n",
    "    'parameters': {\n",
    "        'poly_grade': {\n",
    "            'values': list(range(8))\n",
    "        },\n",
    "        'seno_ampli': {\n",
    "            'values': list(range(4))\n",
    "        },\n",
    "        'gauss_var': {\n",
    "            'values': list(range(4))\n",
    "\n",
    "        },\n",
    "        'seizures': {\n",
    "            'values': list(range(4))\n",
    "        },\n",
    "        'optimizer': {\n",
    "            'values': ['Adam','RMSprop','Adamax','amsgrad','Adadelta','Ftrl']\n",
    "\n",
    "        },\n",
    "        'batch_size': {\n",
    "            'values': [2**i for i in range(2,6)]\n",
    "        },\n",
    "        'learning_rate': {\n",
    "            'distribution': 'log_uniform',\n",
    "            'min': np.log(1e-5).tolist(),\n",
    "            'max': np.log(1e-0).tolist()\n",
    "        },\n",
    "        'clip_norm': {\n",
    "            'value': True\n",
    "        }\n",
    "    }\n",
    "}\n",
    "\n",
    "sweep_id = wandb.sweep(sweep_config, project='WENO-DS', entity='silvaneojunior')\n",
    "#sweep_id = 'silvaneojunior/LSTM Poemas/iuazw8n3'"
   ]
  },
  {
   "cell_type": "code",
   "execution_count": 4,
   "metadata": {},
   "outputs": [],
   "source": [
    "default_equation='transp_equation'\n",
    "default_WENO='WENO-Z-DS'\n",
    "\n",
    "default_poly_grade=7\n",
    "default_seno_ampli=3 \n",
    "default_gauss_var=3\n",
    "default_seizures=3"
   ]
  },
  {
   "cell_type": "code",
   "execution_count": 5,
   "metadata": {},
   "outputs": [
    {
     "name": "stdout",
     "output_type": "stream",
     "text": [
      "'Δx': 0.015625\n",
      "'Δt': 0.004\n",
      "'CFL': 0.5\n",
      "'fronteira': <function FronteiraPeriodica at 0x0000015D86B7F550>\n",
      "'equation': <class 'aux_equation.transp_equation'>\n",
      "'seed': None\n",
      "\n"
     ]
    }
   ],
   "source": [
    "data_temporal,data_spatial,data_base,Δx,Δt,CFL,fronteira,equation=load_dataset(f'datasets/equation={default_equation} polys grau={default_poly_grade} seno_ampli={default_seno_ampli} gauss_var={default_gauss_var} seizure={default_seizures}')\n",
    "\n",
    "indice = np.arange(data_temporal.shape[0])\n",
    "np.random.shuffle(indice)\n",
    "data_x = data_temporal.astype('float64')[indice]\n",
    "data_y = data_temporal.astype('float64')[indice]\n",
    "\n",
    "train_x = data_x[:,0:-1]\n",
    "train_y = data_y[:,1:]"
   ]
  },
  {
   "cell_type": "code",
   "execution_count": 6,
   "metadata": {},
   "outputs": [],
   "source": [
    "Sim_Z=simulation(API_Numpy,equation,WENO_Z)\n",
    "Δx_sol=0.01\n",
    "Δt_sol=Δx_sol*CFL\n",
    "t_final=0.2\n",
    "total_time=int(t_final/Δt_sol)"
   ]
  },
  {
   "cell_type": "code",
   "execution_count": 7,
   "metadata": {},
   "outputs": [
    {
     "name": "stdout",
     "output_type": "stream",
     "text": [
      "0.0055000000000000005\r"
     ]
    }
   ],
   "source": [
    "f_test=f_test_1\n",
    "x,fx=create_f_points(f_test=f_test,Δx=Δx_sol)\n",
    "x_dense,fx_dense=create_f_points(f_test=f_test,Δx=Δx_sol/10)\n",
    "\n",
    "fxs_list=[fx]\n",
    "fxs_dense_list=[fx_dense]\n",
    "for i in range(total_time):\n",
    "    print(i,end='\\r')\n",
    "    fxs_dense_list.append(Sim_Z.Sim(fxs_dense_list[-1],Δt_sol,Δx_sol/10,CFL,FronteiraPeriodica))\n",
    "    fxs_list.append(Sim_Z.Sim(fxs_list[-1],Δt_sol,Δx_sol,CFL,FronteiraPeriodica))\n",
    "    "
   ]
  },
  {
   "cell_type": "code",
   "execution_count": 8,
   "metadata": {},
   "outputs": [],
   "source": [
    "fxs=np.stack(fxs_list,axis=0)#[50:]\n",
    "fxs_dense=np.stack(fxs_dense_list,axis=0)#[50:]\n",
    "total_time=fxs.shape[0]-1"
   ]
  },
  {
   "cell_type": "code",
   "execution_count": 9,
   "metadata": {},
   "outputs": [],
   "source": [
    "# plot_all_registry=[]\n",
    "# for i in range(total_time):\n",
    "#     fig=go.Figure()\n",
    "#     fig.add_trace(go.Scatter(x=x_dense, y=fxs_dense[i+1,0],\n",
    "#                         mode='lines',\n",
    "#                         name='Sol. ref.'))\n",
    "#     fig.add_trace(go.Scatter(x=x, y=fxs[i+1,0],\n",
    "#                         mode='lines',\n",
    "#                         name='WENO-Z'))\n",
    "#     plot_all_registry.append(fig)"
   ]
  },
  {
   "cell_type": "code",
   "execution_count": 10,
   "metadata": {},
   "outputs": [],
   "source": [
    "def train():\n",
    "    clear_output()\n",
    "    wandb.init()\n",
    "    config = wandb.config\n",
    "\n",
    "    # default_config = wandb.config\n",
    "    # default_config.equation='tranp_equation'\n",
    "    # default_config.WENO='WENO-Z-DS'\n",
    "\n",
    "    # default_config.poly_grade=7\n",
    "    # default_config.seno_ampli=3 \n",
    "    # default_config.gauss_var=3\n",
    "    # default_config.seizures=3\n",
    "\n",
    "    # config = default_config\n",
    "\n",
    "    run_name = wandb.run.name\n",
    "\n",
    "    equation_name=default_equation\n",
    "    poly_grade=config.poly_grade\n",
    "    seno_ampli=config.seno_ampli\n",
    "    gauss_var=config.gauss_var\n",
    "    seizures=config.seizures\n",
    "\n",
    "    \n",
    "    optimizer=config.optimizer\n",
    "    batch_size=config.batch_size\n",
    "    learning_rate=config.learning_rate\n",
    "    clip_norm=config.clip_norm\n",
    "\n",
    "    print(f'equation_name={equation_name}')\n",
    "    print(f'poly_grade={poly_grade}')\n",
    "    print(f'seno_ampli={seno_ampli}')\n",
    "    print(f'gauss_var={gauss_var}')\n",
    "    print(f'seizures={seizures}')\n",
    "    print(f'optimizer={optimizer}')\n",
    "    print(f'batch_size={batch_size}')\n",
    "    print(f'learning_rate={learning_rate}')\n",
    "    print(f'clip_norm={clip_norm}')\n",
    "\n",
    "    data_temporal,data_spatial,data_base,Δx,Δt,CFL,fronteira,equation=load_dataset(f'datasets/equation={equation_name} polys grau={poly_grade} seno_ampli={seno_ampli} gauss_var={gauss_var} seizure={seizures}')\n",
    "\n",
    "    indice = np.arange(data_temporal.shape[0])\n",
    "    np.random.shuffle(indice)\n",
    "    data_x = data_temporal.astype('float64')[indice]\n",
    "    data_y = data_temporal.astype('float64')[indice]\n",
    "\n",
    "    train_x = data_x[:,0:-1]\n",
    "    train_y = data_y[:,1:]\n",
    "\n",
    "    Sim_layer = WENO_temporal_layer(equation,WENO_Z,Δx=Δx,Δt=Δt,fronteira=fronteira,regul_weight=0,ativ_func=tf.nn.sigmoid,p=2,conv_size=5)\n",
    "\n",
    "    input_x   = keras.layers.Input(train_x.shape[1:], dtype='float64')\n",
    "    if optimizer=='Adam':\n",
    "        optimizer = keras.optimizers.Adam(learning_rate=learning_rate, clipnorm=clip_norm)\n",
    "    elif optimizer=='RMSprop':\n",
    "        optimizer = keras.optimizers.RMSprop(learning_rate=learning_rate, clipnorm=clip_norm)\n",
    "    elif optimizer=='Adamax':\n",
    "        optimizer = keras.optimizers.Adamax(learning_rate=learning_rate, clipnorm=clip_norm)\n",
    "    elif optimizer=='amsgrad':\n",
    "        optimizer = keras.optimizers.Adam(learning_rate=learning_rate, amsgrad=True, clipnorm=clip_norm)\n",
    "    elif optimizer=='Adadelta':\n",
    "        optimizer = keras.optimizers.Adadelta(learning_rate=learning_rate, clipnorm=clip_norm)\n",
    "    elif optimizer=='Ftrl':\n",
    "        optimizer = keras.optimizers.Ftrl(learning_rate=learning_rate, clipnorm=clip_norm)\n",
    "    \n",
    "    output_x=input_x\n",
    "\n",
    "    #layers_norm=keras.layers.BatchNormalization()\n",
    "    #output_x=layers_norm(output_x)\n",
    "    output_x=keras.layers.TimeDistributed(Sim_layer)(output_x)\n",
    "\n",
    "    # Criando a rede neural\n",
    "    Network = keras.Model(input_x, output_x)\n",
    "    Network.compile(loss=MES_relative(Δx/2), optimizer=optimizer, metrics=['mean_absolute_error'])\n",
    "\n",
    "    Network.fit(\n",
    "                train_x                           , # Dados de treino\n",
    "                train_y                           , # Dados de treino\n",
    "                batch_size      = batch_size               , # Tamanho do batch\n",
    "                epochs          = 70              , # Número de epochs\n",
    "                steps_per_epoch = 10              , # Número de epochs\n",
    "                shuffle         = True            ,  # Aleatorização dos batchs\n",
    "                callbacks=[WandbCallback(training_data=(train_x,train_y),log_weights=True,log_gradients=True)]\n",
    "            )\n",
    "        #wandb.log({\"loss\": loss, \"epoch\": epoch})\n",
    "\n",
    "    if not(os.path.isdir(f'Modelos treinados/{sweep_id}/')):\n",
    "        os.mkdir(f'Modelos treinados/{sweep_id}/')\n",
    "    save_model(Network,Sim_layer.config,f'Modelos treinados/{sweep_id}/{run_name}')\n",
    "\n",
    "    prev_fx_list=[fxs[0]]\n",
    "    count=0\n",
    "    for i in range(total_time):\n",
    "        if(i%10==0):\n",
    "            print(count,end='\\r')\n",
    "        prev_fx_list.append(Sim_layer.Sim_step(prev_fx_list[-1],Δt_sol, Δx_sol, FronteiraPeriodica))\n",
    "        # plot_all_registry[i].add_trace(go.Scatter(x=x, y=prev_fx_list[-1][0],\n",
    "        #                 mode='lines',\n",
    "        #                 name=run_name))\n",
    "\n",
    "        # fig=go.Figure()\n",
    "        # fig.add_trace(go.Scatter(x=x_dense, y=fxs_dense[i+1,0],\n",
    "        #                     mode='lines',\n",
    "        #                     name='Sol. ref.'))\n",
    "        # fig.add_trace(go.Scatter(x=x, y=fxs[i+1,0],\n",
    "        #                     mode='lines',\n",
    "        #                     name='WENO-Z'))        \n",
    "        # fig.add_trace(go.Scatter(x=x, y=prev_fx_list[-1][0],\n",
    "        #                 mode='lines',\n",
    "        #                 name=run_name))\n",
    "\n",
    "        # wandb.log({'previsão_fx':plot_all_registry[i],'previsão_fx_solo':fig},step=i)\n",
    "        count+=Δt_sol\n",
    "\n",
    "    prev_fx=np.stack(prev_fx_list[1:],axis=0)\n",
    "    ref_fx=fxs_dense[1:prev_fx.shape[0]+1,:,range(0,fxs_dense.shape[-1],10)]\n",
    "\n",
    "    #prev_fx=Sim_layer.Sim(fx,2*(3), 0.01, CFL, FronteiraPeriodica)\n",
    "    erro=2*tf.math.reduce_mean(tf.abs(prev_fx-ref_fx))/Δx_sol\n",
    "    \n",
    "    wandb.log({'validation_error':erro})\n",
    "\n",
    "#wandb.agent(sweep_id, train)"
   ]
  },
  {
   "cell_type": "code",
   "execution_count": 11,
   "metadata": {},
   "outputs": [
    {
     "name": "stderr",
     "output_type": "stream",
     "text": [
      "Failed to detect the name of this notebook, you can set it manually with the WANDB_NOTEBOOK_NAME environment variable to enable code saving.\n"
     ]
    },
    {
     "data": {
      "text/html": [
       "wandb version 0.12.16 is available!  To upgrade, please run:\n",
       " $ pip install wandb --upgrade"
      ],
      "text/plain": [
       "<IPython.core.display.HTML object>"
      ]
     },
     "metadata": {},
     "output_type": "display_data"
    },
    {
     "data": {
      "text/html": [
       "Tracking run with wandb version 0.12.15"
      ],
      "text/plain": [
       "<IPython.core.display.HTML object>"
      ]
     },
     "metadata": {},
     "output_type": "display_data"
    },
    {
     "data": {
      "text/html": [
       "Run data is saved locally in <code>c:\\Jupyter\\Edge detection\\WENO-DS organizado\\wandb\\run-20220503_182537-whckg59h</code>"
      ],
      "text/plain": [
       "<IPython.core.display.HTML object>"
      ]
     },
     "metadata": {},
     "output_type": "display_data"
    },
    {
     "data": {
      "text/html": [
       "Syncing run <strong><a href=\"https://wandb.ai/silvaneojunior/WENO-DS/runs/whckg59h\" target=\"_blank\">copper-sweep-50</a></strong> to <a href=\"https://wandb.ai/silvaneojunior/WENO-DS\" target=\"_blank\">Weights & Biases</a> (<a href=\"https://wandb.me/run\" target=\"_blank\">docs</a>)<br/>Sweep page:  <a href=\"https://wandb.ai/silvaneojunior/WENO-DS/sweeps/ebdmyfkw\" target=\"_blank\">https://wandb.ai/silvaneojunior/WENO-DS/sweeps/ebdmyfkw</a>"
      ],
      "text/plain": [
       "<IPython.core.display.HTML object>"
      ]
     },
     "metadata": {},
     "output_type": "display_data"
    },
    {
     "name": "stdout",
     "output_type": "stream",
     "text": [
      "equation_name=transp_equation\n",
      "poly_grade=7\n",
      "seno_ampli=1\n",
      "gauss_var=2\n",
      "seizures=2\n",
      "optimizer=Ftrl\n",
      "batch_size=4\n",
      "learning_rate=0.7886664797459279\n",
      "clip_norm=True\n",
      "'Δx': 0.015625\n",
      "'Δt': 0.004\n",
      "'CFL': 0.5\n",
      "'fronteira': <function FronteiraPeriodica at 0x0000015D86B7F550>\n",
      "'equation': <class 'aux_equation.transp_equation'>\n",
      "'seed': None\n",
      "\n",
      "Epoch 1/70\n",
      "10/10 [==============================] - 60s 5s/step - loss: 0.0177 - mean_absolute_error: 0.0012 - _timestamp: 1651613231.0000 - _runtime: 93.0000\n",
      "Epoch 2/70\n",
      "10/10 [==============================] - 30s 3s/step - loss: 0.0142 - mean_absolute_error: 0.0011 - _timestamp: 1651613261.0000 - _runtime: 123.0000\n",
      "Epoch 3/70\n",
      "10/10 [==============================] - 30s 3s/step - loss: 0.0197 - mean_absolute_error: 0.0013 - _timestamp: 1651613291.0000 - _runtime: 153.0000\n",
      "Epoch 4/70\n",
      "10/10 [==============================] - 31s 3s/step - loss: 0.0135 - mean_absolute_error: 9.8269e-04 - _timestamp: 1651613322.0000 - _runtime: 184.0000\n",
      "Epoch 5/70\n",
      "10/10 [==============================] - 30s 3s/step - loss: 0.0144 - mean_absolute_error: 0.0011 - _timestamp: 1651613352.0000 - _runtime: 214.0000\n",
      "Epoch 6/70\n",
      "10/10 [==============================] - 32s 3s/step - loss: 0.0179 - mean_absolute_error: 0.0012 - _timestamp: 1651613384.0000 - _runtime: 246.0000\n",
      "Epoch 7/70\n",
      "10/10 [==============================] - 31s 3s/step - loss: 0.0159 - mean_absolute_error: 0.0011 - _timestamp: 1651613415.0000 - _runtime: 277.0000\n",
      "Epoch 8/70\n",
      "10/10 [==============================] - 32s 3s/step - loss: 0.0179 - mean_absolute_error: 0.0012 - _timestamp: 1651613447.0000 - _runtime: 309.0000\n",
      "Epoch 9/70\n",
      "10/10 [==============================] - 31s 3s/step - loss: 0.0172 - mean_absolute_error: 0.0011 - _timestamp: 1651613478.0000 - _runtime: 340.0000\n",
      "Epoch 10/70\n",
      "10/10 [==============================] - 28s 3s/step - loss: 0.0119 - mean_absolute_error: 9.9210e-04 - _timestamp: 1651613506.0000 - _runtime: 368.0000\n",
      "Epoch 11/70\n",
      "10/10 [==============================] - 27s 3s/step - loss: 0.0171 - mean_absolute_error: 0.0011 - _timestamp: 1651613533.0000 - _runtime: 395.0000\n",
      "Epoch 12/70\n",
      "10/10 [==============================] - 29s 3s/step - loss: 0.0186 - mean_absolute_error: 0.0012 - _timestamp: 1651613561.0000 - _runtime: 423.0000\n",
      "Epoch 13/70\n",
      "10/10 [==============================] - 29s 3s/step - loss: 0.0146 - mean_absolute_error: 0.0011 - _timestamp: 1651613591.0000 - _runtime: 453.0000\n",
      "Epoch 14/70\n",
      "10/10 [==============================] - 28s 3s/step - loss: 0.0225 - mean_absolute_error: 0.0014 - _timestamp: 1651613619.0000 - _runtime: 481.0000\n",
      "Epoch 15/70\n",
      "10/10 [==============================] - 29s 3s/step - loss: 0.0150 - mean_absolute_error: 0.0011 - _timestamp: 1651613647.0000 - _runtime: 509.0000\n",
      "Epoch 16/70\n",
      "10/10 [==============================] - 29s 3s/step - loss: 0.0139 - mean_absolute_error: 0.0011 - _timestamp: 1651613676.0000 - _runtime: 538.0000\n",
      "Epoch 17/70\n",
      "10/10 [==============================] - 28s 3s/step - loss: 0.0132 - mean_absolute_error: 0.0010 - _timestamp: 1651613704.0000 - _runtime: 566.0000\n",
      "Epoch 18/70\n",
      "10/10 [==============================] - 28s 3s/step - loss: 0.0151 - mean_absolute_error: 0.0011 - _timestamp: 1651613732.0000 - _runtime: 594.0000\n",
      "Epoch 19/70\n",
      "10/10 [==============================] - 30s 3s/step - loss: 0.0155 - mean_absolute_error: 0.0012 - _timestamp: 1651613762.0000 - _runtime: 624.0000\n",
      "Epoch 20/70\n",
      "10/10 [==============================] - 29s 3s/step - loss: 0.0189 - mean_absolute_error: 0.0012 - _timestamp: 1651613791.0000 - _runtime: 653.0000\n",
      "Epoch 21/70\n",
      "10/10 [==============================] - 28s 3s/step - loss: 0.0142 - mean_absolute_error: 9.8607e-04 - _timestamp: 1651613819.0000 - _runtime: 681.0000\n",
      "Epoch 22/70\n",
      "10/10 [==============================] - 30s 3s/step - loss: 0.0158 - mean_absolute_error: 0.0012 - _timestamp: 1651613849.0000 - _runtime: 711.0000\n",
      "Epoch 23/70\n",
      "10/10 [==============================] - ETA: 0s - loss: 0.0154 - mean_absolute_error: 0.0010"
     ]
    },
    {
     "data": {
      "text/html": [
       "Waiting for W&B process to finish... <strong style=\"color:red\">(failed 1).</strong> Press Ctrl-C to abort syncing."
      ],
      "text/plain": [
       "<IPython.core.display.HTML object>"
      ]
     },
     "metadata": {},
     "output_type": "display_data"
    },
    {
     "data": {
      "application/vnd.jupyter.widget-view+json": {
       "model_id": "ad926b2afad548ddb4b39302188d5ff4",
       "version_major": 2,
       "version_minor": 0
      },
      "text/plain": [
       "VBox(children=(Label(value='0.001 MB of 0.001 MB uploaded (0.000 MB deduped)\\r'), FloatProgress(value=1.0, max…"
      ]
     },
     "metadata": {},
     "output_type": "display_data"
    },
    {
     "data": {
      "text/html": [
       "<style>\n",
       "    table.wandb td:nth-child(1) { padding: 0 10px; text-align: right }\n",
       "    .wandb-row { display: flex; flex-direction: row; flex-wrap: wrap; width: 100% }\n",
       "    .wandb-col { display: flex; flex-direction: column; flex-basis: 100%; flex: 1; padding: 10px; }\n",
       "    </style>\n",
       "<div class=\"wandb-row\"><div class=\"wandb-col\"><h3>Run history:</h3><br/><table class=\"wandb\"><tr><td>epoch</td><td>▁▁▂▂▂▃▃▃▄▄▄▅▅▅▆▆▆▇▇▇██</td></tr><tr><td>loss</td><td>▅▃▆▂▃▅▄▅▄▁▄▅▃█▃▂▂▃▃▆▃▄</td></tr><tr><td>mean_absolute_error</td><td>▅▂▆▁▄▄▃▆▄▁▃▄▂█▃▃▁▃▄▅▁▄</td></tr></table><br/></div><div class=\"wandb-col\"><h3>Run summary:</h3><br/><table class=\"wandb\"><tr><td>epoch</td><td>21</td></tr><tr><td>loss</td><td>0.01585</td></tr><tr><td>mean_absolute_error</td><td>0.00116</td></tr></table><br/></div></div>"
      ],
      "text/plain": [
       "<IPython.core.display.HTML object>"
      ]
     },
     "metadata": {},
     "output_type": "display_data"
    },
    {
     "data": {
      "text/html": [
       "Synced <strong style=\"color:#cdcd00\">copper-sweep-50</strong>: <a href=\"https://wandb.ai/silvaneojunior/WENO-DS/runs/whckg59h\" target=\"_blank\">https://wandb.ai/silvaneojunior/WENO-DS/runs/whckg59h</a><br/>Synced 6 W&B file(s), 1 media file(s), 0 artifact file(s) and 0 other file(s)"
      ],
      "text/plain": [
       "<IPython.core.display.HTML object>"
      ]
     },
     "metadata": {},
     "output_type": "display_data"
    },
    {
     "data": {
      "text/html": [
       "Find logs at: <code>.\\wandb\\run-20220503_182537-whckg59h\\logs</code>"
      ],
      "text/plain": [
       "<IPython.core.display.HTML object>"
      ]
     },
     "metadata": {},
     "output_type": "display_data"
    }
   ],
   "source": [
    "wandb.agent(sweep_id, train)"
   ]
  }
 ],
 "metadata": {
  "interpreter": {
   "hash": "ecf5722fdaf1897a315d257d89d94520bfcaa453217d5becf09b39e73618b0de"
  },
  "kernelspec": {
   "display_name": "Python 3.8.10 ('base')",
   "language": "python",
   "name": "python3"
  },
  "language_info": {
   "codemirror_mode": {
    "name": "ipython",
    "version": 3
   },
   "file_extension": ".py",
   "mimetype": "text/x-python",
   "name": "python",
   "nbconvert_exporter": "python",
   "pygments_lexer": "ipython3",
   "version": "3.8.10"
  },
  "orig_nbformat": 4
 },
 "nbformat": 4,
 "nbformat_minor": 2
}
