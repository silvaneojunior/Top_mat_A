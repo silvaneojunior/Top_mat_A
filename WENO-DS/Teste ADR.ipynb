{
 "cells": [
  {
   "cell_type": "code",
   "execution_count": 1,
   "id": "a7411a27",
   "metadata": {},
   "outputs": [],
   "source": [
    "# Importando os módulos que serão utilizados\n",
    "\n",
    "import tensorflow as tf\n",
    "import numpy as np\n",
    "import tensorflow.keras as keras\n",
    "import matplotlib.pyplot as plt\n",
    "import time\n",
    "import dill\n",
    "import pandas as pd\n",
    "import plotly.express as ply_exp\n",
    "import plotly.graph_objects as ply_go\n",
    "from plotly.subplots import make_subplots\n",
    "\n",
    "# Configurando o acesso do tensorflow aos processadores do computador\n",
    "# no caso, está sendo selecionada a primeira placa de vídeo listada\n",
    "\n",
    "# gpus = tf.config.experimental.list_physical_devices('GPU') # Listando as placas de vídeo\n",
    "# tf.config.experimental.set_memory_growth(gpus[0], True)    # Selecionando a primeira GPU e configurando\n",
    "\n",
    "# Importando os módulos contendo as funções criadas no projeto\n",
    "\n",
    "from aux_func_V3 import *\n",
    "import API_Numpy\n",
    "import API_TensorFlow"
   ]
  },
  {
   "cell_type": "code",
   "execution_count": 2,
   "id": "41e308fa-a546-4380-804c-08eba93d3894",
   "metadata": {},
   "outputs": [],
   "source": [
    "# ---------------------------------------------------------------------------------------------------------------------------------------------------------------\n",
    "# nomes = [\n",
    "#     \"WENO-JS\"     , \"WENO-Z\"      , \"WENO-Z+\"     , \n",
    "#     \"WENO-JS (M)\" , \"WENO-Z (M)\"  , \"WENO-Z+ (M)\" , \n",
    "#     \"WENO-JS (MS)\", \"WENO-Z (MS)\" , \"WENO-Z+ (MS)\", \n",
    "#     \"WENO-JS (BI)\", \"WENO-Z (BI)\" , \"WENO-Z+ (BI)\",\n",
    "#     \"WENO-ZC (M)\" , \"WENO-ZC (MS)\", \"WENO-ZC (BI)\",\n",
    "#     \"Linear\"\n",
    "# ]\n",
    "\n",
    "# API      = API_Numpy\n",
    "# equation = transp_equation\n",
    "\n",
    "# WENOs = {}\n",
    "# WENOs[nomes[ 0]] = simulation(API, equation, WENO_JS, mapping =     null_mapping, map_function = None).Sim\n",
    "# WENOs[nomes[ 1]] = simulation(API, equation, WENO_Z , mapping =     null_mapping, map_function = None).Sim\n",
    "# WENOs[nomes[ 2]] = simulation(API, equation, WENO_Zp, mapping =     null_mapping, map_function = None).Sim\n",
    "# WENOs[nomes[ 3]] = simulation(API, equation, WENO_JS, mapping =     post_mapping, map_function = Henrick_mapping).Sim\n",
    "# WENOs[nomes[ 4]] = simulation(API, equation, WENO_Z , mapping =     post_mapping, map_function = Henrick_mapping).Sim\n",
    "# WENOs[nomes[ 5]] = simulation(API, equation, WENO_Zp, mapping =     post_mapping, map_function = Henrick_mapping).Sim\n",
    "# WENOs[nomes[ 6]] = simulation(API, equation, WENO_JS, mapping =      pre_mapping, map_function = Hong_mapping).Sim\n",
    "# WENOs[nomes[ 7]] = simulation(API, equation, WENO_Z , mapping =      pre_mapping, map_function = Hong_mapping).Sim\n",
    "# WENOs[nomes[ 8]] = simulation(API, equation, WENO_Zp, mapping =      pre_mapping, map_function = Hong_mapping).Sim\n",
    "# WENOs[nomes[ 9]] = simulation(API, equation, WENO_JS, mapping =      pre_mapping, map_function = BI_mapping).Sim\n",
    "# WENOs[nomes[10]] = simulation(API, equation, WENO_Z , mapping =      pre_mapping, map_function = BI_mapping).Sim\n",
    "# WENOs[nomes[11]] = simulation(API, equation, WENO_Zp, mapping =      pre_mapping, map_function = BI_mapping).Sim\n",
    "# WENOs[nomes[12]] = simulation(API, equation, WENO_ZC, mapping = post_inv_mapping, map_function = Henrick_mapping).Sim\n",
    "# WENOs[nomes[13]] = simulation(API, equation, WENO_ZC, mapping =  pre_inv_mapping, map_function = Hong_mapping).Sim\n",
    "# WENOs[nomes[14]] = simulation(API, equation, WENO_ZC, mapping =  pre_inv_mapping, map_function = BI_mapping).Sim\n",
    "\n",
    "# WENOs[nomes[15]] = simulation(API, equation, WENO_linear, mapping = null_mapping, map_function = None).Sim\n",
    "# ---------------------------------------------------------------------------------------------------------------------------------------------------------------\n",
    "\n",
    "# ---------------------------------------------------------------------------------------------------------------------------------------------------------------\n",
    "nomes = [\"WENO-Z\", \"WENO-Z+\", \"WENO-ZD+\", \"WENO-ZD\", \"WENO-D\", \"WENO-JS\"]\n",
    "\n",
    "cores = {}\n",
    "cores[nomes[0]] = \"#4262C1\" # WENO-Z   : Azul\n",
    "cores[nomes[1]] = \"#C23C52\" # WENO-Z+  : Vermelho\n",
    "cores[nomes[2]] = \"#57933B\" # WENO-ZD+ : Verde\n",
    "cores[nomes[3]] = \"#C2881D\" # WENO-ZD  : Dourado\n",
    "cores[nomes[4]] = \"#A23CB1\" # WENO-D   : Roxo\n",
    "cores[nomes[5]] = \"#72C5D6\" # WENO-JS  : Ciano\n",
    "\n",
    "API      = API_Numpy\n",
    "equation = transp_equation\n",
    "γ        = 1.4\n",
    "\n",
    "WENOs = {}\n",
    "WENOs[nomes[0]] = simulation(API, equation, WENO_Z_scheme    , γ, mapping=null_mapping, map_function=lambda x:x, network=None, p=2, ε=ε_default).Sim\n",
    "WENOs[nomes[1]] = simulation(API, equation, WENO_Zp_scheme   , γ, mapping=null_mapping, map_function=lambda x:x, network=None, p=2, ε=ε_default).Sim\n",
    "WENOs[nomes[2]] = simulation(API, equation, WENO_ZDp_4_scheme, γ, mapping=null_mapping, map_function=lambda x:x, network=None, p=2, ε=ε_default).Sim\n",
    "WENOs[nomes[3]] = simulation(API, equation, WENO_ZD_2_scheme , γ, mapping=null_mapping, map_function=lambda x:x, network=None, p=2, ε=ε_default).Sim\n",
    "WENOs[nomes[4]] = simulation(API, equation, WENO_D_scheme    , γ, mapping=null_mapping, map_function=lambda x:x, network=None, p=2, ε=ε_default).Sim\n",
    "WENOs[nomes[5]] = simulation(API, equation, WENO_JS_scheme   , γ, mapping=null_mapping, map_function=lambda x:x, network=None, p=2, ε=ε_default).Sim\n",
    "\n",
    "nomes = [\"WENO-Z\", \"WENO-Z+\", \"WENO-ZD\", \"WENO-ZD+\"]\n",
    "# ---------------------------------------------------------------------------------------------------------------------------------------------------------------\n"
   ]
  },
  {
   "cell_type": "code",
   "execution_count": 3,
   "id": "25d9ddea",
   "metadata": {},
   "outputs": [],
   "source": [
    "def teste_ADR(N, phi):\n",
    "    \n",
    "    f = lambda x, phi: np.exp(1j*x*phi)\n",
    "    x = np.arange(N, dtype = dtype)\n",
    "    \n",
    "    return f(x, phi)"
   ]
  },
  {
   "cell_type": "code",
   "execution_count": 4,
   "id": "2a55abd0-8773-4fdf-ade9-e4d041ca88d9",
   "metadata": {},
   "outputs": [],
   "source": [
    "# Δx = 0.01\n",
    "\n",
    "# f_test = lambda x: np.where(x > 0.5, 0.0, 1.0)*np.where(x < -0.5, 0.0, 1.0)\n",
    "\n",
    "# def f_test(x):\n",
    "#     z = tf.constant(-0.7, dtype=float_pres)\n",
    "#     δ = tf.constant(0.005, dtype=float_pres)\n",
    "#     β = tf.math.log(tf.constant(2.0, dtype=float_pres))/(36.0*(δ**2.0))\n",
    "#     a = tf.constant(0.5, dtype=float_pres)\n",
    "#     α = tf.constant(10, dtype=float_pres)\n",
    "    \n",
    "#     def G(x, β, z):\n",
    "#         return tf.math.exp(-β*(x-z)**2)\n",
    "    \n",
    "#     def F(x, α, a):\n",
    "#         return tf.math.sqrt(tf.math.maximum(1-(α**2)*((x-a)**2),0))\n",
    "    \n",
    "#     f1 = (G(x, β, z-δ) + 4*G(x, β, z) + G(x, β, z+δ))/6 # x in [-0.8, -0.6]\n",
    "#     f2 = 1                                              # x in [-0.4, -0.2]\n",
    "#     f3 = 1-tf.math.abs(10*(x-0.1))                      # x in [ 0.0,  0.2]\n",
    "#     f4 = (F(x, α, a-δ) + 4*F(x, α, a) + F(x, α, a+δ))/6 # x in [ 0.4,  0.6]\n",
    "#     f5 = 0.1                                            # otherwise\n",
    "    \n",
    "#     condition = tf.math.logical_and(\n",
    "#         tf.math.greater_equal(x, -0.8),\n",
    "#         tf.math.less_equal(x, -0.6)\n",
    "#     )\n",
    "#     f1 = f1*tf.cast(tf.where(condition, 1.0, 0.0), dtype=float_pres)\n",
    "    \n",
    "#     condition = tf.math.logical_and(\n",
    "#         tf.math.greater_equal(x, -0.4),\n",
    "#         tf.math.less_equal(x, -0.2)\n",
    "#     )\n",
    "#     f2 = f2*tf.cast(tf.where(condition, 1.0, 0.0), dtype=float_pres)\n",
    "    \n",
    "#     condition = tf.math.logical_and(\n",
    "#         tf.math.greater_equal(x, 0.0),\n",
    "#         tf.math.less_equal(x, 0.2)\n",
    "#     )\n",
    "#     f3 = f3*tf.cast(tf.where(condition, 1.0, 0.0), dtype=float_pres)\n",
    "    \n",
    "#     condition = tf.math.logical_and(\n",
    "#         tf.math.greater_equal(x, 0.4),\n",
    "#         tf.math.less_equal(x, 0.6)\n",
    "#     )\n",
    "#     f4 = f4*tf.cast(tf.where(condition, 1.0, 0.0), dtype=float_pres)\n",
    "    \n",
    "#     f = f1 + f2 + f3 + f4 + f5\n",
    "    \n",
    "#     return f\n",
    "\n",
    "# plt.plot(f_test(tf.range(-1, 1, Δx, dtype=float_pres)))"
   ]
  },
  {
   "cell_type": "code",
   "execution_count": 5,
   "id": "9ee968d0-148c-40d4-9788-da9ec80e7a34",
   "metadata": {},
   "outputs": [
    {
     "name": "stdout",
     "output_type": "stream",
     "text": [
      "WENO-Z\n",
      "WENO-Z+\n",
      "WENO-ZD\n",
      "WENO-ZD+\n"
     ]
    }
   ],
   "source": [
    "N   = 100 #400\n",
    "Δx  = 1/N\n",
    "τ   = 10**(-10)\n",
    "CFL = 0.5\n",
    "\n",
    "fronteira = FronteiraPeriodica\n",
    "\n",
    "# formas = np.asarray(f_test(np.arange(-1, 1, 2/N))).astype(\"complex64\")\n",
    "# formas = formas\n",
    "\n",
    "ADR  = {}\n",
    "wave = {}\n",
    "for nome in nomes:\n",
    "    \n",
    "    Phi = np.zeros(int(N/2)+1, dtype=\"complex64\")\n",
    "    for n in np.arange(int(N/2)+1):\n",
    "        \n",
    "        phi    = 2*np.pi*n/N\n",
    "        u      = teste_ADR(N, phi) #*formas\n",
    "        u_hat  = WENOs[nome](u, τ, Δx, CFL, fronteira)\n",
    "        v      = np.exp(-1j*np.arange(N)*phi) #/formas\n",
    "        v      = np.matmul(u_hat, v)/N\n",
    "        \n",
    "        Phi[n] = 1j*(Δx/τ)*np.log(v)\n",
    "\n",
    "    ADR[nome]  = Phi\n",
    "    wave[nome] = u_hat\n",
    "    print(nome)"
   ]
  },
  {
   "cell_type": "code",
   "execution_count": null,
   "id": "aad6c083-b658-47a1-8deb-89bd3c7a9288",
   "metadata": {},
   "outputs": [],
   "source": [
    "# Caso linear analítico\n",
    "\n",
    "# x_linear = 2*np.pi*np.arange(int(N/2)+1)/N\n",
    "# y_linear = np.zeros([len(x_linear)], dtype=\"complex64\")\n",
    "# for i in np.arange(len(y_linear)):\n",
    "#     y_linear[i] = -1j*np.dot(np.asarray([-1, 9, -45, 0, 45, -9, 1]), np.exp(1j*np.asarray([-3, -2, -1, 0, 1, 2, 3])*x_linear[i]))/60\n",
    "    "
   ]
  },
  {
   "cell_type": "code",
   "execution_count": 14,
   "id": "5376c0a9-71ea-431d-8a98-5fec54fd7102",
   "metadata": {},
   "outputs": [
    {
     "data": {
      "application/vnd.plotly.v1+json": {
       "config": {
        "plotlyServerURL": "https://plot.ly"
       },
       "data": [
        {
         "legendgroup": "Reference",
         "line": {
          "color": "#666666",
          "width": 3
         },
         "mode": "lines",
         "name": "Reference",
         "showlegend": false,
         "type": "scatter",
         "x": [
          0,
          0.06283185307179587,
          0.12566370614359174,
          0.18849555921538758,
          0.25132741228718347,
          0.3141592653589793,
          0.37699111843077515,
          0.43982297150257105,
          0.5026548245743669,
          0.5654866776461628,
          0.6283185307179586,
          0.6911503837897545,
          0.7539822368615503,
          0.8168140899333463,
          0.8796459430051421,
          0.9424777960769378,
          1.0053096491487339,
          1.0681415022205298,
          1.1309733552923256,
          1.1938052083641213,
          1.2566370614359172,
          1.3194689145077132,
          1.382300767579509,
          1.4451326206513047,
          1.5079644737231006,
          1.5707963267948966,
          1.6336281798666925,
          1.6964600329384882,
          1.7592918860102842,
          1.8221237390820801,
          1.8849555921538756,
          1.9477874452256716,
          2.0106192982974678,
          2.0734511513692637,
          2.1362830044410597,
          2.199114857512855,
          2.261946710584651,
          2.324778563656447,
          2.3876104167282426,
          2.4504422698000385,
          2.5132741228718345,
          2.57610597594363,
          2.6389378290154264,
          2.701769682087222,
          2.764601535159018,
          2.827433388230814,
          2.8902652413026093,
          2.9530970943744057,
          3.015928947446201,
          3.078760800517997,
          3.141592653589793
         ],
         "xaxis": "x",
         "y": [
          0,
          0.06283185307179587,
          0.12566370614359174,
          0.18849555921538758,
          0.25132741228718347,
          0.3141592653589793,
          0.37699111843077515,
          0.43982297150257105,
          0.5026548245743669,
          0.5654866776461628,
          0.6283185307179586,
          0.6911503837897545,
          0.7539822368615503,
          0.8168140899333463,
          0.8796459430051421,
          0.9424777960769378,
          1.0053096491487339,
          1.0681415022205298,
          1.1309733552923256,
          1.1938052083641213,
          1.2566370614359172,
          1.3194689145077132,
          1.382300767579509,
          1.4451326206513047,
          1.5079644737231006,
          1.5707963267948966,
          1.6336281798666925,
          1.6964600329384882,
          1.7592918860102842,
          1.8221237390820801,
          1.8849555921538756,
          1.9477874452256716,
          2.0106192982974678,
          2.0734511513692637,
          2.1362830044410597,
          2.199114857512855,
          2.261946710584651,
          2.324778563656447,
          2.3876104167282426,
          2.4504422698000385,
          2.5132741228718345,
          2.57610597594363,
          2.6389378290154264,
          2.701769682087222,
          2.764601535159018,
          2.827433388230814,
          2.8902652413026093,
          2.9530970943744057,
          3.015928947446201,
          3.078760800517997,
          3.141592653589793
         ],
         "yaxis": "y"
        },
        {
         "legendgroup": "WENO-Z",
         "line": {
          "color": "#4262C1",
          "width": 3
         },
         "mode": "lines",
         "name": "WENO-Z",
         "showlegend": false,
         "type": "scatter",
         "x": [
          0,
          0.06283185307179587,
          0.12566370614359174,
          0.18849555921538758,
          0.25132741228718347,
          0.3141592653589793,
          0.37699111843077515,
          0.43982297150257105,
          0.5026548245743669,
          0.5654866776461628,
          0.6283185307179586,
          0.6911503837897545,
          0.7539822368615503,
          0.8168140899333463,
          0.8796459430051421,
          0.9424777960769378,
          1.0053096491487339,
          1.0681415022205298,
          1.1309733552923256,
          1.1938052083641213,
          1.2566370614359172,
          1.3194689145077132,
          1.382300767579509,
          1.4451326206513047,
          1.5079644737231006,
          1.5707963267948966,
          1.6336281798666925,
          1.6964600329384882,
          1.7592918860102842,
          1.8221237390820801,
          1.8849555921538756,
          1.9477874452256716,
          2.0106192982974678,
          2.0734511513692637,
          2.1362830044410597,
          2.199114857512855,
          2.261946710584651,
          2.324778563656447,
          2.3876104167282426,
          2.4504422698000385,
          2.5132741228718345,
          2.57610597594363,
          2.6389378290154264,
          2.701769682087222,
          2.764601535159018,
          2.827433388230814,
          2.8902652413026093,
          2.9530970943744057,
          3.015928947446201,
          3.078760800517997,
          3.141592653589793
         ],
         "xaxis": "x",
         "y": [
          0,
          0.06283185631036758,
          0.12566369771957397,
          0.18849550187587738,
          0.2513269782066345,
          0.3141571581363678,
          0.3769836127758026,
          0.43980106711387634,
          0.5025997161865234,
          0.5653625726699829,
          0.6280627846717834,
          0.6906600594520569,
          0.7530964016914368,
          0.8152924180030823,
          0.8771421313285828,
          0.9385091066360474,
          0.9992215633392334,
          1.0590686798095703,
          1.1177968978881836,
          1.1751079559326172,
          1.230656385421753,
          1.2840496301651,
          1.334849238395691,
          1.3825725317001343,
          1.4266972541809082,
          1.4666666984558105,
          1.5018970966339111,
          1.5317864418029785,
          1.555724024772644,
          1.5731018781661987,
          1.5833275318145752,
          1.5858361721038818,
          1.5801048278808594,
          1.565665364265442,
          1.5421178340911865,
          1.5091429948806763,
          1.4665144681930542,
          1.414108395576477,
          1.351912498474121,
          1.2800323963165283,
          1.1986967325210571,
          1.108258843421936,
          1.009196400642395,
          0.9021090269088745,
          0.7877118587493896,
          0.6668282747268677,
          0.5403791666030884,
          0.4093702435493469,
          0.2748776376247406,
          0.13803179562091827,
          1.0097419586828951e-22
         ],
         "yaxis": "y"
        },
        {
         "legendgroup": "WENO-Z+",
         "line": {
          "color": "#C23C52",
          "width": 3
         },
         "mode": "lines",
         "name": "WENO-Z+",
         "showlegend": false,
         "type": "scatter",
         "x": [
          0,
          0.06283185307179587,
          0.12566370614359174,
          0.18849555921538758,
          0.25132741228718347,
          0.3141592653589793,
          0.37699111843077515,
          0.43982297150257105,
          0.5026548245743669,
          0.5654866776461628,
          0.6283185307179586,
          0.6911503837897545,
          0.7539822368615503,
          0.8168140899333463,
          0.8796459430051421,
          0.9424777960769378,
          1.0053096491487339,
          1.0681415022205298,
          1.1309733552923256,
          1.1938052083641213,
          1.2566370614359172,
          1.3194689145077132,
          1.382300767579509,
          1.4451326206513047,
          1.5079644737231006,
          1.5707963267948966,
          1.6336281798666925,
          1.6964600329384882,
          1.7592918860102842,
          1.8221237390820801,
          1.8849555921538756,
          1.9477874452256716,
          2.0106192982974678,
          2.0734511513692637,
          2.1362830044410597,
          2.199114857512855,
          2.261946710584651,
          2.324778563656447,
          2.3876104167282426,
          2.4504422698000385,
          2.5132741228718345,
          2.57610597594363,
          2.6389378290154264,
          2.701769682087222,
          2.764601535159018,
          2.827433388230814,
          2.8902652413026093,
          2.9530970943744057,
          3.015928947446201,
          3.078760800517997,
          3.141592653589793
         ],
         "xaxis": "x",
         "y": [
          0,
          0.06283185631036758,
          0.12566371262073517,
          0.1884956657886505,
          0.25132811069488525,
          0.31416231393814087,
          0.37700098752975464,
          0.4398486316204071,
          0.5027114748954773,
          0.5655962824821472,
          0.6285081505775452,
          0.6914470791816711,
          0.754403293132782,
          0.8173514604568481,
          0.8802440762519836,
          0.9430046677589417,
          1.005520224571228,
          1.0676343441009521,
          1.1291404962539673,
          1.1897764205932617,
          1.249219536781311,
          1.307084083557129,
          1.3629199266433716,
          1.4162132740020752,
          1.4663898944854736,
          1.5128204822540283,
          1.5548282861709595,
          1.591698408126831,
          1.622691035270691,
          1.647053837776184,
          1.6640387773513794,
          1.6729178428649902,
          1.6730015277862549,
          1.6636561155319214,
          1.6443222761154175,
          1.6145316362380981,
          1.5739235877990723,
          1.5222595930099487,
          1.459436058998108,
          1.3854936361312866,
          1.300625205039978,
          1.2051796913146973,
          1.09966242313385,
          0.9847328066825867,
          0.8611978888511658,
          0.7300027012825012,
          0.5922174453735352,
          0.44902148842811584,
          0.3016851544380188,
          0.15154865384101868,
          0
         ],
         "yaxis": "y"
        },
        {
         "legendgroup": "WENO-ZD",
         "line": {
          "color": "#C2881D",
          "dash": "dash",
          "width": 3
         },
         "mode": "lines",
         "name": "WENO-ZD",
         "showlegend": false,
         "type": "scatter",
         "x": [
          0,
          0.06283185307179587,
          0.12566370614359174,
          0.18849555921538758,
          0.25132741228718347,
          0.3141592653589793,
          0.37699111843077515,
          0.43982297150257105,
          0.5026548245743669,
          0.5654866776461628,
          0.6283185307179586,
          0.6911503837897545,
          0.7539822368615503,
          0.8168140899333463,
          0.8796459430051421,
          0.9424777960769378,
          1.0053096491487339,
          1.0681415022205298,
          1.1309733552923256,
          1.1938052083641213,
          1.2566370614359172,
          1.3194689145077132,
          1.382300767579509,
          1.4451326206513047,
          1.5079644737231006,
          1.5707963267948966,
          1.6336281798666925,
          1.6964600329384882,
          1.7592918860102842,
          1.8221237390820801,
          1.8849555921538756,
          1.9477874452256716,
          2.0106192982974678,
          2.0734511513692637,
          2.1362830044410597,
          2.199114857512855,
          2.261946710584651,
          2.324778563656447,
          2.3876104167282426,
          2.4504422698000385,
          2.5132741228718345,
          2.57610597594363,
          2.6389378290154264,
          2.701769682087222,
          2.764601535159018,
          2.827433388230814,
          2.8902652413026093,
          2.9530970943744057,
          3.015928947446201,
          3.078760800517997,
          3.141592653589793
         ],
         "xaxis": "x",
         "y": [
          0,
          0.06283185631036758,
          0.12566369771957397,
          0.18849550187587738,
          0.2513269782066345,
          0.3141571581363678,
          0.3769836127758026,
          0.43980106711387634,
          0.5025997161865234,
          0.5653625726699829,
          0.6280627846717834,
          0.6906600594520569,
          0.7530964016914368,
          0.8152924180030823,
          0.8771421313285828,
          0.9385091066360474,
          0.9992215633392334,
          1.0590686798095703,
          1.1177968978881836,
          1.1751079559326172,
          1.230656385421753,
          1.2840496301651,
          1.334849238395691,
          1.3825725317001343,
          1.4266972541809082,
          1.4666666984558105,
          1.5018970966339111,
          1.5317864418029785,
          1.555724024772644,
          1.5731018781661987,
          1.5833275318145752,
          1.5858361721038818,
          1.5801048278808594,
          1.565665364265442,
          1.5421178340911865,
          1.5091429948806763,
          1.4665144681930542,
          1.414108395576477,
          1.351912498474121,
          1.2800323963165283,
          1.1986967325210571,
          1.108258843421936,
          1.009196400642395,
          0.9021090269088745,
          0.7877118587493896,
          0.6668282747268677,
          0.5403791666030884,
          0.4093702435493469,
          0.2748776376247406,
          0.13803179562091827,
          1.0097419586828951e-22
         ],
         "yaxis": "y"
        },
        {
         "legendgroup": "WENO-ZD+",
         "line": {
          "color": "#57933B",
          "width": 3
         },
         "mode": "lines",
         "name": "WENO-ZD+",
         "showlegend": false,
         "type": "scatter",
         "x": [
          0,
          0.06283185307179587,
          0.12566370614359174,
          0.18849555921538758,
          0.25132741228718347,
          0.3141592653589793,
          0.37699111843077515,
          0.43982297150257105,
          0.5026548245743669,
          0.5654866776461628,
          0.6283185307179586,
          0.6911503837897545,
          0.7539822368615503,
          0.8168140899333463,
          0.8796459430051421,
          0.9424777960769378,
          1.0053096491487339,
          1.0681415022205298,
          1.1309733552923256,
          1.1938052083641213,
          1.2566370614359172,
          1.3194689145077132,
          1.382300767579509,
          1.4451326206513047,
          1.5079644737231006,
          1.5707963267948966,
          1.6336281798666925,
          1.6964600329384882,
          1.7592918860102842,
          1.8221237390820801,
          1.8849555921538756,
          1.9477874452256716,
          2.0106192982974678,
          2.0734511513692637,
          2.1362830044410597,
          2.199114857512855,
          2.261946710584651,
          2.324778563656447,
          2.3876104167282426,
          2.4504422698000385,
          2.5132741228718345,
          2.57610597594363,
          2.6389378290154264,
          2.701769682087222,
          2.764601535159018,
          2.827433388230814,
          2.8902652413026093,
          2.9530970943744057,
          3.015928947446201,
          3.078760800517997,
          3.141592653589793
         ],
         "xaxis": "x",
         "y": [
          0,
          0.06283185631036758,
          0.12566371262073517,
          0.18849557638168335,
          0.2513275444507599,
          0.31415969133377075,
          0.3769921660423279,
          0.4398243725299835,
          0.5026541948318481,
          0.5654760003089905,
          0.6282780170440674,
          0.6910387873649597,
          0.7537227272987366,
          0.816275417804718,
          0.8786178231239319,
          0.9406406879425049,
          1.0021990537643433,
          1.0631065368652344,
          1.1231307983398438,
          1.181989073753357,
          1.239345908164978,
          1.2948112487792969,
          1.3479403257369995,
          1.39823579788208,
          1.4451509714126587,
          1.4880952835083008,
          1.5264419317245483,
          1.5595369338989258,
          1.5867102146148682,
          1.607287883758545,
          1.6206059455871582,
          1.6260254383087158,
          1.6229469776153564,
          1.6108272075653076,
          1.58919358253479,
          1.5576591491699219,
          1.5159364938735962,
          1.463849663734436,
          1.4013452529907227,
          1.3284995555877686,
          1.2455252408981323,
          1.1527739763259888,
          1.0507365465164185,
          0.940039873123169,
          0.8214414715766907,
          0.6958204507827759,
          0.5641658902168274,
          0.42756301164627075,
          0.28717660903930664,
          0.14423291385173798,
          -1.0097419586828951e-22
         ],
         "yaxis": "y"
        }
       ],
       "layout": {
        "autosize": true,
        "font": {
         "size": 15
        },
        "legend": {
         "bordercolor": "#666666",
         "borderwidth": 2,
         "itemsizing": "trace",
         "itemwidth": 30,
         "title": {
          "text": ""
         },
         "tracegroupgap": 0,
         "x": 0.01,
         "xanchor": "left",
         "y": 0.99,
         "yanchor": "top"
        },
        "margin": {
         "b": 10,
         "l": 0,
         "r": 0,
         "t": 10
        },
        "paper_bgcolor": "#FFFFFF",
        "plot_bgcolor": "#FFFFFF",
        "template": {
         "data": {
          "bar": [
           {
            "error_x": {
             "color": "#2a3f5f"
            },
            "error_y": {
             "color": "#2a3f5f"
            },
            "marker": {
             "line": {
              "color": "#E5ECF6",
              "width": 0.5
             },
             "pattern": {
              "fillmode": "overlay",
              "size": 10,
              "solidity": 0.2
             }
            },
            "type": "bar"
           }
          ],
          "barpolar": [
           {
            "marker": {
             "line": {
              "color": "#E5ECF6",
              "width": 0.5
             },
             "pattern": {
              "fillmode": "overlay",
              "size": 10,
              "solidity": 0.2
             }
            },
            "type": "barpolar"
           }
          ],
          "carpet": [
           {
            "aaxis": {
             "endlinecolor": "#2a3f5f",
             "gridcolor": "white",
             "linecolor": "white",
             "minorgridcolor": "white",
             "startlinecolor": "#2a3f5f"
            },
            "baxis": {
             "endlinecolor": "#2a3f5f",
             "gridcolor": "white",
             "linecolor": "white",
             "minorgridcolor": "white",
             "startlinecolor": "#2a3f5f"
            },
            "type": "carpet"
           }
          ],
          "choropleth": [
           {
            "colorbar": {
             "outlinewidth": 0,
             "ticks": ""
            },
            "type": "choropleth"
           }
          ],
          "contour": [
           {
            "colorbar": {
             "outlinewidth": 0,
             "ticks": ""
            },
            "colorscale": [
             [
              0,
              "#0d0887"
             ],
             [
              0.1111111111111111,
              "#46039f"
             ],
             [
              0.2222222222222222,
              "#7201a8"
             ],
             [
              0.3333333333333333,
              "#9c179e"
             ],
             [
              0.4444444444444444,
              "#bd3786"
             ],
             [
              0.5555555555555556,
              "#d8576b"
             ],
             [
              0.6666666666666666,
              "#ed7953"
             ],
             [
              0.7777777777777778,
              "#fb9f3a"
             ],
             [
              0.8888888888888888,
              "#fdca26"
             ],
             [
              1,
              "#f0f921"
             ]
            ],
            "type": "contour"
           }
          ],
          "contourcarpet": [
           {
            "colorbar": {
             "outlinewidth": 0,
             "ticks": ""
            },
            "type": "contourcarpet"
           }
          ],
          "heatmap": [
           {
            "colorbar": {
             "outlinewidth": 0,
             "ticks": ""
            },
            "colorscale": [
             [
              0,
              "#0d0887"
             ],
             [
              0.1111111111111111,
              "#46039f"
             ],
             [
              0.2222222222222222,
              "#7201a8"
             ],
             [
              0.3333333333333333,
              "#9c179e"
             ],
             [
              0.4444444444444444,
              "#bd3786"
             ],
             [
              0.5555555555555556,
              "#d8576b"
             ],
             [
              0.6666666666666666,
              "#ed7953"
             ],
             [
              0.7777777777777778,
              "#fb9f3a"
             ],
             [
              0.8888888888888888,
              "#fdca26"
             ],
             [
              1,
              "#f0f921"
             ]
            ],
            "type": "heatmap"
           }
          ],
          "heatmapgl": [
           {
            "colorbar": {
             "outlinewidth": 0,
             "ticks": ""
            },
            "colorscale": [
             [
              0,
              "#0d0887"
             ],
             [
              0.1111111111111111,
              "#46039f"
             ],
             [
              0.2222222222222222,
              "#7201a8"
             ],
             [
              0.3333333333333333,
              "#9c179e"
             ],
             [
              0.4444444444444444,
              "#bd3786"
             ],
             [
              0.5555555555555556,
              "#d8576b"
             ],
             [
              0.6666666666666666,
              "#ed7953"
             ],
             [
              0.7777777777777778,
              "#fb9f3a"
             ],
             [
              0.8888888888888888,
              "#fdca26"
             ],
             [
              1,
              "#f0f921"
             ]
            ],
            "type": "heatmapgl"
           }
          ],
          "histogram": [
           {
            "marker": {
             "pattern": {
              "fillmode": "overlay",
              "size": 10,
              "solidity": 0.2
             }
            },
            "type": "histogram"
           }
          ],
          "histogram2d": [
           {
            "colorbar": {
             "outlinewidth": 0,
             "ticks": ""
            },
            "colorscale": [
             [
              0,
              "#0d0887"
             ],
             [
              0.1111111111111111,
              "#46039f"
             ],
             [
              0.2222222222222222,
              "#7201a8"
             ],
             [
              0.3333333333333333,
              "#9c179e"
             ],
             [
              0.4444444444444444,
              "#bd3786"
             ],
             [
              0.5555555555555556,
              "#d8576b"
             ],
             [
              0.6666666666666666,
              "#ed7953"
             ],
             [
              0.7777777777777778,
              "#fb9f3a"
             ],
             [
              0.8888888888888888,
              "#fdca26"
             ],
             [
              1,
              "#f0f921"
             ]
            ],
            "type": "histogram2d"
           }
          ],
          "histogram2dcontour": [
           {
            "colorbar": {
             "outlinewidth": 0,
             "ticks": ""
            },
            "colorscale": [
             [
              0,
              "#0d0887"
             ],
             [
              0.1111111111111111,
              "#46039f"
             ],
             [
              0.2222222222222222,
              "#7201a8"
             ],
             [
              0.3333333333333333,
              "#9c179e"
             ],
             [
              0.4444444444444444,
              "#bd3786"
             ],
             [
              0.5555555555555556,
              "#d8576b"
             ],
             [
              0.6666666666666666,
              "#ed7953"
             ],
             [
              0.7777777777777778,
              "#fb9f3a"
             ],
             [
              0.8888888888888888,
              "#fdca26"
             ],
             [
              1,
              "#f0f921"
             ]
            ],
            "type": "histogram2dcontour"
           }
          ],
          "mesh3d": [
           {
            "colorbar": {
             "outlinewidth": 0,
             "ticks": ""
            },
            "type": "mesh3d"
           }
          ],
          "parcoords": [
           {
            "line": {
             "colorbar": {
              "outlinewidth": 0,
              "ticks": ""
             }
            },
            "type": "parcoords"
           }
          ],
          "pie": [
           {
            "automargin": true,
            "type": "pie"
           }
          ],
          "scatter": [
           {
            "marker": {
             "colorbar": {
              "outlinewidth": 0,
              "ticks": ""
             }
            },
            "type": "scatter"
           }
          ],
          "scatter3d": [
           {
            "line": {
             "colorbar": {
              "outlinewidth": 0,
              "ticks": ""
             }
            },
            "marker": {
             "colorbar": {
              "outlinewidth": 0,
              "ticks": ""
             }
            },
            "type": "scatter3d"
           }
          ],
          "scattercarpet": [
           {
            "marker": {
             "colorbar": {
              "outlinewidth": 0,
              "ticks": ""
             }
            },
            "type": "scattercarpet"
           }
          ],
          "scattergeo": [
           {
            "marker": {
             "colorbar": {
              "outlinewidth": 0,
              "ticks": ""
             }
            },
            "type": "scattergeo"
           }
          ],
          "scattergl": [
           {
            "marker": {
             "colorbar": {
              "outlinewidth": 0,
              "ticks": ""
             }
            },
            "type": "scattergl"
           }
          ],
          "scattermapbox": [
           {
            "marker": {
             "colorbar": {
              "outlinewidth": 0,
              "ticks": ""
             }
            },
            "type": "scattermapbox"
           }
          ],
          "scatterpolar": [
           {
            "marker": {
             "colorbar": {
              "outlinewidth": 0,
              "ticks": ""
             }
            },
            "type": "scatterpolar"
           }
          ],
          "scatterpolargl": [
           {
            "marker": {
             "colorbar": {
              "outlinewidth": 0,
              "ticks": ""
             }
            },
            "type": "scatterpolargl"
           }
          ],
          "scatterternary": [
           {
            "marker": {
             "colorbar": {
              "outlinewidth": 0,
              "ticks": ""
             }
            },
            "type": "scatterternary"
           }
          ],
          "surface": [
           {
            "colorbar": {
             "outlinewidth": 0,
             "ticks": ""
            },
            "colorscale": [
             [
              0,
              "#0d0887"
             ],
             [
              0.1111111111111111,
              "#46039f"
             ],
             [
              0.2222222222222222,
              "#7201a8"
             ],
             [
              0.3333333333333333,
              "#9c179e"
             ],
             [
              0.4444444444444444,
              "#bd3786"
             ],
             [
              0.5555555555555556,
              "#d8576b"
             ],
             [
              0.6666666666666666,
              "#ed7953"
             ],
             [
              0.7777777777777778,
              "#fb9f3a"
             ],
             [
              0.8888888888888888,
              "#fdca26"
             ],
             [
              1,
              "#f0f921"
             ]
            ],
            "type": "surface"
           }
          ],
          "table": [
           {
            "cells": {
             "fill": {
              "color": "#EBF0F8"
             },
             "line": {
              "color": "white"
             }
            },
            "header": {
             "fill": {
              "color": "#C8D4E3"
             },
             "line": {
              "color": "white"
             }
            },
            "type": "table"
           }
          ]
         },
         "layout": {
          "annotationdefaults": {
           "arrowcolor": "#2a3f5f",
           "arrowhead": 0,
           "arrowwidth": 1
          },
          "autotypenumbers": "strict",
          "coloraxis": {
           "colorbar": {
            "outlinewidth": 0,
            "ticks": ""
           }
          },
          "colorscale": {
           "diverging": [
            [
             0,
             "#8e0152"
            ],
            [
             0.1,
             "#c51b7d"
            ],
            [
             0.2,
             "#de77ae"
            ],
            [
             0.3,
             "#f1b6da"
            ],
            [
             0.4,
             "#fde0ef"
            ],
            [
             0.5,
             "#f7f7f7"
            ],
            [
             0.6,
             "#e6f5d0"
            ],
            [
             0.7,
             "#b8e186"
            ],
            [
             0.8,
             "#7fbc41"
            ],
            [
             0.9,
             "#4d9221"
            ],
            [
             1,
             "#276419"
            ]
           ],
           "sequential": [
            [
             0,
             "#0d0887"
            ],
            [
             0.1111111111111111,
             "#46039f"
            ],
            [
             0.2222222222222222,
             "#7201a8"
            ],
            [
             0.3333333333333333,
             "#9c179e"
            ],
            [
             0.4444444444444444,
             "#bd3786"
            ],
            [
             0.5555555555555556,
             "#d8576b"
            ],
            [
             0.6666666666666666,
             "#ed7953"
            ],
            [
             0.7777777777777778,
             "#fb9f3a"
            ],
            [
             0.8888888888888888,
             "#fdca26"
            ],
            [
             1,
             "#f0f921"
            ]
           ],
           "sequentialminus": [
            [
             0,
             "#0d0887"
            ],
            [
             0.1111111111111111,
             "#46039f"
            ],
            [
             0.2222222222222222,
             "#7201a8"
            ],
            [
             0.3333333333333333,
             "#9c179e"
            ],
            [
             0.4444444444444444,
             "#bd3786"
            ],
            [
             0.5555555555555556,
             "#d8576b"
            ],
            [
             0.6666666666666666,
             "#ed7953"
            ],
            [
             0.7777777777777778,
             "#fb9f3a"
            ],
            [
             0.8888888888888888,
             "#fdca26"
            ],
            [
             1,
             "#f0f921"
            ]
           ]
          },
          "colorway": [
           "#636efa",
           "#EF553B",
           "#00cc96",
           "#ab63fa",
           "#FFA15A",
           "#19d3f3",
           "#FF6692",
           "#B6E880",
           "#FF97FF",
           "#FECB52"
          ],
          "font": {
           "color": "#2a3f5f"
          },
          "geo": {
           "bgcolor": "white",
           "lakecolor": "white",
           "landcolor": "#E5ECF6",
           "showlakes": true,
           "showland": true,
           "subunitcolor": "white"
          },
          "hoverlabel": {
           "align": "left"
          },
          "hovermode": "closest",
          "mapbox": {
           "style": "light"
          },
          "paper_bgcolor": "white",
          "plot_bgcolor": "#E5ECF6",
          "polar": {
           "angularaxis": {
            "gridcolor": "white",
            "linecolor": "white",
            "ticks": ""
           },
           "bgcolor": "#E5ECF6",
           "radialaxis": {
            "gridcolor": "white",
            "linecolor": "white",
            "ticks": ""
           }
          },
          "scene": {
           "xaxis": {
            "backgroundcolor": "#E5ECF6",
            "gridcolor": "white",
            "gridwidth": 2,
            "linecolor": "white",
            "showbackground": true,
            "ticks": "",
            "zerolinecolor": "white"
           },
           "yaxis": {
            "backgroundcolor": "#E5ECF6",
            "gridcolor": "white",
            "gridwidth": 2,
            "linecolor": "white",
            "showbackground": true,
            "ticks": "",
            "zerolinecolor": "white"
           },
           "zaxis": {
            "backgroundcolor": "#E5ECF6",
            "gridcolor": "white",
            "gridwidth": 2,
            "linecolor": "white",
            "showbackground": true,
            "ticks": "",
            "zerolinecolor": "white"
           }
          },
          "shapedefaults": {
           "line": {
            "color": "#2a3f5f"
           }
          },
          "ternary": {
           "aaxis": {
            "gridcolor": "white",
            "linecolor": "white",
            "ticks": ""
           },
           "baxis": {
            "gridcolor": "white",
            "linecolor": "white",
            "ticks": ""
           },
           "bgcolor": "#E5ECF6",
           "caxis": {
            "gridcolor": "white",
            "linecolor": "white",
            "ticks": ""
           }
          },
          "title": {
           "x": 0.05
          },
          "xaxis": {
           "automargin": true,
           "gridcolor": "white",
           "linecolor": "white",
           "ticks": "",
           "title": {
            "standoff": 15
           },
           "zerolinecolor": "white",
           "zerolinewidth": 2
          },
          "yaxis": {
           "automargin": true,
           "gridcolor": "white",
           "linecolor": "white",
           "ticks": "",
           "title": {
            "standoff": 15
           },
           "zerolinecolor": "white",
           "zerolinewidth": 2
          }
         }
        },
        "xaxis": {
         "anchor": "y",
         "domain": [
          0,
          1
         ],
         "linecolor": "#000000",
         "linewidth": 2,
         "range": [
          1,
          3
         ],
         "tickfont": {
          "size": 15
         },
         "ticks": "inside",
         "tickwidth": 2,
         "title": {
          "text": ""
         },
         "type": "linear"
        },
        "yaxis": {
         "anchor": "x",
         "domain": [
          0,
          1
         ],
         "linecolor": "#000000",
         "linewidth": 2,
         "range": [
          0.3,
          3
         ],
         "tickfont": {
          "size": 15
         },
         "ticks": "inside",
         "tickwidth": 2,
         "title": {
          "text": ""
         },
         "type": "linear"
        }
       }
      },
      "image/png": "[encoded data removed]",
      "text/html": [
       "<div>                            <div id=\"30746646-49d4-43c4-9d16-3419fb199902\" class=\"plotly-graph-div\" style=\"height:525px; width:100%;\"></div>            <script type=\"text/javascript\">                require([\"plotly\"], function(Plotly) {                    window.PLOTLYENV=window.PLOTLYENV || {};                                    if (document.getElementById(\"30746646-49d4-43c4-9d16-3419fb199902\")) {                    Plotly.newPlot(                        \"30746646-49d4-43c4-9d16-3419fb199902\",                        [{\"legendgroup\":\"Reference\",\"line\":{\"color\":\"#666666\",\"width\":3},\"mode\":\"lines\",\"name\":\"Reference\",\"showlegend\":false,\"x\":[0.0,0.06283185307179587,0.12566370614359174,0.18849555921538758,0.25132741228718347,0.3141592653589793,0.37699111843077515,0.43982297150257105,0.5026548245743669,0.5654866776461628,0.6283185307179586,0.6911503837897545,0.7539822368615503,0.8168140899333463,0.8796459430051421,0.9424777960769378,1.0053096491487339,1.0681415022205298,1.1309733552923256,1.1938052083641213,1.2566370614359172,1.3194689145077132,1.382300767579509,1.4451326206513047,1.5079644737231006,1.5707963267948966,1.6336281798666925,1.6964600329384882,1.7592918860102842,1.8221237390820801,1.8849555921538756,1.9477874452256716,2.0106192982974678,2.0734511513692637,2.1362830044410597,2.199114857512855,2.261946710584651,2.324778563656447,2.3876104167282426,2.4504422698000385,2.5132741228718345,2.57610597594363,2.6389378290154264,2.701769682087222,2.764601535159018,2.827433388230814,2.8902652413026093,2.9530970943744057,3.015928947446201,3.078760800517997,3.141592653589793],\"xaxis\":\"x\",\"y\":[0.0,0.06283185307179587,0.12566370614359174,0.18849555921538758,0.25132741228718347,0.3141592653589793,0.37699111843077515,0.43982297150257105,0.5026548245743669,0.5654866776461628,0.6283185307179586,0.6911503837897545,0.7539822368615503,0.8168140899333463,0.8796459430051421,0.9424777960769378,1.0053096491487339,1.0681415022205298,1.1309733552923256,1.1938052083641213,1.2566370614359172,1.3194689145077132,1.382300767579509,1.4451326206513047,1.5079644737231006,1.5707963267948966,1.6336281798666925,1.6964600329384882,1.7592918860102842,1.8221237390820801,1.8849555921538756,1.9477874452256716,2.0106192982974678,2.0734511513692637,2.1362830044410597,2.199114857512855,2.261946710584651,2.324778563656447,2.3876104167282426,2.4504422698000385,2.5132741228718345,2.57610597594363,2.6389378290154264,2.701769682087222,2.764601535159018,2.827433388230814,2.8902652413026093,2.9530970943744057,3.015928947446201,3.078760800517997,3.141592653589793],\"yaxis\":\"y\",\"type\":\"scatter\"},{\"legendgroup\":\"WENO-Z\",\"line\":{\"color\":\"#4262C1\",\"width\":3},\"mode\":\"lines\",\"name\":\"WENO-Z\",\"showlegend\":false,\"x\":[0.0,0.06283185307179587,0.12566370614359174,0.18849555921538758,0.25132741228718347,0.3141592653589793,0.37699111843077515,0.43982297150257105,0.5026548245743669,0.5654866776461628,0.6283185307179586,0.6911503837897545,0.7539822368615503,0.8168140899333463,0.8796459430051421,0.9424777960769378,1.0053096491487339,1.0681415022205298,1.1309733552923256,1.1938052083641213,1.2566370614359172,1.3194689145077132,1.382300767579509,1.4451326206513047,1.5079644737231006,1.5707963267948966,1.6336281798666925,1.6964600329384882,1.7592918860102842,1.8221237390820801,1.8849555921538756,1.9477874452256716,2.0106192982974678,2.0734511513692637,2.1362830044410597,2.199114857512855,2.261946710584651,2.324778563656447,2.3876104167282426,2.4504422698000385,2.5132741228718345,2.57610597594363,2.6389378290154264,2.701769682087222,2.764601535159018,2.827433388230814,2.8902652413026093,2.9530970943744057,3.015928947446201,3.078760800517997,3.141592653589793],\"xaxis\":\"x\",\"y\":[0.0,0.06283185631036758,0.12566369771957397,0.18849550187587738,0.2513269782066345,0.3141571581363678,0.3769836127758026,0.43980106711387634,0.5025997161865234,0.5653625726699829,0.6280627846717834,0.6906600594520569,0.7530964016914368,0.8152924180030823,0.8771421313285828,0.9385091066360474,0.9992215633392334,1.0590686798095703,1.1177968978881836,1.1751079559326172,1.230656385421753,1.2840496301651,1.334849238395691,1.3825725317001343,1.4266972541809082,1.4666666984558105,1.5018970966339111,1.5317864418029785,1.555724024772644,1.5731018781661987,1.5833275318145752,1.5858361721038818,1.5801048278808594,1.565665364265442,1.5421178340911865,1.5091429948806763,1.4665144681930542,1.414108395576477,1.351912498474121,1.2800323963165283,1.1986967325210571,1.108258843421936,1.009196400642395,0.9021090269088745,0.7877118587493896,0.6668282747268677,0.5403791666030884,0.4093702435493469,0.2748776376247406,0.13803179562091827,1.0097419586828951e-22],\"yaxis\":\"y\",\"type\":\"scatter\"},{\"legendgroup\":\"WENO-Z+\",\"line\":{\"color\":\"#C23C52\",\"width\":3},\"mode\":\"lines\",\"name\":\"WENO-Z+\",\"showlegend\":false,\"x\":[0.0,0.06283185307179587,0.12566370614359174,0.18849555921538758,0.25132741228718347,0.3141592653589793,0.37699111843077515,0.43982297150257105,0.5026548245743669,0.5654866776461628,0.6283185307179586,0.6911503837897545,0.7539822368615503,0.8168140899333463,0.8796459430051421,0.9424777960769378,1.0053096491487339,1.0681415022205298,1.1309733552923256,1.1938052083641213,1.2566370614359172,1.3194689145077132,1.382300767579509,1.4451326206513047,1.5079644737231006,1.5707963267948966,1.6336281798666925,1.6964600329384882,1.7592918860102842,1.8221237390820801,1.8849555921538756,1.9477874452256716,2.0106192982974678,2.0734511513692637,2.1362830044410597,2.199114857512855,2.261946710584651,2.324778563656447,2.3876104167282426,2.4504422698000385,2.5132741228718345,2.57610597594363,2.6389378290154264,2.701769682087222,2.764601535159018,2.827433388230814,2.8902652413026093,2.9530970943744057,3.015928947446201,3.078760800517997,3.141592653589793],\"xaxis\":\"x\",\"y\":[0.0,0.06283185631036758,0.12566371262073517,0.1884956657886505,0.25132811069488525,0.31416231393814087,0.37700098752975464,0.4398486316204071,0.5027114748954773,0.5655962824821472,0.6285081505775452,0.6914470791816711,0.754403293132782,0.8173514604568481,0.8802440762519836,0.9430046677589417,1.005520224571228,1.0676343441009521,1.1291404962539673,1.1897764205932617,1.249219536781311,1.307084083557129,1.3629199266433716,1.4162132740020752,1.4663898944854736,1.5128204822540283,1.5548282861709595,1.591698408126831,1.622691035270691,1.647053837776184,1.6640387773513794,1.6729178428649902,1.6730015277862549,1.6636561155319214,1.6443222761154175,1.6145316362380981,1.5739235877990723,1.5222595930099487,1.459436058998108,1.3854936361312866,1.300625205039978,1.2051796913146973,1.09966242313385,0.9847328066825867,0.8611978888511658,0.7300027012825012,0.5922174453735352,0.44902148842811584,0.3016851544380188,0.15154865384101868,-0.0],\"yaxis\":\"y\",\"type\":\"scatter\"},{\"legendgroup\":\"WENO-ZD\",\"line\":{\"color\":\"#C2881D\",\"dash\":\"dash\",\"width\":3},\"mode\":\"lines\",\"name\":\"WENO-ZD\",\"showlegend\":false,\"x\":[0.0,0.06283185307179587,0.12566370614359174,0.18849555921538758,0.25132741228718347,0.3141592653589793,0.37699111843077515,0.43982297150257105,0.5026548245743669,0.5654866776461628,0.6283185307179586,0.6911503837897545,0.7539822368615503,0.8168140899333463,0.8796459430051421,0.9424777960769378,1.0053096491487339,1.0681415022205298,1.1309733552923256,1.1938052083641213,1.2566370614359172,1.3194689145077132,1.382300767579509,1.4451326206513047,1.5079644737231006,1.5707963267948966,1.6336281798666925,1.6964600329384882,1.7592918860102842,1.8221237390820801,1.8849555921538756,1.9477874452256716,2.0106192982974678,2.0734511513692637,2.1362830044410597,2.199114857512855,2.261946710584651,2.324778563656447,2.3876104167282426,2.4504422698000385,2.5132741228718345,2.57610597594363,2.6389378290154264,2.701769682087222,2.764601535159018,2.827433388230814,2.8902652413026093,2.9530970943744057,3.015928947446201,3.078760800517997,3.141592653589793],\"xaxis\":\"x\",\"y\":[0.0,0.06283185631036758,0.12566369771957397,0.18849550187587738,0.2513269782066345,0.3141571581363678,0.3769836127758026,0.43980106711387634,0.5025997161865234,0.5653625726699829,0.6280627846717834,0.6906600594520569,0.7530964016914368,0.8152924180030823,0.8771421313285828,0.9385091066360474,0.9992215633392334,1.0590686798095703,1.1177968978881836,1.1751079559326172,1.230656385421753,1.2840496301651,1.334849238395691,1.3825725317001343,1.4266972541809082,1.4666666984558105,1.5018970966339111,1.5317864418029785,1.555724024772644,1.5731018781661987,1.5833275318145752,1.5858361721038818,1.5801048278808594,1.565665364265442,1.5421178340911865,1.5091429948806763,1.4665144681930542,1.414108395576477,1.351912498474121,1.2800323963165283,1.1986967325210571,1.108258843421936,1.009196400642395,0.9021090269088745,0.7877118587493896,0.6668282747268677,0.5403791666030884,0.4093702435493469,0.2748776376247406,0.13803179562091827,1.0097419586828951e-22],\"yaxis\":\"y\",\"type\":\"scatter\"},{\"legendgroup\":\"WENO-ZD+\",\"line\":{\"color\":\"#57933B\",\"width\":3},\"mode\":\"lines\",\"name\":\"WENO-ZD+\",\"showlegend\":false,\"x\":[0.0,0.06283185307179587,0.12566370614359174,0.18849555921538758,0.25132741228718347,0.3141592653589793,0.37699111843077515,0.43982297150257105,0.5026548245743669,0.5654866776461628,0.6283185307179586,0.6911503837897545,0.7539822368615503,0.8168140899333463,0.8796459430051421,0.9424777960769378,1.0053096491487339,1.0681415022205298,1.1309733552923256,1.1938052083641213,1.2566370614359172,1.3194689145077132,1.382300767579509,1.4451326206513047,1.5079644737231006,1.5707963267948966,1.6336281798666925,1.6964600329384882,1.7592918860102842,1.8221237390820801,1.8849555921538756,1.9477874452256716,2.0106192982974678,2.0734511513692637,2.1362830044410597,2.199114857512855,2.261946710584651,2.324778563656447,2.3876104167282426,2.4504422698000385,2.5132741228718345,2.57610597594363,2.6389378290154264,2.701769682087222,2.764601535159018,2.827433388230814,2.8902652413026093,2.9530970943744057,3.015928947446201,3.078760800517997,3.141592653589793],\"xaxis\":\"x\",\"y\":[0.0,0.06283185631036758,0.12566371262073517,0.18849557638168335,0.2513275444507599,0.31415969133377075,0.3769921660423279,0.4398243725299835,0.5026541948318481,0.5654760003089905,0.6282780170440674,0.6910387873649597,0.7537227272987366,0.816275417804718,0.8786178231239319,0.9406406879425049,1.0021990537643433,1.0631065368652344,1.1231307983398438,1.181989073753357,1.239345908164978,1.2948112487792969,1.3479403257369995,1.39823579788208,1.4451509714126587,1.4880952835083008,1.5264419317245483,1.5595369338989258,1.5867102146148682,1.607287883758545,1.6206059455871582,1.6260254383087158,1.6229469776153564,1.6108272075653076,1.58919358253479,1.5576591491699219,1.5159364938735962,1.463849663734436,1.4013452529907227,1.3284995555877686,1.2455252408981323,1.1527739763259888,1.0507365465164185,0.940039873123169,0.8214414715766907,0.6958204507827759,0.5641658902168274,0.42756301164627075,0.28717660903930664,0.14423291385173798,-1.0097419586828951e-22],\"yaxis\":\"y\",\"type\":\"scatter\"}],                        {\"template\":{\"data\":{\"bar\":[{\"error_x\":{\"color\":\"#2a3f5f\"},\"error_y\":{\"color\":\"#2a3f5f\"},\"marker\":{\"line\":{\"color\":\"#E5ECF6\",\"width\":0.5},\"pattern\":{\"fillmode\":\"overlay\",\"size\":10,\"solidity\":0.2}},\"type\":\"bar\"}],\"barpolar\":[{\"marker\":{\"line\":{\"color\":\"#E5ECF6\",\"width\":0.5},\"pattern\":{\"fillmode\":\"overlay\",\"size\":10,\"solidity\":0.2}},\"type\":\"barpolar\"}],\"carpet\":[{\"aaxis\":{\"endlinecolor\":\"#2a3f5f\",\"gridcolor\":\"white\",\"linecolor\":\"white\",\"minorgridcolor\":\"white\",\"startlinecolor\":\"#2a3f5f\"},\"baxis\":{\"endlinecolor\":\"#2a3f5f\",\"gridcolor\":\"white\",\"linecolor\":\"white\",\"minorgridcolor\":\"white\",\"startlinecolor\":\"#2a3f5f\"},\"type\":\"carpet\"}],\"choropleth\":[{\"colorbar\":{\"outlinewidth\":0,\"ticks\":\"\"},\"type\":\"choropleth\"}],\"contour\":[{\"colorbar\":{\"outlinewidth\":0,\"ticks\":\"\"},\"colorscale\":[[0.0,\"#0d0887\"],[0.1111111111111111,\"#46039f\"],[0.2222222222222222,\"#7201a8\"],[0.3333333333333333,\"#9c179e\"],[0.4444444444444444,\"#bd3786\"],[0.5555555555555556,\"#d8576b\"],[0.6666666666666666,\"#ed7953\"],[0.7777777777777778,\"#fb9f3a\"],[0.8888888888888888,\"#fdca26\"],[1.0,\"#f0f921\"]],\"type\":\"contour\"}],\"contourcarpet\":[{\"colorbar\":{\"outlinewidth\":0,\"ticks\":\"\"},\"type\":\"contourcarpet\"}],\"heatmap\":[{\"colorbar\":{\"outlinewidth\":0,\"ticks\":\"\"},\"colorscale\":[[0.0,\"#0d0887\"],[0.1111111111111111,\"#46039f\"],[0.2222222222222222,\"#7201a8\"],[0.3333333333333333,\"#9c179e\"],[0.4444444444444444,\"#bd3786\"],[0.5555555555555556,\"#d8576b\"],[0.6666666666666666,\"#ed7953\"],[0.7777777777777778,\"#fb9f3a\"],[0.8888888888888888,\"#fdca26\"],[1.0,\"#f0f921\"]],\"type\":\"heatmap\"}],\"heatmapgl\":[{\"colorbar\":{\"outlinewidth\":0,\"ticks\":\"\"},\"colorscale\":[[0.0,\"#0d0887\"],[0.1111111111111111,\"#46039f\"],[0.2222222222222222,\"#7201a8\"],[0.3333333333333333,\"#9c179e\"],[0.4444444444444444,\"#bd3786\"],[0.5555555555555556,\"#d8576b\"],[0.6666666666666666,\"#ed7953\"],[0.7777777777777778,\"#fb9f3a\"],[0.8888888888888888,\"#fdca26\"],[1.0,\"#f0f921\"]],\"type\":\"heatmapgl\"}],\"histogram\":[{\"marker\":{\"pattern\":{\"fillmode\":\"overlay\",\"size\":10,\"solidity\":0.2}},\"type\":\"histogram\"}],\"histogram2d\":[{\"colorbar\":{\"outlinewidth\":0,\"ticks\":\"\"},\"colorscale\":[[0.0,\"#0d0887\"],[0.1111111111111111,\"#46039f\"],[0.2222222222222222,\"#7201a8\"],[0.3333333333333333,\"#9c179e\"],[0.4444444444444444,\"#bd3786\"],[0.5555555555555556,\"#d8576b\"],[0.6666666666666666,\"#ed7953\"],[0.7777777777777778,\"#fb9f3a\"],[0.8888888888888888,\"#fdca26\"],[1.0,\"#f0f921\"]],\"type\":\"histogram2d\"}],\"histogram2dcontour\":[{\"colorbar\":{\"outlinewidth\":0,\"ticks\":\"\"},\"colorscale\":[[0.0,\"#0d0887\"],[0.1111111111111111,\"#46039f\"],[0.2222222222222222,\"#7201a8\"],[0.3333333333333333,\"#9c179e\"],[0.4444444444444444,\"#bd3786\"],[0.5555555555555556,\"#d8576b\"],[0.6666666666666666,\"#ed7953\"],[0.7777777777777778,\"#fb9f3a\"],[0.8888888888888888,\"#fdca26\"],[1.0,\"#f0f921\"]],\"type\":\"histogram2dcontour\"}],\"mesh3d\":[{\"colorbar\":{\"outlinewidth\":0,\"ticks\":\"\"},\"type\":\"mesh3d\"}],\"parcoords\":[{\"line\":{\"colorbar\":{\"outlinewidth\":0,\"ticks\":\"\"}},\"type\":\"parcoords\"}],\"pie\":[{\"automargin\":true,\"type\":\"pie\"}],\"scatter\":[{\"marker\":{\"colorbar\":{\"outlinewidth\":0,\"ticks\":\"\"}},\"type\":\"scatter\"}],\"scatter3d\":[{\"line\":{\"colorbar\":{\"outlinewidth\":0,\"ticks\":\"\"}},\"marker\":{\"colorbar\":{\"outlinewidth\":0,\"ticks\":\"\"}},\"type\":\"scatter3d\"}],\"scattercarpet\":[{\"marker\":{\"colorbar\":{\"outlinewidth\":0,\"ticks\":\"\"}},\"type\":\"scattercarpet\"}],\"scattergeo\":[{\"marker\":{\"colorbar\":{\"outlinewidth\":0,\"ticks\":\"\"}},\"type\":\"scattergeo\"}],\"scattergl\":[{\"marker\":{\"colorbar\":{\"outlinewidth\":0,\"ticks\":\"\"}},\"type\":\"scattergl\"}],\"scattermapbox\":[{\"marker\":{\"colorbar\":{\"outlinewidth\":0,\"ticks\":\"\"}},\"type\":\"scattermapbox\"}],\"scatterpolar\":[{\"marker\":{\"colorbar\":{\"outlinewidth\":0,\"ticks\":\"\"}},\"type\":\"scatterpolar\"}],\"scatterpolargl\":[{\"marker\":{\"colorbar\":{\"outlinewidth\":0,\"ticks\":\"\"}},\"type\":\"scatterpolargl\"}],\"scatterternary\":[{\"marker\":{\"colorbar\":{\"outlinewidth\":0,\"ticks\":\"\"}},\"type\":\"scatterternary\"}],\"surface\":[{\"colorbar\":{\"outlinewidth\":0,\"ticks\":\"\"},\"colorscale\":[[0.0,\"#0d0887\"],[0.1111111111111111,\"#46039f\"],[0.2222222222222222,\"#7201a8\"],[0.3333333333333333,\"#9c179e\"],[0.4444444444444444,\"#bd3786\"],[0.5555555555555556,\"#d8576b\"],[0.6666666666666666,\"#ed7953\"],[0.7777777777777778,\"#fb9f3a\"],[0.8888888888888888,\"#fdca26\"],[1.0,\"#f0f921\"]],\"type\":\"surface\"}],\"table\":[{\"cells\":{\"fill\":{\"color\":\"#EBF0F8\"},\"line\":{\"color\":\"white\"}},\"header\":{\"fill\":{\"color\":\"#C8D4E3\"},\"line\":{\"color\":\"white\"}},\"type\":\"table\"}]},\"layout\":{\"annotationdefaults\":{\"arrowcolor\":\"#2a3f5f\",\"arrowhead\":0,\"arrowwidth\":1},\"autotypenumbers\":\"strict\",\"coloraxis\":{\"colorbar\":{\"outlinewidth\":0,\"ticks\":\"\"}},\"colorscale\":{\"diverging\":[[0,\"#8e0152\"],[0.1,\"#c51b7d\"],[0.2,\"#de77ae\"],[0.3,\"#f1b6da\"],[0.4,\"#fde0ef\"],[0.5,\"#f7f7f7\"],[0.6,\"#e6f5d0\"],[0.7,\"#b8e186\"],[0.8,\"#7fbc41\"],[0.9,\"#4d9221\"],[1,\"#276419\"]],\"sequential\":[[0.0,\"#0d0887\"],[0.1111111111111111,\"#46039f\"],[0.2222222222222222,\"#7201a8\"],[0.3333333333333333,\"#9c179e\"],[0.4444444444444444,\"#bd3786\"],[0.5555555555555556,\"#d8576b\"],[0.6666666666666666,\"#ed7953\"],[0.7777777777777778,\"#fb9f3a\"],[0.8888888888888888,\"#fdca26\"],[1.0,\"#f0f921\"]],\"sequentialminus\":[[0.0,\"#0d0887\"],[0.1111111111111111,\"#46039f\"],[0.2222222222222222,\"#7201a8\"],[0.3333333333333333,\"#9c179e\"],[0.4444444444444444,\"#bd3786\"],[0.5555555555555556,\"#d8576b\"],[0.6666666666666666,\"#ed7953\"],[0.7777777777777778,\"#fb9f3a\"],[0.8888888888888888,\"#fdca26\"],[1.0,\"#f0f921\"]]},\"colorway\":[\"#636efa\",\"#EF553B\",\"#00cc96\",\"#ab63fa\",\"#FFA15A\",\"#19d3f3\",\"#FF6692\",\"#B6E880\",\"#FF97FF\",\"#FECB52\"],\"font\":{\"color\":\"#2a3f5f\"},\"geo\":{\"bgcolor\":\"white\",\"lakecolor\":\"white\",\"landcolor\":\"#E5ECF6\",\"showlakes\":true,\"showland\":true,\"subunitcolor\":\"white\"},\"hoverlabel\":{\"align\":\"left\"},\"hovermode\":\"closest\",\"mapbox\":{\"style\":\"light\"},\"paper_bgcolor\":\"white\",\"plot_bgcolor\":\"#E5ECF6\",\"polar\":{\"angularaxis\":{\"gridcolor\":\"white\",\"linecolor\":\"white\",\"ticks\":\"\"},\"bgcolor\":\"#E5ECF6\",\"radialaxis\":{\"gridcolor\":\"white\",\"linecolor\":\"white\",\"ticks\":\"\"}},\"scene\":{\"xaxis\":{\"backgroundcolor\":\"#E5ECF6\",\"gridcolor\":\"white\",\"gridwidth\":2,\"linecolor\":\"white\",\"showbackground\":true,\"ticks\":\"\",\"zerolinecolor\":\"white\"},\"yaxis\":{\"backgroundcolor\":\"#E5ECF6\",\"gridcolor\":\"white\",\"gridwidth\":2,\"linecolor\":\"white\",\"showbackground\":true,\"ticks\":\"\",\"zerolinecolor\":\"white\"},\"zaxis\":{\"backgroundcolor\":\"#E5ECF6\",\"gridcolor\":\"white\",\"gridwidth\":2,\"linecolor\":\"white\",\"showbackground\":true,\"ticks\":\"\",\"zerolinecolor\":\"white\"}},\"shapedefaults\":{\"line\":{\"color\":\"#2a3f5f\"}},\"ternary\":{\"aaxis\":{\"gridcolor\":\"white\",\"linecolor\":\"white\",\"ticks\":\"\"},\"baxis\":{\"gridcolor\":\"white\",\"linecolor\":\"white\",\"ticks\":\"\"},\"bgcolor\":\"#E5ECF6\",\"caxis\":{\"gridcolor\":\"white\",\"linecolor\":\"white\",\"ticks\":\"\"}},\"title\":{\"x\":0.05},\"xaxis\":{\"automargin\":true,\"gridcolor\":\"white\",\"linecolor\":\"white\",\"ticks\":\"\",\"title\":{\"standoff\":15},\"zerolinecolor\":\"white\",\"zerolinewidth\":2},\"yaxis\":{\"automargin\":true,\"gridcolor\":\"white\",\"linecolor\":\"white\",\"ticks\":\"\",\"title\":{\"standoff\":15},\"zerolinecolor\":\"white\",\"zerolinewidth\":2}}},\"xaxis\":{\"anchor\":\"y\",\"domain\":[0.0,1.0],\"tickfont\":{\"size\":15},\"linecolor\":\"#000000\",\"ticks\":\"inside\",\"tickwidth\":2,\"title\":{\"text\":\"\"},\"linewidth\":2,\"range\":[1,3]},\"yaxis\":{\"anchor\":\"x\",\"domain\":[0.0,1.0],\"tickfont\":{\"size\":15},\"linecolor\":\"#000000\",\"ticks\":\"inside\",\"tickwidth\":2,\"title\":{\"text\":\"\"},\"linewidth\":2,\"range\":[0.3,3]},\"font\":{\"size\":15},\"legend\":{\"x\":0.01,\"y\":0.99,\"xanchor\":\"left\",\"yanchor\":\"top\",\"title\":{\"text\":\"\"},\"bordercolor\":\"#666666\",\"borderwidth\":2,\"itemwidth\":30,\"itemsizing\":\"trace\",\"tracegroupgap\":0},\"paper_bgcolor\":\"#FFFFFF\",\"plot_bgcolor\":\"#FFFFFF\",\"margin\":{\"b\":10,\"l\":0,\"r\":0,\"t\":10}},                        {\"responsive\": true}                    ).then(function(){\n",
       "                            \n",
       "var gd = document.getElementById('30746646-49d4-43c4-9d16-3419fb199902');\n",
       "var x = new MutationObserver(function (mutations, observer) {{\n",
       "        var display = window.getComputedStyle(gd).display;\n",
       "        if (!display || display === 'none') {{\n",
       "            console.log([gd, 'removed!']);\n",
       "            Plotly.purge(gd);\n",
       "            observer.disconnect();\n",
       "        }}\n",
       "}});\n",
       "\n",
       "// Listen for the removal of the full notebook cells\n",
       "var notebookContainer = gd.closest('#notebook-container');\n",
       "if (notebookContainer) {{\n",
       "    x.observe(notebookContainer, {childList: true});\n",
       "}}\n",
       "\n",
       "// Listen for the clearing of the current output cell\n",
       "var outputEl = gd.closest('.output');\n",
       "if (outputEl) {{\n",
       "    x.observe(outputEl, {childList: true});\n",
       "}}\n",
       "\n",
       "                        })                };                });            </script>        </div>"
      ]
     },
     "metadata": {},
     "output_type": "display_data"
    }
   ],
   "source": [
    "# Para os métodos WENO-Z, WENO-Z+, WENO-ZD, WENO-ZD+\n",
    "line_type = {}\n",
    "line_type[nomes[0]] = None\n",
    "line_type[nomes[1]] = None\n",
    "line_type[nomes[2]] = \"dash\"\n",
    "line_type[nomes[3]] = None\n",
    "\n",
    "fig = make_subplots(\n",
    "    rows  = 1, \n",
    "    cols  = 1\n",
    ")\n",
    "\n",
    "fig.add_trace(\n",
    "    ply_go.Scatter(\n",
    "        x     = 2*np.pi*np.arange(int(N/2)+1)/N                  ,\n",
    "        y     = 2*np.pi*np.arange(int(N/2)+1)/N                  ,\n",
    "        mode  = \"lines\"                                          ,\n",
    "        line  = ply_go.scatter.Line(color = \"#666666\", width = 3),\n",
    "        name  = \"Reference\"                                      ,\n",
    "        xaxis = \"x\"                                              ,\n",
    "        yaxis = \"y\"                                              ,\n",
    "        legendgroup = \"Reference\",\n",
    "        showlegend  = False\n",
    "    ),\n",
    "    row = 1,\n",
    "    col = 1\n",
    ")\n",
    "\n",
    "for nome in nomes:\n",
    "    \n",
    "    x = 2*np.pi*np.arange(int(N/2)+1)/N \n",
    "    y = np.real(ADR[nome])\n",
    "    \n",
    "    fig.add_trace(\n",
    "        ply_go.Scatter(\n",
    "            x          = x       ,\n",
    "            y          = y       ,\n",
    "            mode       = \"lines\" ,\n",
    "            name       = nome    ,\n",
    "            line = ply_go.scatter.Line(\n",
    "                color = cores[nome],\n",
    "                width = 3          ,\n",
    "                dash  = line_type[nome]\n",
    "            ),\n",
    "            xaxis = \"x\" ,\n",
    "            yaxis = \"y\" ,\n",
    "            legendgroup = nome,\n",
    "            showlegend  = False\n",
    "        ),\n",
    "        row = 1,\n",
    "        col = 1\n",
    "    )\n",
    "    \n",
    "fig.update_layout(\n",
    "        paper_bgcolor = \"#FFFFFF\",\n",
    "        plot_bgcolor  = \"#FFFFFF\",\n",
    "        font_size     = 15       ,\n",
    "        xaxis         = dict(\n",
    "            linecolor = \"#000000\" , \n",
    "            ticks     = \"inside\"  ,\n",
    "            tickwidth = 2         ,\n",
    "            title     = \"\"       ,\n",
    "            linewidth = 2         ,\n",
    "            tickfont_size = 15    ,\n",
    "            range     = [1, 3]\n",
    "        ),\n",
    "        yaxis         = dict(\n",
    "            linecolor = \"#000000\" ,\n",
    "            ticks     = \"inside\"  ,\n",
    "            tickwidth = 2         ,\n",
    "            title     = \"\"        ,\n",
    "            linewidth = 2         ,\n",
    "            tickfont_size = 15    ,\n",
    "            range     = [0.3, 3]\n",
    "        ),\n",
    "        legend = dict(\n",
    "            x             = 0.01      ,\n",
    "            y             = 0.99      ,\n",
    "            xanchor       = \"left\"    ,\n",
    "            yanchor       = \"top\"     ,\n",
    "            title         = \"\"        ,\n",
    "            bordercolor   = \"#666666\" ,\n",
    "            borderwidth   = 2         ,\n",
    "            itemwidth     = 30        ,\n",
    "            itemsizing    = \"trace\"   ,\n",
    "            tracegroupgap = 0\n",
    "        ),\n",
    "        margin = ply_go.layout.Margin(\n",
    "            l = 0  , #left margin\n",
    "            r = 0  , #right margin\n",
    "            b = 10 , #bottom margin\n",
    "            t = 10   #top margin\n",
    "        )\n",
    "    )\n",
    "\n",
    "fig.show()\n",
    "# fig.write_html(\"htmls/teste ADR real (N=100, tau=10^(-10)).html\")\n",
    "# fig.write_image(\"htmls/teste ADR real (N=100, tau=10^(-10)).pdf\", width = 480, height = 340)"
   ]
  },
  {
   "cell_type": "code",
   "execution_count": 20,
   "id": "b8061640-6251-49e7-8477-8cd12ecede51",
   "metadata": {},
   "outputs": [
    {
     "data": {
      "application/vnd.plotly.v1+json": {
       "config": {
        "plotlyServerURL": "https://plot.ly"
       },
       "data": [
        {
         "legendgroup": "Spectral",
         "line": {
          "color": "#666666",
          "width": 3
         },
         "mode": "lines",
         "name": "Spectral",
         "showlegend": true,
         "type": "scatter",
         "x": [
          0,
          0.06283185307179587,
          0.12566370614359174,
          0.18849555921538758,
          0.25132741228718347,
          0.3141592653589793,
          0.37699111843077515,
          0.43982297150257105,
          0.5026548245743669,
          0.5654866776461628,
          0.6283185307179586,
          0.6911503837897545,
          0.7539822368615503,
          0.8168140899333463,
          0.8796459430051421,
          0.9424777960769378,
          1.0053096491487339,
          1.0681415022205298,
          1.1309733552923256,
          1.1938052083641213,
          1.2566370614359172,
          1.3194689145077132,
          1.382300767579509,
          1.4451326206513047,
          1.5079644737231006,
          1.5707963267948966,
          1.6336281798666925,
          1.6964600329384882,
          1.7592918860102842,
          1.8221237390820801,
          1.8849555921538756,
          1.9477874452256716,
          2.0106192982974678,
          2.0734511513692637,
          2.1362830044410597,
          2.199114857512855,
          2.261946710584651,
          2.324778563656447,
          2.3876104167282426,
          2.4504422698000385,
          2.5132741228718345,
          2.57610597594363,
          2.6389378290154264,
          2.701769682087222,
          2.764601535159018,
          2.827433388230814,
          2.8902652413026093,
          2.9530970943744057,
          3.015928947446201,
          3.078760800517997,
          3.141592653589793
         ],
         "xaxis": "x",
         "y": [
          0,
          0,
          0,
          0,
          0,
          0,
          0,
          0,
          0,
          0,
          0,
          0,
          0,
          0,
          0,
          0,
          0,
          0,
          0,
          0,
          0,
          0,
          0,
          0,
          0,
          0,
          0,
          0,
          0,
          0,
          0,
          0,
          0,
          0,
          0,
          0,
          0,
          0,
          0,
          0,
          0,
          0,
          0,
          0,
          0,
          0,
          0,
          0,
          0,
          0,
          0
         ],
         "yaxis": "y"
        },
        {
         "legendgroup": "WENO-Z",
         "line": {
          "color": "#4262C1",
          "width": 3
         },
         "mode": "lines",
         "name": "WENO-Z",
         "showlegend": true,
         "type": "scatter",
         "x": [
          0,
          0.06283185307179587,
          0.12566370614359174,
          0.18849555921538758,
          0.25132741228718347,
          0.3141592653589793,
          0.37699111843077515,
          0.43982297150257105,
          0.5026548245743669,
          0.5654866776461628,
          0.6283185307179586,
          0.6911503837897545,
          0.7539822368615503,
          0.8168140899333463,
          0.8796459430051421,
          0.9424777960769378,
          1.0053096491487339,
          1.0681415022205298,
          1.1309733552923256,
          1.1938052083641213,
          1.2566370614359172,
          1.3194689145077132,
          1.382300767579509,
          1.4451326206513047,
          1.5079644737231006,
          1.5707963267948966,
          1.6336281798666925,
          1.6964600329384882,
          1.7592918860102842,
          1.8221237390820801,
          1.8849555921538756,
          1.9477874452256716,
          2.0106192982974678,
          2.0734511513692637,
          2.1362830044410597,
          2.199114857512855,
          2.261946710584651,
          2.324778563656447,
          2.3876104167282426,
          2.4504422698000385,
          2.5132741228718345,
          2.57610597594363,
          2.6389378290154264,
          2.701769682087222,
          2.764601535159018,
          2.827433388230814,
          2.8902652413026093,
          2.9530970943744057,
          3.015928947446201,
          3.078760800517997,
          3.141592653589793
         ],
         "xaxis": "x",
         "y": [
          0,
          1.9739208531599495e-11,
          -7.76366562149633e-08,
          -7.325695605686633e-07,
          -4.151918346906314e-06,
          -1.5642548532923684e-05,
          -4.6184566599549726e-05,
          -0.00011492932389955968,
          -0.0002523413277231157,
          -0.0005030071479268372,
          -0.0009287995053455234,
          -0.001611430780030787,
          -0.00265459599904716,
          -0.004185437690466642,
          -0.0063553014770150185,
          -0.00933919195085764,
          -0.013334562070667744,
          -0.01855870522558689,
          -0.02524498850107193,
          -0.033638231456279755,
          -0.0439886711537838,
          -0.05654529482126236,
          -0.07154826074838638,
          -0.08922091126441956,
          -0.10976117849349976,
          -0.13333334028720856,
          -0.1600596159696579,
          -0.19001249969005585,
          -0.22320780158042908,
          -0.2595987021923065,
          -0.29907119274139404,
          -0.34144097566604614,
          -0.3864520788192749,
          -0.4337772727012634,
          -0.4830203652381897,
          -0.5337206721305847,
          -0.5853588581085205,
          -0.6373649835586548,
          -0.6891282796859741,
          -0.740007758140564,
          -0.7893446683883667,
          -0.8364753723144531,
          -0.8807450532913208,
          -0.9215213060379028,
          -0.9582079648971558,
          -0.9902578592300415,
          -1.0171852111816406,
          -1.0385764837265015,
          -1.0540999174118042,
          -1.0635125637054443,
          -1.0666667222976685
         ],
         "yaxis": "y"
        },
        {
         "legendgroup": "WENO-Z+",
         "line": {
          "color": "#C23C52",
          "width": 3
         },
         "mode": "lines",
         "name": "WENO-Z+",
         "showlegend": true,
         "type": "scatter",
         "x": [
          0,
          0.06283185307179587,
          0.12566370614359174,
          0.18849555921538758,
          0.25132741228718347,
          0.3141592653589793,
          0.37699111843077515,
          0.43982297150257105,
          0.5026548245743669,
          0.5654866776461628,
          0.6283185307179586,
          0.6911503837897545,
          0.7539822368615503,
          0.8168140899333463,
          0.8796459430051421,
          0.9424777960769378,
          1.0053096491487339,
          1.0681415022205298,
          1.1309733552923256,
          1.1938052083641213,
          1.2566370614359172,
          1.3194689145077132,
          1.382300767579509,
          1.4451326206513047,
          1.5079644737231006,
          1.5707963267948966,
          1.6336281798666925,
          1.6964600329384882,
          1.7592918860102842,
          1.8221237390820801,
          1.8849555921538756,
          1.9477874452256716,
          2.0106192982974678,
          2.0734511513692637,
          2.1362830044410597,
          2.199114857512855,
          2.261946710584651,
          2.324778563656447,
          2.3876104167282426,
          2.4504422698000385,
          2.5132741228718345,
          2.57610597594363,
          2.6389378290154264,
          2.701769682087222,
          2.764601535159018,
          2.827433388230814,
          2.8902652413026093,
          2.9530970943744057,
          3.015928947446201,
          3.078760800517997,
          3.141592653589793
         ],
         "xaxis": "x",
         "y": [
          0,
          1.9739208531599495e-11,
          1.3330571846381645e-07,
          1.376854243062553e-06,
          7.216765425255289e-06,
          2.5402396204299293e-05,
          6.856808613520116e-05,
          0.00015367803280241787,
          0.00029900652589276433,
          0.0005194305558688939,
          0.0008205900085158646,
          0.001192093244753778,
          0.0016008556121960282,
          0.001985082169994712,
          0.0022496043238788843,
          0.002262328052893281,
          0.0018527674255892634,
          0.0008126445463858545,
          -0.0011019455268979073,
          -0.004165982827544212,
          -0.008679316379129887,
          -0.014958692714571953,
          -0.02332824096083641,
          -0.034109003841876984,
          -0.04760720580816269,
          -0.06410253047943115,
          -0.0838361606001854,
          -0.10699888318777084,
          -0.13372057676315308,
          -0.16406036913394928,
          -0.19799868762493134,
          -0.23543104529380798,
          -0.2761642038822174,
          -0.31991446018218994,
          -0.3663088381290436,
          -0.41488876938819885,
          -0.4651162922382355,
          -0.5163828134536743,
          -0.5680204033851624,
          -0.6193148493766785,
          -0.6695204973220825,
          -0.7178767919540405,
          -0.7636249661445618,
          -0.8060261607170105,
          -0.8443784117698669,
          -0.8780336976051331,
          -0.9064138531684875,
          -0.9290246963500977,
          -0.9454683065414429,
          -0.9554532766342163,
          -0.9588014483451843
         ],
         "yaxis": "y"
        },
        {
         "legendgroup": "WENO-ZD",
         "line": {
          "color": "#C2881D",
          "dash": "dash",
          "width": 3
         },
         "mode": "lines",
         "name": "WENO-ZD",
         "showlegend": true,
         "type": "scatter",
         "x": [
          0,
          0.06283185307179587,
          0.12566370614359174,
          0.18849555921538758,
          0.25132741228718347,
          0.3141592653589793,
          0.37699111843077515,
          0.43982297150257105,
          0.5026548245743669,
          0.5654866776461628,
          0.6283185307179586,
          0.6911503837897545,
          0.7539822368615503,
          0.8168140899333463,
          0.8796459430051421,
          0.9424777960769378,
          1.0053096491487339,
          1.0681415022205298,
          1.1309733552923256,
          1.1938052083641213,
          1.2566370614359172,
          1.3194689145077132,
          1.382300767579509,
          1.4451326206513047,
          1.5079644737231006,
          1.5707963267948966,
          1.6336281798666925,
          1.6964600329384882,
          1.7592918860102842,
          1.8221237390820801,
          1.8849555921538756,
          1.9477874452256716,
          2.0106192982974678,
          2.0734511513692637,
          2.1362830044410597,
          2.199114857512855,
          2.261946710584651,
          2.324778563656447,
          2.3876104167282426,
          2.4504422698000385,
          2.5132741228718345,
          2.57610597594363,
          2.6389378290154264,
          2.701769682087222,
          2.764601535159018,
          2.827433388230814,
          2.8902652413026093,
          2.9530970943744057,
          3.015928947446201,
          3.078760800517997,
          3.141592653589793
         ],
         "xaxis": "x",
         "y": [
          0,
          1.9739208531599495e-11,
          -7.76366562149633e-08,
          -7.325695605686633e-07,
          -4.151918346906314e-06,
          -1.5642548532923684e-05,
          -4.6184566599549726e-05,
          -0.00011492932389955968,
          -0.0002523413277231157,
          -0.0005030071479268372,
          -0.0009287995053455234,
          -0.001611430780030787,
          -0.00265459599904716,
          -0.004185437690466642,
          -0.0063553014770150185,
          -0.00933919195085764,
          -0.013334562070667744,
          -0.01855870522558689,
          -0.02524498850107193,
          -0.033638231456279755,
          -0.0439886711537838,
          -0.05654529482126236,
          -0.07154826074838638,
          -0.08922091126441956,
          -0.10976117849349976,
          -0.13333334028720856,
          -0.1600596159696579,
          -0.19001249969005585,
          -0.22320780158042908,
          -0.2595987021923065,
          -0.29907119274139404,
          -0.34144097566604614,
          -0.3864520788192749,
          -0.4337772727012634,
          -0.4830203652381897,
          -0.5337206721305847,
          -0.5853588581085205,
          -0.6373649835586548,
          -0.6891282796859741,
          -0.740007758140564,
          -0.7893446683883667,
          -0.8364753723144531,
          -0.8807450532913208,
          -0.9215213060379028,
          -0.9582079648971558,
          -0.9902578592300415,
          -1.0171852111816406,
          -1.0385764837265015,
          -1.0540999174118042,
          -1.0635125637054443,
          -1.0666667222976685
         ],
         "yaxis": "y"
        },
        {
         "legendgroup": "WENO-ZD+",
         "line": {
          "color": "#57933B",
          "width": 3
         },
         "mode": "lines",
         "name": "WENO-ZD+",
         "showlegend": true,
         "type": "scatter",
         "x": [
          0,
          0.06283185307179587,
          0.12566370614359174,
          0.18849555921538758,
          0.25132741228718347,
          0.3141592653589793,
          0.37699111843077515,
          0.43982297150257105,
          0.5026548245743669,
          0.5654866776461628,
          0.6283185307179586,
          0.6911503837897545,
          0.7539822368615503,
          0.8168140899333463,
          0.8796459430051421,
          0.9424777960769378,
          1.0053096491487339,
          1.0681415022205298,
          1.1309733552923256,
          1.1938052083641213,
          1.2566370614359172,
          1.3194689145077132,
          1.382300767579509,
          1.4451326206513047,
          1.5079644737231006,
          1.5707963267948966,
          1.6336281798666925,
          1.6964600329384882,
          1.7592918860102842,
          1.8221237390820801,
          1.8849555921538756,
          1.9477874452256716,
          2.0106192982974678,
          2.0734511513692637,
          2.1362830044410597,
          2.199114857512855,
          2.261946710584651,
          2.324778563656447,
          2.3876104167282426,
          2.4504422698000385,
          2.5132741228718345,
          2.57610597594363,
          2.6389378290154264,
          2.701769682087222,
          2.764601535159018,
          2.827433388230814,
          2.8902652413026093,
          2.9530970943744057,
          3.015928947446201,
          3.078760800517997,
          3.141592653589793
         ],
         "xaxis": "x",
         "y": [
          0,
          1.9739208531599495e-11,
          2.2283417777657633e-08,
          3.110401110006933e-07,
          1.5102191355254035e-06,
          4.619021183316363e-06,
          1.0325784387532622e-05,
          1.665431227593217e-05,
          1.6521382349310443e-05,
          -6.67084168526344e-06,
          -8.335357415489852e-05,
          -0.00026238770806230605,
          -0.0006152161513455212,
          -0.0012395496014505625,
          -0.0022617646027356386,
          -0.0038382585626095533,
          -0.006155226845294237,
          -0.009426930919289589,
          -0.013892869465053082,
          -0.01981258951127529,
          -0.027460148558020592,
          -0.037116266787052155,
          -0.049060236662626266,
          -0.06356047838926315,
          -0.08086483925580978,
          -0.10119049996137619,
          -0.12471392005681992,
          -0.15156161785125732,
          -0.1818012148141861,
          -0.21543389558792114,
          -0.2523883283138275,
          -0.29251617193222046,
          -0.3355894684791565,
          -0.38130033016204834,
          -0.42926257848739624,
          -0.47901585698127747,
          -0.5300318598747253,
          -0.5817224383354187,
          -0.6334503293037415,
          -0.6845405101776123,
          -0.7342944145202637,
          -0.7820037007331848,
          -0.8269659876823425,
          -0.8684999346733093,
          -0.9059609174728394,
          -0.9387556910514832,
          -0.9663561582565308,
          -0.9883119463920593,
          -1.0042610168457031,
          -1.013938307762146,
          -1.0171821117401123
         ],
         "yaxis": "y"
        }
       ],
       "layout": {
        "autosize": true,
        "font": {
         "size": 15
        },
        "legend": {
         "bordercolor": "#666666",
         "borderwidth": 2,
         "itemsizing": "trace",
         "itemwidth": 30,
         "title": {
          "text": ""
         },
         "tracegroupgap": 0,
         "x": 0.01,
         "xanchor": "left",
         "y": 0.03,
         "yanchor": "bottom"
        },
        "margin": {
         "b": 10,
         "l": 0,
         "r": 0,
         "t": 10
        },
        "paper_bgcolor": "#FFFFFF",
        "plot_bgcolor": "#FFFFFF",
        "template": {
         "data": {
          "bar": [
           {
            "error_x": {
             "color": "#2a3f5f"
            },
            "error_y": {
             "color": "#2a3f5f"
            },
            "marker": {
             "line": {
              "color": "#E5ECF6",
              "width": 0.5
             },
             "pattern": {
              "fillmode": "overlay",
              "size": 10,
              "solidity": 0.2
             }
            },
            "type": "bar"
           }
          ],
          "barpolar": [
           {
            "marker": {
             "line": {
              "color": "#E5ECF6",
              "width": 0.5
             },
             "pattern": {
              "fillmode": "overlay",
              "size": 10,
              "solidity": 0.2
             }
            },
            "type": "barpolar"
           }
          ],
          "carpet": [
           {
            "aaxis": {
             "endlinecolor": "#2a3f5f",
             "gridcolor": "white",
             "linecolor": "white",
             "minorgridcolor": "white",
             "startlinecolor": "#2a3f5f"
            },
            "baxis": {
             "endlinecolor": "#2a3f5f",
             "gridcolor": "white",
             "linecolor": "white",
             "minorgridcolor": "white",
             "startlinecolor": "#2a3f5f"
            },
            "type": "carpet"
           }
          ],
          "choropleth": [
           {
            "colorbar": {
             "outlinewidth": 0,
             "ticks": ""
            },
            "type": "choropleth"
           }
          ],
          "contour": [
           {
            "colorbar": {
             "outlinewidth": 0,
             "ticks": ""
            },
            "colorscale": [
             [
              0,
              "#0d0887"
             ],
             [
              0.1111111111111111,
              "#46039f"
             ],
             [
              0.2222222222222222,
              "#7201a8"
             ],
             [
              0.3333333333333333,
              "#9c179e"
             ],
             [
              0.4444444444444444,
              "#bd3786"
             ],
             [
              0.5555555555555556,
              "#d8576b"
             ],
             [
              0.6666666666666666,
              "#ed7953"
             ],
             [
              0.7777777777777778,
              "#fb9f3a"
             ],
             [
              0.8888888888888888,
              "#fdca26"
             ],
             [
              1,
              "#f0f921"
             ]
            ],
            "type": "contour"
           }
          ],
          "contourcarpet": [
           {
            "colorbar": {
             "outlinewidth": 0,
             "ticks": ""
            },
            "type": "contourcarpet"
           }
          ],
          "heatmap": [
           {
            "colorbar": {
             "outlinewidth": 0,
             "ticks": ""
            },
            "colorscale": [
             [
              0,
              "#0d0887"
             ],
             [
              0.1111111111111111,
              "#46039f"
             ],
             [
              0.2222222222222222,
              "#7201a8"
             ],
             [
              0.3333333333333333,
              "#9c179e"
             ],
             [
              0.4444444444444444,
              "#bd3786"
             ],
             [
              0.5555555555555556,
              "#d8576b"
             ],
             [
              0.6666666666666666,
              "#ed7953"
             ],
             [
              0.7777777777777778,
              "#fb9f3a"
             ],
             [
              0.8888888888888888,
              "#fdca26"
             ],
             [
              1,
              "#f0f921"
             ]
            ],
            "type": "heatmap"
           }
          ],
          "heatmapgl": [
           {
            "colorbar": {
             "outlinewidth": 0,
             "ticks": ""
            },
            "colorscale": [
             [
              0,
              "#0d0887"
             ],
             [
              0.1111111111111111,
              "#46039f"
             ],
             [
              0.2222222222222222,
              "#7201a8"
             ],
             [
              0.3333333333333333,
              "#9c179e"
             ],
             [
              0.4444444444444444,
              "#bd3786"
             ],
             [
              0.5555555555555556,
              "#d8576b"
             ],
             [
              0.6666666666666666,
              "#ed7953"
             ],
             [
              0.7777777777777778,
              "#fb9f3a"
             ],
             [
              0.8888888888888888,
              "#fdca26"
             ],
             [
              1,
              "#f0f921"
             ]
            ],
            "type": "heatmapgl"
           }
          ],
          "histogram": [
           {
            "marker": {
             "pattern": {
              "fillmode": "overlay",
              "size": 10,
              "solidity": 0.2
             }
            },
            "type": "histogram"
           }
          ],
          "histogram2d": [
           {
            "colorbar": {
             "outlinewidth": 0,
             "ticks": ""
            },
            "colorscale": [
             [
              0,
              "#0d0887"
             ],
             [
              0.1111111111111111,
              "#46039f"
             ],
             [
              0.2222222222222222,
              "#7201a8"
             ],
             [
              0.3333333333333333,
              "#9c179e"
             ],
             [
              0.4444444444444444,
              "#bd3786"
             ],
             [
              0.5555555555555556,
              "#d8576b"
             ],
             [
              0.6666666666666666,
              "#ed7953"
             ],
             [
              0.7777777777777778,
              "#fb9f3a"
             ],
             [
              0.8888888888888888,
              "#fdca26"
             ],
             [
              1,
              "#f0f921"
             ]
            ],
            "type": "histogram2d"
           }
          ],
          "histogram2dcontour": [
           {
            "colorbar": {
             "outlinewidth": 0,
             "ticks": ""
            },
            "colorscale": [
             [
              0,
              "#0d0887"
             ],
             [
              0.1111111111111111,
              "#46039f"
             ],
             [
              0.2222222222222222,
              "#7201a8"
             ],
             [
              0.3333333333333333,
              "#9c179e"
             ],
             [
              0.4444444444444444,
              "#bd3786"
             ],
             [
              0.5555555555555556,
              "#d8576b"
             ],
             [
              0.6666666666666666,
              "#ed7953"
             ],
             [
              0.7777777777777778,
              "#fb9f3a"
             ],
             [
              0.8888888888888888,
              "#fdca26"
             ],
             [
              1,
              "#f0f921"
             ]
            ],
            "type": "histogram2dcontour"
           }
          ],
          "mesh3d": [
           {
            "colorbar": {
             "outlinewidth": 0,
             "ticks": ""
            },
            "type": "mesh3d"
           }
          ],
          "parcoords": [
           {
            "line": {
             "colorbar": {
              "outlinewidth": 0,
              "ticks": ""
             }
            },
            "type": "parcoords"
           }
          ],
          "pie": [
           {
            "automargin": true,
            "type": "pie"
           }
          ],
          "scatter": [
           {
            "marker": {
             "colorbar": {
              "outlinewidth": 0,
              "ticks": ""
             }
            },
            "type": "scatter"
           }
          ],
          "scatter3d": [
           {
            "line": {
             "colorbar": {
              "outlinewidth": 0,
              "ticks": ""
             }
            },
            "marker": {
             "colorbar": {
              "outlinewidth": 0,
              "ticks": ""
             }
            },
            "type": "scatter3d"
           }
          ],
          "scattercarpet": [
           {
            "marker": {
             "colorbar": {
              "outlinewidth": 0,
              "ticks": ""
             }
            },
            "type": "scattercarpet"
           }
          ],
          "scattergeo": [
           {
            "marker": {
             "colorbar": {
              "outlinewidth": 0,
              "ticks": ""
             }
            },
            "type": "scattergeo"
           }
          ],
          "scattergl": [
           {
            "marker": {
             "colorbar": {
              "outlinewidth": 0,
              "ticks": ""
             }
            },
            "type": "scattergl"
           }
          ],
          "scattermapbox": [
           {
            "marker": {
             "colorbar": {
              "outlinewidth": 0,
              "ticks": ""
             }
            },
            "type": "scattermapbox"
           }
          ],
          "scatterpolar": [
           {
            "marker": {
             "colorbar": {
              "outlinewidth": 0,
              "ticks": ""
             }
            },
            "type": "scatterpolar"
           }
          ],
          "scatterpolargl": [
           {
            "marker": {
             "colorbar": {
              "outlinewidth": 0,
              "ticks": ""
             }
            },
            "type": "scatterpolargl"
           }
          ],
          "scatterternary": [
           {
            "marker": {
             "colorbar": {
              "outlinewidth": 0,
              "ticks": ""
             }
            },
            "type": "scatterternary"
           }
          ],
          "surface": [
           {
            "colorbar": {
             "outlinewidth": 0,
             "ticks": ""
            },
            "colorscale": [
             [
              0,
              "#0d0887"
             ],
             [
              0.1111111111111111,
              "#46039f"
             ],
             [
              0.2222222222222222,
              "#7201a8"
             ],
             [
              0.3333333333333333,
              "#9c179e"
             ],
             [
              0.4444444444444444,
              "#bd3786"
             ],
             [
              0.5555555555555556,
              "#d8576b"
             ],
             [
              0.6666666666666666,
              "#ed7953"
             ],
             [
              0.7777777777777778,
              "#fb9f3a"
             ],
             [
              0.8888888888888888,
              "#fdca26"
             ],
             [
              1,
              "#f0f921"
             ]
            ],
            "type": "surface"
           }
          ],
          "table": [
           {
            "cells": {
             "fill": {
              "color": "#EBF0F8"
             },
             "line": {
              "color": "white"
             }
            },
            "header": {
             "fill": {
              "color": "#C8D4E3"
             },
             "line": {
              "color": "white"
             }
            },
            "type": "table"
           }
          ]
         },
         "layout": {
          "annotationdefaults": {
           "arrowcolor": "#2a3f5f",
           "arrowhead": 0,
           "arrowwidth": 1
          },
          "autotypenumbers": "strict",
          "coloraxis": {
           "colorbar": {
            "outlinewidth": 0,
            "ticks": ""
           }
          },
          "colorscale": {
           "diverging": [
            [
             0,
             "#8e0152"
            ],
            [
             0.1,
             "#c51b7d"
            ],
            [
             0.2,
             "#de77ae"
            ],
            [
             0.3,
             "#f1b6da"
            ],
            [
             0.4,
             "#fde0ef"
            ],
            [
             0.5,
             "#f7f7f7"
            ],
            [
             0.6,
             "#e6f5d0"
            ],
            [
             0.7,
             "#b8e186"
            ],
            [
             0.8,
             "#7fbc41"
            ],
            [
             0.9,
             "#4d9221"
            ],
            [
             1,
             "#276419"
            ]
           ],
           "sequential": [
            [
             0,
             "#0d0887"
            ],
            [
             0.1111111111111111,
             "#46039f"
            ],
            [
             0.2222222222222222,
             "#7201a8"
            ],
            [
             0.3333333333333333,
             "#9c179e"
            ],
            [
             0.4444444444444444,
             "#bd3786"
            ],
            [
             0.5555555555555556,
             "#d8576b"
            ],
            [
             0.6666666666666666,
             "#ed7953"
            ],
            [
             0.7777777777777778,
             "#fb9f3a"
            ],
            [
             0.8888888888888888,
             "#fdca26"
            ],
            [
             1,
             "#f0f921"
            ]
           ],
           "sequentialminus": [
            [
             0,
             "#0d0887"
            ],
            [
             0.1111111111111111,
             "#46039f"
            ],
            [
             0.2222222222222222,
             "#7201a8"
            ],
            [
             0.3333333333333333,
             "#9c179e"
            ],
            [
             0.4444444444444444,
             "#bd3786"
            ],
            [
             0.5555555555555556,
             "#d8576b"
            ],
            [
             0.6666666666666666,
             "#ed7953"
            ],
            [
             0.7777777777777778,
             "#fb9f3a"
            ],
            [
             0.8888888888888888,
             "#fdca26"
            ],
            [
             1,
             "#f0f921"
            ]
           ]
          },
          "colorway": [
           "#636efa",
           "#EF553B",
           "#00cc96",
           "#ab63fa",
           "#FFA15A",
           "#19d3f3",
           "#FF6692",
           "#B6E880",
           "#FF97FF",
           "#FECB52"
          ],
          "font": {
           "color": "#2a3f5f"
          },
          "geo": {
           "bgcolor": "white",
           "lakecolor": "white",
           "landcolor": "#E5ECF6",
           "showlakes": true,
           "showland": true,
           "subunitcolor": "white"
          },
          "hoverlabel": {
           "align": "left"
          },
          "hovermode": "closest",
          "mapbox": {
           "style": "light"
          },
          "paper_bgcolor": "white",
          "plot_bgcolor": "#E5ECF6",
          "polar": {
           "angularaxis": {
            "gridcolor": "white",
            "linecolor": "white",
            "ticks": ""
           },
           "bgcolor": "#E5ECF6",
           "radialaxis": {
            "gridcolor": "white",
            "linecolor": "white",
            "ticks": ""
           }
          },
          "scene": {
           "xaxis": {
            "backgroundcolor": "#E5ECF6",
            "gridcolor": "white",
            "gridwidth": 2,
            "linecolor": "white",
            "showbackground": true,
            "ticks": "",
            "zerolinecolor": "white"
           },
           "yaxis": {
            "backgroundcolor": "#E5ECF6",
            "gridcolor": "white",
            "gridwidth": 2,
            "linecolor": "white",
            "showbackground": true,
            "ticks": "",
            "zerolinecolor": "white"
           },
           "zaxis": {
            "backgroundcolor": "#E5ECF6",
            "gridcolor": "white",
            "gridwidth": 2,
            "linecolor": "white",
            "showbackground": true,
            "ticks": "",
            "zerolinecolor": "white"
           }
          },
          "shapedefaults": {
           "line": {
            "color": "#2a3f5f"
           }
          },
          "ternary": {
           "aaxis": {
            "gridcolor": "white",
            "linecolor": "white",
            "ticks": ""
           },
           "baxis": {
            "gridcolor": "white",
            "linecolor": "white",
            "ticks": ""
           },
           "bgcolor": "#E5ECF6",
           "caxis": {
            "gridcolor": "white",
            "linecolor": "white",
            "ticks": ""
           }
          },
          "title": {
           "x": 0.05
          },
          "xaxis": {
           "automargin": true,
           "gridcolor": "white",
           "linecolor": "white",
           "ticks": "",
           "title": {
            "standoff": 15
           },
           "zerolinecolor": "white",
           "zerolinewidth": 2
          },
          "yaxis": {
           "automargin": true,
           "gridcolor": "white",
           "linecolor": "white",
           "ticks": "",
           "title": {
            "standoff": 15
           },
           "zerolinecolor": "white",
           "zerolinewidth": 2
          }
         }
        },
        "xaxis": {
         "anchor": "y",
         "domain": [
          0,
          1
         ],
         "linecolor": "#000000",
         "linewidth": 2,
         "range": [
          0.75,
          3
         ],
         "tickfont": {
          "size": 15
         },
         "ticks": "inside",
         "tickwidth": 2,
         "title": {
          "text": ""
         },
         "type": "linear"
        },
        "yaxis": {
         "anchor": "x",
         "autorange": true,
         "domain": [
          0,
          1
         ],
         "exponentformat": "power",
         "linecolor": "#000000",
         "linewidth": 2,
         "range": [
          -1.1260516695393663,
          0.06164727529459116
         ],
         "tickfont": {
          "size": 15
         },
         "ticks": "inside",
         "tickwidth": 2,
         "title": {
          "text": ""
         },
         "type": "linear"
        }
       }
      },
      "image/png": "[encoded data removed]",
      "text/html": [
       "<div>                            <div id=\"e9ef767b-41a0-4bfb-b28f-98a142245f74\" class=\"plotly-graph-div\" style=\"height:525px; width:100%;\"></div>            <script type=\"text/javascript\">                require([\"plotly\"], function(Plotly) {                    window.PLOTLYENV=window.PLOTLYENV || {};                                    if (document.getElementById(\"e9ef767b-41a0-4bfb-b28f-98a142245f74\")) {                    Plotly.newPlot(                        \"e9ef767b-41a0-4bfb-b28f-98a142245f74\",                        [{\"legendgroup\":\"Spectral\",\"line\":{\"color\":\"#666666\",\"width\":3},\"mode\":\"lines\",\"name\":\"Spectral\",\"showlegend\":true,\"x\":[0.0,0.06283185307179587,0.12566370614359174,0.18849555921538758,0.25132741228718347,0.3141592653589793,0.37699111843077515,0.43982297150257105,0.5026548245743669,0.5654866776461628,0.6283185307179586,0.6911503837897545,0.7539822368615503,0.8168140899333463,0.8796459430051421,0.9424777960769378,1.0053096491487339,1.0681415022205298,1.1309733552923256,1.1938052083641213,1.2566370614359172,1.3194689145077132,1.382300767579509,1.4451326206513047,1.5079644737231006,1.5707963267948966,1.6336281798666925,1.6964600329384882,1.7592918860102842,1.8221237390820801,1.8849555921538756,1.9477874452256716,2.0106192982974678,2.0734511513692637,2.1362830044410597,2.199114857512855,2.261946710584651,2.324778563656447,2.3876104167282426,2.4504422698000385,2.5132741228718345,2.57610597594363,2.6389378290154264,2.701769682087222,2.764601535159018,2.827433388230814,2.8902652413026093,2.9530970943744057,3.015928947446201,3.078760800517997,3.141592653589793],\"xaxis\":\"x\",\"y\":[0,0,0,0,0,0,0,0,0,0,0,0,0,0,0,0,0,0,0,0,0,0,0,0,0,0,0,0,0,0,0,0,0,0,0,0,0,0,0,0,0,0,0,0,0,0,0,0,0,0,0],\"yaxis\":\"y\",\"type\":\"scatter\"},{\"legendgroup\":\"WENO-Z\",\"line\":{\"color\":\"#4262C1\",\"width\":3},\"mode\":\"lines\",\"name\":\"WENO-Z\",\"showlegend\":true,\"x\":[0.0,0.06283185307179587,0.12566370614359174,0.18849555921538758,0.25132741228718347,0.3141592653589793,0.37699111843077515,0.43982297150257105,0.5026548245743669,0.5654866776461628,0.6283185307179586,0.6911503837897545,0.7539822368615503,0.8168140899333463,0.8796459430051421,0.9424777960769378,1.0053096491487339,1.0681415022205298,1.1309733552923256,1.1938052083641213,1.2566370614359172,1.3194689145077132,1.382300767579509,1.4451326206513047,1.5079644737231006,1.5707963267948966,1.6336281798666925,1.6964600329384882,1.7592918860102842,1.8221237390820801,1.8849555921538756,1.9477874452256716,2.0106192982974678,2.0734511513692637,2.1362830044410597,2.199114857512855,2.261946710584651,2.324778563656447,2.3876104167282426,2.4504422698000385,2.5132741228718345,2.57610597594363,2.6389378290154264,2.701769682087222,2.764601535159018,2.827433388230814,2.8902652413026093,2.9530970943744057,3.015928947446201,3.078760800517997,3.141592653589793],\"xaxis\":\"x\",\"y\":[0.0,1.9739208531599495e-11,-7.76366562149633e-08,-7.325695605686633e-07,-4.151918346906314e-06,-1.5642548532923684e-05,-4.6184566599549726e-05,-0.00011492932389955968,-0.0002523413277231157,-0.0005030071479268372,-0.0009287995053455234,-0.001611430780030787,-0.00265459599904716,-0.004185437690466642,-0.0063553014770150185,-0.00933919195085764,-0.013334562070667744,-0.01855870522558689,-0.02524498850107193,-0.033638231456279755,-0.0439886711537838,-0.05654529482126236,-0.07154826074838638,-0.08922091126441956,-0.10976117849349976,-0.13333334028720856,-0.1600596159696579,-0.19001249969005585,-0.22320780158042908,-0.2595987021923065,-0.29907119274139404,-0.34144097566604614,-0.3864520788192749,-0.4337772727012634,-0.4830203652381897,-0.5337206721305847,-0.5853588581085205,-0.6373649835586548,-0.6891282796859741,-0.740007758140564,-0.7893446683883667,-0.8364753723144531,-0.8807450532913208,-0.9215213060379028,-0.9582079648971558,-0.9902578592300415,-1.0171852111816406,-1.0385764837265015,-1.0540999174118042,-1.0635125637054443,-1.0666667222976685],\"yaxis\":\"y\",\"type\":\"scatter\"},{\"legendgroup\":\"WENO-Z+\",\"line\":{\"color\":\"#C23C52\",\"width\":3},\"mode\":\"lines\",\"name\":\"WENO-Z+\",\"showlegend\":true,\"x\":[0.0,0.06283185307179587,0.12566370614359174,0.18849555921538758,0.25132741228718347,0.3141592653589793,0.37699111843077515,0.43982297150257105,0.5026548245743669,0.5654866776461628,0.6283185307179586,0.6911503837897545,0.7539822368615503,0.8168140899333463,0.8796459430051421,0.9424777960769378,1.0053096491487339,1.0681415022205298,1.1309733552923256,1.1938052083641213,1.2566370614359172,1.3194689145077132,1.382300767579509,1.4451326206513047,1.5079644737231006,1.5707963267948966,1.6336281798666925,1.6964600329384882,1.7592918860102842,1.8221237390820801,1.8849555921538756,1.9477874452256716,2.0106192982974678,2.0734511513692637,2.1362830044410597,2.199114857512855,2.261946710584651,2.324778563656447,2.3876104167282426,2.4504422698000385,2.5132741228718345,2.57610597594363,2.6389378290154264,2.701769682087222,2.764601535159018,2.827433388230814,2.8902652413026093,2.9530970943744057,3.015928947446201,3.078760800517997,3.141592653589793],\"xaxis\":\"x\",\"y\":[0.0,1.9739208531599495e-11,1.3330571846381645e-07,1.376854243062553e-06,7.216765425255289e-06,2.5402396204299293e-05,6.856808613520116e-05,0.00015367803280241787,0.00029900652589276433,0.0005194305558688939,0.0008205900085158646,0.001192093244753778,0.0016008556121960282,0.001985082169994712,0.0022496043238788843,0.002262328052893281,0.0018527674255892634,0.0008126445463858545,-0.0011019455268979073,-0.004165982827544212,-0.008679316379129887,-0.014958692714571953,-0.02332824096083641,-0.034109003841876984,-0.04760720580816269,-0.06410253047943115,-0.0838361606001854,-0.10699888318777084,-0.13372057676315308,-0.16406036913394928,-0.19799868762493134,-0.23543104529380798,-0.2761642038822174,-0.31991446018218994,-0.3663088381290436,-0.41488876938819885,-0.4651162922382355,-0.5163828134536743,-0.5680204033851624,-0.6193148493766785,-0.6695204973220825,-0.7178767919540405,-0.7636249661445618,-0.8060261607170105,-0.8443784117698669,-0.8780336976051331,-0.9064138531684875,-0.9290246963500977,-0.9454683065414429,-0.9554532766342163,-0.9588014483451843],\"yaxis\":\"y\",\"type\":\"scatter\"},{\"legendgroup\":\"WENO-ZD\",\"line\":{\"color\":\"#C2881D\",\"dash\":\"dash\",\"width\":3},\"mode\":\"lines\",\"name\":\"WENO-ZD\",\"showlegend\":true,\"x\":[0.0,0.06283185307179587,0.12566370614359174,0.18849555921538758,0.25132741228718347,0.3141592653589793,0.37699111843077515,0.43982297150257105,0.5026548245743669,0.5654866776461628,0.6283185307179586,0.6911503837897545,0.7539822368615503,0.8168140899333463,0.8796459430051421,0.9424777960769378,1.0053096491487339,1.0681415022205298,1.1309733552923256,1.1938052083641213,1.2566370614359172,1.3194689145077132,1.382300767579509,1.4451326206513047,1.5079644737231006,1.5707963267948966,1.6336281798666925,1.6964600329384882,1.7592918860102842,1.8221237390820801,1.8849555921538756,1.9477874452256716,2.0106192982974678,2.0734511513692637,2.1362830044410597,2.199114857512855,2.261946710584651,2.324778563656447,2.3876104167282426,2.4504422698000385,2.5132741228718345,2.57610597594363,2.6389378290154264,2.701769682087222,2.764601535159018,2.827433388230814,2.8902652413026093,2.9530970943744057,3.015928947446201,3.078760800517997,3.141592653589793],\"xaxis\":\"x\",\"y\":[0.0,1.9739208531599495e-11,-7.76366562149633e-08,-7.325695605686633e-07,-4.151918346906314e-06,-1.5642548532923684e-05,-4.6184566599549726e-05,-0.00011492932389955968,-0.0002523413277231157,-0.0005030071479268372,-0.0009287995053455234,-0.001611430780030787,-0.00265459599904716,-0.004185437690466642,-0.0063553014770150185,-0.00933919195085764,-0.013334562070667744,-0.01855870522558689,-0.02524498850107193,-0.033638231456279755,-0.0439886711537838,-0.05654529482126236,-0.07154826074838638,-0.08922091126441956,-0.10976117849349976,-0.13333334028720856,-0.1600596159696579,-0.19001249969005585,-0.22320780158042908,-0.2595987021923065,-0.29907119274139404,-0.34144097566604614,-0.3864520788192749,-0.4337772727012634,-0.4830203652381897,-0.5337206721305847,-0.5853588581085205,-0.6373649835586548,-0.6891282796859741,-0.740007758140564,-0.7893446683883667,-0.8364753723144531,-0.8807450532913208,-0.9215213060379028,-0.9582079648971558,-0.9902578592300415,-1.0171852111816406,-1.0385764837265015,-1.0540999174118042,-1.0635125637054443,-1.0666667222976685],\"yaxis\":\"y\",\"type\":\"scatter\"},{\"legendgroup\":\"WENO-ZD+\",\"line\":{\"color\":\"#57933B\",\"width\":3},\"mode\":\"lines\",\"name\":\"WENO-ZD+\",\"showlegend\":true,\"x\":[0.0,0.06283185307179587,0.12566370614359174,0.18849555921538758,0.25132741228718347,0.3141592653589793,0.37699111843077515,0.43982297150257105,0.5026548245743669,0.5654866776461628,0.6283185307179586,0.6911503837897545,0.7539822368615503,0.8168140899333463,0.8796459430051421,0.9424777960769378,1.0053096491487339,1.0681415022205298,1.1309733552923256,1.1938052083641213,1.2566370614359172,1.3194689145077132,1.382300767579509,1.4451326206513047,1.5079644737231006,1.5707963267948966,1.6336281798666925,1.6964600329384882,1.7592918860102842,1.8221237390820801,1.8849555921538756,1.9477874452256716,2.0106192982974678,2.0734511513692637,2.1362830044410597,2.199114857512855,2.261946710584651,2.324778563656447,2.3876104167282426,2.4504422698000385,2.5132741228718345,2.57610597594363,2.6389378290154264,2.701769682087222,2.764601535159018,2.827433388230814,2.8902652413026093,2.9530970943744057,3.015928947446201,3.078760800517997,3.141592653589793],\"xaxis\":\"x\",\"y\":[0.0,1.9739208531599495e-11,2.2283417777657633e-08,3.110401110006933e-07,1.5102191355254035e-06,4.619021183316363e-06,1.0325784387532622e-05,1.665431227593217e-05,1.6521382349310443e-05,-6.67084168526344e-06,-8.335357415489852e-05,-0.00026238770806230605,-0.0006152161513455212,-0.0012395496014505625,-0.0022617646027356386,-0.0038382585626095533,-0.006155226845294237,-0.009426930919289589,-0.013892869465053082,-0.01981258951127529,-0.027460148558020592,-0.037116266787052155,-0.049060236662626266,-0.06356047838926315,-0.08086483925580978,-0.10119049996137619,-0.12471392005681992,-0.15156161785125732,-0.1818012148141861,-0.21543389558792114,-0.2523883283138275,-0.29251617193222046,-0.3355894684791565,-0.38130033016204834,-0.42926257848739624,-0.47901585698127747,-0.5300318598747253,-0.5817224383354187,-0.6334503293037415,-0.6845405101776123,-0.7342944145202637,-0.7820037007331848,-0.8269659876823425,-0.8684999346733093,-0.9059609174728394,-0.9387556910514832,-0.9663561582565308,-0.9883119463920593,-1.0042610168457031,-1.013938307762146,-1.0171821117401123],\"yaxis\":\"y\",\"type\":\"scatter\"}],                        {\"template\":{\"data\":{\"bar\":[{\"error_x\":{\"color\":\"#2a3f5f\"},\"error_y\":{\"color\":\"#2a3f5f\"},\"marker\":{\"line\":{\"color\":\"#E5ECF6\",\"width\":0.5},\"pattern\":{\"fillmode\":\"overlay\",\"size\":10,\"solidity\":0.2}},\"type\":\"bar\"}],\"barpolar\":[{\"marker\":{\"line\":{\"color\":\"#E5ECF6\",\"width\":0.5},\"pattern\":{\"fillmode\":\"overlay\",\"size\":10,\"solidity\":0.2}},\"type\":\"barpolar\"}],\"carpet\":[{\"aaxis\":{\"endlinecolor\":\"#2a3f5f\",\"gridcolor\":\"white\",\"linecolor\":\"white\",\"minorgridcolor\":\"white\",\"startlinecolor\":\"#2a3f5f\"},\"baxis\":{\"endlinecolor\":\"#2a3f5f\",\"gridcolor\":\"white\",\"linecolor\":\"white\",\"minorgridcolor\":\"white\",\"startlinecolor\":\"#2a3f5f\"},\"type\":\"carpet\"}],\"choropleth\":[{\"colorbar\":{\"outlinewidth\":0,\"ticks\":\"\"},\"type\":\"choropleth\"}],\"contour\":[{\"colorbar\":{\"outlinewidth\":0,\"ticks\":\"\"},\"colorscale\":[[0.0,\"#0d0887\"],[0.1111111111111111,\"#46039f\"],[0.2222222222222222,\"#7201a8\"],[0.3333333333333333,\"#9c179e\"],[0.4444444444444444,\"#bd3786\"],[0.5555555555555556,\"#d8576b\"],[0.6666666666666666,\"#ed7953\"],[0.7777777777777778,\"#fb9f3a\"],[0.8888888888888888,\"#fdca26\"],[1.0,\"#f0f921\"]],\"type\":\"contour\"}],\"contourcarpet\":[{\"colorbar\":{\"outlinewidth\":0,\"ticks\":\"\"},\"type\":\"contourcarpet\"}],\"heatmap\":[{\"colorbar\":{\"outlinewidth\":0,\"ticks\":\"\"},\"colorscale\":[[0.0,\"#0d0887\"],[0.1111111111111111,\"#46039f\"],[0.2222222222222222,\"#7201a8\"],[0.3333333333333333,\"#9c179e\"],[0.4444444444444444,\"#bd3786\"],[0.5555555555555556,\"#d8576b\"],[0.6666666666666666,\"#ed7953\"],[0.7777777777777778,\"#fb9f3a\"],[0.8888888888888888,\"#fdca26\"],[1.0,\"#f0f921\"]],\"type\":\"heatmap\"}],\"heatmapgl\":[{\"colorbar\":{\"outlinewidth\":0,\"ticks\":\"\"},\"colorscale\":[[0.0,\"#0d0887\"],[0.1111111111111111,\"#46039f\"],[0.2222222222222222,\"#7201a8\"],[0.3333333333333333,\"#9c179e\"],[0.4444444444444444,\"#bd3786\"],[0.5555555555555556,\"#d8576b\"],[0.6666666666666666,\"#ed7953\"],[0.7777777777777778,\"#fb9f3a\"],[0.8888888888888888,\"#fdca26\"],[1.0,\"#f0f921\"]],\"type\":\"heatmapgl\"}],\"histogram\":[{\"marker\":{\"pattern\":{\"fillmode\":\"overlay\",\"size\":10,\"solidity\":0.2}},\"type\":\"histogram\"}],\"histogram2d\":[{\"colorbar\":{\"outlinewidth\":0,\"ticks\":\"\"},\"colorscale\":[[0.0,\"#0d0887\"],[0.1111111111111111,\"#46039f\"],[0.2222222222222222,\"#7201a8\"],[0.3333333333333333,\"#9c179e\"],[0.4444444444444444,\"#bd3786\"],[0.5555555555555556,\"#d8576b\"],[0.6666666666666666,\"#ed7953\"],[0.7777777777777778,\"#fb9f3a\"],[0.8888888888888888,\"#fdca26\"],[1.0,\"#f0f921\"]],\"type\":\"histogram2d\"}],\"histogram2dcontour\":[{\"colorbar\":{\"outlinewidth\":0,\"ticks\":\"\"},\"colorscale\":[[0.0,\"#0d0887\"],[0.1111111111111111,\"#46039f\"],[0.2222222222222222,\"#7201a8\"],[0.3333333333333333,\"#9c179e\"],[0.4444444444444444,\"#bd3786\"],[0.5555555555555556,\"#d8576b\"],[0.6666666666666666,\"#ed7953\"],[0.7777777777777778,\"#fb9f3a\"],[0.8888888888888888,\"#fdca26\"],[1.0,\"#f0f921\"]],\"type\":\"histogram2dcontour\"}],\"mesh3d\":[{\"colorbar\":{\"outlinewidth\":0,\"ticks\":\"\"},\"type\":\"mesh3d\"}],\"parcoords\":[{\"line\":{\"colorbar\":{\"outlinewidth\":0,\"ticks\":\"\"}},\"type\":\"parcoords\"}],\"pie\":[{\"automargin\":true,\"type\":\"pie\"}],\"scatter\":[{\"marker\":{\"colorbar\":{\"outlinewidth\":0,\"ticks\":\"\"}},\"type\":\"scatter\"}],\"scatter3d\":[{\"line\":{\"colorbar\":{\"outlinewidth\":0,\"ticks\":\"\"}},\"marker\":{\"colorbar\":{\"outlinewidth\":0,\"ticks\":\"\"}},\"type\":\"scatter3d\"}],\"scattercarpet\":[{\"marker\":{\"colorbar\":{\"outlinewidth\":0,\"ticks\":\"\"}},\"type\":\"scattercarpet\"}],\"scattergeo\":[{\"marker\":{\"colorbar\":{\"outlinewidth\":0,\"ticks\":\"\"}},\"type\":\"scattergeo\"}],\"scattergl\":[{\"marker\":{\"colorbar\":{\"outlinewidth\":0,\"ticks\":\"\"}},\"type\":\"scattergl\"}],\"scattermapbox\":[{\"marker\":{\"colorbar\":{\"outlinewidth\":0,\"ticks\":\"\"}},\"type\":\"scattermapbox\"}],\"scatterpolar\":[{\"marker\":{\"colorbar\":{\"outlinewidth\":0,\"ticks\":\"\"}},\"type\":\"scatterpolar\"}],\"scatterpolargl\":[{\"marker\":{\"colorbar\":{\"outlinewidth\":0,\"ticks\":\"\"}},\"type\":\"scatterpolargl\"}],\"scatterternary\":[{\"marker\":{\"colorbar\":{\"outlinewidth\":0,\"ticks\":\"\"}},\"type\":\"scatterternary\"}],\"surface\":[{\"colorbar\":{\"outlinewidth\":0,\"ticks\":\"\"},\"colorscale\":[[0.0,\"#0d0887\"],[0.1111111111111111,\"#46039f\"],[0.2222222222222222,\"#7201a8\"],[0.3333333333333333,\"#9c179e\"],[0.4444444444444444,\"#bd3786\"],[0.5555555555555556,\"#d8576b\"],[0.6666666666666666,\"#ed7953\"],[0.7777777777777778,\"#fb9f3a\"],[0.8888888888888888,\"#fdca26\"],[1.0,\"#f0f921\"]],\"type\":\"surface\"}],\"table\":[{\"cells\":{\"fill\":{\"color\":\"#EBF0F8\"},\"line\":{\"color\":\"white\"}},\"header\":{\"fill\":{\"color\":\"#C8D4E3\"},\"line\":{\"color\":\"white\"}},\"type\":\"table\"}]},\"layout\":{\"annotationdefaults\":{\"arrowcolor\":\"#2a3f5f\",\"arrowhead\":0,\"arrowwidth\":1},\"autotypenumbers\":\"strict\",\"coloraxis\":{\"colorbar\":{\"outlinewidth\":0,\"ticks\":\"\"}},\"colorscale\":{\"diverging\":[[0,\"#8e0152\"],[0.1,\"#c51b7d\"],[0.2,\"#de77ae\"],[0.3,\"#f1b6da\"],[0.4,\"#fde0ef\"],[0.5,\"#f7f7f7\"],[0.6,\"#e6f5d0\"],[0.7,\"#b8e186\"],[0.8,\"#7fbc41\"],[0.9,\"#4d9221\"],[1,\"#276419\"]],\"sequential\":[[0.0,\"#0d0887\"],[0.1111111111111111,\"#46039f\"],[0.2222222222222222,\"#7201a8\"],[0.3333333333333333,\"#9c179e\"],[0.4444444444444444,\"#bd3786\"],[0.5555555555555556,\"#d8576b\"],[0.6666666666666666,\"#ed7953\"],[0.7777777777777778,\"#fb9f3a\"],[0.8888888888888888,\"#fdca26\"],[1.0,\"#f0f921\"]],\"sequentialminus\":[[0.0,\"#0d0887\"],[0.1111111111111111,\"#46039f\"],[0.2222222222222222,\"#7201a8\"],[0.3333333333333333,\"#9c179e\"],[0.4444444444444444,\"#bd3786\"],[0.5555555555555556,\"#d8576b\"],[0.6666666666666666,\"#ed7953\"],[0.7777777777777778,\"#fb9f3a\"],[0.8888888888888888,\"#fdca26\"],[1.0,\"#f0f921\"]]},\"colorway\":[\"#636efa\",\"#EF553B\",\"#00cc96\",\"#ab63fa\",\"#FFA15A\",\"#19d3f3\",\"#FF6692\",\"#B6E880\",\"#FF97FF\",\"#FECB52\"],\"font\":{\"color\":\"#2a3f5f\"},\"geo\":{\"bgcolor\":\"white\",\"lakecolor\":\"white\",\"landcolor\":\"#E5ECF6\",\"showlakes\":true,\"showland\":true,\"subunitcolor\":\"white\"},\"hoverlabel\":{\"align\":\"left\"},\"hovermode\":\"closest\",\"mapbox\":{\"style\":\"light\"},\"paper_bgcolor\":\"white\",\"plot_bgcolor\":\"#E5ECF6\",\"polar\":{\"angularaxis\":{\"gridcolor\":\"white\",\"linecolor\":\"white\",\"ticks\":\"\"},\"bgcolor\":\"#E5ECF6\",\"radialaxis\":{\"gridcolor\":\"white\",\"linecolor\":\"white\",\"ticks\":\"\"}},\"scene\":{\"xaxis\":{\"backgroundcolor\":\"#E5ECF6\",\"gridcolor\":\"white\",\"gridwidth\":2,\"linecolor\":\"white\",\"showbackground\":true,\"ticks\":\"\",\"zerolinecolor\":\"white\"},\"yaxis\":{\"backgroundcolor\":\"#E5ECF6\",\"gridcolor\":\"white\",\"gridwidth\":2,\"linecolor\":\"white\",\"showbackground\":true,\"ticks\":\"\",\"zerolinecolor\":\"white\"},\"zaxis\":{\"backgroundcolor\":\"#E5ECF6\",\"gridcolor\":\"white\",\"gridwidth\":2,\"linecolor\":\"white\",\"showbackground\":true,\"ticks\":\"\",\"zerolinecolor\":\"white\"}},\"shapedefaults\":{\"line\":{\"color\":\"#2a3f5f\"}},\"ternary\":{\"aaxis\":{\"gridcolor\":\"white\",\"linecolor\":\"white\",\"ticks\":\"\"},\"baxis\":{\"gridcolor\":\"white\",\"linecolor\":\"white\",\"ticks\":\"\"},\"bgcolor\":\"#E5ECF6\",\"caxis\":{\"gridcolor\":\"white\",\"linecolor\":\"white\",\"ticks\":\"\"}},\"title\":{\"x\":0.05},\"xaxis\":{\"automargin\":true,\"gridcolor\":\"white\",\"linecolor\":\"white\",\"ticks\":\"\",\"title\":{\"standoff\":15},\"zerolinecolor\":\"white\",\"zerolinewidth\":2},\"yaxis\":{\"automargin\":true,\"gridcolor\":\"white\",\"linecolor\":\"white\",\"ticks\":\"\",\"title\":{\"standoff\":15},\"zerolinecolor\":\"white\",\"zerolinewidth\":2}}},\"xaxis\":{\"anchor\":\"y\",\"domain\":[0.0,1.0],\"tickfont\":{\"size\":15},\"linecolor\":\"#000000\",\"ticks\":\"inside\",\"tickwidth\":2,\"title\":{\"text\":\"\"},\"linewidth\":2,\"range\":[0.75,3]},\"yaxis\":{\"anchor\":\"x\",\"domain\":[0.0,1.0],\"tickfont\":{\"size\":15},\"linecolor\":\"#000000\",\"ticks\":\"inside\",\"tickwidth\":2,\"title\":{\"text\":\"\"},\"linewidth\":2,\"exponentformat\":\"power\"},\"font\":{\"size\":15},\"legend\":{\"x\":0.01,\"y\":0.03,\"xanchor\":\"left\",\"yanchor\":\"bottom\",\"title\":{\"text\":\"\"},\"bordercolor\":\"#666666\",\"borderwidth\":2,\"itemwidth\":30,\"itemsizing\":\"trace\",\"tracegroupgap\":0},\"paper_bgcolor\":\"#FFFFFF\",\"plot_bgcolor\":\"#FFFFFF\",\"margin\":{\"b\":10,\"l\":0,\"r\":0,\"t\":10}},                        {\"responsive\": true}                    ).then(function(){\n",
       "                            \n",
       "var gd = document.getElementById('e9ef767b-41a0-4bfb-b28f-98a142245f74');\n",
       "var x = new MutationObserver(function (mutations, observer) {{\n",
       "        var display = window.getComputedStyle(gd).display;\n",
       "        if (!display || display === 'none') {{\n",
       "            console.log([gd, 'removed!']);\n",
       "            Plotly.purge(gd);\n",
       "            observer.disconnect();\n",
       "        }}\n",
       "}});\n",
       "\n",
       "// Listen for the removal of the full notebook cells\n",
       "var notebookContainer = gd.closest('#notebook-container');\n",
       "if (notebookContainer) {{\n",
       "    x.observe(notebookContainer, {childList: true});\n",
       "}}\n",
       "\n",
       "// Listen for the clearing of the current output cell\n",
       "var outputEl = gd.closest('.output');\n",
       "if (outputEl) {{\n",
       "    x.observe(outputEl, {childList: true});\n",
       "}}\n",
       "\n",
       "                        })                };                });            </script>        </div>"
      ]
     },
     "metadata": {},
     "output_type": "display_data"
    }
   ],
   "source": [
    "fig = make_subplots(\n",
    "    rows  = 1, \n",
    "    cols  = 1\n",
    ")\n",
    "\n",
    "fig.add_trace(\n",
    "    ply_go.Scatter(\n",
    "        x     = 2*np.pi*np.arange(int(N/2)+1)/N                  ,\n",
    "        y     = 0*np.arange(int(N/2)+1)                          ,\n",
    "        mode  = \"lines\"                                          ,\n",
    "        line  = ply_go.scatter.Line(color = \"#666666\", width = 3),\n",
    "        name  = \"Spectral\"                                      ,\n",
    "        xaxis = \"x\"                                              ,\n",
    "        yaxis = \"y\"                                              ,\n",
    "        legendgroup = \"Spectral\",\n",
    "        showlegend  = True\n",
    "    ),\n",
    "    row = 1,\n",
    "    col = 1\n",
    ")\n",
    "\n",
    "for nome in nomes:\n",
    "    \n",
    "    x = 2*np.pi*np.arange(int(N/2)+1)/N \n",
    "    y = np.imag(ADR[nome])\n",
    "    \n",
    "    fig.add_trace(\n",
    "        ply_go.Scatter(\n",
    "            x          = x       ,\n",
    "            y          = y       ,\n",
    "            mode       = \"lines\" ,\n",
    "            name       = nome    ,\n",
    "            line = ply_go.scatter.Line(\n",
    "                color = cores[nome],\n",
    "                width = 3          ,\n",
    "                dash  = line_type[nome]\n",
    "            ),\n",
    "            xaxis = \"x\" ,\n",
    "            yaxis = \"y\" ,\n",
    "            legendgroup = nome,\n",
    "            showlegend  = True\n",
    "        ),\n",
    "        row = 1,\n",
    "        col = 1\n",
    "    )\n",
    "    \n",
    "fig.update_layout(\n",
    "        paper_bgcolor = \"#FFFFFF\",\n",
    "        plot_bgcolor  = \"#FFFFFF\",\n",
    "        font_size     = 15       ,\n",
    "        xaxis         = dict(\n",
    "            linecolor = \"#000000\" , \n",
    "            ticks     = \"inside\"  ,\n",
    "            tickwidth = 2         ,\n",
    "            title     = \"\"        ,\n",
    "            linewidth = 2         ,\n",
    "            tickfont_size = 15    ,\n",
    "            range     = [0.75, 3]\n",
    "        ),\n",
    "        yaxis         = dict(\n",
    "            linecolor = \"#000000\" ,\n",
    "            ticks     = \"inside\"  ,\n",
    "            tickwidth = 2         ,\n",
    "            title     = \"\"        ,\n",
    "            linewidth = 2         ,\n",
    "            tickfont_size = 15    ,\n",
    "            range     = None\n",
    "        ),\n",
    "        legend = dict(\n",
    "            x             = 0.01      ,\n",
    "            y             = 0.03      ,\n",
    "            xanchor       = \"left\"    ,\n",
    "            yanchor       = \"bottom\"  ,\n",
    "            title         = \"\"        ,\n",
    "            bordercolor   = \"#666666\" ,\n",
    "            borderwidth   = 2         ,\n",
    "            itemwidth     = 30        ,\n",
    "            itemsizing    = \"trace\"   ,\n",
    "            tracegroupgap = 0\n",
    "        ),\n",
    "        margin = ply_go.layout.Margin(\n",
    "            l = 0  , #left margin\n",
    "            r = 0  , #right margin\n",
    "            b = 10 , #bottom margin\n",
    "            t = 10   #top margin\n",
    "        )\n",
    "    )\n",
    "fig.update_yaxes(exponentformat=\"power\")\n",
    "\n",
    "# Zoom out\n",
    "# x_range = [0.75, 3]\n",
    "# y_range = None\n",
    "\n",
    "# Defeito WENO-Z+\n",
    "# x_range = [0.2, 1.3]\n",
    "# y_range = [-0.003, 0.003]\n",
    "\n",
    "# Defeito WENO-ZD+\n",
    "# x_range = [0.1, 0.7]\n",
    "# y_range = [-0.00002, 0.00002]\n",
    "\n",
    "fig.show()\n",
    "# fig.write_html(\"teste ADR imag (N=100, tau=10^(-10)).html\")\n",
    "# fig.write_image(\"htmls/teste ADR imag (N=100, tau=10^(-10)).pdf\", width = 480, height = 340)\n",
    "# fig.write_image(\"htmls/teste ADR imag defeito WENO-Z+ (N=100, tau=10^(-10)).pdf\", width = 480, height = 340)"
   ]
  },
  {
   "cell_type": "code",
   "execution_count": null,
   "id": "9cb8d139-10e5-4b44-ad55-7aabafff848a",
   "metadata": {},
   "outputs": [],
   "source": []
  }
 ],
 "metadata": {
  "kernelspec": {
   "display_name": "Python 3 (ipykernel)",
   "language": "python",
   "name": "python3"
  },
  "language_info": {
   "codemirror_mode": {
    "name": "ipython",
    "version": 3
   },
   "file_extension": ".py",
   "mimetype": "text/x-python",
   "name": "python",
   "nbconvert_exporter": "python",
   "pygments_lexer": "ipython3",
   "version": "3.9.5"
  },
  "vscode": {
   "interpreter": {
    "hash": "19d1d53a962d236aa061289c2ac16dc8e6d9648c89fe79f459ae9a3493bc67b4"
   }
  },
  "widgets": {
   "application/vnd.jupyter.widget-state+json": {
    "state": {},
    "version_major": 2,
    "version_minor": 0
   }
  }
 },
 "nbformat": 4,
 "nbformat_minor": 5
}
