{
 "cells": [
  {
   "cell_type": "code",
   "execution_count": 6,
   "metadata": {},
   "outputs": [],
   "source": [
    "from aux_func_V3 import *\n",
    "import API_Numpy\n",
    "import API_TensorFlow\n",
    "\n",
    "import dill\n",
    "import seaborn\n",
    "import matplotlib.pyplot as plt\n",
    "from IPython.display import clear_output\n",
    "import h5py"
   ]
  },
  {
   "cell_type": "code",
   "execution_count": 7,
   "metadata": {},
   "outputs": [],
   "source": [
    "def MalhaRetangular(N):\n",
    "   Δ = 10.0/N\n",
    "   Δx = Δ; Δy = Δ\n",
    "   x = API_Numpy.arange(-5.0,5.0+Δx,Δx)\n",
    "   y = API_Numpy.arange(-1.0,1.0,Δy)\n",
    "\n",
    "   X = API_Numpy.stack([x]*y.shape[0],axis=1)\n",
    "   Y = API_Numpy.stack([y]*x.shape[0],axis=0)\n",
    "\n",
    "   return X, Y, Δ\n",
    "\n",
    "def CondiçãoInicialShockEntropy2D(X, Y, γ,θ):\n",
    "   R = API_Numpy.zeros(X.shape)\n",
    "   P = API_Numpy.ones(X.shape)\n",
    "   U = API_Numpy.zeros(X.shape)\n",
    "   V = API_Numpy.zeros(X.shape)\n",
    "\n",
    "   I = API_Numpy.ones(X.shape)\n",
    "\n",
    "   l=X < -4\n",
    "   r=X >=-4\n",
    "\n",
    "   R[l]=I[l]*27.0/7.0\n",
    "   U[l]=I[l]*4.0*API_Numpy.sqrt(35.0)/9.0\n",
    "   P[l]=I[l]*31.0/3.0\n",
    "\n",
    "   R[r] = 1.0 + API_Numpy.sin(X[r]*API_Numpy.cos(θ)*2.0*API_Numpy.pi + Y[r]*API_Numpy.sin(θ)*2.0*API_Numpy.pi)/5.0\n",
    "\n",
    "   E = P/(γ-1.0) + R*(U**2 + V**2)/2.0\n",
    "   Q0 = API_Numpy.stack([R, R*U, R*V, E],axis=0)\n",
    "   return Q0\n",
    "\n",
    "def CondiçãoInicialShockEntropy2D_N(N, γ,θ):\n",
    "   X, Y, Δ = MalhaRetangular(N)\n",
    "   Q0 = CondiçãoInicialShockEntropy2D(X, Y, γ,θ)\n",
    "   return X, Y, Δ, Q0\n",
    "\n",
    "def NullForce(Q,API):\n",
    "   return 0.0"
   ]
  },
  {
   "cell_type": "code",
   "execution_count": 8,
   "metadata": {},
   "outputs": [],
   "source": [
    "class ShockEntropy2DGhostPointsX:\n",
    "    def __init__(self,γ,Δx,y,θ):\n",
    "        self.γ=γ\n",
    "        self.Δx=Δx\n",
    "        self.y=y\n",
    "        self.θ=θ\n",
    "    def __call__(self,Q,API,t=None):\n",
    "        ρl = 27.0/7.0\n",
    "        ul = 4.0*API.cast(API.sqrt(35.0),'float64')/9.0\n",
    "        pl = 31.0/3.0\n",
    "        El = pl/(γ-1.0) + ρl*(ul**2)/2.0\n",
    "        El = API.cast(El,'float64')\n",
    "\n",
    "        raw_ref_shape=API.shape(Q)[:-3]\n",
    "        out_shape=API.concat([API.shape(Q)[:-2],[3],API.shape(Q)[-1:]],axis=0)\n",
    "        ref_shape=API.concat([API.ones(API.shape(raw_ref_shape),dtype='int32'),[4],[1],[1]],axis=0)\n",
    "\n",
    "        vals_left=API.reshape([ρl, ρl*ul, 0.0, El],ref_shape)\n",
    "\n",
    "        Xr = API.reshape([5.0+self.Δx, 5.0+2*self.Δx, 5.0+3*self.Δx], [3, 1])\n",
    "        Yr = self.y[...,:3,:]\n",
    "        ρr = 1.0 + API.sin(5.0*Xr*API.cos(self.θ) + 5.0*Yr*API.sin(self.θ))/5.0\n",
    "        pr = API.ones(ρr.shape)\n",
    "        ur = API.zeros(ρr.shape)\n",
    "        vr = API.zeros(ρr.shape)\n",
    "        Er = pr/(self.γ-1.0)\n",
    "        Qr = API.stack([ρr, ur, vr, Er],axis=-3)\n",
    "\n",
    "        Qg = [API.ones(out_shape,'float64')*API.cast(vals_left,'float64'),\n",
    "        Q,\n",
    "        API.cast(Qr,'float64')]\n",
    "\n",
    "        return API.concat(Qg,-2)\n",
    "\n",
    "def ShockEntropy2DGhostPointsY(Q,API,t=None):\n",
    "    Qg = API.concat(\n",
    "        [Q[...,:,-3:],\n",
    "            Q,\n",
    "            Q[...,:,:3]],axis=-1)\n",
    "    return Qg"
   ]
  },
  {
   "cell_type": "code",
   "execution_count": 9,
   "metadata": {},
   "outputs": [],
   "source": [
    "γ = 7.0/5.0\n",
    "θ = API_Numpy.pi/6.0\n",
    "N = 400\n",
    "x, y, Δ, U0 = CondiçãoInicialShockEntropy2D_N(N, γ,θ)\n",
    "Δx=Δ\n",
    "cfl = 0.5\n",
    "t_final = 1.8\n",
    "\n",
    "GhostPointsX=ShockEntropy2DGhostPointsX(γ,Δx,y,θ)"
   ]
  },
  {
   "cell_type": "code",
   "execution_count": 10,
   "metadata": {},
   "outputs": [],
   "source": [
    "with h5py.File(f\"data_init_shock_entropy.h5\", \"w\") as hf:\n",
    "    hf.create_dataset('U0',data=U0)\n",
    "    hf.create_dataset('γ',data=γ)\n",
    "    hf.create_dataset('θ',data=θ)\n",
    "    hf.create_dataset('x',data=x)\n",
    "    hf.create_dataset('y',data=y)\n",
    "    hf.create_dataset('Δ',data=Δ)\n",
    "    hf.create_dataset('cfl',data=cfl)"
   ]
  },
  {
   "cell_type": "code",
   "execution_count": 11,
   "metadata": {},
   "outputs": [],
   "source": [
    "WENO_Z_sim=simulation_2D(API_Numpy,\n",
    "                        euler_equation_2D,\n",
    "                        WENO_Z,\n",
    "                        ε=1e-40,\n",
    "                        γ=γ)"
   ]
  },
  {
   "cell_type": "code",
   "execution_count": 12,
   "metadata": {},
   "outputs": [],
   "source": [
    "teste_X=WENO_Z_sim.equation.DerivadaEspacialX(U0, Δ, GhostPointsX, t=None)\n",
    "teste_Y=WENO_Z_sim.equation.DerivadaEspacialY(U0, Δ, ShockEntropy2DGhostPointsY, t=None)"
   ]
  },
  {
   "cell_type": "code",
   "execution_count": 29,
   "metadata": {},
   "outputs": [],
   "source": [
    "Ord = 5 # The order of the scheme\n",
    "Q = GhostPointsX(U0,WENO_Z_sim.equation.API, t=0)\n",
    "\n",
    "#N = Q.shape[1]\n",
    "\n",
    "Qi=slicer_X(Q,6,WENO_Z_sim.equation.API)\n",
    "Qi=WENO_Z_sim.equation.API.einsum('...ijkl->...jkil',Qi)\n",
    "\n",
    "Λ = WENO_Z_sim.equation.EigenvaluesX(Qi)\n",
    "M = WENO_Z_sim.equation.API.max(WENO_Z_sim.equation.API.abs(Λ),axis=(-1,-2),keepdims=True)\n",
    "X_R, X_L = WENO_Z_sim.equation.EigensystemX(Qi)\n",
    "\n",
    "Qi_X=Qi.copy()\n",
    "Λ_X=Λ.copy()\n"
   ]
  },
  {
   "cell_type": "code",
   "execution_count": 30,
   "metadata": {},
   "outputs": [],
   "source": [
    "Ord = 5 # The order of the scheme\n",
    "Q = ShockEntropy2DGhostPointsY(U0,WENO_Z_sim.equation.API,t=0)\n",
    "\n",
    "#N = Q.shape[1]\n",
    "\n",
    "Qi=slicer_Y(Q,6,WENO_Z_sim.equation.API)\n",
    "Qi=WENO_Z_sim.equation.API.einsum('...ijkl->...jkil',Qi)\n",
    "\n",
    "Λ = WENO_Z_sim.equation.EigenvaluesY(Qi)\n",
    "M = WENO_Z_sim.equation.API.max(WENO_Z_sim.equation.API.abs(Λ),axis=(-1,-2),keepdims=True)\n",
    "Y_R, Y_L = WENO_Z_sim.equation.EigensystemY(Qi)\n",
    "\n",
    "Qj_Y=Qi.copy()\n",
    "Λ_Y=Λ.copy()"
   ]
  },
  {
   "cell_type": "code",
   "execution_count": 16,
   "metadata": {},
   "outputs": [],
   "source": [
    "P=WENO_Z_sim.equation.Pressure_2D(U0)"
   ]
  },
  {
   "cell_type": "code",
   "execution_count": 177,
   "metadata": {},
   "outputs": [
    {
     "data": {
      "text/plain": [
       "(20, 101)"
      ]
     },
     "execution_count": 177,
     "metadata": {},
     "output_type": "execute_result"
    }
   ],
   "source": [
    "P_julia.shape"
   ]
  },
  {
   "cell_type": "code",
   "execution_count": 182,
   "metadata": {},
   "outputs": [
    {
     "data": {
      "text/plain": [
       "(4, 101, 20)"
      ]
     },
     "execution_count": 182,
     "metadata": {},
     "output_type": "execute_result"
    }
   ],
   "source": [
    "U0.shape"
   ]
  },
  {
   "cell_type": "code",
   "execution_count": 19,
   "metadata": {},
   "outputs": [],
   "source": [
    "γ=WENO_Z_sim.equation.γ\n",
    "Q1,Q2,Q3,Q4=WENO_Z_sim.API.unstack(U0,axis=-3)\n",
    "\n",
    "a=WENO_Z_sim.equation.γ-1.0\n",
    "b=Q2**2+Q3**2\n",
    "c=2*Q1\n",
    "d=b/c\n",
    "e=Q4-d"
   ]
  },
  {
   "cell_type": "code",
   "execution_count": 193,
   "metadata": {},
   "outputs": [
    {
     "data": {
      "text/plain": [
       "1.6666666666666667"
      ]
     },
     "execution_count": 193,
     "metadata": {},
     "output_type": "execute_result"
    }
   ],
   "source": [
    "γ"
   ]
  },
  {
   "cell_type": "code",
   "execution_count": 191,
   "metadata": {},
   "outputs": [
    {
     "data": {
      "text/plain": [
       "0.0"
      ]
     },
     "execution_count": 191,
     "metadata": {},
     "output_type": "execute_result"
    }
   ],
   "source": [
    "np.max(np.abs(a*e-(γ-1)*(Q4 - (Q2**2+Q3**2) / Q1/2)))"
   ]
  },
  {
   "cell_type": "code",
   "execution_count": 188,
   "metadata": {},
   "outputs": [
    {
     "data": {
      "text/plain": [
       "array([[17.22222222, 17.22222222, 17.22222222, ..., 17.22222222,\n",
       "        17.22222222, 17.22222222],\n",
       "       [17.22222222, 17.22222222, 17.22222222, ..., 17.22222222,\n",
       "        17.22222222, 17.22222222],\n",
       "       [17.22222222, 17.22222222, 17.22222222, ..., 17.22222222,\n",
       "        17.22222222, 17.22222222],\n",
       "       ...,\n",
       "       [ 1.66666667,  1.66666667,  1.66666667, ...,  1.66666667,\n",
       "         1.66666667,  1.66666667],\n",
       "       [ 1.66666667,  1.66666667,  1.66666667, ...,  1.66666667,\n",
       "         1.66666667,  1.66666667],\n",
       "       [ 1.66666667,  1.66666667,  1.66666667, ...,  1.66666667,\n",
       "         1.66666667,  1.66666667]])"
      ]
     },
     "execution_count": 188,
     "metadata": {},
     "output_type": "execute_result"
    }
   ],
   "source": [
    "(γ-1)*(Q4 - (Q2**2+Q3**2)/Q1/2)"
   ]
  },
  {
   "cell_type": "code",
   "execution_count": 32,
   "metadata": {},
   "outputs": [
    {
     "data": {
      "text/plain": [
       "4.440892098500626e-16"
      ]
     },
     "execution_count": 32,
     "metadata": {},
     "output_type": "execute_result"
    }
   ],
   "source": [
    "np.max(np.abs(Λ_X-Λ_X_julia))"
   ]
  },
  {
   "cell_type": "code",
   "execution_count": 17,
   "metadata": {},
   "outputs": [],
   "source": [
    "transp=[0,1,3,2]\n",
    "with h5py.File(\"data_full_shock_entropy.h5\", \"r\") as hf:\n",
    "    Qi_X_julia=np.transpose(np.asarray(hf['Qi_X']).T,transp)\n",
    "    Qj_Y_julia=np.transpose(np.asarray(hf['Qj_Y']).T,transp)\n",
    "    Λ_X_julia=np.transpose(np.asarray(hf['Λ_X']).T,transp)\n",
    "    Λ_Y_julia=np.transpose(np.asarray(hf['Λ_Y']).T,transp)\n",
    "    X_R_julia=np.transpose(np.asarray(hf['X_r']).T,transp)\n",
    "    X_L_julia=np.transpose(np.asarray(hf['X_l']).T,transp)\n",
    "    Y_R_julia=np.transpose(np.asarray(hf['Y_r']).T,transp)\n",
    "    Y_L_julia=np.transpose(np.asarray(hf['Y_l']).T,transp)\n",
    "    P_julia=np.asarray(hf['P'])"
   ]
  },
  {
   "cell_type": "code",
   "execution_count": 41,
   "metadata": {},
   "outputs": [],
   "source": [
    "with h5py.File(\"data_full_shock_entropy.h5\", \"r\") as hf:\n",
    "    teste_X_julia=np.asarray(hf['FluxDerivativeX'])\n",
    "    teste_Y_julia=np.asarray(hf['FluxDerivativeY'])"
   ]
  },
  {
   "cell_type": "code",
   "execution_count": 51,
   "metadata": {},
   "outputs": [
    {
     "data": {
      "text/plain": [
       "(4, 20, 101)"
      ]
     },
     "execution_count": 51,
     "metadata": {},
     "output_type": "execute_result"
    }
   ],
   "source": [
    "teste_X_julia.shape"
   ]
  },
  {
   "cell_type": "code",
   "execution_count": 52,
   "metadata": {},
   "outputs": [
    {
     "data": {
      "text/plain": [
       "TensorShape([4, 101, 20])"
      ]
     },
     "execution_count": 52,
     "metadata": {},
     "output_type": "execute_result"
    }
   ],
   "source": [
    "teste_X.shape"
   ]
  },
  {
   "cell_type": "code",
   "execution_count": 49,
   "metadata": {},
   "outputs": [
    {
     "data": {
      "text/plain": [
       "(20, 4, 101)"
      ]
     },
     "execution_count": 49,
     "metadata": {},
     "output_type": "execute_result"
    }
   ],
   "source": [
    "np.transpose(teste_X_julia,[0,2,1]).shape"
   ]
  },
  {
   "cell_type": "code",
   "execution_count": null,
   "metadata": {},
   "outputs": [],
   "source": [
    "for i in range(100):\n",
    "    print(i)\n",
    "    print(np.min(np.abs(teste_X-np.transpose(teste_X_julia,[0,2,1]))[1,i,:]))"
   ]
  },
  {
   "cell_type": "code",
   "execution_count": 81,
   "metadata": {},
   "outputs": [
    {
     "data": {
      "image/png": "[encoded data removed]",
      "text/plain": [
       "<Figure size 432x288 with 2 Axes>"
      ]
     },
     "metadata": {
      "needs_background": "light"
     },
     "output_type": "display_data"
    }
   ],
   "source": [
    "plt.pcolormesh((teste_X-np.transpose(teste_X_julia,[0,2,1]))[1].numpy().T)\n",
    "plt.colorbar()\n",
    "plt.show()"
   ]
  },
  {
   "cell_type": "code",
   "execution_count": 12,
   "metadata": {},
   "outputs": [
    {
     "name": "stdout",
     "output_type": "stream",
     "text": [
      "[[[0.01]]]679]]]\r"
     ]
    }
   ],
   "source": [
    "t=0\n",
    "count=0\n",
    "U=U0.copy()\n",
    "while t<t_final:\n",
    "    Λ  = WENO_Z_sim.equation.maximum_speed(U)\n",
    "    Δt = Δ*cfl/Λ\n",
    "    Δt = np.where(t+Δt>t_final,t_final-t,Δt)\n",
    "\n",
    "    U=WENO_Z_sim.Sim_step(U, Δt, Δ, Δ, GhostPointsX, ShockEntropy2DGhostPointsY,NullForce)\n",
    "    t+=Δt\n",
    "    print(t,end='\\r')"
   ]
  },
  {
   "cell_type": "code",
   "execution_count": 14,
   "metadata": {},
   "outputs": [],
   "source": [
    "import h5py\n",
    "\n",
    "f = h5py.File(\"data_julia.jld\", \"r\")\n",
    "data_julia=np.asarray(f['data']).transpose((0,2,1))"
   ]
  },
  {
   "cell_type": "code",
   "execution_count": 19,
   "metadata": {},
   "outputs": [
    {
     "name": "stdout",
     "output_type": "stream",
     "text": [
      "5.743817249741721\n"
     ]
    }
   ],
   "source": [
    "ref_U=np.abs(U-data_julia)\n",
    "print(np.max(ref_U))"
   ]
  },
  {
   "cell_type": "code",
   "execution_count": 25,
   "metadata": {},
   "outputs": [
    {
     "name": "stdout",
     "output_type": "stream",
     "text": [
      "5.743817249741721\n"
     ]
    },
    {
     "data": {
      "image/png": "[encoded data removed]",
      "text/plain": [
       "<Figure size 576x1152 with 2 Axes>"
      ]
     },
     "metadata": {
      "needs_background": "light"
     },
     "output_type": "display_data"
    }
   ],
   "source": [
    "plt.figure(figsize=(8,16))\n",
    "t=3\n",
    "ref_U=np.abs(U[t]-data_julia[t])\n",
    "print(np.max(ref_U))\n",
    "a=plt.pcolormesh(ref_U.T,cmap='jet')\n",
    "plt.colorbar(a)\n",
    "plt.title('WENO-Z')\n",
    "plt.show()"
   ]
  },
  {
   "cell_type": "code",
   "execution_count": 8,
   "metadata": {},
   "outputs": [
    {
     "data": {
      "image/png": "[encoded data removed]",
      "text/plain": [
       "<Figure size 576x1152 with 2 Axes>"
      ]
     },
     "metadata": {
      "needs_background": "light"
     },
     "output_type": "display_data"
    }
   ],
   "source": [
    "plt.figure(figsize=(8,16))\n",
    "ref_U=U[0].numpy()\n",
    "a=plt.pcolormesh(x.T,y.T,ref_U.T,cmap='jet',vmin=0.75,vmax=4.75)\n",
    "plt.colorbar(a)\n",
    "plt.contour(x.T,y.T,ref_U.T,levels=15,vmin=0.75,vmax=4.75,colors='black',linewidths=0.5)\n",
    "plt.title('WENO-Z')\n",
    "plt.ylim((-1,1))\n",
    "plt.show()"
   ]
  },
  {
   "cell_type": "code",
   "execution_count": 47,
   "metadata": {},
   "outputs": [
    {
     "name": "stdout",
     "output_type": "stream",
     "text": [
      "[[[1.8]]]5315]]]\r"
     ]
    }
   ],
   "source": [
    "for WENO_type,name in zip([\n",
    "    WENO_Z_sim,\n",
    "    WENO_Zp_sim,\n",
    "    WENO_Z_MS_sim,\n",
    "    WENO_Zp_MS_sim,\n",
    "    WENO_Z_BI_sim,\n",
    "    WENO_ZC_MS_sim,\n",
    "    WENO_ZC_BI_sim\n",
    "    ],\n",
    "    [\n",
    "    'WENO-Z',\n",
    "    'WENO-Z+',\n",
    "    'WENO-Z (MS)',\n",
    "    'WENO-Z+ (MS)',\n",
    "    'WENO-Z (BI)',\n",
    "    'WENO-ZC (MS)',\n",
    "    'WENO-ZC (BI)'\n",
    "    ]):\n",
    "    U=U0.copy()\n",
    "    t=0\n",
    "    count=0\n",
    "    if not(os.path.isdir(f'imagens/shockdensity2D-{name}/')):\n",
    "            os.mkdir(f'imagens/shockdensity2D-{name}/')\n",
    "    if not(os.path.isdir(f'imagens/shockdensity2D-Zoom-{name}/')):\n",
    "            os.mkdir(f'imagens/shockdensity2D-Zoom-{name}/')\n",
    "    while t<t_final:\n",
    "        Λ  = WENO_type.equation.maximum_speed(U)\n",
    "        Δt = Δ*cfl/Λ\n",
    "        Δt = np.where(t+Δt>t_final,t_final-t,Δt)\n",
    "\n",
    "        U=WENO_type.Sim_step(U, Δt, Δ, Δ, ShockEntropy2DGhostPointsX, ShockEntropy2DGhostPointsY,NullForce)\n",
    "        t+=Δt\n",
    "        print(t,end='\\r')\n",
    "        plt.figure(figsize=(16,8))\n",
    "        ref_U=U[0].numpy()\n",
    "        a=plt.pcolormesh(x.T,y.T,ref_U.T,cmap='jet',vmin=0.75,vmax=4.75)\n",
    "        plt.colorbar(a)\n",
    "        plt.contour(x.T,y.T,ref_U.T,levels=15,vmin=0.75,vmax=4.75,colors='black',linewidths=0.5)\n",
    "        plt.title(name)\n",
    "        count+=1\n",
    "        plt.savefig(f'imagens/shockdensity2D-{name}/{count}.png')\n",
    "        plt.close()\n",
    "\n",
    "        plt.figure(figsize=(16,8))\n",
    "        ref_U=U[0].numpy()\n",
    "        a=plt.pcolormesh(x.T,y.T,ref_U.T,cmap='jet',vmin=0.75,vmax=4.75)\n",
    "        plt.colorbar(a)\n",
    "        plt.contour(x.T,y.T,ref_U.T,levels=15,vmin=0.75,vmax=4.75,colors='black',linewidths=0.5)\n",
    "        plt.title(name)\n",
    "        count+=1\n",
    "        plt.savefig(f'imagens/shockdensity2D-Zoom-{name}/{count}.png')\n",
    "        plt.close()\n",
    "\n",
    "    with open(name+'.bkp','wb') as file:\n",
    "        dill.dump(U,file)\n",
    "\n",
    "    plt.figure(figsize=(16,8))\n",
    "    ref_U=U[0].numpy()\n",
    "    a=plt.pcolormesh(x.T,y.T,ref_U.T,cmap='jet',vmin=0.75,vmax=4.75)\n",
    "    plt.colorbar(a)\n",
    "    plt.contour(x.T,y.T,ref_U.T,levels=15,vmin=0.75,vmax=4.75,colors='black',linewidths=0.5)\n",
    "    plt.title(name)\n",
    "    #plt.xlim((0,3))\n",
    "    plt.savefig('shockdensity2D'+name+'.png')\n",
    "    plt.close()\n",
    "\n",
    "    plt.figure(figsize=(16,8))\n",
    "    ref_U=U[0].numpy()\n",
    "    a=plt.pcolormesh(x.T,y.T,ref_U.T,cmap='jet',vmin=0.75,vmax=4.75)\n",
    "    plt.colorbar(a)\n",
    "    plt.contour(x.T,y.T,ref_U.T,levels=15,vmin=0.75,vmax=4.75,colors='black',linewidths=0.5)\n",
    "    plt.title(name)\n",
    "    plt.xlim((0,3))\n",
    "    plt.savefig('shockdensity2D-zoom'+name+'.png')\n",
    "    plt.close()"
   ]
  },
  {
   "cell_type": "code",
   "execution_count": 44,
   "metadata": {},
   "outputs": [],
   "source": [
    "for WENO_type,name in zip([\n",
    "    WENO_Z_sim,\n",
    "    WENO_Zp_sim,\n",
    "    WENO_Z_MS_sim,\n",
    "    WENO_Zp_MS_sim,\n",
    "    WENO_Z_BI_sim,\n",
    "    WENO_ZC_MS_sim,\n",
    "    WENO_ZC_BI_sim\n",
    "    ],\n",
    "    [\n",
    "    'WENO-Z',\n",
    "    'WENO-Z+',\n",
    "    'WENO-Z (MS)',\n",
    "    'WENO-Z+ (MS)',\n",
    "    'WENO-Z (BI)',\n",
    "    'WENO-ZC (MS)',\n",
    "    'WENO-ZC (BI)'\n",
    "    ]):\n",
    "    U=U0.copy()\n",
    "    t=0\n",
    "    count=0\n",
    "\n",
    "    with open(name+'.bkp','rb') as file:\n",
    "        U=dill.load(file)\n",
    "\n",
    "    plt.figure(figsize=(16,8))\n",
    "    ref_U=U[0].numpy()\n",
    "    a=plt.pcolormesh(x.T,y.T,ref_U.T,cmap='jet',vmin=0.75,vmax=4.75)\n",
    "    plt.colorbar(a)\n",
    "    plt.contour(x.T,y.T,ref_U.T,levels=15,vmin=0.75,vmax=4.75,colors='black',linewidths=0.5)\n",
    "    plt.title(name)\n",
    "    #plt.xlim((0,3))\n",
    "    plt.savefig('shockdensity2D'+name+'.png')\n",
    "    plt.close()"
   ]
  },
  {
   "cell_type": "code",
   "execution_count": 18,
   "metadata": {},
   "outputs": [
    {
     "data": {
      "text/plain": [
       "0.7887306367423698"
      ]
     },
     "execution_count": 18,
     "metadata": {},
     "output_type": "execute_result"
    }
   ],
   "source": [
    "API_Numpy.min(ref_U)"
   ]
  }
 ],
 "metadata": {
  "kernelspec": {
   "display_name": "Python 3.8.10 ('base')",
   "language": "python",
   "name": "python3"
  },
  "language_info": {
   "codemirror_mode": {
    "name": "ipython",
    "version": 3
   },
   "file_extension": ".py",
   "mimetype": "text/x-python",
   "name": "python",
   "nbconvert_exporter": "python",
   "pygments_lexer": "ipython3",
   "version": "3.8.10"
  },
  "orig_nbformat": 4,
  "vscode": {
   "interpreter": {
    "hash": "19d1d53a962d236aa061289c2ac16dc8e6d9648c89fe79f459ae9a3493bc67b4"
   }
  }
 },
 "nbformat": 4,
 "nbformat_minor": 2
}
